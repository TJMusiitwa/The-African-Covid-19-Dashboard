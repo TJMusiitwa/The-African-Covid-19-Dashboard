{
 "nbformat": 4,
 "nbformat_minor": 2,
 "metadata": {
  "language_info": {
   "name": "python",
   "codemirror_mode": {
    "name": "ipython",
    "version": 3
   },
   "version": "3.7.3-final"
  },
  "orig_nbformat": 2,
  "file_extension": ".py",
  "mimetype": "text/x-python",
  "name": "python",
  "npconvert_exporter": "python",
  "pygments_lexer": "ipython3",
  "version": 3,
  "kernelspec": {
   "name": "python37364bitgloriavirtualenva74d9bd000af41f6b62be7a6f2a88412",
   "display_name": "Python 3.7.3 64-bit ('Gloria': virtualenv)"
  }
 },
 "cells": [
  {
   "cell_type": "code",
   "execution_count": 1,
   "metadata": {},
   "outputs": [
    {
     "output_type": "display_data",
     "data": {
      "text/html": "        <script type=\"text/javascript\">\n        window.PlotlyConfig = {MathJaxConfig: 'local'};\n        if (window.MathJax) {MathJax.Hub.Config({SVG: {font: \"STIX-Web\"}});}\n        if (typeof require !== 'undefined') {\n        require.undef(\"plotly\");\n        requirejs.config({\n            paths: {\n                'plotly': ['https://cdn.plot.ly/plotly-latest.min']\n            }\n        });\n        require(['plotly'], function(Plotly) {\n            window._Plotly = Plotly;\n        });\n        }\n        </script>\n        "
     },
     "metadata": {}
    }
   ],
   "source": [
    "import pandas as pd\n",
    "import numpy as np\n",
    "from datetime import date,timedelta \n",
    "from fbprophet import Prophet  \n",
    "\n",
    "import plotly.graph_objects as go \n",
    "import plotly.express as px \n",
    "from plotly.offline import iplot, init_notebook_mode\n",
    "\n",
    "init_notebook_mode(connected=True)"
   ]
  },
  {
   "cell_type": "code",
   "execution_count": null,
   "metadata": {},
   "outputs": [],
   "source": [
    "# confirmed_url = 'https://raw.githubusercontent.com/CSSEGISandData/COVID-19/master/csse_covid_19_data/csse_covid_19_time_series/time_series_covid19_confirmed_global.csv'\n",
    "# confirmed = pd.read_csv(confirmed_url, sep=',')"
   ]
  },
  {
   "cell_type": "code",
   "execution_count": null,
   "metadata": {},
   "outputs": [],
   "source": [
    "# recovered_url = 'https://raw.githubusercontent.com/CSSEGISandData/COVID-19/master/csse_covid_19_data/csse_covid_19_time_series/time_series_covid19_recovered_global.csv'\n",
    "# recovered = pd.read_csv(recovered_url, sep=',',parse_dates=True)"
   ]
  },
  {
   "cell_type": "code",
   "execution_count": null,
   "metadata": {},
   "outputs": [],
   "source": [
    "# deaths_url = 'https://raw.githubusercontent.com/CSSEGISandData/COVID-19/master/csse_covid_19_data/csse_covid_19_time_series/time_series_covid19_deaths_global.csv'\n",
    "# deaths = pd.read_csv(deaths_url, sep=',',parse_dates=True)\n",
    "# deaths.head() "
   ]
  },
  {
   "cell_type": "code",
   "execution_count": 2,
   "metadata": {},
   "outputs": [
    {
     "output_type": "execute_result",
     "data": {
      "text/plain": "         date Country/Region  Confirmed  Deaths  Recovered  Latitude  \\\n0  2020-01-27    Ivory Coast          1       0          0       NaN   \n1  2020-02-14          Egypt          1       0          0       NaN   \n2  2020-02-15          Egypt          1       0          0       NaN   \n3  2020-02-16          Egypt          1       0          0       NaN   \n4  2020-02-17          Egypt          1       0          0       NaN   \n\n   Longitude  Active  \n0        NaN       1  \n1        NaN       1  \n2        NaN       1  \n3        NaN       1  \n4        NaN       1  ",
      "text/html": "<div>\n<style scoped>\n    .dataframe tbody tr th:only-of-type {\n        vertical-align: middle;\n    }\n\n    .dataframe tbody tr th {\n        vertical-align: top;\n    }\n\n    .dataframe thead th {\n        text-align: right;\n    }\n</style>\n<table border=\"1\" class=\"dataframe\">\n  <thead>\n    <tr style=\"text-align: right;\">\n      <th></th>\n      <th>date</th>\n      <th>Country/Region</th>\n      <th>Confirmed</th>\n      <th>Deaths</th>\n      <th>Recovered</th>\n      <th>Latitude</th>\n      <th>Longitude</th>\n      <th>Active</th>\n    </tr>\n  </thead>\n  <tbody>\n    <tr>\n      <th>0</th>\n      <td>2020-01-27</td>\n      <td>Ivory Coast</td>\n      <td>1</td>\n      <td>0</td>\n      <td>0</td>\n      <td>NaN</td>\n      <td>NaN</td>\n      <td>1</td>\n    </tr>\n    <tr>\n      <th>1</th>\n      <td>2020-02-14</td>\n      <td>Egypt</td>\n      <td>1</td>\n      <td>0</td>\n      <td>0</td>\n      <td>NaN</td>\n      <td>NaN</td>\n      <td>1</td>\n    </tr>\n    <tr>\n      <th>2</th>\n      <td>2020-02-15</td>\n      <td>Egypt</td>\n      <td>1</td>\n      <td>0</td>\n      <td>0</td>\n      <td>NaN</td>\n      <td>NaN</td>\n      <td>1</td>\n    </tr>\n    <tr>\n      <th>3</th>\n      <td>2020-02-16</td>\n      <td>Egypt</td>\n      <td>1</td>\n      <td>0</td>\n      <td>0</td>\n      <td>NaN</td>\n      <td>NaN</td>\n      <td>1</td>\n    </tr>\n    <tr>\n      <th>4</th>\n      <td>2020-02-17</td>\n      <td>Egypt</td>\n      <td>1</td>\n      <td>0</td>\n      <td>0</td>\n      <td>NaN</td>\n      <td>NaN</td>\n      <td>1</td>\n    </tr>\n  </tbody>\n</table>\n</div>"
     },
     "metadata": {},
     "execution_count": 2
    }
   ],
   "source": [
    "df = pd.read_csv('africa_data.csv')\n",
    "df.head()"
   ]
  },
  {
   "cell_type": "code",
   "execution_count": 3,
   "metadata": {},
   "outputs": [
    {
     "output_type": "execute_result",
     "data": {
      "text/plain": "           date    Country/Region  Confirmed  Deaths  Recovered  Active\n116  2020-03-12  Congo (Kinshasa)          1       0          0       1\n591  2020-03-26           Morocco        275      11          8     256\n535  2020-03-25            Gambia          3       1          0       2\n406  2020-03-22          Tanzania         12       0          0      12\n820  2020-03-31        Mozambique          8       0          0       8",
      "text/html": "<div>\n<style scoped>\n    .dataframe tbody tr th:only-of-type {\n        vertical-align: middle;\n    }\n\n    .dataframe tbody tr th {\n        vertical-align: top;\n    }\n\n    .dataframe thead th {\n        text-align: right;\n    }\n</style>\n<table border=\"1\" class=\"dataframe\">\n  <thead>\n    <tr style=\"text-align: right;\">\n      <th></th>\n      <th>date</th>\n      <th>Country/Region</th>\n      <th>Confirmed</th>\n      <th>Deaths</th>\n      <th>Recovered</th>\n      <th>Active</th>\n    </tr>\n  </thead>\n  <tbody>\n    <tr>\n      <th>116</th>\n      <td>2020-03-12</td>\n      <td>Congo (Kinshasa)</td>\n      <td>1</td>\n      <td>0</td>\n      <td>0</td>\n      <td>1</td>\n    </tr>\n    <tr>\n      <th>591</th>\n      <td>2020-03-26</td>\n      <td>Morocco</td>\n      <td>275</td>\n      <td>11</td>\n      <td>8</td>\n      <td>256</td>\n    </tr>\n    <tr>\n      <th>535</th>\n      <td>2020-03-25</td>\n      <td>Gambia</td>\n      <td>3</td>\n      <td>1</td>\n      <td>0</td>\n      <td>2</td>\n    </tr>\n    <tr>\n      <th>406</th>\n      <td>2020-03-22</td>\n      <td>Tanzania</td>\n      <td>12</td>\n      <td>0</td>\n      <td>0</td>\n      <td>12</td>\n    </tr>\n    <tr>\n      <th>820</th>\n      <td>2020-03-31</td>\n      <td>Mozambique</td>\n      <td>8</td>\n      <td>0</td>\n      <td>0</td>\n      <td>8</td>\n    </tr>\n  </tbody>\n</table>\n</div>"
     },
     "metadata": {},
     "execution_count": 3
    }
   ],
   "source": [
    "df.drop(['Latitude', 'Longitude'], axis=1, inplace=True)\n",
    "df.sample(5)"
   ]
  },
  {
   "cell_type": "code",
   "execution_count": 4,
   "metadata": {},
   "outputs": [
    {
     "output_type": "stream",
     "name": "stdout",
     "text": "<class 'pandas.core.frame.DataFrame'>\nRangeIndex: 885 entries, 0 to 884\nData columns (total 6 columns):\ndate              885 non-null datetime64[ns]\nCountry/Region    885 non-null object\nConfirmed         885 non-null int64\nDeaths            885 non-null int64\nRecovered         885 non-null int64\nActive            885 non-null int64\ndtypes: datetime64[ns](1), int64(4), object(1)\nmemory usage: 41.6+ KB\n"
    }
   ],
   "source": [
    "df['date'] = pd.to_datetime(df['date'])\n",
    "df.info()"
   ]
  },
  {
   "cell_type": "code",
   "execution_count": null,
   "metadata": {},
   "outputs": [],
   "source": [
    "# Split the dataset\n",
    "deaths = df[['date', 'Deaths']]\n",
    "active = df[['date', 'Active']]\n",
    "recovered = df[['date', 'Recovered']]\n",
    "confirmed = df[['date', 'Confirmed']]"
   ]
  },
  {
   "cell_type": "code",
   "execution_count": null,
   "metadata": {},
   "outputs": [],
   "source": [
    "#Then re-name the columns to conform to Prophet's needs\n",
    "deaths.rename(columns={'date':'ds', 'Deaths':'y'}, inplace=True)\n",
    "active.rename(columns={'date':'ds', 'Active':'y'}, inplace=True)\n",
    "recovered.rename(columns={'date':'ds', 'Recovered':'y'}, inplace=True)\n",
    "confirmed.rename(columns={'date':'ds', 'Confirmed':'y'}, inplace=True)"
   ]
  },
  {
   "cell_type": "code",
   "execution_count": null,
   "metadata": {},
   "outputs": [],
   "source": [
    "active.head()"
   ]
  },
  {
   "cell_type": "code",
   "execution_count": null,
   "metadata": {},
   "outputs": [],
   "source": [
    "# Fit Prophet\n",
    "death_prophet = Prophet().fit(deaths)\n",
    "active_prophet = Prophet().fit(active)\n",
    "recovered_prophet = Prophet().fit(recovered)\n",
    "confirmed_prophet = Prophet().fit(confirmed)"
   ]
  },
  {
   "cell_type": "code",
   "execution_count": null,
   "metadata": {},
   "outputs": [],
   "source": [
    "future_deaths = death_prophet.make_future_dataframe(periods=150)\n",
    "future_active = active_prophet.make_future_dataframe(periods=150)\n",
    "future_recovered = recovered_prophet.make_future_dataframe(periods=150)\n",
    "future_confirmed = confirmed_prophet.make_future_dataframe(periods=150)"
   ]
  },
  {
   "cell_type": "code",
   "execution_count": null,
   "metadata": {},
   "outputs": [],
   "source": [
    "#Forecast the respective key features\n",
    "death_forecast = death_prophet.predict(future_deaths)\n",
    "active_forecast = active_prophet.predict(future_active)\n",
    "recovered_forecast = recovered_prophet.predict(future_recovered)\n",
    "confirmed_forecast = confirmed_prophet.predict(future_confirmed)"
   ]
  },
  {
   "cell_type": "code",
   "execution_count": null,
   "metadata": {},
   "outputs": [],
   "source": [
    "active_prophet.plot(active_forecast)"
   ]
  },
  {
   "cell_type": "code",
   "execution_count": null,
   "metadata": {},
   "outputs": [],
   "source": [
    "#Plot the graphs\n",
    "from fbprophet.plot import plot_plotly\n",
    "import plotly.offline as py\n",
    "py.init_notebook_mode()"
   ]
  },
  {
   "cell_type": "code",
   "execution_count": null,
   "metadata": {},
   "outputs": [],
   "source": [
    "active_fig = plot_plotly(active_prophet, active_forecast,trend=True)  # This returns a plotly Figure\n",
    "py.iplot(active_fig)"
   ]
  },
  {
   "cell_type": "code",
   "execution_count": null,
   "metadata": {},
   "outputs": [],
   "source": [
    "#Remerge all the files\n",
    "active_forecast.tail()"
   ]
  },
  {
   "cell_type": "code",
   "execution_count": null,
   "metadata": {},
   "outputs": [],
   "source": []
  }
 ]
}