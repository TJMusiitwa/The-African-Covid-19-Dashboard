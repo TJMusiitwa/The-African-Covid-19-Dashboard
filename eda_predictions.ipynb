{
 "nbformat": 4,
 "nbformat_minor": 2,
 "metadata": {
  "language_info": {
   "name": "python",
   "codemirror_mode": {
    "name": "ipython",
    "version": 3
   },
   "version": "3.7.3-final"
  },
  "orig_nbformat": 2,
  "file_extension": ".py",
  "mimetype": "text/x-python",
  "name": "python",
  "npconvert_exporter": "python",
  "pygments_lexer": "ipython3",
  "version": 3,
  "kernelspec": {
   "name": "python37364bitgloriavirtualenva74d9bd000af41f6b62be7a6f2a88412",
   "display_name": "Python 3.7.3 64-bit ('Gloria': virtualenv)"
  }
 },
 "cells": [
  {
   "cell_type": "code",
   "execution_count": 67,
   "metadata": {},
   "outputs": [],
   "source": [
    "import plotly\n",
    "import plotly.express as px\n",
    "import plotly.graph_objects as go\n",
    "from fbprophet import Prophet\n",
    "import pandas as pd \n",
    "from fbprophet.plot import plot_plotly, plot_forecast_component_plotly,plot_cross_validation_metric\n",
    "import numpy as np\n",
    "from fbprophet.diagnostics import cross_validation,performance_metrics\n",
    "import matplotlib.pyplot as plt\n",
    "from scipy.integrate import odeint"
   ]
  },
  {
   "cell_type": "code",
   "execution_count": 2,
   "metadata": {},
   "outputs": [],
   "source": [
    "af = pd.read_csv('africa_data.csv')"
   ]
  },
  {
   "cell_type": "code",
   "execution_count": 3,
   "metadata": {},
   "outputs": [
    {
     "output_type": "execute_result",
     "data": {
      "text/plain": "         Confirmed       Deaths  ...    Longitude       Active\ncount  2204.000000  2204.000000  ...  2180.000000  2204.000000\nmean    228.401089    11.087568  ...    16.386379   168.215971\nstd     584.578171    43.004904  ...    19.763681   414.688607\nmin       0.000000     0.000000  ...   -23.041800     0.000000\n25%       6.000000     0.000000  ...     0.824800     5.000000\n50%      26.000000     1.000000  ...    17.228331    21.000000\n75%     139.250000     4.000000  ...    31.307000   109.250000\nmax    4793.000000   432.000000  ...    57.552200  3311.000000\n\n[8 rows x 6 columns]",
      "text/html": "<div>\n<style scoped>\n    .dataframe tbody tr th:only-of-type {\n        vertical-align: middle;\n    }\n\n    .dataframe tbody tr th {\n        vertical-align: top;\n    }\n\n    .dataframe thead th {\n        text-align: right;\n    }\n</style>\n<table border=\"1\" class=\"dataframe\">\n  <thead>\n    <tr style=\"text-align: right;\">\n      <th></th>\n      <th>Confirmed</th>\n      <th>Deaths</th>\n      <th>Recovered</th>\n      <th>Latitude</th>\n      <th>Longitude</th>\n      <th>Active</th>\n    </tr>\n  </thead>\n  <tbody>\n    <tr>\n      <th>count</th>\n      <td>2204.000000</td>\n      <td>2204.000000</td>\n      <td>2204.000000</td>\n      <td>2180.000000</td>\n      <td>2180.000000</td>\n      <td>2204.000000</td>\n    </tr>\n    <tr>\n      <th>mean</th>\n      <td>228.401089</td>\n      <td>11.087568</td>\n      <td>49.097550</td>\n      <td>4.359782</td>\n      <td>16.386379</td>\n      <td>168.215971</td>\n    </tr>\n    <tr>\n      <th>std</th>\n      <td>584.578171</td>\n      <td>43.004904</td>\n      <td>163.862702</td>\n      <td>15.722826</td>\n      <td>19.763681</td>\n      <td>414.688607</td>\n    </tr>\n    <tr>\n      <th>min</th>\n      <td>0.000000</td>\n      <td>0.000000</td>\n      <td>0.000000</td>\n      <td>-30.559500</td>\n      <td>-23.041800</td>\n      <td>0.000000</td>\n    </tr>\n    <tr>\n      <th>25%</th>\n      <td>6.000000</td>\n      <td>0.000000</td>\n      <td>0.000000</td>\n      <td>-4.322447</td>\n      <td>0.824800</td>\n      <td>5.000000</td>\n    </tr>\n    <tr>\n      <th>50%</th>\n      <td>26.000000</td>\n      <td>1.000000</td>\n      <td>2.000000</td>\n      <td>6.877000</td>\n      <td>17.228331</td>\n      <td>21.000000</td>\n    </tr>\n    <tr>\n      <th>75%</th>\n      <td>139.250000</td>\n      <td>4.000000</td>\n      <td>18.000000</td>\n      <td>14.497400</td>\n      <td>31.307000</td>\n      <td>109.250000</td>\n    </tr>\n    <tr>\n      <th>max</th>\n      <td>4793.000000</td>\n      <td>432.000000</td>\n      <td>1558.000000</td>\n      <td>34.000000</td>\n      <td>57.552200</td>\n      <td>3311.000000</td>\n    </tr>\n  </tbody>\n</table>\n</div>"
     },
     "metadata": {},
     "execution_count": 3
    }
   ],
   "source": [
    "af.describe()"
   ]
  },
  {
   "cell_type": "code",
   "execution_count": 4,
   "metadata": {},
   "outputs": [
    {
     "output_type": "stream",
     "name": "stdout",
     "text": "<class 'pandas.core.frame.DataFrame'>\nRangeIndex: 2204 entries, 0 to 2203\nData columns (total 8 columns):\ndate              2204 non-null object\nCountry/Region    2204 non-null object\nConfirmed         2204 non-null int64\nDeaths            2204 non-null int64\nRecovered         2204 non-null int64\nLatitude          2180 non-null float64\nLongitude         2180 non-null float64\nActive            2204 non-null int64\ndtypes: float64(2), int64(4), object(2)\nmemory usage: 137.8+ KB\n"
    }
   ],
   "source": [
    "af.info()"
   ]
  },
  {
   "cell_type": "code",
   "execution_count": 5,
   "metadata": {},
   "outputs": [
    {
     "output_type": "execute_result",
     "data": {
      "text/plain": "          date Country/Region  Confirmed  ...  Latitude  Longitude  Active\n0   2020-01-27    Ivory Coast          1  ...       NaN        NaN       1\n1   2020-02-14          Egypt          1  ...       NaN        NaN       1\n2   2020-02-15          Egypt          1  ...       NaN        NaN       1\n3   2020-02-16          Egypt          1  ...       NaN        NaN       1\n4   2020-02-17          Egypt          1  ...       NaN        NaN       1\n5   2020-02-18          Egypt          1  ...       NaN        NaN       1\n6   2020-02-19          Egypt          1  ...       NaN        NaN       1\n7   2020-02-20          Egypt          1  ...       NaN        NaN       1\n8   2020-02-21          Egypt          1  ...       NaN        NaN       1\n9   2020-02-22          Egypt          1  ...       NaN        NaN       1\n10  2020-02-23          Egypt          1  ...       NaN        NaN       1\n11  2020-02-24          Egypt          1  ...       NaN        NaN       1\n12  2020-02-25        Algeria          1  ...       NaN        NaN       1\n13  2020-02-25          Egypt          1  ...       NaN        NaN       1\n14  2020-02-26        Algeria          1  ...       NaN        NaN       1\n15  2020-02-26          Egypt          1  ...       NaN        NaN       1\n16  2020-02-27        Algeria          1  ...       NaN        NaN       1\n17  2020-02-27          Egypt          1  ...       NaN        NaN       1\n18  2020-02-28        Algeria          1  ...       NaN        NaN       1\n19  2020-02-28          Egypt          1  ...       NaN        NaN       0\n20  2020-02-28        Nigeria          1  ...       NaN        NaN       1\n21  2020-02-29        Algeria          1  ...       NaN        NaN       1\n22  2020-02-29          Egypt          1  ...       NaN        NaN       0\n23  2020-02-29        Nigeria          1  ...       NaN        NaN       1\n\n[24 rows x 8 columns]",
      "text/html": "<div>\n<style scoped>\n    .dataframe tbody tr th:only-of-type {\n        vertical-align: middle;\n    }\n\n    .dataframe tbody tr th {\n        vertical-align: top;\n    }\n\n    .dataframe thead th {\n        text-align: right;\n    }\n</style>\n<table border=\"1\" class=\"dataframe\">\n  <thead>\n    <tr style=\"text-align: right;\">\n      <th></th>\n      <th>date</th>\n      <th>Country/Region</th>\n      <th>Confirmed</th>\n      <th>Deaths</th>\n      <th>Recovered</th>\n      <th>Latitude</th>\n      <th>Longitude</th>\n      <th>Active</th>\n    </tr>\n  </thead>\n  <tbody>\n    <tr>\n      <th>0</th>\n      <td>2020-01-27</td>\n      <td>Ivory Coast</td>\n      <td>1</td>\n      <td>0</td>\n      <td>0</td>\n      <td>NaN</td>\n      <td>NaN</td>\n      <td>1</td>\n    </tr>\n    <tr>\n      <th>1</th>\n      <td>2020-02-14</td>\n      <td>Egypt</td>\n      <td>1</td>\n      <td>0</td>\n      <td>0</td>\n      <td>NaN</td>\n      <td>NaN</td>\n      <td>1</td>\n    </tr>\n    <tr>\n      <th>2</th>\n      <td>2020-02-15</td>\n      <td>Egypt</td>\n      <td>1</td>\n      <td>0</td>\n      <td>0</td>\n      <td>NaN</td>\n      <td>NaN</td>\n      <td>1</td>\n    </tr>\n    <tr>\n      <th>3</th>\n      <td>2020-02-16</td>\n      <td>Egypt</td>\n      <td>1</td>\n      <td>0</td>\n      <td>0</td>\n      <td>NaN</td>\n      <td>NaN</td>\n      <td>1</td>\n    </tr>\n    <tr>\n      <th>4</th>\n      <td>2020-02-17</td>\n      <td>Egypt</td>\n      <td>1</td>\n      <td>0</td>\n      <td>0</td>\n      <td>NaN</td>\n      <td>NaN</td>\n      <td>1</td>\n    </tr>\n    <tr>\n      <th>5</th>\n      <td>2020-02-18</td>\n      <td>Egypt</td>\n      <td>1</td>\n      <td>0</td>\n      <td>0</td>\n      <td>NaN</td>\n      <td>NaN</td>\n      <td>1</td>\n    </tr>\n    <tr>\n      <th>6</th>\n      <td>2020-02-19</td>\n      <td>Egypt</td>\n      <td>1</td>\n      <td>0</td>\n      <td>0</td>\n      <td>NaN</td>\n      <td>NaN</td>\n      <td>1</td>\n    </tr>\n    <tr>\n      <th>7</th>\n      <td>2020-02-20</td>\n      <td>Egypt</td>\n      <td>1</td>\n      <td>0</td>\n      <td>0</td>\n      <td>NaN</td>\n      <td>NaN</td>\n      <td>1</td>\n    </tr>\n    <tr>\n      <th>8</th>\n      <td>2020-02-21</td>\n      <td>Egypt</td>\n      <td>1</td>\n      <td>0</td>\n      <td>0</td>\n      <td>NaN</td>\n      <td>NaN</td>\n      <td>1</td>\n    </tr>\n    <tr>\n      <th>9</th>\n      <td>2020-02-22</td>\n      <td>Egypt</td>\n      <td>1</td>\n      <td>0</td>\n      <td>0</td>\n      <td>NaN</td>\n      <td>NaN</td>\n      <td>1</td>\n    </tr>\n    <tr>\n      <th>10</th>\n      <td>2020-02-23</td>\n      <td>Egypt</td>\n      <td>1</td>\n      <td>0</td>\n      <td>0</td>\n      <td>NaN</td>\n      <td>NaN</td>\n      <td>1</td>\n    </tr>\n    <tr>\n      <th>11</th>\n      <td>2020-02-24</td>\n      <td>Egypt</td>\n      <td>1</td>\n      <td>0</td>\n      <td>0</td>\n      <td>NaN</td>\n      <td>NaN</td>\n      <td>1</td>\n    </tr>\n    <tr>\n      <th>12</th>\n      <td>2020-02-25</td>\n      <td>Algeria</td>\n      <td>1</td>\n      <td>0</td>\n      <td>0</td>\n      <td>NaN</td>\n      <td>NaN</td>\n      <td>1</td>\n    </tr>\n    <tr>\n      <th>13</th>\n      <td>2020-02-25</td>\n      <td>Egypt</td>\n      <td>1</td>\n      <td>0</td>\n      <td>0</td>\n      <td>NaN</td>\n      <td>NaN</td>\n      <td>1</td>\n    </tr>\n    <tr>\n      <th>14</th>\n      <td>2020-02-26</td>\n      <td>Algeria</td>\n      <td>1</td>\n      <td>0</td>\n      <td>0</td>\n      <td>NaN</td>\n      <td>NaN</td>\n      <td>1</td>\n    </tr>\n    <tr>\n      <th>15</th>\n      <td>2020-02-26</td>\n      <td>Egypt</td>\n      <td>1</td>\n      <td>0</td>\n      <td>0</td>\n      <td>NaN</td>\n      <td>NaN</td>\n      <td>1</td>\n    </tr>\n    <tr>\n      <th>16</th>\n      <td>2020-02-27</td>\n      <td>Algeria</td>\n      <td>1</td>\n      <td>0</td>\n      <td>0</td>\n      <td>NaN</td>\n      <td>NaN</td>\n      <td>1</td>\n    </tr>\n    <tr>\n      <th>17</th>\n      <td>2020-02-27</td>\n      <td>Egypt</td>\n      <td>1</td>\n      <td>0</td>\n      <td>0</td>\n      <td>NaN</td>\n      <td>NaN</td>\n      <td>1</td>\n    </tr>\n    <tr>\n      <th>18</th>\n      <td>2020-02-28</td>\n      <td>Algeria</td>\n      <td>1</td>\n      <td>0</td>\n      <td>0</td>\n      <td>NaN</td>\n      <td>NaN</td>\n      <td>1</td>\n    </tr>\n    <tr>\n      <th>19</th>\n      <td>2020-02-28</td>\n      <td>Egypt</td>\n      <td>1</td>\n      <td>0</td>\n      <td>1</td>\n      <td>NaN</td>\n      <td>NaN</td>\n      <td>0</td>\n    </tr>\n    <tr>\n      <th>20</th>\n      <td>2020-02-28</td>\n      <td>Nigeria</td>\n      <td>1</td>\n      <td>0</td>\n      <td>0</td>\n      <td>NaN</td>\n      <td>NaN</td>\n      <td>1</td>\n    </tr>\n    <tr>\n      <th>21</th>\n      <td>2020-02-29</td>\n      <td>Algeria</td>\n      <td>1</td>\n      <td>0</td>\n      <td>0</td>\n      <td>NaN</td>\n      <td>NaN</td>\n      <td>1</td>\n    </tr>\n    <tr>\n      <th>22</th>\n      <td>2020-02-29</td>\n      <td>Egypt</td>\n      <td>1</td>\n      <td>0</td>\n      <td>1</td>\n      <td>NaN</td>\n      <td>NaN</td>\n      <td>0</td>\n    </tr>\n    <tr>\n      <th>23</th>\n      <td>2020-02-29</td>\n      <td>Nigeria</td>\n      <td>1</td>\n      <td>0</td>\n      <td>0</td>\n      <td>NaN</td>\n      <td>NaN</td>\n      <td>1</td>\n    </tr>\n  </tbody>\n</table>\n</div>"
     },
     "metadata": {},
     "execution_count": 5
    }
   ],
   "source": [
    "af[af.isnull().any(axis=1)]"
   ]
  },
  {
   "cell_type": "code",
   "execution_count": 6,
   "metadata": {},
   "outputs": [],
   "source": [
    "af['date'] = pd.to_datetime(af.date)"
   ]
  },
  {
   "cell_type": "code",
   "execution_count": 7,
   "metadata": {},
   "outputs": [
    {
     "output_type": "stream",
     "name": "stdout",
     "text": "<class 'pandas.core.frame.DataFrame'>\nRangeIndex: 2204 entries, 0 to 2203\nData columns (total 8 columns):\ndate              2204 non-null datetime64[ns]\nCountry/Region    2204 non-null object\nConfirmed         2204 non-null int64\nDeaths            2204 non-null int64\nRecovered         2204 non-null int64\nLatitude          2180 non-null float64\nLongitude         2180 non-null float64\nActive            2204 non-null int64\ndtypes: datetime64[ns](1), float64(2), int64(4), object(1)\nmemory usage: 137.8+ KB\n"
    }
   ],
   "source": [
    "af.info()"
   ]
  },
  {
   "cell_type": "code",
   "execution_count": 8,
   "metadata": {},
   "outputs": [
    {
     "output_type": "display_data",
     "data": {
      "application/vnd.plotly.v1+json": {
       "config": {
        "plotlyServerURL": "https://plot.ly"
       },
       "data": [
        {
         "alignmentgroup": "True",
         "customdata": [
          [
           "Ivory Coast",
           0,
           0
          ]
         ],
         "hoverlabel": {
          "namelength": 0
         },
         "hovertemplate": "Country/Region=%{customdata[0]}<br>date=%{x}<br>Confirmed=%{y}<br>Deaths=%{customdata[1]}<br>Recovered=%{customdata[2]}",
         "legendgroup": "Country/Region=Ivory Coast",
         "marker": {
          "color": "#636efa"
         },
         "name": "Country/Region=Ivory Coast",
         "offsetgroup": "Country/Region=Ivory Coast",
         "orientation": "v",
         "showlegend": true,
         "textposition": "auto",
         "type": "bar",
         "x": [
          "2020-01-27T00:00:00"
         ],
         "xaxis": "x",
         "y": [
          1
         ],
         "yaxis": "y"
        },
        {
         "alignmentgroup": "True",
         "customdata": [
          [
           "Egypt",
           0,
           0
          ],
          [
           "Egypt",
           0,
           0
          ],
          [
           "Egypt",
           0,
           0
          ],
          [
           "Egypt",
           0,
           0
          ],
          [
           "Egypt",
           0,
           0
          ],
          [
           "Egypt",
           0,
           0
          ],
          [
           "Egypt",
           0,
           0
          ],
          [
           "Egypt",
           0,
           0
          ],
          [
           "Egypt",
           0,
           0
          ],
          [
           "Egypt",
           0,
           0
          ],
          [
           "Egypt",
           0,
           0
          ],
          [
           "Egypt",
           0,
           0
          ],
          [
           "Egypt",
           0,
           0
          ],
          [
           "Egypt",
           0,
           0
          ],
          [
           "Egypt",
           0,
           1
          ],
          [
           "Egypt",
           0,
           1
          ],
          [
           "Egypt",
           0,
           1
          ],
          [
           "Egypt",
           0,
           1
          ],
          [
           "Egypt",
           0,
           1
          ],
          [
           "Egypt",
           0,
           1
          ],
          [
           "Egypt",
           0,
           1
          ],
          [
           "Egypt",
           0,
           1
          ],
          [
           "Egypt",
           0,
           1
          ],
          [
           "Egypt",
           1,
           1
          ],
          [
           "Egypt",
           1,
           12
          ],
          [
           "Egypt",
           1,
           1
          ],
          [
           "Egypt",
           1,
           27
          ],
          [
           "Egypt",
           1,
           27
          ],
          [
           "Egypt",
           2,
           27
          ],
          [
           "Egypt",
           2,
           27
          ],
          [
           "Egypt",
           2,
           21
          ],
          [
           "Egypt",
           2,
           27
          ],
          [
           "Egypt",
           4,
           32
          ],
          [
           "Egypt",
           6,
           32
          ],
          [
           "Egypt",
           6,
           32
          ],
          [
           "Egypt",
           8,
           39
          ],
          [
           "Egypt",
           10,
           41
          ],
          [
           "Egypt",
           14,
           56
          ],
          [
           "Egypt",
           19,
           68
          ],
          [
           "Egypt",
           20,
           80
          ],
          [
           "Egypt",
           21,
           95
          ],
          [
           "Egypt",
           24,
           102
          ],
          [
           "Egypt",
           30,
           116
          ],
          [
           "Egypt",
           36,
           121
          ],
          [
           "Egypt",
           40,
           132
          ],
          [
           "Egypt",
           41,
           150
          ],
          [
           "Egypt",
           46,
           157
          ],
          [
           "Egypt",
           52,
           179
          ],
          [
           "Egypt",
           58,
           201
          ],
          [
           "Egypt",
           66,
           216
          ],
          [
           "Egypt",
           71,
           241
          ],
          [
           "Egypt",
           78,
           247
          ],
          [
           "Egypt",
           85,
           259
          ],
          [
           "Egypt",
           94,
           276
          ],
          [
           "Egypt",
           103,
           305
          ],
          [
           "Egypt",
           118,
           348
          ],
          [
           "Egypt",
           135,
           384
          ],
          [
           "Egypt",
           146,
           426
          ],
          [
           "Egypt",
           159,
           589
          ],
          [
           "Egypt",
           164,
           589
          ],
          [
           "Egypt",
           178,
           589
          ],
          [
           "Egypt",
           183,
           589
          ],
          [
           "Egypt",
           196,
           596
          ],
          [
           "Egypt",
           205,
           646
          ],
          [
           "Egypt",
           224,
           701
          ],
          [
           "Egypt",
           239,
           732
          ],
          [
           "Egypt",
           250,
           821
          ],
          [
           "Egypt",
           264,
           870
          ],
          [
           "Egypt",
           276,
           935
          ],
          [
           "Egypt",
           287,
           1004
          ],
          [
           "Egypt",
           294,
           1075
          ],
          [
           "Egypt",
           307,
           1114
          ],
          [
           "Egypt",
           317,
           1176
          ],
          [
           "Egypt",
           337,
           1236
          ]
         ],
         "hoverlabel": {
          "namelength": 0
         },
         "hovertemplate": "Country/Region=%{customdata[0]}<br>date=%{x}<br>Confirmed=%{y}<br>Deaths=%{customdata[1]}<br>Recovered=%{customdata[2]}",
         "legendgroup": "Country/Region=Egypt",
         "marker": {
          "color": "#EF553B"
         },
         "name": "Country/Region=Egypt",
         "offsetgroup": "Country/Region=Egypt",
         "orientation": "v",
         "showlegend": true,
         "textposition": "auto",
         "type": "bar",
         "x": [
          "2020-02-14T00:00:00",
          "2020-02-15T00:00:00",
          "2020-02-16T00:00:00",
          "2020-02-17T00:00:00",
          "2020-02-18T00:00:00",
          "2020-02-19T00:00:00",
          "2020-02-20T00:00:00",
          "2020-02-21T00:00:00",
          "2020-02-22T00:00:00",
          "2020-02-23T00:00:00",
          "2020-02-24T00:00:00",
          "2020-02-25T00:00:00",
          "2020-02-26T00:00:00",
          "2020-02-27T00:00:00",
          "2020-02-28T00:00:00",
          "2020-02-29T00:00:00",
          "2020-03-01T00:00:00",
          "2020-03-02T00:00:00",
          "2020-03-03T00:00:00",
          "2020-03-04T00:00:00",
          "2020-03-05T00:00:00",
          "2020-03-06T00:00:00",
          "2020-03-07T00:00:00",
          "2020-03-08T00:00:00",
          "2020-03-09T00:00:00",
          "2020-03-10T00:00:00",
          "2020-03-11T00:00:00",
          "2020-03-12T00:00:00",
          "2020-03-13T00:00:00",
          "2020-03-14T00:00:00",
          "2020-03-15T00:00:00",
          "2020-03-16T00:00:00",
          "2020-03-17T00:00:00",
          "2020-03-18T00:00:00",
          "2020-03-19T00:00:00",
          "2020-03-20T00:00:00",
          "2020-03-21T00:00:00",
          "2020-03-22T00:00:00",
          "2020-03-23T00:00:00",
          "2020-03-24T00:00:00",
          "2020-03-25T00:00:00",
          "2020-03-26T00:00:00",
          "2020-03-27T00:00:00",
          "2020-03-28T00:00:00",
          "2020-03-29T00:00:00",
          "2020-03-30T00:00:00",
          "2020-03-31T00:00:00",
          "2020-04-01T00:00:00",
          "2020-04-02T00:00:00",
          "2020-04-03T00:00:00",
          "2020-04-04T00:00:00",
          "2020-04-05T00:00:00",
          "2020-04-06T00:00:00",
          "2020-04-07T00:00:00",
          "2020-04-08T00:00:00",
          "2020-04-09T00:00:00",
          "2020-04-10T00:00:00",
          "2020-04-11T00:00:00",
          "2020-04-12T00:00:00",
          "2020-04-13T00:00:00",
          "2020-04-14T00:00:00",
          "2020-04-15T00:00:00",
          "2020-04-16T00:00:00",
          "2020-04-17T00:00:00",
          "2020-04-18T00:00:00",
          "2020-04-19T00:00:00",
          "2020-04-20T00:00:00",
          "2020-04-21T00:00:00",
          "2020-04-22T00:00:00",
          "2020-04-23T00:00:00",
          "2020-04-24T00:00:00",
          "2020-04-25T00:00:00",
          "2020-04-26T00:00:00",
          "2020-04-27T00:00:00"
         ],
         "xaxis": "x",
         "y": [
          1,
          1,
          1,
          1,
          1,
          1,
          1,
          1,
          1,
          1,
          1,
          1,
          1,
          1,
          1,
          1,
          2,
          2,
          2,
          2,
          3,
          15,
          15,
          49,
          55,
          59,
          60,
          67,
          80,
          109,
          110,
          150,
          196,
          196,
          256,
          285,
          294,
          327,
          366,
          402,
          456,
          495,
          536,
          576,
          609,
          656,
          710,
          779,
          865,
          985,
          1070,
          1173,
          1322,
          1450,
          1560,
          1699,
          1794,
          1939,
          2065,
          2190,
          2350,
          2505,
          2673,
          2844,
          3032,
          3144,
          3333,
          3490,
          3659,
          3891,
          4092,
          4319,
          4534,
          4782
         ],
         "yaxis": "y"
        },
        {
         "alignmentgroup": "True",
         "customdata": [
          [
           "Algeria",
           0,
           0
          ],
          [
           "Algeria",
           0,
           0
          ],
          [
           "Algeria",
           0,
           0
          ],
          [
           "Algeria",
           0,
           0
          ],
          [
           "Algeria",
           0,
           0
          ],
          [
           "Algeria",
           0,
           0
          ],
          [
           "Algeria",
           0,
           0
          ],
          [
           "Algeria",
           0,
           0
          ],
          [
           "Algeria",
           0,
           0
          ],
          [
           "Algeria",
           0,
           0
          ],
          [
           "Algeria",
           0,
           0
          ],
          [
           "Algeria",
           0,
           0
          ],
          [
           "Algeria",
           0,
           0
          ],
          [
           "Algeria",
           0,
           0
          ],
          [
           "Algeria",
           0,
           0
          ],
          [
           "Algeria",
           0,
           0
          ],
          [
           "Algeria",
           1,
           8
          ],
          [
           "Algeria",
           2,
           8
          ],
          [
           "Algeria",
           3,
           12
          ],
          [
           "Algeria",
           4,
           12
          ],
          [
           "Algeria",
           4,
           12
          ],
          [
           "Algeria",
           4,
           12
          ],
          [
           "Algeria",
           7,
           12
          ],
          [
           "Algeria",
           9,
           32
          ],
          [
           "Algeria",
           11,
           32
          ],
          [
           "Algeria",
           15,
           32
          ],
          [
           "Algeria",
           17,
           65
          ],
          [
           "Algeria",
           17,
           65
          ],
          [
           "Algeria",
           19,
           24
          ],
          [
           "Algeria",
           21,
           65
          ],
          [
           "Algeria",
           25,
           29
          ],
          [
           "Algeria",
           26,
           29
          ],
          [
           "Algeria",
           29,
           31
          ],
          [
           "Algeria",
           31,
           31
          ],
          [
           "Algeria",
           35,
           37
          ],
          [
           "Algeria",
           44,
           46
          ],
          [
           "Algeria",
           58,
           61
          ],
          [
           "Algeria",
           86,
           61
          ],
          [
           "Algeria",
           105,
           62
          ],
          [
           "Algeria",
           130,
           90
          ],
          [
           "Algeria",
           152,
           90
          ],
          [
           "Algeria",
           173,
           90
          ],
          [
           "Algeria",
           193,
           113
          ],
          [
           "Algeria",
           205,
           237
          ],
          [
           "Algeria",
           235,
           347
          ],
          [
           "Algeria",
           256,
           405
          ],
          [
           "Algeria",
           275,
           460
          ],
          [
           "Algeria",
           293,
           591
          ],
          [
           "Algeria",
           313,
           601
          ],
          [
           "Algeria",
           326,
           691
          ],
          [
           "Algeria",
           336,
           708
          ],
          [
           "Algeria",
           348,
           783
          ],
          [
           "Algeria",
           364,
           846
          ],
          [
           "Algeria",
           367,
           894
          ],
          [
           "Algeria",
           375,
           1047
          ],
          [
           "Algeria",
           384,
           1099
          ],
          [
           "Algeria",
           392,
           1152
          ],
          [
           "Algeria",
           402,
           1204
          ],
          [
           "Algeria",
           407,
           1355
          ],
          [
           "Algeria",
           415,
           1408
          ],
          [
           "Algeria",
           419,
           1479
          ],
          [
           "Algeria",
           425,
           1508
          ],
          [
           "Algeria",
           432,
           1558
          ]
         ],
         "hoverlabel": {
          "namelength": 0
         },
         "hovertemplate": "Country/Region=%{customdata[0]}<br>date=%{x}<br>Confirmed=%{y}<br>Deaths=%{customdata[1]}<br>Recovered=%{customdata[2]}",
         "legendgroup": "Country/Region=Algeria",
         "marker": {
          "color": "#00cc96"
         },
         "name": "Country/Region=Algeria",
         "offsetgroup": "Country/Region=Algeria",
         "orientation": "v",
         "showlegend": true,
         "textposition": "auto",
         "type": "bar",
         "x": [
          "2020-02-25T00:00:00",
          "2020-02-26T00:00:00",
          "2020-02-27T00:00:00",
          "2020-02-28T00:00:00",
          "2020-02-29T00:00:00",
          "2020-03-01T00:00:00",
          "2020-03-02T00:00:00",
          "2020-03-03T00:00:00",
          "2020-03-04T00:00:00",
          "2020-03-05T00:00:00",
          "2020-03-06T00:00:00",
          "2020-03-07T00:00:00",
          "2020-03-08T00:00:00",
          "2020-03-09T00:00:00",
          "2020-03-10T00:00:00",
          "2020-03-11T00:00:00",
          "2020-03-12T00:00:00",
          "2020-03-13T00:00:00",
          "2020-03-14T00:00:00",
          "2020-03-15T00:00:00",
          "2020-03-16T00:00:00",
          "2020-03-17T00:00:00",
          "2020-03-18T00:00:00",
          "2020-03-19T00:00:00",
          "2020-03-20T00:00:00",
          "2020-03-21T00:00:00",
          "2020-03-22T00:00:00",
          "2020-03-23T00:00:00",
          "2020-03-24T00:00:00",
          "2020-03-25T00:00:00",
          "2020-03-26T00:00:00",
          "2020-03-27T00:00:00",
          "2020-03-28T00:00:00",
          "2020-03-29T00:00:00",
          "2020-03-30T00:00:00",
          "2020-03-31T00:00:00",
          "2020-04-01T00:00:00",
          "2020-04-02T00:00:00",
          "2020-04-03T00:00:00",
          "2020-04-04T00:00:00",
          "2020-04-05T00:00:00",
          "2020-04-06T00:00:00",
          "2020-04-07T00:00:00",
          "2020-04-08T00:00:00",
          "2020-04-09T00:00:00",
          "2020-04-10T00:00:00",
          "2020-04-11T00:00:00",
          "2020-04-12T00:00:00",
          "2020-04-13T00:00:00",
          "2020-04-14T00:00:00",
          "2020-04-15T00:00:00",
          "2020-04-16T00:00:00",
          "2020-04-17T00:00:00",
          "2020-04-18T00:00:00",
          "2020-04-19T00:00:00",
          "2020-04-20T00:00:00",
          "2020-04-21T00:00:00",
          "2020-04-22T00:00:00",
          "2020-04-23T00:00:00",
          "2020-04-24T00:00:00",
          "2020-04-25T00:00:00",
          "2020-04-26T00:00:00",
          "2020-04-27T00:00:00"
         ],
         "xaxis": "x",
         "y": [
          1,
          1,
          1,
          1,
          1,
          1,
          3,
          5,
          12,
          12,
          17,
          17,
          19,
          20,
          20,
          20,
          24,
          26,
          37,
          48,
          54,
          60,
          74,
          87,
          90,
          139,
          201,
          230,
          264,
          302,
          367,
          409,
          454,
          511,
          584,
          716,
          847,
          986,
          1171,
          1251,
          1320,
          1423,
          1468,
          1572,
          1666,
          1761,
          1825,
          1914,
          1983,
          2070,
          2160,
          2268,
          2418,
          2534,
          2629,
          2718,
          2811,
          2910,
          3007,
          3127,
          3256,
          3382,
          3517
         ],
         "yaxis": "y"
        },
        {
         "alignmentgroup": "True",
         "customdata": [
          [
           "Nigeria",
           0,
           0
          ],
          [
           "Nigeria",
           0,
           0
          ],
          [
           "Nigeria",
           0,
           0
          ],
          [
           "Nigeria",
           0,
           0
          ],
          [
           "Nigeria",
           0,
           0
          ],
          [
           "Nigeria",
           0,
           0
          ],
          [
           "Nigeria",
           0,
           0
          ],
          [
           "Nigeria",
           0,
           0
          ],
          [
           "Nigeria",
           0,
           0
          ],
          [
           "Nigeria",
           0,
           0
          ],
          [
           "Nigeria",
           0,
           0
          ],
          [
           "Nigeria",
           0,
           0
          ],
          [
           "Nigeria",
           0,
           0
          ],
          [
           "Nigeria",
           0,
           0
          ],
          [
           "Nigeria",
           0,
           0
          ],
          [
           "Nigeria",
           0,
           0
          ],
          [
           "Nigeria",
           0,
           0
          ],
          [
           "Nigeria",
           0,
           0
          ],
          [
           "Nigeria",
           0,
           0
          ],
          [
           "Nigeria",
           0,
           1
          ],
          [
           "Nigeria",
           0,
           1
          ],
          [
           "Nigeria",
           0,
           1
          ],
          [
           "Nigeria",
           0,
           1
          ],
          [
           "Nigeria",
           0,
           2
          ],
          [
           "Nigeria",
           1,
           2
          ],
          [
           "Nigeria",
           1,
           2
          ],
          [
           "Nigeria",
           1,
           2
          ],
          [
           "Nigeria",
           1,
           2
          ],
          [
           "Nigeria",
           1,
           3
          ],
          [
           "Nigeria",
           1,
           3
          ],
          [
           "Nigeria",
           1,
           3
          ],
          [
           "Nigeria",
           2,
           8
          ],
          [
           "Nigeria",
           2,
           8
          ],
          [
           "Nigeria",
           2,
           9
          ],
          [
           "Nigeria",
           2,
           20
          ],
          [
           "Nigeria",
           4,
           25
          ],
          [
           "Nigeria",
           4,
           25
          ],
          [
           "Nigeria",
           5,
           33
          ],
          [
           "Nigeria",
           5,
           35
          ],
          [
           "Nigeria",
           6,
           44
          ],
          [
           "Nigeria",
           6,
           44
          ],
          [
           "Nigeria",
           7,
           51
          ],
          [
           "Nigeria",
           7,
           58
          ],
          [
           "Nigeria",
           10,
           70
          ],
          [
           "Nigeria",
           10,
           85
          ],
          [
           "Nigeria",
           10,
           91
          ],
          [
           "Nigeria",
           11,
           99
          ],
          [
           "Nigeria",
           12,
           128
          ],
          [
           "Nigeria",
           13,
           152
          ],
          [
           "Nigeria",
           17,
           159
          ],
          [
           "Nigeria",
           19,
           166
          ],
          [
           "Nigeria",
           21,
           170
          ],
          [
           "Nigeria",
           22,
           188
          ],
          [
           "Nigeria",
           22,
           188
          ],
          [
           "Nigeria",
           28,
           197
          ],
          [
           "Nigeria",
           31,
           197
          ],
          [
           "Nigeria",
           32,
           208
          ],
          [
           "Nigeria",
           35,
           222
          ],
          [
           "Nigeria",
           40,
           239
          ],
          [
           "Nigeria",
           40,
           255
          ]
         ],
         "hoverlabel": {
          "namelength": 0
         },
         "hovertemplate": "Country/Region=%{customdata[0]}<br>date=%{x}<br>Confirmed=%{y}<br>Deaths=%{customdata[1]}<br>Recovered=%{customdata[2]}",
         "legendgroup": "Country/Region=Nigeria",
         "marker": {
          "color": "#ab63fa"
         },
         "name": "Country/Region=Nigeria",
         "offsetgroup": "Country/Region=Nigeria",
         "orientation": "v",
         "showlegend": true,
         "textposition": "auto",
         "type": "bar",
         "x": [
          "2020-02-28T00:00:00",
          "2020-02-29T00:00:00",
          "2020-03-01T00:00:00",
          "2020-03-02T00:00:00",
          "2020-03-03T00:00:00",
          "2020-03-04T00:00:00",
          "2020-03-05T00:00:00",
          "2020-03-06T00:00:00",
          "2020-03-07T00:00:00",
          "2020-03-08T00:00:00",
          "2020-03-09T00:00:00",
          "2020-03-10T00:00:00",
          "2020-03-11T00:00:00",
          "2020-03-12T00:00:00",
          "2020-03-13T00:00:00",
          "2020-03-14T00:00:00",
          "2020-03-15T00:00:00",
          "2020-03-16T00:00:00",
          "2020-03-17T00:00:00",
          "2020-03-18T00:00:00",
          "2020-03-19T00:00:00",
          "2020-03-20T00:00:00",
          "2020-03-21T00:00:00",
          "2020-03-22T00:00:00",
          "2020-03-23T00:00:00",
          "2020-03-24T00:00:00",
          "2020-03-25T00:00:00",
          "2020-03-26T00:00:00",
          "2020-03-27T00:00:00",
          "2020-03-28T00:00:00",
          "2020-03-29T00:00:00",
          "2020-03-30T00:00:00",
          "2020-03-31T00:00:00",
          "2020-04-01T00:00:00",
          "2020-04-02T00:00:00",
          "2020-04-03T00:00:00",
          "2020-04-04T00:00:00",
          "2020-04-05T00:00:00",
          "2020-04-06T00:00:00",
          "2020-04-07T00:00:00",
          "2020-04-08T00:00:00",
          "2020-04-09T00:00:00",
          "2020-04-10T00:00:00",
          "2020-04-11T00:00:00",
          "2020-04-12T00:00:00",
          "2020-04-13T00:00:00",
          "2020-04-14T00:00:00",
          "2020-04-15T00:00:00",
          "2020-04-16T00:00:00",
          "2020-04-17T00:00:00",
          "2020-04-18T00:00:00",
          "2020-04-19T00:00:00",
          "2020-04-20T00:00:00",
          "2020-04-21T00:00:00",
          "2020-04-22T00:00:00",
          "2020-04-23T00:00:00",
          "2020-04-24T00:00:00",
          "2020-04-25T00:00:00",
          "2020-04-26T00:00:00",
          "2020-04-27T00:00:00"
         ],
         "xaxis": "x",
         "y": [
          1,
          1,
          1,
          1,
          1,
          1,
          1,
          1,
          1,
          1,
          2,
          2,
          2,
          2,
          2,
          2,
          2,
          2,
          3,
          8,
          8,
          12,
          22,
          30,
          40,
          44,
          51,
          65,
          70,
          89,
          111,
          131,
          135,
          174,
          184,
          210,
          214,
          232,
          238,
          254,
          276,
          288,
          305,
          318,
          323,
          343,
          373,
          407,
          442,
          493,
          542,
          627,
          665,
          665,
          873,
          981,
          1095,
          1182,
          1273,
          1337
         ],
         "yaxis": "y"
        },
        {
         "alignmentgroup": "True",
         "customdata": [
          [
           "Morocco",
           0,
           0
          ],
          [
           "Morocco",
           0,
           0
          ],
          [
           "Morocco",
           0,
           0
          ],
          [
           "Morocco",
           0,
           0
          ],
          [
           "Morocco",
           0,
           0
          ],
          [
           "Morocco",
           0,
           0
          ],
          [
           "Morocco",
           0,
           0
          ],
          [
           "Morocco",
           0,
           0
          ],
          [
           "Morocco",
           1,
           0
          ],
          [
           "Morocco",
           1,
           0
          ],
          [
           "Morocco",
           1,
           0
          ],
          [
           "Morocco",
           1,
           1
          ],
          [
           "Morocco",
           1,
           1
          ],
          [
           "Morocco",
           1,
           1
          ],
          [
           "Morocco",
           1,
           1
          ],
          [
           "Morocco",
           2,
           1
          ],
          [
           "Morocco",
           2,
           1
          ],
          [
           "Morocco",
           2,
           1
          ],
          [
           "Morocco",
           3,
           1
          ],
          [
           "Morocco",
           3,
           3
          ],
          [
           "Morocco",
           4,
           3
          ],
          [
           "Morocco",
           4,
           5
          ],
          [
           "Morocco",
           5,
           6
          ],
          [
           "Morocco",
           6,
           7
          ],
          [
           "Morocco",
           11,
           8
          ],
          [
           "Morocco",
           23,
           11
          ],
          [
           "Morocco",
           25,
           11
          ],
          [
           "Morocco",
           26,
           13
          ],
          [
           "Morocco",
           33,
           15
          ],
          [
           "Morocco",
           36,
           24
          ],
          [
           "Morocco",
           39,
           29
          ],
          [
           "Morocco",
           44,
           31
          ],
          [
           "Morocco",
           48,
           57
          ],
          [
           "Morocco",
           59,
           66
          ],
          [
           "Morocco",
           70,
           76
          ],
          [
           "Morocco",
           80,
           81
          ],
          [
           "Morocco",
           90,
           93
          ],
          [
           "Morocco",
           93,
           97
          ],
          [
           "Morocco",
           97,
           109
          ],
          [
           "Morocco",
           107,
           122
          ],
          [
           "Morocco",
           111,
           146
          ],
          [
           "Morocco",
           118,
           177
          ],
          [
           "Morocco",
           126,
           203
          ],
          [
           "Morocco",
           126,
           217
          ],
          [
           "Morocco",
           127,
           229
          ],
          [
           "Morocco",
           130,
           249
          ],
          [
           "Morocco",
           135,
           281
          ],
          [
           "Morocco",
           137,
           314
          ],
          [
           "Morocco",
           141,
           327
          ],
          [
           "Morocco",
           143,
           350
          ],
          [
           "Morocco",
           145,
           393
          ],
          [
           "Morocco",
           149,
           417
          ],
          [
           "Morocco",
           155,
           456
          ],
          [
           "Morocco",
           158,
           486
          ],
          [
           "Morocco",
           159,
           537
          ],
          [
           "Morocco",
           161,
           593
          ],
          [
           "Morocco",
           162,
           695
          ]
         ],
         "hoverlabel": {
          "namelength": 0
         },
         "hovertemplate": "Country/Region=%{customdata[0]}<br>date=%{x}<br>Confirmed=%{y}<br>Deaths=%{customdata[1]}<br>Recovered=%{customdata[2]}",
         "legendgroup": "Country/Region=Morocco",
         "marker": {
          "color": "#FFA15A"
         },
         "name": "Country/Region=Morocco",
         "offsetgroup": "Country/Region=Morocco",
         "orientation": "v",
         "showlegend": true,
         "textposition": "auto",
         "type": "bar",
         "x": [
          "2020-03-02T00:00:00",
          "2020-03-03T00:00:00",
          "2020-03-04T00:00:00",
          "2020-03-05T00:00:00",
          "2020-03-06T00:00:00",
          "2020-03-07T00:00:00",
          "2020-03-08T00:00:00",
          "2020-03-09T00:00:00",
          "2020-03-10T00:00:00",
          "2020-03-11T00:00:00",
          "2020-03-12T00:00:00",
          "2020-03-13T00:00:00",
          "2020-03-14T00:00:00",
          "2020-03-15T00:00:00",
          "2020-03-16T00:00:00",
          "2020-03-17T00:00:00",
          "2020-03-18T00:00:00",
          "2020-03-19T00:00:00",
          "2020-03-20T00:00:00",
          "2020-03-21T00:00:00",
          "2020-03-22T00:00:00",
          "2020-03-23T00:00:00",
          "2020-03-24T00:00:00",
          "2020-03-25T00:00:00",
          "2020-03-26T00:00:00",
          "2020-03-27T00:00:00",
          "2020-03-28T00:00:00",
          "2020-03-29T00:00:00",
          "2020-03-30T00:00:00",
          "2020-03-31T00:00:00",
          "2020-04-01T00:00:00",
          "2020-04-02T00:00:00",
          "2020-04-03T00:00:00",
          "2020-04-04T00:00:00",
          "2020-04-05T00:00:00",
          "2020-04-06T00:00:00",
          "2020-04-07T00:00:00",
          "2020-04-08T00:00:00",
          "2020-04-09T00:00:00",
          "2020-04-10T00:00:00",
          "2020-04-11T00:00:00",
          "2020-04-12T00:00:00",
          "2020-04-13T00:00:00",
          "2020-04-14T00:00:00",
          "2020-04-15T00:00:00",
          "2020-04-16T00:00:00",
          "2020-04-17T00:00:00",
          "2020-04-18T00:00:00",
          "2020-04-19T00:00:00",
          "2020-04-20T00:00:00",
          "2020-04-21T00:00:00",
          "2020-04-22T00:00:00",
          "2020-04-23T00:00:00",
          "2020-04-24T00:00:00",
          "2020-04-25T00:00:00",
          "2020-04-26T00:00:00",
          "2020-04-27T00:00:00"
         ],
         "xaxis": "x",
         "y": [
          1,
          1,
          1,
          2,
          2,
          2,
          2,
          2,
          3,
          5,
          6,
          7,
          17,
          28,
          29,
          38,
          49,
          63,
          77,
          96,
          115,
          143,
          170,
          225,
          275,
          345,
          402,
          479,
          556,
          617,
          654,
          708,
          791,
          919,
          1021,
          1120,
          1184,
          1275,
          1374,
          1448,
          1545,
          1661,
          1763,
          1888,
          2024,
          2283,
          2564,
          2685,
          2855,
          3046,
          3209,
          3446,
          3568,
          3758,
          3897,
          4065,
          4120
         ],
         "yaxis": "y"
        },
        {
         "alignmentgroup": "True",
         "customdata": [
          [
           "Senegal",
           0,
           0
          ],
          [
           "Senegal",
           0,
           0
          ],
          [
           "Senegal",
           0,
           0
          ],
          [
           "Senegal",
           0,
           0
          ],
          [
           "Senegal",
           0,
           0
          ],
          [
           "Senegal",
           0,
           0
          ],
          [
           "Senegal",
           0,
           1
          ],
          [
           "Senegal",
           0,
           1
          ],
          [
           "Senegal",
           0,
           1
          ],
          [
           "Senegal",
           0,
           1
          ],
          [
           "Senegal",
           0,
           1
          ],
          [
           "Senegal",
           0,
           1
          ],
          [
           "Senegal",
           0,
           1
          ],
          [
           "Senegal",
           0,
           1
          ],
          [
           "Senegal",
           0,
           2
          ],
          [
           "Senegal",
           0,
           2
          ],
          [
           "Senegal",
           0,
           2
          ],
          [
           "Senegal",
           0,
           2
          ],
          [
           "Senegal",
           0,
           2
          ],
          [
           "Senegal",
           0,
           5
          ],
          [
           "Senegal",
           0,
           5
          ],
          [
           "Senegal",
           0,
           8
          ],
          [
           "Senegal",
           0,
           8
          ],
          [
           "Senegal",
           0,
           9
          ],
          [
           "Senegal",
           0,
           9
          ],
          [
           "Senegal",
           0,
           11
          ],
          [
           "Senegal",
           0,
           18
          ],
          [
           "Senegal",
           0,
           27
          ],
          [
           "Senegal",
           0,
           27
          ],
          [
           "Senegal",
           0,
           40
          ],
          [
           "Senegal",
           1,
           45
          ],
          [
           "Senegal",
           1,
           55
          ],
          [
           "Senegal",
           1,
           66
          ],
          [
           "Senegal",
           2,
           72
          ],
          [
           "Senegal",
           2,
           82
          ],
          [
           "Senegal",
           2,
           92
          ],
          [
           "Senegal",
           2,
           105
          ],
          [
           "Senegal",
           2,
           113
          ],
          [
           "Senegal",
           2,
           123
          ],
          [
           "Senegal",
           2,
           137
          ],
          [
           "Senegal",
           2,
           152
          ],
          [
           "Senegal",
           2,
           171
          ],
          [
           "Senegal",
           2,
           178
          ],
          [
           "Senegal",
           2,
           183
          ],
          [
           "Senegal",
           2,
           190
          ],
          [
           "Senegal",
           2,
           194
          ],
          [
           "Senegal",
           2,
           198
          ],
          [
           "Senegal",
           3,
           211
          ],
          [
           "Senegal",
           3,
           220
          ],
          [
           "Senegal",
           5,
           235
          ],
          [
           "Senegal",
           5,
           242
          ],
          [
           "Senegal",
           6,
           253
          ],
          [
           "Senegal",
           6,
           257
          ],
          [
           "Senegal",
           7,
           262
          ],
          [
           "Senegal",
           7,
           276
          ],
          [
           "Senegal",
           9,
           283
          ],
          [
           "Senegal",
           9,
           284
          ]
         ],
         "hoverlabel": {
          "namelength": 0
         },
         "hovertemplate": "Country/Region=%{customdata[0]}<br>date=%{x}<br>Confirmed=%{y}<br>Deaths=%{customdata[1]}<br>Recovered=%{customdata[2]}",
         "legendgroup": "Country/Region=Senegal",
         "marker": {
          "color": "#19d3f3"
         },
         "name": "Country/Region=Senegal",
         "offsetgroup": "Country/Region=Senegal",
         "orientation": "v",
         "showlegend": true,
         "textposition": "auto",
         "type": "bar",
         "x": [
          "2020-03-02T00:00:00",
          "2020-03-03T00:00:00",
          "2020-03-04T00:00:00",
          "2020-03-05T00:00:00",
          "2020-03-06T00:00:00",
          "2020-03-07T00:00:00",
          "2020-03-08T00:00:00",
          "2020-03-09T00:00:00",
          "2020-03-10T00:00:00",
          "2020-03-11T00:00:00",
          "2020-03-12T00:00:00",
          "2020-03-13T00:00:00",
          "2020-03-14T00:00:00",
          "2020-03-15T00:00:00",
          "2020-03-16T00:00:00",
          "2020-03-17T00:00:00",
          "2020-03-18T00:00:00",
          "2020-03-19T00:00:00",
          "2020-03-20T00:00:00",
          "2020-03-21T00:00:00",
          "2020-03-22T00:00:00",
          "2020-03-23T00:00:00",
          "2020-03-24T00:00:00",
          "2020-03-25T00:00:00",
          "2020-03-26T00:00:00",
          "2020-03-27T00:00:00",
          "2020-03-28T00:00:00",
          "2020-03-29T00:00:00",
          "2020-03-30T00:00:00",
          "2020-03-31T00:00:00",
          "2020-04-01T00:00:00",
          "2020-04-02T00:00:00",
          "2020-04-03T00:00:00",
          "2020-04-04T00:00:00",
          "2020-04-05T00:00:00",
          "2020-04-06T00:00:00",
          "2020-04-07T00:00:00",
          "2020-04-08T00:00:00",
          "2020-04-09T00:00:00",
          "2020-04-10T00:00:00",
          "2020-04-11T00:00:00",
          "2020-04-12T00:00:00",
          "2020-04-13T00:00:00",
          "2020-04-14T00:00:00",
          "2020-04-15T00:00:00",
          "2020-04-16T00:00:00",
          "2020-04-17T00:00:00",
          "2020-04-18T00:00:00",
          "2020-04-19T00:00:00",
          "2020-04-20T00:00:00",
          "2020-04-21T00:00:00",
          "2020-04-22T00:00:00",
          "2020-04-23T00:00:00",
          "2020-04-24T00:00:00",
          "2020-04-25T00:00:00",
          "2020-04-26T00:00:00",
          "2020-04-27T00:00:00"
         ],
         "xaxis": "x",
         "y": [
          1,
          2,
          4,
          4,
          4,
          4,
          4,
          4,
          4,
          4,
          4,
          10,
          10,
          24,
          24,
          26,
          31,
          31,
          38,
          47,
          67,
          79,
          86,
          99,
          105,
          119,
          130,
          142,
          162,
          175,
          190,
          195,
          207,
          219,
          222,
          226,
          237,
          244,
          250,
          265,
          278,
          280,
          291,
          299,
          314,
          335,
          342,
          350,
          367,
          377,
          412,
          442,
          479,
          545,
          614,
          671,
          736
         ],
         "yaxis": "y"
        },
        {
         "alignmentgroup": "True",
         "customdata": [
          [
           "Tunisia",
           0,
           0
          ],
          [
           "Tunisia",
           0,
           0
          ],
          [
           "Tunisia",
           0,
           0
          ],
          [
           "Tunisia",
           0,
           0
          ],
          [
           "Tunisia",
           0,
           0
          ],
          [
           "Tunisia",
           0,
           0
          ],
          [
           "Tunisia",
           0,
           0
          ],
          [
           "Tunisia",
           0,
           0
          ],
          [
           "Tunisia",
           0,
           0
          ],
          [
           "Tunisia",
           0,
           0
          ],
          [
           "Tunisia",
           0,
           0
          ],
          [
           "Tunisia",
           0,
           0
          ],
          [
           "Tunisia",
           0,
           0
          ],
          [
           "Tunisia",
           0,
           0
          ],
          [
           "Tunisia",
           0,
           0
          ],
          [
           "Tunisia",
           1,
           0
          ],
          [
           "Tunisia",
           1,
           0
          ],
          [
           "Tunisia",
           1,
           0
          ],
          [
           "Tunisia",
           3,
           1
          ],
          [
           "Tunisia",
           3,
           1
          ],
          [
           "Tunisia",
           4,
           1
          ],
          [
           "Tunisia",
           5,
           2
          ],
          [
           "Tunisia",
           6,
           2
          ],
          [
           "Tunisia",
           6,
           2
          ],
          [
           "Tunisia",
           8,
           2
          ],
          [
           "Tunisia",
           8,
           2
          ],
          [
           "Tunisia",
           8,
           3
          ],
          [
           "Tunisia",
           10,
           3
          ],
          [
           "Tunisia",
           12,
           5
          ],
          [
           "Tunisia",
           14,
           5
          ],
          [
           "Tunisia",
           18,
           5
          ],
          [
           "Tunisia",
           18,
           5
          ],
          [
           "Tunisia",
           22,
           5
          ],
          [
           "Tunisia",
           22,
           5
          ],
          [
           "Tunisia",
           23,
           25
          ],
          [
           "Tunisia",
           24,
           25
          ],
          [
           "Tunisia",
           25,
           25
          ],
          [
           "Tunisia",
           25,
           25
          ],
          [
           "Tunisia",
           28,
           43
          ],
          [
           "Tunisia",
           31,
           43
          ],
          [
           "Tunisia",
           34,
           43
          ],
          [
           "Tunisia",
           34,
           43
          ],
          [
           "Tunisia",
           35,
           43
          ],
          [
           "Tunisia",
           37,
           43
          ],
          [
           "Tunisia",
           37,
           43
          ],
          [
           "Tunisia",
           37,
           43
          ],
          [
           "Tunisia",
           38,
           43
          ],
          [
           "Tunisia",
           38,
           148
          ],
          [
           "Tunisia",
           38,
           148
          ],
          [
           "Tunisia",
           38,
           190
          ],
          [
           "Tunisia",
           38,
           190
          ],
          [
           "Tunisia",
           38,
           194
          ],
          [
           "Tunisia",
           38,
           207
          ],
          [
           "Tunisia",
           38,
           216
          ],
          [
           "Tunisia",
           39,
           279
          ]
         ],
         "hoverlabel": {
          "namelength": 0
         },
         "hovertemplate": "Country/Region=%{customdata[0]}<br>date=%{x}<br>Confirmed=%{y}<br>Deaths=%{customdata[1]}<br>Recovered=%{customdata[2]}",
         "legendgroup": "Country/Region=Tunisia",
         "marker": {
          "color": "#FF6692"
         },
         "name": "Country/Region=Tunisia",
         "offsetgroup": "Country/Region=Tunisia",
         "orientation": "v",
         "showlegend": true,
         "textposition": "auto",
         "type": "bar",
         "x": [
          "2020-03-04T00:00:00",
          "2020-03-05T00:00:00",
          "2020-03-06T00:00:00",
          "2020-03-07T00:00:00",
          "2020-03-08T00:00:00",
          "2020-03-09T00:00:00",
          "2020-03-10T00:00:00",
          "2020-03-11T00:00:00",
          "2020-03-12T00:00:00",
          "2020-03-13T00:00:00",
          "2020-03-14T00:00:00",
          "2020-03-15T00:00:00",
          "2020-03-16T00:00:00",
          "2020-03-17T00:00:00",
          "2020-03-18T00:00:00",
          "2020-03-19T00:00:00",
          "2020-03-20T00:00:00",
          "2020-03-21T00:00:00",
          "2020-03-22T00:00:00",
          "2020-03-23T00:00:00",
          "2020-03-24T00:00:00",
          "2020-03-25T00:00:00",
          "2020-03-26T00:00:00",
          "2020-03-27T00:00:00",
          "2020-03-28T00:00:00",
          "2020-03-29T00:00:00",
          "2020-03-30T00:00:00",
          "2020-03-31T00:00:00",
          "2020-04-01T00:00:00",
          "2020-04-02T00:00:00",
          "2020-04-03T00:00:00",
          "2020-04-04T00:00:00",
          "2020-04-05T00:00:00",
          "2020-04-06T00:00:00",
          "2020-04-07T00:00:00",
          "2020-04-08T00:00:00",
          "2020-04-09T00:00:00",
          "2020-04-10T00:00:00",
          "2020-04-11T00:00:00",
          "2020-04-12T00:00:00",
          "2020-04-13T00:00:00",
          "2020-04-14T00:00:00",
          "2020-04-15T00:00:00",
          "2020-04-16T00:00:00",
          "2020-04-17T00:00:00",
          "2020-04-18T00:00:00",
          "2020-04-19T00:00:00",
          "2020-04-20T00:00:00",
          "2020-04-21T00:00:00",
          "2020-04-22T00:00:00",
          "2020-04-23T00:00:00",
          "2020-04-24T00:00:00",
          "2020-04-25T00:00:00",
          "2020-04-26T00:00:00",
          "2020-04-27T00:00:00"
         ],
         "xaxis": "x",
         "y": [
          1,
          1,
          1,
          1,
          2,
          2,
          5,
          7,
          7,
          16,
          18,
          18,
          20,
          24,
          29,
          39,
          54,
          60,
          75,
          89,
          114,
          173,
          197,
          227,
          278,
          312,
          312,
          394,
          423,
          455,
          495,
          553,
          574,
          596,
          623,
          628,
          643,
          671,
          685,
          707,
          726,
          747,
          780,
          822,
          864,
          864,
          879,
          884,
          884,
          909,
          918,
          922,
          939,
          949,
          967
         ],
         "yaxis": "y"
        },
        {
         "alignmentgroup": "True",
         "customdata": [
          [
           "South Africa",
           0,
           0
          ],
          [
           "South Africa",
           0,
           0
          ],
          [
           "South Africa",
           0,
           0
          ],
          [
           "South Africa",
           0,
           0
          ],
          [
           "South Africa",
           0,
           0
          ],
          [
           "South Africa",
           0,
           0
          ],
          [
           "South Africa",
           0,
           0
          ],
          [
           "South Africa",
           0,
           0
          ],
          [
           "South Africa",
           0,
           0
          ],
          [
           "South Africa",
           0,
           0
          ],
          [
           "South Africa",
           0,
           0
          ],
          [
           "South Africa",
           0,
           0
          ],
          [
           "South Africa",
           0,
           0
          ],
          [
           "South Africa",
           0,
           0
          ],
          [
           "South Africa",
           0,
           0
          ],
          [
           "South Africa",
           0,
           0
          ],
          [
           "South Africa",
           0,
           0
          ],
          [
           "South Africa",
           0,
           2
          ],
          [
           "South Africa",
           0,
           4
          ],
          [
           "South Africa",
           0,
           4
          ],
          [
           "South Africa",
           0,
           12
          ],
          [
           "South Africa",
           0,
           12
          ],
          [
           "South Africa",
           1,
           31
          ],
          [
           "South Africa",
           1,
           31
          ],
          [
           "South Africa",
           2,
           31
          ],
          [
           "South Africa",
           3,
           31
          ],
          [
           "South Africa",
           5,
           31
          ],
          [
           "South Africa",
           5,
           50
          ],
          [
           "South Africa",
           5,
           50
          ],
          [
           "South Africa",
           9,
           95
          ],
          [
           "South Africa",
           9,
           95
          ],
          [
           "South Africa",
           11,
           95
          ],
          [
           "South Africa",
           12,
           95
          ],
          [
           "South Africa",
           13,
           95
          ],
          [
           "South Africa",
           18,
           95
          ],
          [
           "South Africa",
           18,
           95
          ],
          [
           "South Africa",
           24,
           410
          ],
          [
           "South Africa",
           25,
           410
          ],
          [
           "South Africa",
           25,
           410
          ],
          [
           "South Africa",
           27,
           410
          ],
          [
           "South Africa",
           27,
           410
          ],
          [
           "South Africa",
           34,
           410
          ],
          [
           "South Africa",
           48,
           903
          ],
          [
           "South Africa",
           50,
           903
          ],
          [
           "South Africa",
           52,
           903
          ],
          [
           "South Africa",
           54,
           903
          ],
          [
           "South Africa",
           58,
           1055
          ],
          [
           "South Africa",
           58,
           1055
          ],
          [
           "South Africa",
           65,
           1055
          ],
          [
           "South Africa",
           75,
           1473
          ],
          [
           "South Africa",
           79,
           1473
          ],
          [
           "South Africa",
           86,
           1473
          ],
          [
           "South Africa",
           87,
           1473
          ],
          [
           "South Africa",
           90,
           1473
          ]
         ],
         "hoverlabel": {
          "namelength": 0
         },
         "hovertemplate": "Country/Region=%{customdata[0]}<br>date=%{x}<br>Confirmed=%{y}<br>Deaths=%{customdata[1]}<br>Recovered=%{customdata[2]}",
         "legendgroup": "Country/Region=South Africa",
         "marker": {
          "color": "#B6E880"
         },
         "name": "Country/Region=South Africa",
         "offsetgroup": "Country/Region=South Africa",
         "orientation": "v",
         "showlegend": true,
         "textposition": "auto",
         "type": "bar",
         "x": [
          "2020-03-05T00:00:00",
          "2020-03-06T00:00:00",
          "2020-03-07T00:00:00",
          "2020-03-08T00:00:00",
          "2020-03-09T00:00:00",
          "2020-03-10T00:00:00",
          "2020-03-11T00:00:00",
          "2020-03-12T00:00:00",
          "2020-03-13T00:00:00",
          "2020-03-14T00:00:00",
          "2020-03-15T00:00:00",
          "2020-03-16T00:00:00",
          "2020-03-17T00:00:00",
          "2020-03-18T00:00:00",
          "2020-03-19T00:00:00",
          "2020-03-20T00:00:00",
          "2020-03-21T00:00:00",
          "2020-03-22T00:00:00",
          "2020-03-23T00:00:00",
          "2020-03-24T00:00:00",
          "2020-03-25T00:00:00",
          "2020-03-26T00:00:00",
          "2020-03-27T00:00:00",
          "2020-03-28T00:00:00",
          "2020-03-29T00:00:00",
          "2020-03-30T00:00:00",
          "2020-03-31T00:00:00",
          "2020-04-01T00:00:00",
          "2020-04-02T00:00:00",
          "2020-04-03T00:00:00",
          "2020-04-04T00:00:00",
          "2020-04-05T00:00:00",
          "2020-04-06T00:00:00",
          "2020-04-07T00:00:00",
          "2020-04-08T00:00:00",
          "2020-04-09T00:00:00",
          "2020-04-10T00:00:00",
          "2020-04-11T00:00:00",
          "2020-04-12T00:00:00",
          "2020-04-13T00:00:00",
          "2020-04-14T00:00:00",
          "2020-04-15T00:00:00",
          "2020-04-16T00:00:00",
          "2020-04-17T00:00:00",
          "2020-04-18T00:00:00",
          "2020-04-19T00:00:00",
          "2020-04-20T00:00:00",
          "2020-04-21T00:00:00",
          "2020-04-22T00:00:00",
          "2020-04-23T00:00:00",
          "2020-04-24T00:00:00",
          "2020-04-25T00:00:00",
          "2020-04-26T00:00:00",
          "2020-04-27T00:00:00"
         ],
         "xaxis": "x",
         "y": [
          1,
          1,
          1,
          3,
          3,
          7,
          13,
          17,
          24,
          38,
          51,
          62,
          62,
          116,
          150,
          202,
          240,
          274,
          402,
          554,
          709,
          927,
          1170,
          1187,
          1280,
          1326,
          1353,
          1380,
          1462,
          1505,
          1585,
          1655,
          1686,
          1749,
          1845,
          1934,
          2003,
          2028,
          2173,
          2272,
          2415,
          2506,
          2605,
          2783,
          3034,
          3158,
          3300,
          3465,
          3635,
          3953,
          4220,
          4361,
          4546,
          4793
         ],
         "yaxis": "y"
        },
        {
         "alignmentgroup": "True",
         "customdata": [
          [
           "Cameroon",
           0,
           0
          ],
          [
           "Cameroon",
           0,
           0
          ],
          [
           "Cameroon",
           0,
           0
          ],
          [
           "Cameroon",
           0,
           0
          ],
          [
           "Cameroon",
           0,
           0
          ],
          [
           "Cameroon",
           0,
           0
          ],
          [
           "Cameroon",
           0,
           0
          ],
          [
           "Cameroon",
           0,
           0
          ],
          [
           "Cameroon",
           0,
           0
          ],
          [
           "Cameroon",
           0,
           0
          ],
          [
           "Cameroon",
           0,
           0
          ],
          [
           "Cameroon",
           0,
           0
          ],
          [
           "Cameroon",
           0,
           0
          ],
          [
           "Cameroon",
           0,
           0
          ],
          [
           "Cameroon",
           0,
           0
          ],
          [
           "Cameroon",
           0,
           0
          ],
          [
           "Cameroon",
           0,
           2
          ],
          [
           "Cameroon",
           0,
           2
          ],
          [
           "Cameroon",
           0,
           2
          ],
          [
           "Cameroon",
           1,
           2
          ],
          [
           "Cameroon",
           1,
           2
          ],
          [
           "Cameroon",
           2,
           2
          ],
          [
           "Cameroon",
           2,
           2
          ],
          [
           "Cameroon",
           6,
           5
          ],
          [
           "Cameroon",
           6,
           5
          ],
          [
           "Cameroon",
           6,
           5
          ],
          [
           "Cameroon",
           6,
           10
          ],
          [
           "Cameroon",
           7,
           10
          ],
          [
           "Cameroon",
           8,
           17
          ],
          [
           "Cameroon",
           9,
           17
          ],
          [
           "Cameroon",
           9,
           17
          ],
          [
           "Cameroon",
           9,
           17
          ],
          [
           "Cameroon",
           9,
           43
          ],
          [
           "Cameroon",
           10,
           60
          ],
          [
           "Cameroon",
           10,
           60
          ],
          [
           "Cameroon",
           12,
           98
          ],
          [
           "Cameroon",
           12,
           98
          ],
          [
           "Cameroon",
           12,
           98
          ],
          [
           "Cameroon",
           12,
           98
          ],
          [
           "Cameroon",
           14,
           130
          ],
          [
           "Cameroon",
           17,
           165
          ],
          [
           "Cameroon",
           22,
           164
          ],
          [
           "Cameroon",
           22,
           164
          ],
          [
           "Cameroon",
           22,
           177
          ],
          [
           "Cameroon",
           42,
           305
          ],
          [
           "Cameroon",
           42,
           305
          ],
          [
           "Cameroon",
           43,
           329
          ],
          [
           "Cameroon",
           43,
           397
          ],
          [
           "Cameroon",
           43,
           668
          ],
          [
           "Cameroon",
           43,
           668
          ],
          [
           "Cameroon",
           53,
           697
          ],
          [
           "Cameroon",
           56,
           786
          ],
          [
           "Cameroon",
           58,
           805
          ]
         ],
         "hoverlabel": {
          "namelength": 0
         },
         "hovertemplate": "Country/Region=%{customdata[0]}<br>date=%{x}<br>Confirmed=%{y}<br>Deaths=%{customdata[1]}<br>Recovered=%{customdata[2]}",
         "legendgroup": "Country/Region=Cameroon",
         "marker": {
          "color": "#FF97FF"
         },
         "name": "Country/Region=Cameroon",
         "offsetgroup": "Country/Region=Cameroon",
         "orientation": "v",
         "showlegend": true,
         "textposition": "auto",
         "type": "bar",
         "x": [
          "2020-03-06T00:00:00",
          "2020-03-07T00:00:00",
          "2020-03-08T00:00:00",
          "2020-03-09T00:00:00",
          "2020-03-10T00:00:00",
          "2020-03-11T00:00:00",
          "2020-03-12T00:00:00",
          "2020-03-13T00:00:00",
          "2020-03-14T00:00:00",
          "2020-03-15T00:00:00",
          "2020-03-16T00:00:00",
          "2020-03-17T00:00:00",
          "2020-03-18T00:00:00",
          "2020-03-19T00:00:00",
          "2020-03-20T00:00:00",
          "2020-03-21T00:00:00",
          "2020-03-22T00:00:00",
          "2020-03-23T00:00:00",
          "2020-03-24T00:00:00",
          "2020-03-25T00:00:00",
          "2020-03-26T00:00:00",
          "2020-03-27T00:00:00",
          "2020-03-28T00:00:00",
          "2020-03-29T00:00:00",
          "2020-03-30T00:00:00",
          "2020-03-31T00:00:00",
          "2020-04-01T00:00:00",
          "2020-04-02T00:00:00",
          "2020-04-03T00:00:00",
          "2020-04-04T00:00:00",
          "2020-04-05T00:00:00",
          "2020-04-06T00:00:00",
          "2020-04-07T00:00:00",
          "2020-04-08T00:00:00",
          "2020-04-09T00:00:00",
          "2020-04-10T00:00:00",
          "2020-04-11T00:00:00",
          "2020-04-12T00:00:00",
          "2020-04-13T00:00:00",
          "2020-04-14T00:00:00",
          "2020-04-15T00:00:00",
          "2020-04-16T00:00:00",
          "2020-04-17T00:00:00",
          "2020-04-18T00:00:00",
          "2020-04-19T00:00:00",
          "2020-04-20T00:00:00",
          "2020-04-21T00:00:00",
          "2020-04-22T00:00:00",
          "2020-04-23T00:00:00",
          "2020-04-24T00:00:00",
          "2020-04-25T00:00:00",
          "2020-04-26T00:00:00",
          "2020-04-27T00:00:00"
         ],
         "xaxis": "x",
         "y": [
          1,
          1,
          2,
          2,
          2,
          2,
          2,
          2,
          2,
          2,
          4,
          10,
          10,
          13,
          20,
          27,
          40,
          56,
          66,
          75,
          75,
          91,
          91,
          139,
          139,
          193,
          233,
          306,
          509,
          555,
          650,
          658,
          658,
          730,
          730,
          820,
          820,
          820,
          820,
          848,
          848,
          996,
          996,
          1017,
          1017,
          1163,
          1163,
          1163,
          1334,
          1430,
          1518,
          1621,
          1705
         ],
         "yaxis": "y"
        },
        {
         "alignmentgroup": "True",
         "customdata": [
          [
           "Togo",
           0,
           0
          ],
          [
           "Togo",
           0,
           0
          ],
          [
           "Togo",
           0,
           0
          ],
          [
           "Togo",
           0,
           0
          ],
          [
           "Togo",
           0,
           0
          ],
          [
           "Togo",
           0,
           0
          ],
          [
           "Togo",
           0,
           0
          ],
          [
           "Togo",
           0,
           0
          ],
          [
           "Togo",
           0,
           0
          ],
          [
           "Togo",
           0,
           0
          ],
          [
           "Togo",
           0,
           0
          ],
          [
           "Togo",
           0,
           0
          ],
          [
           "Togo",
           0,
           0
          ],
          [
           "Togo",
           0,
           0
          ],
          [
           "Togo",
           0,
           1
          ],
          [
           "Togo",
           0,
           1
          ],
          [
           "Togo",
           0,
           0
          ],
          [
           "Togo",
           0,
           0
          ],
          [
           "Togo",
           0,
           1
          ],
          [
           "Togo",
           0,
           1
          ],
          [
           "Togo",
           0,
           1
          ],
          [
           "Togo",
           1,
           1
          ],
          [
           "Togo",
           1,
           1
          ],
          [
           "Togo",
           1,
           1
          ],
          [
           "Togo",
           1,
           1
          ],
          [
           "Togo",
           1,
           10
          ],
          [
           "Togo",
           2,
           10
          ],
          [
           "Togo",
           2,
           17
          ],
          [
           "Togo",
           3,
           17
          ],
          [
           "Togo",
           3,
           17
          ],
          [
           "Togo",
           3,
           20
          ],
          [
           "Togo",
           3,
           23
          ],
          [
           "Togo",
           3,
           23
          ],
          [
           "Togo",
           3,
           23
          ],
          [
           "Togo",
           3,
           24
          ],
          [
           "Togo",
           3,
           25
          ],
          [
           "Togo",
           3,
           25
          ],
          [
           "Togo",
           3,
           29
          ],
          [
           "Togo",
           3,
           29
          ],
          [
           "Togo",
           3,
           32
          ],
          [
           "Togo",
           3,
           35
          ],
          [
           "Togo",
           5,
           45
          ],
          [
           "Togo",
           5,
           48
          ],
          [
           "Togo",
           5,
           49
          ],
          [
           "Togo",
           5,
           52
          ],
          [
           "Togo",
           6,
           53
          ],
          [
           "Togo",
           6,
           56
          ],
          [
           "Togo",
           6,
           56
          ],
          [
           "Togo",
           6,
           59
          ],
          [
           "Togo",
           6,
           59
          ],
          [
           "Togo",
           6,
           62
          ],
          [
           "Togo",
           6,
           62
          ],
          [
           "Togo",
           6,
           62
          ]
         ],
         "hoverlabel": {
          "namelength": 0
         },
         "hovertemplate": "Country/Region=%{customdata[0]}<br>date=%{x}<br>Confirmed=%{y}<br>Deaths=%{customdata[1]}<br>Recovered=%{customdata[2]}",
         "legendgroup": "Country/Region=Togo",
         "marker": {
          "color": "#FECB52"
         },
         "name": "Country/Region=Togo",
         "offsetgroup": "Country/Region=Togo",
         "orientation": "v",
         "showlegend": true,
         "textposition": "auto",
         "type": "bar",
         "x": [
          "2020-03-06T00:00:00",
          "2020-03-07T00:00:00",
          "2020-03-08T00:00:00",
          "2020-03-09T00:00:00",
          "2020-03-10T00:00:00",
          "2020-03-11T00:00:00",
          "2020-03-12T00:00:00",
          "2020-03-13T00:00:00",
          "2020-03-14T00:00:00",
          "2020-03-15T00:00:00",
          "2020-03-16T00:00:00",
          "2020-03-17T00:00:00",
          "2020-03-18T00:00:00",
          "2020-03-19T00:00:00",
          "2020-03-20T00:00:00",
          "2020-03-21T00:00:00",
          "2020-03-22T00:00:00",
          "2020-03-23T00:00:00",
          "2020-03-24T00:00:00",
          "2020-03-25T00:00:00",
          "2020-03-26T00:00:00",
          "2020-03-27T00:00:00",
          "2020-03-28T00:00:00",
          "2020-03-29T00:00:00",
          "2020-03-30T00:00:00",
          "2020-03-31T00:00:00",
          "2020-04-01T00:00:00",
          "2020-04-02T00:00:00",
          "2020-04-03T00:00:00",
          "2020-04-04T00:00:00",
          "2020-04-05T00:00:00",
          "2020-04-06T00:00:00",
          "2020-04-07T00:00:00",
          "2020-04-08T00:00:00",
          "2020-04-09T00:00:00",
          "2020-04-10T00:00:00",
          "2020-04-11T00:00:00",
          "2020-04-12T00:00:00",
          "2020-04-13T00:00:00",
          "2020-04-14T00:00:00",
          "2020-04-15T00:00:00",
          "2020-04-16T00:00:00",
          "2020-04-17T00:00:00",
          "2020-04-18T00:00:00",
          "2020-04-19T00:00:00",
          "2020-04-20T00:00:00",
          "2020-04-21T00:00:00",
          "2020-04-22T00:00:00",
          "2020-04-23T00:00:00",
          "2020-04-24T00:00:00",
          "2020-04-25T00:00:00",
          "2020-04-26T00:00:00",
          "2020-04-27T00:00:00"
         ],
         "xaxis": "x",
         "y": [
          1,
          1,
          1,
          1,
          1,
          1,
          1,
          1,
          1,
          1,
          1,
          1,
          1,
          1,
          9,
          16,
          16,
          18,
          20,
          23,
          23,
          25,
          25,
          25,
          30,
          34,
          36,
          39,
          40,
          41,
          44,
          58,
          65,
          70,
          73,
          76,
          76,
          76,
          77,
          77,
          81,
          81,
          83,
          84,
          84,
          84,
          86,
          88,
          88,
          90,
          96,
          98,
          98
         ],
         "yaxis": "y"
        },
        {
         "alignmentgroup": "True",
         "customdata": [
          [
           "Burkina Faso",
           0,
           0
          ],
          [
           "Burkina Faso",
           0,
           0
          ],
          [
           "Burkina Faso",
           0,
           0
          ],
          [
           "Burkina Faso",
           0,
           0
          ],
          [
           "Burkina Faso",
           0,
           0
          ],
          [
           "Burkina Faso",
           0,
           0
          ],
          [
           "Burkina Faso",
           0,
           0
          ],
          [
           "Burkina Faso",
           0,
           0
          ],
          [
           "Burkina Faso",
           1,
           0
          ],
          [
           "Burkina Faso",
           1,
           0
          ],
          [
           "Burkina Faso",
           1,
           0
          ],
          [
           "Burkina Faso",
           2,
           5
          ],
          [
           "Burkina Faso",
           4,
           5
          ],
          [
           "Burkina Faso",
           4,
           5
          ],
          [
           "Burkina Faso",
           4,
           7
          ],
          [
           "Burkina Faso",
           4,
           10
          ],
          [
           "Burkina Faso",
           7,
           10
          ],
          [
           "Burkina Faso",
           9,
           12
          ],
          [
           "Burkina Faso",
           11,
           21
          ],
          [
           "Burkina Faso",
           12,
           23
          ],
          [
           "Burkina Faso",
           12,
           31
          ],
          [
           "Burkina Faso",
           14,
           32
          ],
          [
           "Burkina Faso",
           16,
           46
          ],
          [
           "Burkina Faso",
           16,
           50
          ],
          [
           "Burkina Faso",
           16,
           50
          ],
          [
           "Burkina Faso",
           16,
           66
          ],
          [
           "Burkina Faso",
           17,
           90
          ],
          [
           "Burkina Faso",
           18,
           108
          ],
          [
           "Burkina Faso",
           19,
           127
          ],
          [
           "Burkina Faso",
           23,
           134
          ],
          [
           "Burkina Faso",
           24,
           146
          ],
          [
           "Burkina Faso",
           24,
           146
          ],
          [
           "Burkina Faso",
           27,
           155
          ],
          [
           "Burkina Faso",
           27,
           161
          ],
          [
           "Burkina Faso",
           27,
           161
          ],
          [
           "Burkina Faso",
           30,
           177
          ],
          [
           "Burkina Faso",
           32,
           226
          ],
          [
           "Burkina Faso",
           32,
           257
          ],
          [
           "Burkina Faso",
           35,
           294
          ],
          [
           "Burkina Faso",
           36,
           321
          ],
          [
           "Burkina Faso",
           36,
           338
          ],
          [
           "Burkina Faso",
           38,
           357
          ],
          [
           "Burkina Faso",
           38,
           362
          ],
          [
           "Burkina Faso",
           39,
           389
          ],
          [
           "Burkina Faso",
           41,
           410
          ],
          [
           "Burkina Faso",
           41,
           425
          ],
          [
           "Burkina Faso",
           41,
           442
          ],
          [
           "Burkina Faso",
           42,
           453
          ],
          [
           "Burkina Faso",
           42,
           469
          ]
         ],
         "hoverlabel": {
          "namelength": 0
         },
         "hovertemplate": "Country/Region=%{customdata[0]}<br>date=%{x}<br>Confirmed=%{y}<br>Deaths=%{customdata[1]}<br>Recovered=%{customdata[2]}",
         "legendgroup": "Country/Region=Burkina Faso",
         "marker": {
          "color": "#636efa"
         },
         "name": "Country/Region=Burkina Faso",
         "offsetgroup": "Country/Region=Burkina Faso",
         "orientation": "v",
         "showlegend": true,
         "textposition": "auto",
         "type": "bar",
         "x": [
          "2020-03-10T00:00:00",
          "2020-03-11T00:00:00",
          "2020-03-12T00:00:00",
          "2020-03-13T00:00:00",
          "2020-03-14T00:00:00",
          "2020-03-15T00:00:00",
          "2020-03-16T00:00:00",
          "2020-03-17T00:00:00",
          "2020-03-18T00:00:00",
          "2020-03-19T00:00:00",
          "2020-03-20T00:00:00",
          "2020-03-21T00:00:00",
          "2020-03-22T00:00:00",
          "2020-03-23T00:00:00",
          "2020-03-24T00:00:00",
          "2020-03-25T00:00:00",
          "2020-03-26T00:00:00",
          "2020-03-27T00:00:00",
          "2020-03-28T00:00:00",
          "2020-03-29T00:00:00",
          "2020-03-30T00:00:00",
          "2020-03-31T00:00:00",
          "2020-04-01T00:00:00",
          "2020-04-02T00:00:00",
          "2020-04-03T00:00:00",
          "2020-04-04T00:00:00",
          "2020-04-05T00:00:00",
          "2020-04-06T00:00:00",
          "2020-04-07T00:00:00",
          "2020-04-08T00:00:00",
          "2020-04-09T00:00:00",
          "2020-04-10T00:00:00",
          "2020-04-11T00:00:00",
          "2020-04-12T00:00:00",
          "2020-04-13T00:00:00",
          "2020-04-14T00:00:00",
          "2020-04-15T00:00:00",
          "2020-04-16T00:00:00",
          "2020-04-17T00:00:00",
          "2020-04-18T00:00:00",
          "2020-04-19T00:00:00",
          "2020-04-20T00:00:00",
          "2020-04-21T00:00:00",
          "2020-04-22T00:00:00",
          "2020-04-23T00:00:00",
          "2020-04-24T00:00:00",
          "2020-04-25T00:00:00",
          "2020-04-26T00:00:00",
          "2020-04-27T00:00:00"
         ],
         "xaxis": "x",
         "y": [
          1,
          2,
          2,
          2,
          2,
          3,
          15,
          15,
          20,
          33,
          40,
          64,
          75,
          99,
          114,
          146,
          152,
          180,
          207,
          222,
          246,
          261,
          282,
          288,
          302,
          318,
          345,
          364,
          384,
          414,
          443,
          443,
          484,
          497,
          497,
          528,
          542,
          546,
          557,
          565,
          576,
          581,
          600,
          609,
          616,
          629,
          629,
          632,
          635
         ],
         "yaxis": "y"
        },
        {
         "alignmentgroup": "True",
         "customdata": [
          [
           "Congo (Kinshasa)",
           0,
           0
          ],
          [
           "Congo (Kinshasa)",
           0,
           0
          ],
          [
           "Congo (Kinshasa)",
           0,
           0
          ],
          [
           "Congo (Kinshasa)",
           0,
           0
          ],
          [
           "Congo (Kinshasa)",
           0,
           0
          ],
          [
           "Congo (Kinshasa)",
           0,
           0
          ],
          [
           "Congo (Kinshasa)",
           0,
           0
          ],
          [
           "Congo (Kinshasa)",
           0,
           0
          ],
          [
           "Congo (Kinshasa)",
           0,
           0
          ],
          [
           "Congo (Kinshasa)",
           0,
           0
          ],
          [
           "Congo (Kinshasa)",
           1,
           0
          ],
          [
           "Congo (Kinshasa)",
           1,
           0
          ],
          [
           "Congo (Kinshasa)",
           1,
           0
          ],
          [
           "Congo (Kinshasa)",
           2,
           0
          ],
          [
           "Congo (Kinshasa)",
           2,
           0
          ],
          [
           "Congo (Kinshasa)",
           3,
           0
          ],
          [
           "Congo (Kinshasa)",
           3,
           2
          ],
          [
           "Congo (Kinshasa)",
           6,
           2
          ],
          [
           "Congo (Kinshasa)",
           6,
           2
          ],
          [
           "Congo (Kinshasa)",
           8,
           2
          ],
          [
           "Congo (Kinshasa)",
           8,
           2
          ],
          [
           "Congo (Kinshasa)",
           9,
           3
          ],
          [
           "Congo (Kinshasa)",
           13,
           3
          ],
          [
           "Congo (Kinshasa)",
           13,
           3
          ],
          [
           "Congo (Kinshasa)",
           18,
           3
          ],
          [
           "Congo (Kinshasa)",
           18,
           3
          ],
          [
           "Congo (Kinshasa)",
           18,
           5
          ],
          [
           "Congo (Kinshasa)",
           18,
           9
          ],
          [
           "Congo (Kinshasa)",
           18,
           9
          ],
          [
           "Congo (Kinshasa)",
           18,
           9
          ],
          [
           "Congo (Kinshasa)",
           20,
           13
          ],
          [
           "Congo (Kinshasa)",
           20,
           16
          ],
          [
           "Congo (Kinshasa)",
           20,
           16
          ],
          [
           "Congo (Kinshasa)",
           20,
           17
          ],
          [
           "Congo (Kinshasa)",
           20,
           20
          ],
          [
           "Congo (Kinshasa)",
           21,
           21
          ],
          [
           "Congo (Kinshasa)",
           22,
           23
          ],
          [
           "Congo (Kinshasa)",
           23,
           25
          ],
          [
           "Congo (Kinshasa)",
           25,
           26
          ],
          [
           "Congo (Kinshasa)",
           25,
           26
          ],
          [
           "Congo (Kinshasa)",
           25,
           27
          ],
          [
           "Congo (Kinshasa)",
           25,
           35
          ],
          [
           "Congo (Kinshasa)",
           25,
           45
          ],
          [
           "Congo (Kinshasa)",
           25,
           47
          ],
          [
           "Congo (Kinshasa)",
           25,
           48
          ],
          [
           "Congo (Kinshasa)",
           28,
           49
          ],
          [
           "Congo (Kinshasa)",
           28,
           50
          ],
          [
           "Congo (Kinshasa)",
           28,
           50
          ]
         ],
         "hoverlabel": {
          "namelength": 0
         },
         "hovertemplate": "Country/Region=%{customdata[0]}<br>date=%{x}<br>Confirmed=%{y}<br>Deaths=%{customdata[1]}<br>Recovered=%{customdata[2]}",
         "legendgroup": "Country/Region=Congo (Kinshasa)",
         "marker": {
          "color": "#EF553B"
         },
         "name": "Country/Region=Congo (Kinshasa)",
         "offsetgroup": "Country/Region=Congo (Kinshasa)",
         "orientation": "v",
         "showlegend": true,
         "textposition": "auto",
         "type": "bar",
         "x": [
          "2020-03-11T00:00:00",
          "2020-03-12T00:00:00",
          "2020-03-13T00:00:00",
          "2020-03-14T00:00:00",
          "2020-03-15T00:00:00",
          "2020-03-16T00:00:00",
          "2020-03-17T00:00:00",
          "2020-03-18T00:00:00",
          "2020-03-19T00:00:00",
          "2020-03-20T00:00:00",
          "2020-03-21T00:00:00",
          "2020-03-22T00:00:00",
          "2020-03-23T00:00:00",
          "2020-03-24T00:00:00",
          "2020-03-25T00:00:00",
          "2020-03-26T00:00:00",
          "2020-03-27T00:00:00",
          "2020-03-28T00:00:00",
          "2020-03-29T00:00:00",
          "2020-03-30T00:00:00",
          "2020-03-31T00:00:00",
          "2020-04-01T00:00:00",
          "2020-04-02T00:00:00",
          "2020-04-03T00:00:00",
          "2020-04-04T00:00:00",
          "2020-04-05T00:00:00",
          "2020-04-06T00:00:00",
          "2020-04-07T00:00:00",
          "2020-04-08T00:00:00",
          "2020-04-09T00:00:00",
          "2020-04-10T00:00:00",
          "2020-04-11T00:00:00",
          "2020-04-12T00:00:00",
          "2020-04-13T00:00:00",
          "2020-04-14T00:00:00",
          "2020-04-15T00:00:00",
          "2020-04-16T00:00:00",
          "2020-04-17T00:00:00",
          "2020-04-18T00:00:00",
          "2020-04-19T00:00:00",
          "2020-04-20T00:00:00",
          "2020-04-21T00:00:00",
          "2020-04-22T00:00:00",
          "2020-04-23T00:00:00",
          "2020-04-24T00:00:00",
          "2020-04-25T00:00:00",
          "2020-04-26T00:00:00",
          "2020-04-27T00:00:00"
         ],
         "xaxis": "x",
         "y": [
          1,
          1,
          2,
          2,
          2,
          2,
          3,
          4,
          14,
          18,
          23,
          30,
          36,
          45,
          48,
          51,
          51,
          65,
          65,
          81,
          98,
          109,
          134,
          134,
          154,
          154,
          161,
          180,
          180,
          180,
          215,
          223,
          234,
          235,
          241,
          254,
          267,
          287,
          307,
          327,
          332,
          350,
          359,
          377,
          394,
          416,
          442,
          459
         ],
         "yaxis": "y"
        },
        {
         "alignmentgroup": "True",
         "customdata": [
          [
           "Ethiopia",
           0,
           0
          ],
          [
           "Ethiopia",
           0,
           0
          ],
          [
           "Ethiopia",
           0,
           0
          ],
          [
           "Ethiopia",
           0,
           0
          ],
          [
           "Ethiopia",
           0,
           0
          ],
          [
           "Ethiopia",
           0,
           0
          ],
          [
           "Ethiopia",
           0,
           0
          ],
          [
           "Ethiopia",
           0,
           0
          ],
          [
           "Ethiopia",
           0,
           0
          ],
          [
           "Ethiopia",
           0,
           0
          ],
          [
           "Ethiopia",
           0,
           0
          ],
          [
           "Ethiopia",
           0,
           0
          ],
          [
           "Ethiopia",
           0,
           0
          ],
          [
           "Ethiopia",
           0,
           0
          ],
          [
           "Ethiopia",
           0,
           0
          ],
          [
           "Ethiopia",
           0,
           1
          ],
          [
           "Ethiopia",
           0,
           1
          ],
          [
           "Ethiopia",
           0,
           4
          ],
          [
           "Ethiopia",
           0,
           2
          ],
          [
           "Ethiopia",
           0,
           2
          ],
          [
           "Ethiopia",
           0,
           3
          ],
          [
           "Ethiopia",
           0,
           3
          ],
          [
           "Ethiopia",
           0,
           4
          ],
          [
           "Ethiopia",
           2,
           4
          ],
          [
           "Ethiopia",
           2,
           4
          ],
          [
           "Ethiopia",
           2,
           4
          ],
          [
           "Ethiopia",
           2,
           4
          ],
          [
           "Ethiopia",
           2,
           4
          ],
          [
           "Ethiopia",
           3,
           4
          ],
          [
           "Ethiopia",
           3,
           10
          ],
          [
           "Ethiopia",
           3,
           10
          ],
          [
           "Ethiopia",
           3,
           14
          ],
          [
           "Ethiopia",
           3,
           14
          ],
          [
           "Ethiopia",
           3,
           15
          ],
          [
           "Ethiopia",
           3,
           15
          ],
          [
           "Ethiopia",
           3,
           15
          ],
          [
           "Ethiopia",
           3,
           16
          ],
          [
           "Ethiopia",
           3,
           16
          ],
          [
           "Ethiopia",
           3,
           16
          ],
          [
           "Ethiopia",
           3,
           16
          ],
          [
           "Ethiopia",
           3,
           21
          ],
          [
           "Ethiopia",
           3,
           21
          ],
          [
           "Ethiopia",
           3,
           25
          ],
          [
           "Ethiopia",
           3,
           29
          ],
          [
           "Ethiopia",
           3,
           41
          ],
          [
           "Ethiopia",
           3,
           50
          ]
         ],
         "hoverlabel": {
          "namelength": 0
         },
         "hovertemplate": "Country/Region=%{customdata[0]}<br>date=%{x}<br>Confirmed=%{y}<br>Deaths=%{customdata[1]}<br>Recovered=%{customdata[2]}",
         "legendgroup": "Country/Region=Ethiopia",
         "marker": {
          "color": "#00cc96"
         },
         "name": "Country/Region=Ethiopia",
         "offsetgroup": "Country/Region=Ethiopia",
         "orientation": "v",
         "showlegend": true,
         "textposition": "auto",
         "type": "bar",
         "x": [
          "2020-03-13T00:00:00",
          "2020-03-14T00:00:00",
          "2020-03-15T00:00:00",
          "2020-03-16T00:00:00",
          "2020-03-17T00:00:00",
          "2020-03-18T00:00:00",
          "2020-03-19T00:00:00",
          "2020-03-20T00:00:00",
          "2020-03-21T00:00:00",
          "2020-03-22T00:00:00",
          "2020-03-23T00:00:00",
          "2020-03-24T00:00:00",
          "2020-03-25T00:00:00",
          "2020-03-26T00:00:00",
          "2020-03-27T00:00:00",
          "2020-03-28T00:00:00",
          "2020-03-29T00:00:00",
          "2020-03-30T00:00:00",
          "2020-03-31T00:00:00",
          "2020-04-01T00:00:00",
          "2020-04-02T00:00:00",
          "2020-04-03T00:00:00",
          "2020-04-04T00:00:00",
          "2020-04-05T00:00:00",
          "2020-04-06T00:00:00",
          "2020-04-07T00:00:00",
          "2020-04-08T00:00:00",
          "2020-04-09T00:00:00",
          "2020-04-10T00:00:00",
          "2020-04-11T00:00:00",
          "2020-04-12T00:00:00",
          "2020-04-13T00:00:00",
          "2020-04-14T00:00:00",
          "2020-04-15T00:00:00",
          "2020-04-16T00:00:00",
          "2020-04-17T00:00:00",
          "2020-04-18T00:00:00",
          "2020-04-19T00:00:00",
          "2020-04-20T00:00:00",
          "2020-04-21T00:00:00",
          "2020-04-22T00:00:00",
          "2020-04-23T00:00:00",
          "2020-04-24T00:00:00",
          "2020-04-25T00:00:00",
          "2020-04-26T00:00:00",
          "2020-04-27T00:00:00"
         ],
         "xaxis": "x",
         "y": [
          1,
          1,
          1,
          5,
          5,
          6,
          6,
          9,
          9,
          11,
          11,
          12,
          12,
          12,
          16,
          16,
          21,
          23,
          26,
          29,
          29,
          35,
          38,
          43,
          44,
          52,
          55,
          56,
          65,
          69,
          71,
          74,
          82,
          85,
          92,
          96,
          105,
          108,
          111,
          114,
          116,
          116,
          117,
          122,
          123,
          124
         ],
         "yaxis": "y"
        },
        {
         "alignmentgroup": "True",
         "customdata": [
          [
           "Sudan",
           1,
           0
          ],
          [
           "Sudan",
           1,
           0
          ],
          [
           "Sudan",
           1,
           0
          ],
          [
           "Sudan",
           1,
           0
          ],
          [
           "Sudan",
           1,
           0
          ],
          [
           "Sudan",
           1,
           0
          ],
          [
           "Sudan",
           1,
           0
          ],
          [
           "Sudan",
           1,
           0
          ],
          [
           "Sudan",
           1,
           0
          ],
          [
           "Sudan",
           1,
           0
          ],
          [
           "Sudan",
           1,
           0
          ],
          [
           "Sudan",
           1,
           0
          ],
          [
           "Sudan",
           1,
           0
          ],
          [
           "Sudan",
           1,
           0
          ],
          [
           "Sudan",
           1,
           0
          ],
          [
           "Sudan",
           1,
           0
          ],
          [
           "Sudan",
           1,
           0
          ],
          [
           "Sudan",
           2,
           0
          ],
          [
           "Sudan",
           2,
           1
          ],
          [
           "Sudan",
           2,
           2
          ],
          [
           "Sudan",
           2,
           2
          ],
          [
           "Sudan",
           2,
           2
          ],
          [
           "Sudan",
           2,
           2
          ],
          [
           "Sudan",
           2,
           2
          ],
          [
           "Sudan",
           2,
           2
          ],
          [
           "Sudan",
           2,
           2
          ],
          [
           "Sudan",
           2,
           2
          ],
          [
           "Sudan",
           2,
           2
          ],
          [
           "Sudan",
           2,
           2
          ],
          [
           "Sudan",
           2,
           2
          ],
          [
           "Sudan",
           2,
           2
          ],
          [
           "Sudan",
           4,
           4
          ],
          [
           "Sudan",
           5,
           4
          ],
          [
           "Sudan",
           5,
           4
          ],
          [
           "Sudan",
           5,
           4
          ],
          [
           "Sudan",
           6,
           4
          ],
          [
           "Sudan",
           10,
           6
          ],
          [
           "Sudan",
           10,
           6
          ],
          [
           "Sudan",
           12,
           8
          ],
          [
           "Sudan",
           12,
           8
          ],
          [
           "Sudan",
           13,
           12
          ],
          [
           "Sudan",
           16,
           14
          ],
          [
           "Sudan",
           16,
           14
          ],
          [
           "Sudan",
           17,
           19
          ],
          [
           "Sudan",
           21,
           20
          ],
          [
           "Sudan",
           22,
           21
          ]
         ],
         "hoverlabel": {
          "namelength": 0
         },
         "hovertemplate": "Country/Region=%{customdata[0]}<br>date=%{x}<br>Confirmed=%{y}<br>Deaths=%{customdata[1]}<br>Recovered=%{customdata[2]}",
         "legendgroup": "Country/Region=Sudan",
         "marker": {
          "color": "#ab63fa"
         },
         "name": "Country/Region=Sudan",
         "offsetgroup": "Country/Region=Sudan",
         "orientation": "v",
         "showlegend": true,
         "textposition": "auto",
         "type": "bar",
         "x": [
          "2020-03-13T00:00:00",
          "2020-03-14T00:00:00",
          "2020-03-15T00:00:00",
          "2020-03-16T00:00:00",
          "2020-03-17T00:00:00",
          "2020-03-18T00:00:00",
          "2020-03-19T00:00:00",
          "2020-03-20T00:00:00",
          "2020-03-21T00:00:00",
          "2020-03-22T00:00:00",
          "2020-03-23T00:00:00",
          "2020-03-24T00:00:00",
          "2020-03-25T00:00:00",
          "2020-03-26T00:00:00",
          "2020-03-27T00:00:00",
          "2020-03-28T00:00:00",
          "2020-03-29T00:00:00",
          "2020-03-30T00:00:00",
          "2020-03-31T00:00:00",
          "2020-04-01T00:00:00",
          "2020-04-02T00:00:00",
          "2020-04-03T00:00:00",
          "2020-04-04T00:00:00",
          "2020-04-05T00:00:00",
          "2020-04-06T00:00:00",
          "2020-04-07T00:00:00",
          "2020-04-08T00:00:00",
          "2020-04-09T00:00:00",
          "2020-04-10T00:00:00",
          "2020-04-11T00:00:00",
          "2020-04-12T00:00:00",
          "2020-04-13T00:00:00",
          "2020-04-14T00:00:00",
          "2020-04-15T00:00:00",
          "2020-04-16T00:00:00",
          "2020-04-17T00:00:00",
          "2020-04-18T00:00:00",
          "2020-04-19T00:00:00",
          "2020-04-20T00:00:00",
          "2020-04-21T00:00:00",
          "2020-04-22T00:00:00",
          "2020-04-23T00:00:00",
          "2020-04-24T00:00:00",
          "2020-04-25T00:00:00",
          "2020-04-26T00:00:00",
          "2020-04-27T00:00:00"
         ],
         "xaxis": "x",
         "y": [
          1,
          1,
          1,
          1,
          1,
          2,
          2,
          2,
          2,
          2,
          2,
          3,
          3,
          3,
          3,
          5,
          6,
          6,
          7,
          7,
          8,
          10,
          10,
          12,
          12,
          14,
          14,
          15,
          17,
          19,
          19,
          29,
          32,
          32,
          32,
          33,
          66,
          66,
          107,
          107,
          140,
          174,
          174,
          213,
          237,
          275
         ],
         "yaxis": "y"
        },
        {
         "alignmentgroup": "True",
         "customdata": [
          [
           "Guinea",
           0,
           0
          ],
          [
           "Guinea",
           0,
           0
          ],
          [
           "Guinea",
           0,
           0
          ],
          [
           "Guinea",
           0,
           0
          ],
          [
           "Guinea",
           0,
           0
          ],
          [
           "Guinea",
           0,
           0
          ],
          [
           "Guinea",
           0,
           0
          ],
          [
           "Guinea",
           0,
           0
          ],
          [
           "Guinea",
           0,
           0
          ],
          [
           "Guinea",
           0,
           0
          ],
          [
           "Guinea",
           0,
           0
          ],
          [
           "Guinea",
           0,
           0
          ],
          [
           "Guinea",
           0,
           0
          ],
          [
           "Guinea",
           0,
           0
          ],
          [
           "Guinea",
           0,
           0
          ],
          [
           "Guinea",
           0,
           0
          ],
          [
           "Guinea",
           0,
           0
          ],
          [
           "Guinea",
           0,
           0
          ],
          [
           "Guinea",
           0,
           0
          ],
          [
           "Guinea",
           0,
           0
          ],
          [
           "Guinea",
           0,
           0
          ],
          [
           "Guinea",
           0,
           2
          ],
          [
           "Guinea",
           0,
           5
          ],
          [
           "Guinea",
           0,
           5
          ],
          [
           "Guinea",
           0,
           5
          ],
          [
           "Guinea",
           0,
           5
          ],
          [
           "Guinea",
           0,
           5
          ],
          [
           "Guinea",
           0,
           11
          ],
          [
           "Guinea",
           0,
           15
          ],
          [
           "Guinea",
           0,
           17
          ],
          [
           "Guinea",
           0,
           17
          ],
          [
           "Guinea",
           0,
           17
          ],
          [
           "Guinea",
           0,
           31
          ],
          [
           "Guinea",
           1,
           31
          ],
          [
           "Guinea",
           1,
           49
          ],
          [
           "Guinea",
           3,
           59
          ],
          [
           "Guinea",
           3,
           65
          ],
          [
           "Guinea",
           5,
           87
          ],
          [
           "Guinea",
           5,
           122
          ],
          [
           "Guinea",
           6,
           127
          ],
          [
           "Guinea",
           6,
           164
          ],
          [
           "Guinea",
           6,
           170
          ],
          [
           "Guinea",
           6,
           191
          ],
          [
           "Guinea",
           7,
           208
          ],
          [
           "Guinea",
           7,
           208
          ],
          [
           "Guinea",
           7,
           246
          ]
         ],
         "hoverlabel": {
          "namelength": 0
         },
         "hovertemplate": "Country/Region=%{customdata[0]}<br>date=%{x}<br>Confirmed=%{y}<br>Deaths=%{customdata[1]}<br>Recovered=%{customdata[2]}",
         "legendgroup": "Country/Region=Guinea",
         "marker": {
          "color": "#FFA15A"
         },
         "name": "Country/Region=Guinea",
         "offsetgroup": "Country/Region=Guinea",
         "orientation": "v",
         "showlegend": true,
         "textposition": "auto",
         "type": "bar",
         "x": [
          "2020-03-13T00:00:00",
          "2020-03-14T00:00:00",
          "2020-03-15T00:00:00",
          "2020-03-16T00:00:00",
          "2020-03-17T00:00:00",
          "2020-03-18T00:00:00",
          "2020-03-19T00:00:00",
          "2020-03-20T00:00:00",
          "2020-03-21T00:00:00",
          "2020-03-22T00:00:00",
          "2020-03-23T00:00:00",
          "2020-03-24T00:00:00",
          "2020-03-25T00:00:00",
          "2020-03-26T00:00:00",
          "2020-03-27T00:00:00",
          "2020-03-28T00:00:00",
          "2020-03-29T00:00:00",
          "2020-03-30T00:00:00",
          "2020-03-31T00:00:00",
          "2020-04-01T00:00:00",
          "2020-04-02T00:00:00",
          "2020-04-03T00:00:00",
          "2020-04-04T00:00:00",
          "2020-04-05T00:00:00",
          "2020-04-06T00:00:00",
          "2020-04-07T00:00:00",
          "2020-04-08T00:00:00",
          "2020-04-09T00:00:00",
          "2020-04-10T00:00:00",
          "2020-04-11T00:00:00",
          "2020-04-12T00:00:00",
          "2020-04-13T00:00:00",
          "2020-04-14T00:00:00",
          "2020-04-15T00:00:00",
          "2020-04-16T00:00:00",
          "2020-04-17T00:00:00",
          "2020-04-18T00:00:00",
          "2020-04-19T00:00:00",
          "2020-04-20T00:00:00",
          "2020-04-21T00:00:00",
          "2020-04-22T00:00:00",
          "2020-04-23T00:00:00",
          "2020-04-24T00:00:00",
          "2020-04-25T00:00:00",
          "2020-04-26T00:00:00",
          "2020-04-27T00:00:00"
         ],
         "xaxis": "x",
         "y": [
          1,
          1,
          1,
          1,
          1,
          1,
          1,
          1,
          2,
          2,
          4,
          4,
          4,
          4,
          8,
          8,
          16,
          22,
          22,
          30,
          52,
          73,
          111,
          121,
          128,
          144,
          164,
          194,
          212,
          250,
          250,
          319,
          363,
          404,
          438,
          477,
          518,
          579,
          622,
          688,
          761,
          862,
          954,
          996,
          996,
          1163
         ],
         "yaxis": "y"
        },
        {
         "alignmentgroup": "True",
         "customdata": [
          [
           "Kenya",
           0,
           0
          ],
          [
           "Kenya",
           0,
           0
          ],
          [
           "Kenya",
           0,
           0
          ],
          [
           "Kenya",
           0,
           0
          ],
          [
           "Kenya",
           0,
           0
          ],
          [
           "Kenya",
           0,
           0
          ],
          [
           "Kenya",
           0,
           0
          ],
          [
           "Kenya",
           0,
           0
          ],
          [
           "Kenya",
           0,
           0
          ],
          [
           "Kenya",
           0,
           0
          ],
          [
           "Kenya",
           0,
           0
          ],
          [
           "Kenya",
           0,
           0
          ],
          [
           "Kenya",
           0,
           1
          ],
          [
           "Kenya",
           1,
           1
          ],
          [
           "Kenya",
           1,
           1
          ],
          [
           "Kenya",
           1,
           1
          ],
          [
           "Kenya",
           1,
           1
          ],
          [
           "Kenya",
           1,
           1
          ],
          [
           "Kenya",
           1,
           1
          ],
          [
           "Kenya",
           1,
           3
          ],
          [
           "Kenya",
           3,
           4
          ],
          [
           "Kenya",
           4,
           4
          ],
          [
           "Kenya",
           4,
           4
          ],
          [
           "Kenya",
           4,
           4
          ],
          [
           "Kenya",
           6,
           4
          ],
          [
           "Kenya",
           6,
           7
          ],
          [
           "Kenya",
           6,
           9
          ],
          [
           "Kenya",
           7,
           12
          ],
          [
           "Kenya",
           7,
           22
          ],
          [
           "Kenya",
           7,
           24
          ],
          [
           "Kenya",
           8,
           25
          ],
          [
           "Kenya",
           9,
           40
          ],
          [
           "Kenya",
           9,
           41
          ],
          [
           "Kenya",
           10,
           53
          ],
          [
           "Kenya",
           11,
           53
          ],
          [
           "Kenya",
           11,
           53
          ],
          [
           "Kenya",
           12,
           60
          ],
          [
           "Kenya",
           14,
           67
          ],
          [
           "Kenya",
           14,
           69
          ],
          [
           "Kenya",
           14,
           74
          ],
          [
           "Kenya",
           14,
           74
          ],
          [
           "Kenya",
           14,
           89
          ],
          [
           "Kenya",
           14,
           94
          ],
          [
           "Kenya",
           14,
           98
          ],
          [
           "Kenya",
           14,
           106
          ],
          [
           "Kenya",
           14,
           114
          ]
         ],
         "hoverlabel": {
          "namelength": 0
         },
         "hovertemplate": "Country/Region=%{customdata[0]}<br>date=%{x}<br>Confirmed=%{y}<br>Deaths=%{customdata[1]}<br>Recovered=%{customdata[2]}",
         "legendgroup": "Country/Region=Kenya",
         "marker": {
          "color": "#19d3f3"
         },
         "name": "Country/Region=Kenya",
         "offsetgroup": "Country/Region=Kenya",
         "orientation": "v",
         "showlegend": true,
         "textposition": "auto",
         "type": "bar",
         "x": [
          "2020-03-13T00:00:00",
          "2020-03-14T00:00:00",
          "2020-03-15T00:00:00",
          "2020-03-16T00:00:00",
          "2020-03-17T00:00:00",
          "2020-03-18T00:00:00",
          "2020-03-19T00:00:00",
          "2020-03-20T00:00:00",
          "2020-03-21T00:00:00",
          "2020-03-22T00:00:00",
          "2020-03-23T00:00:00",
          "2020-03-24T00:00:00",
          "2020-03-25T00:00:00",
          "2020-03-26T00:00:00",
          "2020-03-27T00:00:00",
          "2020-03-28T00:00:00",
          "2020-03-29T00:00:00",
          "2020-03-30T00:00:00",
          "2020-03-31T00:00:00",
          "2020-04-01T00:00:00",
          "2020-04-02T00:00:00",
          "2020-04-03T00:00:00",
          "2020-04-04T00:00:00",
          "2020-04-05T00:00:00",
          "2020-04-06T00:00:00",
          "2020-04-07T00:00:00",
          "2020-04-08T00:00:00",
          "2020-04-09T00:00:00",
          "2020-04-10T00:00:00",
          "2020-04-11T00:00:00",
          "2020-04-12T00:00:00",
          "2020-04-13T00:00:00",
          "2020-04-14T00:00:00",
          "2020-04-15T00:00:00",
          "2020-04-16T00:00:00",
          "2020-04-17T00:00:00",
          "2020-04-18T00:00:00",
          "2020-04-19T00:00:00",
          "2020-04-20T00:00:00",
          "2020-04-21T00:00:00",
          "2020-04-22T00:00:00",
          "2020-04-23T00:00:00",
          "2020-04-24T00:00:00",
          "2020-04-25T00:00:00",
          "2020-04-26T00:00:00",
          "2020-04-27T00:00:00"
         ],
         "xaxis": "x",
         "y": [
          1,
          1,
          3,
          3,
          3,
          3,
          7,
          7,
          7,
          15,
          16,
          25,
          28,
          31,
          31,
          38,
          42,
          50,
          59,
          81,
          110,
          122,
          126,
          142,
          158,
          172,
          179,
          184,
          189,
          191,
          197,
          208,
          216,
          225,
          234,
          246,
          262,
          270,
          281,
          296,
          303,
          320,
          336,
          343,
          355,
          363
         ],
         "yaxis": "y"
        },
        {
         "alignmentgroup": "True",
         "customdata": [
          [
           "Ghana",
           0,
           0
          ],
          [
           "Ghana",
           0,
           0
          ],
          [
           "Ghana",
           0,
           0
          ],
          [
           "Ghana",
           0,
           0
          ],
          [
           "Ghana",
           0,
           0
          ],
          [
           "Ghana",
           0,
           0
          ],
          [
           "Ghana",
           0,
           0
          ],
          [
           "Ghana",
           1,
           0
          ],
          [
           "Ghana",
           1,
           0
          ],
          [
           "Ghana",
           2,
           0
          ],
          [
           "Ghana",
           2,
           0
          ],
          [
           "Ghana",
           4,
           0
          ],
          [
           "Ghana",
           4,
           1
          ],
          [
           "Ghana",
           4,
           2
          ],
          [
           "Ghana",
           5,
           2
          ],
          [
           "Ghana",
           5,
           2
          ],
          [
           "Ghana",
           5,
           2
          ],
          [
           "Ghana",
           5,
           31
          ],
          [
           "Ghana",
           5,
           31
          ],
          [
           "Ghana",
           5,
           31
          ],
          [
           "Ghana",
           5,
           31
          ],
          [
           "Ghana",
           5,
           31
          ],
          [
           "Ghana",
           5,
           31
          ],
          [
           "Ghana",
           5,
           31
          ],
          [
           "Ghana",
           5,
           31
          ],
          [
           "Ghana",
           6,
           34
          ],
          [
           "Ghana",
           6,
           3
          ],
          [
           "Ghana",
           6,
           4
          ],
          [
           "Ghana",
           8,
           4
          ],
          [
           "Ghana",
           8,
           4
          ],
          [
           "Ghana",
           8,
           4
          ],
          [
           "Ghana",
           8,
           17
          ],
          [
           "Ghana",
           8,
           17
          ],
          [
           "Ghana",
           8,
           83
          ],
          [
           "Ghana",
           8,
           83
          ],
          [
           "Ghana",
           9,
           99
          ],
          [
           "Ghana",
           9,
           99
          ],
          [
           "Ghana",
           9,
           99
          ],
          [
           "Ghana",
           9,
           99
          ],
          [
           "Ghana",
           9,
           99
          ],
          [
           "Ghana",
           9,
           99
          ],
          [
           "Ghana",
           10,
           134
          ],
          [
           "Ghana",
           10,
           134
          ],
          [
           "Ghana",
           11,
           155
          ],
          [
           "Ghana",
           11,
           155
          ]
         ],
         "hoverlabel": {
          "namelength": 0
         },
         "hovertemplate": "Country/Region=%{customdata[0]}<br>date=%{x}<br>Confirmed=%{y}<br>Deaths=%{customdata[1]}<br>Recovered=%{customdata[2]}",
         "legendgroup": "Country/Region=Ghana",
         "marker": {
          "color": "#FF6692"
         },
         "name": "Country/Region=Ghana",
         "offsetgroup": "Country/Region=Ghana",
         "orientation": "v",
         "showlegend": true,
         "textposition": "auto",
         "type": "bar",
         "x": [
          "2020-03-14T00:00:00",
          "2020-03-15T00:00:00",
          "2020-03-16T00:00:00",
          "2020-03-17T00:00:00",
          "2020-03-18T00:00:00",
          "2020-03-19T00:00:00",
          "2020-03-20T00:00:00",
          "2020-03-21T00:00:00",
          "2020-03-22T00:00:00",
          "2020-03-23T00:00:00",
          "2020-03-24T00:00:00",
          "2020-03-25T00:00:00",
          "2020-03-26T00:00:00",
          "2020-03-27T00:00:00",
          "2020-03-28T00:00:00",
          "2020-03-29T00:00:00",
          "2020-03-30T00:00:00",
          "2020-03-31T00:00:00",
          "2020-04-01T00:00:00",
          "2020-04-02T00:00:00",
          "2020-04-03T00:00:00",
          "2020-04-04T00:00:00",
          "2020-04-05T00:00:00",
          "2020-04-06T00:00:00",
          "2020-04-07T00:00:00",
          "2020-04-08T00:00:00",
          "2020-04-09T00:00:00",
          "2020-04-10T00:00:00",
          "2020-04-11T00:00:00",
          "2020-04-12T00:00:00",
          "2020-04-13T00:00:00",
          "2020-04-14T00:00:00",
          "2020-04-15T00:00:00",
          "2020-04-16T00:00:00",
          "2020-04-17T00:00:00",
          "2020-04-18T00:00:00",
          "2020-04-19T00:00:00",
          "2020-04-20T00:00:00",
          "2020-04-21T00:00:00",
          "2020-04-22T00:00:00",
          "2020-04-23T00:00:00",
          "2020-04-24T00:00:00",
          "2020-04-25T00:00:00",
          "2020-04-26T00:00:00",
          "2020-04-27T00:00:00"
         ],
         "xaxis": "x",
         "y": [
          3,
          6,
          6,
          7,
          7,
          11,
          16,
          19,
          23,
          27,
          53,
          93,
          132,
          137,
          141,
          152,
          152,
          161,
          195,
          204,
          205,
          205,
          214,
          214,
          287,
          313,
          378,
          378,
          408,
          566,
          566,
          636,
          636,
          641,
          641,
          834,
          1042,
          1042,
          1042,
          1154,
          1154,
          1279,
          1279,
          1550,
          1550
         ],
         "yaxis": "y"
        },
        {
         "alignmentgroup": "True",
         "customdata": [
          [
           "Namibia",
           0,
           0
          ],
          [
           "Namibia",
           0,
           0
          ],
          [
           "Namibia",
           0,
           0
          ],
          [
           "Namibia",
           0,
           0
          ],
          [
           "Namibia",
           0,
           0
          ],
          [
           "Namibia",
           0,
           0
          ],
          [
           "Namibia",
           0,
           0
          ],
          [
           "Namibia",
           0,
           0
          ],
          [
           "Namibia",
           0,
           0
          ],
          [
           "Namibia",
           0,
           0
          ],
          [
           "Namibia",
           0,
           2
          ],
          [
           "Namibia",
           0,
           2
          ],
          [
           "Namibia",
           0,
           2
          ],
          [
           "Namibia",
           0,
           2
          ],
          [
           "Namibia",
           0,
           2
          ],
          [
           "Namibia",
           0,
           2
          ],
          [
           "Namibia",
           0,
           2
          ],
          [
           "Namibia",
           0,
           2
          ],
          [
           "Namibia",
           0,
           2
          ],
          [
           "Namibia",
           0,
           3
          ],
          [
           "Namibia",
           0,
           3
          ],
          [
           "Namibia",
           0,
           3
          ],
          [
           "Namibia",
           0,
           3
          ],
          [
           "Namibia",
           0,
           3
          ],
          [
           "Namibia",
           0,
           3
          ],
          [
           "Namibia",
           0,
           3
          ],
          [
           "Namibia",
           0,
           3
          ],
          [
           "Namibia",
           0,
           3
          ],
          [
           "Namibia",
           0,
           3
          ],
          [
           "Namibia",
           0,
           3
          ],
          [
           "Namibia",
           0,
           3
          ],
          [
           "Namibia",
           0,
           3
          ],
          [
           "Namibia",
           0,
           3
          ],
          [
           "Namibia",
           0,
           4
          ],
          [
           "Namibia",
           0,
           4
          ],
          [
           "Namibia",
           0,
           6
          ],
          [
           "Namibia",
           0,
           6
          ],
          [
           "Namibia",
           0,
           6
          ],
          [
           "Namibia",
           0,
           6
          ],
          [
           "Namibia",
           0,
           6
          ],
          [
           "Namibia",
           0,
           7
          ],
          [
           "Namibia",
           0,
           7
          ],
          [
           "Namibia",
           0,
           7
          ],
          [
           "Namibia",
           0,
           8
          ],
          [
           "Namibia",
           0,
           8
          ]
         ],
         "hoverlabel": {
          "namelength": 0
         },
         "hovertemplate": "Country/Region=%{customdata[0]}<br>date=%{x}<br>Confirmed=%{y}<br>Deaths=%{customdata[1]}<br>Recovered=%{customdata[2]}",
         "legendgroup": "Country/Region=Namibia",
         "marker": {
          "color": "#B6E880"
         },
         "name": "Country/Region=Namibia",
         "offsetgroup": "Country/Region=Namibia",
         "orientation": "v",
         "showlegend": true,
         "textposition": "auto",
         "type": "bar",
         "x": [
          "2020-03-14T00:00:00",
          "2020-03-15T00:00:00",
          "2020-03-16T00:00:00",
          "2020-03-17T00:00:00",
          "2020-03-18T00:00:00",
          "2020-03-19T00:00:00",
          "2020-03-20T00:00:00",
          "2020-03-21T00:00:00",
          "2020-03-22T00:00:00",
          "2020-03-23T00:00:00",
          "2020-03-24T00:00:00",
          "2020-03-25T00:00:00",
          "2020-03-26T00:00:00",
          "2020-03-27T00:00:00",
          "2020-03-28T00:00:00",
          "2020-03-29T00:00:00",
          "2020-03-30T00:00:00",
          "2020-03-31T00:00:00",
          "2020-04-01T00:00:00",
          "2020-04-02T00:00:00",
          "2020-04-03T00:00:00",
          "2020-04-04T00:00:00",
          "2020-04-05T00:00:00",
          "2020-04-06T00:00:00",
          "2020-04-07T00:00:00",
          "2020-04-08T00:00:00",
          "2020-04-09T00:00:00",
          "2020-04-10T00:00:00",
          "2020-04-11T00:00:00",
          "2020-04-12T00:00:00",
          "2020-04-13T00:00:00",
          "2020-04-14T00:00:00",
          "2020-04-15T00:00:00",
          "2020-04-16T00:00:00",
          "2020-04-17T00:00:00",
          "2020-04-18T00:00:00",
          "2020-04-19T00:00:00",
          "2020-04-20T00:00:00",
          "2020-04-21T00:00:00",
          "2020-04-22T00:00:00",
          "2020-04-23T00:00:00",
          "2020-04-24T00:00:00",
          "2020-04-25T00:00:00",
          "2020-04-26T00:00:00",
          "2020-04-27T00:00:00"
         ],
         "xaxis": "x",
         "y": [
          2,
          2,
          2,
          2,
          2,
          3,
          3,
          3,
          3,
          4,
          7,
          7,
          8,
          8,
          8,
          11,
          11,
          11,
          14,
          14,
          14,
          14,
          16,
          16,
          16,
          16,
          16,
          16,
          16,
          16,
          16,
          16,
          16,
          16,
          16,
          16,
          16,
          16,
          16,
          16,
          16,
          16,
          16,
          16,
          16
         ],
         "yaxis": "y"
        },
        {
         "alignmentgroup": "True",
         "customdata": [
          [
           "Seychelles",
           0,
           0
          ],
          [
           "Seychelles",
           0,
           0
          ],
          [
           "Seychelles",
           0,
           0
          ],
          [
           "Seychelles",
           0,
           0
          ],
          [
           "Seychelles",
           0,
           0
          ],
          [
           "Seychelles",
           0,
           0
          ],
          [
           "Seychelles",
           0,
           0
          ],
          [
           "Seychelles",
           0,
           0
          ],
          [
           "Seychelles",
           0,
           0
          ],
          [
           "Seychelles",
           0,
           0
          ],
          [
           "Seychelles",
           0,
           0
          ],
          [
           "Seychelles",
           0,
           0
          ],
          [
           "Seychelles",
           0,
           0
          ],
          [
           "Seychelles",
           0,
           0
          ],
          [
           "Seychelles",
           0,
           0
          ],
          [
           "Seychelles",
           0,
           0
          ],
          [
           "Seychelles",
           0,
           0
          ],
          [
           "Seychelles",
           0,
           0
          ],
          [
           "Seychelles",
           0,
           0
          ],
          [
           "Seychelles",
           0,
           0
          ],
          [
           "Seychelles",
           0,
           0
          ],
          [
           "Seychelles",
           0,
           0
          ],
          [
           "Seychelles",
           0,
           0
          ],
          [
           "Seychelles",
           0,
           0
          ],
          [
           "Seychelles",
           0,
           0
          ],
          [
           "Seychelles",
           0,
           0
          ],
          [
           "Seychelles",
           0,
           0
          ],
          [
           "Seychelles",
           0,
           0
          ],
          [
           "Seychelles",
           0,
           0
          ],
          [
           "Seychelles",
           0,
           0
          ],
          [
           "Seychelles",
           0,
           0
          ],
          [
           "Seychelles",
           0,
           0
          ],
          [
           "Seychelles",
           0,
           0
          ],
          [
           "Seychelles",
           0,
           0
          ],
          [
           "Seychelles",
           0,
           5
          ],
          [
           "Seychelles",
           0,
           5
          ],
          [
           "Seychelles",
           0,
           5
          ],
          [
           "Seychelles",
           0,
           5
          ],
          [
           "Seychelles",
           0,
           5
          ],
          [
           "Seychelles",
           0,
           5
          ],
          [
           "Seychelles",
           0,
           6
          ],
          [
           "Seychelles",
           0,
           6
          ],
          [
           "Seychelles",
           0,
           6
          ],
          [
           "Seychelles",
           0,
           6
          ],
          [
           "Seychelles",
           0,
           6
          ]
         ],
         "hoverlabel": {
          "namelength": 0
         },
         "hovertemplate": "Country/Region=%{customdata[0]}<br>date=%{x}<br>Confirmed=%{y}<br>Deaths=%{customdata[1]}<br>Recovered=%{customdata[2]}",
         "legendgroup": "Country/Region=Seychelles",
         "marker": {
          "color": "#FF97FF"
         },
         "name": "Country/Region=Seychelles",
         "offsetgroup": "Country/Region=Seychelles",
         "orientation": "v",
         "showlegend": true,
         "textposition": "auto",
         "type": "bar",
         "x": [
          "2020-03-14T00:00:00",
          "2020-03-15T00:00:00",
          "2020-03-16T00:00:00",
          "2020-03-17T00:00:00",
          "2020-03-18T00:00:00",
          "2020-03-19T00:00:00",
          "2020-03-20T00:00:00",
          "2020-03-21T00:00:00",
          "2020-03-22T00:00:00",
          "2020-03-23T00:00:00",
          "2020-03-24T00:00:00",
          "2020-03-25T00:00:00",
          "2020-03-26T00:00:00",
          "2020-03-27T00:00:00",
          "2020-03-28T00:00:00",
          "2020-03-29T00:00:00",
          "2020-03-30T00:00:00",
          "2020-03-31T00:00:00",
          "2020-04-01T00:00:00",
          "2020-04-02T00:00:00",
          "2020-04-03T00:00:00",
          "2020-04-04T00:00:00",
          "2020-04-05T00:00:00",
          "2020-04-06T00:00:00",
          "2020-04-07T00:00:00",
          "2020-04-08T00:00:00",
          "2020-04-09T00:00:00",
          "2020-04-10T00:00:00",
          "2020-04-11T00:00:00",
          "2020-04-12T00:00:00",
          "2020-04-13T00:00:00",
          "2020-04-14T00:00:00",
          "2020-04-15T00:00:00",
          "2020-04-16T00:00:00",
          "2020-04-17T00:00:00",
          "2020-04-18T00:00:00",
          "2020-04-19T00:00:00",
          "2020-04-20T00:00:00",
          "2020-04-21T00:00:00",
          "2020-04-22T00:00:00",
          "2020-04-23T00:00:00",
          "2020-04-24T00:00:00",
          "2020-04-25T00:00:00",
          "2020-04-26T00:00:00",
          "2020-04-27T00:00:00"
         ],
         "xaxis": "x",
         "y": [
          2,
          2,
          3,
          4,
          4,
          6,
          7,
          7,
          7,
          7,
          7,
          7,
          7,
          7,
          8,
          8,
          8,
          10,
          10,
          10,
          10,
          10,
          10,
          11,
          11,
          11,
          11,
          11,
          11,
          11,
          11,
          11,
          11,
          11,
          11,
          11,
          11,
          11,
          11,
          11,
          11,
          11,
          11,
          11,
          11
         ],
         "yaxis": "y"
        },
        {
         "alignmentgroup": "True",
         "customdata": [
          [
           "Eswatini",
           0,
           0
          ],
          [
           "Eswatini",
           0,
           0
          ],
          [
           "Eswatini",
           0,
           0
          ],
          [
           "Eswatini",
           0,
           0
          ],
          [
           "Eswatini",
           0,
           0
          ],
          [
           "Eswatini",
           0,
           0
          ],
          [
           "Eswatini",
           0,
           0
          ],
          [
           "Eswatini",
           0,
           0
          ],
          [
           "Eswatini",
           0,
           0
          ],
          [
           "Eswatini",
           0,
           0
          ],
          [
           "Eswatini",
           0,
           0
          ],
          [
           "Eswatini",
           0,
           0
          ],
          [
           "Eswatini",
           0,
           0
          ],
          [
           "Eswatini",
           0,
           0
          ],
          [
           "Eswatini",
           0,
           0
          ],
          [
           "Eswatini",
           0,
           0
          ],
          [
           "Eswatini",
           0,
           0
          ],
          [
           "Eswatini",
           0,
           0
          ],
          [
           "Eswatini",
           0,
           0
          ],
          [
           "Eswatini",
           0,
           0
          ],
          [
           "Eswatini",
           0,
           0
          ],
          [
           "Eswatini",
           0,
           0
          ],
          [
           "Eswatini",
           0,
           0
          ],
          [
           "Eswatini",
           0,
           4
          ],
          [
           "Eswatini",
           0,
           4
          ],
          [
           "Eswatini",
           0,
           7
          ],
          [
           "Eswatini",
           0,
           7
          ],
          [
           "Eswatini",
           0,
           7
          ],
          [
           "Eswatini",
           0,
           7
          ],
          [
           "Eswatini",
           0,
           7
          ],
          [
           "Eswatini",
           0,
           7
          ],
          [
           "Eswatini",
           0,
           8
          ],
          [
           "Eswatini",
           0,
           8
          ],
          [
           "Eswatini",
           1,
           8
          ],
          [
           "Eswatini",
           1,
           8
          ],
          [
           "Eswatini",
           1,
           8
          ],
          [
           "Eswatini",
           1,
           8
          ],
          [
           "Eswatini",
           1,
           8
          ],
          [
           "Eswatini",
           1,
           8
          ],
          [
           "Eswatini",
           1,
           8
          ],
          [
           "Eswatini",
           1,
           8
          ],
          [
           "Eswatini",
           1,
           10
          ],
          [
           "Eswatini",
           1,
           10
          ],
          [
           "Eswatini",
           1,
           10
          ],
          [
           "Eswatini",
           1,
           10
          ]
         ],
         "hoverlabel": {
          "namelength": 0
         },
         "hovertemplate": "Country/Region=%{customdata[0]}<br>date=%{x}<br>Confirmed=%{y}<br>Deaths=%{customdata[1]}<br>Recovered=%{customdata[2]}",
         "legendgroup": "Country/Region=Eswatini",
         "marker": {
          "color": "#FECB52"
         },
         "name": "Country/Region=Eswatini",
         "offsetgroup": "Country/Region=Eswatini",
         "orientation": "v",
         "showlegend": true,
         "textposition": "auto",
         "type": "bar",
         "x": [
          "2020-03-14T00:00:00",
          "2020-03-15T00:00:00",
          "2020-03-16T00:00:00",
          "2020-03-17T00:00:00",
          "2020-03-18T00:00:00",
          "2020-03-19T00:00:00",
          "2020-03-20T00:00:00",
          "2020-03-21T00:00:00",
          "2020-03-22T00:00:00",
          "2020-03-23T00:00:00",
          "2020-03-24T00:00:00",
          "2020-03-25T00:00:00",
          "2020-03-26T00:00:00",
          "2020-03-27T00:00:00",
          "2020-03-28T00:00:00",
          "2020-03-29T00:00:00",
          "2020-03-30T00:00:00",
          "2020-03-31T00:00:00",
          "2020-04-01T00:00:00",
          "2020-04-02T00:00:00",
          "2020-04-03T00:00:00",
          "2020-04-04T00:00:00",
          "2020-04-05T00:00:00",
          "2020-04-06T00:00:00",
          "2020-04-07T00:00:00",
          "2020-04-08T00:00:00",
          "2020-04-09T00:00:00",
          "2020-04-10T00:00:00",
          "2020-04-11T00:00:00",
          "2020-04-12T00:00:00",
          "2020-04-13T00:00:00",
          "2020-04-14T00:00:00",
          "2020-04-15T00:00:00",
          "2020-04-16T00:00:00",
          "2020-04-17T00:00:00",
          "2020-04-18T00:00:00",
          "2020-04-19T00:00:00",
          "2020-04-20T00:00:00",
          "2020-04-21T00:00:00",
          "2020-04-22T00:00:00",
          "2020-04-23T00:00:00",
          "2020-04-24T00:00:00",
          "2020-04-25T00:00:00",
          "2020-04-26T00:00:00",
          "2020-04-27T00:00:00"
         ],
         "xaxis": "x",
         "y": [
          1,
          1,
          1,
          1,
          1,
          1,
          1,
          1,
          4,
          4,
          4,
          4,
          6,
          9,
          9,
          9,
          9,
          9,
          9,
          9,
          9,
          9,
          9,
          10,
          10,
          12,
          12,
          12,
          12,
          14,
          15,
          15,
          15,
          16,
          16,
          22,
          22,
          24,
          31,
          31,
          31,
          36,
          56,
          59,
          65
         ],
         "yaxis": "y"
        },
        {
         "alignmentgroup": "True",
         "customdata": [
          [
           "Gabon",
           0,
           0
          ],
          [
           "Gabon",
           0,
           0
          ],
          [
           "Gabon",
           0,
           0
          ],
          [
           "Gabon",
           0,
           0
          ],
          [
           "Gabon",
           0,
           0
          ],
          [
           "Gabon",
           0,
           0
          ],
          [
           "Gabon",
           1,
           0
          ],
          [
           "Gabon",
           1,
           0
          ],
          [
           "Gabon",
           1,
           0
          ],
          [
           "Gabon",
           1,
           0
          ],
          [
           "Gabon",
           1,
           0
          ],
          [
           "Gabon",
           1,
           0
          ],
          [
           "Gabon",
           1,
           0
          ],
          [
           "Gabon",
           1,
           0
          ],
          [
           "Gabon",
           1,
           0
          ],
          [
           "Gabon",
           1,
           0
          ],
          [
           "Gabon",
           1,
           0
          ],
          [
           "Gabon",
           1,
           0
          ],
          [
           "Gabon",
           1,
           0
          ],
          [
           "Gabon",
           1,
           0
          ],
          [
           "Gabon",
           1,
           1
          ],
          [
           "Gabon",
           1,
           1
          ],
          [
           "Gabon",
           1,
           1
          ],
          [
           "Gabon",
           1,
           1
          ],
          [
           "Gabon",
           1,
           1
          ],
          [
           "Gabon",
           1,
           1
          ],
          [
           "Gabon",
           1,
           1
          ],
          [
           "Gabon",
           1,
           1
          ],
          [
           "Gabon",
           1,
           1
          ],
          [
           "Gabon",
           1,
           1
          ],
          [
           "Gabon",
           1,
           1
          ],
          [
           "Gabon",
           1,
           1
          ],
          [
           "Gabon",
           1,
           4
          ],
          [
           "Gabon",
           1,
           4
          ],
          [
           "Gabon",
           1,
           7
          ],
          [
           "Gabon",
           1,
           7
          ],
          [
           "Gabon",
           1,
           7
          ],
          [
           "Gabon",
           1,
           7
          ],
          [
           "Gabon",
           1,
           16
          ],
          [
           "Gabon",
           1,
           24
          ],
          [
           "Gabon",
           2,
           24
          ],
          [
           "Gabon",
           3,
           26
          ],
          [
           "Gabon",
           3,
           30
          ],
          [
           "Gabon",
           3,
           30
          ],
          [
           "Gabon",
           3,
           43
          ]
         ],
         "hoverlabel": {
          "namelength": 0
         },
         "hovertemplate": "Country/Region=%{customdata[0]}<br>date=%{x}<br>Confirmed=%{y}<br>Deaths=%{customdata[1]}<br>Recovered=%{customdata[2]}",
         "legendgroup": "Country/Region=Gabon",
         "marker": {
          "color": "#636efa"
         },
         "name": "Country/Region=Gabon",
         "offsetgroup": "Country/Region=Gabon",
         "orientation": "v",
         "showlegend": true,
         "textposition": "auto",
         "type": "bar",
         "x": [
          "2020-03-14T00:00:00",
          "2020-03-15T00:00:00",
          "2020-03-16T00:00:00",
          "2020-03-17T00:00:00",
          "2020-03-18T00:00:00",
          "2020-03-19T00:00:00",
          "2020-03-20T00:00:00",
          "2020-03-21T00:00:00",
          "2020-03-22T00:00:00",
          "2020-03-23T00:00:00",
          "2020-03-24T00:00:00",
          "2020-03-25T00:00:00",
          "2020-03-26T00:00:00",
          "2020-03-27T00:00:00",
          "2020-03-28T00:00:00",
          "2020-03-29T00:00:00",
          "2020-03-30T00:00:00",
          "2020-03-31T00:00:00",
          "2020-04-01T00:00:00",
          "2020-04-02T00:00:00",
          "2020-04-03T00:00:00",
          "2020-04-04T00:00:00",
          "2020-04-05T00:00:00",
          "2020-04-06T00:00:00",
          "2020-04-07T00:00:00",
          "2020-04-08T00:00:00",
          "2020-04-09T00:00:00",
          "2020-04-10T00:00:00",
          "2020-04-11T00:00:00",
          "2020-04-12T00:00:00",
          "2020-04-13T00:00:00",
          "2020-04-14T00:00:00",
          "2020-04-15T00:00:00",
          "2020-04-16T00:00:00",
          "2020-04-17T00:00:00",
          "2020-04-18T00:00:00",
          "2020-04-19T00:00:00",
          "2020-04-20T00:00:00",
          "2020-04-21T00:00:00",
          "2020-04-22T00:00:00",
          "2020-04-23T00:00:00",
          "2020-04-24T00:00:00",
          "2020-04-25T00:00:00",
          "2020-04-26T00:00:00",
          "2020-04-27T00:00:00"
         ],
         "xaxis": "x",
         "y": [
          1,
          1,
          1,
          1,
          1,
          1,
          3,
          4,
          5,
          5,
          6,
          6,
          7,
          7,
          7,
          7,
          7,
          16,
          18,
          21,
          21,
          21,
          21,
          24,
          30,
          34,
          44,
          44,
          46,
          49,
          57,
          57,
          80,
          80,
          108,
          108,
          109,
          120,
          156,
          166,
          167,
          172,
          176,
          176,
          211
         ],
         "yaxis": "y"
        },
        {
         "alignmentgroup": "True",
         "customdata": [
          [
           "Mauritania",
           0,
           0
          ],
          [
           "Mauritania",
           0,
           0
          ],
          [
           "Mauritania",
           0,
           0
          ],
          [
           "Mauritania",
           0,
           0
          ],
          [
           "Mauritania",
           0,
           0
          ],
          [
           "Mauritania",
           0,
           0
          ],
          [
           "Mauritania",
           0,
           0
          ],
          [
           "Mauritania",
           0,
           0
          ],
          [
           "Mauritania",
           0,
           0
          ],
          [
           "Mauritania",
           0,
           0
          ],
          [
           "Mauritania",
           0,
           0
          ],
          [
           "Mauritania",
           0,
           0
          ],
          [
           "Mauritania",
           0,
           0
          ],
          [
           "Mauritania",
           0,
           0
          ],
          [
           "Mauritania",
           0,
           0
          ],
          [
           "Mauritania",
           0,
           2
          ],
          [
           "Mauritania",
           1,
           2
          ],
          [
           "Mauritania",
           1,
           2
          ],
          [
           "Mauritania",
           1,
           2
          ],
          [
           "Mauritania",
           1,
           2
          ],
          [
           "Mauritania",
           1,
           2
          ],
          [
           "Mauritania",
           1,
           2
          ],
          [
           "Mauritania",
           1,
           2
          ],
          [
           "Mauritania",
           1,
           2
          ],
          [
           "Mauritania",
           1,
           2
          ],
          [
           "Mauritania",
           1,
           2
          ],
          [
           "Mauritania",
           1,
           2
          ],
          [
           "Mauritania",
           1,
           2
          ],
          [
           "Mauritania",
           1,
           2
          ],
          [
           "Mauritania",
           1,
           2
          ],
          [
           "Mauritania",
           1,
           2
          ],
          [
           "Mauritania",
           1,
           2
          ],
          [
           "Mauritania",
           1,
           2
          ],
          [
           "Mauritania",
           1,
           2
          ],
          [
           "Mauritania",
           1,
           2
          ],
          [
           "Mauritania",
           1,
           2
          ],
          [
           "Mauritania",
           1,
           6
          ],
          [
           "Mauritania",
           1,
           6
          ],
          [
           "Mauritania",
           1,
           6
          ],
          [
           "Mauritania",
           1,
           6
          ],
          [
           "Mauritania",
           1,
           6
          ],
          [
           "Mauritania",
           1,
           6
          ],
          [
           "Mauritania",
           1,
           6
          ],
          [
           "Mauritania",
           1,
           6
          ],
          [
           "Mauritania",
           1,
           6
          ]
         ],
         "hoverlabel": {
          "namelength": 0
         },
         "hovertemplate": "Country/Region=%{customdata[0]}<br>date=%{x}<br>Confirmed=%{y}<br>Deaths=%{customdata[1]}<br>Recovered=%{customdata[2]}",
         "legendgroup": "Country/Region=Mauritania",
         "marker": {
          "color": "#EF553B"
         },
         "name": "Country/Region=Mauritania",
         "offsetgroup": "Country/Region=Mauritania",
         "orientation": "v",
         "showlegend": true,
         "textposition": "auto",
         "type": "bar",
         "x": [
          "2020-03-14T00:00:00",
          "2020-03-15T00:00:00",
          "2020-03-16T00:00:00",
          "2020-03-17T00:00:00",
          "2020-03-18T00:00:00",
          "2020-03-19T00:00:00",
          "2020-03-20T00:00:00",
          "2020-03-21T00:00:00",
          "2020-03-22T00:00:00",
          "2020-03-23T00:00:00",
          "2020-03-24T00:00:00",
          "2020-03-25T00:00:00",
          "2020-03-26T00:00:00",
          "2020-03-27T00:00:00",
          "2020-03-28T00:00:00",
          "2020-03-29T00:00:00",
          "2020-03-30T00:00:00",
          "2020-03-31T00:00:00",
          "2020-04-01T00:00:00",
          "2020-04-02T00:00:00",
          "2020-04-03T00:00:00",
          "2020-04-04T00:00:00",
          "2020-04-05T00:00:00",
          "2020-04-06T00:00:00",
          "2020-04-07T00:00:00",
          "2020-04-08T00:00:00",
          "2020-04-09T00:00:00",
          "2020-04-10T00:00:00",
          "2020-04-11T00:00:00",
          "2020-04-12T00:00:00",
          "2020-04-13T00:00:00",
          "2020-04-14T00:00:00",
          "2020-04-15T00:00:00",
          "2020-04-16T00:00:00",
          "2020-04-17T00:00:00",
          "2020-04-18T00:00:00",
          "2020-04-19T00:00:00",
          "2020-04-20T00:00:00",
          "2020-04-21T00:00:00",
          "2020-04-22T00:00:00",
          "2020-04-23T00:00:00",
          "2020-04-24T00:00:00",
          "2020-04-25T00:00:00",
          "2020-04-26T00:00:00",
          "2020-04-27T00:00:00"
         ],
         "xaxis": "x",
         "y": [
          1,
          1,
          1,
          1,
          1,
          2,
          2,
          2,
          2,
          2,
          2,
          2,
          3,
          3,
          5,
          5,
          5,
          6,
          6,
          6,
          6,
          6,
          6,
          6,
          6,
          6,
          7,
          7,
          7,
          7,
          7,
          7,
          7,
          7,
          7,
          7,
          7,
          7,
          7,
          7,
          7,
          7,
          7,
          7,
          7
         ],
         "yaxis": "y"
        },
        {
         "alignmentgroup": "True",
         "customdata": [
          [
           "Rwanda",
           0,
           0
          ],
          [
           "Rwanda",
           0,
           0
          ],
          [
           "Rwanda",
           0,
           0
          ],
          [
           "Rwanda",
           0,
           0
          ],
          [
           "Rwanda",
           0,
           0
          ],
          [
           "Rwanda",
           0,
           0
          ],
          [
           "Rwanda",
           0,
           0
          ],
          [
           "Rwanda",
           0,
           0
          ],
          [
           "Rwanda",
           0,
           0
          ],
          [
           "Rwanda",
           0,
           0
          ],
          [
           "Rwanda",
           0,
           0
          ],
          [
           "Rwanda",
           0,
           0
          ],
          [
           "Rwanda",
           0,
           0
          ],
          [
           "Rwanda",
           0,
           0
          ],
          [
           "Rwanda",
           0,
           0
          ],
          [
           "Rwanda",
           0,
           0
          ],
          [
           "Rwanda",
           0,
           0
          ],
          [
           "Rwanda",
           0,
           0
          ],
          [
           "Rwanda",
           0,
           0
          ],
          [
           "Rwanda",
           0,
           0
          ],
          [
           "Rwanda",
           0,
           0
          ],
          [
           "Rwanda",
           0,
           0
          ],
          [
           "Rwanda",
           0,
           4
          ],
          [
           "Rwanda",
           0,
           4
          ],
          [
           "Rwanda",
           0,
           7
          ],
          [
           "Rwanda",
           0,
           7
          ],
          [
           "Rwanda",
           0,
           7
          ],
          [
           "Rwanda",
           0,
           7
          ],
          [
           "Rwanda",
           0,
           18
          ],
          [
           "Rwanda",
           0,
           25
          ],
          [
           "Rwanda",
           0,
           42
          ],
          [
           "Rwanda",
           0,
           49
          ],
          [
           "Rwanda",
           0,
           54
          ],
          [
           "Rwanda",
           0,
           60
          ],
          [
           "Rwanda",
           0,
           65
          ],
          [
           "Rwanda",
           0,
           69
          ],
          [
           "Rwanda",
           0,
           76
          ],
          [
           "Rwanda",
           0,
           76
          ],
          [
           "Rwanda",
           0,
           84
          ],
          [
           "Rwanda",
           0,
           84
          ],
          [
           "Rwanda",
           0,
           87
          ],
          [
           "Rwanda",
           0,
           87
          ],
          [
           "Rwanda",
           0,
           88
          ],
          [
           "Rwanda",
           0,
           92
          ],
          [
           "Rwanda",
           0,
           93
          ]
         ],
         "hoverlabel": {
          "namelength": 0
         },
         "hovertemplate": "Country/Region=%{customdata[0]}<br>date=%{x}<br>Confirmed=%{y}<br>Deaths=%{customdata[1]}<br>Recovered=%{customdata[2]}",
         "legendgroup": "Country/Region=Rwanda",
         "marker": {
          "color": "#00cc96"
         },
         "name": "Country/Region=Rwanda",
         "offsetgroup": "Country/Region=Rwanda",
         "orientation": "v",
         "showlegend": true,
         "textposition": "auto",
         "type": "bar",
         "x": [
          "2020-03-14T00:00:00",
          "2020-03-15T00:00:00",
          "2020-03-16T00:00:00",
          "2020-03-17T00:00:00",
          "2020-03-18T00:00:00",
          "2020-03-19T00:00:00",
          "2020-03-20T00:00:00",
          "2020-03-21T00:00:00",
          "2020-03-22T00:00:00",
          "2020-03-23T00:00:00",
          "2020-03-24T00:00:00",
          "2020-03-25T00:00:00",
          "2020-03-26T00:00:00",
          "2020-03-27T00:00:00",
          "2020-03-28T00:00:00",
          "2020-03-29T00:00:00",
          "2020-03-30T00:00:00",
          "2020-03-31T00:00:00",
          "2020-04-01T00:00:00",
          "2020-04-02T00:00:00",
          "2020-04-03T00:00:00",
          "2020-04-04T00:00:00",
          "2020-04-05T00:00:00",
          "2020-04-06T00:00:00",
          "2020-04-07T00:00:00",
          "2020-04-08T00:00:00",
          "2020-04-09T00:00:00",
          "2020-04-10T00:00:00",
          "2020-04-11T00:00:00",
          "2020-04-12T00:00:00",
          "2020-04-13T00:00:00",
          "2020-04-14T00:00:00",
          "2020-04-15T00:00:00",
          "2020-04-16T00:00:00",
          "2020-04-17T00:00:00",
          "2020-04-18T00:00:00",
          "2020-04-19T00:00:00",
          "2020-04-20T00:00:00",
          "2020-04-21T00:00:00",
          "2020-04-22T00:00:00",
          "2020-04-23T00:00:00",
          "2020-04-24T00:00:00",
          "2020-04-25T00:00:00",
          "2020-04-26T00:00:00",
          "2020-04-27T00:00:00"
         ],
         "xaxis": "x",
         "y": [
          1,
          1,
          5,
          7,
          8,
          8,
          17,
          17,
          19,
          36,
          40,
          41,
          50,
          54,
          60,
          70,
          70,
          75,
          82,
          84,
          89,
          102,
          104,
          105,
          105,
          110,
          110,
          118,
          120,
          126,
          127,
          134,
          136,
          138,
          143,
          144,
          147,
          147,
          150,
          153,
          154,
          176,
          183,
          191,
          207
         ],
         "yaxis": "y"
        },
        {
         "alignmentgroup": "True",
         "customdata": [
          [
           "Central African Republic",
           0,
           0
          ],
          [
           "Central African Republic",
           0,
           0
          ],
          [
           "Central African Republic",
           0,
           0
          ],
          [
           "Central African Republic",
           0,
           0
          ],
          [
           "Central African Republic",
           0,
           0
          ],
          [
           "Central African Republic",
           0,
           0
          ],
          [
           "Central African Republic",
           0,
           0
          ],
          [
           "Central African Republic",
           0,
           0
          ],
          [
           "Central African Republic",
           0,
           0
          ],
          [
           "Central African Republic",
           0,
           0
          ],
          [
           "Central African Republic",
           0,
           0
          ],
          [
           "Central African Republic",
           0,
           0
          ],
          [
           "Central African Republic",
           0,
           0
          ],
          [
           "Central African Republic",
           0,
           0
          ],
          [
           "Central African Republic",
           0,
           0
          ],
          [
           "Central African Republic",
           0,
           0
          ],
          [
           "Central African Republic",
           0,
           0
          ],
          [
           "Central African Republic",
           0,
           0
          ],
          [
           "Central African Republic",
           0,
           0
          ],
          [
           "Central African Republic",
           0,
           0
          ],
          [
           "Central African Republic",
           0,
           0
          ],
          [
           "Central African Republic",
           0,
           0
          ],
          [
           "Central African Republic",
           0,
           0
          ],
          [
           "Central African Republic",
           0,
           0
          ],
          [
           "Central African Republic",
           0,
           0
          ],
          [
           "Central African Republic",
           0,
           0
          ],
          [
           "Central African Republic",
           0,
           0
          ],
          [
           "Central African Republic",
           0,
           0
          ],
          [
           "Central African Republic",
           0,
           0
          ],
          [
           "Central African Republic",
           0,
           3
          ],
          [
           "Central African Republic",
           0,
           4
          ],
          [
           "Central African Republic",
           0,
           4
          ],
          [
           "Central African Republic",
           0,
           4
          ],
          [
           "Central African Republic",
           0,
           4
          ],
          [
           "Central African Republic",
           0,
           4
          ],
          [
           "Central African Republic",
           0,
           4
          ],
          [
           "Central African Republic",
           0,
           4
          ],
          [
           "Central African Republic",
           0,
           10
          ],
          [
           "Central African Republic",
           0,
           10
          ],
          [
           "Central African Republic",
           0,
           10
          ],
          [
           "Central African Republic",
           0,
           10
          ],
          [
           "Central African Republic",
           0,
           10
          ],
          [
           "Central African Republic",
           0,
           10
          ],
          [
           "Central African Republic",
           0,
           10
          ]
         ],
         "hoverlabel": {
          "namelength": 0
         },
         "hovertemplate": "Country/Region=%{customdata[0]}<br>date=%{x}<br>Confirmed=%{y}<br>Deaths=%{customdata[1]}<br>Recovered=%{customdata[2]}",
         "legendgroup": "Country/Region=Central African Republic",
         "marker": {
          "color": "#ab63fa"
         },
         "name": "Country/Region=Central African Republic",
         "offsetgroup": "Country/Region=Central African Republic",
         "orientation": "v",
         "showlegend": true,
         "textposition": "auto",
         "type": "bar",
         "x": [
          "2020-03-15T00:00:00",
          "2020-03-16T00:00:00",
          "2020-03-17T00:00:00",
          "2020-03-18T00:00:00",
          "2020-03-19T00:00:00",
          "2020-03-20T00:00:00",
          "2020-03-21T00:00:00",
          "2020-03-22T00:00:00",
          "2020-03-23T00:00:00",
          "2020-03-24T00:00:00",
          "2020-03-25T00:00:00",
          "2020-03-26T00:00:00",
          "2020-03-27T00:00:00",
          "2020-03-28T00:00:00",
          "2020-03-29T00:00:00",
          "2020-03-30T00:00:00",
          "2020-03-31T00:00:00",
          "2020-04-01T00:00:00",
          "2020-04-02T00:00:00",
          "2020-04-03T00:00:00",
          "2020-04-04T00:00:00",
          "2020-04-05T00:00:00",
          "2020-04-06T00:00:00",
          "2020-04-07T00:00:00",
          "2020-04-08T00:00:00",
          "2020-04-09T00:00:00",
          "2020-04-10T00:00:00",
          "2020-04-11T00:00:00",
          "2020-04-12T00:00:00",
          "2020-04-13T00:00:00",
          "2020-04-14T00:00:00",
          "2020-04-15T00:00:00",
          "2020-04-16T00:00:00",
          "2020-04-17T00:00:00",
          "2020-04-18T00:00:00",
          "2020-04-19T00:00:00",
          "2020-04-20T00:00:00",
          "2020-04-21T00:00:00",
          "2020-04-22T00:00:00",
          "2020-04-23T00:00:00",
          "2020-04-24T00:00:00",
          "2020-04-25T00:00:00",
          "2020-04-26T00:00:00",
          "2020-04-27T00:00:00"
         ],
         "xaxis": "x",
         "y": [
          1,
          1,
          1,
          1,
          1,
          3,
          3,
          3,
          3,
          3,
          3,
          3,
          3,
          3,
          3,
          3,
          3,
          3,
          3,
          8,
          8,
          8,
          8,
          8,
          8,
          8,
          8,
          8,
          8,
          11,
          11,
          12,
          12,
          12,
          12,
          12,
          12,
          14,
          14,
          16,
          16,
          16,
          19,
          19
         ],
         "yaxis": "y"
        },
        {
         "alignmentgroup": "True",
         "customdata": [
          [
           "Congo (Brazzaville)",
           0,
           0
          ],
          [
           "Congo (Brazzaville)",
           0,
           0
          ],
          [
           "Congo (Brazzaville)",
           0,
           0
          ],
          [
           "Congo (Brazzaville)",
           0,
           0
          ],
          [
           "Congo (Brazzaville)",
           0,
           0
          ],
          [
           "Congo (Brazzaville)",
           0,
           0
          ],
          [
           "Congo (Brazzaville)",
           0,
           0
          ],
          [
           "Congo (Brazzaville)",
           0,
           0
          ],
          [
           "Congo (Brazzaville)",
           0,
           0
          ],
          [
           "Congo (Brazzaville)",
           0,
           0
          ],
          [
           "Congo (Brazzaville)",
           0,
           0
          ],
          [
           "Congo (Brazzaville)",
           0,
           0
          ],
          [
           "Congo (Brazzaville)",
           0,
           0
          ],
          [
           "Congo (Brazzaville)",
           0,
           0
          ],
          [
           "Congo (Brazzaville)",
           0,
           0
          ],
          [
           "Congo (Brazzaville)",
           0,
           0
          ],
          [
           "Congo (Brazzaville)",
           0,
           0
          ],
          [
           "Congo (Brazzaville)",
           0,
           0
          ],
          [
           "Congo (Brazzaville)",
           2,
           2
          ],
          [
           "Congo (Brazzaville)",
           2,
           2
          ],
          [
           "Congo (Brazzaville)",
           2,
           2
          ],
          [
           "Congo (Brazzaville)",
           5,
           2
          ],
          [
           "Congo (Brazzaville)",
           5,
           2
          ],
          [
           "Congo (Brazzaville)",
           5,
           2
          ],
          [
           "Congo (Brazzaville)",
           5,
           2
          ],
          [
           "Congo (Brazzaville)",
           5,
           5
          ],
          [
           "Congo (Brazzaville)",
           5,
           5
          ],
          [
           "Congo (Brazzaville)",
           5,
           5
          ],
          [
           "Congo (Brazzaville)",
           5,
           5
          ],
          [
           "Congo (Brazzaville)",
           5,
           5
          ],
          [
           "Congo (Brazzaville)",
           5,
           5
          ],
          [
           "Congo (Brazzaville)",
           5,
           11
          ],
          [
           "Congo (Brazzaville)",
           5,
           11
          ],
          [
           "Congo (Brazzaville)",
           6,
           11
          ],
          [
           "Congo (Brazzaville)",
           6,
           11
          ],
          [
           "Congo (Brazzaville)",
           6,
           11
          ],
          [
           "Congo (Brazzaville)",
           6,
           16
          ],
          [
           "Congo (Brazzaville)",
           6,
           16
          ],
          [
           "Congo (Brazzaville)",
           6,
           16
          ],
          [
           "Congo (Brazzaville)",
           6,
           16
          ],
          [
           "Congo (Brazzaville)",
           6,
           19
          ],
          [
           "Congo (Brazzaville)",
           6,
           19
          ],
          [
           "Congo (Brazzaville)",
           6,
           19
          ],
          [
           "Congo (Brazzaville)",
           6,
           19
          ]
         ],
         "hoverlabel": {
          "namelength": 0
         },
         "hovertemplate": "Country/Region=%{customdata[0]}<br>date=%{x}<br>Confirmed=%{y}<br>Deaths=%{customdata[1]}<br>Recovered=%{customdata[2]}",
         "legendgroup": "Country/Region=Congo (Brazzaville)",
         "marker": {
          "color": "#FFA15A"
         },
         "name": "Country/Region=Congo (Brazzaville)",
         "offsetgroup": "Country/Region=Congo (Brazzaville)",
         "orientation": "v",
         "showlegend": true,
         "textposition": "auto",
         "type": "bar",
         "x": [
          "2020-03-15T00:00:00",
          "2020-03-16T00:00:00",
          "2020-03-17T00:00:00",
          "2020-03-18T00:00:00",
          "2020-03-19T00:00:00",
          "2020-03-20T00:00:00",
          "2020-03-21T00:00:00",
          "2020-03-22T00:00:00",
          "2020-03-23T00:00:00",
          "2020-03-24T00:00:00",
          "2020-03-25T00:00:00",
          "2020-03-26T00:00:00",
          "2020-03-27T00:00:00",
          "2020-03-28T00:00:00",
          "2020-03-29T00:00:00",
          "2020-03-30T00:00:00",
          "2020-03-31T00:00:00",
          "2020-04-01T00:00:00",
          "2020-04-02T00:00:00",
          "2020-04-03T00:00:00",
          "2020-04-04T00:00:00",
          "2020-04-05T00:00:00",
          "2020-04-06T00:00:00",
          "2020-04-07T00:00:00",
          "2020-04-08T00:00:00",
          "2020-04-09T00:00:00",
          "2020-04-10T00:00:00",
          "2020-04-11T00:00:00",
          "2020-04-12T00:00:00",
          "2020-04-13T00:00:00",
          "2020-04-14T00:00:00",
          "2020-04-15T00:00:00",
          "2020-04-16T00:00:00",
          "2020-04-17T00:00:00",
          "2020-04-18T00:00:00",
          "2020-04-19T00:00:00",
          "2020-04-20T00:00:00",
          "2020-04-21T00:00:00",
          "2020-04-22T00:00:00",
          "2020-04-23T00:00:00",
          "2020-04-24T00:00:00",
          "2020-04-25T00:00:00",
          "2020-04-26T00:00:00",
          "2020-04-27T00:00:00"
         ],
         "xaxis": "x",
         "y": [
          1,
          1,
          1,
          1,
          3,
          3,
          3,
          3,
          4,
          4,
          4,
          4,
          4,
          4,
          19,
          19,
          19,
          19,
          22,
          22,
          22,
          45,
          45,
          45,
          45,
          60,
          60,
          60,
          60,
          60,
          60,
          117,
          117,
          143,
          143,
          143,
          160,
          165,
          186,
          186,
          200,
          200,
          200,
          200
         ],
         "yaxis": "y"
        },
        {
         "alignmentgroup": "True",
         "customdata": [
          [
           "Equatorial Guinea",
           0,
           0
          ],
          [
           "Equatorial Guinea",
           0,
           0
          ],
          [
           "Equatorial Guinea",
           0,
           0
          ],
          [
           "Equatorial Guinea",
           0,
           0
          ],
          [
           "Equatorial Guinea",
           0,
           0
          ],
          [
           "Equatorial Guinea",
           0,
           0
          ],
          [
           "Equatorial Guinea",
           0,
           0
          ],
          [
           "Equatorial Guinea",
           0,
           0
          ],
          [
           "Equatorial Guinea",
           0,
           0
          ],
          [
           "Equatorial Guinea",
           0,
           0
          ],
          [
           "Equatorial Guinea",
           0,
           0
          ],
          [
           "Equatorial Guinea",
           0,
           0
          ],
          [
           "Equatorial Guinea",
           0,
           0
          ],
          [
           "Equatorial Guinea",
           0,
           0
          ],
          [
           "Equatorial Guinea",
           0,
           0
          ],
          [
           "Equatorial Guinea",
           0,
           0
          ],
          [
           "Equatorial Guinea",
           0,
           1
          ],
          [
           "Equatorial Guinea",
           0,
           1
          ],
          [
           "Equatorial Guinea",
           0,
           1
          ],
          [
           "Equatorial Guinea",
           0,
           1
          ],
          [
           "Equatorial Guinea",
           0,
           1
          ],
          [
           "Equatorial Guinea",
           0,
           1
          ],
          [
           "Equatorial Guinea",
           0,
           3
          ],
          [
           "Equatorial Guinea",
           0,
           3
          ],
          [
           "Equatorial Guinea",
           0,
           3
          ],
          [
           "Equatorial Guinea",
           0,
           3
          ],
          [
           "Equatorial Guinea",
           0,
           3
          ],
          [
           "Equatorial Guinea",
           0,
           3
          ],
          [
           "Equatorial Guinea",
           0,
           3
          ],
          [
           "Equatorial Guinea",
           0,
           4
          ],
          [
           "Equatorial Guinea",
           0,
           4
          ],
          [
           "Equatorial Guinea",
           0,
           4
          ],
          [
           "Equatorial Guinea",
           0,
           4
          ],
          [
           "Equatorial Guinea",
           0,
           4
          ],
          [
           "Equatorial Guinea",
           0,
           4
          ],
          [
           "Equatorial Guinea",
           0,
           4
          ],
          [
           "Equatorial Guinea",
           0,
           7
          ],
          [
           "Equatorial Guinea",
           0,
           7
          ],
          [
           "Equatorial Guinea",
           1,
           7
          ],
          [
           "Equatorial Guinea",
           1,
           7
          ],
          [
           "Equatorial Guinea",
           1,
           7
          ],
          [
           "Equatorial Guinea",
           1,
           7
          ],
          [
           "Equatorial Guinea",
           1,
           8
          ],
          [
           "Equatorial Guinea",
           1,
           9
          ]
         ],
         "hoverlabel": {
          "namelength": 0
         },
         "hovertemplate": "Country/Region=%{customdata[0]}<br>date=%{x}<br>Confirmed=%{y}<br>Deaths=%{customdata[1]}<br>Recovered=%{customdata[2]}",
         "legendgroup": "Country/Region=Equatorial Guinea",
         "marker": {
          "color": "#19d3f3"
         },
         "name": "Country/Region=Equatorial Guinea",
         "offsetgroup": "Country/Region=Equatorial Guinea",
         "orientation": "v",
         "showlegend": true,
         "textposition": "auto",
         "type": "bar",
         "x": [
          "2020-03-15T00:00:00",
          "2020-03-16T00:00:00",
          "2020-03-17T00:00:00",
          "2020-03-18T00:00:00",
          "2020-03-19T00:00:00",
          "2020-03-20T00:00:00",
          "2020-03-21T00:00:00",
          "2020-03-22T00:00:00",
          "2020-03-23T00:00:00",
          "2020-03-24T00:00:00",
          "2020-03-25T00:00:00",
          "2020-03-26T00:00:00",
          "2020-03-27T00:00:00",
          "2020-03-28T00:00:00",
          "2020-03-29T00:00:00",
          "2020-03-30T00:00:00",
          "2020-03-31T00:00:00",
          "2020-04-01T00:00:00",
          "2020-04-02T00:00:00",
          "2020-04-03T00:00:00",
          "2020-04-04T00:00:00",
          "2020-04-05T00:00:00",
          "2020-04-06T00:00:00",
          "2020-04-07T00:00:00",
          "2020-04-08T00:00:00",
          "2020-04-09T00:00:00",
          "2020-04-10T00:00:00",
          "2020-04-11T00:00:00",
          "2020-04-12T00:00:00",
          "2020-04-13T00:00:00",
          "2020-04-14T00:00:00",
          "2020-04-15T00:00:00",
          "2020-04-16T00:00:00",
          "2020-04-17T00:00:00",
          "2020-04-18T00:00:00",
          "2020-04-19T00:00:00",
          "2020-04-20T00:00:00",
          "2020-04-21T00:00:00",
          "2020-04-22T00:00:00",
          "2020-04-23T00:00:00",
          "2020-04-24T00:00:00",
          "2020-04-25T00:00:00",
          "2020-04-26T00:00:00",
          "2020-04-27T00:00:00"
         ],
         "xaxis": "x",
         "y": [
          1,
          1,
          1,
          4,
          6,
          6,
          6,
          6,
          9,
          9,
          9,
          12,
          12,
          12,
          12,
          12,
          12,
          15,
          15,
          16,
          16,
          16,
          16,
          16,
          18,
          18,
          18,
          18,
          21,
          21,
          41,
          51,
          51,
          79,
          79,
          79,
          79,
          83,
          84,
          84,
          214,
          258,
          258,
          258
         ],
         "yaxis": "y"
        },
        {
         "alignmentgroup": "True",
         "customdata": [
          [
           "Benin",
           0,
           0
          ],
          [
           "Benin",
           0,
           0
          ],
          [
           "Benin",
           0,
           0
          ],
          [
           "Benin",
           0,
           0
          ],
          [
           "Benin",
           0,
           0
          ],
          [
           "Benin",
           0,
           0
          ],
          [
           "Benin",
           0,
           0
          ],
          [
           "Benin",
           0,
           0
          ],
          [
           "Benin",
           0,
           0
          ],
          [
           "Benin",
           0,
           0
          ],
          [
           "Benin",
           0,
           0
          ],
          [
           "Benin",
           0,
           0
          ],
          [
           "Benin",
           0,
           0
          ],
          [
           "Benin",
           0,
           0
          ],
          [
           "Benin",
           0,
           0
          ],
          [
           "Benin",
           0,
           1
          ],
          [
           "Benin",
           0,
           1
          ],
          [
           "Benin",
           0,
           1
          ],
          [
           "Benin",
           0,
           2
          ],
          [
           "Benin",
           0,
           2
          ],
          [
           "Benin",
           0,
           5
          ],
          [
           "Benin",
           1,
           5
          ],
          [
           "Benin",
           1,
           5
          ],
          [
           "Benin",
           1,
           5
          ],
          [
           "Benin",
           1,
           5
          ],
          [
           "Benin",
           1,
           5
          ],
          [
           "Benin",
           1,
           5
          ],
          [
           "Benin",
           1,
           5
          ],
          [
           "Benin",
           1,
           5
          ],
          [
           "Benin",
           1,
           18
          ],
          [
           "Benin",
           1,
           18
          ],
          [
           "Benin",
           1,
           18
          ],
          [
           "Benin",
           1,
           18
          ],
          [
           "Benin",
           1,
           18
          ],
          [
           "Benin",
           1,
           18
          ],
          [
           "Benin",
           1,
           27
          ],
          [
           "Benin",
           1,
           27
          ],
          [
           "Benin",
           1,
           27
          ],
          [
           "Benin",
           1,
           27
          ],
          [
           "Benin",
           1,
           27
          ],
          [
           "Benin",
           1,
           27
          ],
          [
           "Benin",
           1,
           33
          ],
          [
           "Benin",
           1,
           33
          ]
         ],
         "hoverlabel": {
          "namelength": 0
         },
         "hovertemplate": "Country/Region=%{customdata[0]}<br>date=%{x}<br>Confirmed=%{y}<br>Deaths=%{customdata[1]}<br>Recovered=%{customdata[2]}",
         "legendgroup": "Country/Region=Benin",
         "marker": {
          "color": "#FF6692"
         },
         "name": "Country/Region=Benin",
         "offsetgroup": "Country/Region=Benin",
         "orientation": "v",
         "showlegend": true,
         "textposition": "auto",
         "type": "bar",
         "x": [
          "2020-03-16T00:00:00",
          "2020-03-17T00:00:00",
          "2020-03-18T00:00:00",
          "2020-03-19T00:00:00",
          "2020-03-20T00:00:00",
          "2020-03-21T00:00:00",
          "2020-03-22T00:00:00",
          "2020-03-23T00:00:00",
          "2020-03-24T00:00:00",
          "2020-03-25T00:00:00",
          "2020-03-26T00:00:00",
          "2020-03-27T00:00:00",
          "2020-03-28T00:00:00",
          "2020-03-29T00:00:00",
          "2020-03-30T00:00:00",
          "2020-03-31T00:00:00",
          "2020-04-01T00:00:00",
          "2020-04-02T00:00:00",
          "2020-04-03T00:00:00",
          "2020-04-04T00:00:00",
          "2020-04-05T00:00:00",
          "2020-04-06T00:00:00",
          "2020-04-07T00:00:00",
          "2020-04-08T00:00:00",
          "2020-04-09T00:00:00",
          "2020-04-10T00:00:00",
          "2020-04-11T00:00:00",
          "2020-04-12T00:00:00",
          "2020-04-13T00:00:00",
          "2020-04-14T00:00:00",
          "2020-04-15T00:00:00",
          "2020-04-16T00:00:00",
          "2020-04-17T00:00:00",
          "2020-04-18T00:00:00",
          "2020-04-19T00:00:00",
          "2020-04-20T00:00:00",
          "2020-04-21T00:00:00",
          "2020-04-22T00:00:00",
          "2020-04-23T00:00:00",
          "2020-04-24T00:00:00",
          "2020-04-25T00:00:00",
          "2020-04-26T00:00:00",
          "2020-04-27T00:00:00"
         ],
         "xaxis": "x",
         "y": [
          1,
          1,
          2,
          2,
          2,
          2,
          2,
          5,
          6,
          6,
          6,
          6,
          6,
          6,
          6,
          9,
          13,
          13,
          16,
          16,
          22,
          26,
          26,
          26,
          26,
          35,
          35,
          35,
          35,
          35,
          35,
          35,
          35,
          35,
          35,
          54,
          54,
          54,
          54,
          54,
          54,
          64,
          64
         ],
         "yaxis": "y"
        },
        {
         "alignmentgroup": "True",
         "customdata": [
          [
           "Liberia",
           0,
           0
          ],
          [
           "Liberia",
           0,
           0
          ],
          [
           "Liberia",
           0,
           0
          ],
          [
           "Liberia",
           0,
           0
          ],
          [
           "Liberia",
           0,
           0
          ],
          [
           "Liberia",
           0,
           0
          ],
          [
           "Liberia",
           0,
           0
          ],
          [
           "Liberia",
           0,
           0
          ],
          [
           "Liberia",
           0,
           0
          ],
          [
           "Liberia",
           0,
           0
          ],
          [
           "Liberia",
           0,
           0
          ],
          [
           "Liberia",
           0,
           0
          ],
          [
           "Liberia",
           0,
           0
          ],
          [
           "Liberia",
           0,
           0
          ],
          [
           "Liberia",
           0,
           0
          ],
          [
           "Liberia",
           0,
           0
          ],
          [
           "Liberia",
           0,
           0
          ],
          [
           "Liberia",
           0,
           0
          ],
          [
           "Liberia",
           0,
           0
          ],
          [
           "Liberia",
           1,
           3
          ],
          [
           "Liberia",
           3,
           3
          ],
          [
           "Liberia",
           3,
           3
          ],
          [
           "Liberia",
           3,
           3
          ],
          [
           "Liberia",
           4,
           3
          ],
          [
           "Liberia",
           4,
           3
          ],
          [
           "Liberia",
           5,
           3
          ],
          [
           "Liberia",
           5,
           3
          ],
          [
           "Liberia",
           5,
           3
          ],
          [
           "Liberia",
           6,
           4
          ],
          [
           "Liberia",
           6,
           4
          ],
          [
           "Liberia",
           6,
           4
          ],
          [
           "Liberia",
           6,
           4
          ],
          [
           "Liberia",
           7,
           7
          ],
          [
           "Liberia",
           7,
           7
          ],
          [
           "Liberia",
           8,
           7
          ],
          [
           "Liberia",
           8,
           7
          ],
          [
           "Liberia",
           8,
           7
          ],
          [
           "Liberia",
           8,
           20
          ],
          [
           "Liberia",
           8,
           20
          ],
          [
           "Liberia",
           8,
           25
          ],
          [
           "Liberia",
           11,
           25
          ],
          [
           "Liberia",
           12,
           25
          ],
          [
           "Liberia",
           12,
           25
          ]
         ],
         "hoverlabel": {
          "namelength": 0
         },
         "hovertemplate": "Country/Region=%{customdata[0]}<br>date=%{x}<br>Confirmed=%{y}<br>Deaths=%{customdata[1]}<br>Recovered=%{customdata[2]}",
         "legendgroup": "Country/Region=Liberia",
         "marker": {
          "color": "#B6E880"
         },
         "name": "Country/Region=Liberia",
         "offsetgroup": "Country/Region=Liberia",
         "orientation": "v",
         "showlegend": true,
         "textposition": "auto",
         "type": "bar",
         "x": [
          "2020-03-16T00:00:00",
          "2020-03-17T00:00:00",
          "2020-03-18T00:00:00",
          "2020-03-19T00:00:00",
          "2020-03-20T00:00:00",
          "2020-03-21T00:00:00",
          "2020-03-22T00:00:00",
          "2020-03-23T00:00:00",
          "2020-03-24T00:00:00",
          "2020-03-25T00:00:00",
          "2020-03-26T00:00:00",
          "2020-03-27T00:00:00",
          "2020-03-28T00:00:00",
          "2020-03-29T00:00:00",
          "2020-03-30T00:00:00",
          "2020-03-31T00:00:00",
          "2020-04-01T00:00:00",
          "2020-04-02T00:00:00",
          "2020-04-03T00:00:00",
          "2020-04-04T00:00:00",
          "2020-04-05T00:00:00",
          "2020-04-06T00:00:00",
          "2020-04-07T00:00:00",
          "2020-04-08T00:00:00",
          "2020-04-09T00:00:00",
          "2020-04-10T00:00:00",
          "2020-04-11T00:00:00",
          "2020-04-12T00:00:00",
          "2020-04-13T00:00:00",
          "2020-04-14T00:00:00",
          "2020-04-15T00:00:00",
          "2020-04-16T00:00:00",
          "2020-04-17T00:00:00",
          "2020-04-18T00:00:00",
          "2020-04-19T00:00:00",
          "2020-04-20T00:00:00",
          "2020-04-21T00:00:00",
          "2020-04-22T00:00:00",
          "2020-04-23T00:00:00",
          "2020-04-24T00:00:00",
          "2020-04-25T00:00:00",
          "2020-04-26T00:00:00",
          "2020-04-27T00:00:00"
         ],
         "xaxis": "x",
         "y": [
          1,
          1,
          2,
          2,
          2,
          3,
          3,
          3,
          3,
          3,
          3,
          3,
          3,
          3,
          3,
          3,
          6,
          6,
          7,
          10,
          13,
          14,
          14,
          31,
          31,
          37,
          48,
          50,
          59,
          59,
          59,
          59,
          76,
          76,
          91,
          99,
          101,
          101,
          101,
          117,
          120,
          124,
          124
         ],
         "yaxis": "y"
        },
        {
         "alignmentgroup": "True",
         "customdata": [
          [
           "Republic of the Congo",
           0,
           0
          ],
          [
           "Republic of the Congo",
           0,
           0
          ],
          [
           "Republic of the Congo",
           0,
           0
          ],
          [
           "Republic of the Congo",
           0,
           0
          ],
          [
           "Republic of the Congo",
           0,
           0
          ],
          [
           "Republic of the Congo",
           0,
           0
          ]
         ],
         "hoverlabel": {
          "namelength": 0
         },
         "hovertemplate": "Country/Region=%{customdata[0]}<br>date=%{x}<br>Confirmed=%{y}<br>Deaths=%{customdata[1]}<br>Recovered=%{customdata[2]}",
         "legendgroup": "Country/Region=Republic of the Congo",
         "marker": {
          "color": "#FF97FF"
         },
         "name": "Country/Region=Republic of the Congo",
         "offsetgroup": "Country/Region=Republic of the Congo",
         "orientation": "v",
         "showlegend": true,
         "textposition": "auto",
         "type": "bar",
         "x": [
          "2020-03-16T00:00:00",
          "2020-03-17T00:00:00",
          "2020-03-18T00:00:00",
          "2020-03-19T00:00:00",
          "2020-03-20T00:00:00",
          "2020-03-21T00:00:00"
         ],
         "xaxis": "x",
         "y": [
          1,
          0,
          0,
          0,
          0,
          0
         ],
         "yaxis": "y"
        },
        {
         "alignmentgroup": "True",
         "customdata": [
          [
           "Somalia",
           0,
           0
          ],
          [
           "Somalia",
           0,
           0
          ],
          [
           "Somalia",
           0,
           0
          ],
          [
           "Somalia",
           0,
           0
          ],
          [
           "Somalia",
           0,
           0
          ],
          [
           "Somalia",
           0,
           0
          ],
          [
           "Somalia",
           0,
           0
          ],
          [
           "Somalia",
           0,
           0
          ],
          [
           "Somalia",
           0,
           0
          ],
          [
           "Somalia",
           0,
           0
          ],
          [
           "Somalia",
           0,
           0
          ],
          [
           "Somalia",
           0,
           0
          ],
          [
           "Somalia",
           0,
           0
          ],
          [
           "Somalia",
           0,
           0
          ],
          [
           "Somalia",
           0,
           0
          ],
          [
           "Somalia",
           0,
           1
          ],
          [
           "Somalia",
           0,
           1
          ],
          [
           "Somalia",
           0,
           1
          ],
          [
           "Somalia",
           0,
           1
          ],
          [
           "Somalia",
           0,
           1
          ],
          [
           "Somalia",
           0,
           1
          ],
          [
           "Somalia",
           0,
           1
          ],
          [
           "Somalia",
           0,
           1
          ],
          [
           "Somalia",
           1,
           1
          ],
          [
           "Somalia",
           1,
           1
          ],
          [
           "Somalia",
           1,
           1
          ],
          [
           "Somalia",
           1,
           1
          ],
          [
           "Somalia",
           1,
           2
          ],
          [
           "Somalia",
           2,
           2
          ],
          [
           "Somalia",
           2,
           2
          ],
          [
           "Somalia",
           5,
           2
          ],
          [
           "Somalia",
           5,
           2
          ],
          [
           "Somalia",
           6,
           2
          ],
          [
           "Somalia",
           7,
           2
          ],
          [
           "Somalia",
           7,
           3
          ],
          [
           "Somalia",
           8,
           4
          ],
          [
           "Somalia",
           8,
           4
          ],
          [
           "Somalia",
           8,
           4
          ],
          [
           "Somalia",
           16,
           8
          ],
          [
           "Somalia",
           16,
           8
          ],
          [
           "Somalia",
           18,
           8
          ],
          [
           "Somalia",
           23,
           10
          ],
          [
           "Somalia",
           26,
           10
          ]
         ],
         "hoverlabel": {
          "namelength": 0
         },
         "hovertemplate": "Country/Region=%{customdata[0]}<br>date=%{x}<br>Confirmed=%{y}<br>Deaths=%{customdata[1]}<br>Recovered=%{customdata[2]}",
         "legendgroup": "Country/Region=Somalia",
         "marker": {
          "color": "#FECB52"
         },
         "name": "Country/Region=Somalia",
         "offsetgroup": "Country/Region=Somalia",
         "orientation": "v",
         "showlegend": true,
         "textposition": "auto",
         "type": "bar",
         "x": [
          "2020-03-16T00:00:00",
          "2020-03-17T00:00:00",
          "2020-03-18T00:00:00",
          "2020-03-19T00:00:00",
          "2020-03-20T00:00:00",
          "2020-03-21T00:00:00",
          "2020-03-22T00:00:00",
          "2020-03-23T00:00:00",
          "2020-03-24T00:00:00",
          "2020-03-25T00:00:00",
          "2020-03-26T00:00:00",
          "2020-03-27T00:00:00",
          "2020-03-28T00:00:00",
          "2020-03-29T00:00:00",
          "2020-03-30T00:00:00",
          "2020-03-31T00:00:00",
          "2020-04-01T00:00:00",
          "2020-04-02T00:00:00",
          "2020-04-03T00:00:00",
          "2020-04-04T00:00:00",
          "2020-04-05T00:00:00",
          "2020-04-06T00:00:00",
          "2020-04-07T00:00:00",
          "2020-04-08T00:00:00",
          "2020-04-09T00:00:00",
          "2020-04-10T00:00:00",
          "2020-04-11T00:00:00",
          "2020-04-12T00:00:00",
          "2020-04-13T00:00:00",
          "2020-04-14T00:00:00",
          "2020-04-15T00:00:00",
          "2020-04-16T00:00:00",
          "2020-04-17T00:00:00",
          "2020-04-18T00:00:00",
          "2020-04-19T00:00:00",
          "2020-04-20T00:00:00",
          "2020-04-21T00:00:00",
          "2020-04-22T00:00:00",
          "2020-04-23T00:00:00",
          "2020-04-24T00:00:00",
          "2020-04-25T00:00:00",
          "2020-04-26T00:00:00",
          "2020-04-27T00:00:00"
         ],
         "xaxis": "x",
         "y": [
          1,
          1,
          1,
          1,
          1,
          1,
          1,
          1,
          1,
          1,
          2,
          3,
          3,
          3,
          3,
          5,
          5,
          5,
          7,
          7,
          7,
          7,
          8,
          12,
          12,
          21,
          21,
          25,
          60,
          60,
          80,
          80,
          116,
          135,
          164,
          237,
          286,
          286,
          328,
          328,
          390,
          436,
          480
         ],
         "yaxis": "y"
        },
        {
         "alignmentgroup": "True",
         "customdata": [
          [
           "Tanzania",
           0,
           0
          ],
          [
           "Tanzania",
           0,
           0
          ],
          [
           "Tanzania",
           0,
           0
          ],
          [
           "Tanzania",
           0,
           0
          ],
          [
           "Tanzania",
           0,
           0
          ],
          [
           "Tanzania",
           0,
           0
          ],
          [
           "Tanzania",
           0,
           0
          ],
          [
           "Tanzania",
           0,
           0
          ],
          [
           "Tanzania",
           0,
           0
          ],
          [
           "Tanzania",
           0,
           0
          ],
          [
           "Tanzania",
           0,
           0
          ],
          [
           "Tanzania",
           0,
           1
          ],
          [
           "Tanzania",
           0,
           1
          ],
          [
           "Tanzania",
           0,
           1
          ],
          [
           "Tanzania",
           0,
           1
          ],
          [
           "Tanzania",
           1,
           1
          ],
          [
           "Tanzania",
           1,
           1
          ],
          [
           "Tanzania",
           1,
           2
          ],
          [
           "Tanzania",
           1,
           3
          ],
          [
           "Tanzania",
           1,
           3
          ],
          [
           "Tanzania",
           1,
           3
          ],
          [
           "Tanzania",
           1,
           3
          ],
          [
           "Tanzania",
           1,
           5
          ],
          [
           "Tanzania",
           1,
           5
          ],
          [
           "Tanzania",
           1,
           5
          ],
          [
           "Tanzania",
           3,
           5
          ],
          [
           "Tanzania",
           3,
           5
          ],
          [
           "Tanzania",
           3,
           5
          ],
          [
           "Tanzania",
           3,
           7
          ],
          [
           "Tanzania",
           3,
           7
          ],
          [
           "Tanzania",
           4,
           11
          ],
          [
           "Tanzania",
           4,
           11
          ],
          [
           "Tanzania",
           5,
           11
          ],
          [
           "Tanzania",
           5,
           11
          ],
          [
           "Tanzania",
           7,
           11
          ],
          [
           "Tanzania",
           10,
           11
          ],
          [
           "Tanzania",
           10,
           11
          ],
          [
           "Tanzania",
           10,
           11
          ],
          [
           "Tanzania",
           10,
           11
          ],
          [
           "Tanzania",
           10,
           48
          ],
          [
           "Tanzania",
           10,
           48
          ],
          [
           "Tanzania",
           10,
           48
          ],
          [
           "Tanzania",
           10,
           48
          ]
         ],
         "hoverlabel": {
          "namelength": 0
         },
         "hovertemplate": "Country/Region=%{customdata[0]}<br>date=%{x}<br>Confirmed=%{y}<br>Deaths=%{customdata[1]}<br>Recovered=%{customdata[2]}",
         "legendgroup": "Country/Region=Tanzania",
         "marker": {
          "color": "#636efa"
         },
         "name": "Country/Region=Tanzania",
         "offsetgroup": "Country/Region=Tanzania",
         "orientation": "v",
         "showlegend": true,
         "textposition": "auto",
         "type": "bar",
         "x": [
          "2020-03-16T00:00:00",
          "2020-03-17T00:00:00",
          "2020-03-18T00:00:00",
          "2020-03-19T00:00:00",
          "2020-03-20T00:00:00",
          "2020-03-21T00:00:00",
          "2020-03-22T00:00:00",
          "2020-03-23T00:00:00",
          "2020-03-24T00:00:00",
          "2020-03-25T00:00:00",
          "2020-03-26T00:00:00",
          "2020-03-27T00:00:00",
          "2020-03-28T00:00:00",
          "2020-03-29T00:00:00",
          "2020-03-30T00:00:00",
          "2020-03-31T00:00:00",
          "2020-04-01T00:00:00",
          "2020-04-02T00:00:00",
          "2020-04-03T00:00:00",
          "2020-04-04T00:00:00",
          "2020-04-05T00:00:00",
          "2020-04-06T00:00:00",
          "2020-04-07T00:00:00",
          "2020-04-08T00:00:00",
          "2020-04-09T00:00:00",
          "2020-04-10T00:00:00",
          "2020-04-11T00:00:00",
          "2020-04-12T00:00:00",
          "2020-04-13T00:00:00",
          "2020-04-14T00:00:00",
          "2020-04-15T00:00:00",
          "2020-04-16T00:00:00",
          "2020-04-17T00:00:00",
          "2020-04-18T00:00:00",
          "2020-04-19T00:00:00",
          "2020-04-20T00:00:00",
          "2020-04-21T00:00:00",
          "2020-04-22T00:00:00",
          "2020-04-23T00:00:00",
          "2020-04-24T00:00:00",
          "2020-04-25T00:00:00",
          "2020-04-26T00:00:00",
          "2020-04-27T00:00:00"
         ],
         "xaxis": "x",
         "y": [
          1,
          1,
          3,
          6,
          6,
          6,
          12,
          12,
          12,
          12,
          13,
          13,
          14,
          14,
          19,
          19,
          20,
          20,
          20,
          20,
          22,
          24,
          24,
          25,
          25,
          32,
          32,
          32,
          49,
          53,
          88,
          94,
          147,
          147,
          170,
          254,
          254,
          284,
          284,
          299,
          299,
          299,
          299
         ],
         "yaxis": "y"
        },
        {
         "alignmentgroup": "True",
         "customdata": [
          [
           "Mauritius",
           0,
           0
          ],
          [
           "Mauritius",
           0,
           0
          ],
          [
           "Mauritius",
           0,
           0
          ],
          [
           "Mauritius",
           1,
           0
          ],
          [
           "Mauritius",
           2,
           0
          ],
          [
           "Mauritius",
           2,
           0
          ],
          [
           "Mauritius",
           2,
           0
          ],
          [
           "Mauritius",
           2,
           0
          ],
          [
           "Mauritius",
           2,
           0
          ],
          [
           "Mauritius",
           2,
           0
          ],
          [
           "Mauritius",
           2,
           0
          ],
          [
           "Mauritius",
           3,
           0
          ],
          [
           "Mauritius",
           3,
           0
          ],
          [
           "Mauritius",
           5,
           0
          ],
          [
           "Mauritius",
           6,
           0
          ],
          [
           "Mauritius",
           7,
           0
          ],
          [
           "Mauritius",
           7,
           0
          ],
          [
           "Mauritius",
           7,
           7
          ],
          [
           "Mauritius",
           7,
           7
          ],
          [
           "Mauritius",
           7,
           7
          ],
          [
           "Mauritius",
           7,
           8
          ],
          [
           "Mauritius",
           7,
           19
          ],
          [
           "Mauritius",
           7,
           23
          ],
          [
           "Mauritius",
           9,
           23
          ],
          [
           "Mauritius",
           9,
           28
          ],
          [
           "Mauritius",
           9,
           42
          ],
          [
           "Mauritius",
           9,
           42
          ],
          [
           "Mauritius",
           9,
           51
          ],
          [
           "Mauritius",
           9,
           65
          ],
          [
           "Mauritius",
           9,
           81
          ],
          [
           "Mauritius",
           9,
           108
          ],
          [
           "Mauritius",
           9,
           180
          ],
          [
           "Mauritius",
           9,
           208
          ],
          [
           "Mauritius",
           9,
           224
          ],
          [
           "Mauritius",
           9,
           243
          ],
          [
           "Mauritius",
           9,
           261
          ],
          [
           "Mauritius",
           9,
           266
          ],
          [
           "Mauritius",
           9,
           285
          ],
          [
           "Mauritius",
           9,
           295
          ],
          [
           "Mauritius",
           9,
           299
          ],
          [
           "Mauritius",
           10,
           302
          ]
         ],
         "hoverlabel": {
          "namelength": 0
         },
         "hovertemplate": "Country/Region=%{customdata[0]}<br>date=%{x}<br>Confirmed=%{y}<br>Deaths=%{customdata[1]}<br>Recovered=%{customdata[2]}",
         "legendgroup": "Country/Region=Mauritius",
         "marker": {
          "color": "#EF553B"
         },
         "name": "Country/Region=Mauritius",
         "offsetgroup": "Country/Region=Mauritius",
         "orientation": "v",
         "showlegend": true,
         "textposition": "auto",
         "type": "bar",
         "x": [
          "2020-03-18T00:00:00",
          "2020-03-19T00:00:00",
          "2020-03-20T00:00:00",
          "2020-03-21T00:00:00",
          "2020-03-22T00:00:00",
          "2020-03-23T00:00:00",
          "2020-03-24T00:00:00",
          "2020-03-25T00:00:00",
          "2020-03-26T00:00:00",
          "2020-03-27T00:00:00",
          "2020-03-28T00:00:00",
          "2020-03-29T00:00:00",
          "2020-03-30T00:00:00",
          "2020-03-31T00:00:00",
          "2020-04-01T00:00:00",
          "2020-04-02T00:00:00",
          "2020-04-03T00:00:00",
          "2020-04-04T00:00:00",
          "2020-04-05T00:00:00",
          "2020-04-06T00:00:00",
          "2020-04-07T00:00:00",
          "2020-04-08T00:00:00",
          "2020-04-09T00:00:00",
          "2020-04-10T00:00:00",
          "2020-04-11T00:00:00",
          "2020-04-12T00:00:00",
          "2020-04-13T00:00:00",
          "2020-04-14T00:00:00",
          "2020-04-15T00:00:00",
          "2020-04-16T00:00:00",
          "2020-04-17T00:00:00",
          "2020-04-18T00:00:00",
          "2020-04-19T00:00:00",
          "2020-04-20T00:00:00",
          "2020-04-21T00:00:00",
          "2020-04-22T00:00:00",
          "2020-04-23T00:00:00",
          "2020-04-24T00:00:00",
          "2020-04-25T00:00:00",
          "2020-04-26T00:00:00",
          "2020-04-27T00:00:00"
         ],
         "xaxis": "x",
         "y": [
          3,
          3,
          12,
          14,
          28,
          36,
          42,
          48,
          81,
          94,
          102,
          107,
          128,
          143,
          161,
          169,
          186,
          196,
          227,
          244,
          268,
          273,
          314,
          318,
          319,
          324,
          324,
          324,
          324,
          324,
          324,
          325,
          328,
          328,
          328,
          329,
          331,
          331,
          331,
          332,
          334
         ],
         "yaxis": "y"
        },
        {
         "alignmentgroup": "True",
         "customdata": [
          [
           "Zambia",
           0,
           0
          ],
          [
           "Zambia",
           0,
           0
          ],
          [
           "Zambia",
           0,
           0
          ],
          [
           "Zambia",
           0,
           0
          ],
          [
           "Zambia",
           0,
           0
          ],
          [
           "Zambia",
           0,
           0
          ],
          [
           "Zambia",
           0,
           0
          ],
          [
           "Zambia",
           0,
           0
          ],
          [
           "Zambia",
           0,
           0
          ],
          [
           "Zambia",
           0,
           0
          ],
          [
           "Zambia",
           0,
           0
          ],
          [
           "Zambia",
           0,
           0
          ],
          [
           "Zambia",
           0,
           0
          ],
          [
           "Zambia",
           0,
           0
          ],
          [
           "Zambia",
           0,
           0
          ],
          [
           "Zambia",
           1,
           0
          ],
          [
           "Zambia",
           1,
           2
          ],
          [
           "Zambia",
           1,
           2
          ],
          [
           "Zambia",
           1,
           3
          ],
          [
           "Zambia",
           1,
           5
          ],
          [
           "Zambia",
           1,
           7
          ],
          [
           "Zambia",
           1,
           7
          ],
          [
           "Zambia",
           1,
           24
          ],
          [
           "Zambia",
           2,
           25
          ],
          [
           "Zambia",
           2,
           28
          ],
          [
           "Zambia",
           2,
           30
          ],
          [
           "Zambia",
           2,
           30
          ],
          [
           "Zambia",
           2,
           30
          ],
          [
           "Zambia",
           2,
           30
          ],
          [
           "Zambia",
           2,
           30
          ],
          [
           "Zambia",
           2,
           30
          ],
          [
           "Zambia",
           2,
           33
          ],
          [
           "Zambia",
           3,
           33
          ],
          [
           "Zambia",
           3,
           35
          ],
          [
           "Zambia",
           3,
           35
          ],
          [
           "Zambia",
           3,
           35
          ],
          [
           "Zambia",
           3,
           37
          ],
          [
           "Zambia",
           3,
           37
          ],
          [
           "Zambia",
           3,
           37
          ],
          [
           "Zambia",
           3,
           42
          ],
          [
           "Zambia",
           3,
           42
          ]
         ],
         "hoverlabel": {
          "namelength": 0
         },
         "hovertemplate": "Country/Region=%{customdata[0]}<br>date=%{x}<br>Confirmed=%{y}<br>Deaths=%{customdata[1]}<br>Recovered=%{customdata[2]}",
         "legendgroup": "Country/Region=Zambia",
         "marker": {
          "color": "#00cc96"
         },
         "name": "Country/Region=Zambia",
         "offsetgroup": "Country/Region=Zambia",
         "orientation": "v",
         "showlegend": true,
         "textposition": "auto",
         "type": "bar",
         "x": [
          "2020-03-18T00:00:00",
          "2020-03-19T00:00:00",
          "2020-03-20T00:00:00",
          "2020-03-21T00:00:00",
          "2020-03-22T00:00:00",
          "2020-03-23T00:00:00",
          "2020-03-24T00:00:00",
          "2020-03-25T00:00:00",
          "2020-03-26T00:00:00",
          "2020-03-27T00:00:00",
          "2020-03-28T00:00:00",
          "2020-03-29T00:00:00",
          "2020-03-30T00:00:00",
          "2020-03-31T00:00:00",
          "2020-04-01T00:00:00",
          "2020-04-02T00:00:00",
          "2020-04-03T00:00:00",
          "2020-04-04T00:00:00",
          "2020-04-05T00:00:00",
          "2020-04-06T00:00:00",
          "2020-04-07T00:00:00",
          "2020-04-08T00:00:00",
          "2020-04-09T00:00:00",
          "2020-04-10T00:00:00",
          "2020-04-11T00:00:00",
          "2020-04-12T00:00:00",
          "2020-04-13T00:00:00",
          "2020-04-14T00:00:00",
          "2020-04-15T00:00:00",
          "2020-04-16T00:00:00",
          "2020-04-17T00:00:00",
          "2020-04-18T00:00:00",
          "2020-04-19T00:00:00",
          "2020-04-20T00:00:00",
          "2020-04-21T00:00:00",
          "2020-04-22T00:00:00",
          "2020-04-23T00:00:00",
          "2020-04-24T00:00:00",
          "2020-04-25T00:00:00",
          "2020-04-26T00:00:00",
          "2020-04-27T00:00:00"
         ],
         "xaxis": "x",
         "y": [
          2,
          2,
          2,
          2,
          3,
          3,
          3,
          12,
          16,
          22,
          28,
          29,
          35,
          35,
          36,
          39,
          39,
          39,
          39,
          39,
          39,
          39,
          39,
          40,
          40,
          43,
          45,
          45,
          48,
          48,
          52,
          57,
          61,
          65,
          70,
          74,
          76,
          84,
          84,
          88,
          88
         ],
         "yaxis": "y"
        },
        {
         "alignmentgroup": "True",
         "customdata": [
          [
           "Djibouti",
           0,
           0
          ],
          [
           "Djibouti",
           0,
           0
          ],
          [
           "Djibouti",
           0,
           0
          ],
          [
           "Djibouti",
           0,
           0
          ],
          [
           "Djibouti",
           0,
           0
          ],
          [
           "Djibouti",
           0,
           0
          ],
          [
           "Djibouti",
           0,
           0
          ],
          [
           "Djibouti",
           0,
           0
          ],
          [
           "Djibouti",
           0,
           0
          ],
          [
           "Djibouti",
           0,
           0
          ],
          [
           "Djibouti",
           0,
           0
          ],
          [
           "Djibouti",
           0,
           0
          ],
          [
           "Djibouti",
           0,
           0
          ],
          [
           "Djibouti",
           0,
           0
          ],
          [
           "Djibouti",
           0,
           0
          ],
          [
           "Djibouti",
           0,
           0
          ],
          [
           "Djibouti",
           0,
           8
          ],
          [
           "Djibouti",
           0,
           8
          ],
          [
           "Djibouti",
           0,
           9
          ],
          [
           "Djibouti",
           0,
           9
          ],
          [
           "Djibouti",
           0,
           9
          ],
          [
           "Djibouti",
           0,
           25
          ],
          [
           "Djibouti",
           0,
           25
          ],
          [
           "Djibouti",
           1,
           36
          ],
          [
           "Djibouti",
           2,
           36
          ],
          [
           "Djibouti",
           2,
           36
          ],
          [
           "Djibouti",
           2,
           41
          ],
          [
           "Djibouti",
           2,
           53
          ],
          [
           "Djibouti",
           2,
           71
          ],
          [
           "Djibouti",
           2,
           73
          ],
          [
           "Djibouti",
           2,
           76
          ],
          [
           "Djibouti",
           2,
           76
          ],
          [
           "Djibouti",
           2,
           102
          ],
          [
           "Djibouti",
           2,
           102
          ],
          [
           "Djibouti",
           2,
           112
          ],
          [
           "Djibouti",
           2,
           183
          ],
          [
           "Djibouti",
           2,
           252
          ],
          [
           "Djibouti",
           2,
           330
          ],
          [
           "Djibouti",
           2,
           373
          ],
          [
           "Djibouti",
           2,
           411
          ],
          [
           "Djibouti",
           2,
           477
          ]
         ],
         "hoverlabel": {
          "namelength": 0
         },
         "hovertemplate": "Country/Region=%{customdata[0]}<br>date=%{x}<br>Confirmed=%{y}<br>Deaths=%{customdata[1]}<br>Recovered=%{customdata[2]}",
         "legendgroup": "Country/Region=Djibouti",
         "marker": {
          "color": "#ab63fa"
         },
         "name": "Country/Region=Djibouti",
         "offsetgroup": "Country/Region=Djibouti",
         "orientation": "v",
         "showlegend": true,
         "textposition": "auto",
         "type": "bar",
         "x": [
          "2020-03-18T00:00:00",
          "2020-03-19T00:00:00",
          "2020-03-20T00:00:00",
          "2020-03-21T00:00:00",
          "2020-03-22T00:00:00",
          "2020-03-23T00:00:00",
          "2020-03-24T00:00:00",
          "2020-03-25T00:00:00",
          "2020-03-26T00:00:00",
          "2020-03-27T00:00:00",
          "2020-03-28T00:00:00",
          "2020-03-29T00:00:00",
          "2020-03-30T00:00:00",
          "2020-03-31T00:00:00",
          "2020-04-01T00:00:00",
          "2020-04-02T00:00:00",
          "2020-04-03T00:00:00",
          "2020-04-04T00:00:00",
          "2020-04-05T00:00:00",
          "2020-04-06T00:00:00",
          "2020-04-07T00:00:00",
          "2020-04-08T00:00:00",
          "2020-04-09T00:00:00",
          "2020-04-10T00:00:00",
          "2020-04-11T00:00:00",
          "2020-04-12T00:00:00",
          "2020-04-13T00:00:00",
          "2020-04-14T00:00:00",
          "2020-04-15T00:00:00",
          "2020-04-16T00:00:00",
          "2020-04-17T00:00:00",
          "2020-04-18T00:00:00",
          "2020-04-19T00:00:00",
          "2020-04-20T00:00:00",
          "2020-04-21T00:00:00",
          "2020-04-22T00:00:00",
          "2020-04-23T00:00:00",
          "2020-04-24T00:00:00",
          "2020-04-25T00:00:00",
          "2020-04-26T00:00:00",
          "2020-04-27T00:00:00"
         ],
         "xaxis": "x",
         "y": [
          1,
          1,
          1,
          1,
          1,
          3,
          3,
          11,
          11,
          12,
          14,
          18,
          18,
          30,
          33,
          40,
          49,
          50,
          59,
          90,
          90,
          135,
          135,
          150,
          187,
          214,
          298,
          363,
          435,
          591,
          732,
          732,
          846,
          846,
          945,
          974,
          986,
          999,
          1008,
          1023,
          1035
         ],
         "yaxis": "y"
        },
        {
         "alignmentgroup": "True",
         "customdata": [
          [
           "Gambia, The",
           0,
           0
          ],
          [
           "Gambia, The",
           0,
           0
          ],
          [
           "Gambia, The",
           0,
           0
          ],
          [
           "Gambia, The",
           0,
           0
          ]
         ],
         "hoverlabel": {
          "namelength": 0
         },
         "hovertemplate": "Country/Region=%{customdata[0]}<br>date=%{x}<br>Confirmed=%{y}<br>Deaths=%{customdata[1]}<br>Recovered=%{customdata[2]}",
         "legendgroup": "Country/Region=Gambia, The",
         "marker": {
          "color": "#FFA15A"
         },
         "name": "Country/Region=Gambia, The",
         "offsetgroup": "Country/Region=Gambia, The",
         "orientation": "v",
         "showlegend": true,
         "textposition": "auto",
         "type": "bar",
         "x": [
          "2020-03-18T00:00:00",
          "2020-03-19T00:00:00",
          "2020-03-20T00:00:00",
          "2020-03-21T00:00:00"
         ],
         "xaxis": "x",
         "y": [
          1,
          1,
          1,
          1
         ],
         "yaxis": "y"
        },
        {
         "alignmentgroup": "True",
         "customdata": [
          [
           "Chad",
           0,
           0
          ],
          [
           "Chad",
           0,
           0
          ],
          [
           "Chad",
           0,
           0
          ],
          [
           "Chad",
           0,
           0
          ],
          [
           "Chad",
           0,
           0
          ],
          [
           "Chad",
           0,
           0
          ],
          [
           "Chad",
           0,
           0
          ],
          [
           "Chad",
           0,
           0
          ],
          [
           "Chad",
           0,
           0
          ],
          [
           "Chad",
           0,
           0
          ],
          [
           "Chad",
           0,
           0
          ],
          [
           "Chad",
           0,
           0
          ],
          [
           "Chad",
           0,
           0
          ],
          [
           "Chad",
           0,
           0
          ],
          [
           "Chad",
           0,
           0
          ],
          [
           "Chad",
           0,
           0
          ],
          [
           "Chad",
           0,
           0
          ],
          [
           "Chad",
           0,
           0
          ],
          [
           "Chad",
           0,
           0
          ],
          [
           "Chad",
           0,
           2
          ],
          [
           "Chad",
           0,
           2
          ],
          [
           "Chad",
           0,
           2
          ],
          [
           "Chad",
           0,
           2
          ],
          [
           "Chad",
           0,
           2
          ],
          [
           "Chad",
           0,
           2
          ],
          [
           "Chad",
           0,
           2
          ],
          [
           "Chad",
           0,
           2
          ],
          [
           "Chad",
           0,
           2
          ],
          [
           "Chad",
           0,
           5
          ],
          [
           "Chad",
           0,
           5
          ],
          [
           "Chad",
           0,
           8
          ],
          [
           "Chad",
           0,
           8
          ],
          [
           "Chad",
           0,
           8
          ],
          [
           "Chad",
           0,
           8
          ],
          [
           "Chad",
           0,
           8
          ],
          [
           "Chad",
           0,
           8
          ],
          [
           "Chad",
           0,
           8
          ],
          [
           "Chad",
           0,
           15
          ],
          [
           "Chad",
           0,
           15
          ],
          [
           "Chad",
           0,
           15
          ]
         ],
         "hoverlabel": {
          "namelength": 0
         },
         "hovertemplate": "Country/Region=%{customdata[0]}<br>date=%{x}<br>Confirmed=%{y}<br>Deaths=%{customdata[1]}<br>Recovered=%{customdata[2]}",
         "legendgroup": "Country/Region=Chad",
         "marker": {
          "color": "#19d3f3"
         },
         "name": "Country/Region=Chad",
         "offsetgroup": "Country/Region=Chad",
         "orientation": "v",
         "showlegend": true,
         "textposition": "auto",
         "type": "bar",
         "x": [
          "2020-03-19T00:00:00",
          "2020-03-20T00:00:00",
          "2020-03-21T00:00:00",
          "2020-03-22T00:00:00",
          "2020-03-23T00:00:00",
          "2020-03-24T00:00:00",
          "2020-03-25T00:00:00",
          "2020-03-26T00:00:00",
          "2020-03-27T00:00:00",
          "2020-03-28T00:00:00",
          "2020-03-29T00:00:00",
          "2020-03-30T00:00:00",
          "2020-03-31T00:00:00",
          "2020-04-01T00:00:00",
          "2020-04-02T00:00:00",
          "2020-04-03T00:00:00",
          "2020-04-04T00:00:00",
          "2020-04-05T00:00:00",
          "2020-04-06T00:00:00",
          "2020-04-07T00:00:00",
          "2020-04-08T00:00:00",
          "2020-04-09T00:00:00",
          "2020-04-10T00:00:00",
          "2020-04-11T00:00:00",
          "2020-04-12T00:00:00",
          "2020-04-13T00:00:00",
          "2020-04-14T00:00:00",
          "2020-04-15T00:00:00",
          "2020-04-16T00:00:00",
          "2020-04-17T00:00:00",
          "2020-04-18T00:00:00",
          "2020-04-19T00:00:00",
          "2020-04-20T00:00:00",
          "2020-04-21T00:00:00",
          "2020-04-22T00:00:00",
          "2020-04-23T00:00:00",
          "2020-04-24T00:00:00",
          "2020-04-25T00:00:00",
          "2020-04-26T00:00:00",
          "2020-04-27T00:00:00"
         ],
         "xaxis": "x",
         "y": [
          1,
          1,
          1,
          1,
          1,
          3,
          3,
          3,
          3,
          3,
          3,
          5,
          7,
          7,
          8,
          8,
          9,
          9,
          9,
          10,
          10,
          11,
          11,
          11,
          18,
          23,
          23,
          23,
          27,
          27,
          33,
          33,
          33,
          33,
          33,
          33,
          40,
          46,
          46,
          46
         ],
         "yaxis": "y"
        },
        {
         "alignmentgroup": "True",
         "customdata": [
          [
           "Madagascar",
           0,
           0
          ],
          [
           "Madagascar",
           0,
           0
          ],
          [
           "Madagascar",
           0,
           0
          ],
          [
           "Madagascar",
           0,
           0
          ],
          [
           "Madagascar",
           0,
           0
          ],
          [
           "Madagascar",
           0,
           0
          ],
          [
           "Madagascar",
           0,
           0
          ],
          [
           "Madagascar",
           0,
           0
          ],
          [
           "Madagascar",
           0,
           0
          ],
          [
           "Madagascar",
           0,
           0
          ],
          [
           "Madagascar",
           0,
           0
          ],
          [
           "Madagascar",
           0,
           0
          ],
          [
           "Madagascar",
           0,
           0
          ],
          [
           "Madagascar",
           0,
           0
          ],
          [
           "Madagascar",
           0,
           0
          ],
          [
           "Madagascar",
           0,
           0
          ],
          [
           "Madagascar",
           0,
           2
          ],
          [
           "Madagascar",
           0,
           2
          ],
          [
           "Madagascar",
           0,
           7
          ],
          [
           "Madagascar",
           0,
           11
          ],
          [
           "Madagascar",
           0,
           11
          ],
          [
           "Madagascar",
           0,
           11
          ],
          [
           "Madagascar",
           0,
           11
          ],
          [
           "Madagascar",
           0,
           20
          ],
          [
           "Madagascar",
           0,
           21
          ],
          [
           "Madagascar",
           0,
           23
          ],
          [
           "Madagascar",
           0,
           29
          ],
          [
           "Madagascar",
           0,
           33
          ],
          [
           "Madagascar",
           0,
           33
          ],
          [
           "Madagascar",
           0,
           35
          ],
          [
           "Madagascar",
           0,
           39
          ],
          [
           "Madagascar",
           0,
           41
          ],
          [
           "Madagascar",
           0,
           44
          ],
          [
           "Madagascar",
           0,
           52
          ],
          [
           "Madagascar",
           0,
           58
          ],
          [
           "Madagascar",
           0,
           61
          ],
          [
           "Madagascar",
           0,
           62
          ],
          [
           "Madagascar",
           0,
           71
          ],
          [
           "Madagascar",
           0,
           75
          ]
         ],
         "hoverlabel": {
          "namelength": 0
         },
         "hovertemplate": "Country/Region=%{customdata[0]}<br>date=%{x}<br>Confirmed=%{y}<br>Deaths=%{customdata[1]}<br>Recovered=%{customdata[2]}",
         "legendgroup": "Country/Region=Madagascar",
         "marker": {
          "color": "#FF6692"
         },
         "name": "Country/Region=Madagascar",
         "offsetgroup": "Country/Region=Madagascar",
         "orientation": "v",
         "showlegend": true,
         "textposition": "auto",
         "type": "bar",
         "x": [
          "2020-03-20T00:00:00",
          "2020-03-21T00:00:00",
          "2020-03-22T00:00:00",
          "2020-03-23T00:00:00",
          "2020-03-24T00:00:00",
          "2020-03-25T00:00:00",
          "2020-03-26T00:00:00",
          "2020-03-27T00:00:00",
          "2020-03-28T00:00:00",
          "2020-03-29T00:00:00",
          "2020-03-30T00:00:00",
          "2020-03-31T00:00:00",
          "2020-04-01T00:00:00",
          "2020-04-02T00:00:00",
          "2020-04-03T00:00:00",
          "2020-04-04T00:00:00",
          "2020-04-05T00:00:00",
          "2020-04-06T00:00:00",
          "2020-04-07T00:00:00",
          "2020-04-08T00:00:00",
          "2020-04-09T00:00:00",
          "2020-04-10T00:00:00",
          "2020-04-11T00:00:00",
          "2020-04-12T00:00:00",
          "2020-04-13T00:00:00",
          "2020-04-14T00:00:00",
          "2020-04-15T00:00:00",
          "2020-04-16T00:00:00",
          "2020-04-17T00:00:00",
          "2020-04-18T00:00:00",
          "2020-04-19T00:00:00",
          "2020-04-20T00:00:00",
          "2020-04-21T00:00:00",
          "2020-04-22T00:00:00",
          "2020-04-23T00:00:00",
          "2020-04-24T00:00:00",
          "2020-04-25T00:00:00",
          "2020-04-26T00:00:00",
          "2020-04-27T00:00:00"
         ],
         "xaxis": "x",
         "y": [
          3,
          3,
          3,
          12,
          17,
          19,
          23,
          26,
          26,
          39,
          43,
          57,
          57,
          59,
          70,
          70,
          72,
          82,
          88,
          93,
          93,
          93,
          102,
          106,
          106,
          108,
          110,
          111,
          117,
          120,
          121,
          121,
          121,
          121,
          121,
          122,
          123,
          124,
          128
         ],
         "yaxis": "y"
        },
        {
         "alignmentgroup": "True",
         "customdata": [
          [
           "Angola",
           0,
           0
          ],
          [
           "Angola",
           0,
           0
          ],
          [
           "Angola",
           0,
           0
          ],
          [
           "Angola",
           0,
           0
          ],
          [
           "Angola",
           0,
           0
          ],
          [
           "Angola",
           0,
           0
          ],
          [
           "Angola",
           0,
           0
          ],
          [
           "Angola",
           0,
           0
          ],
          [
           "Angola",
           0,
           0
          ],
          [
           "Angola",
           2,
           0
          ],
          [
           "Angola",
           2,
           0
          ],
          [
           "Angola",
           2,
           1
          ],
          [
           "Angola",
           2,
           1
          ],
          [
           "Angola",
           2,
           1
          ],
          [
           "Angola",
           2,
           1
          ],
          [
           "Angola",
           2,
           2
          ],
          [
           "Angola",
           2,
           2
          ],
          [
           "Angola",
           2,
           2
          ],
          [
           "Angola",
           2,
           2
          ],
          [
           "Angola",
           2,
           2
          ],
          [
           "Angola",
           2,
           2
          ],
          [
           "Angola",
           2,
           2
          ],
          [
           "Angola",
           2,
           4
          ],
          [
           "Angola",
           2,
           4
          ],
          [
           "Angola",
           2,
           4
          ],
          [
           "Angola",
           2,
           5
          ],
          [
           "Angola",
           2,
           5
          ],
          [
           "Angola",
           2,
           5
          ],
          [
           "Angola",
           2,
           5
          ],
          [
           "Angola",
           2,
           6
          ],
          [
           "Angola",
           2,
           6
          ],
          [
           "Angola",
           2,
           6
          ],
          [
           "Angola",
           2,
           6
          ],
          [
           "Angola",
           2,
           6
          ],
          [
           "Angola",
           2,
           6
          ],
          [
           "Angola",
           2,
           6
          ],
          [
           "Angola",
           2,
           6
          ],
          [
           "Angola",
           2,
           6
          ],
          [
           "Angola",
           2,
           6
          ]
         ],
         "hoverlabel": {
          "namelength": 0
         },
         "hovertemplate": "Country/Region=%{customdata[0]}<br>date=%{x}<br>Confirmed=%{y}<br>Deaths=%{customdata[1]}<br>Recovered=%{customdata[2]}",
         "legendgroup": "Country/Region=Angola",
         "marker": {
          "color": "#B6E880"
         },
         "name": "Country/Region=Angola",
         "offsetgroup": "Country/Region=Angola",
         "orientation": "v",
         "showlegend": true,
         "textposition": "auto",
         "type": "bar",
         "x": [
          "2020-03-20T00:00:00",
          "2020-03-21T00:00:00",
          "2020-03-22T00:00:00",
          "2020-03-23T00:00:00",
          "2020-03-24T00:00:00",
          "2020-03-25T00:00:00",
          "2020-03-26T00:00:00",
          "2020-03-27T00:00:00",
          "2020-03-28T00:00:00",
          "2020-03-29T00:00:00",
          "2020-03-30T00:00:00",
          "2020-03-31T00:00:00",
          "2020-04-01T00:00:00",
          "2020-04-02T00:00:00",
          "2020-04-03T00:00:00",
          "2020-04-04T00:00:00",
          "2020-04-05T00:00:00",
          "2020-04-06T00:00:00",
          "2020-04-07T00:00:00",
          "2020-04-08T00:00:00",
          "2020-04-09T00:00:00",
          "2020-04-10T00:00:00",
          "2020-04-11T00:00:00",
          "2020-04-12T00:00:00",
          "2020-04-13T00:00:00",
          "2020-04-14T00:00:00",
          "2020-04-15T00:00:00",
          "2020-04-16T00:00:00",
          "2020-04-17T00:00:00",
          "2020-04-18T00:00:00",
          "2020-04-19T00:00:00",
          "2020-04-20T00:00:00",
          "2020-04-21T00:00:00",
          "2020-04-22T00:00:00",
          "2020-04-23T00:00:00",
          "2020-04-24T00:00:00",
          "2020-04-25T00:00:00",
          "2020-04-26T00:00:00",
          "2020-04-27T00:00:00"
         ],
         "xaxis": "x",
         "y": [
          1,
          2,
          2,
          3,
          3,
          3,
          4,
          4,
          5,
          7,
          7,
          7,
          8,
          8,
          8,
          10,
          14,
          16,
          17,
          19,
          19,
          19,
          19,
          19,
          19,
          19,
          19,
          19,
          19,
          24,
          24,
          24,
          24,
          25,
          25,
          25,
          25,
          26,
          27
         ],
         "yaxis": "y"
        },
        {
         "alignmentgroup": "True",
         "customdata": [
          [
           "Cabo Verde",
           0,
           0
          ],
          [
           "Cabo Verde",
           0,
           0
          ],
          [
           "Cabo Verde",
           0,
           0
          ],
          [
           "Cabo Verde",
           0,
           0
          ],
          [
           "Cabo Verde",
           1,
           0
          ],
          [
           "Cabo Verde",
           1,
           0
          ],
          [
           "Cabo Verde",
           1,
           0
          ],
          [
           "Cabo Verde",
           1,
           0
          ],
          [
           "Cabo Verde",
           1,
           0
          ],
          [
           "Cabo Verde",
           1,
           0
          ],
          [
           "Cabo Verde",
           1,
           0
          ],
          [
           "Cabo Verde",
           1,
           0
          ],
          [
           "Cabo Verde",
           1,
           0
          ],
          [
           "Cabo Verde",
           1,
           0
          ],
          [
           "Cabo Verde",
           1,
           0
          ],
          [
           "Cabo Verde",
           1,
           0
          ],
          [
           "Cabo Verde",
           1,
           0
          ],
          [
           "Cabo Verde",
           1,
           1
          ],
          [
           "Cabo Verde",
           1,
           1
          ],
          [
           "Cabo Verde",
           1,
           1
          ],
          [
           "Cabo Verde",
           1,
           1
          ],
          [
           "Cabo Verde",
           1,
           1
          ],
          [
           "Cabo Verde",
           1,
           1
          ],
          [
           "Cabo Verde",
           1,
           1
          ],
          [
           "Cabo Verde",
           1,
           1
          ],
          [
           "Cabo Verde",
           1,
           1
          ],
          [
           "Cabo Verde",
           1,
           1
          ],
          [
           "Cabo Verde",
           1,
           1
          ],
          [
           "Cabo Verde",
           1,
           1
          ],
          [
           "Cabo Verde",
           1,
           1
          ],
          [
           "Cabo Verde",
           1,
           1
          ],
          [
           "Cabo Verde",
           1,
           1
          ],
          [
           "Cabo Verde",
           1,
           1
          ],
          [
           "Cabo Verde",
           1,
           1
          ],
          [
           "Cabo Verde",
           1,
           1
          ],
          [
           "Cabo Verde",
           1,
           1
          ],
          [
           "Cabo Verde",
           1,
           1
          ],
          [
           "Cabo Verde",
           1,
           1
          ],
          [
           "Cabo Verde",
           1,
           1
          ]
         ],
         "hoverlabel": {
          "namelength": 0
         },
         "hovertemplate": "Country/Region=%{customdata[0]}<br>date=%{x}<br>Confirmed=%{y}<br>Deaths=%{customdata[1]}<br>Recovered=%{customdata[2]}",
         "legendgroup": "Country/Region=Cabo Verde",
         "marker": {
          "color": "#FF97FF"
         },
         "name": "Country/Region=Cabo Verde",
         "offsetgroup": "Country/Region=Cabo Verde",
         "orientation": "v",
         "showlegend": true,
         "textposition": "auto",
         "type": "bar",
         "x": [
          "2020-03-20T00:00:00",
          "2020-03-21T00:00:00",
          "2020-03-22T00:00:00",
          "2020-03-23T00:00:00",
          "2020-03-24T00:00:00",
          "2020-03-25T00:00:00",
          "2020-03-26T00:00:00",
          "2020-03-27T00:00:00",
          "2020-03-28T00:00:00",
          "2020-03-29T00:00:00",
          "2020-03-30T00:00:00",
          "2020-03-31T00:00:00",
          "2020-04-01T00:00:00",
          "2020-04-02T00:00:00",
          "2020-04-03T00:00:00",
          "2020-04-04T00:00:00",
          "2020-04-05T00:00:00",
          "2020-04-06T00:00:00",
          "2020-04-07T00:00:00",
          "2020-04-08T00:00:00",
          "2020-04-09T00:00:00",
          "2020-04-10T00:00:00",
          "2020-04-11T00:00:00",
          "2020-04-12T00:00:00",
          "2020-04-13T00:00:00",
          "2020-04-14T00:00:00",
          "2020-04-15T00:00:00",
          "2020-04-16T00:00:00",
          "2020-04-17T00:00:00",
          "2020-04-18T00:00:00",
          "2020-04-19T00:00:00",
          "2020-04-20T00:00:00",
          "2020-04-21T00:00:00",
          "2020-04-22T00:00:00",
          "2020-04-23T00:00:00",
          "2020-04-24T00:00:00",
          "2020-04-25T00:00:00",
          "2020-04-26T00:00:00",
          "2020-04-27T00:00:00"
         ],
         "xaxis": "x",
         "y": [
          1,
          3,
          3,
          3,
          3,
          4,
          4,
          5,
          5,
          6,
          6,
          6,
          6,
          6,
          6,
          7,
          7,
          7,
          7,
          7,
          7,
          7,
          8,
          8,
          10,
          11,
          56,
          56,
          56,
          58,
          61,
          67,
          68,
          73,
          82,
          88,
          90,
          106,
          109
         ],
         "yaxis": "y"
        },
        {
         "alignmentgroup": "True",
         "customdata": [
          [
           "Niger",
           0,
           0
          ],
          [
           "Niger",
           0,
           0
          ],
          [
           "Niger",
           0,
           0
          ],
          [
           "Niger",
           0,
           0
          ],
          [
           "Niger",
           0,
           0
          ],
          [
           "Niger",
           1,
           0
          ],
          [
           "Niger",
           1,
           0
          ],
          [
           "Niger",
           1,
           0
          ],
          [
           "Niger",
           1,
           0
          ],
          [
           "Niger",
           1,
           0
          ],
          [
           "Niger",
           3,
           0
          ],
          [
           "Niger",
           3,
           0
          ],
          [
           "Niger",
           5,
           0
          ],
          [
           "Niger",
           5,
           0
          ],
          [
           "Niger",
           5,
           0
          ],
          [
           "Niger",
           8,
           0
          ],
          [
           "Niger",
           10,
           13
          ],
          [
           "Niger",
           10,
           26
          ],
          [
           "Niger",
           11,
           26
          ],
          [
           "Niger",
           11,
           28
          ],
          [
           "Niger",
           11,
           40
          ],
          [
           "Niger",
           11,
           41
          ],
          [
           "Niger",
           11,
           41
          ],
          [
           "Niger",
           12,
           75
          ],
          [
           "Niger",
           12,
           75
          ],
          [
           "Niger",
           14,
           90
          ],
          [
           "Niger",
           14,
           90
          ],
          [
           "Niger",
           14,
           90
          ],
          [
           "Niger",
           18,
           110
          ],
          [
           "Niger",
           19,
           113
          ],
          [
           "Niger",
           20,
           117
          ],
          [
           "Niger",
           20,
           117
          ],
          [
           "Niger",
           20,
           127
          ],
          [
           "Niger",
           22,
           193
          ],
          [
           "Niger",
           24,
           256
          ],
          [
           "Niger",
           24,
           289
          ],
          [
           "Niger",
           27,
           325
          ],
          [
           "Niger",
           29,
           350
          ],
          [
           "Niger",
           29,
           385
          ]
         ],
         "hoverlabel": {
          "namelength": 0
         },
         "hovertemplate": "Country/Region=%{customdata[0]}<br>date=%{x}<br>Confirmed=%{y}<br>Deaths=%{customdata[1]}<br>Recovered=%{customdata[2]}",
         "legendgroup": "Country/Region=Niger",
         "marker": {
          "color": "#FECB52"
         },
         "name": "Country/Region=Niger",
         "offsetgroup": "Country/Region=Niger",
         "orientation": "v",
         "showlegend": true,
         "textposition": "auto",
         "type": "bar",
         "x": [
          "2020-03-20T00:00:00",
          "2020-03-21T00:00:00",
          "2020-03-22T00:00:00",
          "2020-03-23T00:00:00",
          "2020-03-24T00:00:00",
          "2020-03-25T00:00:00",
          "2020-03-26T00:00:00",
          "2020-03-27T00:00:00",
          "2020-03-28T00:00:00",
          "2020-03-29T00:00:00",
          "2020-03-30T00:00:00",
          "2020-03-31T00:00:00",
          "2020-04-01T00:00:00",
          "2020-04-02T00:00:00",
          "2020-04-03T00:00:00",
          "2020-04-04T00:00:00",
          "2020-04-05T00:00:00",
          "2020-04-06T00:00:00",
          "2020-04-07T00:00:00",
          "2020-04-08T00:00:00",
          "2020-04-09T00:00:00",
          "2020-04-10T00:00:00",
          "2020-04-11T00:00:00",
          "2020-04-12T00:00:00",
          "2020-04-13T00:00:00",
          "2020-04-14T00:00:00",
          "2020-04-15T00:00:00",
          "2020-04-16T00:00:00",
          "2020-04-17T00:00:00",
          "2020-04-18T00:00:00",
          "2020-04-19T00:00:00",
          "2020-04-20T00:00:00",
          "2020-04-21T00:00:00",
          "2020-04-22T00:00:00",
          "2020-04-23T00:00:00",
          "2020-04-24T00:00:00",
          "2020-04-25T00:00:00",
          "2020-04-26T00:00:00",
          "2020-04-27T00:00:00"
         ],
         "xaxis": "x",
         "y": [
          1,
          1,
          2,
          3,
          3,
          7,
          10,
          10,
          10,
          18,
          27,
          27,
          74,
          98,
          120,
          144,
          184,
          253,
          278,
          342,
          410,
          438,
          491,
          529,
          529,
          570,
          584,
          584,
          627,
          639,
          648,
          648,
          657,
          662,
          671,
          681,
          684,
          696,
          701
         ],
         "yaxis": "y"
        },
        {
         "alignmentgroup": "True",
         "customdata": [
          [
           "Zimbabwe",
           0,
           0
          ],
          [
           "Zimbabwe",
           0,
           0
          ],
          [
           "Zimbabwe",
           0,
           0
          ],
          [
           "Zimbabwe",
           1,
           0
          ],
          [
           "Zimbabwe",
           1,
           0
          ],
          [
           "Zimbabwe",
           1,
           0
          ],
          [
           "Zimbabwe",
           1,
           0
          ],
          [
           "Zimbabwe",
           1,
           0
          ],
          [
           "Zimbabwe",
           1,
           0
          ],
          [
           "Zimbabwe",
           1,
           0
          ],
          [
           "Zimbabwe",
           1,
           0
          ],
          [
           "Zimbabwe",
           1,
           0
          ],
          [
           "Zimbabwe",
           1,
           0
          ],
          [
           "Zimbabwe",
           1,
           0
          ],
          [
           "Zimbabwe",
           1,
           0
          ],
          [
           "Zimbabwe",
           1,
           0
          ],
          [
           "Zimbabwe",
           1,
           0
          ],
          [
           "Zimbabwe",
           1,
           0
          ],
          [
           "Zimbabwe",
           2,
           0
          ],
          [
           "Zimbabwe",
           3,
           0
          ],
          [
           "Zimbabwe",
           3,
           0
          ],
          [
           "Zimbabwe",
           3,
           0
          ],
          [
           "Zimbabwe",
           3,
           0
          ],
          [
           "Zimbabwe",
           3,
           0
          ],
          [
           "Zimbabwe",
           3,
           0
          ],
          [
           "Zimbabwe",
           3,
           0
          ],
          [
           "Zimbabwe",
           3,
           1
          ],
          [
           "Zimbabwe",
           3,
           1
          ],
          [
           "Zimbabwe",
           3,
           2
          ],
          [
           "Zimbabwe",
           3,
           2
          ],
          [
           "Zimbabwe",
           3,
           2
          ],
          [
           "Zimbabwe",
           3,
           2
          ],
          [
           "Zimbabwe",
           3,
           2
          ],
          [
           "Zimbabwe",
           4,
           2
          ],
          [
           "Zimbabwe",
           4,
           2
          ],
          [
           "Zimbabwe",
           4,
           2
          ],
          [
           "Zimbabwe",
           4,
           2
          ],
          [
           "Zimbabwe",
           4,
           2
          ],
          [
           "Zimbabwe",
           4,
           5
          ]
         ],
         "hoverlabel": {
          "namelength": 0
         },
         "hovertemplate": "Country/Region=%{customdata[0]}<br>date=%{x}<br>Confirmed=%{y}<br>Deaths=%{customdata[1]}<br>Recovered=%{customdata[2]}",
         "legendgroup": "Country/Region=Zimbabwe",
         "marker": {
          "color": "#636efa"
         },
         "name": "Country/Region=Zimbabwe",
         "offsetgroup": "Country/Region=Zimbabwe",
         "orientation": "v",
         "showlegend": true,
         "textposition": "auto",
         "type": "bar",
         "x": [
          "2020-03-20T00:00:00",
          "2020-03-21T00:00:00",
          "2020-03-22T00:00:00",
          "2020-03-23T00:00:00",
          "2020-03-24T00:00:00",
          "2020-03-25T00:00:00",
          "2020-03-26T00:00:00",
          "2020-03-27T00:00:00",
          "2020-03-28T00:00:00",
          "2020-03-29T00:00:00",
          "2020-03-30T00:00:00",
          "2020-03-31T00:00:00",
          "2020-04-01T00:00:00",
          "2020-04-02T00:00:00",
          "2020-04-03T00:00:00",
          "2020-04-04T00:00:00",
          "2020-04-05T00:00:00",
          "2020-04-06T00:00:00",
          "2020-04-07T00:00:00",
          "2020-04-08T00:00:00",
          "2020-04-09T00:00:00",
          "2020-04-10T00:00:00",
          "2020-04-11T00:00:00",
          "2020-04-12T00:00:00",
          "2020-04-13T00:00:00",
          "2020-04-14T00:00:00",
          "2020-04-15T00:00:00",
          "2020-04-16T00:00:00",
          "2020-04-17T00:00:00",
          "2020-04-18T00:00:00",
          "2020-04-19T00:00:00",
          "2020-04-20T00:00:00",
          "2020-04-21T00:00:00",
          "2020-04-22T00:00:00",
          "2020-04-23T00:00:00",
          "2020-04-24T00:00:00",
          "2020-04-25T00:00:00",
          "2020-04-26T00:00:00",
          "2020-04-27T00:00:00"
         ],
         "xaxis": "x",
         "y": [
          1,
          3,
          3,
          3,
          3,
          3,
          3,
          5,
          7,
          7,
          7,
          8,
          8,
          9,
          9,
          9,
          9,
          10,
          11,
          11,
          11,
          13,
          14,
          14,
          17,
          17,
          23,
          23,
          24,
          25,
          25,
          25,
          28,
          28,
          28,
          29,
          31,
          31,
          32
         ],
         "yaxis": "y"
        },
        {
         "alignmentgroup": "True",
         "customdata": [
          [
           "Eritrea",
           0,
           0
          ],
          [
           "Eritrea",
           0,
           0
          ],
          [
           "Eritrea",
           0,
           0
          ],
          [
           "Eritrea",
           0,
           0
          ],
          [
           "Eritrea",
           0,
           0
          ],
          [
           "Eritrea",
           0,
           0
          ],
          [
           "Eritrea",
           0,
           0
          ],
          [
           "Eritrea",
           0,
           0
          ],
          [
           "Eritrea",
           0,
           0
          ],
          [
           "Eritrea",
           0,
           0
          ],
          [
           "Eritrea",
           0,
           0
          ],
          [
           "Eritrea",
           0,
           0
          ],
          [
           "Eritrea",
           0,
           0
          ],
          [
           "Eritrea",
           0,
           0
          ],
          [
           "Eritrea",
           0,
           0
          ],
          [
           "Eritrea",
           0,
           0
          ],
          [
           "Eritrea",
           0,
           0
          ],
          [
           "Eritrea",
           0,
           0
          ],
          [
           "Eritrea",
           0,
           0
          ],
          [
           "Eritrea",
           0,
           0
          ],
          [
           "Eritrea",
           0,
           0
          ],
          [
           "Eritrea",
           0,
           0
          ],
          [
           "Eritrea",
           0,
           0
          ],
          [
           "Eritrea",
           0,
           0
          ],
          [
           "Eritrea",
           0,
           0
          ],
          [
           "Eritrea",
           0,
           0
          ],
          [
           "Eritrea",
           0,
           0
          ],
          [
           "Eritrea",
           0,
           0
          ],
          [
           "Eritrea",
           0,
           3
          ],
          [
           "Eritrea",
           0,
           3
          ],
          [
           "Eritrea",
           0,
           3
          ],
          [
           "Eritrea",
           0,
           6
          ],
          [
           "Eritrea",
           0,
           6
          ],
          [
           "Eritrea",
           0,
           6
          ],
          [
           "Eritrea",
           0,
           11
          ],
          [
           "Eritrea",
           0,
           13
          ],
          [
           "Eritrea",
           0,
           13
          ],
          [
           "Eritrea",
           0,
           13
          ]
         ],
         "hoverlabel": {
          "namelength": 0
         },
         "hovertemplate": "Country/Region=%{customdata[0]}<br>date=%{x}<br>Confirmed=%{y}<br>Deaths=%{customdata[1]}<br>Recovered=%{customdata[2]}",
         "legendgroup": "Country/Region=Eritrea",
         "marker": {
          "color": "#EF553B"
         },
         "name": "Country/Region=Eritrea",
         "offsetgroup": "Country/Region=Eritrea",
         "orientation": "v",
         "showlegend": true,
         "textposition": "auto",
         "type": "bar",
         "x": [
          "2020-03-21T00:00:00",
          "2020-03-22T00:00:00",
          "2020-03-23T00:00:00",
          "2020-03-24T00:00:00",
          "2020-03-25T00:00:00",
          "2020-03-26T00:00:00",
          "2020-03-27T00:00:00",
          "2020-03-28T00:00:00",
          "2020-03-29T00:00:00",
          "2020-03-30T00:00:00",
          "2020-03-31T00:00:00",
          "2020-04-01T00:00:00",
          "2020-04-02T00:00:00",
          "2020-04-03T00:00:00",
          "2020-04-04T00:00:00",
          "2020-04-05T00:00:00",
          "2020-04-06T00:00:00",
          "2020-04-07T00:00:00",
          "2020-04-08T00:00:00",
          "2020-04-09T00:00:00",
          "2020-04-10T00:00:00",
          "2020-04-11T00:00:00",
          "2020-04-12T00:00:00",
          "2020-04-13T00:00:00",
          "2020-04-14T00:00:00",
          "2020-04-15T00:00:00",
          "2020-04-16T00:00:00",
          "2020-04-17T00:00:00",
          "2020-04-18T00:00:00",
          "2020-04-19T00:00:00",
          "2020-04-20T00:00:00",
          "2020-04-21T00:00:00",
          "2020-04-22T00:00:00",
          "2020-04-23T00:00:00",
          "2020-04-24T00:00:00",
          "2020-04-25T00:00:00",
          "2020-04-26T00:00:00",
          "2020-04-27T00:00:00"
         ],
         "xaxis": "x",
         "y": [
          1,
          1,
          1,
          1,
          4,
          6,
          6,
          6,
          12,
          12,
          15,
          15,
          22,
          22,
          29,
          29,
          31,
          31,
          33,
          33,
          34,
          34,
          34,
          34,
          34,
          35,
          35,
          35,
          39,
          39,
          39,
          39,
          39,
          39,
          39,
          39,
          39,
          39
         ],
         "yaxis": "y"
        },
        {
         "alignmentgroup": "True",
         "customdata": [
          [
           "Uganda",
           0,
           0
          ],
          [
           "Uganda",
           0,
           0
          ],
          [
           "Uganda",
           0,
           0
          ],
          [
           "Uganda",
           0,
           0
          ],
          [
           "Uganda",
           0,
           0
          ],
          [
           "Uganda",
           0,
           0
          ],
          [
           "Uganda",
           0,
           0
          ],
          [
           "Uganda",
           0,
           0
          ],
          [
           "Uganda",
           0,
           0
          ],
          [
           "Uganda",
           0,
           0
          ],
          [
           "Uganda",
           0,
           0
          ],
          [
           "Uganda",
           0,
           0
          ],
          [
           "Uganda",
           0,
           0
          ],
          [
           "Uganda",
           0,
           0
          ],
          [
           "Uganda",
           0,
           0
          ],
          [
           "Uganda",
           0,
           0
          ],
          [
           "Uganda",
           0,
           0
          ],
          [
           "Uganda",
           0,
           0
          ],
          [
           "Uganda",
           0,
           0
          ],
          [
           "Uganda",
           0,
           0
          ],
          [
           "Uganda",
           0,
           0
          ],
          [
           "Uganda",
           0,
           4
          ],
          [
           "Uganda",
           0,
           4
          ],
          [
           "Uganda",
           0,
           7
          ],
          [
           "Uganda",
           0,
           8
          ],
          [
           "Uganda",
           0,
           12
          ],
          [
           "Uganda",
           0,
           20
          ],
          [
           "Uganda",
           0,
           20
          ],
          [
           "Uganda",
           0,
           22
          ],
          [
           "Uganda",
           0,
           28
          ],
          [
           "Uganda",
           0,
           38
          ],
          [
           "Uganda",
           0,
           38
          ],
          [
           "Uganda",
           0,
           45
          ],
          [
           "Uganda",
           0,
           46
          ],
          [
           "Uganda",
           0,
           46
          ],
          [
           "Uganda",
           0,
           46
          ],
          [
           "Uganda",
           0,
           46
          ],
          [
           "Uganda",
           0,
           47
          ]
         ],
         "hoverlabel": {
          "namelength": 0
         },
         "hovertemplate": "Country/Region=%{customdata[0]}<br>date=%{x}<br>Confirmed=%{y}<br>Deaths=%{customdata[1]}<br>Recovered=%{customdata[2]}",
         "legendgroup": "Country/Region=Uganda",
         "marker": {
          "color": "#00cc96"
         },
         "name": "Country/Region=Uganda",
         "offsetgroup": "Country/Region=Uganda",
         "orientation": "v",
         "showlegend": true,
         "textposition": "auto",
         "type": "bar",
         "x": [
          "2020-03-21T00:00:00",
          "2020-03-22T00:00:00",
          "2020-03-23T00:00:00",
          "2020-03-24T00:00:00",
          "2020-03-25T00:00:00",
          "2020-03-26T00:00:00",
          "2020-03-27T00:00:00",
          "2020-03-28T00:00:00",
          "2020-03-29T00:00:00",
          "2020-03-30T00:00:00",
          "2020-03-31T00:00:00",
          "2020-04-01T00:00:00",
          "2020-04-02T00:00:00",
          "2020-04-03T00:00:00",
          "2020-04-04T00:00:00",
          "2020-04-05T00:00:00",
          "2020-04-06T00:00:00",
          "2020-04-07T00:00:00",
          "2020-04-08T00:00:00",
          "2020-04-09T00:00:00",
          "2020-04-10T00:00:00",
          "2020-04-11T00:00:00",
          "2020-04-12T00:00:00",
          "2020-04-13T00:00:00",
          "2020-04-14T00:00:00",
          "2020-04-15T00:00:00",
          "2020-04-16T00:00:00",
          "2020-04-17T00:00:00",
          "2020-04-18T00:00:00",
          "2020-04-19T00:00:00",
          "2020-04-20T00:00:00",
          "2020-04-21T00:00:00",
          "2020-04-22T00:00:00",
          "2020-04-23T00:00:00",
          "2020-04-24T00:00:00",
          "2020-04-25T00:00:00",
          "2020-04-26T00:00:00",
          "2020-04-27T00:00:00"
         ],
         "xaxis": "x",
         "y": [
          1,
          1,
          9,
          9,
          14,
          14,
          23,
          30,
          33,
          33,
          44,
          44,
          45,
          48,
          48,
          52,
          52,
          52,
          53,
          53,
          53,
          53,
          54,
          54,
          55,
          55,
          55,
          56,
          55,
          55,
          56,
          61,
          63,
          74,
          75,
          75,
          79,
          79
         ],
         "yaxis": "y"
        },
        {
         "alignmentgroup": "True",
         "customdata": [
          [
           "Gambia",
           0,
           0
          ],
          [
           "Gambia",
           1,
           0
          ],
          [
           "Gambia",
           1,
           0
          ],
          [
           "Gambia",
           1,
           0
          ],
          [
           "Gambia",
           1,
           0
          ],
          [
           "Gambia",
           1,
           0
          ],
          [
           "Gambia",
           1,
           0
          ],
          [
           "Gambia",
           1,
           0
          ],
          [
           "Gambia",
           1,
           0
          ],
          [
           "Gambia",
           1,
           0
          ],
          [
           "Gambia",
           1,
           2
          ],
          [
           "Gambia",
           1,
           2
          ],
          [
           "Gambia",
           1,
           2
          ],
          [
           "Gambia",
           1,
           2
          ],
          [
           "Gambia",
           1,
           2
          ],
          [
           "Gambia",
           1,
           2
          ],
          [
           "Gambia",
           1,
           2
          ],
          [
           "Gambia",
           1,
           2
          ],
          [
           "Gambia",
           1,
           2
          ],
          [
           "Gambia",
           1,
           2
          ],
          [
           "Gambia",
           1,
           2
          ],
          [
           "Gambia",
           1,
           2
          ],
          [
           "Gambia",
           1,
           2
          ],
          [
           "Gambia",
           1,
           2
          ],
          [
           "Gambia",
           1,
           2
          ],
          [
           "Gambia",
           1,
           2
          ],
          [
           "Gambia",
           1,
           2
          ],
          [
           "Gambia",
           1,
           2
          ],
          [
           "Gambia",
           1,
           2
          ],
          [
           "Gambia",
           1,
           2
          ],
          [
           "Gambia",
           1,
           2
          ],
          [
           "Gambia",
           1,
           2
          ],
          [
           "Gambia",
           1,
           2
          ],
          [
           "Gambia",
           1,
           8
          ],
          [
           "Gambia",
           1,
           8
          ],
          [
           "Gambia",
           1,
           8
          ],
          [
           "Gambia",
           1,
           8
          ]
         ],
         "hoverlabel": {
          "namelength": 0
         },
         "hovertemplate": "Country/Region=%{customdata[0]}<br>date=%{x}<br>Confirmed=%{y}<br>Deaths=%{customdata[1]}<br>Recovered=%{customdata[2]}",
         "legendgroup": "Country/Region=Gambia",
         "marker": {
          "color": "#ab63fa"
         },
         "name": "Country/Region=Gambia",
         "offsetgroup": "Country/Region=Gambia",
         "orientation": "v",
         "showlegend": true,
         "textposition": "auto",
         "type": "bar",
         "x": [
          "2020-03-22T00:00:00",
          "2020-03-23T00:00:00",
          "2020-03-24T00:00:00",
          "2020-03-25T00:00:00",
          "2020-03-26T00:00:00",
          "2020-03-27T00:00:00",
          "2020-03-28T00:00:00",
          "2020-03-29T00:00:00",
          "2020-03-30T00:00:00",
          "2020-03-31T00:00:00",
          "2020-04-01T00:00:00",
          "2020-04-02T00:00:00",
          "2020-04-03T00:00:00",
          "2020-04-04T00:00:00",
          "2020-04-05T00:00:00",
          "2020-04-06T00:00:00",
          "2020-04-07T00:00:00",
          "2020-04-08T00:00:00",
          "2020-04-09T00:00:00",
          "2020-04-10T00:00:00",
          "2020-04-11T00:00:00",
          "2020-04-12T00:00:00",
          "2020-04-13T00:00:00",
          "2020-04-14T00:00:00",
          "2020-04-15T00:00:00",
          "2020-04-16T00:00:00",
          "2020-04-17T00:00:00",
          "2020-04-18T00:00:00",
          "2020-04-19T00:00:00",
          "2020-04-20T00:00:00",
          "2020-04-21T00:00:00",
          "2020-04-22T00:00:00",
          "2020-04-23T00:00:00",
          "2020-04-24T00:00:00",
          "2020-04-25T00:00:00",
          "2020-04-26T00:00:00",
          "2020-04-27T00:00:00"
         ],
         "xaxis": "x",
         "y": [
          1,
          2,
          3,
          3,
          3,
          3,
          3,
          4,
          4,
          4,
          4,
          4,
          4,
          4,
          4,
          4,
          4,
          4,
          4,
          4,
          9,
          9,
          9,
          9,
          9,
          9,
          9,
          9,
          10,
          10,
          10,
          10,
          10,
          10,
          10,
          10,
          10
         ],
         "yaxis": "y"
        },
        {
         "alignmentgroup": "True",
         "customdata": [
          [
           "Mozambique",
           0,
           0
          ],
          [
           "Mozambique",
           0,
           0
          ],
          [
           "Mozambique",
           0,
           0
          ],
          [
           "Mozambique",
           0,
           0
          ],
          [
           "Mozambique",
           0,
           0
          ],
          [
           "Mozambique",
           0,
           0
          ],
          [
           "Mozambique",
           0,
           0
          ],
          [
           "Mozambique",
           0,
           0
          ],
          [
           "Mozambique",
           0,
           0
          ],
          [
           "Mozambique",
           0,
           0
          ],
          [
           "Mozambique",
           0,
           0
          ],
          [
           "Mozambique",
           0,
           0
          ],
          [
           "Mozambique",
           0,
           0
          ],
          [
           "Mozambique",
           0,
           1
          ],
          [
           "Mozambique",
           0,
           1
          ],
          [
           "Mozambique",
           0,
           1
          ],
          [
           "Mozambique",
           0,
           1
          ],
          [
           "Mozambique",
           0,
           1
          ],
          [
           "Mozambique",
           0,
           1
          ],
          [
           "Mozambique",
           0,
           2
          ],
          [
           "Mozambique",
           0,
           2
          ],
          [
           "Mozambique",
           0,
           2
          ],
          [
           "Mozambique",
           0,
           2
          ],
          [
           "Mozambique",
           0,
           2
          ],
          [
           "Mozambique",
           0,
           2
          ],
          [
           "Mozambique",
           0,
           2
          ],
          [
           "Mozambique",
           0,
           2
          ],
          [
           "Mozambique",
           0,
           4
          ],
          [
           "Mozambique",
           0,
           8
          ],
          [
           "Mozambique",
           0,
           8
          ],
          [
           "Mozambique",
           0,
           8
          ],
          [
           "Mozambique",
           0,
           8
          ],
          [
           "Mozambique",
           0,
           9
          ],
          [
           "Mozambique",
           0,
           12
          ],
          [
           "Mozambique",
           0,
           12
          ],
          [
           "Mozambique",
           0,
           12
          ],
          [
           "Mozambique",
           0,
           12
          ]
         ],
         "hoverlabel": {
          "namelength": 0
         },
         "hovertemplate": "Country/Region=%{customdata[0]}<br>date=%{x}<br>Confirmed=%{y}<br>Deaths=%{customdata[1]}<br>Recovered=%{customdata[2]}",
         "legendgroup": "Country/Region=Mozambique",
         "marker": {
          "color": "#FFA15A"
         },
         "name": "Country/Region=Mozambique",
         "offsetgroup": "Country/Region=Mozambique",
         "orientation": "v",
         "showlegend": true,
         "textposition": "auto",
         "type": "bar",
         "x": [
          "2020-03-22T00:00:00",
          "2020-03-23T00:00:00",
          "2020-03-24T00:00:00",
          "2020-03-25T00:00:00",
          "2020-03-26T00:00:00",
          "2020-03-27T00:00:00",
          "2020-03-28T00:00:00",
          "2020-03-29T00:00:00",
          "2020-03-30T00:00:00",
          "2020-03-31T00:00:00",
          "2020-04-01T00:00:00",
          "2020-04-02T00:00:00",
          "2020-04-03T00:00:00",
          "2020-04-04T00:00:00",
          "2020-04-05T00:00:00",
          "2020-04-06T00:00:00",
          "2020-04-07T00:00:00",
          "2020-04-08T00:00:00",
          "2020-04-09T00:00:00",
          "2020-04-10T00:00:00",
          "2020-04-11T00:00:00",
          "2020-04-12T00:00:00",
          "2020-04-13T00:00:00",
          "2020-04-14T00:00:00",
          "2020-04-15T00:00:00",
          "2020-04-16T00:00:00",
          "2020-04-17T00:00:00",
          "2020-04-18T00:00:00",
          "2020-04-19T00:00:00",
          "2020-04-20T00:00:00",
          "2020-04-21T00:00:00",
          "2020-04-22T00:00:00",
          "2020-04-23T00:00:00",
          "2020-04-24T00:00:00",
          "2020-04-25T00:00:00",
          "2020-04-26T00:00:00",
          "2020-04-27T00:00:00"
         ],
         "xaxis": "x",
         "y": [
          1,
          1,
          3,
          5,
          7,
          7,
          8,
          8,
          8,
          8,
          10,
          10,
          10,
          10,
          10,
          10,
          10,
          17,
          17,
          20,
          20,
          21,
          21,
          28,
          29,
          31,
          34,
          35,
          39,
          39,
          39,
          41,
          46,
          65,
          70,
          76,
          76
         ],
         "yaxis": "y"
        },
        {
         "alignmentgroup": "True",
         "customdata": [
          [
           "Libya",
           0,
           0
          ],
          [
           "Libya",
           0,
           0
          ],
          [
           "Libya",
           0,
           0
          ],
          [
           "Libya",
           0,
           0
          ],
          [
           "Libya",
           0,
           0
          ],
          [
           "Libya",
           0,
           0
          ],
          [
           "Libya",
           0,
           0
          ],
          [
           "Libya",
           0,
           1
          ],
          [
           "Libya",
           0,
           0
          ],
          [
           "Libya",
           1,
           0
          ],
          [
           "Libya",
           1,
           0
          ],
          [
           "Libya",
           1,
           0
          ],
          [
           "Libya",
           1,
           0
          ],
          [
           "Libya",
           1,
           1
          ],
          [
           "Libya",
           1,
           1
          ],
          [
           "Libya",
           1,
           8
          ],
          [
           "Libya",
           1,
           8
          ],
          [
           "Libya",
           1,
           8
          ],
          [
           "Libya",
           1,
           8
          ],
          [
           "Libya",
           1,
           9
          ],
          [
           "Libya",
           1,
           9
          ],
          [
           "Libya",
           1,
           9
          ],
          [
           "Libya",
           1,
           9
          ],
          [
           "Libya",
           1,
           11
          ],
          [
           "Libya",
           1,
           11
          ],
          [
           "Libya",
           1,
           11
          ],
          [
           "Libya",
           1,
           11
          ],
          [
           "Libya",
           1,
           15
          ],
          [
           "Libya",
           1,
           15
          ],
          [
           "Libya",
           1,
           15
          ],
          [
           "Libya",
           2,
           15
          ],
          [
           "Libya",
           2,
           18
          ],
          [
           "Libya",
           2,
           18
          ],
          [
           "Libya",
           2,
           18
          ],
          [
           "Libya",
           2,
           18
          ]
         ],
         "hoverlabel": {
          "namelength": 0
         },
         "hovertemplate": "Country/Region=%{customdata[0]}<br>date=%{x}<br>Confirmed=%{y}<br>Deaths=%{customdata[1]}<br>Recovered=%{customdata[2]}",
         "legendgroup": "Country/Region=Libya",
         "marker": {
          "color": "#19d3f3"
         },
         "name": "Country/Region=Libya",
         "offsetgroup": "Country/Region=Libya",
         "orientation": "v",
         "showlegend": true,
         "textposition": "auto",
         "type": "bar",
         "x": [
          "2020-03-24T00:00:00",
          "2020-03-25T00:00:00",
          "2020-03-26T00:00:00",
          "2020-03-27T00:00:00",
          "2020-03-28T00:00:00",
          "2020-03-29T00:00:00",
          "2020-03-30T00:00:00",
          "2020-03-31T00:00:00",
          "2020-04-01T00:00:00",
          "2020-04-02T00:00:00",
          "2020-04-03T00:00:00",
          "2020-04-04T00:00:00",
          "2020-04-05T00:00:00",
          "2020-04-06T00:00:00",
          "2020-04-07T00:00:00",
          "2020-04-08T00:00:00",
          "2020-04-09T00:00:00",
          "2020-04-10T00:00:00",
          "2020-04-11T00:00:00",
          "2020-04-12T00:00:00",
          "2020-04-13T00:00:00",
          "2020-04-14T00:00:00",
          "2020-04-15T00:00:00",
          "2020-04-16T00:00:00",
          "2020-04-17T00:00:00",
          "2020-04-18T00:00:00",
          "2020-04-19T00:00:00",
          "2020-04-20T00:00:00",
          "2020-04-21T00:00:00",
          "2020-04-22T00:00:00",
          "2020-04-23T00:00:00",
          "2020-04-24T00:00:00",
          "2020-04-25T00:00:00",
          "2020-04-26T00:00:00",
          "2020-04-27T00:00:00"
         ],
         "xaxis": "x",
         "y": [
          1,
          1,
          1,
          1,
          3,
          8,
          8,
          10,
          10,
          11,
          11,
          18,
          18,
          19,
          20,
          21,
          24,
          24,
          24,
          25,
          26,
          35,
          48,
          49,
          49,
          49,
          51,
          51,
          51,
          59,
          60,
          61,
          61,
          61,
          61
         ],
         "yaxis": "y"
        },
        {
         "alignmentgroup": "True",
         "customdata": [
          [
           "Guinea-Bissau",
           0,
           0
          ],
          [
           "Guinea-Bissau",
           0,
           0
          ],
          [
           "Guinea-Bissau",
           0,
           0
          ],
          [
           "Guinea-Bissau",
           0,
           0
          ],
          [
           "Guinea-Bissau",
           0,
           0
          ],
          [
           "Guinea-Bissau",
           0,
           0
          ],
          [
           "Guinea-Bissau",
           0,
           0
          ],
          [
           "Guinea-Bissau",
           0,
           0
          ],
          [
           "Guinea-Bissau",
           0,
           0
          ],
          [
           "Guinea-Bissau",
           0,
           0
          ],
          [
           "Guinea-Bissau",
           0,
           0
          ],
          [
           "Guinea-Bissau",
           0,
           0
          ],
          [
           "Guinea-Bissau",
           0,
           0
          ],
          [
           "Guinea-Bissau",
           0,
           0
          ],
          [
           "Guinea-Bissau",
           0,
           0
          ],
          [
           "Guinea-Bissau",
           0,
           0
          ],
          [
           "Guinea-Bissau",
           0,
           0
          ],
          [
           "Guinea-Bissau",
           0,
           0
          ],
          [
           "Guinea-Bissau",
           0,
           0
          ],
          [
           "Guinea-Bissau",
           0,
           0
          ],
          [
           "Guinea-Bissau",
           0,
           0
          ],
          [
           "Guinea-Bissau",
           0,
           0
          ],
          [
           "Guinea-Bissau",
           0,
           0
          ],
          [
           "Guinea-Bissau",
           0,
           0
          ],
          [
           "Guinea-Bissau",
           0,
           0
          ],
          [
           "Guinea-Bissau",
           0,
           3
          ],
          [
           "Guinea-Bissau",
           0,
           3
          ],
          [
           "Guinea-Bissau",
           0,
           3
          ],
          [
           "Guinea-Bissau",
           0,
           3
          ],
          [
           "Guinea-Bissau",
           0,
           3
          ],
          [
           "Guinea-Bissau",
           0,
           3
          ],
          [
           "Guinea-Bissau",
           0,
           3
          ],
          [
           "Guinea-Bissau",
           1,
           3
          ],
          [
           "Guinea-Bissau",
           1,
           18
          ]
         ],
         "hoverlabel": {
          "namelength": 0
         },
         "hovertemplate": "Country/Region=%{customdata[0]}<br>date=%{x}<br>Confirmed=%{y}<br>Deaths=%{customdata[1]}<br>Recovered=%{customdata[2]}",
         "legendgroup": "Country/Region=Guinea-Bissau",
         "marker": {
          "color": "#FF6692"
         },
         "name": "Country/Region=Guinea-Bissau",
         "offsetgroup": "Country/Region=Guinea-Bissau",
         "orientation": "v",
         "showlegend": true,
         "textposition": "auto",
         "type": "bar",
         "x": [
          "2020-03-25T00:00:00",
          "2020-03-26T00:00:00",
          "2020-03-27T00:00:00",
          "2020-03-28T00:00:00",
          "2020-03-29T00:00:00",
          "2020-03-30T00:00:00",
          "2020-03-31T00:00:00",
          "2020-04-01T00:00:00",
          "2020-04-02T00:00:00",
          "2020-04-03T00:00:00",
          "2020-04-04T00:00:00",
          "2020-04-05T00:00:00",
          "2020-04-06T00:00:00",
          "2020-04-07T00:00:00",
          "2020-04-08T00:00:00",
          "2020-04-09T00:00:00",
          "2020-04-10T00:00:00",
          "2020-04-11T00:00:00",
          "2020-04-12T00:00:00",
          "2020-04-13T00:00:00",
          "2020-04-14T00:00:00",
          "2020-04-15T00:00:00",
          "2020-04-16T00:00:00",
          "2020-04-17T00:00:00",
          "2020-04-18T00:00:00",
          "2020-04-19T00:00:00",
          "2020-04-20T00:00:00",
          "2020-04-21T00:00:00",
          "2020-04-22T00:00:00",
          "2020-04-23T00:00:00",
          "2020-04-24T00:00:00",
          "2020-04-25T00:00:00",
          "2020-04-26T00:00:00",
          "2020-04-27T00:00:00"
         ],
         "xaxis": "x",
         "y": [
          2,
          2,
          2,
          2,
          2,
          8,
          8,
          9,
          9,
          15,
          18,
          18,
          18,
          33,
          33,
          36,
          36,
          38,
          38,
          38,
          38,
          43,
          43,
          43,
          46,
          50,
          50,
          50,
          50,
          50,
          52,
          52,
          53,
          73
         ],
         "yaxis": "y"
        },
        {
         "alignmentgroup": "True",
         "customdata": [
          [
           "Mali",
           0,
           0
          ],
          [
           "Mali",
           0,
           0
          ],
          [
           "Mali",
           0,
           0
          ],
          [
           "Mali",
           0,
           0
          ],
          [
           "Mali",
           1,
           0
          ],
          [
           "Mali",
           2,
           0
          ],
          [
           "Mali",
           2,
           0
          ],
          [
           "Mali",
           3,
           0
          ],
          [
           "Mali",
           3,
           0
          ],
          [
           "Mali",
           3,
           0
          ],
          [
           "Mali",
           3,
           1
          ],
          [
           "Mali",
           5,
           1
          ],
          [
           "Mali",
           5,
           9
          ],
          [
           "Mali",
           5,
           12
          ],
          [
           "Mali",
           7,
           16
          ],
          [
           "Mali",
           7,
           22
          ],
          [
           "Mali",
           7,
           22
          ],
          [
           "Mali",
           7,
           22
          ],
          [
           "Mali",
           9,
           22
          ],
          [
           "Mali",
           10,
           26
          ],
          [
           "Mali",
           13,
           34
          ],
          [
           "Mali",
           13,
           34
          ],
          [
           "Mali",
           13,
           34
          ],
          [
           "Mali",
           13,
           34
          ],
          [
           "Mali",
           13,
           41
          ],
          [
           "Mali",
           14,
           42
          ],
          [
           "Mali",
           14,
           56
          ],
          [
           "Mali",
           14,
           57
          ],
          [
           "Mali",
           17,
           73
          ],
          [
           "Mali",
           21,
           77
          ],
          [
           "Mali",
           21,
           87
          ],
          [
           "Mali",
           21,
           91
          ],
          [
           "Mali",
           23,
           112
          ],
          [
           "Mali",
           23,
           113
          ]
         ],
         "hoverlabel": {
          "namelength": 0
         },
         "hovertemplate": "Country/Region=%{customdata[0]}<br>date=%{x}<br>Confirmed=%{y}<br>Deaths=%{customdata[1]}<br>Recovered=%{customdata[2]}",
         "legendgroup": "Country/Region=Mali",
         "marker": {
          "color": "#B6E880"
         },
         "name": "Country/Region=Mali",
         "offsetgroup": "Country/Region=Mali",
         "orientation": "v",
         "showlegend": true,
         "textposition": "auto",
         "type": "bar",
         "x": [
          "2020-03-25T00:00:00",
          "2020-03-26T00:00:00",
          "2020-03-27T00:00:00",
          "2020-03-28T00:00:00",
          "2020-03-29T00:00:00",
          "2020-03-30T00:00:00",
          "2020-03-31T00:00:00",
          "2020-04-01T00:00:00",
          "2020-04-02T00:00:00",
          "2020-04-03T00:00:00",
          "2020-04-04T00:00:00",
          "2020-04-05T00:00:00",
          "2020-04-06T00:00:00",
          "2020-04-07T00:00:00",
          "2020-04-08T00:00:00",
          "2020-04-09T00:00:00",
          "2020-04-10T00:00:00",
          "2020-04-11T00:00:00",
          "2020-04-12T00:00:00",
          "2020-04-13T00:00:00",
          "2020-04-14T00:00:00",
          "2020-04-15T00:00:00",
          "2020-04-16T00:00:00",
          "2020-04-17T00:00:00",
          "2020-04-18T00:00:00",
          "2020-04-19T00:00:00",
          "2020-04-20T00:00:00",
          "2020-04-21T00:00:00",
          "2020-04-22T00:00:00",
          "2020-04-23T00:00:00",
          "2020-04-24T00:00:00",
          "2020-04-25T00:00:00",
          "2020-04-26T00:00:00",
          "2020-04-27T00:00:00"
         ],
         "xaxis": "x",
         "y": [
          2,
          4,
          11,
          18,
          18,
          25,
          28,
          31,
          36,
          39,
          41,
          45,
          47,
          56,
          59,
          74,
          87,
          87,
          105,
          123,
          144,
          148,
          171,
          171,
          216,
          224,
          246,
          258,
          293,
          309,
          325,
          370,
          389,
          408
         ],
         "yaxis": "y"
        },
        {
         "alignmentgroup": "True",
         "customdata": [
          [
           "Botswana",
           0,
           0
          ],
          [
           "Botswana",
           1,
           0
          ],
          [
           "Botswana",
           1,
           0
          ],
          [
           "Botswana",
           1,
           0
          ],
          [
           "Botswana",
           1,
           0
          ],
          [
           "Botswana",
           1,
           0
          ],
          [
           "Botswana",
           1,
           0
          ],
          [
           "Botswana",
           1,
           0
          ],
          [
           "Botswana",
           1,
           0
          ],
          [
           "Botswana",
           1,
           0
          ],
          [
           "Botswana",
           1,
           0
          ],
          [
           "Botswana",
           1,
           0
          ],
          [
           "Botswana",
           1,
           0
          ],
          [
           "Botswana",
           1,
           0
          ],
          [
           "Botswana",
           1,
           0
          ],
          [
           "Botswana",
           1,
           0
          ],
          [
           "Botswana",
           1,
           0
          ],
          [
           "Botswana",
           1,
           0
          ],
          [
           "Botswana",
           1,
           0
          ],
          [
           "Botswana",
           1,
           0
          ],
          [
           "Botswana",
           1,
           0
          ],
          [
           "Botswana",
           1,
           0
          ],
          [
           "Botswana",
           1,
           0
          ],
          [
           "Botswana",
           1,
           0
          ],
          [
           "Botswana",
           1,
           0
          ],
          [
           "Botswana",
           1,
           0
          ],
          [
           "Botswana",
           1,
           0
          ],
          [
           "Botswana",
           1,
           0
          ],
          [
           "Botswana",
           1,
           0
          ]
         ],
         "hoverlabel": {
          "namelength": 0
         },
         "hovertemplate": "Country/Region=%{customdata[0]}<br>date=%{x}<br>Confirmed=%{y}<br>Deaths=%{customdata[1]}<br>Recovered=%{customdata[2]}",
         "legendgroup": "Country/Region=Botswana",
         "marker": {
          "color": "#FF97FF"
         },
         "name": "Country/Region=Botswana",
         "offsetgroup": "Country/Region=Botswana",
         "orientation": "v",
         "showlegend": true,
         "textposition": "auto",
         "type": "bar",
         "x": [
          "2020-03-30T00:00:00",
          "2020-03-31T00:00:00",
          "2020-04-01T00:00:00",
          "2020-04-02T00:00:00",
          "2020-04-03T00:00:00",
          "2020-04-04T00:00:00",
          "2020-04-05T00:00:00",
          "2020-04-06T00:00:00",
          "2020-04-07T00:00:00",
          "2020-04-08T00:00:00",
          "2020-04-09T00:00:00",
          "2020-04-10T00:00:00",
          "2020-04-11T00:00:00",
          "2020-04-12T00:00:00",
          "2020-04-13T00:00:00",
          "2020-04-14T00:00:00",
          "2020-04-15T00:00:00",
          "2020-04-16T00:00:00",
          "2020-04-17T00:00:00",
          "2020-04-18T00:00:00",
          "2020-04-19T00:00:00",
          "2020-04-20T00:00:00",
          "2020-04-21T00:00:00",
          "2020-04-22T00:00:00",
          "2020-04-23T00:00:00",
          "2020-04-24T00:00:00",
          "2020-04-25T00:00:00",
          "2020-04-26T00:00:00",
          "2020-04-27T00:00:00"
         ],
         "xaxis": "x",
         "y": [
          3,
          4,
          4,
          4,
          4,
          4,
          6,
          6,
          6,
          6,
          13,
          13,
          13,
          13,
          13,
          13,
          13,
          15,
          15,
          15,
          20,
          20,
          20,
          22,
          22,
          22,
          22,
          22,
          22
         ],
         "yaxis": "y"
        },
        {
         "alignmentgroup": "True",
         "customdata": [
          [
           "Burundi",
           0,
           0
          ],
          [
           "Burundi",
           0,
           0
          ],
          [
           "Burundi",
           0,
           0
          ],
          [
           "Burundi",
           0,
           0
          ],
          [
           "Burundi",
           0,
           0
          ],
          [
           "Burundi",
           0,
           0
          ],
          [
           "Burundi",
           0,
           0
          ],
          [
           "Burundi",
           0,
           0
          ],
          [
           "Burundi",
           0,
           0
          ],
          [
           "Burundi",
           0,
           0
          ],
          [
           "Burundi",
           0,
           0
          ],
          [
           "Burundi",
           0,
           0
          ],
          [
           "Burundi",
           0,
           0
          ],
          [
           "Burundi",
           1,
           0
          ],
          [
           "Burundi",
           1,
           0
          ],
          [
           "Burundi",
           1,
           0
          ],
          [
           "Burundi",
           1,
           0
          ],
          [
           "Burundi",
           1,
           0
          ],
          [
           "Burundi",
           1,
           0
          ],
          [
           "Burundi",
           1,
           0
          ],
          [
           "Burundi",
           1,
           4
          ],
          [
           "Burundi",
           1,
           4
          ],
          [
           "Burundi",
           1,
           4
          ],
          [
           "Burundi",
           1,
           4
          ],
          [
           "Burundi",
           1,
           4
          ],
          [
           "Burundi",
           1,
           4
          ],
          [
           "Burundi",
           1,
           4
          ],
          [
           "Burundi",
           1,
           4
          ]
         ],
         "hoverlabel": {
          "namelength": 0
         },
         "hovertemplate": "Country/Region=%{customdata[0]}<br>date=%{x}<br>Confirmed=%{y}<br>Deaths=%{customdata[1]}<br>Recovered=%{customdata[2]}",
         "legendgroup": "Country/Region=Burundi",
         "marker": {
          "color": "#FECB52"
         },
         "name": "Country/Region=Burundi",
         "offsetgroup": "Country/Region=Burundi",
         "orientation": "v",
         "showlegend": true,
         "textposition": "auto",
         "type": "bar",
         "x": [
          "2020-03-31T00:00:00",
          "2020-04-01T00:00:00",
          "2020-04-02T00:00:00",
          "2020-04-03T00:00:00",
          "2020-04-04T00:00:00",
          "2020-04-05T00:00:00",
          "2020-04-06T00:00:00",
          "2020-04-07T00:00:00",
          "2020-04-08T00:00:00",
          "2020-04-09T00:00:00",
          "2020-04-10T00:00:00",
          "2020-04-11T00:00:00",
          "2020-04-12T00:00:00",
          "2020-04-13T00:00:00",
          "2020-04-14T00:00:00",
          "2020-04-15T00:00:00",
          "2020-04-16T00:00:00",
          "2020-04-17T00:00:00",
          "2020-04-18T00:00:00",
          "2020-04-19T00:00:00",
          "2020-04-20T00:00:00",
          "2020-04-21T00:00:00",
          "2020-04-22T00:00:00",
          "2020-04-23T00:00:00",
          "2020-04-24T00:00:00",
          "2020-04-25T00:00:00",
          "2020-04-26T00:00:00",
          "2020-04-27T00:00:00"
         ],
         "xaxis": "x",
         "y": [
          2,
          2,
          3,
          3,
          3,
          3,
          3,
          3,
          3,
          3,
          3,
          5,
          5,
          5,
          5,
          5,
          5,
          5,
          5,
          5,
          5,
          5,
          11,
          11,
          11,
          11,
          11,
          11
         ],
         "yaxis": "y"
        },
        {
         "alignmentgroup": "True",
         "customdata": [
          [
           "Sierra Leone",
           0,
           0
          ],
          [
           "Sierra Leone",
           0,
           0
          ],
          [
           "Sierra Leone",
           0,
           0
          ],
          [
           "Sierra Leone",
           0,
           0
          ],
          [
           "Sierra Leone",
           0,
           0
          ],
          [
           "Sierra Leone",
           0,
           0
          ],
          [
           "Sierra Leone",
           0,
           0
          ],
          [
           "Sierra Leone",
           0,
           0
          ],
          [
           "Sierra Leone",
           0,
           0
          ],
          [
           "Sierra Leone",
           0,
           0
          ],
          [
           "Sierra Leone",
           0,
           0
          ],
          [
           "Sierra Leone",
           0,
           0
          ],
          [
           "Sierra Leone",
           0,
           0
          ],
          [
           "Sierra Leone",
           0,
           0
          ],
          [
           "Sierra Leone",
           0,
           0
          ],
          [
           "Sierra Leone",
           0,
           0
          ],
          [
           "Sierra Leone",
           0,
           0
          ],
          [
           "Sierra Leone",
           0,
           0
          ],
          [
           "Sierra Leone",
           0,
           0
          ],
          [
           "Sierra Leone",
           0,
           6
          ],
          [
           "Sierra Leone",
           0,
           6
          ],
          [
           "Sierra Leone",
           0,
           6
          ],
          [
           "Sierra Leone",
           0,
           6
          ],
          [
           "Sierra Leone",
           1,
           10
          ],
          [
           "Sierra Leone",
           2,
           10
          ],
          [
           "Sierra Leone",
           2,
           10
          ],
          [
           "Sierra Leone",
           4,
           10
          ],
          [
           "Sierra Leone",
           4,
           10
          ]
         ],
         "hoverlabel": {
          "namelength": 0
         },
         "hovertemplate": "Country/Region=%{customdata[0]}<br>date=%{x}<br>Confirmed=%{y}<br>Deaths=%{customdata[1]}<br>Recovered=%{customdata[2]}",
         "legendgroup": "Country/Region=Sierra Leone",
         "marker": {
          "color": "#636efa"
         },
         "name": "Country/Region=Sierra Leone",
         "offsetgroup": "Country/Region=Sierra Leone",
         "orientation": "v",
         "showlegend": true,
         "textposition": "auto",
         "type": "bar",
         "x": [
          "2020-03-31T00:00:00",
          "2020-04-01T00:00:00",
          "2020-04-02T00:00:00",
          "2020-04-03T00:00:00",
          "2020-04-04T00:00:00",
          "2020-04-05T00:00:00",
          "2020-04-06T00:00:00",
          "2020-04-07T00:00:00",
          "2020-04-08T00:00:00",
          "2020-04-09T00:00:00",
          "2020-04-10T00:00:00",
          "2020-04-11T00:00:00",
          "2020-04-12T00:00:00",
          "2020-04-13T00:00:00",
          "2020-04-14T00:00:00",
          "2020-04-15T00:00:00",
          "2020-04-16T00:00:00",
          "2020-04-17T00:00:00",
          "2020-04-18T00:00:00",
          "2020-04-19T00:00:00",
          "2020-04-20T00:00:00",
          "2020-04-21T00:00:00",
          "2020-04-22T00:00:00",
          "2020-04-23T00:00:00",
          "2020-04-24T00:00:00",
          "2020-04-25T00:00:00",
          "2020-04-26T00:00:00",
          "2020-04-27T00:00:00"
         ],
         "xaxis": "x",
         "y": [
          1,
          2,
          2,
          2,
          4,
          6,
          6,
          6,
          7,
          7,
          8,
          8,
          10,
          10,
          11,
          13,
          15,
          26,
          30,
          35,
          43,
          50,
          61,
          64,
          82,
          82,
          93,
          93
         ],
         "yaxis": "y"
        },
        {
         "alignmentgroup": "True",
         "customdata": [
          [
           "Malawi",
           0,
           0
          ],
          [
           "Malawi",
           0,
           0
          ],
          [
           "Malawi",
           0,
           0
          ],
          [
           "Malawi",
           0,
           0
          ],
          [
           "Malawi",
           0,
           0
          ],
          [
           "Malawi",
           1,
           0
          ],
          [
           "Malawi",
           1,
           0
          ],
          [
           "Malawi",
           1,
           0
          ],
          [
           "Malawi",
           1,
           0
          ],
          [
           "Malawi",
           2,
           0
          ],
          [
           "Malawi",
           2,
           0
          ],
          [
           "Malawi",
           2,
           0
          ],
          [
           "Malawi",
           2,
           0
          ],
          [
           "Malawi",
           2,
           0
          ],
          [
           "Malawi",
           2,
           0
          ],
          [
           "Malawi",
           2,
           3
          ],
          [
           "Malawi",
           2,
           3
          ],
          [
           "Malawi",
           2,
           3
          ],
          [
           "Malawi",
           2,
           3
          ],
          [
           "Malawi",
           2,
           3
          ],
          [
           "Malawi",
           3,
           3
          ],
          [
           "Malawi",
           3,
           3
          ],
          [
           "Malawi",
           3,
           4
          ],
          [
           "Malawi",
           3,
           4
          ],
          [
           "Malawi",
           3,
           4
          ],
          [
           "Malawi",
           3,
           4
          ]
         ],
         "hoverlabel": {
          "namelength": 0
         },
         "hovertemplate": "Country/Region=%{customdata[0]}<br>date=%{x}<br>Confirmed=%{y}<br>Deaths=%{customdata[1]}<br>Recovered=%{customdata[2]}",
         "legendgroup": "Country/Region=Malawi",
         "marker": {
          "color": "#EF553B"
         },
         "name": "Country/Region=Malawi",
         "offsetgroup": "Country/Region=Malawi",
         "orientation": "v",
         "showlegend": true,
         "textposition": "auto",
         "type": "bar",
         "x": [
          "2020-04-02T00:00:00",
          "2020-04-03T00:00:00",
          "2020-04-04T00:00:00",
          "2020-04-05T00:00:00",
          "2020-04-06T00:00:00",
          "2020-04-07T00:00:00",
          "2020-04-08T00:00:00",
          "2020-04-09T00:00:00",
          "2020-04-10T00:00:00",
          "2020-04-11T00:00:00",
          "2020-04-12T00:00:00",
          "2020-04-13T00:00:00",
          "2020-04-14T00:00:00",
          "2020-04-15T00:00:00",
          "2020-04-16T00:00:00",
          "2020-04-17T00:00:00",
          "2020-04-18T00:00:00",
          "2020-04-19T00:00:00",
          "2020-04-20T00:00:00",
          "2020-04-21T00:00:00",
          "2020-04-22T00:00:00",
          "2020-04-23T00:00:00",
          "2020-04-24T00:00:00",
          "2020-04-25T00:00:00",
          "2020-04-26T00:00:00",
          "2020-04-27T00:00:00"
         ],
         "xaxis": "x",
         "y": [
          3,
          3,
          4,
          4,
          5,
          8,
          8,
          8,
          9,
          12,
          13,
          16,
          16,
          16,
          16,
          17,
          17,
          17,
          17,
          18,
          23,
          33,
          33,
          33,
          34,
          36
         ],
         "yaxis": "y"
        },
        {
         "alignmentgroup": "True",
         "customdata": [
          [
           "South Sudan",
           0,
           0
          ],
          [
           "South Sudan",
           0,
           0
          ],
          [
           "South Sudan",
           0,
           0
          ],
          [
           "South Sudan",
           0,
           0
          ],
          [
           "South Sudan",
           0,
           0
          ],
          [
           "South Sudan",
           0,
           0
          ],
          [
           "South Sudan",
           0,
           0
          ],
          [
           "South Sudan",
           0,
           0
          ],
          [
           "South Sudan",
           0,
           0
          ],
          [
           "South Sudan",
           0,
           0
          ],
          [
           "South Sudan",
           0,
           0
          ],
          [
           "South Sudan",
           0,
           0
          ],
          [
           "South Sudan",
           0,
           0
          ],
          [
           "South Sudan",
           0,
           0
          ],
          [
           "South Sudan",
           0,
           0
          ],
          [
           "South Sudan",
           0,
           0
          ],
          [
           "South Sudan",
           0,
           0
          ],
          [
           "South Sudan",
           0,
           0
          ],
          [
           "South Sudan",
           0,
           0
          ],
          [
           "South Sudan",
           0,
           0
          ],
          [
           "South Sudan",
           0,
           0
          ],
          [
           "South Sudan",
           0,
           0
          ],
          [
           "South Sudan",
           0,
           0
          ]
         ],
         "hoverlabel": {
          "namelength": 0
         },
         "hovertemplate": "Country/Region=%{customdata[0]}<br>date=%{x}<br>Confirmed=%{y}<br>Deaths=%{customdata[1]}<br>Recovered=%{customdata[2]}",
         "legendgroup": "Country/Region=South Sudan",
         "marker": {
          "color": "#00cc96"
         },
         "name": "Country/Region=South Sudan",
         "offsetgroup": "Country/Region=South Sudan",
         "orientation": "v",
         "showlegend": true,
         "textposition": "auto",
         "type": "bar",
         "x": [
          "2020-04-05T00:00:00",
          "2020-04-06T00:00:00",
          "2020-04-07T00:00:00",
          "2020-04-08T00:00:00",
          "2020-04-09T00:00:00",
          "2020-04-10T00:00:00",
          "2020-04-11T00:00:00",
          "2020-04-12T00:00:00",
          "2020-04-13T00:00:00",
          "2020-04-14T00:00:00",
          "2020-04-15T00:00:00",
          "2020-04-16T00:00:00",
          "2020-04-17T00:00:00",
          "2020-04-18T00:00:00",
          "2020-04-19T00:00:00",
          "2020-04-20T00:00:00",
          "2020-04-21T00:00:00",
          "2020-04-22T00:00:00",
          "2020-04-23T00:00:00",
          "2020-04-24T00:00:00",
          "2020-04-25T00:00:00",
          "2020-04-26T00:00:00",
          "2020-04-27T00:00:00"
         ],
         "xaxis": "x",
         "y": [
          1,
          1,
          2,
          2,
          3,
          4,
          4,
          4,
          4,
          4,
          4,
          4,
          4,
          4,
          4,
          4,
          4,
          4,
          5,
          5,
          5,
          6,
          6
         ],
         "yaxis": "y"
        },
        {
         "alignmentgroup": "True",
         "customdata": [
          [
           "Sao Tome and Principe",
           0,
           0
          ],
          [
           "Sao Tome and Principe",
           0,
           0
          ],
          [
           "Sao Tome and Principe",
           0,
           0
          ],
          [
           "Sao Tome and Principe",
           0,
           0
          ],
          [
           "Sao Tome and Principe",
           0,
           0
          ],
          [
           "Sao Tome and Principe",
           0,
           0
          ],
          [
           "Sao Tome and Principe",
           0,
           0
          ],
          [
           "Sao Tome and Principe",
           0,
           0
          ],
          [
           "Sao Tome and Principe",
           0,
           0
          ],
          [
           "Sao Tome and Principe",
           0,
           0
          ],
          [
           "Sao Tome and Principe",
           0,
           0
          ],
          [
           "Sao Tome and Principe",
           0,
           0
          ],
          [
           "Sao Tome and Principe",
           0,
           0
          ],
          [
           "Sao Tome and Principe",
           0,
           0
          ],
          [
           "Sao Tome and Principe",
           0,
           0
          ],
          [
           "Sao Tome and Principe",
           0,
           0
          ],
          [
           "Sao Tome and Principe",
           0,
           0
          ],
          [
           "Sao Tome and Principe",
           0,
           0
          ],
          [
           "Sao Tome and Principe",
           0,
           0
          ],
          [
           "Sao Tome and Principe",
           0,
           0
          ],
          [
           "Sao Tome and Principe",
           0,
           0
          ],
          [
           "Sao Tome and Principe",
           0,
           0
          ]
         ],
         "hoverlabel": {
          "namelength": 0
         },
         "hovertemplate": "Country/Region=%{customdata[0]}<br>date=%{x}<br>Confirmed=%{y}<br>Deaths=%{customdata[1]}<br>Recovered=%{customdata[2]}",
         "legendgroup": "Country/Region=Sao Tome and Principe",
         "marker": {
          "color": "#ab63fa"
         },
         "name": "Country/Region=Sao Tome and Principe",
         "offsetgroup": "Country/Region=Sao Tome and Principe",
         "orientation": "v",
         "showlegend": true,
         "textposition": "auto",
         "type": "bar",
         "x": [
          "2020-04-06T00:00:00",
          "2020-04-07T00:00:00",
          "2020-04-08T00:00:00",
          "2020-04-09T00:00:00",
          "2020-04-10T00:00:00",
          "2020-04-11T00:00:00",
          "2020-04-12T00:00:00",
          "2020-04-13T00:00:00",
          "2020-04-14T00:00:00",
          "2020-04-15T00:00:00",
          "2020-04-16T00:00:00",
          "2020-04-17T00:00:00",
          "2020-04-18T00:00:00",
          "2020-04-19T00:00:00",
          "2020-04-20T00:00:00",
          "2020-04-21T00:00:00",
          "2020-04-22T00:00:00",
          "2020-04-23T00:00:00",
          "2020-04-24T00:00:00",
          "2020-04-25T00:00:00",
          "2020-04-26T00:00:00",
          "2020-04-27T00:00:00"
         ],
         "xaxis": "x",
         "y": [
          4,
          4,
          4,
          4,
          4,
          4,
          4,
          4,
          4,
          4,
          4,
          4,
          4,
          4,
          4,
          4,
          4,
          4,
          4,
          4,
          4,
          4
         ],
         "yaxis": "y"
        }
       ],
       "layout": {
        "annotations": [
         {
          "font": {
           "color": "rgb(37,37,37)",
           "family": "Arial",
           "size": 30
          },
          "showarrow": false,
          "text": "Confirmed bar plot for each country",
          "x": 0,
          "xanchor": "left",
          "xref": "paper",
          "y": 1.05,
          "yanchor": "bottom",
          "yref": "paper"
         }
        ],
        "barmode": "relative",
        "height": 600,
        "legend": {
         "tracegroupgap": 0
        },
        "margin": {
         "t": 60
        },
        "template": {
         "data": {
          "bar": [
           {
            "error_x": {
             "color": "#2a3f5f"
            },
            "error_y": {
             "color": "#2a3f5f"
            },
            "marker": {
             "line": {
              "color": "#E5ECF6",
              "width": 0.5
             }
            },
            "type": "bar"
           }
          ],
          "barpolar": [
           {
            "marker": {
             "line": {
              "color": "#E5ECF6",
              "width": 0.5
             }
            },
            "type": "barpolar"
           }
          ],
          "carpet": [
           {
            "aaxis": {
             "endlinecolor": "#2a3f5f",
             "gridcolor": "white",
             "linecolor": "white",
             "minorgridcolor": "white",
             "startlinecolor": "#2a3f5f"
            },
            "baxis": {
             "endlinecolor": "#2a3f5f",
             "gridcolor": "white",
             "linecolor": "white",
             "minorgridcolor": "white",
             "startlinecolor": "#2a3f5f"
            },
            "type": "carpet"
           }
          ],
          "choropleth": [
           {
            "colorbar": {
             "outlinewidth": 0,
             "ticks": ""
            },
            "type": "choropleth"
           }
          ],
          "contour": [
           {
            "colorbar": {
             "outlinewidth": 0,
             "ticks": ""
            },
            "colorscale": [
             [
              0,
              "#0d0887"
             ],
             [
              0.1111111111111111,
              "#46039f"
             ],
             [
              0.2222222222222222,
              "#7201a8"
             ],
             [
              0.3333333333333333,
              "#9c179e"
             ],
             [
              0.4444444444444444,
              "#bd3786"
             ],
             [
              0.5555555555555556,
              "#d8576b"
             ],
             [
              0.6666666666666666,
              "#ed7953"
             ],
             [
              0.7777777777777778,
              "#fb9f3a"
             ],
             [
              0.8888888888888888,
              "#fdca26"
             ],
             [
              1,
              "#f0f921"
             ]
            ],
            "type": "contour"
           }
          ],
          "contourcarpet": [
           {
            "colorbar": {
             "outlinewidth": 0,
             "ticks": ""
            },
            "type": "contourcarpet"
           }
          ],
          "heatmap": [
           {
            "colorbar": {
             "outlinewidth": 0,
             "ticks": ""
            },
            "colorscale": [
             [
              0,
              "#0d0887"
             ],
             [
              0.1111111111111111,
              "#46039f"
             ],
             [
              0.2222222222222222,
              "#7201a8"
             ],
             [
              0.3333333333333333,
              "#9c179e"
             ],
             [
              0.4444444444444444,
              "#bd3786"
             ],
             [
              0.5555555555555556,
              "#d8576b"
             ],
             [
              0.6666666666666666,
              "#ed7953"
             ],
             [
              0.7777777777777778,
              "#fb9f3a"
             ],
             [
              0.8888888888888888,
              "#fdca26"
             ],
             [
              1,
              "#f0f921"
             ]
            ],
            "type": "heatmap"
           }
          ],
          "heatmapgl": [
           {
            "colorbar": {
             "outlinewidth": 0,
             "ticks": ""
            },
            "colorscale": [
             [
              0,
              "#0d0887"
             ],
             [
              0.1111111111111111,
              "#46039f"
             ],
             [
              0.2222222222222222,
              "#7201a8"
             ],
             [
              0.3333333333333333,
              "#9c179e"
             ],
             [
              0.4444444444444444,
              "#bd3786"
             ],
             [
              0.5555555555555556,
              "#d8576b"
             ],
             [
              0.6666666666666666,
              "#ed7953"
             ],
             [
              0.7777777777777778,
              "#fb9f3a"
             ],
             [
              0.8888888888888888,
              "#fdca26"
             ],
             [
              1,
              "#f0f921"
             ]
            ],
            "type": "heatmapgl"
           }
          ],
          "histogram": [
           {
            "marker": {
             "colorbar": {
              "outlinewidth": 0,
              "ticks": ""
             }
            },
            "type": "histogram"
           }
          ],
          "histogram2d": [
           {
            "colorbar": {
             "outlinewidth": 0,
             "ticks": ""
            },
            "colorscale": [
             [
              0,
              "#0d0887"
             ],
             [
              0.1111111111111111,
              "#46039f"
             ],
             [
              0.2222222222222222,
              "#7201a8"
             ],
             [
              0.3333333333333333,
              "#9c179e"
             ],
             [
              0.4444444444444444,
              "#bd3786"
             ],
             [
              0.5555555555555556,
              "#d8576b"
             ],
             [
              0.6666666666666666,
              "#ed7953"
             ],
             [
              0.7777777777777778,
              "#fb9f3a"
             ],
             [
              0.8888888888888888,
              "#fdca26"
             ],
             [
              1,
              "#f0f921"
             ]
            ],
            "type": "histogram2d"
           }
          ],
          "histogram2dcontour": [
           {
            "colorbar": {
             "outlinewidth": 0,
             "ticks": ""
            },
            "colorscale": [
             [
              0,
              "#0d0887"
             ],
             [
              0.1111111111111111,
              "#46039f"
             ],
             [
              0.2222222222222222,
              "#7201a8"
             ],
             [
              0.3333333333333333,
              "#9c179e"
             ],
             [
              0.4444444444444444,
              "#bd3786"
             ],
             [
              0.5555555555555556,
              "#d8576b"
             ],
             [
              0.6666666666666666,
              "#ed7953"
             ],
             [
              0.7777777777777778,
              "#fb9f3a"
             ],
             [
              0.8888888888888888,
              "#fdca26"
             ],
             [
              1,
              "#f0f921"
             ]
            ],
            "type": "histogram2dcontour"
           }
          ],
          "mesh3d": [
           {
            "colorbar": {
             "outlinewidth": 0,
             "ticks": ""
            },
            "type": "mesh3d"
           }
          ],
          "parcoords": [
           {
            "line": {
             "colorbar": {
              "outlinewidth": 0,
              "ticks": ""
             }
            },
            "type": "parcoords"
           }
          ],
          "scatter": [
           {
            "marker": {
             "colorbar": {
              "outlinewidth": 0,
              "ticks": ""
             }
            },
            "type": "scatter"
           }
          ],
          "scatter3d": [
           {
            "line": {
             "colorbar": {
              "outlinewidth": 0,
              "ticks": ""
             }
            },
            "marker": {
             "colorbar": {
              "outlinewidth": 0,
              "ticks": ""
             }
            },
            "type": "scatter3d"
           }
          ],
          "scattercarpet": [
           {
            "marker": {
             "colorbar": {
              "outlinewidth": 0,
              "ticks": ""
             }
            },
            "type": "scattercarpet"
           }
          ],
          "scattergeo": [
           {
            "marker": {
             "colorbar": {
              "outlinewidth": 0,
              "ticks": ""
             }
            },
            "type": "scattergeo"
           }
          ],
          "scattergl": [
           {
            "marker": {
             "colorbar": {
              "outlinewidth": 0,
              "ticks": ""
             }
            },
            "type": "scattergl"
           }
          ],
          "scattermapbox": [
           {
            "marker": {
             "colorbar": {
              "outlinewidth": 0,
              "ticks": ""
             }
            },
            "type": "scattermapbox"
           }
          ],
          "scatterpolar": [
           {
            "marker": {
             "colorbar": {
              "outlinewidth": 0,
              "ticks": ""
             }
            },
            "type": "scatterpolar"
           }
          ],
          "scatterpolargl": [
           {
            "marker": {
             "colorbar": {
              "outlinewidth": 0,
              "ticks": ""
             }
            },
            "type": "scatterpolargl"
           }
          ],
          "scatterternary": [
           {
            "marker": {
             "colorbar": {
              "outlinewidth": 0,
              "ticks": ""
             }
            },
            "type": "scatterternary"
           }
          ],
          "surface": [
           {
            "colorbar": {
             "outlinewidth": 0,
             "ticks": ""
            },
            "colorscale": [
             [
              0,
              "#0d0887"
             ],
             [
              0.1111111111111111,
              "#46039f"
             ],
             [
              0.2222222222222222,
              "#7201a8"
             ],
             [
              0.3333333333333333,
              "#9c179e"
             ],
             [
              0.4444444444444444,
              "#bd3786"
             ],
             [
              0.5555555555555556,
              "#d8576b"
             ],
             [
              0.6666666666666666,
              "#ed7953"
             ],
             [
              0.7777777777777778,
              "#fb9f3a"
             ],
             [
              0.8888888888888888,
              "#fdca26"
             ],
             [
              1,
              "#f0f921"
             ]
            ],
            "type": "surface"
           }
          ],
          "table": [
           {
            "cells": {
             "fill": {
              "color": "#EBF0F8"
             },
             "line": {
              "color": "white"
             }
            },
            "header": {
             "fill": {
              "color": "#C8D4E3"
             },
             "line": {
              "color": "white"
             }
            },
            "type": "table"
           }
          ]
         },
         "layout": {
          "annotationdefaults": {
           "arrowcolor": "#2a3f5f",
           "arrowhead": 0,
           "arrowwidth": 1
          },
          "colorscale": {
           "diverging": [
            [
             0,
             "#8e0152"
            ],
            [
             0.1,
             "#c51b7d"
            ],
            [
             0.2,
             "#de77ae"
            ],
            [
             0.3,
             "#f1b6da"
            ],
            [
             0.4,
             "#fde0ef"
            ],
            [
             0.5,
             "#f7f7f7"
            ],
            [
             0.6,
             "#e6f5d0"
            ],
            [
             0.7,
             "#b8e186"
            ],
            [
             0.8,
             "#7fbc41"
            ],
            [
             0.9,
             "#4d9221"
            ],
            [
             1,
             "#276419"
            ]
           ],
           "sequential": [
            [
             0,
             "#0d0887"
            ],
            [
             0.1111111111111111,
             "#46039f"
            ],
            [
             0.2222222222222222,
             "#7201a8"
            ],
            [
             0.3333333333333333,
             "#9c179e"
            ],
            [
             0.4444444444444444,
             "#bd3786"
            ],
            [
             0.5555555555555556,
             "#d8576b"
            ],
            [
             0.6666666666666666,
             "#ed7953"
            ],
            [
             0.7777777777777778,
             "#fb9f3a"
            ],
            [
             0.8888888888888888,
             "#fdca26"
            ],
            [
             1,
             "#f0f921"
            ]
           ],
           "sequentialminus": [
            [
             0,
             "#0d0887"
            ],
            [
             0.1111111111111111,
             "#46039f"
            ],
            [
             0.2222222222222222,
             "#7201a8"
            ],
            [
             0.3333333333333333,
             "#9c179e"
            ],
            [
             0.4444444444444444,
             "#bd3786"
            ],
            [
             0.5555555555555556,
             "#d8576b"
            ],
            [
             0.6666666666666666,
             "#ed7953"
            ],
            [
             0.7777777777777778,
             "#fb9f3a"
            ],
            [
             0.8888888888888888,
             "#fdca26"
            ],
            [
             1,
             "#f0f921"
            ]
           ]
          },
          "colorway": [
           "#636efa",
           "#EF553B",
           "#00cc96",
           "#ab63fa",
           "#FFA15A",
           "#19d3f3",
           "#FF6692",
           "#B6E880",
           "#FF97FF",
           "#FECB52"
          ],
          "font": {
           "color": "#2a3f5f"
          },
          "geo": {
           "bgcolor": "white",
           "lakecolor": "white",
           "landcolor": "#E5ECF6",
           "showlakes": true,
           "showland": true,
           "subunitcolor": "white"
          },
          "hoverlabel": {
           "align": "left"
          },
          "hovermode": "closest",
          "mapbox": {
           "style": "light"
          },
          "paper_bgcolor": "white",
          "plot_bgcolor": "#E5ECF6",
          "polar": {
           "angularaxis": {
            "gridcolor": "white",
            "linecolor": "white",
            "ticks": ""
           },
           "bgcolor": "#E5ECF6",
           "radialaxis": {
            "gridcolor": "white",
            "linecolor": "white",
            "ticks": ""
           }
          },
          "scene": {
           "xaxis": {
            "backgroundcolor": "#E5ECF6",
            "gridcolor": "white",
            "gridwidth": 2,
            "linecolor": "white",
            "showbackground": true,
            "ticks": "",
            "zerolinecolor": "white"
           },
           "yaxis": {
            "backgroundcolor": "#E5ECF6",
            "gridcolor": "white",
            "gridwidth": 2,
            "linecolor": "white",
            "showbackground": true,
            "ticks": "",
            "zerolinecolor": "white"
           },
           "zaxis": {
            "backgroundcolor": "#E5ECF6",
            "gridcolor": "white",
            "gridwidth": 2,
            "linecolor": "white",
            "showbackground": true,
            "ticks": "",
            "zerolinecolor": "white"
           }
          },
          "shapedefaults": {
           "line": {
            "color": "#2a3f5f"
           }
          },
          "ternary": {
           "aaxis": {
            "gridcolor": "white",
            "linecolor": "white",
            "ticks": ""
           },
           "baxis": {
            "gridcolor": "white",
            "linecolor": "white",
            "ticks": ""
           },
           "bgcolor": "#E5ECF6",
           "caxis": {
            "gridcolor": "white",
            "linecolor": "white",
            "ticks": ""
           }
          },
          "title": {
           "x": 0.05
          },
          "xaxis": {
           "automargin": true,
           "gridcolor": "white",
           "linecolor": "white",
           "ticks": "",
           "zerolinecolor": "white",
           "zerolinewidth": 2
          },
          "yaxis": {
           "automargin": true,
           "gridcolor": "white",
           "linecolor": "white",
           "ticks": "",
           "zerolinecolor": "white",
           "zerolinewidth": 2
          }
         }
        },
        "xaxis": {
         "anchor": "y",
         "domain": [
          0,
          0.98
         ],
         "title": {
          "text": "date"
         }
        },
        "yaxis": {
         "anchor": "x",
         "domain": [
          0,
          1
         ],
         "title": {
          "text": "Confirmed"
         }
        }
       }
      }
     },
     "metadata": {}
    }
   ],
   "source": [
    "fig = px.bar(af, x='date',y='Confirmed',hover_data=['Country/Region', 'Deaths', 'Recovered'], color='Country/Region')\n",
    "annotations = []\n",
    "annotations.append(dict(xref='paper', yref='paper', x=0.0, y=1.05,\n",
    "                              xanchor='left', yanchor='bottom',\n",
    "                              text='Confirmed bar plot for each country',\n",
    "                              font=dict(family='Arial',\n",
    "                                        size=30,\n",
    "                                        color='rgb(37,37,37)'),\n",
    "                              showarrow=False))\n",
    "fig.update_layout(annotations=annotations)\n",
    "fig.show()"
   ]
  },
  {
   "cell_type": "code",
   "execution_count": 11,
   "metadata": {},
   "outputs": [
    {
     "output_type": "display_data",
     "data": {
      "application/vnd.plotly.v1+json": {
       "config": {
        "plotlyServerURL": "https://plot.ly"
       },
       "data": [
        {
         "customdata": [
          [
           "Ivory Coast",
           0
          ]
         ],
         "hoverlabel": {
          "namelength": 0
         },
         "hovertemplate": "Country/Region=%{customdata[0]}<br>date=%{x}<br>Confirmed=%{y}<br>Deaths=%{customdata[1]}",
         "legendgroup": "Country/Region=Ivory Coast",
         "line": {
          "color": "#636efa",
          "dash": "solid"
         },
         "mode": "lines",
         "name": "Country/Region=Ivory Coast",
         "showlegend": true,
         "type": "scattergl",
         "x": [
          "2020-01-27T00:00:00"
         ],
         "xaxis": "x",
         "y": [
          1
         ],
         "yaxis": "y"
        },
        {
         "customdata": [
          [
           "Egypt",
           0
          ],
          [
           "Egypt",
           0
          ],
          [
           "Egypt",
           0
          ],
          [
           "Egypt",
           0
          ],
          [
           "Egypt",
           0
          ],
          [
           "Egypt",
           0
          ],
          [
           "Egypt",
           0
          ],
          [
           "Egypt",
           0
          ],
          [
           "Egypt",
           0
          ],
          [
           "Egypt",
           0
          ],
          [
           "Egypt",
           0
          ],
          [
           "Egypt",
           0
          ],
          [
           "Egypt",
           0
          ],
          [
           "Egypt",
           0
          ],
          [
           "Egypt",
           0
          ],
          [
           "Egypt",
           0
          ],
          [
           "Egypt",
           0
          ],
          [
           "Egypt",
           0
          ],
          [
           "Egypt",
           0
          ],
          [
           "Egypt",
           0
          ],
          [
           "Egypt",
           0
          ],
          [
           "Egypt",
           0
          ],
          [
           "Egypt",
           0
          ],
          [
           "Egypt",
           1
          ],
          [
           "Egypt",
           1
          ],
          [
           "Egypt",
           1
          ],
          [
           "Egypt",
           1
          ],
          [
           "Egypt",
           1
          ],
          [
           "Egypt",
           2
          ],
          [
           "Egypt",
           2
          ],
          [
           "Egypt",
           2
          ],
          [
           "Egypt",
           2
          ],
          [
           "Egypt",
           4
          ],
          [
           "Egypt",
           6
          ],
          [
           "Egypt",
           6
          ],
          [
           "Egypt",
           8
          ],
          [
           "Egypt",
           10
          ],
          [
           "Egypt",
           14
          ],
          [
           "Egypt",
           19
          ],
          [
           "Egypt",
           20
          ],
          [
           "Egypt",
           21
          ],
          [
           "Egypt",
           24
          ],
          [
           "Egypt",
           30
          ],
          [
           "Egypt",
           36
          ],
          [
           "Egypt",
           40
          ],
          [
           "Egypt",
           41
          ],
          [
           "Egypt",
           46
          ],
          [
           "Egypt",
           52
          ],
          [
           "Egypt",
           58
          ],
          [
           "Egypt",
           66
          ],
          [
           "Egypt",
           71
          ],
          [
           "Egypt",
           78
          ],
          [
           "Egypt",
           85
          ],
          [
           "Egypt",
           94
          ],
          [
           "Egypt",
           103
          ],
          [
           "Egypt",
           118
          ],
          [
           "Egypt",
           135
          ],
          [
           "Egypt",
           146
          ],
          [
           "Egypt",
           159
          ],
          [
           "Egypt",
           164
          ],
          [
           "Egypt",
           178
          ],
          [
           "Egypt",
           183
          ],
          [
           "Egypt",
           196
          ],
          [
           "Egypt",
           205
          ],
          [
           "Egypt",
           224
          ],
          [
           "Egypt",
           239
          ],
          [
           "Egypt",
           250
          ],
          [
           "Egypt",
           264
          ],
          [
           "Egypt",
           276
          ],
          [
           "Egypt",
           287
          ],
          [
           "Egypt",
           294
          ],
          [
           "Egypt",
           307
          ],
          [
           "Egypt",
           317
          ],
          [
           "Egypt",
           337
          ]
         ],
         "hoverlabel": {
          "namelength": 0
         },
         "hovertemplate": "Country/Region=%{customdata[0]}<br>date=%{x}<br>Confirmed=%{y}<br>Deaths=%{customdata[1]}",
         "legendgroup": "Country/Region=Egypt",
         "line": {
          "color": "#EF553B",
          "dash": "solid"
         },
         "mode": "lines",
         "name": "Country/Region=Egypt",
         "showlegend": true,
         "type": "scattergl",
         "x": [
          "2020-02-14T00:00:00",
          "2020-02-15T00:00:00",
          "2020-02-16T00:00:00",
          "2020-02-17T00:00:00",
          "2020-02-18T00:00:00",
          "2020-02-19T00:00:00",
          "2020-02-20T00:00:00",
          "2020-02-21T00:00:00",
          "2020-02-22T00:00:00",
          "2020-02-23T00:00:00",
          "2020-02-24T00:00:00",
          "2020-02-25T00:00:00",
          "2020-02-26T00:00:00",
          "2020-02-27T00:00:00",
          "2020-02-28T00:00:00",
          "2020-02-29T00:00:00",
          "2020-03-01T00:00:00",
          "2020-03-02T00:00:00",
          "2020-03-03T00:00:00",
          "2020-03-04T00:00:00",
          "2020-03-05T00:00:00",
          "2020-03-06T00:00:00",
          "2020-03-07T00:00:00",
          "2020-03-08T00:00:00",
          "2020-03-09T00:00:00",
          "2020-03-10T00:00:00",
          "2020-03-11T00:00:00",
          "2020-03-12T00:00:00",
          "2020-03-13T00:00:00",
          "2020-03-14T00:00:00",
          "2020-03-15T00:00:00",
          "2020-03-16T00:00:00",
          "2020-03-17T00:00:00",
          "2020-03-18T00:00:00",
          "2020-03-19T00:00:00",
          "2020-03-20T00:00:00",
          "2020-03-21T00:00:00",
          "2020-03-22T00:00:00",
          "2020-03-23T00:00:00",
          "2020-03-24T00:00:00",
          "2020-03-25T00:00:00",
          "2020-03-26T00:00:00",
          "2020-03-27T00:00:00",
          "2020-03-28T00:00:00",
          "2020-03-29T00:00:00",
          "2020-03-30T00:00:00",
          "2020-03-31T00:00:00",
          "2020-04-01T00:00:00",
          "2020-04-02T00:00:00",
          "2020-04-03T00:00:00",
          "2020-04-04T00:00:00",
          "2020-04-05T00:00:00",
          "2020-04-06T00:00:00",
          "2020-04-07T00:00:00",
          "2020-04-08T00:00:00",
          "2020-04-09T00:00:00",
          "2020-04-10T00:00:00",
          "2020-04-11T00:00:00",
          "2020-04-12T00:00:00",
          "2020-04-13T00:00:00",
          "2020-04-14T00:00:00",
          "2020-04-15T00:00:00",
          "2020-04-16T00:00:00",
          "2020-04-17T00:00:00",
          "2020-04-18T00:00:00",
          "2020-04-19T00:00:00",
          "2020-04-20T00:00:00",
          "2020-04-21T00:00:00",
          "2020-04-22T00:00:00",
          "2020-04-23T00:00:00",
          "2020-04-24T00:00:00",
          "2020-04-25T00:00:00",
          "2020-04-26T00:00:00",
          "2020-04-27T00:00:00"
         ],
         "xaxis": "x",
         "y": [
          1,
          1,
          1,
          1,
          1,
          1,
          1,
          1,
          1,
          1,
          1,
          1,
          1,
          1,
          1,
          1,
          2,
          2,
          2,
          2,
          3,
          15,
          15,
          49,
          55,
          59,
          60,
          67,
          80,
          109,
          110,
          150,
          196,
          196,
          256,
          285,
          294,
          327,
          366,
          402,
          456,
          495,
          536,
          576,
          609,
          656,
          710,
          779,
          865,
          985,
          1070,
          1173,
          1322,
          1450,
          1560,
          1699,
          1794,
          1939,
          2065,
          2190,
          2350,
          2505,
          2673,
          2844,
          3032,
          3144,
          3333,
          3490,
          3659,
          3891,
          4092,
          4319,
          4534,
          4782
         ],
         "yaxis": "y"
        },
        {
         "customdata": [
          [
           "Algeria",
           0
          ],
          [
           "Algeria",
           0
          ],
          [
           "Algeria",
           0
          ],
          [
           "Algeria",
           0
          ],
          [
           "Algeria",
           0
          ],
          [
           "Algeria",
           0
          ],
          [
           "Algeria",
           0
          ],
          [
           "Algeria",
           0
          ],
          [
           "Algeria",
           0
          ],
          [
           "Algeria",
           0
          ],
          [
           "Algeria",
           0
          ],
          [
           "Algeria",
           0
          ],
          [
           "Algeria",
           0
          ],
          [
           "Algeria",
           0
          ],
          [
           "Algeria",
           0
          ],
          [
           "Algeria",
           0
          ],
          [
           "Algeria",
           1
          ],
          [
           "Algeria",
           2
          ],
          [
           "Algeria",
           3
          ],
          [
           "Algeria",
           4
          ],
          [
           "Algeria",
           4
          ],
          [
           "Algeria",
           4
          ],
          [
           "Algeria",
           7
          ],
          [
           "Algeria",
           9
          ],
          [
           "Algeria",
           11
          ],
          [
           "Algeria",
           15
          ],
          [
           "Algeria",
           17
          ],
          [
           "Algeria",
           17
          ],
          [
           "Algeria",
           19
          ],
          [
           "Algeria",
           21
          ],
          [
           "Algeria",
           25
          ],
          [
           "Algeria",
           26
          ],
          [
           "Algeria",
           29
          ],
          [
           "Algeria",
           31
          ],
          [
           "Algeria",
           35
          ],
          [
           "Algeria",
           44
          ],
          [
           "Algeria",
           58
          ],
          [
           "Algeria",
           86
          ],
          [
           "Algeria",
           105
          ],
          [
           "Algeria",
           130
          ],
          [
           "Algeria",
           152
          ],
          [
           "Algeria",
           173
          ],
          [
           "Algeria",
           193
          ],
          [
           "Algeria",
           205
          ],
          [
           "Algeria",
           235
          ],
          [
           "Algeria",
           256
          ],
          [
           "Algeria",
           275
          ],
          [
           "Algeria",
           293
          ],
          [
           "Algeria",
           313
          ],
          [
           "Algeria",
           326
          ],
          [
           "Algeria",
           336
          ],
          [
           "Algeria",
           348
          ],
          [
           "Algeria",
           364
          ],
          [
           "Algeria",
           367
          ],
          [
           "Algeria",
           375
          ],
          [
           "Algeria",
           384
          ],
          [
           "Algeria",
           392
          ],
          [
           "Algeria",
           402
          ],
          [
           "Algeria",
           407
          ],
          [
           "Algeria",
           415
          ],
          [
           "Algeria",
           419
          ],
          [
           "Algeria",
           425
          ],
          [
           "Algeria",
           432
          ]
         ],
         "hoverlabel": {
          "namelength": 0
         },
         "hovertemplate": "Country/Region=%{customdata[0]}<br>date=%{x}<br>Confirmed=%{y}<br>Deaths=%{customdata[1]}",
         "legendgroup": "Country/Region=Algeria",
         "line": {
          "color": "#00cc96",
          "dash": "solid"
         },
         "mode": "lines",
         "name": "Country/Region=Algeria",
         "showlegend": true,
         "type": "scattergl",
         "x": [
          "2020-02-25T00:00:00",
          "2020-02-26T00:00:00",
          "2020-02-27T00:00:00",
          "2020-02-28T00:00:00",
          "2020-02-29T00:00:00",
          "2020-03-01T00:00:00",
          "2020-03-02T00:00:00",
          "2020-03-03T00:00:00",
          "2020-03-04T00:00:00",
          "2020-03-05T00:00:00",
          "2020-03-06T00:00:00",
          "2020-03-07T00:00:00",
          "2020-03-08T00:00:00",
          "2020-03-09T00:00:00",
          "2020-03-10T00:00:00",
          "2020-03-11T00:00:00",
          "2020-03-12T00:00:00",
          "2020-03-13T00:00:00",
          "2020-03-14T00:00:00",
          "2020-03-15T00:00:00",
          "2020-03-16T00:00:00",
          "2020-03-17T00:00:00",
          "2020-03-18T00:00:00",
          "2020-03-19T00:00:00",
          "2020-03-20T00:00:00",
          "2020-03-21T00:00:00",
          "2020-03-22T00:00:00",
          "2020-03-23T00:00:00",
          "2020-03-24T00:00:00",
          "2020-03-25T00:00:00",
          "2020-03-26T00:00:00",
          "2020-03-27T00:00:00",
          "2020-03-28T00:00:00",
          "2020-03-29T00:00:00",
          "2020-03-30T00:00:00",
          "2020-03-31T00:00:00",
          "2020-04-01T00:00:00",
          "2020-04-02T00:00:00",
          "2020-04-03T00:00:00",
          "2020-04-04T00:00:00",
          "2020-04-05T00:00:00",
          "2020-04-06T00:00:00",
          "2020-04-07T00:00:00",
          "2020-04-08T00:00:00",
          "2020-04-09T00:00:00",
          "2020-04-10T00:00:00",
          "2020-04-11T00:00:00",
          "2020-04-12T00:00:00",
          "2020-04-13T00:00:00",
          "2020-04-14T00:00:00",
          "2020-04-15T00:00:00",
          "2020-04-16T00:00:00",
          "2020-04-17T00:00:00",
          "2020-04-18T00:00:00",
          "2020-04-19T00:00:00",
          "2020-04-20T00:00:00",
          "2020-04-21T00:00:00",
          "2020-04-22T00:00:00",
          "2020-04-23T00:00:00",
          "2020-04-24T00:00:00",
          "2020-04-25T00:00:00",
          "2020-04-26T00:00:00",
          "2020-04-27T00:00:00"
         ],
         "xaxis": "x",
         "y": [
          1,
          1,
          1,
          1,
          1,
          1,
          3,
          5,
          12,
          12,
          17,
          17,
          19,
          20,
          20,
          20,
          24,
          26,
          37,
          48,
          54,
          60,
          74,
          87,
          90,
          139,
          201,
          230,
          264,
          302,
          367,
          409,
          454,
          511,
          584,
          716,
          847,
          986,
          1171,
          1251,
          1320,
          1423,
          1468,
          1572,
          1666,
          1761,
          1825,
          1914,
          1983,
          2070,
          2160,
          2268,
          2418,
          2534,
          2629,
          2718,
          2811,
          2910,
          3007,
          3127,
          3256,
          3382,
          3517
         ],
         "yaxis": "y"
        },
        {
         "customdata": [
          [
           "Nigeria",
           0
          ],
          [
           "Nigeria",
           0
          ],
          [
           "Nigeria",
           0
          ],
          [
           "Nigeria",
           0
          ],
          [
           "Nigeria",
           0
          ],
          [
           "Nigeria",
           0
          ],
          [
           "Nigeria",
           0
          ],
          [
           "Nigeria",
           0
          ],
          [
           "Nigeria",
           0
          ],
          [
           "Nigeria",
           0
          ],
          [
           "Nigeria",
           0
          ],
          [
           "Nigeria",
           0
          ],
          [
           "Nigeria",
           0
          ],
          [
           "Nigeria",
           0
          ],
          [
           "Nigeria",
           0
          ],
          [
           "Nigeria",
           0
          ],
          [
           "Nigeria",
           0
          ],
          [
           "Nigeria",
           0
          ],
          [
           "Nigeria",
           0
          ],
          [
           "Nigeria",
           0
          ],
          [
           "Nigeria",
           0
          ],
          [
           "Nigeria",
           0
          ],
          [
           "Nigeria",
           0
          ],
          [
           "Nigeria",
           0
          ],
          [
           "Nigeria",
           1
          ],
          [
           "Nigeria",
           1
          ],
          [
           "Nigeria",
           1
          ],
          [
           "Nigeria",
           1
          ],
          [
           "Nigeria",
           1
          ],
          [
           "Nigeria",
           1
          ],
          [
           "Nigeria",
           1
          ],
          [
           "Nigeria",
           2
          ],
          [
           "Nigeria",
           2
          ],
          [
           "Nigeria",
           2
          ],
          [
           "Nigeria",
           2
          ],
          [
           "Nigeria",
           4
          ],
          [
           "Nigeria",
           4
          ],
          [
           "Nigeria",
           5
          ],
          [
           "Nigeria",
           5
          ],
          [
           "Nigeria",
           6
          ],
          [
           "Nigeria",
           6
          ],
          [
           "Nigeria",
           7
          ],
          [
           "Nigeria",
           7
          ],
          [
           "Nigeria",
           10
          ],
          [
           "Nigeria",
           10
          ],
          [
           "Nigeria",
           10
          ],
          [
           "Nigeria",
           11
          ],
          [
           "Nigeria",
           12
          ],
          [
           "Nigeria",
           13
          ],
          [
           "Nigeria",
           17
          ],
          [
           "Nigeria",
           19
          ],
          [
           "Nigeria",
           21
          ],
          [
           "Nigeria",
           22
          ],
          [
           "Nigeria",
           22
          ],
          [
           "Nigeria",
           28
          ],
          [
           "Nigeria",
           31
          ],
          [
           "Nigeria",
           32
          ],
          [
           "Nigeria",
           35
          ],
          [
           "Nigeria",
           40
          ],
          [
           "Nigeria",
           40
          ]
         ],
         "hoverlabel": {
          "namelength": 0
         },
         "hovertemplate": "Country/Region=%{customdata[0]}<br>date=%{x}<br>Confirmed=%{y}<br>Deaths=%{customdata[1]}",
         "legendgroup": "Country/Region=Nigeria",
         "line": {
          "color": "#ab63fa",
          "dash": "solid"
         },
         "mode": "lines",
         "name": "Country/Region=Nigeria",
         "showlegend": true,
         "type": "scattergl",
         "x": [
          "2020-02-28T00:00:00",
          "2020-02-29T00:00:00",
          "2020-03-01T00:00:00",
          "2020-03-02T00:00:00",
          "2020-03-03T00:00:00",
          "2020-03-04T00:00:00",
          "2020-03-05T00:00:00",
          "2020-03-06T00:00:00",
          "2020-03-07T00:00:00",
          "2020-03-08T00:00:00",
          "2020-03-09T00:00:00",
          "2020-03-10T00:00:00",
          "2020-03-11T00:00:00",
          "2020-03-12T00:00:00",
          "2020-03-13T00:00:00",
          "2020-03-14T00:00:00",
          "2020-03-15T00:00:00",
          "2020-03-16T00:00:00",
          "2020-03-17T00:00:00",
          "2020-03-18T00:00:00",
          "2020-03-19T00:00:00",
          "2020-03-20T00:00:00",
          "2020-03-21T00:00:00",
          "2020-03-22T00:00:00",
          "2020-03-23T00:00:00",
          "2020-03-24T00:00:00",
          "2020-03-25T00:00:00",
          "2020-03-26T00:00:00",
          "2020-03-27T00:00:00",
          "2020-03-28T00:00:00",
          "2020-03-29T00:00:00",
          "2020-03-30T00:00:00",
          "2020-03-31T00:00:00",
          "2020-04-01T00:00:00",
          "2020-04-02T00:00:00",
          "2020-04-03T00:00:00",
          "2020-04-04T00:00:00",
          "2020-04-05T00:00:00",
          "2020-04-06T00:00:00",
          "2020-04-07T00:00:00",
          "2020-04-08T00:00:00",
          "2020-04-09T00:00:00",
          "2020-04-10T00:00:00",
          "2020-04-11T00:00:00",
          "2020-04-12T00:00:00",
          "2020-04-13T00:00:00",
          "2020-04-14T00:00:00",
          "2020-04-15T00:00:00",
          "2020-04-16T00:00:00",
          "2020-04-17T00:00:00",
          "2020-04-18T00:00:00",
          "2020-04-19T00:00:00",
          "2020-04-20T00:00:00",
          "2020-04-21T00:00:00",
          "2020-04-22T00:00:00",
          "2020-04-23T00:00:00",
          "2020-04-24T00:00:00",
          "2020-04-25T00:00:00",
          "2020-04-26T00:00:00",
          "2020-04-27T00:00:00"
         ],
         "xaxis": "x",
         "y": [
          1,
          1,
          1,
          1,
          1,
          1,
          1,
          1,
          1,
          1,
          2,
          2,
          2,
          2,
          2,
          2,
          2,
          2,
          3,
          8,
          8,
          12,
          22,
          30,
          40,
          44,
          51,
          65,
          70,
          89,
          111,
          131,
          135,
          174,
          184,
          210,
          214,
          232,
          238,
          254,
          276,
          288,
          305,
          318,
          323,
          343,
          373,
          407,
          442,
          493,
          542,
          627,
          665,
          665,
          873,
          981,
          1095,
          1182,
          1273,
          1337
         ],
         "yaxis": "y"
        },
        {
         "customdata": [
          [
           "Morocco",
           0
          ],
          [
           "Morocco",
           0
          ],
          [
           "Morocco",
           0
          ],
          [
           "Morocco",
           0
          ],
          [
           "Morocco",
           0
          ],
          [
           "Morocco",
           0
          ],
          [
           "Morocco",
           0
          ],
          [
           "Morocco",
           0
          ],
          [
           "Morocco",
           1
          ],
          [
           "Morocco",
           1
          ],
          [
           "Morocco",
           1
          ],
          [
           "Morocco",
           1
          ],
          [
           "Morocco",
           1
          ],
          [
           "Morocco",
           1
          ],
          [
           "Morocco",
           1
          ],
          [
           "Morocco",
           2
          ],
          [
           "Morocco",
           2
          ],
          [
           "Morocco",
           2
          ],
          [
           "Morocco",
           3
          ],
          [
           "Morocco",
           3
          ],
          [
           "Morocco",
           4
          ],
          [
           "Morocco",
           4
          ],
          [
           "Morocco",
           5
          ],
          [
           "Morocco",
           6
          ],
          [
           "Morocco",
           11
          ],
          [
           "Morocco",
           23
          ],
          [
           "Morocco",
           25
          ],
          [
           "Morocco",
           26
          ],
          [
           "Morocco",
           33
          ],
          [
           "Morocco",
           36
          ],
          [
           "Morocco",
           39
          ],
          [
           "Morocco",
           44
          ],
          [
           "Morocco",
           48
          ],
          [
           "Morocco",
           59
          ],
          [
           "Morocco",
           70
          ],
          [
           "Morocco",
           80
          ],
          [
           "Morocco",
           90
          ],
          [
           "Morocco",
           93
          ],
          [
           "Morocco",
           97
          ],
          [
           "Morocco",
           107
          ],
          [
           "Morocco",
           111
          ],
          [
           "Morocco",
           118
          ],
          [
           "Morocco",
           126
          ],
          [
           "Morocco",
           126
          ],
          [
           "Morocco",
           127
          ],
          [
           "Morocco",
           130
          ],
          [
           "Morocco",
           135
          ],
          [
           "Morocco",
           137
          ],
          [
           "Morocco",
           141
          ],
          [
           "Morocco",
           143
          ],
          [
           "Morocco",
           145
          ],
          [
           "Morocco",
           149
          ],
          [
           "Morocco",
           155
          ],
          [
           "Morocco",
           158
          ],
          [
           "Morocco",
           159
          ],
          [
           "Morocco",
           161
          ],
          [
           "Morocco",
           162
          ]
         ],
         "hoverlabel": {
          "namelength": 0
         },
         "hovertemplate": "Country/Region=%{customdata[0]}<br>date=%{x}<br>Confirmed=%{y}<br>Deaths=%{customdata[1]}",
         "legendgroup": "Country/Region=Morocco",
         "line": {
          "color": "#FFA15A",
          "dash": "solid"
         },
         "mode": "lines",
         "name": "Country/Region=Morocco",
         "showlegend": true,
         "type": "scattergl",
         "x": [
          "2020-03-02T00:00:00",
          "2020-03-03T00:00:00",
          "2020-03-04T00:00:00",
          "2020-03-05T00:00:00",
          "2020-03-06T00:00:00",
          "2020-03-07T00:00:00",
          "2020-03-08T00:00:00",
          "2020-03-09T00:00:00",
          "2020-03-10T00:00:00",
          "2020-03-11T00:00:00",
          "2020-03-12T00:00:00",
          "2020-03-13T00:00:00",
          "2020-03-14T00:00:00",
          "2020-03-15T00:00:00",
          "2020-03-16T00:00:00",
          "2020-03-17T00:00:00",
          "2020-03-18T00:00:00",
          "2020-03-19T00:00:00",
          "2020-03-20T00:00:00",
          "2020-03-21T00:00:00",
          "2020-03-22T00:00:00",
          "2020-03-23T00:00:00",
          "2020-03-24T00:00:00",
          "2020-03-25T00:00:00",
          "2020-03-26T00:00:00",
          "2020-03-27T00:00:00",
          "2020-03-28T00:00:00",
          "2020-03-29T00:00:00",
          "2020-03-30T00:00:00",
          "2020-03-31T00:00:00",
          "2020-04-01T00:00:00",
          "2020-04-02T00:00:00",
          "2020-04-03T00:00:00",
          "2020-04-04T00:00:00",
          "2020-04-05T00:00:00",
          "2020-04-06T00:00:00",
          "2020-04-07T00:00:00",
          "2020-04-08T00:00:00",
          "2020-04-09T00:00:00",
          "2020-04-10T00:00:00",
          "2020-04-11T00:00:00",
          "2020-04-12T00:00:00",
          "2020-04-13T00:00:00",
          "2020-04-14T00:00:00",
          "2020-04-15T00:00:00",
          "2020-04-16T00:00:00",
          "2020-04-17T00:00:00",
          "2020-04-18T00:00:00",
          "2020-04-19T00:00:00",
          "2020-04-20T00:00:00",
          "2020-04-21T00:00:00",
          "2020-04-22T00:00:00",
          "2020-04-23T00:00:00",
          "2020-04-24T00:00:00",
          "2020-04-25T00:00:00",
          "2020-04-26T00:00:00",
          "2020-04-27T00:00:00"
         ],
         "xaxis": "x",
         "y": [
          1,
          1,
          1,
          2,
          2,
          2,
          2,
          2,
          3,
          5,
          6,
          7,
          17,
          28,
          29,
          38,
          49,
          63,
          77,
          96,
          115,
          143,
          170,
          225,
          275,
          345,
          402,
          479,
          556,
          617,
          654,
          708,
          791,
          919,
          1021,
          1120,
          1184,
          1275,
          1374,
          1448,
          1545,
          1661,
          1763,
          1888,
          2024,
          2283,
          2564,
          2685,
          2855,
          3046,
          3209,
          3446,
          3568,
          3758,
          3897,
          4065,
          4120
         ],
         "yaxis": "y"
        },
        {
         "customdata": [
          [
           "Senegal",
           0
          ],
          [
           "Senegal",
           0
          ],
          [
           "Senegal",
           0
          ],
          [
           "Senegal",
           0
          ],
          [
           "Senegal",
           0
          ],
          [
           "Senegal",
           0
          ],
          [
           "Senegal",
           0
          ],
          [
           "Senegal",
           0
          ],
          [
           "Senegal",
           0
          ],
          [
           "Senegal",
           0
          ],
          [
           "Senegal",
           0
          ],
          [
           "Senegal",
           0
          ],
          [
           "Senegal",
           0
          ],
          [
           "Senegal",
           0
          ],
          [
           "Senegal",
           0
          ],
          [
           "Senegal",
           0
          ],
          [
           "Senegal",
           0
          ],
          [
           "Senegal",
           0
          ],
          [
           "Senegal",
           0
          ],
          [
           "Senegal",
           0
          ],
          [
           "Senegal",
           0
          ],
          [
           "Senegal",
           0
          ],
          [
           "Senegal",
           0
          ],
          [
           "Senegal",
           0
          ],
          [
           "Senegal",
           0
          ],
          [
           "Senegal",
           0
          ],
          [
           "Senegal",
           0
          ],
          [
           "Senegal",
           0
          ],
          [
           "Senegal",
           0
          ],
          [
           "Senegal",
           0
          ],
          [
           "Senegal",
           1
          ],
          [
           "Senegal",
           1
          ],
          [
           "Senegal",
           1
          ],
          [
           "Senegal",
           2
          ],
          [
           "Senegal",
           2
          ],
          [
           "Senegal",
           2
          ],
          [
           "Senegal",
           2
          ],
          [
           "Senegal",
           2
          ],
          [
           "Senegal",
           2
          ],
          [
           "Senegal",
           2
          ],
          [
           "Senegal",
           2
          ],
          [
           "Senegal",
           2
          ],
          [
           "Senegal",
           2
          ],
          [
           "Senegal",
           2
          ],
          [
           "Senegal",
           2
          ],
          [
           "Senegal",
           2
          ],
          [
           "Senegal",
           2
          ],
          [
           "Senegal",
           3
          ],
          [
           "Senegal",
           3
          ],
          [
           "Senegal",
           5
          ],
          [
           "Senegal",
           5
          ],
          [
           "Senegal",
           6
          ],
          [
           "Senegal",
           6
          ],
          [
           "Senegal",
           7
          ],
          [
           "Senegal",
           7
          ],
          [
           "Senegal",
           9
          ],
          [
           "Senegal",
           9
          ]
         ],
         "hoverlabel": {
          "namelength": 0
         },
         "hovertemplate": "Country/Region=%{customdata[0]}<br>date=%{x}<br>Confirmed=%{y}<br>Deaths=%{customdata[1]}",
         "legendgroup": "Country/Region=Senegal",
         "line": {
          "color": "#19d3f3",
          "dash": "solid"
         },
         "mode": "lines",
         "name": "Country/Region=Senegal",
         "showlegend": true,
         "type": "scattergl",
         "x": [
          "2020-03-02T00:00:00",
          "2020-03-03T00:00:00",
          "2020-03-04T00:00:00",
          "2020-03-05T00:00:00",
          "2020-03-06T00:00:00",
          "2020-03-07T00:00:00",
          "2020-03-08T00:00:00",
          "2020-03-09T00:00:00",
          "2020-03-10T00:00:00",
          "2020-03-11T00:00:00",
          "2020-03-12T00:00:00",
          "2020-03-13T00:00:00",
          "2020-03-14T00:00:00",
          "2020-03-15T00:00:00",
          "2020-03-16T00:00:00",
          "2020-03-17T00:00:00",
          "2020-03-18T00:00:00",
          "2020-03-19T00:00:00",
          "2020-03-20T00:00:00",
          "2020-03-21T00:00:00",
          "2020-03-22T00:00:00",
          "2020-03-23T00:00:00",
          "2020-03-24T00:00:00",
          "2020-03-25T00:00:00",
          "2020-03-26T00:00:00",
          "2020-03-27T00:00:00",
          "2020-03-28T00:00:00",
          "2020-03-29T00:00:00",
          "2020-03-30T00:00:00",
          "2020-03-31T00:00:00",
          "2020-04-01T00:00:00",
          "2020-04-02T00:00:00",
          "2020-04-03T00:00:00",
          "2020-04-04T00:00:00",
          "2020-04-05T00:00:00",
          "2020-04-06T00:00:00",
          "2020-04-07T00:00:00",
          "2020-04-08T00:00:00",
          "2020-04-09T00:00:00",
          "2020-04-10T00:00:00",
          "2020-04-11T00:00:00",
          "2020-04-12T00:00:00",
          "2020-04-13T00:00:00",
          "2020-04-14T00:00:00",
          "2020-04-15T00:00:00",
          "2020-04-16T00:00:00",
          "2020-04-17T00:00:00",
          "2020-04-18T00:00:00",
          "2020-04-19T00:00:00",
          "2020-04-20T00:00:00",
          "2020-04-21T00:00:00",
          "2020-04-22T00:00:00",
          "2020-04-23T00:00:00",
          "2020-04-24T00:00:00",
          "2020-04-25T00:00:00",
          "2020-04-26T00:00:00",
          "2020-04-27T00:00:00"
         ],
         "xaxis": "x",
         "y": [
          1,
          2,
          4,
          4,
          4,
          4,
          4,
          4,
          4,
          4,
          4,
          10,
          10,
          24,
          24,
          26,
          31,
          31,
          38,
          47,
          67,
          79,
          86,
          99,
          105,
          119,
          130,
          142,
          162,
          175,
          190,
          195,
          207,
          219,
          222,
          226,
          237,
          244,
          250,
          265,
          278,
          280,
          291,
          299,
          314,
          335,
          342,
          350,
          367,
          377,
          412,
          442,
          479,
          545,
          614,
          671,
          736
         ],
         "yaxis": "y"
        },
        {
         "customdata": [
          [
           "Tunisia",
           0
          ],
          [
           "Tunisia",
           0
          ],
          [
           "Tunisia",
           0
          ],
          [
           "Tunisia",
           0
          ],
          [
           "Tunisia",
           0
          ],
          [
           "Tunisia",
           0
          ],
          [
           "Tunisia",
           0
          ],
          [
           "Tunisia",
           0
          ],
          [
           "Tunisia",
           0
          ],
          [
           "Tunisia",
           0
          ],
          [
           "Tunisia",
           0
          ],
          [
           "Tunisia",
           0
          ],
          [
           "Tunisia",
           0
          ],
          [
           "Tunisia",
           0
          ],
          [
           "Tunisia",
           0
          ],
          [
           "Tunisia",
           1
          ],
          [
           "Tunisia",
           1
          ],
          [
           "Tunisia",
           1
          ],
          [
           "Tunisia",
           3
          ],
          [
           "Tunisia",
           3
          ],
          [
           "Tunisia",
           4
          ],
          [
           "Tunisia",
           5
          ],
          [
           "Tunisia",
           6
          ],
          [
           "Tunisia",
           6
          ],
          [
           "Tunisia",
           8
          ],
          [
           "Tunisia",
           8
          ],
          [
           "Tunisia",
           8
          ],
          [
           "Tunisia",
           10
          ],
          [
           "Tunisia",
           12
          ],
          [
           "Tunisia",
           14
          ],
          [
           "Tunisia",
           18
          ],
          [
           "Tunisia",
           18
          ],
          [
           "Tunisia",
           22
          ],
          [
           "Tunisia",
           22
          ],
          [
           "Tunisia",
           23
          ],
          [
           "Tunisia",
           24
          ],
          [
           "Tunisia",
           25
          ],
          [
           "Tunisia",
           25
          ],
          [
           "Tunisia",
           28
          ],
          [
           "Tunisia",
           31
          ],
          [
           "Tunisia",
           34
          ],
          [
           "Tunisia",
           34
          ],
          [
           "Tunisia",
           35
          ],
          [
           "Tunisia",
           37
          ],
          [
           "Tunisia",
           37
          ],
          [
           "Tunisia",
           37
          ],
          [
           "Tunisia",
           38
          ],
          [
           "Tunisia",
           38
          ],
          [
           "Tunisia",
           38
          ],
          [
           "Tunisia",
           38
          ],
          [
           "Tunisia",
           38
          ],
          [
           "Tunisia",
           38
          ],
          [
           "Tunisia",
           38
          ],
          [
           "Tunisia",
           38
          ],
          [
           "Tunisia",
           39
          ]
         ],
         "hoverlabel": {
          "namelength": 0
         },
         "hovertemplate": "Country/Region=%{customdata[0]}<br>date=%{x}<br>Confirmed=%{y}<br>Deaths=%{customdata[1]}",
         "legendgroup": "Country/Region=Tunisia",
         "line": {
          "color": "#FF6692",
          "dash": "solid"
         },
         "mode": "lines",
         "name": "Country/Region=Tunisia",
         "showlegend": true,
         "type": "scattergl",
         "x": [
          "2020-03-04T00:00:00",
          "2020-03-05T00:00:00",
          "2020-03-06T00:00:00",
          "2020-03-07T00:00:00",
          "2020-03-08T00:00:00",
          "2020-03-09T00:00:00",
          "2020-03-10T00:00:00",
          "2020-03-11T00:00:00",
          "2020-03-12T00:00:00",
          "2020-03-13T00:00:00",
          "2020-03-14T00:00:00",
          "2020-03-15T00:00:00",
          "2020-03-16T00:00:00",
          "2020-03-17T00:00:00",
          "2020-03-18T00:00:00",
          "2020-03-19T00:00:00",
          "2020-03-20T00:00:00",
          "2020-03-21T00:00:00",
          "2020-03-22T00:00:00",
          "2020-03-23T00:00:00",
          "2020-03-24T00:00:00",
          "2020-03-25T00:00:00",
          "2020-03-26T00:00:00",
          "2020-03-27T00:00:00",
          "2020-03-28T00:00:00",
          "2020-03-29T00:00:00",
          "2020-03-30T00:00:00",
          "2020-03-31T00:00:00",
          "2020-04-01T00:00:00",
          "2020-04-02T00:00:00",
          "2020-04-03T00:00:00",
          "2020-04-04T00:00:00",
          "2020-04-05T00:00:00",
          "2020-04-06T00:00:00",
          "2020-04-07T00:00:00",
          "2020-04-08T00:00:00",
          "2020-04-09T00:00:00",
          "2020-04-10T00:00:00",
          "2020-04-11T00:00:00",
          "2020-04-12T00:00:00",
          "2020-04-13T00:00:00",
          "2020-04-14T00:00:00",
          "2020-04-15T00:00:00",
          "2020-04-16T00:00:00",
          "2020-04-17T00:00:00",
          "2020-04-18T00:00:00",
          "2020-04-19T00:00:00",
          "2020-04-20T00:00:00",
          "2020-04-21T00:00:00",
          "2020-04-22T00:00:00",
          "2020-04-23T00:00:00",
          "2020-04-24T00:00:00",
          "2020-04-25T00:00:00",
          "2020-04-26T00:00:00",
          "2020-04-27T00:00:00"
         ],
         "xaxis": "x",
         "y": [
          1,
          1,
          1,
          1,
          2,
          2,
          5,
          7,
          7,
          16,
          18,
          18,
          20,
          24,
          29,
          39,
          54,
          60,
          75,
          89,
          114,
          173,
          197,
          227,
          278,
          312,
          312,
          394,
          423,
          455,
          495,
          553,
          574,
          596,
          623,
          628,
          643,
          671,
          685,
          707,
          726,
          747,
          780,
          822,
          864,
          864,
          879,
          884,
          884,
          909,
          918,
          922,
          939,
          949,
          967
         ],
         "yaxis": "y"
        },
        {
         "customdata": [
          [
           "South Africa",
           0
          ],
          [
           "South Africa",
           0
          ],
          [
           "South Africa",
           0
          ],
          [
           "South Africa",
           0
          ],
          [
           "South Africa",
           0
          ],
          [
           "South Africa",
           0
          ],
          [
           "South Africa",
           0
          ],
          [
           "South Africa",
           0
          ],
          [
           "South Africa",
           0
          ],
          [
           "South Africa",
           0
          ],
          [
           "South Africa",
           0
          ],
          [
           "South Africa",
           0
          ],
          [
           "South Africa",
           0
          ],
          [
           "South Africa",
           0
          ],
          [
           "South Africa",
           0
          ],
          [
           "South Africa",
           0
          ],
          [
           "South Africa",
           0
          ],
          [
           "South Africa",
           0
          ],
          [
           "South Africa",
           0
          ],
          [
           "South Africa",
           0
          ],
          [
           "South Africa",
           0
          ],
          [
           "South Africa",
           0
          ],
          [
           "South Africa",
           1
          ],
          [
           "South Africa",
           1
          ],
          [
           "South Africa",
           2
          ],
          [
           "South Africa",
           3
          ],
          [
           "South Africa",
           5
          ],
          [
           "South Africa",
           5
          ],
          [
           "South Africa",
           5
          ],
          [
           "South Africa",
           9
          ],
          [
           "South Africa",
           9
          ],
          [
           "South Africa",
           11
          ],
          [
           "South Africa",
           12
          ],
          [
           "South Africa",
           13
          ],
          [
           "South Africa",
           18
          ],
          [
           "South Africa",
           18
          ],
          [
           "South Africa",
           24
          ],
          [
           "South Africa",
           25
          ],
          [
           "South Africa",
           25
          ],
          [
           "South Africa",
           27
          ],
          [
           "South Africa",
           27
          ],
          [
           "South Africa",
           34
          ],
          [
           "South Africa",
           48
          ],
          [
           "South Africa",
           50
          ],
          [
           "South Africa",
           52
          ],
          [
           "South Africa",
           54
          ],
          [
           "South Africa",
           58
          ],
          [
           "South Africa",
           58
          ],
          [
           "South Africa",
           65
          ],
          [
           "South Africa",
           75
          ],
          [
           "South Africa",
           79
          ],
          [
           "South Africa",
           86
          ],
          [
           "South Africa",
           87
          ],
          [
           "South Africa",
           90
          ]
         ],
         "hoverlabel": {
          "namelength": 0
         },
         "hovertemplate": "Country/Region=%{customdata[0]}<br>date=%{x}<br>Confirmed=%{y}<br>Deaths=%{customdata[1]}",
         "legendgroup": "Country/Region=South Africa",
         "line": {
          "color": "#B6E880",
          "dash": "solid"
         },
         "mode": "lines",
         "name": "Country/Region=South Africa",
         "showlegend": true,
         "type": "scattergl",
         "x": [
          "2020-03-05T00:00:00",
          "2020-03-06T00:00:00",
          "2020-03-07T00:00:00",
          "2020-03-08T00:00:00",
          "2020-03-09T00:00:00",
          "2020-03-10T00:00:00",
          "2020-03-11T00:00:00",
          "2020-03-12T00:00:00",
          "2020-03-13T00:00:00",
          "2020-03-14T00:00:00",
          "2020-03-15T00:00:00",
          "2020-03-16T00:00:00",
          "2020-03-17T00:00:00",
          "2020-03-18T00:00:00",
          "2020-03-19T00:00:00",
          "2020-03-20T00:00:00",
          "2020-03-21T00:00:00",
          "2020-03-22T00:00:00",
          "2020-03-23T00:00:00",
          "2020-03-24T00:00:00",
          "2020-03-25T00:00:00",
          "2020-03-26T00:00:00",
          "2020-03-27T00:00:00",
          "2020-03-28T00:00:00",
          "2020-03-29T00:00:00",
          "2020-03-30T00:00:00",
          "2020-03-31T00:00:00",
          "2020-04-01T00:00:00",
          "2020-04-02T00:00:00",
          "2020-04-03T00:00:00",
          "2020-04-04T00:00:00",
          "2020-04-05T00:00:00",
          "2020-04-06T00:00:00",
          "2020-04-07T00:00:00",
          "2020-04-08T00:00:00",
          "2020-04-09T00:00:00",
          "2020-04-10T00:00:00",
          "2020-04-11T00:00:00",
          "2020-04-12T00:00:00",
          "2020-04-13T00:00:00",
          "2020-04-14T00:00:00",
          "2020-04-15T00:00:00",
          "2020-04-16T00:00:00",
          "2020-04-17T00:00:00",
          "2020-04-18T00:00:00",
          "2020-04-19T00:00:00",
          "2020-04-20T00:00:00",
          "2020-04-21T00:00:00",
          "2020-04-22T00:00:00",
          "2020-04-23T00:00:00",
          "2020-04-24T00:00:00",
          "2020-04-25T00:00:00",
          "2020-04-26T00:00:00",
          "2020-04-27T00:00:00"
         ],
         "xaxis": "x",
         "y": [
          1,
          1,
          1,
          3,
          3,
          7,
          13,
          17,
          24,
          38,
          51,
          62,
          62,
          116,
          150,
          202,
          240,
          274,
          402,
          554,
          709,
          927,
          1170,
          1187,
          1280,
          1326,
          1353,
          1380,
          1462,
          1505,
          1585,
          1655,
          1686,
          1749,
          1845,
          1934,
          2003,
          2028,
          2173,
          2272,
          2415,
          2506,
          2605,
          2783,
          3034,
          3158,
          3300,
          3465,
          3635,
          3953,
          4220,
          4361,
          4546,
          4793
         ],
         "yaxis": "y"
        },
        {
         "customdata": [
          [
           "Cameroon",
           0
          ],
          [
           "Cameroon",
           0
          ],
          [
           "Cameroon",
           0
          ],
          [
           "Cameroon",
           0
          ],
          [
           "Cameroon",
           0
          ],
          [
           "Cameroon",
           0
          ],
          [
           "Cameroon",
           0
          ],
          [
           "Cameroon",
           0
          ],
          [
           "Cameroon",
           0
          ],
          [
           "Cameroon",
           0
          ],
          [
           "Cameroon",
           0
          ],
          [
           "Cameroon",
           0
          ],
          [
           "Cameroon",
           0
          ],
          [
           "Cameroon",
           0
          ],
          [
           "Cameroon",
           0
          ],
          [
           "Cameroon",
           0
          ],
          [
           "Cameroon",
           0
          ],
          [
           "Cameroon",
           0
          ],
          [
           "Cameroon",
           0
          ],
          [
           "Cameroon",
           1
          ],
          [
           "Cameroon",
           1
          ],
          [
           "Cameroon",
           2
          ],
          [
           "Cameroon",
           2
          ],
          [
           "Cameroon",
           6
          ],
          [
           "Cameroon",
           6
          ],
          [
           "Cameroon",
           6
          ],
          [
           "Cameroon",
           6
          ],
          [
           "Cameroon",
           7
          ],
          [
           "Cameroon",
           8
          ],
          [
           "Cameroon",
           9
          ],
          [
           "Cameroon",
           9
          ],
          [
           "Cameroon",
           9
          ],
          [
           "Cameroon",
           9
          ],
          [
           "Cameroon",
           10
          ],
          [
           "Cameroon",
           10
          ],
          [
           "Cameroon",
           12
          ],
          [
           "Cameroon",
           12
          ],
          [
           "Cameroon",
           12
          ],
          [
           "Cameroon",
           12
          ],
          [
           "Cameroon",
           14
          ],
          [
           "Cameroon",
           17
          ],
          [
           "Cameroon",
           22
          ],
          [
           "Cameroon",
           22
          ],
          [
           "Cameroon",
           22
          ],
          [
           "Cameroon",
           42
          ],
          [
           "Cameroon",
           42
          ],
          [
           "Cameroon",
           43
          ],
          [
           "Cameroon",
           43
          ],
          [
           "Cameroon",
           43
          ],
          [
           "Cameroon",
           43
          ],
          [
           "Cameroon",
           53
          ],
          [
           "Cameroon",
           56
          ],
          [
           "Cameroon",
           58
          ]
         ],
         "hoverlabel": {
          "namelength": 0
         },
         "hovertemplate": "Country/Region=%{customdata[0]}<br>date=%{x}<br>Confirmed=%{y}<br>Deaths=%{customdata[1]}",
         "legendgroup": "Country/Region=Cameroon",
         "line": {
          "color": "#FF97FF",
          "dash": "solid"
         },
         "mode": "lines",
         "name": "Country/Region=Cameroon",
         "showlegend": true,
         "type": "scattergl",
         "x": [
          "2020-03-06T00:00:00",
          "2020-03-07T00:00:00",
          "2020-03-08T00:00:00",
          "2020-03-09T00:00:00",
          "2020-03-10T00:00:00",
          "2020-03-11T00:00:00",
          "2020-03-12T00:00:00",
          "2020-03-13T00:00:00",
          "2020-03-14T00:00:00",
          "2020-03-15T00:00:00",
          "2020-03-16T00:00:00",
          "2020-03-17T00:00:00",
          "2020-03-18T00:00:00",
          "2020-03-19T00:00:00",
          "2020-03-20T00:00:00",
          "2020-03-21T00:00:00",
          "2020-03-22T00:00:00",
          "2020-03-23T00:00:00",
          "2020-03-24T00:00:00",
          "2020-03-25T00:00:00",
          "2020-03-26T00:00:00",
          "2020-03-27T00:00:00",
          "2020-03-28T00:00:00",
          "2020-03-29T00:00:00",
          "2020-03-30T00:00:00",
          "2020-03-31T00:00:00",
          "2020-04-01T00:00:00",
          "2020-04-02T00:00:00",
          "2020-04-03T00:00:00",
          "2020-04-04T00:00:00",
          "2020-04-05T00:00:00",
          "2020-04-06T00:00:00",
          "2020-04-07T00:00:00",
          "2020-04-08T00:00:00",
          "2020-04-09T00:00:00",
          "2020-04-10T00:00:00",
          "2020-04-11T00:00:00",
          "2020-04-12T00:00:00",
          "2020-04-13T00:00:00",
          "2020-04-14T00:00:00",
          "2020-04-15T00:00:00",
          "2020-04-16T00:00:00",
          "2020-04-17T00:00:00",
          "2020-04-18T00:00:00",
          "2020-04-19T00:00:00",
          "2020-04-20T00:00:00",
          "2020-04-21T00:00:00",
          "2020-04-22T00:00:00",
          "2020-04-23T00:00:00",
          "2020-04-24T00:00:00",
          "2020-04-25T00:00:00",
          "2020-04-26T00:00:00",
          "2020-04-27T00:00:00"
         ],
         "xaxis": "x",
         "y": [
          1,
          1,
          2,
          2,
          2,
          2,
          2,
          2,
          2,
          2,
          4,
          10,
          10,
          13,
          20,
          27,
          40,
          56,
          66,
          75,
          75,
          91,
          91,
          139,
          139,
          193,
          233,
          306,
          509,
          555,
          650,
          658,
          658,
          730,
          730,
          820,
          820,
          820,
          820,
          848,
          848,
          996,
          996,
          1017,
          1017,
          1163,
          1163,
          1163,
          1334,
          1430,
          1518,
          1621,
          1705
         ],
         "yaxis": "y"
        },
        {
         "customdata": [
          [
           "Togo",
           0
          ],
          [
           "Togo",
           0
          ],
          [
           "Togo",
           0
          ],
          [
           "Togo",
           0
          ],
          [
           "Togo",
           0
          ],
          [
           "Togo",
           0
          ],
          [
           "Togo",
           0
          ],
          [
           "Togo",
           0
          ],
          [
           "Togo",
           0
          ],
          [
           "Togo",
           0
          ],
          [
           "Togo",
           0
          ],
          [
           "Togo",
           0
          ],
          [
           "Togo",
           0
          ],
          [
           "Togo",
           0
          ],
          [
           "Togo",
           0
          ],
          [
           "Togo",
           0
          ],
          [
           "Togo",
           0
          ],
          [
           "Togo",
           0
          ],
          [
           "Togo",
           0
          ],
          [
           "Togo",
           0
          ],
          [
           "Togo",
           0
          ],
          [
           "Togo",
           1
          ],
          [
           "Togo",
           1
          ],
          [
           "Togo",
           1
          ],
          [
           "Togo",
           1
          ],
          [
           "Togo",
           1
          ],
          [
           "Togo",
           2
          ],
          [
           "Togo",
           2
          ],
          [
           "Togo",
           3
          ],
          [
           "Togo",
           3
          ],
          [
           "Togo",
           3
          ],
          [
           "Togo",
           3
          ],
          [
           "Togo",
           3
          ],
          [
           "Togo",
           3
          ],
          [
           "Togo",
           3
          ],
          [
           "Togo",
           3
          ],
          [
           "Togo",
           3
          ],
          [
           "Togo",
           3
          ],
          [
           "Togo",
           3
          ],
          [
           "Togo",
           3
          ],
          [
           "Togo",
           3
          ],
          [
           "Togo",
           5
          ],
          [
           "Togo",
           5
          ],
          [
           "Togo",
           5
          ],
          [
           "Togo",
           5
          ],
          [
           "Togo",
           6
          ],
          [
           "Togo",
           6
          ],
          [
           "Togo",
           6
          ],
          [
           "Togo",
           6
          ],
          [
           "Togo",
           6
          ],
          [
           "Togo",
           6
          ],
          [
           "Togo",
           6
          ],
          [
           "Togo",
           6
          ]
         ],
         "hoverlabel": {
          "namelength": 0
         },
         "hovertemplate": "Country/Region=%{customdata[0]}<br>date=%{x}<br>Confirmed=%{y}<br>Deaths=%{customdata[1]}",
         "legendgroup": "Country/Region=Togo",
         "line": {
          "color": "#FECB52",
          "dash": "solid"
         },
         "mode": "lines",
         "name": "Country/Region=Togo",
         "showlegend": true,
         "type": "scattergl",
         "x": [
          "2020-03-06T00:00:00",
          "2020-03-07T00:00:00",
          "2020-03-08T00:00:00",
          "2020-03-09T00:00:00",
          "2020-03-10T00:00:00",
          "2020-03-11T00:00:00",
          "2020-03-12T00:00:00",
          "2020-03-13T00:00:00",
          "2020-03-14T00:00:00",
          "2020-03-15T00:00:00",
          "2020-03-16T00:00:00",
          "2020-03-17T00:00:00",
          "2020-03-18T00:00:00",
          "2020-03-19T00:00:00",
          "2020-03-20T00:00:00",
          "2020-03-21T00:00:00",
          "2020-03-22T00:00:00",
          "2020-03-23T00:00:00",
          "2020-03-24T00:00:00",
          "2020-03-25T00:00:00",
          "2020-03-26T00:00:00",
          "2020-03-27T00:00:00",
          "2020-03-28T00:00:00",
          "2020-03-29T00:00:00",
          "2020-03-30T00:00:00",
          "2020-03-31T00:00:00",
          "2020-04-01T00:00:00",
          "2020-04-02T00:00:00",
          "2020-04-03T00:00:00",
          "2020-04-04T00:00:00",
          "2020-04-05T00:00:00",
          "2020-04-06T00:00:00",
          "2020-04-07T00:00:00",
          "2020-04-08T00:00:00",
          "2020-04-09T00:00:00",
          "2020-04-10T00:00:00",
          "2020-04-11T00:00:00",
          "2020-04-12T00:00:00",
          "2020-04-13T00:00:00",
          "2020-04-14T00:00:00",
          "2020-04-15T00:00:00",
          "2020-04-16T00:00:00",
          "2020-04-17T00:00:00",
          "2020-04-18T00:00:00",
          "2020-04-19T00:00:00",
          "2020-04-20T00:00:00",
          "2020-04-21T00:00:00",
          "2020-04-22T00:00:00",
          "2020-04-23T00:00:00",
          "2020-04-24T00:00:00",
          "2020-04-25T00:00:00",
          "2020-04-26T00:00:00",
          "2020-04-27T00:00:00"
         ],
         "xaxis": "x",
         "y": [
          1,
          1,
          1,
          1,
          1,
          1,
          1,
          1,
          1,
          1,
          1,
          1,
          1,
          1,
          9,
          16,
          16,
          18,
          20,
          23,
          23,
          25,
          25,
          25,
          30,
          34,
          36,
          39,
          40,
          41,
          44,
          58,
          65,
          70,
          73,
          76,
          76,
          76,
          77,
          77,
          81,
          81,
          83,
          84,
          84,
          84,
          86,
          88,
          88,
          90,
          96,
          98,
          98
         ],
         "yaxis": "y"
        },
        {
         "customdata": [
          [
           "Burkina Faso",
           0
          ],
          [
           "Burkina Faso",
           0
          ],
          [
           "Burkina Faso",
           0
          ],
          [
           "Burkina Faso",
           0
          ],
          [
           "Burkina Faso",
           0
          ],
          [
           "Burkina Faso",
           0
          ],
          [
           "Burkina Faso",
           0
          ],
          [
           "Burkina Faso",
           0
          ],
          [
           "Burkina Faso",
           1
          ],
          [
           "Burkina Faso",
           1
          ],
          [
           "Burkina Faso",
           1
          ],
          [
           "Burkina Faso",
           2
          ],
          [
           "Burkina Faso",
           4
          ],
          [
           "Burkina Faso",
           4
          ],
          [
           "Burkina Faso",
           4
          ],
          [
           "Burkina Faso",
           4
          ],
          [
           "Burkina Faso",
           7
          ],
          [
           "Burkina Faso",
           9
          ],
          [
           "Burkina Faso",
           11
          ],
          [
           "Burkina Faso",
           12
          ],
          [
           "Burkina Faso",
           12
          ],
          [
           "Burkina Faso",
           14
          ],
          [
           "Burkina Faso",
           16
          ],
          [
           "Burkina Faso",
           16
          ],
          [
           "Burkina Faso",
           16
          ],
          [
           "Burkina Faso",
           16
          ],
          [
           "Burkina Faso",
           17
          ],
          [
           "Burkina Faso",
           18
          ],
          [
           "Burkina Faso",
           19
          ],
          [
           "Burkina Faso",
           23
          ],
          [
           "Burkina Faso",
           24
          ],
          [
           "Burkina Faso",
           24
          ],
          [
           "Burkina Faso",
           27
          ],
          [
           "Burkina Faso",
           27
          ],
          [
           "Burkina Faso",
           27
          ],
          [
           "Burkina Faso",
           30
          ],
          [
           "Burkina Faso",
           32
          ],
          [
           "Burkina Faso",
           32
          ],
          [
           "Burkina Faso",
           35
          ],
          [
           "Burkina Faso",
           36
          ],
          [
           "Burkina Faso",
           36
          ],
          [
           "Burkina Faso",
           38
          ],
          [
           "Burkina Faso",
           38
          ],
          [
           "Burkina Faso",
           39
          ],
          [
           "Burkina Faso",
           41
          ],
          [
           "Burkina Faso",
           41
          ],
          [
           "Burkina Faso",
           41
          ],
          [
           "Burkina Faso",
           42
          ],
          [
           "Burkina Faso",
           42
          ]
         ],
         "hoverlabel": {
          "namelength": 0
         },
         "hovertemplate": "Country/Region=%{customdata[0]}<br>date=%{x}<br>Confirmed=%{y}<br>Deaths=%{customdata[1]}",
         "legendgroup": "Country/Region=Burkina Faso",
         "line": {
          "color": "#636efa",
          "dash": "solid"
         },
         "mode": "lines",
         "name": "Country/Region=Burkina Faso",
         "showlegend": true,
         "type": "scattergl",
         "x": [
          "2020-03-10T00:00:00",
          "2020-03-11T00:00:00",
          "2020-03-12T00:00:00",
          "2020-03-13T00:00:00",
          "2020-03-14T00:00:00",
          "2020-03-15T00:00:00",
          "2020-03-16T00:00:00",
          "2020-03-17T00:00:00",
          "2020-03-18T00:00:00",
          "2020-03-19T00:00:00",
          "2020-03-20T00:00:00",
          "2020-03-21T00:00:00",
          "2020-03-22T00:00:00",
          "2020-03-23T00:00:00",
          "2020-03-24T00:00:00",
          "2020-03-25T00:00:00",
          "2020-03-26T00:00:00",
          "2020-03-27T00:00:00",
          "2020-03-28T00:00:00",
          "2020-03-29T00:00:00",
          "2020-03-30T00:00:00",
          "2020-03-31T00:00:00",
          "2020-04-01T00:00:00",
          "2020-04-02T00:00:00",
          "2020-04-03T00:00:00",
          "2020-04-04T00:00:00",
          "2020-04-05T00:00:00",
          "2020-04-06T00:00:00",
          "2020-04-07T00:00:00",
          "2020-04-08T00:00:00",
          "2020-04-09T00:00:00",
          "2020-04-10T00:00:00",
          "2020-04-11T00:00:00",
          "2020-04-12T00:00:00",
          "2020-04-13T00:00:00",
          "2020-04-14T00:00:00",
          "2020-04-15T00:00:00",
          "2020-04-16T00:00:00",
          "2020-04-17T00:00:00",
          "2020-04-18T00:00:00",
          "2020-04-19T00:00:00",
          "2020-04-20T00:00:00",
          "2020-04-21T00:00:00",
          "2020-04-22T00:00:00",
          "2020-04-23T00:00:00",
          "2020-04-24T00:00:00",
          "2020-04-25T00:00:00",
          "2020-04-26T00:00:00",
          "2020-04-27T00:00:00"
         ],
         "xaxis": "x",
         "y": [
          1,
          2,
          2,
          2,
          2,
          3,
          15,
          15,
          20,
          33,
          40,
          64,
          75,
          99,
          114,
          146,
          152,
          180,
          207,
          222,
          246,
          261,
          282,
          288,
          302,
          318,
          345,
          364,
          384,
          414,
          443,
          443,
          484,
          497,
          497,
          528,
          542,
          546,
          557,
          565,
          576,
          581,
          600,
          609,
          616,
          629,
          629,
          632,
          635
         ],
         "yaxis": "y"
        },
        {
         "customdata": [
          [
           "Congo (Kinshasa)",
           0
          ],
          [
           "Congo (Kinshasa)",
           0
          ],
          [
           "Congo (Kinshasa)",
           0
          ],
          [
           "Congo (Kinshasa)",
           0
          ],
          [
           "Congo (Kinshasa)",
           0
          ],
          [
           "Congo (Kinshasa)",
           0
          ],
          [
           "Congo (Kinshasa)",
           0
          ],
          [
           "Congo (Kinshasa)",
           0
          ],
          [
           "Congo (Kinshasa)",
           0
          ],
          [
           "Congo (Kinshasa)",
           0
          ],
          [
           "Congo (Kinshasa)",
           1
          ],
          [
           "Congo (Kinshasa)",
           1
          ],
          [
           "Congo (Kinshasa)",
           1
          ],
          [
           "Congo (Kinshasa)",
           2
          ],
          [
           "Congo (Kinshasa)",
           2
          ],
          [
           "Congo (Kinshasa)",
           3
          ],
          [
           "Congo (Kinshasa)",
           3
          ],
          [
           "Congo (Kinshasa)",
           6
          ],
          [
           "Congo (Kinshasa)",
           6
          ],
          [
           "Congo (Kinshasa)",
           8
          ],
          [
           "Congo (Kinshasa)",
           8
          ],
          [
           "Congo (Kinshasa)",
           9
          ],
          [
           "Congo (Kinshasa)",
           13
          ],
          [
           "Congo (Kinshasa)",
           13
          ],
          [
           "Congo (Kinshasa)",
           18
          ],
          [
           "Congo (Kinshasa)",
           18
          ],
          [
           "Congo (Kinshasa)",
           18
          ],
          [
           "Congo (Kinshasa)",
           18
          ],
          [
           "Congo (Kinshasa)",
           18
          ],
          [
           "Congo (Kinshasa)",
           18
          ],
          [
           "Congo (Kinshasa)",
           20
          ],
          [
           "Congo (Kinshasa)",
           20
          ],
          [
           "Congo (Kinshasa)",
           20
          ],
          [
           "Congo (Kinshasa)",
           20
          ],
          [
           "Congo (Kinshasa)",
           20
          ],
          [
           "Congo (Kinshasa)",
           21
          ],
          [
           "Congo (Kinshasa)",
           22
          ],
          [
           "Congo (Kinshasa)",
           23
          ],
          [
           "Congo (Kinshasa)",
           25
          ],
          [
           "Congo (Kinshasa)",
           25
          ],
          [
           "Congo (Kinshasa)",
           25
          ],
          [
           "Congo (Kinshasa)",
           25
          ],
          [
           "Congo (Kinshasa)",
           25
          ],
          [
           "Congo (Kinshasa)",
           25
          ],
          [
           "Congo (Kinshasa)",
           25
          ],
          [
           "Congo (Kinshasa)",
           28
          ],
          [
           "Congo (Kinshasa)",
           28
          ],
          [
           "Congo (Kinshasa)",
           28
          ]
         ],
         "hoverlabel": {
          "namelength": 0
         },
         "hovertemplate": "Country/Region=%{customdata[0]}<br>date=%{x}<br>Confirmed=%{y}<br>Deaths=%{customdata[1]}",
         "legendgroup": "Country/Region=Congo (Kinshasa)",
         "line": {
          "color": "#EF553B",
          "dash": "solid"
         },
         "mode": "lines",
         "name": "Country/Region=Congo (Kinshasa)",
         "showlegend": true,
         "type": "scattergl",
         "x": [
          "2020-03-11T00:00:00",
          "2020-03-12T00:00:00",
          "2020-03-13T00:00:00",
          "2020-03-14T00:00:00",
          "2020-03-15T00:00:00",
          "2020-03-16T00:00:00",
          "2020-03-17T00:00:00",
          "2020-03-18T00:00:00",
          "2020-03-19T00:00:00",
          "2020-03-20T00:00:00",
          "2020-03-21T00:00:00",
          "2020-03-22T00:00:00",
          "2020-03-23T00:00:00",
          "2020-03-24T00:00:00",
          "2020-03-25T00:00:00",
          "2020-03-26T00:00:00",
          "2020-03-27T00:00:00",
          "2020-03-28T00:00:00",
          "2020-03-29T00:00:00",
          "2020-03-30T00:00:00",
          "2020-03-31T00:00:00",
          "2020-04-01T00:00:00",
          "2020-04-02T00:00:00",
          "2020-04-03T00:00:00",
          "2020-04-04T00:00:00",
          "2020-04-05T00:00:00",
          "2020-04-06T00:00:00",
          "2020-04-07T00:00:00",
          "2020-04-08T00:00:00",
          "2020-04-09T00:00:00",
          "2020-04-10T00:00:00",
          "2020-04-11T00:00:00",
          "2020-04-12T00:00:00",
          "2020-04-13T00:00:00",
          "2020-04-14T00:00:00",
          "2020-04-15T00:00:00",
          "2020-04-16T00:00:00",
          "2020-04-17T00:00:00",
          "2020-04-18T00:00:00",
          "2020-04-19T00:00:00",
          "2020-04-20T00:00:00",
          "2020-04-21T00:00:00",
          "2020-04-22T00:00:00",
          "2020-04-23T00:00:00",
          "2020-04-24T00:00:00",
          "2020-04-25T00:00:00",
          "2020-04-26T00:00:00",
          "2020-04-27T00:00:00"
         ],
         "xaxis": "x",
         "y": [
          1,
          1,
          2,
          2,
          2,
          2,
          3,
          4,
          14,
          18,
          23,
          30,
          36,
          45,
          48,
          51,
          51,
          65,
          65,
          81,
          98,
          109,
          134,
          134,
          154,
          154,
          161,
          180,
          180,
          180,
          215,
          223,
          234,
          235,
          241,
          254,
          267,
          287,
          307,
          327,
          332,
          350,
          359,
          377,
          394,
          416,
          442,
          459
         ],
         "yaxis": "y"
        },
        {
         "customdata": [
          [
           "Ethiopia",
           0
          ],
          [
           "Ethiopia",
           0
          ],
          [
           "Ethiopia",
           0
          ],
          [
           "Ethiopia",
           0
          ],
          [
           "Ethiopia",
           0
          ],
          [
           "Ethiopia",
           0
          ],
          [
           "Ethiopia",
           0
          ],
          [
           "Ethiopia",
           0
          ],
          [
           "Ethiopia",
           0
          ],
          [
           "Ethiopia",
           0
          ],
          [
           "Ethiopia",
           0
          ],
          [
           "Ethiopia",
           0
          ],
          [
           "Ethiopia",
           0
          ],
          [
           "Ethiopia",
           0
          ],
          [
           "Ethiopia",
           0
          ],
          [
           "Ethiopia",
           0
          ],
          [
           "Ethiopia",
           0
          ],
          [
           "Ethiopia",
           0
          ],
          [
           "Ethiopia",
           0
          ],
          [
           "Ethiopia",
           0
          ],
          [
           "Ethiopia",
           0
          ],
          [
           "Ethiopia",
           0
          ],
          [
           "Ethiopia",
           0
          ],
          [
           "Ethiopia",
           2
          ],
          [
           "Ethiopia",
           2
          ],
          [
           "Ethiopia",
           2
          ],
          [
           "Ethiopia",
           2
          ],
          [
           "Ethiopia",
           2
          ],
          [
           "Ethiopia",
           3
          ],
          [
           "Ethiopia",
           3
          ],
          [
           "Ethiopia",
           3
          ],
          [
           "Ethiopia",
           3
          ],
          [
           "Ethiopia",
           3
          ],
          [
           "Ethiopia",
           3
          ],
          [
           "Ethiopia",
           3
          ],
          [
           "Ethiopia",
           3
          ],
          [
           "Ethiopia",
           3
          ],
          [
           "Ethiopia",
           3
          ],
          [
           "Ethiopia",
           3
          ],
          [
           "Ethiopia",
           3
          ],
          [
           "Ethiopia",
           3
          ],
          [
           "Ethiopia",
           3
          ],
          [
           "Ethiopia",
           3
          ],
          [
           "Ethiopia",
           3
          ],
          [
           "Ethiopia",
           3
          ],
          [
           "Ethiopia",
           3
          ]
         ],
         "hoverlabel": {
          "namelength": 0
         },
         "hovertemplate": "Country/Region=%{customdata[0]}<br>date=%{x}<br>Confirmed=%{y}<br>Deaths=%{customdata[1]}",
         "legendgroup": "Country/Region=Ethiopia",
         "line": {
          "color": "#00cc96",
          "dash": "solid"
         },
         "mode": "lines",
         "name": "Country/Region=Ethiopia",
         "showlegend": true,
         "type": "scattergl",
         "x": [
          "2020-03-13T00:00:00",
          "2020-03-14T00:00:00",
          "2020-03-15T00:00:00",
          "2020-03-16T00:00:00",
          "2020-03-17T00:00:00",
          "2020-03-18T00:00:00",
          "2020-03-19T00:00:00",
          "2020-03-20T00:00:00",
          "2020-03-21T00:00:00",
          "2020-03-22T00:00:00",
          "2020-03-23T00:00:00",
          "2020-03-24T00:00:00",
          "2020-03-25T00:00:00",
          "2020-03-26T00:00:00",
          "2020-03-27T00:00:00",
          "2020-03-28T00:00:00",
          "2020-03-29T00:00:00",
          "2020-03-30T00:00:00",
          "2020-03-31T00:00:00",
          "2020-04-01T00:00:00",
          "2020-04-02T00:00:00",
          "2020-04-03T00:00:00",
          "2020-04-04T00:00:00",
          "2020-04-05T00:00:00",
          "2020-04-06T00:00:00",
          "2020-04-07T00:00:00",
          "2020-04-08T00:00:00",
          "2020-04-09T00:00:00",
          "2020-04-10T00:00:00",
          "2020-04-11T00:00:00",
          "2020-04-12T00:00:00",
          "2020-04-13T00:00:00",
          "2020-04-14T00:00:00",
          "2020-04-15T00:00:00",
          "2020-04-16T00:00:00",
          "2020-04-17T00:00:00",
          "2020-04-18T00:00:00",
          "2020-04-19T00:00:00",
          "2020-04-20T00:00:00",
          "2020-04-21T00:00:00",
          "2020-04-22T00:00:00",
          "2020-04-23T00:00:00",
          "2020-04-24T00:00:00",
          "2020-04-25T00:00:00",
          "2020-04-26T00:00:00",
          "2020-04-27T00:00:00"
         ],
         "xaxis": "x",
         "y": [
          1,
          1,
          1,
          5,
          5,
          6,
          6,
          9,
          9,
          11,
          11,
          12,
          12,
          12,
          16,
          16,
          21,
          23,
          26,
          29,
          29,
          35,
          38,
          43,
          44,
          52,
          55,
          56,
          65,
          69,
          71,
          74,
          82,
          85,
          92,
          96,
          105,
          108,
          111,
          114,
          116,
          116,
          117,
          122,
          123,
          124
         ],
         "yaxis": "y"
        },
        {
         "customdata": [
          [
           "Sudan",
           1
          ],
          [
           "Sudan",
           1
          ],
          [
           "Sudan",
           1
          ],
          [
           "Sudan",
           1
          ],
          [
           "Sudan",
           1
          ],
          [
           "Sudan",
           1
          ],
          [
           "Sudan",
           1
          ],
          [
           "Sudan",
           1
          ],
          [
           "Sudan",
           1
          ],
          [
           "Sudan",
           1
          ],
          [
           "Sudan",
           1
          ],
          [
           "Sudan",
           1
          ],
          [
           "Sudan",
           1
          ],
          [
           "Sudan",
           1
          ],
          [
           "Sudan",
           1
          ],
          [
           "Sudan",
           1
          ],
          [
           "Sudan",
           1
          ],
          [
           "Sudan",
           2
          ],
          [
           "Sudan",
           2
          ],
          [
           "Sudan",
           2
          ],
          [
           "Sudan",
           2
          ],
          [
           "Sudan",
           2
          ],
          [
           "Sudan",
           2
          ],
          [
           "Sudan",
           2
          ],
          [
           "Sudan",
           2
          ],
          [
           "Sudan",
           2
          ],
          [
           "Sudan",
           2
          ],
          [
           "Sudan",
           2
          ],
          [
           "Sudan",
           2
          ],
          [
           "Sudan",
           2
          ],
          [
           "Sudan",
           2
          ],
          [
           "Sudan",
           4
          ],
          [
           "Sudan",
           5
          ],
          [
           "Sudan",
           5
          ],
          [
           "Sudan",
           5
          ],
          [
           "Sudan",
           6
          ],
          [
           "Sudan",
           10
          ],
          [
           "Sudan",
           10
          ],
          [
           "Sudan",
           12
          ],
          [
           "Sudan",
           12
          ],
          [
           "Sudan",
           13
          ],
          [
           "Sudan",
           16
          ],
          [
           "Sudan",
           16
          ],
          [
           "Sudan",
           17
          ],
          [
           "Sudan",
           21
          ],
          [
           "Sudan",
           22
          ]
         ],
         "hoverlabel": {
          "namelength": 0
         },
         "hovertemplate": "Country/Region=%{customdata[0]}<br>date=%{x}<br>Confirmed=%{y}<br>Deaths=%{customdata[1]}",
         "legendgroup": "Country/Region=Sudan",
         "line": {
          "color": "#ab63fa",
          "dash": "solid"
         },
         "mode": "lines",
         "name": "Country/Region=Sudan",
         "showlegend": true,
         "type": "scattergl",
         "x": [
          "2020-03-13T00:00:00",
          "2020-03-14T00:00:00",
          "2020-03-15T00:00:00",
          "2020-03-16T00:00:00",
          "2020-03-17T00:00:00",
          "2020-03-18T00:00:00",
          "2020-03-19T00:00:00",
          "2020-03-20T00:00:00",
          "2020-03-21T00:00:00",
          "2020-03-22T00:00:00",
          "2020-03-23T00:00:00",
          "2020-03-24T00:00:00",
          "2020-03-25T00:00:00",
          "2020-03-26T00:00:00",
          "2020-03-27T00:00:00",
          "2020-03-28T00:00:00",
          "2020-03-29T00:00:00",
          "2020-03-30T00:00:00",
          "2020-03-31T00:00:00",
          "2020-04-01T00:00:00",
          "2020-04-02T00:00:00",
          "2020-04-03T00:00:00",
          "2020-04-04T00:00:00",
          "2020-04-05T00:00:00",
          "2020-04-06T00:00:00",
          "2020-04-07T00:00:00",
          "2020-04-08T00:00:00",
          "2020-04-09T00:00:00",
          "2020-04-10T00:00:00",
          "2020-04-11T00:00:00",
          "2020-04-12T00:00:00",
          "2020-04-13T00:00:00",
          "2020-04-14T00:00:00",
          "2020-04-15T00:00:00",
          "2020-04-16T00:00:00",
          "2020-04-17T00:00:00",
          "2020-04-18T00:00:00",
          "2020-04-19T00:00:00",
          "2020-04-20T00:00:00",
          "2020-04-21T00:00:00",
          "2020-04-22T00:00:00",
          "2020-04-23T00:00:00",
          "2020-04-24T00:00:00",
          "2020-04-25T00:00:00",
          "2020-04-26T00:00:00",
          "2020-04-27T00:00:00"
         ],
         "xaxis": "x",
         "y": [
          1,
          1,
          1,
          1,
          1,
          2,
          2,
          2,
          2,
          2,
          2,
          3,
          3,
          3,
          3,
          5,
          6,
          6,
          7,
          7,
          8,
          10,
          10,
          12,
          12,
          14,
          14,
          15,
          17,
          19,
          19,
          29,
          32,
          32,
          32,
          33,
          66,
          66,
          107,
          107,
          140,
          174,
          174,
          213,
          237,
          275
         ],
         "yaxis": "y"
        },
        {
         "customdata": [
          [
           "Guinea",
           0
          ],
          [
           "Guinea",
           0
          ],
          [
           "Guinea",
           0
          ],
          [
           "Guinea",
           0
          ],
          [
           "Guinea",
           0
          ],
          [
           "Guinea",
           0
          ],
          [
           "Guinea",
           0
          ],
          [
           "Guinea",
           0
          ],
          [
           "Guinea",
           0
          ],
          [
           "Guinea",
           0
          ],
          [
           "Guinea",
           0
          ],
          [
           "Guinea",
           0
          ],
          [
           "Guinea",
           0
          ],
          [
           "Guinea",
           0
          ],
          [
           "Guinea",
           0
          ],
          [
           "Guinea",
           0
          ],
          [
           "Guinea",
           0
          ],
          [
           "Guinea",
           0
          ],
          [
           "Guinea",
           0
          ],
          [
           "Guinea",
           0
          ],
          [
           "Guinea",
           0
          ],
          [
           "Guinea",
           0
          ],
          [
           "Guinea",
           0
          ],
          [
           "Guinea",
           0
          ],
          [
           "Guinea",
           0
          ],
          [
           "Guinea",
           0
          ],
          [
           "Guinea",
           0
          ],
          [
           "Guinea",
           0
          ],
          [
           "Guinea",
           0
          ],
          [
           "Guinea",
           0
          ],
          [
           "Guinea",
           0
          ],
          [
           "Guinea",
           0
          ],
          [
           "Guinea",
           0
          ],
          [
           "Guinea",
           1
          ],
          [
           "Guinea",
           1
          ],
          [
           "Guinea",
           3
          ],
          [
           "Guinea",
           3
          ],
          [
           "Guinea",
           5
          ],
          [
           "Guinea",
           5
          ],
          [
           "Guinea",
           6
          ],
          [
           "Guinea",
           6
          ],
          [
           "Guinea",
           6
          ],
          [
           "Guinea",
           6
          ],
          [
           "Guinea",
           7
          ],
          [
           "Guinea",
           7
          ],
          [
           "Guinea",
           7
          ]
         ],
         "hoverlabel": {
          "namelength": 0
         },
         "hovertemplate": "Country/Region=%{customdata[0]}<br>date=%{x}<br>Confirmed=%{y}<br>Deaths=%{customdata[1]}",
         "legendgroup": "Country/Region=Guinea",
         "line": {
          "color": "#FFA15A",
          "dash": "solid"
         },
         "mode": "lines",
         "name": "Country/Region=Guinea",
         "showlegend": true,
         "type": "scattergl",
         "x": [
          "2020-03-13T00:00:00",
          "2020-03-14T00:00:00",
          "2020-03-15T00:00:00",
          "2020-03-16T00:00:00",
          "2020-03-17T00:00:00",
          "2020-03-18T00:00:00",
          "2020-03-19T00:00:00",
          "2020-03-20T00:00:00",
          "2020-03-21T00:00:00",
          "2020-03-22T00:00:00",
          "2020-03-23T00:00:00",
          "2020-03-24T00:00:00",
          "2020-03-25T00:00:00",
          "2020-03-26T00:00:00",
          "2020-03-27T00:00:00",
          "2020-03-28T00:00:00",
          "2020-03-29T00:00:00",
          "2020-03-30T00:00:00",
          "2020-03-31T00:00:00",
          "2020-04-01T00:00:00",
          "2020-04-02T00:00:00",
          "2020-04-03T00:00:00",
          "2020-04-04T00:00:00",
          "2020-04-05T00:00:00",
          "2020-04-06T00:00:00",
          "2020-04-07T00:00:00",
          "2020-04-08T00:00:00",
          "2020-04-09T00:00:00",
          "2020-04-10T00:00:00",
          "2020-04-11T00:00:00",
          "2020-04-12T00:00:00",
          "2020-04-13T00:00:00",
          "2020-04-14T00:00:00",
          "2020-04-15T00:00:00",
          "2020-04-16T00:00:00",
          "2020-04-17T00:00:00",
          "2020-04-18T00:00:00",
          "2020-04-19T00:00:00",
          "2020-04-20T00:00:00",
          "2020-04-21T00:00:00",
          "2020-04-22T00:00:00",
          "2020-04-23T00:00:00",
          "2020-04-24T00:00:00",
          "2020-04-25T00:00:00",
          "2020-04-26T00:00:00",
          "2020-04-27T00:00:00"
         ],
         "xaxis": "x",
         "y": [
          1,
          1,
          1,
          1,
          1,
          1,
          1,
          1,
          2,
          2,
          4,
          4,
          4,
          4,
          8,
          8,
          16,
          22,
          22,
          30,
          52,
          73,
          111,
          121,
          128,
          144,
          164,
          194,
          212,
          250,
          250,
          319,
          363,
          404,
          438,
          477,
          518,
          579,
          622,
          688,
          761,
          862,
          954,
          996,
          996,
          1163
         ],
         "yaxis": "y"
        },
        {
         "customdata": [
          [
           "Kenya",
           0
          ],
          [
           "Kenya",
           0
          ],
          [
           "Kenya",
           0
          ],
          [
           "Kenya",
           0
          ],
          [
           "Kenya",
           0
          ],
          [
           "Kenya",
           0
          ],
          [
           "Kenya",
           0
          ],
          [
           "Kenya",
           0
          ],
          [
           "Kenya",
           0
          ],
          [
           "Kenya",
           0
          ],
          [
           "Kenya",
           0
          ],
          [
           "Kenya",
           0
          ],
          [
           "Kenya",
           0
          ],
          [
           "Kenya",
           1
          ],
          [
           "Kenya",
           1
          ],
          [
           "Kenya",
           1
          ],
          [
           "Kenya",
           1
          ],
          [
           "Kenya",
           1
          ],
          [
           "Kenya",
           1
          ],
          [
           "Kenya",
           1
          ],
          [
           "Kenya",
           3
          ],
          [
           "Kenya",
           4
          ],
          [
           "Kenya",
           4
          ],
          [
           "Kenya",
           4
          ],
          [
           "Kenya",
           6
          ],
          [
           "Kenya",
           6
          ],
          [
           "Kenya",
           6
          ],
          [
           "Kenya",
           7
          ],
          [
           "Kenya",
           7
          ],
          [
           "Kenya",
           7
          ],
          [
           "Kenya",
           8
          ],
          [
           "Kenya",
           9
          ],
          [
           "Kenya",
           9
          ],
          [
           "Kenya",
           10
          ],
          [
           "Kenya",
           11
          ],
          [
           "Kenya",
           11
          ],
          [
           "Kenya",
           12
          ],
          [
           "Kenya",
           14
          ],
          [
           "Kenya",
           14
          ],
          [
           "Kenya",
           14
          ],
          [
           "Kenya",
           14
          ],
          [
           "Kenya",
           14
          ],
          [
           "Kenya",
           14
          ],
          [
           "Kenya",
           14
          ],
          [
           "Kenya",
           14
          ],
          [
           "Kenya",
           14
          ]
         ],
         "hoverlabel": {
          "namelength": 0
         },
         "hovertemplate": "Country/Region=%{customdata[0]}<br>date=%{x}<br>Confirmed=%{y}<br>Deaths=%{customdata[1]}",
         "legendgroup": "Country/Region=Kenya",
         "line": {
          "color": "#19d3f3",
          "dash": "solid"
         },
         "mode": "lines",
         "name": "Country/Region=Kenya",
         "showlegend": true,
         "type": "scattergl",
         "x": [
          "2020-03-13T00:00:00",
          "2020-03-14T00:00:00",
          "2020-03-15T00:00:00",
          "2020-03-16T00:00:00",
          "2020-03-17T00:00:00",
          "2020-03-18T00:00:00",
          "2020-03-19T00:00:00",
          "2020-03-20T00:00:00",
          "2020-03-21T00:00:00",
          "2020-03-22T00:00:00",
          "2020-03-23T00:00:00",
          "2020-03-24T00:00:00",
          "2020-03-25T00:00:00",
          "2020-03-26T00:00:00",
          "2020-03-27T00:00:00",
          "2020-03-28T00:00:00",
          "2020-03-29T00:00:00",
          "2020-03-30T00:00:00",
          "2020-03-31T00:00:00",
          "2020-04-01T00:00:00",
          "2020-04-02T00:00:00",
          "2020-04-03T00:00:00",
          "2020-04-04T00:00:00",
          "2020-04-05T00:00:00",
          "2020-04-06T00:00:00",
          "2020-04-07T00:00:00",
          "2020-04-08T00:00:00",
          "2020-04-09T00:00:00",
          "2020-04-10T00:00:00",
          "2020-04-11T00:00:00",
          "2020-04-12T00:00:00",
          "2020-04-13T00:00:00",
          "2020-04-14T00:00:00",
          "2020-04-15T00:00:00",
          "2020-04-16T00:00:00",
          "2020-04-17T00:00:00",
          "2020-04-18T00:00:00",
          "2020-04-19T00:00:00",
          "2020-04-20T00:00:00",
          "2020-04-21T00:00:00",
          "2020-04-22T00:00:00",
          "2020-04-23T00:00:00",
          "2020-04-24T00:00:00",
          "2020-04-25T00:00:00",
          "2020-04-26T00:00:00",
          "2020-04-27T00:00:00"
         ],
         "xaxis": "x",
         "y": [
          1,
          1,
          3,
          3,
          3,
          3,
          7,
          7,
          7,
          15,
          16,
          25,
          28,
          31,
          31,
          38,
          42,
          50,
          59,
          81,
          110,
          122,
          126,
          142,
          158,
          172,
          179,
          184,
          189,
          191,
          197,
          208,
          216,
          225,
          234,
          246,
          262,
          270,
          281,
          296,
          303,
          320,
          336,
          343,
          355,
          363
         ],
         "yaxis": "y"
        },
        {
         "customdata": [
          [
           "Ghana",
           0
          ],
          [
           "Ghana",
           0
          ],
          [
           "Ghana",
           0
          ],
          [
           "Ghana",
           0
          ],
          [
           "Ghana",
           0
          ],
          [
           "Ghana",
           0
          ],
          [
           "Ghana",
           0
          ],
          [
           "Ghana",
           1
          ],
          [
           "Ghana",
           1
          ],
          [
           "Ghana",
           2
          ],
          [
           "Ghana",
           2
          ],
          [
           "Ghana",
           4
          ],
          [
           "Ghana",
           4
          ],
          [
           "Ghana",
           4
          ],
          [
           "Ghana",
           5
          ],
          [
           "Ghana",
           5
          ],
          [
           "Ghana",
           5
          ],
          [
           "Ghana",
           5
          ],
          [
           "Ghana",
           5
          ],
          [
           "Ghana",
           5
          ],
          [
           "Ghana",
           5
          ],
          [
           "Ghana",
           5
          ],
          [
           "Ghana",
           5
          ],
          [
           "Ghana",
           5
          ],
          [
           "Ghana",
           5
          ],
          [
           "Ghana",
           6
          ],
          [
           "Ghana",
           6
          ],
          [
           "Ghana",
           6
          ],
          [
           "Ghana",
           8
          ],
          [
           "Ghana",
           8
          ],
          [
           "Ghana",
           8
          ],
          [
           "Ghana",
           8
          ],
          [
           "Ghana",
           8
          ],
          [
           "Ghana",
           8
          ],
          [
           "Ghana",
           8
          ],
          [
           "Ghana",
           9
          ],
          [
           "Ghana",
           9
          ],
          [
           "Ghana",
           9
          ],
          [
           "Ghana",
           9
          ],
          [
           "Ghana",
           9
          ],
          [
           "Ghana",
           9
          ],
          [
           "Ghana",
           10
          ],
          [
           "Ghana",
           10
          ],
          [
           "Ghana",
           11
          ],
          [
           "Ghana",
           11
          ]
         ],
         "hoverlabel": {
          "namelength": 0
         },
         "hovertemplate": "Country/Region=%{customdata[0]}<br>date=%{x}<br>Confirmed=%{y}<br>Deaths=%{customdata[1]}",
         "legendgroup": "Country/Region=Ghana",
         "line": {
          "color": "#FF6692",
          "dash": "solid"
         },
         "mode": "lines",
         "name": "Country/Region=Ghana",
         "showlegend": true,
         "type": "scattergl",
         "x": [
          "2020-03-14T00:00:00",
          "2020-03-15T00:00:00",
          "2020-03-16T00:00:00",
          "2020-03-17T00:00:00",
          "2020-03-18T00:00:00",
          "2020-03-19T00:00:00",
          "2020-03-20T00:00:00",
          "2020-03-21T00:00:00",
          "2020-03-22T00:00:00",
          "2020-03-23T00:00:00",
          "2020-03-24T00:00:00",
          "2020-03-25T00:00:00",
          "2020-03-26T00:00:00",
          "2020-03-27T00:00:00",
          "2020-03-28T00:00:00",
          "2020-03-29T00:00:00",
          "2020-03-30T00:00:00",
          "2020-03-31T00:00:00",
          "2020-04-01T00:00:00",
          "2020-04-02T00:00:00",
          "2020-04-03T00:00:00",
          "2020-04-04T00:00:00",
          "2020-04-05T00:00:00",
          "2020-04-06T00:00:00",
          "2020-04-07T00:00:00",
          "2020-04-08T00:00:00",
          "2020-04-09T00:00:00",
          "2020-04-10T00:00:00",
          "2020-04-11T00:00:00",
          "2020-04-12T00:00:00",
          "2020-04-13T00:00:00",
          "2020-04-14T00:00:00",
          "2020-04-15T00:00:00",
          "2020-04-16T00:00:00",
          "2020-04-17T00:00:00",
          "2020-04-18T00:00:00",
          "2020-04-19T00:00:00",
          "2020-04-20T00:00:00",
          "2020-04-21T00:00:00",
          "2020-04-22T00:00:00",
          "2020-04-23T00:00:00",
          "2020-04-24T00:00:00",
          "2020-04-25T00:00:00",
          "2020-04-26T00:00:00",
          "2020-04-27T00:00:00"
         ],
         "xaxis": "x",
         "y": [
          3,
          6,
          6,
          7,
          7,
          11,
          16,
          19,
          23,
          27,
          53,
          93,
          132,
          137,
          141,
          152,
          152,
          161,
          195,
          204,
          205,
          205,
          214,
          214,
          287,
          313,
          378,
          378,
          408,
          566,
          566,
          636,
          636,
          641,
          641,
          834,
          1042,
          1042,
          1042,
          1154,
          1154,
          1279,
          1279,
          1550,
          1550
         ],
         "yaxis": "y"
        },
        {
         "customdata": [
          [
           "Namibia",
           0
          ],
          [
           "Namibia",
           0
          ],
          [
           "Namibia",
           0
          ],
          [
           "Namibia",
           0
          ],
          [
           "Namibia",
           0
          ],
          [
           "Namibia",
           0
          ],
          [
           "Namibia",
           0
          ],
          [
           "Namibia",
           0
          ],
          [
           "Namibia",
           0
          ],
          [
           "Namibia",
           0
          ],
          [
           "Namibia",
           0
          ],
          [
           "Namibia",
           0
          ],
          [
           "Namibia",
           0
          ],
          [
           "Namibia",
           0
          ],
          [
           "Namibia",
           0
          ],
          [
           "Namibia",
           0
          ],
          [
           "Namibia",
           0
          ],
          [
           "Namibia",
           0
          ],
          [
           "Namibia",
           0
          ],
          [
           "Namibia",
           0
          ],
          [
           "Namibia",
           0
          ],
          [
           "Namibia",
           0
          ],
          [
           "Namibia",
           0
          ],
          [
           "Namibia",
           0
          ],
          [
           "Namibia",
           0
          ],
          [
           "Namibia",
           0
          ],
          [
           "Namibia",
           0
          ],
          [
           "Namibia",
           0
          ],
          [
           "Namibia",
           0
          ],
          [
           "Namibia",
           0
          ],
          [
           "Namibia",
           0
          ],
          [
           "Namibia",
           0
          ],
          [
           "Namibia",
           0
          ],
          [
           "Namibia",
           0
          ],
          [
           "Namibia",
           0
          ],
          [
           "Namibia",
           0
          ],
          [
           "Namibia",
           0
          ],
          [
           "Namibia",
           0
          ],
          [
           "Namibia",
           0
          ],
          [
           "Namibia",
           0
          ],
          [
           "Namibia",
           0
          ],
          [
           "Namibia",
           0
          ],
          [
           "Namibia",
           0
          ],
          [
           "Namibia",
           0
          ],
          [
           "Namibia",
           0
          ]
         ],
         "hoverlabel": {
          "namelength": 0
         },
         "hovertemplate": "Country/Region=%{customdata[0]}<br>date=%{x}<br>Confirmed=%{y}<br>Deaths=%{customdata[1]}",
         "legendgroup": "Country/Region=Namibia",
         "line": {
          "color": "#B6E880",
          "dash": "solid"
         },
         "mode": "lines",
         "name": "Country/Region=Namibia",
         "showlegend": true,
         "type": "scattergl",
         "x": [
          "2020-03-14T00:00:00",
          "2020-03-15T00:00:00",
          "2020-03-16T00:00:00",
          "2020-03-17T00:00:00",
          "2020-03-18T00:00:00",
          "2020-03-19T00:00:00",
          "2020-03-20T00:00:00",
          "2020-03-21T00:00:00",
          "2020-03-22T00:00:00",
          "2020-03-23T00:00:00",
          "2020-03-24T00:00:00",
          "2020-03-25T00:00:00",
          "2020-03-26T00:00:00",
          "2020-03-27T00:00:00",
          "2020-03-28T00:00:00",
          "2020-03-29T00:00:00",
          "2020-03-30T00:00:00",
          "2020-03-31T00:00:00",
          "2020-04-01T00:00:00",
          "2020-04-02T00:00:00",
          "2020-04-03T00:00:00",
          "2020-04-04T00:00:00",
          "2020-04-05T00:00:00",
          "2020-04-06T00:00:00",
          "2020-04-07T00:00:00",
          "2020-04-08T00:00:00",
          "2020-04-09T00:00:00",
          "2020-04-10T00:00:00",
          "2020-04-11T00:00:00",
          "2020-04-12T00:00:00",
          "2020-04-13T00:00:00",
          "2020-04-14T00:00:00",
          "2020-04-15T00:00:00",
          "2020-04-16T00:00:00",
          "2020-04-17T00:00:00",
          "2020-04-18T00:00:00",
          "2020-04-19T00:00:00",
          "2020-04-20T00:00:00",
          "2020-04-21T00:00:00",
          "2020-04-22T00:00:00",
          "2020-04-23T00:00:00",
          "2020-04-24T00:00:00",
          "2020-04-25T00:00:00",
          "2020-04-26T00:00:00",
          "2020-04-27T00:00:00"
         ],
         "xaxis": "x",
         "y": [
          2,
          2,
          2,
          2,
          2,
          3,
          3,
          3,
          3,
          4,
          7,
          7,
          8,
          8,
          8,
          11,
          11,
          11,
          14,
          14,
          14,
          14,
          16,
          16,
          16,
          16,
          16,
          16,
          16,
          16,
          16,
          16,
          16,
          16,
          16,
          16,
          16,
          16,
          16,
          16,
          16,
          16,
          16,
          16,
          16
         ],
         "yaxis": "y"
        },
        {
         "customdata": [
          [
           "Seychelles",
           0
          ],
          [
           "Seychelles",
           0
          ],
          [
           "Seychelles",
           0
          ],
          [
           "Seychelles",
           0
          ],
          [
           "Seychelles",
           0
          ],
          [
           "Seychelles",
           0
          ],
          [
           "Seychelles",
           0
          ],
          [
           "Seychelles",
           0
          ],
          [
           "Seychelles",
           0
          ],
          [
           "Seychelles",
           0
          ],
          [
           "Seychelles",
           0
          ],
          [
           "Seychelles",
           0
          ],
          [
           "Seychelles",
           0
          ],
          [
           "Seychelles",
           0
          ],
          [
           "Seychelles",
           0
          ],
          [
           "Seychelles",
           0
          ],
          [
           "Seychelles",
           0
          ],
          [
           "Seychelles",
           0
          ],
          [
           "Seychelles",
           0
          ],
          [
           "Seychelles",
           0
          ],
          [
           "Seychelles",
           0
          ],
          [
           "Seychelles",
           0
          ],
          [
           "Seychelles",
           0
          ],
          [
           "Seychelles",
           0
          ],
          [
           "Seychelles",
           0
          ],
          [
           "Seychelles",
           0
          ],
          [
           "Seychelles",
           0
          ],
          [
           "Seychelles",
           0
          ],
          [
           "Seychelles",
           0
          ],
          [
           "Seychelles",
           0
          ],
          [
           "Seychelles",
           0
          ],
          [
           "Seychelles",
           0
          ],
          [
           "Seychelles",
           0
          ],
          [
           "Seychelles",
           0
          ],
          [
           "Seychelles",
           0
          ],
          [
           "Seychelles",
           0
          ],
          [
           "Seychelles",
           0
          ],
          [
           "Seychelles",
           0
          ],
          [
           "Seychelles",
           0
          ],
          [
           "Seychelles",
           0
          ],
          [
           "Seychelles",
           0
          ],
          [
           "Seychelles",
           0
          ],
          [
           "Seychelles",
           0
          ],
          [
           "Seychelles",
           0
          ],
          [
           "Seychelles",
           0
          ]
         ],
         "hoverlabel": {
          "namelength": 0
         },
         "hovertemplate": "Country/Region=%{customdata[0]}<br>date=%{x}<br>Confirmed=%{y}<br>Deaths=%{customdata[1]}",
         "legendgroup": "Country/Region=Seychelles",
         "line": {
          "color": "#FF97FF",
          "dash": "solid"
         },
         "mode": "lines",
         "name": "Country/Region=Seychelles",
         "showlegend": true,
         "type": "scattergl",
         "x": [
          "2020-03-14T00:00:00",
          "2020-03-15T00:00:00",
          "2020-03-16T00:00:00",
          "2020-03-17T00:00:00",
          "2020-03-18T00:00:00",
          "2020-03-19T00:00:00",
          "2020-03-20T00:00:00",
          "2020-03-21T00:00:00",
          "2020-03-22T00:00:00",
          "2020-03-23T00:00:00",
          "2020-03-24T00:00:00",
          "2020-03-25T00:00:00",
          "2020-03-26T00:00:00",
          "2020-03-27T00:00:00",
          "2020-03-28T00:00:00",
          "2020-03-29T00:00:00",
          "2020-03-30T00:00:00",
          "2020-03-31T00:00:00",
          "2020-04-01T00:00:00",
          "2020-04-02T00:00:00",
          "2020-04-03T00:00:00",
          "2020-04-04T00:00:00",
          "2020-04-05T00:00:00",
          "2020-04-06T00:00:00",
          "2020-04-07T00:00:00",
          "2020-04-08T00:00:00",
          "2020-04-09T00:00:00",
          "2020-04-10T00:00:00",
          "2020-04-11T00:00:00",
          "2020-04-12T00:00:00",
          "2020-04-13T00:00:00",
          "2020-04-14T00:00:00",
          "2020-04-15T00:00:00",
          "2020-04-16T00:00:00",
          "2020-04-17T00:00:00",
          "2020-04-18T00:00:00",
          "2020-04-19T00:00:00",
          "2020-04-20T00:00:00",
          "2020-04-21T00:00:00",
          "2020-04-22T00:00:00",
          "2020-04-23T00:00:00",
          "2020-04-24T00:00:00",
          "2020-04-25T00:00:00",
          "2020-04-26T00:00:00",
          "2020-04-27T00:00:00"
         ],
         "xaxis": "x",
         "y": [
          2,
          2,
          3,
          4,
          4,
          6,
          7,
          7,
          7,
          7,
          7,
          7,
          7,
          7,
          8,
          8,
          8,
          10,
          10,
          10,
          10,
          10,
          10,
          11,
          11,
          11,
          11,
          11,
          11,
          11,
          11,
          11,
          11,
          11,
          11,
          11,
          11,
          11,
          11,
          11,
          11,
          11,
          11,
          11,
          11
         ],
         "yaxis": "y"
        },
        {
         "customdata": [
          [
           "Eswatini",
           0
          ],
          [
           "Eswatini",
           0
          ],
          [
           "Eswatini",
           0
          ],
          [
           "Eswatini",
           0
          ],
          [
           "Eswatini",
           0
          ],
          [
           "Eswatini",
           0
          ],
          [
           "Eswatini",
           0
          ],
          [
           "Eswatini",
           0
          ],
          [
           "Eswatini",
           0
          ],
          [
           "Eswatini",
           0
          ],
          [
           "Eswatini",
           0
          ],
          [
           "Eswatini",
           0
          ],
          [
           "Eswatini",
           0
          ],
          [
           "Eswatini",
           0
          ],
          [
           "Eswatini",
           0
          ],
          [
           "Eswatini",
           0
          ],
          [
           "Eswatini",
           0
          ],
          [
           "Eswatini",
           0
          ],
          [
           "Eswatini",
           0
          ],
          [
           "Eswatini",
           0
          ],
          [
           "Eswatini",
           0
          ],
          [
           "Eswatini",
           0
          ],
          [
           "Eswatini",
           0
          ],
          [
           "Eswatini",
           0
          ],
          [
           "Eswatini",
           0
          ],
          [
           "Eswatini",
           0
          ],
          [
           "Eswatini",
           0
          ],
          [
           "Eswatini",
           0
          ],
          [
           "Eswatini",
           0
          ],
          [
           "Eswatini",
           0
          ],
          [
           "Eswatini",
           0
          ],
          [
           "Eswatini",
           0
          ],
          [
           "Eswatini",
           0
          ],
          [
           "Eswatini",
           1
          ],
          [
           "Eswatini",
           1
          ],
          [
           "Eswatini",
           1
          ],
          [
           "Eswatini",
           1
          ],
          [
           "Eswatini",
           1
          ],
          [
           "Eswatini",
           1
          ],
          [
           "Eswatini",
           1
          ],
          [
           "Eswatini",
           1
          ],
          [
           "Eswatini",
           1
          ],
          [
           "Eswatini",
           1
          ],
          [
           "Eswatini",
           1
          ],
          [
           "Eswatini",
           1
          ]
         ],
         "hoverlabel": {
          "namelength": 0
         },
         "hovertemplate": "Country/Region=%{customdata[0]}<br>date=%{x}<br>Confirmed=%{y}<br>Deaths=%{customdata[1]}",
         "legendgroup": "Country/Region=Eswatini",
         "line": {
          "color": "#FECB52",
          "dash": "solid"
         },
         "mode": "lines",
         "name": "Country/Region=Eswatini",
         "showlegend": true,
         "type": "scattergl",
         "x": [
          "2020-03-14T00:00:00",
          "2020-03-15T00:00:00",
          "2020-03-16T00:00:00",
          "2020-03-17T00:00:00",
          "2020-03-18T00:00:00",
          "2020-03-19T00:00:00",
          "2020-03-20T00:00:00",
          "2020-03-21T00:00:00",
          "2020-03-22T00:00:00",
          "2020-03-23T00:00:00",
          "2020-03-24T00:00:00",
          "2020-03-25T00:00:00",
          "2020-03-26T00:00:00",
          "2020-03-27T00:00:00",
          "2020-03-28T00:00:00",
          "2020-03-29T00:00:00",
          "2020-03-30T00:00:00",
          "2020-03-31T00:00:00",
          "2020-04-01T00:00:00",
          "2020-04-02T00:00:00",
          "2020-04-03T00:00:00",
          "2020-04-04T00:00:00",
          "2020-04-05T00:00:00",
          "2020-04-06T00:00:00",
          "2020-04-07T00:00:00",
          "2020-04-08T00:00:00",
          "2020-04-09T00:00:00",
          "2020-04-10T00:00:00",
          "2020-04-11T00:00:00",
          "2020-04-12T00:00:00",
          "2020-04-13T00:00:00",
          "2020-04-14T00:00:00",
          "2020-04-15T00:00:00",
          "2020-04-16T00:00:00",
          "2020-04-17T00:00:00",
          "2020-04-18T00:00:00",
          "2020-04-19T00:00:00",
          "2020-04-20T00:00:00",
          "2020-04-21T00:00:00",
          "2020-04-22T00:00:00",
          "2020-04-23T00:00:00",
          "2020-04-24T00:00:00",
          "2020-04-25T00:00:00",
          "2020-04-26T00:00:00",
          "2020-04-27T00:00:00"
         ],
         "xaxis": "x",
         "y": [
          1,
          1,
          1,
          1,
          1,
          1,
          1,
          1,
          4,
          4,
          4,
          4,
          6,
          9,
          9,
          9,
          9,
          9,
          9,
          9,
          9,
          9,
          9,
          10,
          10,
          12,
          12,
          12,
          12,
          14,
          15,
          15,
          15,
          16,
          16,
          22,
          22,
          24,
          31,
          31,
          31,
          36,
          56,
          59,
          65
         ],
         "yaxis": "y"
        },
        {
         "customdata": [
          [
           "Gabon",
           0
          ],
          [
           "Gabon",
           0
          ],
          [
           "Gabon",
           0
          ],
          [
           "Gabon",
           0
          ],
          [
           "Gabon",
           0
          ],
          [
           "Gabon",
           0
          ],
          [
           "Gabon",
           1
          ],
          [
           "Gabon",
           1
          ],
          [
           "Gabon",
           1
          ],
          [
           "Gabon",
           1
          ],
          [
           "Gabon",
           1
          ],
          [
           "Gabon",
           1
          ],
          [
           "Gabon",
           1
          ],
          [
           "Gabon",
           1
          ],
          [
           "Gabon",
           1
          ],
          [
           "Gabon",
           1
          ],
          [
           "Gabon",
           1
          ],
          [
           "Gabon",
           1
          ],
          [
           "Gabon",
           1
          ],
          [
           "Gabon",
           1
          ],
          [
           "Gabon",
           1
          ],
          [
           "Gabon",
           1
          ],
          [
           "Gabon",
           1
          ],
          [
           "Gabon",
           1
          ],
          [
           "Gabon",
           1
          ],
          [
           "Gabon",
           1
          ],
          [
           "Gabon",
           1
          ],
          [
           "Gabon",
           1
          ],
          [
           "Gabon",
           1
          ],
          [
           "Gabon",
           1
          ],
          [
           "Gabon",
           1
          ],
          [
           "Gabon",
           1
          ],
          [
           "Gabon",
           1
          ],
          [
           "Gabon",
           1
          ],
          [
           "Gabon",
           1
          ],
          [
           "Gabon",
           1
          ],
          [
           "Gabon",
           1
          ],
          [
           "Gabon",
           1
          ],
          [
           "Gabon",
           1
          ],
          [
           "Gabon",
           1
          ],
          [
           "Gabon",
           2
          ],
          [
           "Gabon",
           3
          ],
          [
           "Gabon",
           3
          ],
          [
           "Gabon",
           3
          ],
          [
           "Gabon",
           3
          ]
         ],
         "hoverlabel": {
          "namelength": 0
         },
         "hovertemplate": "Country/Region=%{customdata[0]}<br>date=%{x}<br>Confirmed=%{y}<br>Deaths=%{customdata[1]}",
         "legendgroup": "Country/Region=Gabon",
         "line": {
          "color": "#636efa",
          "dash": "solid"
         },
         "mode": "lines",
         "name": "Country/Region=Gabon",
         "showlegend": true,
         "type": "scattergl",
         "x": [
          "2020-03-14T00:00:00",
          "2020-03-15T00:00:00",
          "2020-03-16T00:00:00",
          "2020-03-17T00:00:00",
          "2020-03-18T00:00:00",
          "2020-03-19T00:00:00",
          "2020-03-20T00:00:00",
          "2020-03-21T00:00:00",
          "2020-03-22T00:00:00",
          "2020-03-23T00:00:00",
          "2020-03-24T00:00:00",
          "2020-03-25T00:00:00",
          "2020-03-26T00:00:00",
          "2020-03-27T00:00:00",
          "2020-03-28T00:00:00",
          "2020-03-29T00:00:00",
          "2020-03-30T00:00:00",
          "2020-03-31T00:00:00",
          "2020-04-01T00:00:00",
          "2020-04-02T00:00:00",
          "2020-04-03T00:00:00",
          "2020-04-04T00:00:00",
          "2020-04-05T00:00:00",
          "2020-04-06T00:00:00",
          "2020-04-07T00:00:00",
          "2020-04-08T00:00:00",
          "2020-04-09T00:00:00",
          "2020-04-10T00:00:00",
          "2020-04-11T00:00:00",
          "2020-04-12T00:00:00",
          "2020-04-13T00:00:00",
          "2020-04-14T00:00:00",
          "2020-04-15T00:00:00",
          "2020-04-16T00:00:00",
          "2020-04-17T00:00:00",
          "2020-04-18T00:00:00",
          "2020-04-19T00:00:00",
          "2020-04-20T00:00:00",
          "2020-04-21T00:00:00",
          "2020-04-22T00:00:00",
          "2020-04-23T00:00:00",
          "2020-04-24T00:00:00",
          "2020-04-25T00:00:00",
          "2020-04-26T00:00:00",
          "2020-04-27T00:00:00"
         ],
         "xaxis": "x",
         "y": [
          1,
          1,
          1,
          1,
          1,
          1,
          3,
          4,
          5,
          5,
          6,
          6,
          7,
          7,
          7,
          7,
          7,
          16,
          18,
          21,
          21,
          21,
          21,
          24,
          30,
          34,
          44,
          44,
          46,
          49,
          57,
          57,
          80,
          80,
          108,
          108,
          109,
          120,
          156,
          166,
          167,
          172,
          176,
          176,
          211
         ],
         "yaxis": "y"
        },
        {
         "customdata": [
          [
           "Mauritania",
           0
          ],
          [
           "Mauritania",
           0
          ],
          [
           "Mauritania",
           0
          ],
          [
           "Mauritania",
           0
          ],
          [
           "Mauritania",
           0
          ],
          [
           "Mauritania",
           0
          ],
          [
           "Mauritania",
           0
          ],
          [
           "Mauritania",
           0
          ],
          [
           "Mauritania",
           0
          ],
          [
           "Mauritania",
           0
          ],
          [
           "Mauritania",
           0
          ],
          [
           "Mauritania",
           0
          ],
          [
           "Mauritania",
           0
          ],
          [
           "Mauritania",
           0
          ],
          [
           "Mauritania",
           0
          ],
          [
           "Mauritania",
           0
          ],
          [
           "Mauritania",
           1
          ],
          [
           "Mauritania",
           1
          ],
          [
           "Mauritania",
           1
          ],
          [
           "Mauritania",
           1
          ],
          [
           "Mauritania",
           1
          ],
          [
           "Mauritania",
           1
          ],
          [
           "Mauritania",
           1
          ],
          [
           "Mauritania",
           1
          ],
          [
           "Mauritania",
           1
          ],
          [
           "Mauritania",
           1
          ],
          [
           "Mauritania",
           1
          ],
          [
           "Mauritania",
           1
          ],
          [
           "Mauritania",
           1
          ],
          [
           "Mauritania",
           1
          ],
          [
           "Mauritania",
           1
          ],
          [
           "Mauritania",
           1
          ],
          [
           "Mauritania",
           1
          ],
          [
           "Mauritania",
           1
          ],
          [
           "Mauritania",
           1
          ],
          [
           "Mauritania",
           1
          ],
          [
           "Mauritania",
           1
          ],
          [
           "Mauritania",
           1
          ],
          [
           "Mauritania",
           1
          ],
          [
           "Mauritania",
           1
          ],
          [
           "Mauritania",
           1
          ],
          [
           "Mauritania",
           1
          ],
          [
           "Mauritania",
           1
          ],
          [
           "Mauritania",
           1
          ],
          [
           "Mauritania",
           1
          ]
         ],
         "hoverlabel": {
          "namelength": 0
         },
         "hovertemplate": "Country/Region=%{customdata[0]}<br>date=%{x}<br>Confirmed=%{y}<br>Deaths=%{customdata[1]}",
         "legendgroup": "Country/Region=Mauritania",
         "line": {
          "color": "#EF553B",
          "dash": "solid"
         },
         "mode": "lines",
         "name": "Country/Region=Mauritania",
         "showlegend": true,
         "type": "scattergl",
         "x": [
          "2020-03-14T00:00:00",
          "2020-03-15T00:00:00",
          "2020-03-16T00:00:00",
          "2020-03-17T00:00:00",
          "2020-03-18T00:00:00",
          "2020-03-19T00:00:00",
          "2020-03-20T00:00:00",
          "2020-03-21T00:00:00",
          "2020-03-22T00:00:00",
          "2020-03-23T00:00:00",
          "2020-03-24T00:00:00",
          "2020-03-25T00:00:00",
          "2020-03-26T00:00:00",
          "2020-03-27T00:00:00",
          "2020-03-28T00:00:00",
          "2020-03-29T00:00:00",
          "2020-03-30T00:00:00",
          "2020-03-31T00:00:00",
          "2020-04-01T00:00:00",
          "2020-04-02T00:00:00",
          "2020-04-03T00:00:00",
          "2020-04-04T00:00:00",
          "2020-04-05T00:00:00",
          "2020-04-06T00:00:00",
          "2020-04-07T00:00:00",
          "2020-04-08T00:00:00",
          "2020-04-09T00:00:00",
          "2020-04-10T00:00:00",
          "2020-04-11T00:00:00",
          "2020-04-12T00:00:00",
          "2020-04-13T00:00:00",
          "2020-04-14T00:00:00",
          "2020-04-15T00:00:00",
          "2020-04-16T00:00:00",
          "2020-04-17T00:00:00",
          "2020-04-18T00:00:00",
          "2020-04-19T00:00:00",
          "2020-04-20T00:00:00",
          "2020-04-21T00:00:00",
          "2020-04-22T00:00:00",
          "2020-04-23T00:00:00",
          "2020-04-24T00:00:00",
          "2020-04-25T00:00:00",
          "2020-04-26T00:00:00",
          "2020-04-27T00:00:00"
         ],
         "xaxis": "x",
         "y": [
          1,
          1,
          1,
          1,
          1,
          2,
          2,
          2,
          2,
          2,
          2,
          2,
          3,
          3,
          5,
          5,
          5,
          6,
          6,
          6,
          6,
          6,
          6,
          6,
          6,
          6,
          7,
          7,
          7,
          7,
          7,
          7,
          7,
          7,
          7,
          7,
          7,
          7,
          7,
          7,
          7,
          7,
          7,
          7,
          7
         ],
         "yaxis": "y"
        },
        {
         "customdata": [
          [
           "Rwanda",
           0
          ],
          [
           "Rwanda",
           0
          ],
          [
           "Rwanda",
           0
          ],
          [
           "Rwanda",
           0
          ],
          [
           "Rwanda",
           0
          ],
          [
           "Rwanda",
           0
          ],
          [
           "Rwanda",
           0
          ],
          [
           "Rwanda",
           0
          ],
          [
           "Rwanda",
           0
          ],
          [
           "Rwanda",
           0
          ],
          [
           "Rwanda",
           0
          ],
          [
           "Rwanda",
           0
          ],
          [
           "Rwanda",
           0
          ],
          [
           "Rwanda",
           0
          ],
          [
           "Rwanda",
           0
          ],
          [
           "Rwanda",
           0
          ],
          [
           "Rwanda",
           0
          ],
          [
           "Rwanda",
           0
          ],
          [
           "Rwanda",
           0
          ],
          [
           "Rwanda",
           0
          ],
          [
           "Rwanda",
           0
          ],
          [
           "Rwanda",
           0
          ],
          [
           "Rwanda",
           0
          ],
          [
           "Rwanda",
           0
          ],
          [
           "Rwanda",
           0
          ],
          [
           "Rwanda",
           0
          ],
          [
           "Rwanda",
           0
          ],
          [
           "Rwanda",
           0
          ],
          [
           "Rwanda",
           0
          ],
          [
           "Rwanda",
           0
          ],
          [
           "Rwanda",
           0
          ],
          [
           "Rwanda",
           0
          ],
          [
           "Rwanda",
           0
          ],
          [
           "Rwanda",
           0
          ],
          [
           "Rwanda",
           0
          ],
          [
           "Rwanda",
           0
          ],
          [
           "Rwanda",
           0
          ],
          [
           "Rwanda",
           0
          ],
          [
           "Rwanda",
           0
          ],
          [
           "Rwanda",
           0
          ],
          [
           "Rwanda",
           0
          ],
          [
           "Rwanda",
           0
          ],
          [
           "Rwanda",
           0
          ],
          [
           "Rwanda",
           0
          ],
          [
           "Rwanda",
           0
          ]
         ],
         "hoverlabel": {
          "namelength": 0
         },
         "hovertemplate": "Country/Region=%{customdata[0]}<br>date=%{x}<br>Confirmed=%{y}<br>Deaths=%{customdata[1]}",
         "legendgroup": "Country/Region=Rwanda",
         "line": {
          "color": "#00cc96",
          "dash": "solid"
         },
         "mode": "lines",
         "name": "Country/Region=Rwanda",
         "showlegend": true,
         "type": "scattergl",
         "x": [
          "2020-03-14T00:00:00",
          "2020-03-15T00:00:00",
          "2020-03-16T00:00:00",
          "2020-03-17T00:00:00",
          "2020-03-18T00:00:00",
          "2020-03-19T00:00:00",
          "2020-03-20T00:00:00",
          "2020-03-21T00:00:00",
          "2020-03-22T00:00:00",
          "2020-03-23T00:00:00",
          "2020-03-24T00:00:00",
          "2020-03-25T00:00:00",
          "2020-03-26T00:00:00",
          "2020-03-27T00:00:00",
          "2020-03-28T00:00:00",
          "2020-03-29T00:00:00",
          "2020-03-30T00:00:00",
          "2020-03-31T00:00:00",
          "2020-04-01T00:00:00",
          "2020-04-02T00:00:00",
          "2020-04-03T00:00:00",
          "2020-04-04T00:00:00",
          "2020-04-05T00:00:00",
          "2020-04-06T00:00:00",
          "2020-04-07T00:00:00",
          "2020-04-08T00:00:00",
          "2020-04-09T00:00:00",
          "2020-04-10T00:00:00",
          "2020-04-11T00:00:00",
          "2020-04-12T00:00:00",
          "2020-04-13T00:00:00",
          "2020-04-14T00:00:00",
          "2020-04-15T00:00:00",
          "2020-04-16T00:00:00",
          "2020-04-17T00:00:00",
          "2020-04-18T00:00:00",
          "2020-04-19T00:00:00",
          "2020-04-20T00:00:00",
          "2020-04-21T00:00:00",
          "2020-04-22T00:00:00",
          "2020-04-23T00:00:00",
          "2020-04-24T00:00:00",
          "2020-04-25T00:00:00",
          "2020-04-26T00:00:00",
          "2020-04-27T00:00:00"
         ],
         "xaxis": "x",
         "y": [
          1,
          1,
          5,
          7,
          8,
          8,
          17,
          17,
          19,
          36,
          40,
          41,
          50,
          54,
          60,
          70,
          70,
          75,
          82,
          84,
          89,
          102,
          104,
          105,
          105,
          110,
          110,
          118,
          120,
          126,
          127,
          134,
          136,
          138,
          143,
          144,
          147,
          147,
          150,
          153,
          154,
          176,
          183,
          191,
          207
         ],
         "yaxis": "y"
        },
        {
         "customdata": [
          [
           "Central African Republic",
           0
          ],
          [
           "Central African Republic",
           0
          ],
          [
           "Central African Republic",
           0
          ],
          [
           "Central African Republic",
           0
          ],
          [
           "Central African Republic",
           0
          ],
          [
           "Central African Republic",
           0
          ],
          [
           "Central African Republic",
           0
          ],
          [
           "Central African Republic",
           0
          ],
          [
           "Central African Republic",
           0
          ],
          [
           "Central African Republic",
           0
          ],
          [
           "Central African Republic",
           0
          ],
          [
           "Central African Republic",
           0
          ],
          [
           "Central African Republic",
           0
          ],
          [
           "Central African Republic",
           0
          ],
          [
           "Central African Republic",
           0
          ],
          [
           "Central African Republic",
           0
          ],
          [
           "Central African Republic",
           0
          ],
          [
           "Central African Republic",
           0
          ],
          [
           "Central African Republic",
           0
          ],
          [
           "Central African Republic",
           0
          ],
          [
           "Central African Republic",
           0
          ],
          [
           "Central African Republic",
           0
          ],
          [
           "Central African Republic",
           0
          ],
          [
           "Central African Republic",
           0
          ],
          [
           "Central African Republic",
           0
          ],
          [
           "Central African Republic",
           0
          ],
          [
           "Central African Republic",
           0
          ],
          [
           "Central African Republic",
           0
          ],
          [
           "Central African Republic",
           0
          ],
          [
           "Central African Republic",
           0
          ],
          [
           "Central African Republic",
           0
          ],
          [
           "Central African Republic",
           0
          ],
          [
           "Central African Republic",
           0
          ],
          [
           "Central African Republic",
           0
          ],
          [
           "Central African Republic",
           0
          ],
          [
           "Central African Republic",
           0
          ],
          [
           "Central African Republic",
           0
          ],
          [
           "Central African Republic",
           0
          ],
          [
           "Central African Republic",
           0
          ],
          [
           "Central African Republic",
           0
          ],
          [
           "Central African Republic",
           0
          ],
          [
           "Central African Republic",
           0
          ],
          [
           "Central African Republic",
           0
          ],
          [
           "Central African Republic",
           0
          ]
         ],
         "hoverlabel": {
          "namelength": 0
         },
         "hovertemplate": "Country/Region=%{customdata[0]}<br>date=%{x}<br>Confirmed=%{y}<br>Deaths=%{customdata[1]}",
         "legendgroup": "Country/Region=Central African Republic",
         "line": {
          "color": "#ab63fa",
          "dash": "solid"
         },
         "mode": "lines",
         "name": "Country/Region=Central African Republic",
         "showlegend": true,
         "type": "scattergl",
         "x": [
          "2020-03-15T00:00:00",
          "2020-03-16T00:00:00",
          "2020-03-17T00:00:00",
          "2020-03-18T00:00:00",
          "2020-03-19T00:00:00",
          "2020-03-20T00:00:00",
          "2020-03-21T00:00:00",
          "2020-03-22T00:00:00",
          "2020-03-23T00:00:00",
          "2020-03-24T00:00:00",
          "2020-03-25T00:00:00",
          "2020-03-26T00:00:00",
          "2020-03-27T00:00:00",
          "2020-03-28T00:00:00",
          "2020-03-29T00:00:00",
          "2020-03-30T00:00:00",
          "2020-03-31T00:00:00",
          "2020-04-01T00:00:00",
          "2020-04-02T00:00:00",
          "2020-04-03T00:00:00",
          "2020-04-04T00:00:00",
          "2020-04-05T00:00:00",
          "2020-04-06T00:00:00",
          "2020-04-07T00:00:00",
          "2020-04-08T00:00:00",
          "2020-04-09T00:00:00",
          "2020-04-10T00:00:00",
          "2020-04-11T00:00:00",
          "2020-04-12T00:00:00",
          "2020-04-13T00:00:00",
          "2020-04-14T00:00:00",
          "2020-04-15T00:00:00",
          "2020-04-16T00:00:00",
          "2020-04-17T00:00:00",
          "2020-04-18T00:00:00",
          "2020-04-19T00:00:00",
          "2020-04-20T00:00:00",
          "2020-04-21T00:00:00",
          "2020-04-22T00:00:00",
          "2020-04-23T00:00:00",
          "2020-04-24T00:00:00",
          "2020-04-25T00:00:00",
          "2020-04-26T00:00:00",
          "2020-04-27T00:00:00"
         ],
         "xaxis": "x",
         "y": [
          1,
          1,
          1,
          1,
          1,
          3,
          3,
          3,
          3,
          3,
          3,
          3,
          3,
          3,
          3,
          3,
          3,
          3,
          3,
          8,
          8,
          8,
          8,
          8,
          8,
          8,
          8,
          8,
          8,
          11,
          11,
          12,
          12,
          12,
          12,
          12,
          12,
          14,
          14,
          16,
          16,
          16,
          19,
          19
         ],
         "yaxis": "y"
        },
        {
         "customdata": [
          [
           "Congo (Brazzaville)",
           0
          ],
          [
           "Congo (Brazzaville)",
           0
          ],
          [
           "Congo (Brazzaville)",
           0
          ],
          [
           "Congo (Brazzaville)",
           0
          ],
          [
           "Congo (Brazzaville)",
           0
          ],
          [
           "Congo (Brazzaville)",
           0
          ],
          [
           "Congo (Brazzaville)",
           0
          ],
          [
           "Congo (Brazzaville)",
           0
          ],
          [
           "Congo (Brazzaville)",
           0
          ],
          [
           "Congo (Brazzaville)",
           0
          ],
          [
           "Congo (Brazzaville)",
           0
          ],
          [
           "Congo (Brazzaville)",
           0
          ],
          [
           "Congo (Brazzaville)",
           0
          ],
          [
           "Congo (Brazzaville)",
           0
          ],
          [
           "Congo (Brazzaville)",
           0
          ],
          [
           "Congo (Brazzaville)",
           0
          ],
          [
           "Congo (Brazzaville)",
           0
          ],
          [
           "Congo (Brazzaville)",
           0
          ],
          [
           "Congo (Brazzaville)",
           2
          ],
          [
           "Congo (Brazzaville)",
           2
          ],
          [
           "Congo (Brazzaville)",
           2
          ],
          [
           "Congo (Brazzaville)",
           5
          ],
          [
           "Congo (Brazzaville)",
           5
          ],
          [
           "Congo (Brazzaville)",
           5
          ],
          [
           "Congo (Brazzaville)",
           5
          ],
          [
           "Congo (Brazzaville)",
           5
          ],
          [
           "Congo (Brazzaville)",
           5
          ],
          [
           "Congo (Brazzaville)",
           5
          ],
          [
           "Congo (Brazzaville)",
           5
          ],
          [
           "Congo (Brazzaville)",
           5
          ],
          [
           "Congo (Brazzaville)",
           5
          ],
          [
           "Congo (Brazzaville)",
           5
          ],
          [
           "Congo (Brazzaville)",
           5
          ],
          [
           "Congo (Brazzaville)",
           6
          ],
          [
           "Congo (Brazzaville)",
           6
          ],
          [
           "Congo (Brazzaville)",
           6
          ],
          [
           "Congo (Brazzaville)",
           6
          ],
          [
           "Congo (Brazzaville)",
           6
          ],
          [
           "Congo (Brazzaville)",
           6
          ],
          [
           "Congo (Brazzaville)",
           6
          ],
          [
           "Congo (Brazzaville)",
           6
          ],
          [
           "Congo (Brazzaville)",
           6
          ],
          [
           "Congo (Brazzaville)",
           6
          ],
          [
           "Congo (Brazzaville)",
           6
          ]
         ],
         "hoverlabel": {
          "namelength": 0
         },
         "hovertemplate": "Country/Region=%{customdata[0]}<br>date=%{x}<br>Confirmed=%{y}<br>Deaths=%{customdata[1]}",
         "legendgroup": "Country/Region=Congo (Brazzaville)",
         "line": {
          "color": "#FFA15A",
          "dash": "solid"
         },
         "mode": "lines",
         "name": "Country/Region=Congo (Brazzaville)",
         "showlegend": true,
         "type": "scattergl",
         "x": [
          "2020-03-15T00:00:00",
          "2020-03-16T00:00:00",
          "2020-03-17T00:00:00",
          "2020-03-18T00:00:00",
          "2020-03-19T00:00:00",
          "2020-03-20T00:00:00",
          "2020-03-21T00:00:00",
          "2020-03-22T00:00:00",
          "2020-03-23T00:00:00",
          "2020-03-24T00:00:00",
          "2020-03-25T00:00:00",
          "2020-03-26T00:00:00",
          "2020-03-27T00:00:00",
          "2020-03-28T00:00:00",
          "2020-03-29T00:00:00",
          "2020-03-30T00:00:00",
          "2020-03-31T00:00:00",
          "2020-04-01T00:00:00",
          "2020-04-02T00:00:00",
          "2020-04-03T00:00:00",
          "2020-04-04T00:00:00",
          "2020-04-05T00:00:00",
          "2020-04-06T00:00:00",
          "2020-04-07T00:00:00",
          "2020-04-08T00:00:00",
          "2020-04-09T00:00:00",
          "2020-04-10T00:00:00",
          "2020-04-11T00:00:00",
          "2020-04-12T00:00:00",
          "2020-04-13T00:00:00",
          "2020-04-14T00:00:00",
          "2020-04-15T00:00:00",
          "2020-04-16T00:00:00",
          "2020-04-17T00:00:00",
          "2020-04-18T00:00:00",
          "2020-04-19T00:00:00",
          "2020-04-20T00:00:00",
          "2020-04-21T00:00:00",
          "2020-04-22T00:00:00",
          "2020-04-23T00:00:00",
          "2020-04-24T00:00:00",
          "2020-04-25T00:00:00",
          "2020-04-26T00:00:00",
          "2020-04-27T00:00:00"
         ],
         "xaxis": "x",
         "y": [
          1,
          1,
          1,
          1,
          3,
          3,
          3,
          3,
          4,
          4,
          4,
          4,
          4,
          4,
          19,
          19,
          19,
          19,
          22,
          22,
          22,
          45,
          45,
          45,
          45,
          60,
          60,
          60,
          60,
          60,
          60,
          117,
          117,
          143,
          143,
          143,
          160,
          165,
          186,
          186,
          200,
          200,
          200,
          200
         ],
         "yaxis": "y"
        },
        {
         "customdata": [
          [
           "Equatorial Guinea",
           0
          ],
          [
           "Equatorial Guinea",
           0
          ],
          [
           "Equatorial Guinea",
           0
          ],
          [
           "Equatorial Guinea",
           0
          ],
          [
           "Equatorial Guinea",
           0
          ],
          [
           "Equatorial Guinea",
           0
          ],
          [
           "Equatorial Guinea",
           0
          ],
          [
           "Equatorial Guinea",
           0
          ],
          [
           "Equatorial Guinea",
           0
          ],
          [
           "Equatorial Guinea",
           0
          ],
          [
           "Equatorial Guinea",
           0
          ],
          [
           "Equatorial Guinea",
           0
          ],
          [
           "Equatorial Guinea",
           0
          ],
          [
           "Equatorial Guinea",
           0
          ],
          [
           "Equatorial Guinea",
           0
          ],
          [
           "Equatorial Guinea",
           0
          ],
          [
           "Equatorial Guinea",
           0
          ],
          [
           "Equatorial Guinea",
           0
          ],
          [
           "Equatorial Guinea",
           0
          ],
          [
           "Equatorial Guinea",
           0
          ],
          [
           "Equatorial Guinea",
           0
          ],
          [
           "Equatorial Guinea",
           0
          ],
          [
           "Equatorial Guinea",
           0
          ],
          [
           "Equatorial Guinea",
           0
          ],
          [
           "Equatorial Guinea",
           0
          ],
          [
           "Equatorial Guinea",
           0
          ],
          [
           "Equatorial Guinea",
           0
          ],
          [
           "Equatorial Guinea",
           0
          ],
          [
           "Equatorial Guinea",
           0
          ],
          [
           "Equatorial Guinea",
           0
          ],
          [
           "Equatorial Guinea",
           0
          ],
          [
           "Equatorial Guinea",
           0
          ],
          [
           "Equatorial Guinea",
           0
          ],
          [
           "Equatorial Guinea",
           0
          ],
          [
           "Equatorial Guinea",
           0
          ],
          [
           "Equatorial Guinea",
           0
          ],
          [
           "Equatorial Guinea",
           0
          ],
          [
           "Equatorial Guinea",
           0
          ],
          [
           "Equatorial Guinea",
           1
          ],
          [
           "Equatorial Guinea",
           1
          ],
          [
           "Equatorial Guinea",
           1
          ],
          [
           "Equatorial Guinea",
           1
          ],
          [
           "Equatorial Guinea",
           1
          ],
          [
           "Equatorial Guinea",
           1
          ]
         ],
         "hoverlabel": {
          "namelength": 0
         },
         "hovertemplate": "Country/Region=%{customdata[0]}<br>date=%{x}<br>Confirmed=%{y}<br>Deaths=%{customdata[1]}",
         "legendgroup": "Country/Region=Equatorial Guinea",
         "line": {
          "color": "#19d3f3",
          "dash": "solid"
         },
         "mode": "lines",
         "name": "Country/Region=Equatorial Guinea",
         "showlegend": true,
         "type": "scattergl",
         "x": [
          "2020-03-15T00:00:00",
          "2020-03-16T00:00:00",
          "2020-03-17T00:00:00",
          "2020-03-18T00:00:00",
          "2020-03-19T00:00:00",
          "2020-03-20T00:00:00",
          "2020-03-21T00:00:00",
          "2020-03-22T00:00:00",
          "2020-03-23T00:00:00",
          "2020-03-24T00:00:00",
          "2020-03-25T00:00:00",
          "2020-03-26T00:00:00",
          "2020-03-27T00:00:00",
          "2020-03-28T00:00:00",
          "2020-03-29T00:00:00",
          "2020-03-30T00:00:00",
          "2020-03-31T00:00:00",
          "2020-04-01T00:00:00",
          "2020-04-02T00:00:00",
          "2020-04-03T00:00:00",
          "2020-04-04T00:00:00",
          "2020-04-05T00:00:00",
          "2020-04-06T00:00:00",
          "2020-04-07T00:00:00",
          "2020-04-08T00:00:00",
          "2020-04-09T00:00:00",
          "2020-04-10T00:00:00",
          "2020-04-11T00:00:00",
          "2020-04-12T00:00:00",
          "2020-04-13T00:00:00",
          "2020-04-14T00:00:00",
          "2020-04-15T00:00:00",
          "2020-04-16T00:00:00",
          "2020-04-17T00:00:00",
          "2020-04-18T00:00:00",
          "2020-04-19T00:00:00",
          "2020-04-20T00:00:00",
          "2020-04-21T00:00:00",
          "2020-04-22T00:00:00",
          "2020-04-23T00:00:00",
          "2020-04-24T00:00:00",
          "2020-04-25T00:00:00",
          "2020-04-26T00:00:00",
          "2020-04-27T00:00:00"
         ],
         "xaxis": "x",
         "y": [
          1,
          1,
          1,
          4,
          6,
          6,
          6,
          6,
          9,
          9,
          9,
          12,
          12,
          12,
          12,
          12,
          12,
          15,
          15,
          16,
          16,
          16,
          16,
          16,
          18,
          18,
          18,
          18,
          21,
          21,
          41,
          51,
          51,
          79,
          79,
          79,
          79,
          83,
          84,
          84,
          214,
          258,
          258,
          258
         ],
         "yaxis": "y"
        },
        {
         "customdata": [
          [
           "Benin",
           0
          ],
          [
           "Benin",
           0
          ],
          [
           "Benin",
           0
          ],
          [
           "Benin",
           0
          ],
          [
           "Benin",
           0
          ],
          [
           "Benin",
           0
          ],
          [
           "Benin",
           0
          ],
          [
           "Benin",
           0
          ],
          [
           "Benin",
           0
          ],
          [
           "Benin",
           0
          ],
          [
           "Benin",
           0
          ],
          [
           "Benin",
           0
          ],
          [
           "Benin",
           0
          ],
          [
           "Benin",
           0
          ],
          [
           "Benin",
           0
          ],
          [
           "Benin",
           0
          ],
          [
           "Benin",
           0
          ],
          [
           "Benin",
           0
          ],
          [
           "Benin",
           0
          ],
          [
           "Benin",
           0
          ],
          [
           "Benin",
           0
          ],
          [
           "Benin",
           1
          ],
          [
           "Benin",
           1
          ],
          [
           "Benin",
           1
          ],
          [
           "Benin",
           1
          ],
          [
           "Benin",
           1
          ],
          [
           "Benin",
           1
          ],
          [
           "Benin",
           1
          ],
          [
           "Benin",
           1
          ],
          [
           "Benin",
           1
          ],
          [
           "Benin",
           1
          ],
          [
           "Benin",
           1
          ],
          [
           "Benin",
           1
          ],
          [
           "Benin",
           1
          ],
          [
           "Benin",
           1
          ],
          [
           "Benin",
           1
          ],
          [
           "Benin",
           1
          ],
          [
           "Benin",
           1
          ],
          [
           "Benin",
           1
          ],
          [
           "Benin",
           1
          ],
          [
           "Benin",
           1
          ],
          [
           "Benin",
           1
          ],
          [
           "Benin",
           1
          ]
         ],
         "hoverlabel": {
          "namelength": 0
         },
         "hovertemplate": "Country/Region=%{customdata[0]}<br>date=%{x}<br>Confirmed=%{y}<br>Deaths=%{customdata[1]}",
         "legendgroup": "Country/Region=Benin",
         "line": {
          "color": "#FF6692",
          "dash": "solid"
         },
         "mode": "lines",
         "name": "Country/Region=Benin",
         "showlegend": true,
         "type": "scattergl",
         "x": [
          "2020-03-16T00:00:00",
          "2020-03-17T00:00:00",
          "2020-03-18T00:00:00",
          "2020-03-19T00:00:00",
          "2020-03-20T00:00:00",
          "2020-03-21T00:00:00",
          "2020-03-22T00:00:00",
          "2020-03-23T00:00:00",
          "2020-03-24T00:00:00",
          "2020-03-25T00:00:00",
          "2020-03-26T00:00:00",
          "2020-03-27T00:00:00",
          "2020-03-28T00:00:00",
          "2020-03-29T00:00:00",
          "2020-03-30T00:00:00",
          "2020-03-31T00:00:00",
          "2020-04-01T00:00:00",
          "2020-04-02T00:00:00",
          "2020-04-03T00:00:00",
          "2020-04-04T00:00:00",
          "2020-04-05T00:00:00",
          "2020-04-06T00:00:00",
          "2020-04-07T00:00:00",
          "2020-04-08T00:00:00",
          "2020-04-09T00:00:00",
          "2020-04-10T00:00:00",
          "2020-04-11T00:00:00",
          "2020-04-12T00:00:00",
          "2020-04-13T00:00:00",
          "2020-04-14T00:00:00",
          "2020-04-15T00:00:00",
          "2020-04-16T00:00:00",
          "2020-04-17T00:00:00",
          "2020-04-18T00:00:00",
          "2020-04-19T00:00:00",
          "2020-04-20T00:00:00",
          "2020-04-21T00:00:00",
          "2020-04-22T00:00:00",
          "2020-04-23T00:00:00",
          "2020-04-24T00:00:00",
          "2020-04-25T00:00:00",
          "2020-04-26T00:00:00",
          "2020-04-27T00:00:00"
         ],
         "xaxis": "x",
         "y": [
          1,
          1,
          2,
          2,
          2,
          2,
          2,
          5,
          6,
          6,
          6,
          6,
          6,
          6,
          6,
          9,
          13,
          13,
          16,
          16,
          22,
          26,
          26,
          26,
          26,
          35,
          35,
          35,
          35,
          35,
          35,
          35,
          35,
          35,
          35,
          54,
          54,
          54,
          54,
          54,
          54,
          64,
          64
         ],
         "yaxis": "y"
        },
        {
         "customdata": [
          [
           "Liberia",
           0
          ],
          [
           "Liberia",
           0
          ],
          [
           "Liberia",
           0
          ],
          [
           "Liberia",
           0
          ],
          [
           "Liberia",
           0
          ],
          [
           "Liberia",
           0
          ],
          [
           "Liberia",
           0
          ],
          [
           "Liberia",
           0
          ],
          [
           "Liberia",
           0
          ],
          [
           "Liberia",
           0
          ],
          [
           "Liberia",
           0
          ],
          [
           "Liberia",
           0
          ],
          [
           "Liberia",
           0
          ],
          [
           "Liberia",
           0
          ],
          [
           "Liberia",
           0
          ],
          [
           "Liberia",
           0
          ],
          [
           "Liberia",
           0
          ],
          [
           "Liberia",
           0
          ],
          [
           "Liberia",
           0
          ],
          [
           "Liberia",
           1
          ],
          [
           "Liberia",
           3
          ],
          [
           "Liberia",
           3
          ],
          [
           "Liberia",
           3
          ],
          [
           "Liberia",
           4
          ],
          [
           "Liberia",
           4
          ],
          [
           "Liberia",
           5
          ],
          [
           "Liberia",
           5
          ],
          [
           "Liberia",
           5
          ],
          [
           "Liberia",
           6
          ],
          [
           "Liberia",
           6
          ],
          [
           "Liberia",
           6
          ],
          [
           "Liberia",
           6
          ],
          [
           "Liberia",
           7
          ],
          [
           "Liberia",
           7
          ],
          [
           "Liberia",
           8
          ],
          [
           "Liberia",
           8
          ],
          [
           "Liberia",
           8
          ],
          [
           "Liberia",
           8
          ],
          [
           "Liberia",
           8
          ],
          [
           "Liberia",
           8
          ],
          [
           "Liberia",
           11
          ],
          [
           "Liberia",
           12
          ],
          [
           "Liberia",
           12
          ]
         ],
         "hoverlabel": {
          "namelength": 0
         },
         "hovertemplate": "Country/Region=%{customdata[0]}<br>date=%{x}<br>Confirmed=%{y}<br>Deaths=%{customdata[1]}",
         "legendgroup": "Country/Region=Liberia",
         "line": {
          "color": "#B6E880",
          "dash": "solid"
         },
         "mode": "lines",
         "name": "Country/Region=Liberia",
         "showlegend": true,
         "type": "scattergl",
         "x": [
          "2020-03-16T00:00:00",
          "2020-03-17T00:00:00",
          "2020-03-18T00:00:00",
          "2020-03-19T00:00:00",
          "2020-03-20T00:00:00",
          "2020-03-21T00:00:00",
          "2020-03-22T00:00:00",
          "2020-03-23T00:00:00",
          "2020-03-24T00:00:00",
          "2020-03-25T00:00:00",
          "2020-03-26T00:00:00",
          "2020-03-27T00:00:00",
          "2020-03-28T00:00:00",
          "2020-03-29T00:00:00",
          "2020-03-30T00:00:00",
          "2020-03-31T00:00:00",
          "2020-04-01T00:00:00",
          "2020-04-02T00:00:00",
          "2020-04-03T00:00:00",
          "2020-04-04T00:00:00",
          "2020-04-05T00:00:00",
          "2020-04-06T00:00:00",
          "2020-04-07T00:00:00",
          "2020-04-08T00:00:00",
          "2020-04-09T00:00:00",
          "2020-04-10T00:00:00",
          "2020-04-11T00:00:00",
          "2020-04-12T00:00:00",
          "2020-04-13T00:00:00",
          "2020-04-14T00:00:00",
          "2020-04-15T00:00:00",
          "2020-04-16T00:00:00",
          "2020-04-17T00:00:00",
          "2020-04-18T00:00:00",
          "2020-04-19T00:00:00",
          "2020-04-20T00:00:00",
          "2020-04-21T00:00:00",
          "2020-04-22T00:00:00",
          "2020-04-23T00:00:00",
          "2020-04-24T00:00:00",
          "2020-04-25T00:00:00",
          "2020-04-26T00:00:00",
          "2020-04-27T00:00:00"
         ],
         "xaxis": "x",
         "y": [
          1,
          1,
          2,
          2,
          2,
          3,
          3,
          3,
          3,
          3,
          3,
          3,
          3,
          3,
          3,
          3,
          6,
          6,
          7,
          10,
          13,
          14,
          14,
          31,
          31,
          37,
          48,
          50,
          59,
          59,
          59,
          59,
          76,
          76,
          91,
          99,
          101,
          101,
          101,
          117,
          120,
          124,
          124
         ],
         "yaxis": "y"
        },
        {
         "customdata": [
          [
           "Republic of the Congo",
           0
          ],
          [
           "Republic of the Congo",
           0
          ],
          [
           "Republic of the Congo",
           0
          ],
          [
           "Republic of the Congo",
           0
          ],
          [
           "Republic of the Congo",
           0
          ],
          [
           "Republic of the Congo",
           0
          ]
         ],
         "hoverlabel": {
          "namelength": 0
         },
         "hovertemplate": "Country/Region=%{customdata[0]}<br>date=%{x}<br>Confirmed=%{y}<br>Deaths=%{customdata[1]}",
         "legendgroup": "Country/Region=Republic of the Congo",
         "line": {
          "color": "#FF97FF",
          "dash": "solid"
         },
         "mode": "lines",
         "name": "Country/Region=Republic of the Congo",
         "showlegend": true,
         "type": "scattergl",
         "x": [
          "2020-03-16T00:00:00",
          "2020-03-17T00:00:00",
          "2020-03-18T00:00:00",
          "2020-03-19T00:00:00",
          "2020-03-20T00:00:00",
          "2020-03-21T00:00:00"
         ],
         "xaxis": "x",
         "y": [
          1,
          0,
          0,
          0,
          0,
          0
         ],
         "yaxis": "y"
        },
        {
         "customdata": [
          [
           "Somalia",
           0
          ],
          [
           "Somalia",
           0
          ],
          [
           "Somalia",
           0
          ],
          [
           "Somalia",
           0
          ],
          [
           "Somalia",
           0
          ],
          [
           "Somalia",
           0
          ],
          [
           "Somalia",
           0
          ],
          [
           "Somalia",
           0
          ],
          [
           "Somalia",
           0
          ],
          [
           "Somalia",
           0
          ],
          [
           "Somalia",
           0
          ],
          [
           "Somalia",
           0
          ],
          [
           "Somalia",
           0
          ],
          [
           "Somalia",
           0
          ],
          [
           "Somalia",
           0
          ],
          [
           "Somalia",
           0
          ],
          [
           "Somalia",
           0
          ],
          [
           "Somalia",
           0
          ],
          [
           "Somalia",
           0
          ],
          [
           "Somalia",
           0
          ],
          [
           "Somalia",
           0
          ],
          [
           "Somalia",
           0
          ],
          [
           "Somalia",
           0
          ],
          [
           "Somalia",
           1
          ],
          [
           "Somalia",
           1
          ],
          [
           "Somalia",
           1
          ],
          [
           "Somalia",
           1
          ],
          [
           "Somalia",
           1
          ],
          [
           "Somalia",
           2
          ],
          [
           "Somalia",
           2
          ],
          [
           "Somalia",
           5
          ],
          [
           "Somalia",
           5
          ],
          [
           "Somalia",
           6
          ],
          [
           "Somalia",
           7
          ],
          [
           "Somalia",
           7
          ],
          [
           "Somalia",
           8
          ],
          [
           "Somalia",
           8
          ],
          [
           "Somalia",
           8
          ],
          [
           "Somalia",
           16
          ],
          [
           "Somalia",
           16
          ],
          [
           "Somalia",
           18
          ],
          [
           "Somalia",
           23
          ],
          [
           "Somalia",
           26
          ]
         ],
         "hoverlabel": {
          "namelength": 0
         },
         "hovertemplate": "Country/Region=%{customdata[0]}<br>date=%{x}<br>Confirmed=%{y}<br>Deaths=%{customdata[1]}",
         "legendgroup": "Country/Region=Somalia",
         "line": {
          "color": "#FECB52",
          "dash": "solid"
         },
         "mode": "lines",
         "name": "Country/Region=Somalia",
         "showlegend": true,
         "type": "scattergl",
         "x": [
          "2020-03-16T00:00:00",
          "2020-03-17T00:00:00",
          "2020-03-18T00:00:00",
          "2020-03-19T00:00:00",
          "2020-03-20T00:00:00",
          "2020-03-21T00:00:00",
          "2020-03-22T00:00:00",
          "2020-03-23T00:00:00",
          "2020-03-24T00:00:00",
          "2020-03-25T00:00:00",
          "2020-03-26T00:00:00",
          "2020-03-27T00:00:00",
          "2020-03-28T00:00:00",
          "2020-03-29T00:00:00",
          "2020-03-30T00:00:00",
          "2020-03-31T00:00:00",
          "2020-04-01T00:00:00",
          "2020-04-02T00:00:00",
          "2020-04-03T00:00:00",
          "2020-04-04T00:00:00",
          "2020-04-05T00:00:00",
          "2020-04-06T00:00:00",
          "2020-04-07T00:00:00",
          "2020-04-08T00:00:00",
          "2020-04-09T00:00:00",
          "2020-04-10T00:00:00",
          "2020-04-11T00:00:00",
          "2020-04-12T00:00:00",
          "2020-04-13T00:00:00",
          "2020-04-14T00:00:00",
          "2020-04-15T00:00:00",
          "2020-04-16T00:00:00",
          "2020-04-17T00:00:00",
          "2020-04-18T00:00:00",
          "2020-04-19T00:00:00",
          "2020-04-20T00:00:00",
          "2020-04-21T00:00:00",
          "2020-04-22T00:00:00",
          "2020-04-23T00:00:00",
          "2020-04-24T00:00:00",
          "2020-04-25T00:00:00",
          "2020-04-26T00:00:00",
          "2020-04-27T00:00:00"
         ],
         "xaxis": "x",
         "y": [
          1,
          1,
          1,
          1,
          1,
          1,
          1,
          1,
          1,
          1,
          2,
          3,
          3,
          3,
          3,
          5,
          5,
          5,
          7,
          7,
          7,
          7,
          8,
          12,
          12,
          21,
          21,
          25,
          60,
          60,
          80,
          80,
          116,
          135,
          164,
          237,
          286,
          286,
          328,
          328,
          390,
          436,
          480
         ],
         "yaxis": "y"
        },
        {
         "customdata": [
          [
           "Tanzania",
           0
          ],
          [
           "Tanzania",
           0
          ],
          [
           "Tanzania",
           0
          ],
          [
           "Tanzania",
           0
          ],
          [
           "Tanzania",
           0
          ],
          [
           "Tanzania",
           0
          ],
          [
           "Tanzania",
           0
          ],
          [
           "Tanzania",
           0
          ],
          [
           "Tanzania",
           0
          ],
          [
           "Tanzania",
           0
          ],
          [
           "Tanzania",
           0
          ],
          [
           "Tanzania",
           0
          ],
          [
           "Tanzania",
           0
          ],
          [
           "Tanzania",
           0
          ],
          [
           "Tanzania",
           0
          ],
          [
           "Tanzania",
           1
          ],
          [
           "Tanzania",
           1
          ],
          [
           "Tanzania",
           1
          ],
          [
           "Tanzania",
           1
          ],
          [
           "Tanzania",
           1
          ],
          [
           "Tanzania",
           1
          ],
          [
           "Tanzania",
           1
          ],
          [
           "Tanzania",
           1
          ],
          [
           "Tanzania",
           1
          ],
          [
           "Tanzania",
           1
          ],
          [
           "Tanzania",
           3
          ],
          [
           "Tanzania",
           3
          ],
          [
           "Tanzania",
           3
          ],
          [
           "Tanzania",
           3
          ],
          [
           "Tanzania",
           3
          ],
          [
           "Tanzania",
           4
          ],
          [
           "Tanzania",
           4
          ],
          [
           "Tanzania",
           5
          ],
          [
           "Tanzania",
           5
          ],
          [
           "Tanzania",
           7
          ],
          [
           "Tanzania",
           10
          ],
          [
           "Tanzania",
           10
          ],
          [
           "Tanzania",
           10
          ],
          [
           "Tanzania",
           10
          ],
          [
           "Tanzania",
           10
          ],
          [
           "Tanzania",
           10
          ],
          [
           "Tanzania",
           10
          ],
          [
           "Tanzania",
           10
          ]
         ],
         "hoverlabel": {
          "namelength": 0
         },
         "hovertemplate": "Country/Region=%{customdata[0]}<br>date=%{x}<br>Confirmed=%{y}<br>Deaths=%{customdata[1]}",
         "legendgroup": "Country/Region=Tanzania",
         "line": {
          "color": "#636efa",
          "dash": "solid"
         },
         "mode": "lines",
         "name": "Country/Region=Tanzania",
         "showlegend": true,
         "type": "scattergl",
         "x": [
          "2020-03-16T00:00:00",
          "2020-03-17T00:00:00",
          "2020-03-18T00:00:00",
          "2020-03-19T00:00:00",
          "2020-03-20T00:00:00",
          "2020-03-21T00:00:00",
          "2020-03-22T00:00:00",
          "2020-03-23T00:00:00",
          "2020-03-24T00:00:00",
          "2020-03-25T00:00:00",
          "2020-03-26T00:00:00",
          "2020-03-27T00:00:00",
          "2020-03-28T00:00:00",
          "2020-03-29T00:00:00",
          "2020-03-30T00:00:00",
          "2020-03-31T00:00:00",
          "2020-04-01T00:00:00",
          "2020-04-02T00:00:00",
          "2020-04-03T00:00:00",
          "2020-04-04T00:00:00",
          "2020-04-05T00:00:00",
          "2020-04-06T00:00:00",
          "2020-04-07T00:00:00",
          "2020-04-08T00:00:00",
          "2020-04-09T00:00:00",
          "2020-04-10T00:00:00",
          "2020-04-11T00:00:00",
          "2020-04-12T00:00:00",
          "2020-04-13T00:00:00",
          "2020-04-14T00:00:00",
          "2020-04-15T00:00:00",
          "2020-04-16T00:00:00",
          "2020-04-17T00:00:00",
          "2020-04-18T00:00:00",
          "2020-04-19T00:00:00",
          "2020-04-20T00:00:00",
          "2020-04-21T00:00:00",
          "2020-04-22T00:00:00",
          "2020-04-23T00:00:00",
          "2020-04-24T00:00:00",
          "2020-04-25T00:00:00",
          "2020-04-26T00:00:00",
          "2020-04-27T00:00:00"
         ],
         "xaxis": "x",
         "y": [
          1,
          1,
          3,
          6,
          6,
          6,
          12,
          12,
          12,
          12,
          13,
          13,
          14,
          14,
          19,
          19,
          20,
          20,
          20,
          20,
          22,
          24,
          24,
          25,
          25,
          32,
          32,
          32,
          49,
          53,
          88,
          94,
          147,
          147,
          170,
          254,
          254,
          284,
          284,
          299,
          299,
          299,
          299
         ],
         "yaxis": "y"
        },
        {
         "customdata": [
          [
           "Mauritius",
           0
          ],
          [
           "Mauritius",
           0
          ],
          [
           "Mauritius",
           0
          ],
          [
           "Mauritius",
           1
          ],
          [
           "Mauritius",
           2
          ],
          [
           "Mauritius",
           2
          ],
          [
           "Mauritius",
           2
          ],
          [
           "Mauritius",
           2
          ],
          [
           "Mauritius",
           2
          ],
          [
           "Mauritius",
           2
          ],
          [
           "Mauritius",
           2
          ],
          [
           "Mauritius",
           3
          ],
          [
           "Mauritius",
           3
          ],
          [
           "Mauritius",
           5
          ],
          [
           "Mauritius",
           6
          ],
          [
           "Mauritius",
           7
          ],
          [
           "Mauritius",
           7
          ],
          [
           "Mauritius",
           7
          ],
          [
           "Mauritius",
           7
          ],
          [
           "Mauritius",
           7
          ],
          [
           "Mauritius",
           7
          ],
          [
           "Mauritius",
           7
          ],
          [
           "Mauritius",
           7
          ],
          [
           "Mauritius",
           9
          ],
          [
           "Mauritius",
           9
          ],
          [
           "Mauritius",
           9
          ],
          [
           "Mauritius",
           9
          ],
          [
           "Mauritius",
           9
          ],
          [
           "Mauritius",
           9
          ],
          [
           "Mauritius",
           9
          ],
          [
           "Mauritius",
           9
          ],
          [
           "Mauritius",
           9
          ],
          [
           "Mauritius",
           9
          ],
          [
           "Mauritius",
           9
          ],
          [
           "Mauritius",
           9
          ],
          [
           "Mauritius",
           9
          ],
          [
           "Mauritius",
           9
          ],
          [
           "Mauritius",
           9
          ],
          [
           "Mauritius",
           9
          ],
          [
           "Mauritius",
           9
          ],
          [
           "Mauritius",
           10
          ]
         ],
         "hoverlabel": {
          "namelength": 0
         },
         "hovertemplate": "Country/Region=%{customdata[0]}<br>date=%{x}<br>Confirmed=%{y}<br>Deaths=%{customdata[1]}",
         "legendgroup": "Country/Region=Mauritius",
         "line": {
          "color": "#EF553B",
          "dash": "solid"
         },
         "mode": "lines",
         "name": "Country/Region=Mauritius",
         "showlegend": true,
         "type": "scattergl",
         "x": [
          "2020-03-18T00:00:00",
          "2020-03-19T00:00:00",
          "2020-03-20T00:00:00",
          "2020-03-21T00:00:00",
          "2020-03-22T00:00:00",
          "2020-03-23T00:00:00",
          "2020-03-24T00:00:00",
          "2020-03-25T00:00:00",
          "2020-03-26T00:00:00",
          "2020-03-27T00:00:00",
          "2020-03-28T00:00:00",
          "2020-03-29T00:00:00",
          "2020-03-30T00:00:00",
          "2020-03-31T00:00:00",
          "2020-04-01T00:00:00",
          "2020-04-02T00:00:00",
          "2020-04-03T00:00:00",
          "2020-04-04T00:00:00",
          "2020-04-05T00:00:00",
          "2020-04-06T00:00:00",
          "2020-04-07T00:00:00",
          "2020-04-08T00:00:00",
          "2020-04-09T00:00:00",
          "2020-04-10T00:00:00",
          "2020-04-11T00:00:00",
          "2020-04-12T00:00:00",
          "2020-04-13T00:00:00",
          "2020-04-14T00:00:00",
          "2020-04-15T00:00:00",
          "2020-04-16T00:00:00",
          "2020-04-17T00:00:00",
          "2020-04-18T00:00:00",
          "2020-04-19T00:00:00",
          "2020-04-20T00:00:00",
          "2020-04-21T00:00:00",
          "2020-04-22T00:00:00",
          "2020-04-23T00:00:00",
          "2020-04-24T00:00:00",
          "2020-04-25T00:00:00",
          "2020-04-26T00:00:00",
          "2020-04-27T00:00:00"
         ],
         "xaxis": "x",
         "y": [
          3,
          3,
          12,
          14,
          28,
          36,
          42,
          48,
          81,
          94,
          102,
          107,
          128,
          143,
          161,
          169,
          186,
          196,
          227,
          244,
          268,
          273,
          314,
          318,
          319,
          324,
          324,
          324,
          324,
          324,
          324,
          325,
          328,
          328,
          328,
          329,
          331,
          331,
          331,
          332,
          334
         ],
         "yaxis": "y"
        },
        {
         "customdata": [
          [
           "Zambia",
           0
          ],
          [
           "Zambia",
           0
          ],
          [
           "Zambia",
           0
          ],
          [
           "Zambia",
           0
          ],
          [
           "Zambia",
           0
          ],
          [
           "Zambia",
           0
          ],
          [
           "Zambia",
           0
          ],
          [
           "Zambia",
           0
          ],
          [
           "Zambia",
           0
          ],
          [
           "Zambia",
           0
          ],
          [
           "Zambia",
           0
          ],
          [
           "Zambia",
           0
          ],
          [
           "Zambia",
           0
          ],
          [
           "Zambia",
           0
          ],
          [
           "Zambia",
           0
          ],
          [
           "Zambia",
           1
          ],
          [
           "Zambia",
           1
          ],
          [
           "Zambia",
           1
          ],
          [
           "Zambia",
           1
          ],
          [
           "Zambia",
           1
          ],
          [
           "Zambia",
           1
          ],
          [
           "Zambia",
           1
          ],
          [
           "Zambia",
           1
          ],
          [
           "Zambia",
           2
          ],
          [
           "Zambia",
           2
          ],
          [
           "Zambia",
           2
          ],
          [
           "Zambia",
           2
          ],
          [
           "Zambia",
           2
          ],
          [
           "Zambia",
           2
          ],
          [
           "Zambia",
           2
          ],
          [
           "Zambia",
           2
          ],
          [
           "Zambia",
           2
          ],
          [
           "Zambia",
           3
          ],
          [
           "Zambia",
           3
          ],
          [
           "Zambia",
           3
          ],
          [
           "Zambia",
           3
          ],
          [
           "Zambia",
           3
          ],
          [
           "Zambia",
           3
          ],
          [
           "Zambia",
           3
          ],
          [
           "Zambia",
           3
          ],
          [
           "Zambia",
           3
          ]
         ],
         "hoverlabel": {
          "namelength": 0
         },
         "hovertemplate": "Country/Region=%{customdata[0]}<br>date=%{x}<br>Confirmed=%{y}<br>Deaths=%{customdata[1]}",
         "legendgroup": "Country/Region=Zambia",
         "line": {
          "color": "#00cc96",
          "dash": "solid"
         },
         "mode": "lines",
         "name": "Country/Region=Zambia",
         "showlegend": true,
         "type": "scattergl",
         "x": [
          "2020-03-18T00:00:00",
          "2020-03-19T00:00:00",
          "2020-03-20T00:00:00",
          "2020-03-21T00:00:00",
          "2020-03-22T00:00:00",
          "2020-03-23T00:00:00",
          "2020-03-24T00:00:00",
          "2020-03-25T00:00:00",
          "2020-03-26T00:00:00",
          "2020-03-27T00:00:00",
          "2020-03-28T00:00:00",
          "2020-03-29T00:00:00",
          "2020-03-30T00:00:00",
          "2020-03-31T00:00:00",
          "2020-04-01T00:00:00",
          "2020-04-02T00:00:00",
          "2020-04-03T00:00:00",
          "2020-04-04T00:00:00",
          "2020-04-05T00:00:00",
          "2020-04-06T00:00:00",
          "2020-04-07T00:00:00",
          "2020-04-08T00:00:00",
          "2020-04-09T00:00:00",
          "2020-04-10T00:00:00",
          "2020-04-11T00:00:00",
          "2020-04-12T00:00:00",
          "2020-04-13T00:00:00",
          "2020-04-14T00:00:00",
          "2020-04-15T00:00:00",
          "2020-04-16T00:00:00",
          "2020-04-17T00:00:00",
          "2020-04-18T00:00:00",
          "2020-04-19T00:00:00",
          "2020-04-20T00:00:00",
          "2020-04-21T00:00:00",
          "2020-04-22T00:00:00",
          "2020-04-23T00:00:00",
          "2020-04-24T00:00:00",
          "2020-04-25T00:00:00",
          "2020-04-26T00:00:00",
          "2020-04-27T00:00:00"
         ],
         "xaxis": "x",
         "y": [
          2,
          2,
          2,
          2,
          3,
          3,
          3,
          12,
          16,
          22,
          28,
          29,
          35,
          35,
          36,
          39,
          39,
          39,
          39,
          39,
          39,
          39,
          39,
          40,
          40,
          43,
          45,
          45,
          48,
          48,
          52,
          57,
          61,
          65,
          70,
          74,
          76,
          84,
          84,
          88,
          88
         ],
         "yaxis": "y"
        },
        {
         "customdata": [
          [
           "Djibouti",
           0
          ],
          [
           "Djibouti",
           0
          ],
          [
           "Djibouti",
           0
          ],
          [
           "Djibouti",
           0
          ],
          [
           "Djibouti",
           0
          ],
          [
           "Djibouti",
           0
          ],
          [
           "Djibouti",
           0
          ],
          [
           "Djibouti",
           0
          ],
          [
           "Djibouti",
           0
          ],
          [
           "Djibouti",
           0
          ],
          [
           "Djibouti",
           0
          ],
          [
           "Djibouti",
           0
          ],
          [
           "Djibouti",
           0
          ],
          [
           "Djibouti",
           0
          ],
          [
           "Djibouti",
           0
          ],
          [
           "Djibouti",
           0
          ],
          [
           "Djibouti",
           0
          ],
          [
           "Djibouti",
           0
          ],
          [
           "Djibouti",
           0
          ],
          [
           "Djibouti",
           0
          ],
          [
           "Djibouti",
           0
          ],
          [
           "Djibouti",
           0
          ],
          [
           "Djibouti",
           0
          ],
          [
           "Djibouti",
           1
          ],
          [
           "Djibouti",
           2
          ],
          [
           "Djibouti",
           2
          ],
          [
           "Djibouti",
           2
          ],
          [
           "Djibouti",
           2
          ],
          [
           "Djibouti",
           2
          ],
          [
           "Djibouti",
           2
          ],
          [
           "Djibouti",
           2
          ],
          [
           "Djibouti",
           2
          ],
          [
           "Djibouti",
           2
          ],
          [
           "Djibouti",
           2
          ],
          [
           "Djibouti",
           2
          ],
          [
           "Djibouti",
           2
          ],
          [
           "Djibouti",
           2
          ],
          [
           "Djibouti",
           2
          ],
          [
           "Djibouti",
           2
          ],
          [
           "Djibouti",
           2
          ],
          [
           "Djibouti",
           2
          ]
         ],
         "hoverlabel": {
          "namelength": 0
         },
         "hovertemplate": "Country/Region=%{customdata[0]}<br>date=%{x}<br>Confirmed=%{y}<br>Deaths=%{customdata[1]}",
         "legendgroup": "Country/Region=Djibouti",
         "line": {
          "color": "#ab63fa",
          "dash": "solid"
         },
         "mode": "lines",
         "name": "Country/Region=Djibouti",
         "showlegend": true,
         "type": "scattergl",
         "x": [
          "2020-03-18T00:00:00",
          "2020-03-19T00:00:00",
          "2020-03-20T00:00:00",
          "2020-03-21T00:00:00",
          "2020-03-22T00:00:00",
          "2020-03-23T00:00:00",
          "2020-03-24T00:00:00",
          "2020-03-25T00:00:00",
          "2020-03-26T00:00:00",
          "2020-03-27T00:00:00",
          "2020-03-28T00:00:00",
          "2020-03-29T00:00:00",
          "2020-03-30T00:00:00",
          "2020-03-31T00:00:00",
          "2020-04-01T00:00:00",
          "2020-04-02T00:00:00",
          "2020-04-03T00:00:00",
          "2020-04-04T00:00:00",
          "2020-04-05T00:00:00",
          "2020-04-06T00:00:00",
          "2020-04-07T00:00:00",
          "2020-04-08T00:00:00",
          "2020-04-09T00:00:00",
          "2020-04-10T00:00:00",
          "2020-04-11T00:00:00",
          "2020-04-12T00:00:00",
          "2020-04-13T00:00:00",
          "2020-04-14T00:00:00",
          "2020-04-15T00:00:00",
          "2020-04-16T00:00:00",
          "2020-04-17T00:00:00",
          "2020-04-18T00:00:00",
          "2020-04-19T00:00:00",
          "2020-04-20T00:00:00",
          "2020-04-21T00:00:00",
          "2020-04-22T00:00:00",
          "2020-04-23T00:00:00",
          "2020-04-24T00:00:00",
          "2020-04-25T00:00:00",
          "2020-04-26T00:00:00",
          "2020-04-27T00:00:00"
         ],
         "xaxis": "x",
         "y": [
          1,
          1,
          1,
          1,
          1,
          3,
          3,
          11,
          11,
          12,
          14,
          18,
          18,
          30,
          33,
          40,
          49,
          50,
          59,
          90,
          90,
          135,
          135,
          150,
          187,
          214,
          298,
          363,
          435,
          591,
          732,
          732,
          846,
          846,
          945,
          974,
          986,
          999,
          1008,
          1023,
          1035
         ],
         "yaxis": "y"
        },
        {
         "customdata": [
          [
           "Gambia, The",
           0
          ],
          [
           "Gambia, The",
           0
          ],
          [
           "Gambia, The",
           0
          ],
          [
           "Gambia, The",
           0
          ]
         ],
         "hoverlabel": {
          "namelength": 0
         },
         "hovertemplate": "Country/Region=%{customdata[0]}<br>date=%{x}<br>Confirmed=%{y}<br>Deaths=%{customdata[1]}",
         "legendgroup": "Country/Region=Gambia, The",
         "line": {
          "color": "#FFA15A",
          "dash": "solid"
         },
         "mode": "lines",
         "name": "Country/Region=Gambia, The",
         "showlegend": true,
         "type": "scattergl",
         "x": [
          "2020-03-18T00:00:00",
          "2020-03-19T00:00:00",
          "2020-03-20T00:00:00",
          "2020-03-21T00:00:00"
         ],
         "xaxis": "x",
         "y": [
          1,
          1,
          1,
          1
         ],
         "yaxis": "y"
        },
        {
         "customdata": [
          [
           "Chad",
           0
          ],
          [
           "Chad",
           0
          ],
          [
           "Chad",
           0
          ],
          [
           "Chad",
           0
          ],
          [
           "Chad",
           0
          ],
          [
           "Chad",
           0
          ],
          [
           "Chad",
           0
          ],
          [
           "Chad",
           0
          ],
          [
           "Chad",
           0
          ],
          [
           "Chad",
           0
          ],
          [
           "Chad",
           0
          ],
          [
           "Chad",
           0
          ],
          [
           "Chad",
           0
          ],
          [
           "Chad",
           0
          ],
          [
           "Chad",
           0
          ],
          [
           "Chad",
           0
          ],
          [
           "Chad",
           0
          ],
          [
           "Chad",
           0
          ],
          [
           "Chad",
           0
          ],
          [
           "Chad",
           0
          ],
          [
           "Chad",
           0
          ],
          [
           "Chad",
           0
          ],
          [
           "Chad",
           0
          ],
          [
           "Chad",
           0
          ],
          [
           "Chad",
           0
          ],
          [
           "Chad",
           0
          ],
          [
           "Chad",
           0
          ],
          [
           "Chad",
           0
          ],
          [
           "Chad",
           0
          ],
          [
           "Chad",
           0
          ],
          [
           "Chad",
           0
          ],
          [
           "Chad",
           0
          ],
          [
           "Chad",
           0
          ],
          [
           "Chad",
           0
          ],
          [
           "Chad",
           0
          ],
          [
           "Chad",
           0
          ],
          [
           "Chad",
           0
          ],
          [
           "Chad",
           0
          ],
          [
           "Chad",
           0
          ],
          [
           "Chad",
           0
          ]
         ],
         "hoverlabel": {
          "namelength": 0
         },
         "hovertemplate": "Country/Region=%{customdata[0]}<br>date=%{x}<br>Confirmed=%{y}<br>Deaths=%{customdata[1]}",
         "legendgroup": "Country/Region=Chad",
         "line": {
          "color": "#19d3f3",
          "dash": "solid"
         },
         "mode": "lines",
         "name": "Country/Region=Chad",
         "showlegend": true,
         "type": "scattergl",
         "x": [
          "2020-03-19T00:00:00",
          "2020-03-20T00:00:00",
          "2020-03-21T00:00:00",
          "2020-03-22T00:00:00",
          "2020-03-23T00:00:00",
          "2020-03-24T00:00:00",
          "2020-03-25T00:00:00",
          "2020-03-26T00:00:00",
          "2020-03-27T00:00:00",
          "2020-03-28T00:00:00",
          "2020-03-29T00:00:00",
          "2020-03-30T00:00:00",
          "2020-03-31T00:00:00",
          "2020-04-01T00:00:00",
          "2020-04-02T00:00:00",
          "2020-04-03T00:00:00",
          "2020-04-04T00:00:00",
          "2020-04-05T00:00:00",
          "2020-04-06T00:00:00",
          "2020-04-07T00:00:00",
          "2020-04-08T00:00:00",
          "2020-04-09T00:00:00",
          "2020-04-10T00:00:00",
          "2020-04-11T00:00:00",
          "2020-04-12T00:00:00",
          "2020-04-13T00:00:00",
          "2020-04-14T00:00:00",
          "2020-04-15T00:00:00",
          "2020-04-16T00:00:00",
          "2020-04-17T00:00:00",
          "2020-04-18T00:00:00",
          "2020-04-19T00:00:00",
          "2020-04-20T00:00:00",
          "2020-04-21T00:00:00",
          "2020-04-22T00:00:00",
          "2020-04-23T00:00:00",
          "2020-04-24T00:00:00",
          "2020-04-25T00:00:00",
          "2020-04-26T00:00:00",
          "2020-04-27T00:00:00"
         ],
         "xaxis": "x",
         "y": [
          1,
          1,
          1,
          1,
          1,
          3,
          3,
          3,
          3,
          3,
          3,
          5,
          7,
          7,
          8,
          8,
          9,
          9,
          9,
          10,
          10,
          11,
          11,
          11,
          18,
          23,
          23,
          23,
          27,
          27,
          33,
          33,
          33,
          33,
          33,
          33,
          40,
          46,
          46,
          46
         ],
         "yaxis": "y"
        },
        {
         "customdata": [
          [
           "Madagascar",
           0
          ],
          [
           "Madagascar",
           0
          ],
          [
           "Madagascar",
           0
          ],
          [
           "Madagascar",
           0
          ],
          [
           "Madagascar",
           0
          ],
          [
           "Madagascar",
           0
          ],
          [
           "Madagascar",
           0
          ],
          [
           "Madagascar",
           0
          ],
          [
           "Madagascar",
           0
          ],
          [
           "Madagascar",
           0
          ],
          [
           "Madagascar",
           0
          ],
          [
           "Madagascar",
           0
          ],
          [
           "Madagascar",
           0
          ],
          [
           "Madagascar",
           0
          ],
          [
           "Madagascar",
           0
          ],
          [
           "Madagascar",
           0
          ],
          [
           "Madagascar",
           0
          ],
          [
           "Madagascar",
           0
          ],
          [
           "Madagascar",
           0
          ],
          [
           "Madagascar",
           0
          ],
          [
           "Madagascar",
           0
          ],
          [
           "Madagascar",
           0
          ],
          [
           "Madagascar",
           0
          ],
          [
           "Madagascar",
           0
          ],
          [
           "Madagascar",
           0
          ],
          [
           "Madagascar",
           0
          ],
          [
           "Madagascar",
           0
          ],
          [
           "Madagascar",
           0
          ],
          [
           "Madagascar",
           0
          ],
          [
           "Madagascar",
           0
          ],
          [
           "Madagascar",
           0
          ],
          [
           "Madagascar",
           0
          ],
          [
           "Madagascar",
           0
          ],
          [
           "Madagascar",
           0
          ],
          [
           "Madagascar",
           0
          ],
          [
           "Madagascar",
           0
          ],
          [
           "Madagascar",
           0
          ],
          [
           "Madagascar",
           0
          ],
          [
           "Madagascar",
           0
          ]
         ],
         "hoverlabel": {
          "namelength": 0
         },
         "hovertemplate": "Country/Region=%{customdata[0]}<br>date=%{x}<br>Confirmed=%{y}<br>Deaths=%{customdata[1]}",
         "legendgroup": "Country/Region=Madagascar",
         "line": {
          "color": "#FF6692",
          "dash": "solid"
         },
         "mode": "lines",
         "name": "Country/Region=Madagascar",
         "showlegend": true,
         "type": "scattergl",
         "x": [
          "2020-03-20T00:00:00",
          "2020-03-21T00:00:00",
          "2020-03-22T00:00:00",
          "2020-03-23T00:00:00",
          "2020-03-24T00:00:00",
          "2020-03-25T00:00:00",
          "2020-03-26T00:00:00",
          "2020-03-27T00:00:00",
          "2020-03-28T00:00:00",
          "2020-03-29T00:00:00",
          "2020-03-30T00:00:00",
          "2020-03-31T00:00:00",
          "2020-04-01T00:00:00",
          "2020-04-02T00:00:00",
          "2020-04-03T00:00:00",
          "2020-04-04T00:00:00",
          "2020-04-05T00:00:00",
          "2020-04-06T00:00:00",
          "2020-04-07T00:00:00",
          "2020-04-08T00:00:00",
          "2020-04-09T00:00:00",
          "2020-04-10T00:00:00",
          "2020-04-11T00:00:00",
          "2020-04-12T00:00:00",
          "2020-04-13T00:00:00",
          "2020-04-14T00:00:00",
          "2020-04-15T00:00:00",
          "2020-04-16T00:00:00",
          "2020-04-17T00:00:00",
          "2020-04-18T00:00:00",
          "2020-04-19T00:00:00",
          "2020-04-20T00:00:00",
          "2020-04-21T00:00:00",
          "2020-04-22T00:00:00",
          "2020-04-23T00:00:00",
          "2020-04-24T00:00:00",
          "2020-04-25T00:00:00",
          "2020-04-26T00:00:00",
          "2020-04-27T00:00:00"
         ],
         "xaxis": "x",
         "y": [
          3,
          3,
          3,
          12,
          17,
          19,
          23,
          26,
          26,
          39,
          43,
          57,
          57,
          59,
          70,
          70,
          72,
          82,
          88,
          93,
          93,
          93,
          102,
          106,
          106,
          108,
          110,
          111,
          117,
          120,
          121,
          121,
          121,
          121,
          121,
          122,
          123,
          124,
          128
         ],
         "yaxis": "y"
        },
        {
         "customdata": [
          [
           "Angola",
           0
          ],
          [
           "Angola",
           0
          ],
          [
           "Angola",
           0
          ],
          [
           "Angola",
           0
          ],
          [
           "Angola",
           0
          ],
          [
           "Angola",
           0
          ],
          [
           "Angola",
           0
          ],
          [
           "Angola",
           0
          ],
          [
           "Angola",
           0
          ],
          [
           "Angola",
           2
          ],
          [
           "Angola",
           2
          ],
          [
           "Angola",
           2
          ],
          [
           "Angola",
           2
          ],
          [
           "Angola",
           2
          ],
          [
           "Angola",
           2
          ],
          [
           "Angola",
           2
          ],
          [
           "Angola",
           2
          ],
          [
           "Angola",
           2
          ],
          [
           "Angola",
           2
          ],
          [
           "Angola",
           2
          ],
          [
           "Angola",
           2
          ],
          [
           "Angola",
           2
          ],
          [
           "Angola",
           2
          ],
          [
           "Angola",
           2
          ],
          [
           "Angola",
           2
          ],
          [
           "Angola",
           2
          ],
          [
           "Angola",
           2
          ],
          [
           "Angola",
           2
          ],
          [
           "Angola",
           2
          ],
          [
           "Angola",
           2
          ],
          [
           "Angola",
           2
          ],
          [
           "Angola",
           2
          ],
          [
           "Angola",
           2
          ],
          [
           "Angola",
           2
          ],
          [
           "Angola",
           2
          ],
          [
           "Angola",
           2
          ],
          [
           "Angola",
           2
          ],
          [
           "Angola",
           2
          ],
          [
           "Angola",
           2
          ]
         ],
         "hoverlabel": {
          "namelength": 0
         },
         "hovertemplate": "Country/Region=%{customdata[0]}<br>date=%{x}<br>Confirmed=%{y}<br>Deaths=%{customdata[1]}",
         "legendgroup": "Country/Region=Angola",
         "line": {
          "color": "#B6E880",
          "dash": "solid"
         },
         "mode": "lines",
         "name": "Country/Region=Angola",
         "showlegend": true,
         "type": "scattergl",
         "x": [
          "2020-03-20T00:00:00",
          "2020-03-21T00:00:00",
          "2020-03-22T00:00:00",
          "2020-03-23T00:00:00",
          "2020-03-24T00:00:00",
          "2020-03-25T00:00:00",
          "2020-03-26T00:00:00",
          "2020-03-27T00:00:00",
          "2020-03-28T00:00:00",
          "2020-03-29T00:00:00",
          "2020-03-30T00:00:00",
          "2020-03-31T00:00:00",
          "2020-04-01T00:00:00",
          "2020-04-02T00:00:00",
          "2020-04-03T00:00:00",
          "2020-04-04T00:00:00",
          "2020-04-05T00:00:00",
          "2020-04-06T00:00:00",
          "2020-04-07T00:00:00",
          "2020-04-08T00:00:00",
          "2020-04-09T00:00:00",
          "2020-04-10T00:00:00",
          "2020-04-11T00:00:00",
          "2020-04-12T00:00:00",
          "2020-04-13T00:00:00",
          "2020-04-14T00:00:00",
          "2020-04-15T00:00:00",
          "2020-04-16T00:00:00",
          "2020-04-17T00:00:00",
          "2020-04-18T00:00:00",
          "2020-04-19T00:00:00",
          "2020-04-20T00:00:00",
          "2020-04-21T00:00:00",
          "2020-04-22T00:00:00",
          "2020-04-23T00:00:00",
          "2020-04-24T00:00:00",
          "2020-04-25T00:00:00",
          "2020-04-26T00:00:00",
          "2020-04-27T00:00:00"
         ],
         "xaxis": "x",
         "y": [
          1,
          2,
          2,
          3,
          3,
          3,
          4,
          4,
          5,
          7,
          7,
          7,
          8,
          8,
          8,
          10,
          14,
          16,
          17,
          19,
          19,
          19,
          19,
          19,
          19,
          19,
          19,
          19,
          19,
          24,
          24,
          24,
          24,
          25,
          25,
          25,
          25,
          26,
          27
         ],
         "yaxis": "y"
        },
        {
         "customdata": [
          [
           "Cabo Verde",
           0
          ],
          [
           "Cabo Verde",
           0
          ],
          [
           "Cabo Verde",
           0
          ],
          [
           "Cabo Verde",
           0
          ],
          [
           "Cabo Verde",
           1
          ],
          [
           "Cabo Verde",
           1
          ],
          [
           "Cabo Verde",
           1
          ],
          [
           "Cabo Verde",
           1
          ],
          [
           "Cabo Verde",
           1
          ],
          [
           "Cabo Verde",
           1
          ],
          [
           "Cabo Verde",
           1
          ],
          [
           "Cabo Verde",
           1
          ],
          [
           "Cabo Verde",
           1
          ],
          [
           "Cabo Verde",
           1
          ],
          [
           "Cabo Verde",
           1
          ],
          [
           "Cabo Verde",
           1
          ],
          [
           "Cabo Verde",
           1
          ],
          [
           "Cabo Verde",
           1
          ],
          [
           "Cabo Verde",
           1
          ],
          [
           "Cabo Verde",
           1
          ],
          [
           "Cabo Verde",
           1
          ],
          [
           "Cabo Verde",
           1
          ],
          [
           "Cabo Verde",
           1
          ],
          [
           "Cabo Verde",
           1
          ],
          [
           "Cabo Verde",
           1
          ],
          [
           "Cabo Verde",
           1
          ],
          [
           "Cabo Verde",
           1
          ],
          [
           "Cabo Verde",
           1
          ],
          [
           "Cabo Verde",
           1
          ],
          [
           "Cabo Verde",
           1
          ],
          [
           "Cabo Verde",
           1
          ],
          [
           "Cabo Verde",
           1
          ],
          [
           "Cabo Verde",
           1
          ],
          [
           "Cabo Verde",
           1
          ],
          [
           "Cabo Verde",
           1
          ],
          [
           "Cabo Verde",
           1
          ],
          [
           "Cabo Verde",
           1
          ],
          [
           "Cabo Verde",
           1
          ],
          [
           "Cabo Verde",
           1
          ]
         ],
         "hoverlabel": {
          "namelength": 0
         },
         "hovertemplate": "Country/Region=%{customdata[0]}<br>date=%{x}<br>Confirmed=%{y}<br>Deaths=%{customdata[1]}",
         "legendgroup": "Country/Region=Cabo Verde",
         "line": {
          "color": "#FF97FF",
          "dash": "solid"
         },
         "mode": "lines",
         "name": "Country/Region=Cabo Verde",
         "showlegend": true,
         "type": "scattergl",
         "x": [
          "2020-03-20T00:00:00",
          "2020-03-21T00:00:00",
          "2020-03-22T00:00:00",
          "2020-03-23T00:00:00",
          "2020-03-24T00:00:00",
          "2020-03-25T00:00:00",
          "2020-03-26T00:00:00",
          "2020-03-27T00:00:00",
          "2020-03-28T00:00:00",
          "2020-03-29T00:00:00",
          "2020-03-30T00:00:00",
          "2020-03-31T00:00:00",
          "2020-04-01T00:00:00",
          "2020-04-02T00:00:00",
          "2020-04-03T00:00:00",
          "2020-04-04T00:00:00",
          "2020-04-05T00:00:00",
          "2020-04-06T00:00:00",
          "2020-04-07T00:00:00",
          "2020-04-08T00:00:00",
          "2020-04-09T00:00:00",
          "2020-04-10T00:00:00",
          "2020-04-11T00:00:00",
          "2020-04-12T00:00:00",
          "2020-04-13T00:00:00",
          "2020-04-14T00:00:00",
          "2020-04-15T00:00:00",
          "2020-04-16T00:00:00",
          "2020-04-17T00:00:00",
          "2020-04-18T00:00:00",
          "2020-04-19T00:00:00",
          "2020-04-20T00:00:00",
          "2020-04-21T00:00:00",
          "2020-04-22T00:00:00",
          "2020-04-23T00:00:00",
          "2020-04-24T00:00:00",
          "2020-04-25T00:00:00",
          "2020-04-26T00:00:00",
          "2020-04-27T00:00:00"
         ],
         "xaxis": "x",
         "y": [
          1,
          3,
          3,
          3,
          3,
          4,
          4,
          5,
          5,
          6,
          6,
          6,
          6,
          6,
          6,
          7,
          7,
          7,
          7,
          7,
          7,
          7,
          8,
          8,
          10,
          11,
          56,
          56,
          56,
          58,
          61,
          67,
          68,
          73,
          82,
          88,
          90,
          106,
          109
         ],
         "yaxis": "y"
        },
        {
         "customdata": [
          [
           "Niger",
           0
          ],
          [
           "Niger",
           0
          ],
          [
           "Niger",
           0
          ],
          [
           "Niger",
           0
          ],
          [
           "Niger",
           0
          ],
          [
           "Niger",
           1
          ],
          [
           "Niger",
           1
          ],
          [
           "Niger",
           1
          ],
          [
           "Niger",
           1
          ],
          [
           "Niger",
           1
          ],
          [
           "Niger",
           3
          ],
          [
           "Niger",
           3
          ],
          [
           "Niger",
           5
          ],
          [
           "Niger",
           5
          ],
          [
           "Niger",
           5
          ],
          [
           "Niger",
           8
          ],
          [
           "Niger",
           10
          ],
          [
           "Niger",
           10
          ],
          [
           "Niger",
           11
          ],
          [
           "Niger",
           11
          ],
          [
           "Niger",
           11
          ],
          [
           "Niger",
           11
          ],
          [
           "Niger",
           11
          ],
          [
           "Niger",
           12
          ],
          [
           "Niger",
           12
          ],
          [
           "Niger",
           14
          ],
          [
           "Niger",
           14
          ],
          [
           "Niger",
           14
          ],
          [
           "Niger",
           18
          ],
          [
           "Niger",
           19
          ],
          [
           "Niger",
           20
          ],
          [
           "Niger",
           20
          ],
          [
           "Niger",
           20
          ],
          [
           "Niger",
           22
          ],
          [
           "Niger",
           24
          ],
          [
           "Niger",
           24
          ],
          [
           "Niger",
           27
          ],
          [
           "Niger",
           29
          ],
          [
           "Niger",
           29
          ]
         ],
         "hoverlabel": {
          "namelength": 0
         },
         "hovertemplate": "Country/Region=%{customdata[0]}<br>date=%{x}<br>Confirmed=%{y}<br>Deaths=%{customdata[1]}",
         "legendgroup": "Country/Region=Niger",
         "line": {
          "color": "#FECB52",
          "dash": "solid"
         },
         "mode": "lines",
         "name": "Country/Region=Niger",
         "showlegend": true,
         "type": "scattergl",
         "x": [
          "2020-03-20T00:00:00",
          "2020-03-21T00:00:00",
          "2020-03-22T00:00:00",
          "2020-03-23T00:00:00",
          "2020-03-24T00:00:00",
          "2020-03-25T00:00:00",
          "2020-03-26T00:00:00",
          "2020-03-27T00:00:00",
          "2020-03-28T00:00:00",
          "2020-03-29T00:00:00",
          "2020-03-30T00:00:00",
          "2020-03-31T00:00:00",
          "2020-04-01T00:00:00",
          "2020-04-02T00:00:00",
          "2020-04-03T00:00:00",
          "2020-04-04T00:00:00",
          "2020-04-05T00:00:00",
          "2020-04-06T00:00:00",
          "2020-04-07T00:00:00",
          "2020-04-08T00:00:00",
          "2020-04-09T00:00:00",
          "2020-04-10T00:00:00",
          "2020-04-11T00:00:00",
          "2020-04-12T00:00:00",
          "2020-04-13T00:00:00",
          "2020-04-14T00:00:00",
          "2020-04-15T00:00:00",
          "2020-04-16T00:00:00",
          "2020-04-17T00:00:00",
          "2020-04-18T00:00:00",
          "2020-04-19T00:00:00",
          "2020-04-20T00:00:00",
          "2020-04-21T00:00:00",
          "2020-04-22T00:00:00",
          "2020-04-23T00:00:00",
          "2020-04-24T00:00:00",
          "2020-04-25T00:00:00",
          "2020-04-26T00:00:00",
          "2020-04-27T00:00:00"
         ],
         "xaxis": "x",
         "y": [
          1,
          1,
          2,
          3,
          3,
          7,
          10,
          10,
          10,
          18,
          27,
          27,
          74,
          98,
          120,
          144,
          184,
          253,
          278,
          342,
          410,
          438,
          491,
          529,
          529,
          570,
          584,
          584,
          627,
          639,
          648,
          648,
          657,
          662,
          671,
          681,
          684,
          696,
          701
         ],
         "yaxis": "y"
        },
        {
         "customdata": [
          [
           "Zimbabwe",
           0
          ],
          [
           "Zimbabwe",
           0
          ],
          [
           "Zimbabwe",
           0
          ],
          [
           "Zimbabwe",
           1
          ],
          [
           "Zimbabwe",
           1
          ],
          [
           "Zimbabwe",
           1
          ],
          [
           "Zimbabwe",
           1
          ],
          [
           "Zimbabwe",
           1
          ],
          [
           "Zimbabwe",
           1
          ],
          [
           "Zimbabwe",
           1
          ],
          [
           "Zimbabwe",
           1
          ],
          [
           "Zimbabwe",
           1
          ],
          [
           "Zimbabwe",
           1
          ],
          [
           "Zimbabwe",
           1
          ],
          [
           "Zimbabwe",
           1
          ],
          [
           "Zimbabwe",
           1
          ],
          [
           "Zimbabwe",
           1
          ],
          [
           "Zimbabwe",
           1
          ],
          [
           "Zimbabwe",
           2
          ],
          [
           "Zimbabwe",
           3
          ],
          [
           "Zimbabwe",
           3
          ],
          [
           "Zimbabwe",
           3
          ],
          [
           "Zimbabwe",
           3
          ],
          [
           "Zimbabwe",
           3
          ],
          [
           "Zimbabwe",
           3
          ],
          [
           "Zimbabwe",
           3
          ],
          [
           "Zimbabwe",
           3
          ],
          [
           "Zimbabwe",
           3
          ],
          [
           "Zimbabwe",
           3
          ],
          [
           "Zimbabwe",
           3
          ],
          [
           "Zimbabwe",
           3
          ],
          [
           "Zimbabwe",
           3
          ],
          [
           "Zimbabwe",
           3
          ],
          [
           "Zimbabwe",
           4
          ],
          [
           "Zimbabwe",
           4
          ],
          [
           "Zimbabwe",
           4
          ],
          [
           "Zimbabwe",
           4
          ],
          [
           "Zimbabwe",
           4
          ],
          [
           "Zimbabwe",
           4
          ]
         ],
         "hoverlabel": {
          "namelength": 0
         },
         "hovertemplate": "Country/Region=%{customdata[0]}<br>date=%{x}<br>Confirmed=%{y}<br>Deaths=%{customdata[1]}",
         "legendgroup": "Country/Region=Zimbabwe",
         "line": {
          "color": "#636efa",
          "dash": "solid"
         },
         "mode": "lines",
         "name": "Country/Region=Zimbabwe",
         "showlegend": true,
         "type": "scattergl",
         "x": [
          "2020-03-20T00:00:00",
          "2020-03-21T00:00:00",
          "2020-03-22T00:00:00",
          "2020-03-23T00:00:00",
          "2020-03-24T00:00:00",
          "2020-03-25T00:00:00",
          "2020-03-26T00:00:00",
          "2020-03-27T00:00:00",
          "2020-03-28T00:00:00",
          "2020-03-29T00:00:00",
          "2020-03-30T00:00:00",
          "2020-03-31T00:00:00",
          "2020-04-01T00:00:00",
          "2020-04-02T00:00:00",
          "2020-04-03T00:00:00",
          "2020-04-04T00:00:00",
          "2020-04-05T00:00:00",
          "2020-04-06T00:00:00",
          "2020-04-07T00:00:00",
          "2020-04-08T00:00:00",
          "2020-04-09T00:00:00",
          "2020-04-10T00:00:00",
          "2020-04-11T00:00:00",
          "2020-04-12T00:00:00",
          "2020-04-13T00:00:00",
          "2020-04-14T00:00:00",
          "2020-04-15T00:00:00",
          "2020-04-16T00:00:00",
          "2020-04-17T00:00:00",
          "2020-04-18T00:00:00",
          "2020-04-19T00:00:00",
          "2020-04-20T00:00:00",
          "2020-04-21T00:00:00",
          "2020-04-22T00:00:00",
          "2020-04-23T00:00:00",
          "2020-04-24T00:00:00",
          "2020-04-25T00:00:00",
          "2020-04-26T00:00:00",
          "2020-04-27T00:00:00"
         ],
         "xaxis": "x",
         "y": [
          1,
          3,
          3,
          3,
          3,
          3,
          3,
          5,
          7,
          7,
          7,
          8,
          8,
          9,
          9,
          9,
          9,
          10,
          11,
          11,
          11,
          13,
          14,
          14,
          17,
          17,
          23,
          23,
          24,
          25,
          25,
          25,
          28,
          28,
          28,
          29,
          31,
          31,
          32
         ],
         "yaxis": "y"
        },
        {
         "customdata": [
          [
           "Eritrea",
           0
          ],
          [
           "Eritrea",
           0
          ],
          [
           "Eritrea",
           0
          ],
          [
           "Eritrea",
           0
          ],
          [
           "Eritrea",
           0
          ],
          [
           "Eritrea",
           0
          ],
          [
           "Eritrea",
           0
          ],
          [
           "Eritrea",
           0
          ],
          [
           "Eritrea",
           0
          ],
          [
           "Eritrea",
           0
          ],
          [
           "Eritrea",
           0
          ],
          [
           "Eritrea",
           0
          ],
          [
           "Eritrea",
           0
          ],
          [
           "Eritrea",
           0
          ],
          [
           "Eritrea",
           0
          ],
          [
           "Eritrea",
           0
          ],
          [
           "Eritrea",
           0
          ],
          [
           "Eritrea",
           0
          ],
          [
           "Eritrea",
           0
          ],
          [
           "Eritrea",
           0
          ],
          [
           "Eritrea",
           0
          ],
          [
           "Eritrea",
           0
          ],
          [
           "Eritrea",
           0
          ],
          [
           "Eritrea",
           0
          ],
          [
           "Eritrea",
           0
          ],
          [
           "Eritrea",
           0
          ],
          [
           "Eritrea",
           0
          ],
          [
           "Eritrea",
           0
          ],
          [
           "Eritrea",
           0
          ],
          [
           "Eritrea",
           0
          ],
          [
           "Eritrea",
           0
          ],
          [
           "Eritrea",
           0
          ],
          [
           "Eritrea",
           0
          ],
          [
           "Eritrea",
           0
          ],
          [
           "Eritrea",
           0
          ],
          [
           "Eritrea",
           0
          ],
          [
           "Eritrea",
           0
          ],
          [
           "Eritrea",
           0
          ]
         ],
         "hoverlabel": {
          "namelength": 0
         },
         "hovertemplate": "Country/Region=%{customdata[0]}<br>date=%{x}<br>Confirmed=%{y}<br>Deaths=%{customdata[1]}",
         "legendgroup": "Country/Region=Eritrea",
         "line": {
          "color": "#EF553B",
          "dash": "solid"
         },
         "mode": "lines",
         "name": "Country/Region=Eritrea",
         "showlegend": true,
         "type": "scattergl",
         "x": [
          "2020-03-21T00:00:00",
          "2020-03-22T00:00:00",
          "2020-03-23T00:00:00",
          "2020-03-24T00:00:00",
          "2020-03-25T00:00:00",
          "2020-03-26T00:00:00",
          "2020-03-27T00:00:00",
          "2020-03-28T00:00:00",
          "2020-03-29T00:00:00",
          "2020-03-30T00:00:00",
          "2020-03-31T00:00:00",
          "2020-04-01T00:00:00",
          "2020-04-02T00:00:00",
          "2020-04-03T00:00:00",
          "2020-04-04T00:00:00",
          "2020-04-05T00:00:00",
          "2020-04-06T00:00:00",
          "2020-04-07T00:00:00",
          "2020-04-08T00:00:00",
          "2020-04-09T00:00:00",
          "2020-04-10T00:00:00",
          "2020-04-11T00:00:00",
          "2020-04-12T00:00:00",
          "2020-04-13T00:00:00",
          "2020-04-14T00:00:00",
          "2020-04-15T00:00:00",
          "2020-04-16T00:00:00",
          "2020-04-17T00:00:00",
          "2020-04-18T00:00:00",
          "2020-04-19T00:00:00",
          "2020-04-20T00:00:00",
          "2020-04-21T00:00:00",
          "2020-04-22T00:00:00",
          "2020-04-23T00:00:00",
          "2020-04-24T00:00:00",
          "2020-04-25T00:00:00",
          "2020-04-26T00:00:00",
          "2020-04-27T00:00:00"
         ],
         "xaxis": "x",
         "y": [
          1,
          1,
          1,
          1,
          4,
          6,
          6,
          6,
          12,
          12,
          15,
          15,
          22,
          22,
          29,
          29,
          31,
          31,
          33,
          33,
          34,
          34,
          34,
          34,
          34,
          35,
          35,
          35,
          39,
          39,
          39,
          39,
          39,
          39,
          39,
          39,
          39,
          39
         ],
         "yaxis": "y"
        },
        {
         "customdata": [
          [
           "Uganda",
           0
          ],
          [
           "Uganda",
           0
          ],
          [
           "Uganda",
           0
          ],
          [
           "Uganda",
           0
          ],
          [
           "Uganda",
           0
          ],
          [
           "Uganda",
           0
          ],
          [
           "Uganda",
           0
          ],
          [
           "Uganda",
           0
          ],
          [
           "Uganda",
           0
          ],
          [
           "Uganda",
           0
          ],
          [
           "Uganda",
           0
          ],
          [
           "Uganda",
           0
          ],
          [
           "Uganda",
           0
          ],
          [
           "Uganda",
           0
          ],
          [
           "Uganda",
           0
          ],
          [
           "Uganda",
           0
          ],
          [
           "Uganda",
           0
          ],
          [
           "Uganda",
           0
          ],
          [
           "Uganda",
           0
          ],
          [
           "Uganda",
           0
          ],
          [
           "Uganda",
           0
          ],
          [
           "Uganda",
           0
          ],
          [
           "Uganda",
           0
          ],
          [
           "Uganda",
           0
          ],
          [
           "Uganda",
           0
          ],
          [
           "Uganda",
           0
          ],
          [
           "Uganda",
           0
          ],
          [
           "Uganda",
           0
          ],
          [
           "Uganda",
           0
          ],
          [
           "Uganda",
           0
          ],
          [
           "Uganda",
           0
          ],
          [
           "Uganda",
           0
          ],
          [
           "Uganda",
           0
          ],
          [
           "Uganda",
           0
          ],
          [
           "Uganda",
           0
          ],
          [
           "Uganda",
           0
          ],
          [
           "Uganda",
           0
          ],
          [
           "Uganda",
           0
          ]
         ],
         "hoverlabel": {
          "namelength": 0
         },
         "hovertemplate": "Country/Region=%{customdata[0]}<br>date=%{x}<br>Confirmed=%{y}<br>Deaths=%{customdata[1]}",
         "legendgroup": "Country/Region=Uganda",
         "line": {
          "color": "#00cc96",
          "dash": "solid"
         },
         "mode": "lines",
         "name": "Country/Region=Uganda",
         "showlegend": true,
         "type": "scattergl",
         "x": [
          "2020-03-21T00:00:00",
          "2020-03-22T00:00:00",
          "2020-03-23T00:00:00",
          "2020-03-24T00:00:00",
          "2020-03-25T00:00:00",
          "2020-03-26T00:00:00",
          "2020-03-27T00:00:00",
          "2020-03-28T00:00:00",
          "2020-03-29T00:00:00",
          "2020-03-30T00:00:00",
          "2020-03-31T00:00:00",
          "2020-04-01T00:00:00",
          "2020-04-02T00:00:00",
          "2020-04-03T00:00:00",
          "2020-04-04T00:00:00",
          "2020-04-05T00:00:00",
          "2020-04-06T00:00:00",
          "2020-04-07T00:00:00",
          "2020-04-08T00:00:00",
          "2020-04-09T00:00:00",
          "2020-04-10T00:00:00",
          "2020-04-11T00:00:00",
          "2020-04-12T00:00:00",
          "2020-04-13T00:00:00",
          "2020-04-14T00:00:00",
          "2020-04-15T00:00:00",
          "2020-04-16T00:00:00",
          "2020-04-17T00:00:00",
          "2020-04-18T00:00:00",
          "2020-04-19T00:00:00",
          "2020-04-20T00:00:00",
          "2020-04-21T00:00:00",
          "2020-04-22T00:00:00",
          "2020-04-23T00:00:00",
          "2020-04-24T00:00:00",
          "2020-04-25T00:00:00",
          "2020-04-26T00:00:00",
          "2020-04-27T00:00:00"
         ],
         "xaxis": "x",
         "y": [
          1,
          1,
          9,
          9,
          14,
          14,
          23,
          30,
          33,
          33,
          44,
          44,
          45,
          48,
          48,
          52,
          52,
          52,
          53,
          53,
          53,
          53,
          54,
          54,
          55,
          55,
          55,
          56,
          55,
          55,
          56,
          61,
          63,
          74,
          75,
          75,
          79,
          79
         ],
         "yaxis": "y"
        },
        {
         "customdata": [
          [
           "Gambia",
           0
          ],
          [
           "Gambia",
           1
          ],
          [
           "Gambia",
           1
          ],
          [
           "Gambia",
           1
          ],
          [
           "Gambia",
           1
          ],
          [
           "Gambia",
           1
          ],
          [
           "Gambia",
           1
          ],
          [
           "Gambia",
           1
          ],
          [
           "Gambia",
           1
          ],
          [
           "Gambia",
           1
          ],
          [
           "Gambia",
           1
          ],
          [
           "Gambia",
           1
          ],
          [
           "Gambia",
           1
          ],
          [
           "Gambia",
           1
          ],
          [
           "Gambia",
           1
          ],
          [
           "Gambia",
           1
          ],
          [
           "Gambia",
           1
          ],
          [
           "Gambia",
           1
          ],
          [
           "Gambia",
           1
          ],
          [
           "Gambia",
           1
          ],
          [
           "Gambia",
           1
          ],
          [
           "Gambia",
           1
          ],
          [
           "Gambia",
           1
          ],
          [
           "Gambia",
           1
          ],
          [
           "Gambia",
           1
          ],
          [
           "Gambia",
           1
          ],
          [
           "Gambia",
           1
          ],
          [
           "Gambia",
           1
          ],
          [
           "Gambia",
           1
          ],
          [
           "Gambia",
           1
          ],
          [
           "Gambia",
           1
          ],
          [
           "Gambia",
           1
          ],
          [
           "Gambia",
           1
          ],
          [
           "Gambia",
           1
          ],
          [
           "Gambia",
           1
          ],
          [
           "Gambia",
           1
          ],
          [
           "Gambia",
           1
          ]
         ],
         "hoverlabel": {
          "namelength": 0
         },
         "hovertemplate": "Country/Region=%{customdata[0]}<br>date=%{x}<br>Confirmed=%{y}<br>Deaths=%{customdata[1]}",
         "legendgroup": "Country/Region=Gambia",
         "line": {
          "color": "#ab63fa",
          "dash": "solid"
         },
         "mode": "lines",
         "name": "Country/Region=Gambia",
         "showlegend": true,
         "type": "scattergl",
         "x": [
          "2020-03-22T00:00:00",
          "2020-03-23T00:00:00",
          "2020-03-24T00:00:00",
          "2020-03-25T00:00:00",
          "2020-03-26T00:00:00",
          "2020-03-27T00:00:00",
          "2020-03-28T00:00:00",
          "2020-03-29T00:00:00",
          "2020-03-30T00:00:00",
          "2020-03-31T00:00:00",
          "2020-04-01T00:00:00",
          "2020-04-02T00:00:00",
          "2020-04-03T00:00:00",
          "2020-04-04T00:00:00",
          "2020-04-05T00:00:00",
          "2020-04-06T00:00:00",
          "2020-04-07T00:00:00",
          "2020-04-08T00:00:00",
          "2020-04-09T00:00:00",
          "2020-04-10T00:00:00",
          "2020-04-11T00:00:00",
          "2020-04-12T00:00:00",
          "2020-04-13T00:00:00",
          "2020-04-14T00:00:00",
          "2020-04-15T00:00:00",
          "2020-04-16T00:00:00",
          "2020-04-17T00:00:00",
          "2020-04-18T00:00:00",
          "2020-04-19T00:00:00",
          "2020-04-20T00:00:00",
          "2020-04-21T00:00:00",
          "2020-04-22T00:00:00",
          "2020-04-23T00:00:00",
          "2020-04-24T00:00:00",
          "2020-04-25T00:00:00",
          "2020-04-26T00:00:00",
          "2020-04-27T00:00:00"
         ],
         "xaxis": "x",
         "y": [
          1,
          2,
          3,
          3,
          3,
          3,
          3,
          4,
          4,
          4,
          4,
          4,
          4,
          4,
          4,
          4,
          4,
          4,
          4,
          4,
          9,
          9,
          9,
          9,
          9,
          9,
          9,
          9,
          10,
          10,
          10,
          10,
          10,
          10,
          10,
          10,
          10
         ],
         "yaxis": "y"
        },
        {
         "customdata": [
          [
           "Mozambique",
           0
          ],
          [
           "Mozambique",
           0
          ],
          [
           "Mozambique",
           0
          ],
          [
           "Mozambique",
           0
          ],
          [
           "Mozambique",
           0
          ],
          [
           "Mozambique",
           0
          ],
          [
           "Mozambique",
           0
          ],
          [
           "Mozambique",
           0
          ],
          [
           "Mozambique",
           0
          ],
          [
           "Mozambique",
           0
          ],
          [
           "Mozambique",
           0
          ],
          [
           "Mozambique",
           0
          ],
          [
           "Mozambique",
           0
          ],
          [
           "Mozambique",
           0
          ],
          [
           "Mozambique",
           0
          ],
          [
           "Mozambique",
           0
          ],
          [
           "Mozambique",
           0
          ],
          [
           "Mozambique",
           0
          ],
          [
           "Mozambique",
           0
          ],
          [
           "Mozambique",
           0
          ],
          [
           "Mozambique",
           0
          ],
          [
           "Mozambique",
           0
          ],
          [
           "Mozambique",
           0
          ],
          [
           "Mozambique",
           0
          ],
          [
           "Mozambique",
           0
          ],
          [
           "Mozambique",
           0
          ],
          [
           "Mozambique",
           0
          ],
          [
           "Mozambique",
           0
          ],
          [
           "Mozambique",
           0
          ],
          [
           "Mozambique",
           0
          ],
          [
           "Mozambique",
           0
          ],
          [
           "Mozambique",
           0
          ],
          [
           "Mozambique",
           0
          ],
          [
           "Mozambique",
           0
          ],
          [
           "Mozambique",
           0
          ],
          [
           "Mozambique",
           0
          ],
          [
           "Mozambique",
           0
          ]
         ],
         "hoverlabel": {
          "namelength": 0
         },
         "hovertemplate": "Country/Region=%{customdata[0]}<br>date=%{x}<br>Confirmed=%{y}<br>Deaths=%{customdata[1]}",
         "legendgroup": "Country/Region=Mozambique",
         "line": {
          "color": "#FFA15A",
          "dash": "solid"
         },
         "mode": "lines",
         "name": "Country/Region=Mozambique",
         "showlegend": true,
         "type": "scattergl",
         "x": [
          "2020-03-22T00:00:00",
          "2020-03-23T00:00:00",
          "2020-03-24T00:00:00",
          "2020-03-25T00:00:00",
          "2020-03-26T00:00:00",
          "2020-03-27T00:00:00",
          "2020-03-28T00:00:00",
          "2020-03-29T00:00:00",
          "2020-03-30T00:00:00",
          "2020-03-31T00:00:00",
          "2020-04-01T00:00:00",
          "2020-04-02T00:00:00",
          "2020-04-03T00:00:00",
          "2020-04-04T00:00:00",
          "2020-04-05T00:00:00",
          "2020-04-06T00:00:00",
          "2020-04-07T00:00:00",
          "2020-04-08T00:00:00",
          "2020-04-09T00:00:00",
          "2020-04-10T00:00:00",
          "2020-04-11T00:00:00",
          "2020-04-12T00:00:00",
          "2020-04-13T00:00:00",
          "2020-04-14T00:00:00",
          "2020-04-15T00:00:00",
          "2020-04-16T00:00:00",
          "2020-04-17T00:00:00",
          "2020-04-18T00:00:00",
          "2020-04-19T00:00:00",
          "2020-04-20T00:00:00",
          "2020-04-21T00:00:00",
          "2020-04-22T00:00:00",
          "2020-04-23T00:00:00",
          "2020-04-24T00:00:00",
          "2020-04-25T00:00:00",
          "2020-04-26T00:00:00",
          "2020-04-27T00:00:00"
         ],
         "xaxis": "x",
         "y": [
          1,
          1,
          3,
          5,
          7,
          7,
          8,
          8,
          8,
          8,
          10,
          10,
          10,
          10,
          10,
          10,
          10,
          17,
          17,
          20,
          20,
          21,
          21,
          28,
          29,
          31,
          34,
          35,
          39,
          39,
          39,
          41,
          46,
          65,
          70,
          76,
          76
         ],
         "yaxis": "y"
        },
        {
         "customdata": [
          [
           "Libya",
           0
          ],
          [
           "Libya",
           0
          ],
          [
           "Libya",
           0
          ],
          [
           "Libya",
           0
          ],
          [
           "Libya",
           0
          ],
          [
           "Libya",
           0
          ],
          [
           "Libya",
           0
          ],
          [
           "Libya",
           0
          ],
          [
           "Libya",
           0
          ],
          [
           "Libya",
           1
          ],
          [
           "Libya",
           1
          ],
          [
           "Libya",
           1
          ],
          [
           "Libya",
           1
          ],
          [
           "Libya",
           1
          ],
          [
           "Libya",
           1
          ],
          [
           "Libya",
           1
          ],
          [
           "Libya",
           1
          ],
          [
           "Libya",
           1
          ],
          [
           "Libya",
           1
          ],
          [
           "Libya",
           1
          ],
          [
           "Libya",
           1
          ],
          [
           "Libya",
           1
          ],
          [
           "Libya",
           1
          ],
          [
           "Libya",
           1
          ],
          [
           "Libya",
           1
          ],
          [
           "Libya",
           1
          ],
          [
           "Libya",
           1
          ],
          [
           "Libya",
           1
          ],
          [
           "Libya",
           1
          ],
          [
           "Libya",
           1
          ],
          [
           "Libya",
           2
          ],
          [
           "Libya",
           2
          ],
          [
           "Libya",
           2
          ],
          [
           "Libya",
           2
          ],
          [
           "Libya",
           2
          ]
         ],
         "hoverlabel": {
          "namelength": 0
         },
         "hovertemplate": "Country/Region=%{customdata[0]}<br>date=%{x}<br>Confirmed=%{y}<br>Deaths=%{customdata[1]}",
         "legendgroup": "Country/Region=Libya",
         "line": {
          "color": "#19d3f3",
          "dash": "solid"
         },
         "mode": "lines",
         "name": "Country/Region=Libya",
         "showlegend": true,
         "type": "scattergl",
         "x": [
          "2020-03-24T00:00:00",
          "2020-03-25T00:00:00",
          "2020-03-26T00:00:00",
          "2020-03-27T00:00:00",
          "2020-03-28T00:00:00",
          "2020-03-29T00:00:00",
          "2020-03-30T00:00:00",
          "2020-03-31T00:00:00",
          "2020-04-01T00:00:00",
          "2020-04-02T00:00:00",
          "2020-04-03T00:00:00",
          "2020-04-04T00:00:00",
          "2020-04-05T00:00:00",
          "2020-04-06T00:00:00",
          "2020-04-07T00:00:00",
          "2020-04-08T00:00:00",
          "2020-04-09T00:00:00",
          "2020-04-10T00:00:00",
          "2020-04-11T00:00:00",
          "2020-04-12T00:00:00",
          "2020-04-13T00:00:00",
          "2020-04-14T00:00:00",
          "2020-04-15T00:00:00",
          "2020-04-16T00:00:00",
          "2020-04-17T00:00:00",
          "2020-04-18T00:00:00",
          "2020-04-19T00:00:00",
          "2020-04-20T00:00:00",
          "2020-04-21T00:00:00",
          "2020-04-22T00:00:00",
          "2020-04-23T00:00:00",
          "2020-04-24T00:00:00",
          "2020-04-25T00:00:00",
          "2020-04-26T00:00:00",
          "2020-04-27T00:00:00"
         ],
         "xaxis": "x",
         "y": [
          1,
          1,
          1,
          1,
          3,
          8,
          8,
          10,
          10,
          11,
          11,
          18,
          18,
          19,
          20,
          21,
          24,
          24,
          24,
          25,
          26,
          35,
          48,
          49,
          49,
          49,
          51,
          51,
          51,
          59,
          60,
          61,
          61,
          61,
          61
         ],
         "yaxis": "y"
        },
        {
         "customdata": [
          [
           "Guinea-Bissau",
           0
          ],
          [
           "Guinea-Bissau",
           0
          ],
          [
           "Guinea-Bissau",
           0
          ],
          [
           "Guinea-Bissau",
           0
          ],
          [
           "Guinea-Bissau",
           0
          ],
          [
           "Guinea-Bissau",
           0
          ],
          [
           "Guinea-Bissau",
           0
          ],
          [
           "Guinea-Bissau",
           0
          ],
          [
           "Guinea-Bissau",
           0
          ],
          [
           "Guinea-Bissau",
           0
          ],
          [
           "Guinea-Bissau",
           0
          ],
          [
           "Guinea-Bissau",
           0
          ],
          [
           "Guinea-Bissau",
           0
          ],
          [
           "Guinea-Bissau",
           0
          ],
          [
           "Guinea-Bissau",
           0
          ],
          [
           "Guinea-Bissau",
           0
          ],
          [
           "Guinea-Bissau",
           0
          ],
          [
           "Guinea-Bissau",
           0
          ],
          [
           "Guinea-Bissau",
           0
          ],
          [
           "Guinea-Bissau",
           0
          ],
          [
           "Guinea-Bissau",
           0
          ],
          [
           "Guinea-Bissau",
           0
          ],
          [
           "Guinea-Bissau",
           0
          ],
          [
           "Guinea-Bissau",
           0
          ],
          [
           "Guinea-Bissau",
           0
          ],
          [
           "Guinea-Bissau",
           0
          ],
          [
           "Guinea-Bissau",
           0
          ],
          [
           "Guinea-Bissau",
           0
          ],
          [
           "Guinea-Bissau",
           0
          ],
          [
           "Guinea-Bissau",
           0
          ],
          [
           "Guinea-Bissau",
           0
          ],
          [
           "Guinea-Bissau",
           0
          ],
          [
           "Guinea-Bissau",
           1
          ],
          [
           "Guinea-Bissau",
           1
          ]
         ],
         "hoverlabel": {
          "namelength": 0
         },
         "hovertemplate": "Country/Region=%{customdata[0]}<br>date=%{x}<br>Confirmed=%{y}<br>Deaths=%{customdata[1]}",
         "legendgroup": "Country/Region=Guinea-Bissau",
         "line": {
          "color": "#FF6692",
          "dash": "solid"
         },
         "mode": "lines",
         "name": "Country/Region=Guinea-Bissau",
         "showlegend": true,
         "type": "scattergl",
         "x": [
          "2020-03-25T00:00:00",
          "2020-03-26T00:00:00",
          "2020-03-27T00:00:00",
          "2020-03-28T00:00:00",
          "2020-03-29T00:00:00",
          "2020-03-30T00:00:00",
          "2020-03-31T00:00:00",
          "2020-04-01T00:00:00",
          "2020-04-02T00:00:00",
          "2020-04-03T00:00:00",
          "2020-04-04T00:00:00",
          "2020-04-05T00:00:00",
          "2020-04-06T00:00:00",
          "2020-04-07T00:00:00",
          "2020-04-08T00:00:00",
          "2020-04-09T00:00:00",
          "2020-04-10T00:00:00",
          "2020-04-11T00:00:00",
          "2020-04-12T00:00:00",
          "2020-04-13T00:00:00",
          "2020-04-14T00:00:00",
          "2020-04-15T00:00:00",
          "2020-04-16T00:00:00",
          "2020-04-17T00:00:00",
          "2020-04-18T00:00:00",
          "2020-04-19T00:00:00",
          "2020-04-20T00:00:00",
          "2020-04-21T00:00:00",
          "2020-04-22T00:00:00",
          "2020-04-23T00:00:00",
          "2020-04-24T00:00:00",
          "2020-04-25T00:00:00",
          "2020-04-26T00:00:00",
          "2020-04-27T00:00:00"
         ],
         "xaxis": "x",
         "y": [
          2,
          2,
          2,
          2,
          2,
          8,
          8,
          9,
          9,
          15,
          18,
          18,
          18,
          33,
          33,
          36,
          36,
          38,
          38,
          38,
          38,
          43,
          43,
          43,
          46,
          50,
          50,
          50,
          50,
          50,
          52,
          52,
          53,
          73
         ],
         "yaxis": "y"
        },
        {
         "customdata": [
          [
           "Mali",
           0
          ],
          [
           "Mali",
           0
          ],
          [
           "Mali",
           0
          ],
          [
           "Mali",
           0
          ],
          [
           "Mali",
           1
          ],
          [
           "Mali",
           2
          ],
          [
           "Mali",
           2
          ],
          [
           "Mali",
           3
          ],
          [
           "Mali",
           3
          ],
          [
           "Mali",
           3
          ],
          [
           "Mali",
           3
          ],
          [
           "Mali",
           5
          ],
          [
           "Mali",
           5
          ],
          [
           "Mali",
           5
          ],
          [
           "Mali",
           7
          ],
          [
           "Mali",
           7
          ],
          [
           "Mali",
           7
          ],
          [
           "Mali",
           7
          ],
          [
           "Mali",
           9
          ],
          [
           "Mali",
           10
          ],
          [
           "Mali",
           13
          ],
          [
           "Mali",
           13
          ],
          [
           "Mali",
           13
          ],
          [
           "Mali",
           13
          ],
          [
           "Mali",
           13
          ],
          [
           "Mali",
           14
          ],
          [
           "Mali",
           14
          ],
          [
           "Mali",
           14
          ],
          [
           "Mali",
           17
          ],
          [
           "Mali",
           21
          ],
          [
           "Mali",
           21
          ],
          [
           "Mali",
           21
          ],
          [
           "Mali",
           23
          ],
          [
           "Mali",
           23
          ]
         ],
         "hoverlabel": {
          "namelength": 0
         },
         "hovertemplate": "Country/Region=%{customdata[0]}<br>date=%{x}<br>Confirmed=%{y}<br>Deaths=%{customdata[1]}",
         "legendgroup": "Country/Region=Mali",
         "line": {
          "color": "#B6E880",
          "dash": "solid"
         },
         "mode": "lines",
         "name": "Country/Region=Mali",
         "showlegend": true,
         "type": "scattergl",
         "x": [
          "2020-03-25T00:00:00",
          "2020-03-26T00:00:00",
          "2020-03-27T00:00:00",
          "2020-03-28T00:00:00",
          "2020-03-29T00:00:00",
          "2020-03-30T00:00:00",
          "2020-03-31T00:00:00",
          "2020-04-01T00:00:00",
          "2020-04-02T00:00:00",
          "2020-04-03T00:00:00",
          "2020-04-04T00:00:00",
          "2020-04-05T00:00:00",
          "2020-04-06T00:00:00",
          "2020-04-07T00:00:00",
          "2020-04-08T00:00:00",
          "2020-04-09T00:00:00",
          "2020-04-10T00:00:00",
          "2020-04-11T00:00:00",
          "2020-04-12T00:00:00",
          "2020-04-13T00:00:00",
          "2020-04-14T00:00:00",
          "2020-04-15T00:00:00",
          "2020-04-16T00:00:00",
          "2020-04-17T00:00:00",
          "2020-04-18T00:00:00",
          "2020-04-19T00:00:00",
          "2020-04-20T00:00:00",
          "2020-04-21T00:00:00",
          "2020-04-22T00:00:00",
          "2020-04-23T00:00:00",
          "2020-04-24T00:00:00",
          "2020-04-25T00:00:00",
          "2020-04-26T00:00:00",
          "2020-04-27T00:00:00"
         ],
         "xaxis": "x",
         "y": [
          2,
          4,
          11,
          18,
          18,
          25,
          28,
          31,
          36,
          39,
          41,
          45,
          47,
          56,
          59,
          74,
          87,
          87,
          105,
          123,
          144,
          148,
          171,
          171,
          216,
          224,
          246,
          258,
          293,
          309,
          325,
          370,
          389,
          408
         ],
         "yaxis": "y"
        },
        {
         "customdata": [
          [
           "Botswana",
           0
          ],
          [
           "Botswana",
           1
          ],
          [
           "Botswana",
           1
          ],
          [
           "Botswana",
           1
          ],
          [
           "Botswana",
           1
          ],
          [
           "Botswana",
           1
          ],
          [
           "Botswana",
           1
          ],
          [
           "Botswana",
           1
          ],
          [
           "Botswana",
           1
          ],
          [
           "Botswana",
           1
          ],
          [
           "Botswana",
           1
          ],
          [
           "Botswana",
           1
          ],
          [
           "Botswana",
           1
          ],
          [
           "Botswana",
           1
          ],
          [
           "Botswana",
           1
          ],
          [
           "Botswana",
           1
          ],
          [
           "Botswana",
           1
          ],
          [
           "Botswana",
           1
          ],
          [
           "Botswana",
           1
          ],
          [
           "Botswana",
           1
          ],
          [
           "Botswana",
           1
          ],
          [
           "Botswana",
           1
          ],
          [
           "Botswana",
           1
          ],
          [
           "Botswana",
           1
          ],
          [
           "Botswana",
           1
          ],
          [
           "Botswana",
           1
          ],
          [
           "Botswana",
           1
          ],
          [
           "Botswana",
           1
          ],
          [
           "Botswana",
           1
          ]
         ],
         "hoverlabel": {
          "namelength": 0
         },
         "hovertemplate": "Country/Region=%{customdata[0]}<br>date=%{x}<br>Confirmed=%{y}<br>Deaths=%{customdata[1]}",
         "legendgroup": "Country/Region=Botswana",
         "line": {
          "color": "#FF97FF",
          "dash": "solid"
         },
         "mode": "lines",
         "name": "Country/Region=Botswana",
         "showlegend": true,
         "type": "scattergl",
         "x": [
          "2020-03-30T00:00:00",
          "2020-03-31T00:00:00",
          "2020-04-01T00:00:00",
          "2020-04-02T00:00:00",
          "2020-04-03T00:00:00",
          "2020-04-04T00:00:00",
          "2020-04-05T00:00:00",
          "2020-04-06T00:00:00",
          "2020-04-07T00:00:00",
          "2020-04-08T00:00:00",
          "2020-04-09T00:00:00",
          "2020-04-10T00:00:00",
          "2020-04-11T00:00:00",
          "2020-04-12T00:00:00",
          "2020-04-13T00:00:00",
          "2020-04-14T00:00:00",
          "2020-04-15T00:00:00",
          "2020-04-16T00:00:00",
          "2020-04-17T00:00:00",
          "2020-04-18T00:00:00",
          "2020-04-19T00:00:00",
          "2020-04-20T00:00:00",
          "2020-04-21T00:00:00",
          "2020-04-22T00:00:00",
          "2020-04-23T00:00:00",
          "2020-04-24T00:00:00",
          "2020-04-25T00:00:00",
          "2020-04-26T00:00:00",
          "2020-04-27T00:00:00"
         ],
         "xaxis": "x",
         "y": [
          3,
          4,
          4,
          4,
          4,
          4,
          6,
          6,
          6,
          6,
          13,
          13,
          13,
          13,
          13,
          13,
          13,
          15,
          15,
          15,
          20,
          20,
          20,
          22,
          22,
          22,
          22,
          22,
          22
         ],
         "yaxis": "y"
        },
        {
         "customdata": [
          [
           "Burundi",
           0
          ],
          [
           "Burundi",
           0
          ],
          [
           "Burundi",
           0
          ],
          [
           "Burundi",
           0
          ],
          [
           "Burundi",
           0
          ],
          [
           "Burundi",
           0
          ],
          [
           "Burundi",
           0
          ],
          [
           "Burundi",
           0
          ],
          [
           "Burundi",
           0
          ],
          [
           "Burundi",
           0
          ],
          [
           "Burundi",
           0
          ],
          [
           "Burundi",
           0
          ],
          [
           "Burundi",
           0
          ],
          [
           "Burundi",
           1
          ],
          [
           "Burundi",
           1
          ],
          [
           "Burundi",
           1
          ],
          [
           "Burundi",
           1
          ],
          [
           "Burundi",
           1
          ],
          [
           "Burundi",
           1
          ],
          [
           "Burundi",
           1
          ],
          [
           "Burundi",
           1
          ],
          [
           "Burundi",
           1
          ],
          [
           "Burundi",
           1
          ],
          [
           "Burundi",
           1
          ],
          [
           "Burundi",
           1
          ],
          [
           "Burundi",
           1
          ],
          [
           "Burundi",
           1
          ],
          [
           "Burundi",
           1
          ]
         ],
         "hoverlabel": {
          "namelength": 0
         },
         "hovertemplate": "Country/Region=%{customdata[0]}<br>date=%{x}<br>Confirmed=%{y}<br>Deaths=%{customdata[1]}",
         "legendgroup": "Country/Region=Burundi",
         "line": {
          "color": "#FECB52",
          "dash": "solid"
         },
         "mode": "lines",
         "name": "Country/Region=Burundi",
         "showlegend": true,
         "type": "scattergl",
         "x": [
          "2020-03-31T00:00:00",
          "2020-04-01T00:00:00",
          "2020-04-02T00:00:00",
          "2020-04-03T00:00:00",
          "2020-04-04T00:00:00",
          "2020-04-05T00:00:00",
          "2020-04-06T00:00:00",
          "2020-04-07T00:00:00",
          "2020-04-08T00:00:00",
          "2020-04-09T00:00:00",
          "2020-04-10T00:00:00",
          "2020-04-11T00:00:00",
          "2020-04-12T00:00:00",
          "2020-04-13T00:00:00",
          "2020-04-14T00:00:00",
          "2020-04-15T00:00:00",
          "2020-04-16T00:00:00",
          "2020-04-17T00:00:00",
          "2020-04-18T00:00:00",
          "2020-04-19T00:00:00",
          "2020-04-20T00:00:00",
          "2020-04-21T00:00:00",
          "2020-04-22T00:00:00",
          "2020-04-23T00:00:00",
          "2020-04-24T00:00:00",
          "2020-04-25T00:00:00",
          "2020-04-26T00:00:00",
          "2020-04-27T00:00:00"
         ],
         "xaxis": "x",
         "y": [
          2,
          2,
          3,
          3,
          3,
          3,
          3,
          3,
          3,
          3,
          3,
          5,
          5,
          5,
          5,
          5,
          5,
          5,
          5,
          5,
          5,
          5,
          11,
          11,
          11,
          11,
          11,
          11
         ],
         "yaxis": "y"
        },
        {
         "customdata": [
          [
           "Sierra Leone",
           0
          ],
          [
           "Sierra Leone",
           0
          ],
          [
           "Sierra Leone",
           0
          ],
          [
           "Sierra Leone",
           0
          ],
          [
           "Sierra Leone",
           0
          ],
          [
           "Sierra Leone",
           0
          ],
          [
           "Sierra Leone",
           0
          ],
          [
           "Sierra Leone",
           0
          ],
          [
           "Sierra Leone",
           0
          ],
          [
           "Sierra Leone",
           0
          ],
          [
           "Sierra Leone",
           0
          ],
          [
           "Sierra Leone",
           0
          ],
          [
           "Sierra Leone",
           0
          ],
          [
           "Sierra Leone",
           0
          ],
          [
           "Sierra Leone",
           0
          ],
          [
           "Sierra Leone",
           0
          ],
          [
           "Sierra Leone",
           0
          ],
          [
           "Sierra Leone",
           0
          ],
          [
           "Sierra Leone",
           0
          ],
          [
           "Sierra Leone",
           0
          ],
          [
           "Sierra Leone",
           0
          ],
          [
           "Sierra Leone",
           0
          ],
          [
           "Sierra Leone",
           0
          ],
          [
           "Sierra Leone",
           1
          ],
          [
           "Sierra Leone",
           2
          ],
          [
           "Sierra Leone",
           2
          ],
          [
           "Sierra Leone",
           4
          ],
          [
           "Sierra Leone",
           4
          ]
         ],
         "hoverlabel": {
          "namelength": 0
         },
         "hovertemplate": "Country/Region=%{customdata[0]}<br>date=%{x}<br>Confirmed=%{y}<br>Deaths=%{customdata[1]}",
         "legendgroup": "Country/Region=Sierra Leone",
         "line": {
          "color": "#636efa",
          "dash": "solid"
         },
         "mode": "lines",
         "name": "Country/Region=Sierra Leone",
         "showlegend": true,
         "type": "scattergl",
         "x": [
          "2020-03-31T00:00:00",
          "2020-04-01T00:00:00",
          "2020-04-02T00:00:00",
          "2020-04-03T00:00:00",
          "2020-04-04T00:00:00",
          "2020-04-05T00:00:00",
          "2020-04-06T00:00:00",
          "2020-04-07T00:00:00",
          "2020-04-08T00:00:00",
          "2020-04-09T00:00:00",
          "2020-04-10T00:00:00",
          "2020-04-11T00:00:00",
          "2020-04-12T00:00:00",
          "2020-04-13T00:00:00",
          "2020-04-14T00:00:00",
          "2020-04-15T00:00:00",
          "2020-04-16T00:00:00",
          "2020-04-17T00:00:00",
          "2020-04-18T00:00:00",
          "2020-04-19T00:00:00",
          "2020-04-20T00:00:00",
          "2020-04-21T00:00:00",
          "2020-04-22T00:00:00",
          "2020-04-23T00:00:00",
          "2020-04-24T00:00:00",
          "2020-04-25T00:00:00",
          "2020-04-26T00:00:00",
          "2020-04-27T00:00:00"
         ],
         "xaxis": "x",
         "y": [
          1,
          2,
          2,
          2,
          4,
          6,
          6,
          6,
          7,
          7,
          8,
          8,
          10,
          10,
          11,
          13,
          15,
          26,
          30,
          35,
          43,
          50,
          61,
          64,
          82,
          82,
          93,
          93
         ],
         "yaxis": "y"
        },
        {
         "customdata": [
          [
           "Malawi",
           0
          ],
          [
           "Malawi",
           0
          ],
          [
           "Malawi",
           0
          ],
          [
           "Malawi",
           0
          ],
          [
           "Malawi",
           0
          ],
          [
           "Malawi",
           1
          ],
          [
           "Malawi",
           1
          ],
          [
           "Malawi",
           1
          ],
          [
           "Malawi",
           1
          ],
          [
           "Malawi",
           2
          ],
          [
           "Malawi",
           2
          ],
          [
           "Malawi",
           2
          ],
          [
           "Malawi",
           2
          ],
          [
           "Malawi",
           2
          ],
          [
           "Malawi",
           2
          ],
          [
           "Malawi",
           2
          ],
          [
           "Malawi",
           2
          ],
          [
           "Malawi",
           2
          ],
          [
           "Malawi",
           2
          ],
          [
           "Malawi",
           2
          ],
          [
           "Malawi",
           3
          ],
          [
           "Malawi",
           3
          ],
          [
           "Malawi",
           3
          ],
          [
           "Malawi",
           3
          ],
          [
           "Malawi",
           3
          ],
          [
           "Malawi",
           3
          ]
         ],
         "hoverlabel": {
          "namelength": 0
         },
         "hovertemplate": "Country/Region=%{customdata[0]}<br>date=%{x}<br>Confirmed=%{y}<br>Deaths=%{customdata[1]}",
         "legendgroup": "Country/Region=Malawi",
         "line": {
          "color": "#EF553B",
          "dash": "solid"
         },
         "mode": "lines",
         "name": "Country/Region=Malawi",
         "showlegend": true,
         "type": "scattergl",
         "x": [
          "2020-04-02T00:00:00",
          "2020-04-03T00:00:00",
          "2020-04-04T00:00:00",
          "2020-04-05T00:00:00",
          "2020-04-06T00:00:00",
          "2020-04-07T00:00:00",
          "2020-04-08T00:00:00",
          "2020-04-09T00:00:00",
          "2020-04-10T00:00:00",
          "2020-04-11T00:00:00",
          "2020-04-12T00:00:00",
          "2020-04-13T00:00:00",
          "2020-04-14T00:00:00",
          "2020-04-15T00:00:00",
          "2020-04-16T00:00:00",
          "2020-04-17T00:00:00",
          "2020-04-18T00:00:00",
          "2020-04-19T00:00:00",
          "2020-04-20T00:00:00",
          "2020-04-21T00:00:00",
          "2020-04-22T00:00:00",
          "2020-04-23T00:00:00",
          "2020-04-24T00:00:00",
          "2020-04-25T00:00:00",
          "2020-04-26T00:00:00",
          "2020-04-27T00:00:00"
         ],
         "xaxis": "x",
         "y": [
          3,
          3,
          4,
          4,
          5,
          8,
          8,
          8,
          9,
          12,
          13,
          16,
          16,
          16,
          16,
          17,
          17,
          17,
          17,
          18,
          23,
          33,
          33,
          33,
          34,
          36
         ],
         "yaxis": "y"
        },
        {
         "customdata": [
          [
           "South Sudan",
           0
          ],
          [
           "South Sudan",
           0
          ],
          [
           "South Sudan",
           0
          ],
          [
           "South Sudan",
           0
          ],
          [
           "South Sudan",
           0
          ],
          [
           "South Sudan",
           0
          ],
          [
           "South Sudan",
           0
          ],
          [
           "South Sudan",
           0
          ],
          [
           "South Sudan",
           0
          ],
          [
           "South Sudan",
           0
          ],
          [
           "South Sudan",
           0
          ],
          [
           "South Sudan",
           0
          ],
          [
           "South Sudan",
           0
          ],
          [
           "South Sudan",
           0
          ],
          [
           "South Sudan",
           0
          ],
          [
           "South Sudan",
           0
          ],
          [
           "South Sudan",
           0
          ],
          [
           "South Sudan",
           0
          ],
          [
           "South Sudan",
           0
          ],
          [
           "South Sudan",
           0
          ],
          [
           "South Sudan",
           0
          ],
          [
           "South Sudan",
           0
          ],
          [
           "South Sudan",
           0
          ]
         ],
         "hoverlabel": {
          "namelength": 0
         },
         "hovertemplate": "Country/Region=%{customdata[0]}<br>date=%{x}<br>Confirmed=%{y}<br>Deaths=%{customdata[1]}",
         "legendgroup": "Country/Region=South Sudan",
         "line": {
          "color": "#00cc96",
          "dash": "solid"
         },
         "mode": "lines",
         "name": "Country/Region=South Sudan",
         "showlegend": true,
         "type": "scattergl",
         "x": [
          "2020-04-05T00:00:00",
          "2020-04-06T00:00:00",
          "2020-04-07T00:00:00",
          "2020-04-08T00:00:00",
          "2020-04-09T00:00:00",
          "2020-04-10T00:00:00",
          "2020-04-11T00:00:00",
          "2020-04-12T00:00:00",
          "2020-04-13T00:00:00",
          "2020-04-14T00:00:00",
          "2020-04-15T00:00:00",
          "2020-04-16T00:00:00",
          "2020-04-17T00:00:00",
          "2020-04-18T00:00:00",
          "2020-04-19T00:00:00",
          "2020-04-20T00:00:00",
          "2020-04-21T00:00:00",
          "2020-04-22T00:00:00",
          "2020-04-23T00:00:00",
          "2020-04-24T00:00:00",
          "2020-04-25T00:00:00",
          "2020-04-26T00:00:00",
          "2020-04-27T00:00:00"
         ],
         "xaxis": "x",
         "y": [
          1,
          1,
          2,
          2,
          3,
          4,
          4,
          4,
          4,
          4,
          4,
          4,
          4,
          4,
          4,
          4,
          4,
          4,
          5,
          5,
          5,
          6,
          6
         ],
         "yaxis": "y"
        },
        {
         "customdata": [
          [
           "Sao Tome and Principe",
           0
          ],
          [
           "Sao Tome and Principe",
           0
          ],
          [
           "Sao Tome and Principe",
           0
          ],
          [
           "Sao Tome and Principe",
           0
          ],
          [
           "Sao Tome and Principe",
           0
          ],
          [
           "Sao Tome and Principe",
           0
          ],
          [
           "Sao Tome and Principe",
           0
          ],
          [
           "Sao Tome and Principe",
           0
          ],
          [
           "Sao Tome and Principe",
           0
          ],
          [
           "Sao Tome and Principe",
           0
          ],
          [
           "Sao Tome and Principe",
           0
          ],
          [
           "Sao Tome and Principe",
           0
          ],
          [
           "Sao Tome and Principe",
           0
          ],
          [
           "Sao Tome and Principe",
           0
          ],
          [
           "Sao Tome and Principe",
           0
          ],
          [
           "Sao Tome and Principe",
           0
          ],
          [
           "Sao Tome and Principe",
           0
          ],
          [
           "Sao Tome and Principe",
           0
          ],
          [
           "Sao Tome and Principe",
           0
          ],
          [
           "Sao Tome and Principe",
           0
          ],
          [
           "Sao Tome and Principe",
           0
          ],
          [
           "Sao Tome and Principe",
           0
          ]
         ],
         "hoverlabel": {
          "namelength": 0
         },
         "hovertemplate": "Country/Region=%{customdata[0]}<br>date=%{x}<br>Confirmed=%{y}<br>Deaths=%{customdata[1]}",
         "legendgroup": "Country/Region=Sao Tome and Principe",
         "line": {
          "color": "#ab63fa",
          "dash": "solid"
         },
         "mode": "lines",
         "name": "Country/Region=Sao Tome and Principe",
         "showlegend": true,
         "type": "scattergl",
         "x": [
          "2020-04-06T00:00:00",
          "2020-04-07T00:00:00",
          "2020-04-08T00:00:00",
          "2020-04-09T00:00:00",
          "2020-04-10T00:00:00",
          "2020-04-11T00:00:00",
          "2020-04-12T00:00:00",
          "2020-04-13T00:00:00",
          "2020-04-14T00:00:00",
          "2020-04-15T00:00:00",
          "2020-04-16T00:00:00",
          "2020-04-17T00:00:00",
          "2020-04-18T00:00:00",
          "2020-04-19T00:00:00",
          "2020-04-20T00:00:00",
          "2020-04-21T00:00:00",
          "2020-04-22T00:00:00",
          "2020-04-23T00:00:00",
          "2020-04-24T00:00:00",
          "2020-04-25T00:00:00",
          "2020-04-26T00:00:00",
          "2020-04-27T00:00:00"
         ],
         "xaxis": "x",
         "y": [
          4,
          4,
          4,
          4,
          4,
          4,
          4,
          4,
          4,
          4,
          4,
          4,
          4,
          4,
          4,
          4,
          4,
          4,
          4,
          4,
          4,
          4
         ],
         "yaxis": "y"
        }
       ],
       "layout": {
        "annotations": [
         {
          "font": {
           "color": "rgb(37,37,37)",
           "family": "Arial",
           "size": 30
          },
          "showarrow": false,
          "text": "Confirmed Plot for each Country",
          "x": 0,
          "xanchor": "left",
          "xref": "paper",
          "y": 1.05,
          "yanchor": "bottom",
          "yref": "paper"
         }
        ],
        "height": 600,
        "legend": {
         "tracegroupgap": 0
        },
        "margin": {
         "t": 60
        },
        "template": {
         "data": {
          "bar": [
           {
            "error_x": {
             "color": "#2a3f5f"
            },
            "error_y": {
             "color": "#2a3f5f"
            },
            "marker": {
             "line": {
              "color": "#E5ECF6",
              "width": 0.5
             }
            },
            "type": "bar"
           }
          ],
          "barpolar": [
           {
            "marker": {
             "line": {
              "color": "#E5ECF6",
              "width": 0.5
             }
            },
            "type": "barpolar"
           }
          ],
          "carpet": [
           {
            "aaxis": {
             "endlinecolor": "#2a3f5f",
             "gridcolor": "white",
             "linecolor": "white",
             "minorgridcolor": "white",
             "startlinecolor": "#2a3f5f"
            },
            "baxis": {
             "endlinecolor": "#2a3f5f",
             "gridcolor": "white",
             "linecolor": "white",
             "minorgridcolor": "white",
             "startlinecolor": "#2a3f5f"
            },
            "type": "carpet"
           }
          ],
          "choropleth": [
           {
            "colorbar": {
             "outlinewidth": 0,
             "ticks": ""
            },
            "type": "choropleth"
           }
          ],
          "contour": [
           {
            "colorbar": {
             "outlinewidth": 0,
             "ticks": ""
            },
            "colorscale": [
             [
              0,
              "#0d0887"
             ],
             [
              0.1111111111111111,
              "#46039f"
             ],
             [
              0.2222222222222222,
              "#7201a8"
             ],
             [
              0.3333333333333333,
              "#9c179e"
             ],
             [
              0.4444444444444444,
              "#bd3786"
             ],
             [
              0.5555555555555556,
              "#d8576b"
             ],
             [
              0.6666666666666666,
              "#ed7953"
             ],
             [
              0.7777777777777778,
              "#fb9f3a"
             ],
             [
              0.8888888888888888,
              "#fdca26"
             ],
             [
              1,
              "#f0f921"
             ]
            ],
            "type": "contour"
           }
          ],
          "contourcarpet": [
           {
            "colorbar": {
             "outlinewidth": 0,
             "ticks": ""
            },
            "type": "contourcarpet"
           }
          ],
          "heatmap": [
           {
            "colorbar": {
             "outlinewidth": 0,
             "ticks": ""
            },
            "colorscale": [
             [
              0,
              "#0d0887"
             ],
             [
              0.1111111111111111,
              "#46039f"
             ],
             [
              0.2222222222222222,
              "#7201a8"
             ],
             [
              0.3333333333333333,
              "#9c179e"
             ],
             [
              0.4444444444444444,
              "#bd3786"
             ],
             [
              0.5555555555555556,
              "#d8576b"
             ],
             [
              0.6666666666666666,
              "#ed7953"
             ],
             [
              0.7777777777777778,
              "#fb9f3a"
             ],
             [
              0.8888888888888888,
              "#fdca26"
             ],
             [
              1,
              "#f0f921"
             ]
            ],
            "type": "heatmap"
           }
          ],
          "heatmapgl": [
           {
            "colorbar": {
             "outlinewidth": 0,
             "ticks": ""
            },
            "colorscale": [
             [
              0,
              "#0d0887"
             ],
             [
              0.1111111111111111,
              "#46039f"
             ],
             [
              0.2222222222222222,
              "#7201a8"
             ],
             [
              0.3333333333333333,
              "#9c179e"
             ],
             [
              0.4444444444444444,
              "#bd3786"
             ],
             [
              0.5555555555555556,
              "#d8576b"
             ],
             [
              0.6666666666666666,
              "#ed7953"
             ],
             [
              0.7777777777777778,
              "#fb9f3a"
             ],
             [
              0.8888888888888888,
              "#fdca26"
             ],
             [
              1,
              "#f0f921"
             ]
            ],
            "type": "heatmapgl"
           }
          ],
          "histogram": [
           {
            "marker": {
             "colorbar": {
              "outlinewidth": 0,
              "ticks": ""
             }
            },
            "type": "histogram"
           }
          ],
          "histogram2d": [
           {
            "colorbar": {
             "outlinewidth": 0,
             "ticks": ""
            },
            "colorscale": [
             [
              0,
              "#0d0887"
             ],
             [
              0.1111111111111111,
              "#46039f"
             ],
             [
              0.2222222222222222,
              "#7201a8"
             ],
             [
              0.3333333333333333,
              "#9c179e"
             ],
             [
              0.4444444444444444,
              "#bd3786"
             ],
             [
              0.5555555555555556,
              "#d8576b"
             ],
             [
              0.6666666666666666,
              "#ed7953"
             ],
             [
              0.7777777777777778,
              "#fb9f3a"
             ],
             [
              0.8888888888888888,
              "#fdca26"
             ],
             [
              1,
              "#f0f921"
             ]
            ],
            "type": "histogram2d"
           }
          ],
          "histogram2dcontour": [
           {
            "colorbar": {
             "outlinewidth": 0,
             "ticks": ""
            },
            "colorscale": [
             [
              0,
              "#0d0887"
             ],
             [
              0.1111111111111111,
              "#46039f"
             ],
             [
              0.2222222222222222,
              "#7201a8"
             ],
             [
              0.3333333333333333,
              "#9c179e"
             ],
             [
              0.4444444444444444,
              "#bd3786"
             ],
             [
              0.5555555555555556,
              "#d8576b"
             ],
             [
              0.6666666666666666,
              "#ed7953"
             ],
             [
              0.7777777777777778,
              "#fb9f3a"
             ],
             [
              0.8888888888888888,
              "#fdca26"
             ],
             [
              1,
              "#f0f921"
             ]
            ],
            "type": "histogram2dcontour"
           }
          ],
          "mesh3d": [
           {
            "colorbar": {
             "outlinewidth": 0,
             "ticks": ""
            },
            "type": "mesh3d"
           }
          ],
          "parcoords": [
           {
            "line": {
             "colorbar": {
              "outlinewidth": 0,
              "ticks": ""
             }
            },
            "type": "parcoords"
           }
          ],
          "scatter": [
           {
            "marker": {
             "colorbar": {
              "outlinewidth": 0,
              "ticks": ""
             }
            },
            "type": "scatter"
           }
          ],
          "scatter3d": [
           {
            "line": {
             "colorbar": {
              "outlinewidth": 0,
              "ticks": ""
             }
            },
            "marker": {
             "colorbar": {
              "outlinewidth": 0,
              "ticks": ""
             }
            },
            "type": "scatter3d"
           }
          ],
          "scattercarpet": [
           {
            "marker": {
             "colorbar": {
              "outlinewidth": 0,
              "ticks": ""
             }
            },
            "type": "scattercarpet"
           }
          ],
          "scattergeo": [
           {
            "marker": {
             "colorbar": {
              "outlinewidth": 0,
              "ticks": ""
             }
            },
            "type": "scattergeo"
           }
          ],
          "scattergl": [
           {
            "marker": {
             "colorbar": {
              "outlinewidth": 0,
              "ticks": ""
             }
            },
            "type": "scattergl"
           }
          ],
          "scattermapbox": [
           {
            "marker": {
             "colorbar": {
              "outlinewidth": 0,
              "ticks": ""
             }
            },
            "type": "scattermapbox"
           }
          ],
          "scatterpolar": [
           {
            "marker": {
             "colorbar": {
              "outlinewidth": 0,
              "ticks": ""
             }
            },
            "type": "scatterpolar"
           }
          ],
          "scatterpolargl": [
           {
            "marker": {
             "colorbar": {
              "outlinewidth": 0,
              "ticks": ""
             }
            },
            "type": "scatterpolargl"
           }
          ],
          "scatterternary": [
           {
            "marker": {
             "colorbar": {
              "outlinewidth": 0,
              "ticks": ""
             }
            },
            "type": "scatterternary"
           }
          ],
          "surface": [
           {
            "colorbar": {
             "outlinewidth": 0,
             "ticks": ""
            },
            "colorscale": [
             [
              0,
              "#0d0887"
             ],
             [
              0.1111111111111111,
              "#46039f"
             ],
             [
              0.2222222222222222,
              "#7201a8"
             ],
             [
              0.3333333333333333,
              "#9c179e"
             ],
             [
              0.4444444444444444,
              "#bd3786"
             ],
             [
              0.5555555555555556,
              "#d8576b"
             ],
             [
              0.6666666666666666,
              "#ed7953"
             ],
             [
              0.7777777777777778,
              "#fb9f3a"
             ],
             [
              0.8888888888888888,
              "#fdca26"
             ],
             [
              1,
              "#f0f921"
             ]
            ],
            "type": "surface"
           }
          ],
          "table": [
           {
            "cells": {
             "fill": {
              "color": "#EBF0F8"
             },
             "line": {
              "color": "white"
             }
            },
            "header": {
             "fill": {
              "color": "#C8D4E3"
             },
             "line": {
              "color": "white"
             }
            },
            "type": "table"
           }
          ]
         },
         "layout": {
          "annotationdefaults": {
           "arrowcolor": "#2a3f5f",
           "arrowhead": 0,
           "arrowwidth": 1
          },
          "colorscale": {
           "diverging": [
            [
             0,
             "#8e0152"
            ],
            [
             0.1,
             "#c51b7d"
            ],
            [
             0.2,
             "#de77ae"
            ],
            [
             0.3,
             "#f1b6da"
            ],
            [
             0.4,
             "#fde0ef"
            ],
            [
             0.5,
             "#f7f7f7"
            ],
            [
             0.6,
             "#e6f5d0"
            ],
            [
             0.7,
             "#b8e186"
            ],
            [
             0.8,
             "#7fbc41"
            ],
            [
             0.9,
             "#4d9221"
            ],
            [
             1,
             "#276419"
            ]
           ],
           "sequential": [
            [
             0,
             "#0d0887"
            ],
            [
             0.1111111111111111,
             "#46039f"
            ],
            [
             0.2222222222222222,
             "#7201a8"
            ],
            [
             0.3333333333333333,
             "#9c179e"
            ],
            [
             0.4444444444444444,
             "#bd3786"
            ],
            [
             0.5555555555555556,
             "#d8576b"
            ],
            [
             0.6666666666666666,
             "#ed7953"
            ],
            [
             0.7777777777777778,
             "#fb9f3a"
            ],
            [
             0.8888888888888888,
             "#fdca26"
            ],
            [
             1,
             "#f0f921"
            ]
           ],
           "sequentialminus": [
            [
             0,
             "#0d0887"
            ],
            [
             0.1111111111111111,
             "#46039f"
            ],
            [
             0.2222222222222222,
             "#7201a8"
            ],
            [
             0.3333333333333333,
             "#9c179e"
            ],
            [
             0.4444444444444444,
             "#bd3786"
            ],
            [
             0.5555555555555556,
             "#d8576b"
            ],
            [
             0.6666666666666666,
             "#ed7953"
            ],
            [
             0.7777777777777778,
             "#fb9f3a"
            ],
            [
             0.8888888888888888,
             "#fdca26"
            ],
            [
             1,
             "#f0f921"
            ]
           ]
          },
          "colorway": [
           "#636efa",
           "#EF553B",
           "#00cc96",
           "#ab63fa",
           "#FFA15A",
           "#19d3f3",
           "#FF6692",
           "#B6E880",
           "#FF97FF",
           "#FECB52"
          ],
          "font": {
           "color": "#2a3f5f"
          },
          "geo": {
           "bgcolor": "white",
           "lakecolor": "white",
           "landcolor": "#E5ECF6",
           "showlakes": true,
           "showland": true,
           "subunitcolor": "white"
          },
          "hoverlabel": {
           "align": "left"
          },
          "hovermode": "closest",
          "mapbox": {
           "style": "light"
          },
          "paper_bgcolor": "white",
          "plot_bgcolor": "#E5ECF6",
          "polar": {
           "angularaxis": {
            "gridcolor": "white",
            "linecolor": "white",
            "ticks": ""
           },
           "bgcolor": "#E5ECF6",
           "radialaxis": {
            "gridcolor": "white",
            "linecolor": "white",
            "ticks": ""
           }
          },
          "scene": {
           "xaxis": {
            "backgroundcolor": "#E5ECF6",
            "gridcolor": "white",
            "gridwidth": 2,
            "linecolor": "white",
            "showbackground": true,
            "ticks": "",
            "zerolinecolor": "white"
           },
           "yaxis": {
            "backgroundcolor": "#E5ECF6",
            "gridcolor": "white",
            "gridwidth": 2,
            "linecolor": "white",
            "showbackground": true,
            "ticks": "",
            "zerolinecolor": "white"
           },
           "zaxis": {
            "backgroundcolor": "#E5ECF6",
            "gridcolor": "white",
            "gridwidth": 2,
            "linecolor": "white",
            "showbackground": true,
            "ticks": "",
            "zerolinecolor": "white"
           }
          },
          "shapedefaults": {
           "line": {
            "color": "#2a3f5f"
           }
          },
          "ternary": {
           "aaxis": {
            "gridcolor": "white",
            "linecolor": "white",
            "ticks": ""
           },
           "baxis": {
            "gridcolor": "white",
            "linecolor": "white",
            "ticks": ""
           },
           "bgcolor": "#E5ECF6",
           "caxis": {
            "gridcolor": "white",
            "linecolor": "white",
            "ticks": ""
           }
          },
          "title": {
           "x": 0.05
          },
          "xaxis": {
           "automargin": true,
           "gridcolor": "white",
           "linecolor": "white",
           "ticks": "",
           "zerolinecolor": "white",
           "zerolinewidth": 2
          },
          "yaxis": {
           "automargin": true,
           "gridcolor": "white",
           "linecolor": "white",
           "ticks": "",
           "zerolinecolor": "white",
           "zerolinewidth": 2
          }
         }
        },
        "xaxis": {
         "anchor": "y",
         "domain": [
          0,
          0.98
         ],
         "title": {
          "text": "date"
         }
        },
        "yaxis": {
         "anchor": "x",
         "domain": [
          0,
          1
         ],
         "title": {
          "text": "Confirmed"
         }
        }
       }
      }
     },
     "metadata": {}
    }
   ],
   "source": [
    "fig = px.line(af, x=\"date\", y=\"Confirmed\", color='Country/Region', hover_data=['Country/Region','Deaths'])\n",
    "annotations = []\n",
    "annotations.append(dict(xref='paper', yref='paper', x=0.0, y=1.05,\n",
    "                              xanchor='left', yanchor='bottom',\n",
    "                              text='Confirmed Plot for each Country',\n",
    "                              font=dict(family='Arial',\n",
    "                                        size=30,\n",
    "                                        color='rgb(37,37,37)'),\n",
    "                              showarrow=False))\n",
    "fig.update_layout(annotations=annotations)\n",
    "fig.show()"
   ]
  },
  {
   "cell_type": "code",
   "execution_count": 12,
   "metadata": {},
   "outputs": [
    {
     "output_type": "display_data",
     "data": {
      "application/vnd.plotly.v1+json": {
       "config": {
        "plotlyServerURL": "https://plot.ly"
       },
       "data": [
        {
         "hoverlabel": {
          "namelength": 0
         },
         "hovertemplate": "date=%{x}<br>Confirmed=%{y}",
         "legendgroup": "",
         "line": {
          "color": "#636efa",
          "dash": "solid"
         },
         "mode": "lines",
         "name": "",
         "showlegend": false,
         "type": "scatter",
         "x": [
          "2020-01-27T00:00:00",
          "2020-02-14T00:00:00",
          "2020-02-15T00:00:00",
          "2020-02-16T00:00:00",
          "2020-02-17T00:00:00",
          "2020-02-18T00:00:00",
          "2020-02-19T00:00:00",
          "2020-02-20T00:00:00",
          "2020-02-21T00:00:00",
          "2020-02-22T00:00:00",
          "2020-02-23T00:00:00",
          "2020-02-24T00:00:00",
          "2020-02-25T00:00:00",
          "2020-02-26T00:00:00",
          "2020-02-27T00:00:00",
          "2020-02-28T00:00:00",
          "2020-02-29T00:00:00",
          "2020-03-01T00:00:00",
          "2020-03-02T00:00:00",
          "2020-03-03T00:00:00",
          "2020-03-04T00:00:00",
          "2020-03-05T00:00:00",
          "2020-03-06T00:00:00",
          "2020-03-07T00:00:00",
          "2020-03-08T00:00:00",
          "2020-03-09T00:00:00",
          "2020-03-10T00:00:00",
          "2020-03-11T00:00:00",
          "2020-03-12T00:00:00",
          "2020-03-13T00:00:00",
          "2020-03-14T00:00:00",
          "2020-03-15T00:00:00",
          "2020-03-16T00:00:00",
          "2020-03-17T00:00:00",
          "2020-03-18T00:00:00",
          "2020-03-19T00:00:00",
          "2020-03-20T00:00:00",
          "2020-03-21T00:00:00",
          "2020-03-22T00:00:00",
          "2020-03-23T00:00:00",
          "2020-03-24T00:00:00",
          "2020-03-25T00:00:00",
          "2020-03-26T00:00:00",
          "2020-03-27T00:00:00",
          "2020-03-28T00:00:00",
          "2020-03-29T00:00:00",
          "2020-03-30T00:00:00",
          "2020-03-31T00:00:00",
          "2020-04-01T00:00:00",
          "2020-04-02T00:00:00",
          "2020-04-03T00:00:00",
          "2020-04-04T00:00:00",
          "2020-04-05T00:00:00",
          "2020-04-06T00:00:00",
          "2020-04-07T00:00:00",
          "2020-04-08T00:00:00",
          "2020-04-09T00:00:00",
          "2020-04-10T00:00:00",
          "2020-04-11T00:00:00",
          "2020-04-12T00:00:00",
          "2020-04-13T00:00:00",
          "2020-04-14T00:00:00",
          "2020-04-15T00:00:00",
          "2020-04-16T00:00:00",
          "2020-04-17T00:00:00",
          "2020-04-18T00:00:00",
          "2020-04-19T00:00:00",
          "2020-04-20T00:00:00",
          "2020-04-21T00:00:00",
          "2020-04-22T00:00:00",
          "2020-04-23T00:00:00",
          "2020-04-24T00:00:00",
          "2020-04-25T00:00:00",
          "2020-04-26T00:00:00",
          "2020-04-27T00:00:00"
         ],
         "xaxis": "x",
         "y": [
          1,
          1,
          1,
          1,
          1,
          1,
          1,
          1,
          1,
          1,
          1,
          1,
          2,
          2,
          2,
          3,
          3,
          4,
          8,
          11,
          21,
          24,
          43,
          43,
          83,
          91,
          104,
          117,
          133,
          176,
          253,
          312,
          400,
          478,
          595,
          772,
          960,
          1158,
          1423,
          1793,
          2177,
          2693,
          3230,
          3784,
          4124,
          4621,
          5028,
          5602,
          6190,
          6838,
          7695,
          8347,
          9037,
          9676,
          10283,
          11052,
          11805,
          12469,
          13094,
          13917,
          14649,
          15600,
          16554,
          17706,
          19079,
          20271,
          21434,
          22607,
          23593,
          24959,
          26357,
          27991,
          29222,
          30683,
          32003
         ],
         "yaxis": "y"
        }
       ],
       "layout": {
        "annotations": [
         {
          "font": {
           "color": "rgb(37,37,37)",
           "family": "Arial",
           "size": 30
          },
          "showarrow": false,
          "text": "Showing Deaths of total country",
          "x": 0,
          "xanchor": "left",
          "xref": "paper",
          "y": 1.05,
          "yanchor": "bottom",
          "yref": "paper"
         }
        ],
        "height": 600,
        "legend": {
         "tracegroupgap": 0
        },
        "margin": {
         "t": 60
        },
        "template": {
         "data": {
          "bar": [
           {
            "error_x": {
             "color": "#2a3f5f"
            },
            "error_y": {
             "color": "#2a3f5f"
            },
            "marker": {
             "line": {
              "color": "#E5ECF6",
              "width": 0.5
             }
            },
            "type": "bar"
           }
          ],
          "barpolar": [
           {
            "marker": {
             "line": {
              "color": "#E5ECF6",
              "width": 0.5
             }
            },
            "type": "barpolar"
           }
          ],
          "carpet": [
           {
            "aaxis": {
             "endlinecolor": "#2a3f5f",
             "gridcolor": "white",
             "linecolor": "white",
             "minorgridcolor": "white",
             "startlinecolor": "#2a3f5f"
            },
            "baxis": {
             "endlinecolor": "#2a3f5f",
             "gridcolor": "white",
             "linecolor": "white",
             "minorgridcolor": "white",
             "startlinecolor": "#2a3f5f"
            },
            "type": "carpet"
           }
          ],
          "choropleth": [
           {
            "colorbar": {
             "outlinewidth": 0,
             "ticks": ""
            },
            "type": "choropleth"
           }
          ],
          "contour": [
           {
            "colorbar": {
             "outlinewidth": 0,
             "ticks": ""
            },
            "colorscale": [
             [
              0,
              "#0d0887"
             ],
             [
              0.1111111111111111,
              "#46039f"
             ],
             [
              0.2222222222222222,
              "#7201a8"
             ],
             [
              0.3333333333333333,
              "#9c179e"
             ],
             [
              0.4444444444444444,
              "#bd3786"
             ],
             [
              0.5555555555555556,
              "#d8576b"
             ],
             [
              0.6666666666666666,
              "#ed7953"
             ],
             [
              0.7777777777777778,
              "#fb9f3a"
             ],
             [
              0.8888888888888888,
              "#fdca26"
             ],
             [
              1,
              "#f0f921"
             ]
            ],
            "type": "contour"
           }
          ],
          "contourcarpet": [
           {
            "colorbar": {
             "outlinewidth": 0,
             "ticks": ""
            },
            "type": "contourcarpet"
           }
          ],
          "heatmap": [
           {
            "colorbar": {
             "outlinewidth": 0,
             "ticks": ""
            },
            "colorscale": [
             [
              0,
              "#0d0887"
             ],
             [
              0.1111111111111111,
              "#46039f"
             ],
             [
              0.2222222222222222,
              "#7201a8"
             ],
             [
              0.3333333333333333,
              "#9c179e"
             ],
             [
              0.4444444444444444,
              "#bd3786"
             ],
             [
              0.5555555555555556,
              "#d8576b"
             ],
             [
              0.6666666666666666,
              "#ed7953"
             ],
             [
              0.7777777777777778,
              "#fb9f3a"
             ],
             [
              0.8888888888888888,
              "#fdca26"
             ],
             [
              1,
              "#f0f921"
             ]
            ],
            "type": "heatmap"
           }
          ],
          "heatmapgl": [
           {
            "colorbar": {
             "outlinewidth": 0,
             "ticks": ""
            },
            "colorscale": [
             [
              0,
              "#0d0887"
             ],
             [
              0.1111111111111111,
              "#46039f"
             ],
             [
              0.2222222222222222,
              "#7201a8"
             ],
             [
              0.3333333333333333,
              "#9c179e"
             ],
             [
              0.4444444444444444,
              "#bd3786"
             ],
             [
              0.5555555555555556,
              "#d8576b"
             ],
             [
              0.6666666666666666,
              "#ed7953"
             ],
             [
              0.7777777777777778,
              "#fb9f3a"
             ],
             [
              0.8888888888888888,
              "#fdca26"
             ],
             [
              1,
              "#f0f921"
             ]
            ],
            "type": "heatmapgl"
           }
          ],
          "histogram": [
           {
            "marker": {
             "colorbar": {
              "outlinewidth": 0,
              "ticks": ""
             }
            },
            "type": "histogram"
           }
          ],
          "histogram2d": [
           {
            "colorbar": {
             "outlinewidth": 0,
             "ticks": ""
            },
            "colorscale": [
             [
              0,
              "#0d0887"
             ],
             [
              0.1111111111111111,
              "#46039f"
             ],
             [
              0.2222222222222222,
              "#7201a8"
             ],
             [
              0.3333333333333333,
              "#9c179e"
             ],
             [
              0.4444444444444444,
              "#bd3786"
             ],
             [
              0.5555555555555556,
              "#d8576b"
             ],
             [
              0.6666666666666666,
              "#ed7953"
             ],
             [
              0.7777777777777778,
              "#fb9f3a"
             ],
             [
              0.8888888888888888,
              "#fdca26"
             ],
             [
              1,
              "#f0f921"
             ]
            ],
            "type": "histogram2d"
           }
          ],
          "histogram2dcontour": [
           {
            "colorbar": {
             "outlinewidth": 0,
             "ticks": ""
            },
            "colorscale": [
             [
              0,
              "#0d0887"
             ],
             [
              0.1111111111111111,
              "#46039f"
             ],
             [
              0.2222222222222222,
              "#7201a8"
             ],
             [
              0.3333333333333333,
              "#9c179e"
             ],
             [
              0.4444444444444444,
              "#bd3786"
             ],
             [
              0.5555555555555556,
              "#d8576b"
             ],
             [
              0.6666666666666666,
              "#ed7953"
             ],
             [
              0.7777777777777778,
              "#fb9f3a"
             ],
             [
              0.8888888888888888,
              "#fdca26"
             ],
             [
              1,
              "#f0f921"
             ]
            ],
            "type": "histogram2dcontour"
           }
          ],
          "mesh3d": [
           {
            "colorbar": {
             "outlinewidth": 0,
             "ticks": ""
            },
            "type": "mesh3d"
           }
          ],
          "parcoords": [
           {
            "line": {
             "colorbar": {
              "outlinewidth": 0,
              "ticks": ""
             }
            },
            "type": "parcoords"
           }
          ],
          "scatter": [
           {
            "marker": {
             "colorbar": {
              "outlinewidth": 0,
              "ticks": ""
             }
            },
            "type": "scatter"
           }
          ],
          "scatter3d": [
           {
            "line": {
             "colorbar": {
              "outlinewidth": 0,
              "ticks": ""
             }
            },
            "marker": {
             "colorbar": {
              "outlinewidth": 0,
              "ticks": ""
             }
            },
            "type": "scatter3d"
           }
          ],
          "scattercarpet": [
           {
            "marker": {
             "colorbar": {
              "outlinewidth": 0,
              "ticks": ""
             }
            },
            "type": "scattercarpet"
           }
          ],
          "scattergeo": [
           {
            "marker": {
             "colorbar": {
              "outlinewidth": 0,
              "ticks": ""
             }
            },
            "type": "scattergeo"
           }
          ],
          "scattergl": [
           {
            "marker": {
             "colorbar": {
              "outlinewidth": 0,
              "ticks": ""
             }
            },
            "type": "scattergl"
           }
          ],
          "scattermapbox": [
           {
            "marker": {
             "colorbar": {
              "outlinewidth": 0,
              "ticks": ""
             }
            },
            "type": "scattermapbox"
           }
          ],
          "scatterpolar": [
           {
            "marker": {
             "colorbar": {
              "outlinewidth": 0,
              "ticks": ""
             }
            },
            "type": "scatterpolar"
           }
          ],
          "scatterpolargl": [
           {
            "marker": {
             "colorbar": {
              "outlinewidth": 0,
              "ticks": ""
             }
            },
            "type": "scatterpolargl"
           }
          ],
          "scatterternary": [
           {
            "marker": {
             "colorbar": {
              "outlinewidth": 0,
              "ticks": ""
             }
            },
            "type": "scatterternary"
           }
          ],
          "surface": [
           {
            "colorbar": {
             "outlinewidth": 0,
             "ticks": ""
            },
            "colorscale": [
             [
              0,
              "#0d0887"
             ],
             [
              0.1111111111111111,
              "#46039f"
             ],
             [
              0.2222222222222222,
              "#7201a8"
             ],
             [
              0.3333333333333333,
              "#9c179e"
             ],
             [
              0.4444444444444444,
              "#bd3786"
             ],
             [
              0.5555555555555556,
              "#d8576b"
             ],
             [
              0.6666666666666666,
              "#ed7953"
             ],
             [
              0.7777777777777778,
              "#fb9f3a"
             ],
             [
              0.8888888888888888,
              "#fdca26"
             ],
             [
              1,
              "#f0f921"
             ]
            ],
            "type": "surface"
           }
          ],
          "table": [
           {
            "cells": {
             "fill": {
              "color": "#EBF0F8"
             },
             "line": {
              "color": "white"
             }
            },
            "header": {
             "fill": {
              "color": "#C8D4E3"
             },
             "line": {
              "color": "white"
             }
            },
            "type": "table"
           }
          ]
         },
         "layout": {
          "annotationdefaults": {
           "arrowcolor": "#2a3f5f",
           "arrowhead": 0,
           "arrowwidth": 1
          },
          "colorscale": {
           "diverging": [
            [
             0,
             "#8e0152"
            ],
            [
             0.1,
             "#c51b7d"
            ],
            [
             0.2,
             "#de77ae"
            ],
            [
             0.3,
             "#f1b6da"
            ],
            [
             0.4,
             "#fde0ef"
            ],
            [
             0.5,
             "#f7f7f7"
            ],
            [
             0.6,
             "#e6f5d0"
            ],
            [
             0.7,
             "#b8e186"
            ],
            [
             0.8,
             "#7fbc41"
            ],
            [
             0.9,
             "#4d9221"
            ],
            [
             1,
             "#276419"
            ]
           ],
           "sequential": [
            [
             0,
             "#0d0887"
            ],
            [
             0.1111111111111111,
             "#46039f"
            ],
            [
             0.2222222222222222,
             "#7201a8"
            ],
            [
             0.3333333333333333,
             "#9c179e"
            ],
            [
             0.4444444444444444,
             "#bd3786"
            ],
            [
             0.5555555555555556,
             "#d8576b"
            ],
            [
             0.6666666666666666,
             "#ed7953"
            ],
            [
             0.7777777777777778,
             "#fb9f3a"
            ],
            [
             0.8888888888888888,
             "#fdca26"
            ],
            [
             1,
             "#f0f921"
            ]
           ],
           "sequentialminus": [
            [
             0,
             "#0d0887"
            ],
            [
             0.1111111111111111,
             "#46039f"
            ],
            [
             0.2222222222222222,
             "#7201a8"
            ],
            [
             0.3333333333333333,
             "#9c179e"
            ],
            [
             0.4444444444444444,
             "#bd3786"
            ],
            [
             0.5555555555555556,
             "#d8576b"
            ],
            [
             0.6666666666666666,
             "#ed7953"
            ],
            [
             0.7777777777777778,
             "#fb9f3a"
            ],
            [
             0.8888888888888888,
             "#fdca26"
            ],
            [
             1,
             "#f0f921"
            ]
           ]
          },
          "colorway": [
           "#636efa",
           "#EF553B",
           "#00cc96",
           "#ab63fa",
           "#FFA15A",
           "#19d3f3",
           "#FF6692",
           "#B6E880",
           "#FF97FF",
           "#FECB52"
          ],
          "font": {
           "color": "#2a3f5f"
          },
          "geo": {
           "bgcolor": "white",
           "lakecolor": "white",
           "landcolor": "#E5ECF6",
           "showlakes": true,
           "showland": true,
           "subunitcolor": "white"
          },
          "hoverlabel": {
           "align": "left"
          },
          "hovermode": "closest",
          "mapbox": {
           "style": "light"
          },
          "paper_bgcolor": "white",
          "plot_bgcolor": "#E5ECF6",
          "polar": {
           "angularaxis": {
            "gridcolor": "white",
            "linecolor": "white",
            "ticks": ""
           },
           "bgcolor": "#E5ECF6",
           "radialaxis": {
            "gridcolor": "white",
            "linecolor": "white",
            "ticks": ""
           }
          },
          "scene": {
           "xaxis": {
            "backgroundcolor": "#E5ECF6",
            "gridcolor": "white",
            "gridwidth": 2,
            "linecolor": "white",
            "showbackground": true,
            "ticks": "",
            "zerolinecolor": "white"
           },
           "yaxis": {
            "backgroundcolor": "#E5ECF6",
            "gridcolor": "white",
            "gridwidth": 2,
            "linecolor": "white",
            "showbackground": true,
            "ticks": "",
            "zerolinecolor": "white"
           },
           "zaxis": {
            "backgroundcolor": "#E5ECF6",
            "gridcolor": "white",
            "gridwidth": 2,
            "linecolor": "white",
            "showbackground": true,
            "ticks": "",
            "zerolinecolor": "white"
           }
          },
          "shapedefaults": {
           "line": {
            "color": "#2a3f5f"
           }
          },
          "ternary": {
           "aaxis": {
            "gridcolor": "white",
            "linecolor": "white",
            "ticks": ""
           },
           "baxis": {
            "gridcolor": "white",
            "linecolor": "white",
            "ticks": ""
           },
           "bgcolor": "#E5ECF6",
           "caxis": {
            "gridcolor": "white",
            "linecolor": "white",
            "ticks": ""
           }
          },
          "title": {
           "x": 0.05
          },
          "xaxis": {
           "automargin": true,
           "gridcolor": "white",
           "linecolor": "white",
           "ticks": "",
           "zerolinecolor": "white",
           "zerolinewidth": 2
          },
          "yaxis": {
           "automargin": true,
           "gridcolor": "white",
           "linecolor": "white",
           "ticks": "",
           "zerolinecolor": "white",
           "zerolinewidth": 2
          }
         }
        },
        "xaxis": {
         "anchor": "y",
         "domain": [
          0,
          0.98
         ],
         "title": {
          "text": "date"
         }
        },
        "yaxis": {
         "anchor": "x",
         "domain": [
          0,
          1
         ],
         "title": {
          "text": "Confirmed"
         }
        }
       }
      }
     },
     "metadata": {}
    }
   ],
   "source": [
    "\n",
    "fig = px.line(pd.DataFrame(af.groupby('date')['Confirmed'].sum().reset_index()), x=\"date\", y=\"Confirmed\")\n",
    "annotations = []\n",
    "annotations.append(dict(xref='paper', yref='paper', x=0.0, y=1.05,\n",
    "                              xanchor='left', yanchor='bottom',\n",
    "                              text='Showing Deaths of total country',\n",
    "                              font=dict(family='Arial',\n",
    "                                        size=30,\n",
    "                                        color='rgb(37,37,37)'),\n",
    "                              showarrow=False))\n",
    "fig.update_layout(annotations=annotations)\n",
    "fig.show()"
   ]
  },
  {
   "cell_type": "code",
   "execution_count": 13,
   "metadata": {},
   "outputs": [],
   "source": [
    "#Forecasting confirmed cases\n",
    "confirmed_dataset = pd.DataFrame(af.groupby('date')['Confirmed'].sum().reset_index()).rename(columns={'date': 'ds', 'Confirmed': 'y'})"
   ]
  },
  {
   "cell_type": "code",
   "execution_count": 15,
   "metadata": {},
   "outputs": [
    {
     "output_type": "execute_result",
     "data": {
      "text/plain": "           ds      y\n70 2020-04-23  26357\n71 2020-04-24  27991\n72 2020-04-25  29222\n73 2020-04-26  30683\n74 2020-04-27  32003",
      "text/html": "<div>\n<style scoped>\n    .dataframe tbody tr th:only-of-type {\n        vertical-align: middle;\n    }\n\n    .dataframe tbody tr th {\n        vertical-align: top;\n    }\n\n    .dataframe thead th {\n        text-align: right;\n    }\n</style>\n<table border=\"1\" class=\"dataframe\">\n  <thead>\n    <tr style=\"text-align: right;\">\n      <th></th>\n      <th>ds</th>\n      <th>y</th>\n    </tr>\n  </thead>\n  <tbody>\n    <tr>\n      <th>70</th>\n      <td>2020-04-23</td>\n      <td>26357</td>\n    </tr>\n    <tr>\n      <th>71</th>\n      <td>2020-04-24</td>\n      <td>27991</td>\n    </tr>\n    <tr>\n      <th>72</th>\n      <td>2020-04-25</td>\n      <td>29222</td>\n    </tr>\n    <tr>\n      <th>73</th>\n      <td>2020-04-26</td>\n      <td>30683</td>\n    </tr>\n    <tr>\n      <th>74</th>\n      <td>2020-04-27</td>\n      <td>32003</td>\n    </tr>\n  </tbody>\n</table>\n</div>"
     },
     "metadata": {},
     "execution_count": 15
    }
   ],
   "source": [
    "confirmed_dataset.tail()"
   ]
  },
  {
   "cell_type": "code",
   "execution_count": 16,
   "metadata": {},
   "outputs": [
    {
     "output_type": "stream",
     "name": "stderr",
     "text": "INFO:numexpr.utils:NumExpr defaulting to 4 threads.\nINFO:fbprophet:Disabling yearly seasonality. Run prophet with yearly_seasonality=True to override this.\nINFO:fbprophet:Disabling daily seasonality. Run prophet with daily_seasonality=True to override this.\n"
    },
    {
     "output_type": "execute_result",
     "data": {
      "text/plain": "<fbprophet.forecaster.Prophet at 0x1e9f1711358>"
     },
     "metadata": {},
     "execution_count": 16
    }
   ],
   "source": [
    "#Make the model\n",
    "prophet = Prophet()\n",
    "confirmed_prophet = prophet.fit(confirmed_dataset)"
   ]
  },
  {
   "cell_type": "code",
   "execution_count": 32,
   "metadata": {},
   "outputs": [],
   "source": [
    "future = prophet.make_future_dataframe(periods=90)\n",
    "confirmed_forecast = prophet.predict(future)"
   ]
  },
  {
   "cell_type": "code",
   "execution_count": 33,
   "metadata": {},
   "outputs": [
    {
     "output_type": "display_data",
     "data": {
      "application/vnd.plotly.v1+json": {
       "config": {
        "plotlyServerURL": "https://plot.ly"
       },
       "data": [
        {
         "marker": {
          "color": "black",
          "size": 4
         },
         "mode": "markers",
         "name": "Actual",
         "type": "scatter",
         "x": [
          "2020-01-27T00:00:00",
          "2020-02-14T00:00:00",
          "2020-02-15T00:00:00",
          "2020-02-16T00:00:00",
          "2020-02-17T00:00:00",
          "2020-02-18T00:00:00",
          "2020-02-19T00:00:00",
          "2020-02-20T00:00:00",
          "2020-02-21T00:00:00",
          "2020-02-22T00:00:00",
          "2020-02-23T00:00:00",
          "2020-02-24T00:00:00",
          "2020-02-25T00:00:00",
          "2020-02-26T00:00:00",
          "2020-02-27T00:00:00",
          "2020-02-28T00:00:00",
          "2020-02-29T00:00:00",
          "2020-03-01T00:00:00",
          "2020-03-02T00:00:00",
          "2020-03-03T00:00:00",
          "2020-03-04T00:00:00",
          "2020-03-05T00:00:00",
          "2020-03-06T00:00:00",
          "2020-03-07T00:00:00",
          "2020-03-08T00:00:00",
          "2020-03-09T00:00:00",
          "2020-03-10T00:00:00",
          "2020-03-11T00:00:00",
          "2020-03-12T00:00:00",
          "2020-03-13T00:00:00",
          "2020-03-14T00:00:00",
          "2020-03-15T00:00:00",
          "2020-03-16T00:00:00",
          "2020-03-17T00:00:00",
          "2020-03-18T00:00:00",
          "2020-03-19T00:00:00",
          "2020-03-20T00:00:00",
          "2020-03-21T00:00:00",
          "2020-03-22T00:00:00",
          "2020-03-23T00:00:00",
          "2020-03-24T00:00:00",
          "2020-03-25T00:00:00",
          "2020-03-26T00:00:00",
          "2020-03-27T00:00:00",
          "2020-03-28T00:00:00",
          "2020-03-29T00:00:00",
          "2020-03-30T00:00:00",
          "2020-03-31T00:00:00",
          "2020-04-01T00:00:00",
          "2020-04-02T00:00:00",
          "2020-04-03T00:00:00",
          "2020-04-04T00:00:00",
          "2020-04-05T00:00:00",
          "2020-04-06T00:00:00",
          "2020-04-07T00:00:00",
          "2020-04-08T00:00:00",
          "2020-04-09T00:00:00",
          "2020-04-10T00:00:00",
          "2020-04-11T00:00:00",
          "2020-04-12T00:00:00",
          "2020-04-13T00:00:00",
          "2020-04-14T00:00:00",
          "2020-04-15T00:00:00",
          "2020-04-16T00:00:00",
          "2020-04-17T00:00:00",
          "2020-04-18T00:00:00",
          "2020-04-19T00:00:00",
          "2020-04-20T00:00:00",
          "2020-04-21T00:00:00",
          "2020-04-22T00:00:00",
          "2020-04-23T00:00:00",
          "2020-04-24T00:00:00",
          "2020-04-25T00:00:00",
          "2020-04-26T00:00:00",
          "2020-04-27T00:00:00"
         ],
         "y": [
          1,
          1,
          1,
          1,
          1,
          1,
          1,
          1,
          1,
          1,
          1,
          1,
          2,
          2,
          2,
          3,
          3,
          4,
          8,
          11,
          21,
          24,
          43,
          43,
          83,
          91,
          104,
          117,
          133,
          176,
          253,
          312,
          400,
          478,
          595,
          772,
          960,
          1158,
          1423,
          1793,
          2177,
          2693,
          3230,
          3784,
          4124,
          4621,
          5028,
          5602,
          6190,
          6838,
          7695,
          8347,
          9037,
          9676,
          10283,
          11052,
          11805,
          12469,
          13094,
          13917,
          14649,
          15600,
          16554,
          17706,
          19079,
          20271,
          21434,
          22607,
          23593,
          24959,
          26357,
          27991,
          29222,
          30683,
          32003
         ]
        },
        {
         "hoverinfo": "skip",
         "line": {
          "width": 0
         },
         "mode": "lines",
         "type": "scatter",
         "x": [
          "2020-01-27T00:00:00",
          "2020-02-14T00:00:00",
          "2020-02-15T00:00:00",
          "2020-02-16T00:00:00",
          "2020-02-17T00:00:00",
          "2020-02-18T00:00:00",
          "2020-02-19T00:00:00",
          "2020-02-20T00:00:00",
          "2020-02-21T00:00:00",
          "2020-02-22T00:00:00",
          "2020-02-23T00:00:00",
          "2020-02-24T00:00:00",
          "2020-02-25T00:00:00",
          "2020-02-26T00:00:00",
          "2020-02-27T00:00:00",
          "2020-02-28T00:00:00",
          "2020-02-29T00:00:00",
          "2020-03-01T00:00:00",
          "2020-03-02T00:00:00",
          "2020-03-03T00:00:00",
          "2020-03-04T00:00:00",
          "2020-03-05T00:00:00",
          "2020-03-06T00:00:00",
          "2020-03-07T00:00:00",
          "2020-03-08T00:00:00",
          "2020-03-09T00:00:00",
          "2020-03-10T00:00:00",
          "2020-03-11T00:00:00",
          "2020-03-12T00:00:00",
          "2020-03-13T00:00:00",
          "2020-03-14T00:00:00",
          "2020-03-15T00:00:00",
          "2020-03-16T00:00:00",
          "2020-03-17T00:00:00",
          "2020-03-18T00:00:00",
          "2020-03-19T00:00:00",
          "2020-03-20T00:00:00",
          "2020-03-21T00:00:00",
          "2020-03-22T00:00:00",
          "2020-03-23T00:00:00",
          "2020-03-24T00:00:00",
          "2020-03-25T00:00:00",
          "2020-03-26T00:00:00",
          "2020-03-27T00:00:00",
          "2020-03-28T00:00:00",
          "2020-03-29T00:00:00",
          "2020-03-30T00:00:00",
          "2020-03-31T00:00:00",
          "2020-04-01T00:00:00",
          "2020-04-02T00:00:00",
          "2020-04-03T00:00:00",
          "2020-04-04T00:00:00",
          "2020-04-05T00:00:00",
          "2020-04-06T00:00:00",
          "2020-04-07T00:00:00",
          "2020-04-08T00:00:00",
          "2020-04-09T00:00:00",
          "2020-04-10T00:00:00",
          "2020-04-11T00:00:00",
          "2020-04-12T00:00:00",
          "2020-04-13T00:00:00",
          "2020-04-14T00:00:00",
          "2020-04-15T00:00:00",
          "2020-04-16T00:00:00",
          "2020-04-17T00:00:00",
          "2020-04-18T00:00:00",
          "2020-04-19T00:00:00",
          "2020-04-20T00:00:00",
          "2020-04-21T00:00:00",
          "2020-04-22T00:00:00",
          "2020-04-23T00:00:00",
          "2020-04-24T00:00:00",
          "2020-04-25T00:00:00",
          "2020-04-26T00:00:00",
          "2020-04-27T00:00:00",
          "2020-04-28T00:00:00",
          "2020-04-29T00:00:00",
          "2020-04-30T00:00:00",
          "2020-05-01T00:00:00",
          "2020-05-02T00:00:00",
          "2020-05-03T00:00:00",
          "2020-05-04T00:00:00",
          "2020-05-05T00:00:00",
          "2020-05-06T00:00:00",
          "2020-05-07T00:00:00",
          "2020-05-08T00:00:00",
          "2020-05-09T00:00:00",
          "2020-05-10T00:00:00",
          "2020-05-11T00:00:00",
          "2020-05-12T00:00:00",
          "2020-05-13T00:00:00",
          "2020-05-14T00:00:00",
          "2020-05-15T00:00:00",
          "2020-05-16T00:00:00",
          "2020-05-17T00:00:00",
          "2020-05-18T00:00:00",
          "2020-05-19T00:00:00",
          "2020-05-20T00:00:00",
          "2020-05-21T00:00:00",
          "2020-05-22T00:00:00",
          "2020-05-23T00:00:00",
          "2020-05-24T00:00:00",
          "2020-05-25T00:00:00",
          "2020-05-26T00:00:00",
          "2020-05-27T00:00:00",
          "2020-05-28T00:00:00",
          "2020-05-29T00:00:00",
          "2020-05-30T00:00:00",
          "2020-05-31T00:00:00",
          "2020-06-01T00:00:00",
          "2020-06-02T00:00:00",
          "2020-06-03T00:00:00",
          "2020-06-04T00:00:00",
          "2020-06-05T00:00:00",
          "2020-06-06T00:00:00",
          "2020-06-07T00:00:00",
          "2020-06-08T00:00:00",
          "2020-06-09T00:00:00",
          "2020-06-10T00:00:00",
          "2020-06-11T00:00:00",
          "2020-06-12T00:00:00",
          "2020-06-13T00:00:00",
          "2020-06-14T00:00:00",
          "2020-06-15T00:00:00",
          "2020-06-16T00:00:00",
          "2020-06-17T00:00:00",
          "2020-06-18T00:00:00",
          "2020-06-19T00:00:00",
          "2020-06-20T00:00:00",
          "2020-06-21T00:00:00",
          "2020-06-22T00:00:00",
          "2020-06-23T00:00:00",
          "2020-06-24T00:00:00",
          "2020-06-25T00:00:00",
          "2020-06-26T00:00:00",
          "2020-06-27T00:00:00",
          "2020-06-28T00:00:00",
          "2020-06-29T00:00:00",
          "2020-06-30T00:00:00",
          "2020-07-01T00:00:00",
          "2020-07-02T00:00:00",
          "2020-07-03T00:00:00",
          "2020-07-04T00:00:00",
          "2020-07-05T00:00:00",
          "2020-07-06T00:00:00",
          "2020-07-07T00:00:00",
          "2020-07-08T00:00:00",
          "2020-07-09T00:00:00",
          "2020-07-10T00:00:00",
          "2020-07-11T00:00:00",
          "2020-07-12T00:00:00",
          "2020-07-13T00:00:00",
          "2020-07-14T00:00:00",
          "2020-07-15T00:00:00",
          "2020-07-16T00:00:00",
          "2020-07-17T00:00:00",
          "2020-07-18T00:00:00",
          "2020-07-19T00:00:00",
          "2020-07-20T00:00:00",
          "2020-07-21T00:00:00",
          "2020-07-22T00:00:00",
          "2020-07-23T00:00:00",
          "2020-07-24T00:00:00",
          "2020-07-25T00:00:00",
          "2020-07-26T00:00:00"
         ],
         "y": [
          -301.4231910372486,
          -238.27406707819796,
          -241.44776761182993,
          -177.89550728362207,
          -234.3392041036292,
          -350.6797947234762,
          -342.3131023054517,
          -298.9053962211848,
          -204.88732810305453,
          -226.79240643586223,
          -147.1035689853469,
          -201.3045049491689,
          -320.8317403484267,
          -315.5418395245397,
          -293.00176113948487,
          -200.28883536031472,
          -172.619397659095,
          -124.5971915460913,
          -189.8553571316947,
          -315.12499544100075,
          -291.8727990372182,
          -263.6631744319162,
          -168.24823936379647,
          -127.51351746183454,
          -93.31585609703384,
          -122.97316922993238,
          -246.5185593838584,
          -206.4456791000159,
          -147.83103561381506,
          -41.16733679939578,
          -7.772046949633944,
          63.3642527172244,
          158.37709381349106,
          183.24100495718676,
          338.8537813556026,
          526.9530827484343,
          782.3304298082284,
          909.8780361378967,
          1125.1946090744698,
          1563.343616012856,
          1901.3552002281822,
          2387.265950264311,
          2890.657216816764,
          3505.0180561107472,
          3996.8486149042033,
          4529.170321811412,
          5002.686168156505,
          5371.978461682156,
          5992.558691741548,
          6677.583396909296,
          7418.384772302521,
          8081.186416971541,
          8742.313768475235,
          9336.04267435684,
          9857.001611039444,
          10486.420513485966,
          11175.00307499045,
          11918.43743780018,
          12565.027497642448,
          13252.061436076852,
          14391.001539037792,
          15460.91063952096,
          16649.6900673921,
          17882.52722807832,
          19168.49082619038,
          20358.29790549991,
          21615.934045146598,
          22747.745442854874,
          23813.617344451315,
          24998.15014133829,
          26203.266043560263,
          27512.387681877794,
          28701.596018702385,
          29939.732247677483,
          31092.103396956893,
          32149.288494205524,
          33337.0031784409,
          34554.69379498281,
          35797.40274082189,
          36938.42951517217,
          38126.668586842134,
          39204.44652187812,
          40185.76564856777,
          41282.631602506226,
          42364.95517770098,
          43554.64117829318,
          44682.66966266803,
          45730.97704702573,
          46750.662302303026,
          47707.10698541591,
          48756.720433777875,
          49865.43968745089,
          50956.24803447348,
          52021.12991700582,
          53083.448234478004,
          54080.94710046947,
          54992.47400745606,
          55979.72143166896,
          57097.64359990792,
          58151.961961748675,
          59104.10306543463,
          60114.358062937,
          61097.35997877396,
          61946.1038609587,
          62947.62505901629,
          63953.22984712151,
          65011.01188375133,
          65936.9285295319,
          67035.46047827626,
          67842.84292501467,
          68803.63463211348,
          69684.27108522339,
          70668.57489984264,
          71688.03363797533,
          72599.07714544132,
          73627.73754893607,
          74564.16937309864,
          75250.38215526765,
          76200.62111890958,
          77138.10158248678,
          78193.480453278,
          79097.87660567964,
          79970.20560247278,
          80818.79958799973,
          81641.68133949295,
          82469.60592116814,
          83483.99478541208,
          84438.89371157887,
          85397.93512778323,
          86295.08035099665,
          87122.0448320481,
          87956.46434429032,
          88758.95146107212,
          89687.63142058162,
          90706.88960072865,
          91460.51758853081,
          92442.1411236157,
          93173.49758222276,
          93897.23453721257,
          94786.62414331228,
          95581.66147768027,
          96525.6212804044,
          97468.9991671332,
          98325.57509913364,
          99275.15987656596,
          99877.73348368349,
          100750.80608600883,
          101712.11273504978,
          102668.90199434303,
          103507.3082947237,
          104408.08392954318,
          105232.92704396522,
          105834.43472279653,
          106693.31195437208,
          107532.82075021675,
          108523.49742186618,
          109495.86032432894,
          110246.76192155844,
          111164.63480297655,
          111863.41148655234,
          112673.07514526971,
          113538.26422022238,
          114624.21307970764,
          115344.81432998138,
          116394.13311702324
         ]
        },
        {
         "fill": "tonexty",
         "fillcolor": "rgba(0, 114, 178, 0.2)",
         "line": {
          "color": "#0072B2",
          "width": 2
         },
         "mode": "lines",
         "name": "Predicted",
         "type": "scatter",
         "x": [
          "2020-01-27T00:00:00",
          "2020-02-14T00:00:00",
          "2020-02-15T00:00:00",
          "2020-02-16T00:00:00",
          "2020-02-17T00:00:00",
          "2020-02-18T00:00:00",
          "2020-02-19T00:00:00",
          "2020-02-20T00:00:00",
          "2020-02-21T00:00:00",
          "2020-02-22T00:00:00",
          "2020-02-23T00:00:00",
          "2020-02-24T00:00:00",
          "2020-02-25T00:00:00",
          "2020-02-26T00:00:00",
          "2020-02-27T00:00:00",
          "2020-02-28T00:00:00",
          "2020-02-29T00:00:00",
          "2020-03-01T00:00:00",
          "2020-03-02T00:00:00",
          "2020-03-03T00:00:00",
          "2020-03-04T00:00:00",
          "2020-03-05T00:00:00",
          "2020-03-06T00:00:00",
          "2020-03-07T00:00:00",
          "2020-03-08T00:00:00",
          "2020-03-09T00:00:00",
          "2020-03-10T00:00:00",
          "2020-03-11T00:00:00",
          "2020-03-12T00:00:00",
          "2020-03-13T00:00:00",
          "2020-03-14T00:00:00",
          "2020-03-15T00:00:00",
          "2020-03-16T00:00:00",
          "2020-03-17T00:00:00",
          "2020-03-18T00:00:00",
          "2020-03-19T00:00:00",
          "2020-03-20T00:00:00",
          "2020-03-21T00:00:00",
          "2020-03-22T00:00:00",
          "2020-03-23T00:00:00",
          "2020-03-24T00:00:00",
          "2020-03-25T00:00:00",
          "2020-03-26T00:00:00",
          "2020-03-27T00:00:00",
          "2020-03-28T00:00:00",
          "2020-03-29T00:00:00",
          "2020-03-30T00:00:00",
          "2020-03-31T00:00:00",
          "2020-04-01T00:00:00",
          "2020-04-02T00:00:00",
          "2020-04-03T00:00:00",
          "2020-04-04T00:00:00",
          "2020-04-05T00:00:00",
          "2020-04-06T00:00:00",
          "2020-04-07T00:00:00",
          "2020-04-08T00:00:00",
          "2020-04-09T00:00:00",
          "2020-04-10T00:00:00",
          "2020-04-11T00:00:00",
          "2020-04-12T00:00:00",
          "2020-04-13T00:00:00",
          "2020-04-14T00:00:00",
          "2020-04-15T00:00:00",
          "2020-04-16T00:00:00",
          "2020-04-17T00:00:00",
          "2020-04-18T00:00:00",
          "2020-04-19T00:00:00",
          "2020-04-20T00:00:00",
          "2020-04-21T00:00:00",
          "2020-04-22T00:00:00",
          "2020-04-23T00:00:00",
          "2020-04-24T00:00:00",
          "2020-04-25T00:00:00",
          "2020-04-26T00:00:00",
          "2020-04-27T00:00:00",
          "2020-04-28T00:00:00",
          "2020-04-29T00:00:00",
          "2020-04-30T00:00:00",
          "2020-05-01T00:00:00",
          "2020-05-02T00:00:00",
          "2020-05-03T00:00:00",
          "2020-05-04T00:00:00",
          "2020-05-05T00:00:00",
          "2020-05-06T00:00:00",
          "2020-05-07T00:00:00",
          "2020-05-08T00:00:00",
          "2020-05-09T00:00:00",
          "2020-05-10T00:00:00",
          "2020-05-11T00:00:00",
          "2020-05-12T00:00:00",
          "2020-05-13T00:00:00",
          "2020-05-14T00:00:00",
          "2020-05-15T00:00:00",
          "2020-05-16T00:00:00",
          "2020-05-17T00:00:00",
          "2020-05-18T00:00:00",
          "2020-05-19T00:00:00",
          "2020-05-20T00:00:00",
          "2020-05-21T00:00:00",
          "2020-05-22T00:00:00",
          "2020-05-23T00:00:00",
          "2020-05-24T00:00:00",
          "2020-05-25T00:00:00",
          "2020-05-26T00:00:00",
          "2020-05-27T00:00:00",
          "2020-05-28T00:00:00",
          "2020-05-29T00:00:00",
          "2020-05-30T00:00:00",
          "2020-05-31T00:00:00",
          "2020-06-01T00:00:00",
          "2020-06-02T00:00:00",
          "2020-06-03T00:00:00",
          "2020-06-04T00:00:00",
          "2020-06-05T00:00:00",
          "2020-06-06T00:00:00",
          "2020-06-07T00:00:00",
          "2020-06-08T00:00:00",
          "2020-06-09T00:00:00",
          "2020-06-10T00:00:00",
          "2020-06-11T00:00:00",
          "2020-06-12T00:00:00",
          "2020-06-13T00:00:00",
          "2020-06-14T00:00:00",
          "2020-06-15T00:00:00",
          "2020-06-16T00:00:00",
          "2020-06-17T00:00:00",
          "2020-06-18T00:00:00",
          "2020-06-19T00:00:00",
          "2020-06-20T00:00:00",
          "2020-06-21T00:00:00",
          "2020-06-22T00:00:00",
          "2020-06-23T00:00:00",
          "2020-06-24T00:00:00",
          "2020-06-25T00:00:00",
          "2020-06-26T00:00:00",
          "2020-06-27T00:00:00",
          "2020-06-28T00:00:00",
          "2020-06-29T00:00:00",
          "2020-06-30T00:00:00",
          "2020-07-01T00:00:00",
          "2020-07-02T00:00:00",
          "2020-07-03T00:00:00",
          "2020-07-04T00:00:00",
          "2020-07-05T00:00:00",
          "2020-07-06T00:00:00",
          "2020-07-07T00:00:00",
          "2020-07-08T00:00:00",
          "2020-07-09T00:00:00",
          "2020-07-10T00:00:00",
          "2020-07-11T00:00:00",
          "2020-07-12T00:00:00",
          "2020-07-13T00:00:00",
          "2020-07-14T00:00:00",
          "2020-07-15T00:00:00",
          "2020-07-16T00:00:00",
          "2020-07-17T00:00:00",
          "2020-07-18T00:00:00",
          "2020-07-19T00:00:00",
          "2020-07-20T00:00:00",
          "2020-07-21T00:00:00",
          "2020-07-22T00:00:00",
          "2020-07-23T00:00:00",
          "2020-07-24T00:00:00",
          "2020-07-25T00:00:00",
          "2020-07-26T00:00:00"
         ],
         "y": [
          -48.17490200416817,
          12.94503592206517,
          12.17461249345654,
          73.58599235825554,
          23.005654958807273,
          -104.51562446931209,
          -101.35086174081924,
          -63.08609944801967,
          36.671899825444,
          35.90148096185439,
          97.31303518823671,
          46.732872150409506,
          -80.78823291610256,
          -77.62292476942527,
          -39.357617058852554,
          60.507837612346904,
          59.84487414616676,
          121.36371359373871,
          71.24224236282559,
          -55.820170896574595,
          -51.93412039550232,
          -12.948070330236966,
          87.83279796040576,
          88.08524811374235,
          150.51950118068757,
          122.0184933178772,
          16.576543425829144,
          41.95399139313918,
          102.43143892451592,
          224.4194959070008,
          245.87913475227225,
          329.5205765111971,
          425.65263865508365,
          444.8437587698241,
          594.9114346874529,
          780.079110169157,
          1026.8352643213825,
          1173.0630003366596,
          1381.4725392653834,
          1805.5128861686082,
          2152.6122910428103,
          2630.5028408689714,
          3143.4933902594157,
          3739.5783027901707,
          4235.1347971840405,
          4792.873094491249,
          5238.922351087539,
          5608.030665654994,
          6250.759049252534,
          6928.58743241476,
          7667.909051057684,
          8306.70226205583,
          9007.677275967655,
          9596.660571613946,
          10108.702925231752,
          10751.431317544742,
          11429.259709422267,
          12168.5813367804,
          12807.374545606875,
          13508.349557346928,
          14646.600177573624,
          15707.909855771957,
          16899.905573441494,
          18127.001290675078,
          19415.590243389925,
          20603.65077796758,
          21853.89311545869,
          22992.143735685226,
          24053.45341388389,
          25245.449131553087,
          26472.544848786776,
          27761.133801501623,
          28949.19433607917,
          30199.436673570304,
          31337.687293797233,
          32398.99697199555,
          33590.992689664854,
          34818.08840689849,
          36106.67735961312,
          37294.73789419071,
          38544.980231681904,
          39683.23085190882,
          40744.54053010695,
          41936.53624777647,
          43163.63196501019,
          44452.22091772481,
          45640.281452302275,
          46890.5237897935,
          48028.774410020254,
          49090.08408821863,
          50282.079805887995,
          51509.17552312187,
          52797.76447583646,
          53985.82501041407,
          55236.0673479053,
          56374.31796813245,
          57435.6276463303,
          58627.623363999664,
          59854.71908123355,
          61143.308033948095,
          62331.36856852567,
          63581.61090601686,
          64719.861526243876,
          65781.17120444182,
          66973.16692211137,
          68200.26263934493,
          69488.85159205964,
          70676.91212663724,
          71927.15446412847,
          73065.40508435546,
          74126.71476255335,
          75318.71048022296,
          76545.80619745661,
          77834.39515017133,
          79022.45568474905,
          80272.69802224006,
          81410.94864246708,
          82472.2583206653,
          83664.25403833475,
          84891.34975556833,
          86179.93870828298,
          87367.9992428606,
          88618.24158035178,
          89756.49220057866,
          90817.80187877695,
          92009.79759644634,
          93236.89331368,
          94525.48226639461,
          95713.54280097215,
          96963.78513846327,
          98102.03575869012,
          99163.34543688835,
          100355.34115455794,
          101582.43687179136,
          102871.02582450627,
          104059.08635908384,
          105309.328696575,
          106447.57931680171,
          107508.88899500002,
          108700.88471266945,
          109927.98042990307,
          111216.56938261796,
          112404.62991719555,
          113654.87225468675,
          114793.12287491371,
          115854.43255311153,
          117046.42827078115,
          118273.52398801477,
          119562.11294072955,
          120750.17347530712,
          122000.4158127982,
          123138.66643302533,
          124199.97611122309,
          125391.97182889281,
          126619.0675461265,
          127907.65649884111,
          129095.71703341864,
          130345.95937090999,
          131484.20999113674,
          132545.51966933464,
          133737.51538700424,
          134964.61110423817,
          136253.20005695277,
          137441.26059153036,
          138691.50292902158
         ]
        },
        {
         "fill": "tonexty",
         "fillcolor": "rgba(0, 114, 178, 0.2)",
         "hoverinfo": "skip",
         "line": {
          "width": 0
         },
         "mode": "lines",
         "type": "scatter",
         "x": [
          "2020-01-27T00:00:00",
          "2020-02-14T00:00:00",
          "2020-02-15T00:00:00",
          "2020-02-16T00:00:00",
          "2020-02-17T00:00:00",
          "2020-02-18T00:00:00",
          "2020-02-19T00:00:00",
          "2020-02-20T00:00:00",
          "2020-02-21T00:00:00",
          "2020-02-22T00:00:00",
          "2020-02-23T00:00:00",
          "2020-02-24T00:00:00",
          "2020-02-25T00:00:00",
          "2020-02-26T00:00:00",
          "2020-02-27T00:00:00",
          "2020-02-28T00:00:00",
          "2020-02-29T00:00:00",
          "2020-03-01T00:00:00",
          "2020-03-02T00:00:00",
          "2020-03-03T00:00:00",
          "2020-03-04T00:00:00",
          "2020-03-05T00:00:00",
          "2020-03-06T00:00:00",
          "2020-03-07T00:00:00",
          "2020-03-08T00:00:00",
          "2020-03-09T00:00:00",
          "2020-03-10T00:00:00",
          "2020-03-11T00:00:00",
          "2020-03-12T00:00:00",
          "2020-03-13T00:00:00",
          "2020-03-14T00:00:00",
          "2020-03-15T00:00:00",
          "2020-03-16T00:00:00",
          "2020-03-17T00:00:00",
          "2020-03-18T00:00:00",
          "2020-03-19T00:00:00",
          "2020-03-20T00:00:00",
          "2020-03-21T00:00:00",
          "2020-03-22T00:00:00",
          "2020-03-23T00:00:00",
          "2020-03-24T00:00:00",
          "2020-03-25T00:00:00",
          "2020-03-26T00:00:00",
          "2020-03-27T00:00:00",
          "2020-03-28T00:00:00",
          "2020-03-29T00:00:00",
          "2020-03-30T00:00:00",
          "2020-03-31T00:00:00",
          "2020-04-01T00:00:00",
          "2020-04-02T00:00:00",
          "2020-04-03T00:00:00",
          "2020-04-04T00:00:00",
          "2020-04-05T00:00:00",
          "2020-04-06T00:00:00",
          "2020-04-07T00:00:00",
          "2020-04-08T00:00:00",
          "2020-04-09T00:00:00",
          "2020-04-10T00:00:00",
          "2020-04-11T00:00:00",
          "2020-04-12T00:00:00",
          "2020-04-13T00:00:00",
          "2020-04-14T00:00:00",
          "2020-04-15T00:00:00",
          "2020-04-16T00:00:00",
          "2020-04-17T00:00:00",
          "2020-04-18T00:00:00",
          "2020-04-19T00:00:00",
          "2020-04-20T00:00:00",
          "2020-04-21T00:00:00",
          "2020-04-22T00:00:00",
          "2020-04-23T00:00:00",
          "2020-04-24T00:00:00",
          "2020-04-25T00:00:00",
          "2020-04-26T00:00:00",
          "2020-04-27T00:00:00",
          "2020-04-28T00:00:00",
          "2020-04-29T00:00:00",
          "2020-04-30T00:00:00",
          "2020-05-01T00:00:00",
          "2020-05-02T00:00:00",
          "2020-05-03T00:00:00",
          "2020-05-04T00:00:00",
          "2020-05-05T00:00:00",
          "2020-05-06T00:00:00",
          "2020-05-07T00:00:00",
          "2020-05-08T00:00:00",
          "2020-05-09T00:00:00",
          "2020-05-10T00:00:00",
          "2020-05-11T00:00:00",
          "2020-05-12T00:00:00",
          "2020-05-13T00:00:00",
          "2020-05-14T00:00:00",
          "2020-05-15T00:00:00",
          "2020-05-16T00:00:00",
          "2020-05-17T00:00:00",
          "2020-05-18T00:00:00",
          "2020-05-19T00:00:00",
          "2020-05-20T00:00:00",
          "2020-05-21T00:00:00",
          "2020-05-22T00:00:00",
          "2020-05-23T00:00:00",
          "2020-05-24T00:00:00",
          "2020-05-25T00:00:00",
          "2020-05-26T00:00:00",
          "2020-05-27T00:00:00",
          "2020-05-28T00:00:00",
          "2020-05-29T00:00:00",
          "2020-05-30T00:00:00",
          "2020-05-31T00:00:00",
          "2020-06-01T00:00:00",
          "2020-06-02T00:00:00",
          "2020-06-03T00:00:00",
          "2020-06-04T00:00:00",
          "2020-06-05T00:00:00",
          "2020-06-06T00:00:00",
          "2020-06-07T00:00:00",
          "2020-06-08T00:00:00",
          "2020-06-09T00:00:00",
          "2020-06-10T00:00:00",
          "2020-06-11T00:00:00",
          "2020-06-12T00:00:00",
          "2020-06-13T00:00:00",
          "2020-06-14T00:00:00",
          "2020-06-15T00:00:00",
          "2020-06-16T00:00:00",
          "2020-06-17T00:00:00",
          "2020-06-18T00:00:00",
          "2020-06-19T00:00:00",
          "2020-06-20T00:00:00",
          "2020-06-21T00:00:00",
          "2020-06-22T00:00:00",
          "2020-06-23T00:00:00",
          "2020-06-24T00:00:00",
          "2020-06-25T00:00:00",
          "2020-06-26T00:00:00",
          "2020-06-27T00:00:00",
          "2020-06-28T00:00:00",
          "2020-06-29T00:00:00",
          "2020-06-30T00:00:00",
          "2020-07-01T00:00:00",
          "2020-07-02T00:00:00",
          "2020-07-03T00:00:00",
          "2020-07-04T00:00:00",
          "2020-07-05T00:00:00",
          "2020-07-06T00:00:00",
          "2020-07-07T00:00:00",
          "2020-07-08T00:00:00",
          "2020-07-09T00:00:00",
          "2020-07-10T00:00:00",
          "2020-07-11T00:00:00",
          "2020-07-12T00:00:00",
          "2020-07-13T00:00:00",
          "2020-07-14T00:00:00",
          "2020-07-15T00:00:00",
          "2020-07-16T00:00:00",
          "2020-07-17T00:00:00",
          "2020-07-18T00:00:00",
          "2020-07-19T00:00:00",
          "2020-07-20T00:00:00",
          "2020-07-21T00:00:00",
          "2020-07-22T00:00:00",
          "2020-07-23T00:00:00",
          "2020-07-24T00:00:00",
          "2020-07-25T00:00:00",
          "2020-07-26T00:00:00"
         ],
         "y": [
          205.90693315894265,
          268.31967620247053,
          235.63492787160936,
          324.3972297524471,
          268.87420333713584,
          159.6371795821035,
          140.92881334714627,
          191.48050211484602,
          278.94468363500573,
          271.1237834724948,
          353.6230362002686,
          289.3383780499165,
          169.06514448288337,
          174.32893511821868,
          226.3830790241032,
          307.73866524552614,
          316.4616143651572,
          373.2225046482697,
          329.2971368664433,
          192.9853572654311,
          190.30687375864846,
          241.20082233945584,
          323.6428684813713,
          341.60935699962255,
          400.97466126302385,
          376.82310860773435,
          247.28570304797682,
          279.13904999597366,
          350.47148942407114,
          484.04355597984863,
          482.9051790893344,
          576.5972190012853,
          674.7229574802512,
          699.1428668950659,
          838.6149395662478,
          1035.500631747606,
          1265.8792149658043,
          1418.1483702359924,
          1633.6112710770817,
          2055.5806473209677,
          2400.8476474555378,
          2884.274152658045,
          3388.5365320977735,
          3985.908729097668,
          4469.498171959951,
          5038.053556146541,
          5488.80885028687,
          5853.58468010154,
          6497.4951607282055,
          7177.367243215309,
          7917.952289320354,
          8539.422935981438,
          9283.95834142907,
          9832.682995349931,
          10329.920843177333,
          10996.548436744153,
          11667.984615218094,
          12390.558607691137,
          13039.821686446188,
          13761.528854753678,
          14906.49880736233,
          15957.278430235068,
          17137.80825572621,
          18370.09107999341,
          19668.703802974447,
          20851.743838352086,
          22097.032048356472,
          23249.971392270098,
          24305.696205223885,
          25483.138741647643,
          26705.729946042855,
          28004.73085741392,
          29213.01814216185,
          30452.68627348662,
          31602.568998923998,
          32640.26730617189,
          33843.69061829397,
          35065.72006528863,
          36393.869019168014,
          37642.04740583278,
          38924.67013807994,
          40140.71849408594,
          41282.26060666722,
          42576.16882058394,
          43888.96795547875,
          45339.614075673526,
          46615.88747005773,
          48037.69761242267,
          49317.361454435115,
          50557.143101339134,
          51868.003948311416,
          53273.94969597429,
          54725.79748542085,
          56115.170698130874,
          57603.15230328055,
          58822.60124185495,
          60014.259333885144,
          61405.55679398818,
          62885.93555200698,
          64267.19375467858,
          65711.52928596358,
          67195.6509116539,
          68429.97420375721,
          69792.56998284352,
          71123.56646097223,
          72597.56542595832,
          74242.56073716372,
          75734.65869255364,
          77157.91227191137,
          78626.41333296805,
          79807.59511163732,
          81284.05493618594,
          82775.42588807466,
          84412.69046545179,
          85661.33390351626,
          87265.90750453489,
          88659.19638907426,
          90003.6491844244,
          91422.44862770461,
          92883.2826017106,
          94244.64940284422,
          95693.18698724598,
          97263.17937421617,
          98512.94110316782,
          99895.66367469176,
          101379.05647186542,
          102986.3957690029,
          104447.60606817699,
          105900.43981239111,
          107533.79490607465,
          108966.02701206313,
          110503.82928445897,
          111991.27760864112,
          113468.91307848008,
          115032.27524358584,
          116486.80687795374,
          118154.11977137861,
          119470.24417848368,
          120954.98527269454,
          122317.62887928156,
          123849.08670288499,
          125587.85110044363,
          126961.34611251914,
          128500.50890907318,
          130152.22869713262,
          131546.5849782473,
          133013.18144974296,
          134706.84533203594,
          136176.9688881116,
          137540.38735212557,
          139211.9065587341,
          140836.08330936724,
          142158.59520040455,
          143579.88306879604,
          145179.31368124735,
          146748.37626172302,
          148299.00779188916,
          149822.76652644086,
          151404.67469327408,
          152901.9650300018,
          154420.40666204982,
          155956.90998949093,
          157548.00254479126,
          159224.37232394388,
          160674.14721120795
         ]
        }
       ],
       "layout": {
        "annotations": [
         {
          "font": {
           "color": "rgb(37,37,37)",
           "family": "Arial",
           "size": 30
          },
          "showarrow": false,
          "text": "Predictions for Confirmed",
          "x": 0,
          "xanchor": "left",
          "xref": "paper",
          "y": 1.05,
          "yanchor": "bottom",
          "yref": "paper"
         }
        ],
        "height": 600,
        "showlegend": false,
        "template": {
         "data": {
          "bar": [
           {
            "error_x": {
             "color": "#2a3f5f"
            },
            "error_y": {
             "color": "#2a3f5f"
            },
            "marker": {
             "line": {
              "color": "#E5ECF6",
              "width": 0.5
             }
            },
            "type": "bar"
           }
          ],
          "barpolar": [
           {
            "marker": {
             "line": {
              "color": "#E5ECF6",
              "width": 0.5
             }
            },
            "type": "barpolar"
           }
          ],
          "carpet": [
           {
            "aaxis": {
             "endlinecolor": "#2a3f5f",
             "gridcolor": "white",
             "linecolor": "white",
             "minorgridcolor": "white",
             "startlinecolor": "#2a3f5f"
            },
            "baxis": {
             "endlinecolor": "#2a3f5f",
             "gridcolor": "white",
             "linecolor": "white",
             "minorgridcolor": "white",
             "startlinecolor": "#2a3f5f"
            },
            "type": "carpet"
           }
          ],
          "choropleth": [
           {
            "colorbar": {
             "outlinewidth": 0,
             "ticks": ""
            },
            "type": "choropleth"
           }
          ],
          "contour": [
           {
            "colorbar": {
             "outlinewidth": 0,
             "ticks": ""
            },
            "colorscale": [
             [
              0,
              "#0d0887"
             ],
             [
              0.1111111111111111,
              "#46039f"
             ],
             [
              0.2222222222222222,
              "#7201a8"
             ],
             [
              0.3333333333333333,
              "#9c179e"
             ],
             [
              0.4444444444444444,
              "#bd3786"
             ],
             [
              0.5555555555555556,
              "#d8576b"
             ],
             [
              0.6666666666666666,
              "#ed7953"
             ],
             [
              0.7777777777777778,
              "#fb9f3a"
             ],
             [
              0.8888888888888888,
              "#fdca26"
             ],
             [
              1,
              "#f0f921"
             ]
            ],
            "type": "contour"
           }
          ],
          "contourcarpet": [
           {
            "colorbar": {
             "outlinewidth": 0,
             "ticks": ""
            },
            "type": "contourcarpet"
           }
          ],
          "heatmap": [
           {
            "colorbar": {
             "outlinewidth": 0,
             "ticks": ""
            },
            "colorscale": [
             [
              0,
              "#0d0887"
             ],
             [
              0.1111111111111111,
              "#46039f"
             ],
             [
              0.2222222222222222,
              "#7201a8"
             ],
             [
              0.3333333333333333,
              "#9c179e"
             ],
             [
              0.4444444444444444,
              "#bd3786"
             ],
             [
              0.5555555555555556,
              "#d8576b"
             ],
             [
              0.6666666666666666,
              "#ed7953"
             ],
             [
              0.7777777777777778,
              "#fb9f3a"
             ],
             [
              0.8888888888888888,
              "#fdca26"
             ],
             [
              1,
              "#f0f921"
             ]
            ],
            "type": "heatmap"
           }
          ],
          "heatmapgl": [
           {
            "colorbar": {
             "outlinewidth": 0,
             "ticks": ""
            },
            "colorscale": [
             [
              0,
              "#0d0887"
             ],
             [
              0.1111111111111111,
              "#46039f"
             ],
             [
              0.2222222222222222,
              "#7201a8"
             ],
             [
              0.3333333333333333,
              "#9c179e"
             ],
             [
              0.4444444444444444,
              "#bd3786"
             ],
             [
              0.5555555555555556,
              "#d8576b"
             ],
             [
              0.6666666666666666,
              "#ed7953"
             ],
             [
              0.7777777777777778,
              "#fb9f3a"
             ],
             [
              0.8888888888888888,
              "#fdca26"
             ],
             [
              1,
              "#f0f921"
             ]
            ],
            "type": "heatmapgl"
           }
          ],
          "histogram": [
           {
            "marker": {
             "colorbar": {
              "outlinewidth": 0,
              "ticks": ""
             }
            },
            "type": "histogram"
           }
          ],
          "histogram2d": [
           {
            "colorbar": {
             "outlinewidth": 0,
             "ticks": ""
            },
            "colorscale": [
             [
              0,
              "#0d0887"
             ],
             [
              0.1111111111111111,
              "#46039f"
             ],
             [
              0.2222222222222222,
              "#7201a8"
             ],
             [
              0.3333333333333333,
              "#9c179e"
             ],
             [
              0.4444444444444444,
              "#bd3786"
             ],
             [
              0.5555555555555556,
              "#d8576b"
             ],
             [
              0.6666666666666666,
              "#ed7953"
             ],
             [
              0.7777777777777778,
              "#fb9f3a"
             ],
             [
              0.8888888888888888,
              "#fdca26"
             ],
             [
              1,
              "#f0f921"
             ]
            ],
            "type": "histogram2d"
           }
          ],
          "histogram2dcontour": [
           {
            "colorbar": {
             "outlinewidth": 0,
             "ticks": ""
            },
            "colorscale": [
             [
              0,
              "#0d0887"
             ],
             [
              0.1111111111111111,
              "#46039f"
             ],
             [
              0.2222222222222222,
              "#7201a8"
             ],
             [
              0.3333333333333333,
              "#9c179e"
             ],
             [
              0.4444444444444444,
              "#bd3786"
             ],
             [
              0.5555555555555556,
              "#d8576b"
             ],
             [
              0.6666666666666666,
              "#ed7953"
             ],
             [
              0.7777777777777778,
              "#fb9f3a"
             ],
             [
              0.8888888888888888,
              "#fdca26"
             ],
             [
              1,
              "#f0f921"
             ]
            ],
            "type": "histogram2dcontour"
           }
          ],
          "mesh3d": [
           {
            "colorbar": {
             "outlinewidth": 0,
             "ticks": ""
            },
            "type": "mesh3d"
           }
          ],
          "parcoords": [
           {
            "line": {
             "colorbar": {
              "outlinewidth": 0,
              "ticks": ""
             }
            },
            "type": "parcoords"
           }
          ],
          "scatter": [
           {
            "marker": {
             "colorbar": {
              "outlinewidth": 0,
              "ticks": ""
             }
            },
            "type": "scatter"
           }
          ],
          "scatter3d": [
           {
            "line": {
             "colorbar": {
              "outlinewidth": 0,
              "ticks": ""
             }
            },
            "marker": {
             "colorbar": {
              "outlinewidth": 0,
              "ticks": ""
             }
            },
            "type": "scatter3d"
           }
          ],
          "scattercarpet": [
           {
            "marker": {
             "colorbar": {
              "outlinewidth": 0,
              "ticks": ""
             }
            },
            "type": "scattercarpet"
           }
          ],
          "scattergeo": [
           {
            "marker": {
             "colorbar": {
              "outlinewidth": 0,
              "ticks": ""
             }
            },
            "type": "scattergeo"
           }
          ],
          "scattergl": [
           {
            "marker": {
             "colorbar": {
              "outlinewidth": 0,
              "ticks": ""
             }
            },
            "type": "scattergl"
           }
          ],
          "scattermapbox": [
           {
            "marker": {
             "colorbar": {
              "outlinewidth": 0,
              "ticks": ""
             }
            },
            "type": "scattermapbox"
           }
          ],
          "scatterpolar": [
           {
            "marker": {
             "colorbar": {
              "outlinewidth": 0,
              "ticks": ""
             }
            },
            "type": "scatterpolar"
           }
          ],
          "scatterpolargl": [
           {
            "marker": {
             "colorbar": {
              "outlinewidth": 0,
              "ticks": ""
             }
            },
            "type": "scatterpolargl"
           }
          ],
          "scatterternary": [
           {
            "marker": {
             "colorbar": {
              "outlinewidth": 0,
              "ticks": ""
             }
            },
            "type": "scatterternary"
           }
          ],
          "surface": [
           {
            "colorbar": {
             "outlinewidth": 0,
             "ticks": ""
            },
            "colorscale": [
             [
              0,
              "#0d0887"
             ],
             [
              0.1111111111111111,
              "#46039f"
             ],
             [
              0.2222222222222222,
              "#7201a8"
             ],
             [
              0.3333333333333333,
              "#9c179e"
             ],
             [
              0.4444444444444444,
              "#bd3786"
             ],
             [
              0.5555555555555556,
              "#d8576b"
             ],
             [
              0.6666666666666666,
              "#ed7953"
             ],
             [
              0.7777777777777778,
              "#fb9f3a"
             ],
             [
              0.8888888888888888,
              "#fdca26"
             ],
             [
              1,
              "#f0f921"
             ]
            ],
            "type": "surface"
           }
          ],
          "table": [
           {
            "cells": {
             "fill": {
              "color": "#EBF0F8"
             },
             "line": {
              "color": "white"
             }
            },
            "header": {
             "fill": {
              "color": "#C8D4E3"
             },
             "line": {
              "color": "white"
             }
            },
            "type": "table"
           }
          ]
         },
         "layout": {
          "annotationdefaults": {
           "arrowcolor": "#2a3f5f",
           "arrowhead": 0,
           "arrowwidth": 1
          },
          "colorscale": {
           "diverging": [
            [
             0,
             "#8e0152"
            ],
            [
             0.1,
             "#c51b7d"
            ],
            [
             0.2,
             "#de77ae"
            ],
            [
             0.3,
             "#f1b6da"
            ],
            [
             0.4,
             "#fde0ef"
            ],
            [
             0.5,
             "#f7f7f7"
            ],
            [
             0.6,
             "#e6f5d0"
            ],
            [
             0.7,
             "#b8e186"
            ],
            [
             0.8,
             "#7fbc41"
            ],
            [
             0.9,
             "#4d9221"
            ],
            [
             1,
             "#276419"
            ]
           ],
           "sequential": [
            [
             0,
             "#0d0887"
            ],
            [
             0.1111111111111111,
             "#46039f"
            ],
            [
             0.2222222222222222,
             "#7201a8"
            ],
            [
             0.3333333333333333,
             "#9c179e"
            ],
            [
             0.4444444444444444,
             "#bd3786"
            ],
            [
             0.5555555555555556,
             "#d8576b"
            ],
            [
             0.6666666666666666,
             "#ed7953"
            ],
            [
             0.7777777777777778,
             "#fb9f3a"
            ],
            [
             0.8888888888888888,
             "#fdca26"
            ],
            [
             1,
             "#f0f921"
            ]
           ],
           "sequentialminus": [
            [
             0,
             "#0d0887"
            ],
            [
             0.1111111111111111,
             "#46039f"
            ],
            [
             0.2222222222222222,
             "#7201a8"
            ],
            [
             0.3333333333333333,
             "#9c179e"
            ],
            [
             0.4444444444444444,
             "#bd3786"
            ],
            [
             0.5555555555555556,
             "#d8576b"
            ],
            [
             0.6666666666666666,
             "#ed7953"
            ],
            [
             0.7777777777777778,
             "#fb9f3a"
            ],
            [
             0.8888888888888888,
             "#fdca26"
            ],
            [
             1,
             "#f0f921"
            ]
           ]
          },
          "colorway": [
           "#636efa",
           "#EF553B",
           "#00cc96",
           "#ab63fa",
           "#FFA15A",
           "#19d3f3",
           "#FF6692",
           "#B6E880",
           "#FF97FF",
           "#FECB52"
          ],
          "font": {
           "color": "#2a3f5f"
          },
          "geo": {
           "bgcolor": "white",
           "lakecolor": "white",
           "landcolor": "#E5ECF6",
           "showlakes": true,
           "showland": true,
           "subunitcolor": "white"
          },
          "hoverlabel": {
           "align": "left"
          },
          "hovermode": "closest",
          "mapbox": {
           "style": "light"
          },
          "paper_bgcolor": "white",
          "plot_bgcolor": "#E5ECF6",
          "polar": {
           "angularaxis": {
            "gridcolor": "white",
            "linecolor": "white",
            "ticks": ""
           },
           "bgcolor": "#E5ECF6",
           "radialaxis": {
            "gridcolor": "white",
            "linecolor": "white",
            "ticks": ""
           }
          },
          "scene": {
           "xaxis": {
            "backgroundcolor": "#E5ECF6",
            "gridcolor": "white",
            "gridwidth": 2,
            "linecolor": "white",
            "showbackground": true,
            "ticks": "",
            "zerolinecolor": "white"
           },
           "yaxis": {
            "backgroundcolor": "#E5ECF6",
            "gridcolor": "white",
            "gridwidth": 2,
            "linecolor": "white",
            "showbackground": true,
            "ticks": "",
            "zerolinecolor": "white"
           },
           "zaxis": {
            "backgroundcolor": "#E5ECF6",
            "gridcolor": "white",
            "gridwidth": 2,
            "linecolor": "white",
            "showbackground": true,
            "ticks": "",
            "zerolinecolor": "white"
           }
          },
          "shapedefaults": {
           "line": {
            "color": "#2a3f5f"
           }
          },
          "ternary": {
           "aaxis": {
            "gridcolor": "white",
            "linecolor": "white",
            "ticks": ""
           },
           "baxis": {
            "gridcolor": "white",
            "linecolor": "white",
            "ticks": ""
           },
           "bgcolor": "#E5ECF6",
           "caxis": {
            "gridcolor": "white",
            "linecolor": "white",
            "ticks": ""
           }
          },
          "title": {
           "x": 0.05
          },
          "xaxis": {
           "automargin": true,
           "gridcolor": "white",
           "linecolor": "white",
           "ticks": "",
           "zerolinecolor": "white",
           "zerolinewidth": 2
          },
          "yaxis": {
           "automargin": true,
           "gridcolor": "white",
           "linecolor": "white",
           "ticks": "",
           "zerolinecolor": "white",
           "zerolinewidth": 2
          }
         }
        },
        "width": 900,
        "xaxis": {
         "rangeselector": {
          "buttons": [
           {
            "count": 7,
            "label": "1w",
            "step": "day",
            "stepmode": "backward"
           },
           {
            "count": 1,
            "label": "1m",
            "step": "month",
            "stepmode": "backward"
           },
           {
            "count": 6,
            "label": "6m",
            "step": "month",
            "stepmode": "backward"
           },
           {
            "count": 1,
            "label": "1y",
            "step": "year",
            "stepmode": "backward"
           },
           {
            "step": "all"
           }
          ]
         },
         "rangeslider": {
          "visible": true
         },
         "title": {
          "text": "ds"
         },
         "type": "date"
        },
        "yaxis": {
         "title": {
          "text": "y"
         }
        }
       }
      }
     },
     "metadata": {}
    }
   ],
   "source": [
    "\n",
    "fig = plot_plotly(prophet, confirmed_forecast)  \n",
    "annotations = []\n",
    "annotations.append(dict(xref='paper', yref='paper', x=0.0, y=1.05,\n",
    "                              xanchor='left', yanchor='bottom',\n",
    "                              text='Predictions for Confirmed',\n",
    "                              font=dict(family='Arial',\n",
    "                                        size=30,\n",
    "                                        color='rgb(37,37,37)'),\n",
    "                              showarrow=False))\n",
    "fig.update_layout(annotations=annotations)\n",
    "fig.show()"
   ]
  },
  {
   "cell_type": "code",
   "execution_count": 19,
   "metadata": {},
   "outputs": [
    {
     "output_type": "execute_result",
     "data": {
      "text/plain": "           ds     y\n70 2020-04-23  1283\n71 2020-04-24  1310\n72 2020-04-25  1361\n73 2020-04-26  1409\n74 2020-04-27  1448",
      "text/html": "<div>\n<style scoped>\n    .dataframe tbody tr th:only-of-type {\n        vertical-align: middle;\n    }\n\n    .dataframe tbody tr th {\n        vertical-align: top;\n    }\n\n    .dataframe thead th {\n        text-align: right;\n    }\n</style>\n<table border=\"1\" class=\"dataframe\">\n  <thead>\n    <tr style=\"text-align: right;\">\n      <th></th>\n      <th>ds</th>\n      <th>y</th>\n    </tr>\n  </thead>\n  <tbody>\n    <tr>\n      <th>70</th>\n      <td>2020-04-23</td>\n      <td>1283</td>\n    </tr>\n    <tr>\n      <th>71</th>\n      <td>2020-04-24</td>\n      <td>1310</td>\n    </tr>\n    <tr>\n      <th>72</th>\n      <td>2020-04-25</td>\n      <td>1361</td>\n    </tr>\n    <tr>\n      <th>73</th>\n      <td>2020-04-26</td>\n      <td>1409</td>\n    </tr>\n    <tr>\n      <th>74</th>\n      <td>2020-04-27</td>\n      <td>1448</td>\n    </tr>\n  </tbody>\n</table>\n</div>"
     },
     "metadata": {},
     "execution_count": 19
    }
   ],
   "source": [
    "death_dataset = pd.DataFrame(af.groupby('date')['Deaths'].sum().reset_index()).rename(columns={'date': 'ds', 'Deaths': 'y'})\n",
    "death_dataset.tail()"
   ]
  },
  {
   "cell_type": "code",
   "execution_count": 34,
   "metadata": {},
   "outputs": [
    {
     "output_type": "stream",
     "name": "stderr",
     "text": "INFO:fbprophet:Disabling yearly seasonality. Run prophet with yearly_seasonality=True to override this.\nINFO:fbprophet:Disabling daily seasonality. Run prophet with daily_seasonality=True to override this.\n"
    }
   ],
   "source": [
    "death_prophet = Prophet()\n",
    "death_fit = death_prophet.fit(death_dataset,growth='exponential')\n",
    "death_future = death_prophet.make_future_dataframe(periods=90)\n",
    "deaths_forecast = death_prophet.predict()"
   ]
  },
  {
   "cell_type": "code",
   "execution_count": 35,
   "metadata": {},
   "outputs": [
    {
     "output_type": "display_data",
     "data": {
      "application/vnd.plotly.v1+json": {
       "config": {
        "plotlyServerURL": "https://plot.ly"
       },
       "data": [
        {
         "marker": {
          "color": "black",
          "size": 4
         },
         "mode": "markers",
         "name": "Actual",
         "type": "scatter",
         "x": [
          "2020-01-27T00:00:00",
          "2020-02-14T00:00:00",
          "2020-02-15T00:00:00",
          "2020-02-16T00:00:00",
          "2020-02-17T00:00:00",
          "2020-02-18T00:00:00",
          "2020-02-19T00:00:00",
          "2020-02-20T00:00:00",
          "2020-02-21T00:00:00",
          "2020-02-22T00:00:00",
          "2020-02-23T00:00:00",
          "2020-02-24T00:00:00",
          "2020-02-25T00:00:00",
          "2020-02-26T00:00:00",
          "2020-02-27T00:00:00",
          "2020-02-28T00:00:00",
          "2020-02-29T00:00:00",
          "2020-03-01T00:00:00",
          "2020-03-02T00:00:00",
          "2020-03-03T00:00:00",
          "2020-03-04T00:00:00",
          "2020-03-05T00:00:00",
          "2020-03-06T00:00:00",
          "2020-03-07T00:00:00",
          "2020-03-08T00:00:00",
          "2020-03-09T00:00:00",
          "2020-03-10T00:00:00",
          "2020-03-11T00:00:00",
          "2020-03-12T00:00:00",
          "2020-03-13T00:00:00",
          "2020-03-14T00:00:00",
          "2020-03-15T00:00:00",
          "2020-03-16T00:00:00",
          "2020-03-17T00:00:00",
          "2020-03-18T00:00:00",
          "2020-03-19T00:00:00",
          "2020-03-20T00:00:00",
          "2020-03-21T00:00:00",
          "2020-03-22T00:00:00",
          "2020-03-23T00:00:00",
          "2020-03-24T00:00:00",
          "2020-03-25T00:00:00",
          "2020-03-26T00:00:00",
          "2020-03-27T00:00:00",
          "2020-03-28T00:00:00",
          "2020-03-29T00:00:00",
          "2020-03-30T00:00:00",
          "2020-03-31T00:00:00",
          "2020-04-01T00:00:00",
          "2020-04-02T00:00:00",
          "2020-04-03T00:00:00",
          "2020-04-04T00:00:00",
          "2020-04-05T00:00:00",
          "2020-04-06T00:00:00",
          "2020-04-07T00:00:00",
          "2020-04-08T00:00:00",
          "2020-04-09T00:00:00",
          "2020-04-10T00:00:00",
          "2020-04-11T00:00:00",
          "2020-04-12T00:00:00",
          "2020-04-13T00:00:00",
          "2020-04-14T00:00:00",
          "2020-04-15T00:00:00",
          "2020-04-16T00:00:00",
          "2020-04-17T00:00:00",
          "2020-04-18T00:00:00",
          "2020-04-19T00:00:00",
          "2020-04-20T00:00:00",
          "2020-04-21T00:00:00",
          "2020-04-22T00:00:00",
          "2020-04-23T00:00:00",
          "2020-04-24T00:00:00",
          "2020-04-25T00:00:00",
          "2020-04-26T00:00:00",
          "2020-04-27T00:00:00"
         ],
         "y": [
          0,
          0,
          0,
          0,
          0,
          0,
          0,
          0,
          0,
          0,
          0,
          0,
          0,
          0,
          0,
          0,
          0,
          0,
          0,
          0,
          0,
          0,
          0,
          0,
          1,
          1,
          2,
          2,
          3,
          6,
          7,
          8,
          8,
          11,
          17,
          20,
          26,
          36,
          48,
          57,
          64,
          73,
          91,
          115,
          134,
          151,
          172,
          199,
          233,
          286,
          330,
          382,
          441,
          484,
          530,
          571,
          624,
          690,
          738,
          783,
          828,
          867,
          904,
          959,
          1010,
          1050,
          1112,
          1150,
          1176,
          1226,
          1283,
          1310,
          1361,
          1409,
          1448
         ]
        },
        {
         "hoverinfo": "skip",
         "line": {
          "width": 0
         },
         "mode": "lines",
         "type": "scatter",
         "x": [
          "2020-01-27T00:00:00",
          "2020-02-14T00:00:00",
          "2020-02-15T00:00:00",
          "2020-02-16T00:00:00",
          "2020-02-17T00:00:00",
          "2020-02-18T00:00:00",
          "2020-02-19T00:00:00",
          "2020-02-20T00:00:00",
          "2020-02-21T00:00:00",
          "2020-02-22T00:00:00",
          "2020-02-23T00:00:00",
          "2020-02-24T00:00:00",
          "2020-02-25T00:00:00",
          "2020-02-26T00:00:00",
          "2020-02-27T00:00:00",
          "2020-02-28T00:00:00",
          "2020-02-29T00:00:00",
          "2020-03-01T00:00:00",
          "2020-03-02T00:00:00",
          "2020-03-03T00:00:00",
          "2020-03-04T00:00:00",
          "2020-03-05T00:00:00",
          "2020-03-06T00:00:00",
          "2020-03-07T00:00:00",
          "2020-03-08T00:00:00",
          "2020-03-09T00:00:00",
          "2020-03-10T00:00:00",
          "2020-03-11T00:00:00",
          "2020-03-12T00:00:00",
          "2020-03-13T00:00:00",
          "2020-03-14T00:00:00",
          "2020-03-15T00:00:00",
          "2020-03-16T00:00:00",
          "2020-03-17T00:00:00",
          "2020-03-18T00:00:00",
          "2020-03-19T00:00:00",
          "2020-03-20T00:00:00",
          "2020-03-21T00:00:00",
          "2020-03-22T00:00:00",
          "2020-03-23T00:00:00",
          "2020-03-24T00:00:00",
          "2020-03-25T00:00:00",
          "2020-03-26T00:00:00",
          "2020-03-27T00:00:00",
          "2020-03-28T00:00:00",
          "2020-03-29T00:00:00",
          "2020-03-30T00:00:00",
          "2020-03-31T00:00:00",
          "2020-04-01T00:00:00",
          "2020-04-02T00:00:00",
          "2020-04-03T00:00:00",
          "2020-04-04T00:00:00",
          "2020-04-05T00:00:00",
          "2020-04-06T00:00:00",
          "2020-04-07T00:00:00",
          "2020-04-08T00:00:00",
          "2020-04-09T00:00:00",
          "2020-04-10T00:00:00",
          "2020-04-11T00:00:00",
          "2020-04-12T00:00:00",
          "2020-04-13T00:00:00",
          "2020-04-14T00:00:00",
          "2020-04-15T00:00:00",
          "2020-04-16T00:00:00",
          "2020-04-17T00:00:00",
          "2020-04-18T00:00:00",
          "2020-04-19T00:00:00",
          "2020-04-20T00:00:00",
          "2020-04-21T00:00:00",
          "2020-04-22T00:00:00",
          "2020-04-23T00:00:00",
          "2020-04-24T00:00:00",
          "2020-04-25T00:00:00",
          "2020-04-26T00:00:00",
          "2020-04-27T00:00:00"
         ],
         "y": [
          -5.3061142870421145,
          -4.851058701726002,
          -4.080888164343883,
          -1.92498240765399,
          -4.3383695469055406,
          -6.885674302132967,
          -9.232131898887237,
          -5.479286676610557,
          -4.570224279217473,
          -4.446550298921013,
          -1.673349665908943,
          -4.589927374995382,
          -6.610104126596005,
          -9.1868923706205,
          -5.307924690224077,
          -4.095153576311375,
          -4.069159433188424,
          -1.4197359467560284,
          -3.6551499325660495,
          -6.596053851717776,
          -8.657999356001712,
          -4.830978255444777,
          -3.802357873669322,
          -3.4841727952856867,
          -0.4990574720987926,
          -2.695277088312655,
          -4.278088078313596,
          -6.0862864740657185,
          -1.5990429955162353,
          0.30659765643097703,
          1.151288995896586,
          4.509529597058637,
          5.547317226474207,
          6.797757251627632,
          7.939981942432277,
          16.040706478255863,
          23.671215846117246,
          31.263887023880248,
          41.25302712513576,
          51.08785847815033,
          60.62960185210157,
          70.66088368954041,
          86.64200983415728,
          106.93961941739532,
          126.22172867856534,
          148.23482796464117,
          169.0718132999376,
          190.2042351035177,
          232.70456685998167,
          281.5640063711438,
          327.7072992330689,
          378.3105867718132,
          430.7758296424228,
          477.895890426762,
          525.0895101585639,
          572.6115627621649,
          626.4689681599897,
          677.5155208426487,
          727.8237964323479,
          780.0277178517362,
          822.4559759751806,
          864.4250197543015,
          906.9430838744917,
          955.5511090329278,
          1000.5831531276091,
          1045.8579061141484,
          1092.8467670777584,
          1134.9751338819522,
          1177.4181577841887,
          1219.6297326843853,
          1268.4346781589293,
          1313.5201804748294,
          1358.5897287543528,
          1406.077905273151,
          1448.088935248312
         ]
        },
        {
         "fill": "tonexty",
         "fillcolor": "rgba(0, 114, 178, 0.2)",
         "line": {
          "color": "#0072B2",
          "width": 2
         },
         "mode": "lines",
         "name": "Predicted",
         "type": "scatter",
         "x": [
          "2020-01-27T00:00:00",
          "2020-02-14T00:00:00",
          "2020-02-15T00:00:00",
          "2020-02-16T00:00:00",
          "2020-02-17T00:00:00",
          "2020-02-18T00:00:00",
          "2020-02-19T00:00:00",
          "2020-02-20T00:00:00",
          "2020-02-21T00:00:00",
          "2020-02-22T00:00:00",
          "2020-02-23T00:00:00",
          "2020-02-24T00:00:00",
          "2020-02-25T00:00:00",
          "2020-02-26T00:00:00",
          "2020-02-27T00:00:00",
          "2020-02-28T00:00:00",
          "2020-02-29T00:00:00",
          "2020-03-01T00:00:00",
          "2020-03-02T00:00:00",
          "2020-03-03T00:00:00",
          "2020-03-04T00:00:00",
          "2020-03-05T00:00:00",
          "2020-03-06T00:00:00",
          "2020-03-07T00:00:00",
          "2020-03-08T00:00:00",
          "2020-03-09T00:00:00",
          "2020-03-10T00:00:00",
          "2020-03-11T00:00:00",
          "2020-03-12T00:00:00",
          "2020-03-13T00:00:00",
          "2020-03-14T00:00:00",
          "2020-03-15T00:00:00",
          "2020-03-16T00:00:00",
          "2020-03-17T00:00:00",
          "2020-03-18T00:00:00",
          "2020-03-19T00:00:00",
          "2020-03-20T00:00:00",
          "2020-03-21T00:00:00",
          "2020-03-22T00:00:00",
          "2020-03-23T00:00:00",
          "2020-03-24T00:00:00",
          "2020-03-25T00:00:00",
          "2020-03-26T00:00:00",
          "2020-03-27T00:00:00",
          "2020-03-28T00:00:00",
          "2020-03-29T00:00:00",
          "2020-03-30T00:00:00",
          "2020-03-31T00:00:00",
          "2020-04-01T00:00:00",
          "2020-04-02T00:00:00",
          "2020-04-03T00:00:00",
          "2020-04-04T00:00:00",
          "2020-04-05T00:00:00",
          "2020-04-06T00:00:00",
          "2020-04-07T00:00:00",
          "2020-04-08T00:00:00",
          "2020-04-09T00:00:00",
          "2020-04-10T00:00:00",
          "2020-04-11T00:00:00",
          "2020-04-12T00:00:00",
          "2020-04-13T00:00:00",
          "2020-04-14T00:00:00",
          "2020-04-15T00:00:00",
          "2020-04-16T00:00:00",
          "2020-04-17T00:00:00",
          "2020-04-18T00:00:00",
          "2020-04-19T00:00:00",
          "2020-04-20T00:00:00",
          "2020-04-21T00:00:00",
          "2020-04-22T00:00:00",
          "2020-04-23T00:00:00",
          "2020-04-24T00:00:00",
          "2020-04-25T00:00:00",
          "2020-04-26T00:00:00",
          "2020-04-27T00:00:00"
         ],
         "y": [
          -0.3087464857345771,
          0.09958789629221709,
          0.520973195772642,
          3.1241766629609087,
          0.5150565166129846,
          -2.0407719593897826,
          -4.446174351759378,
          -0.551576754268535,
          0.3741888456079009,
          0.7955741593569517,
          3.3987776419335933,
          0.7896575109552487,
          -1.7661709496733617,
          -4.171573327441829,
          -0.27697571535542087,
          0.6487898511711615,
          1.070175131567855,
          3.6733786014347394,
          1.0650936912671594,
          -1.4898995485530326,
          -3.8944665241660323,
          0.0009664900792547004,
          0.9288503026237963,
          1.3523538290368264,
          3.957675544925045,
          2.116745064871953,
          0.3291062551381896,
          -1.30787994963655,
          3.355133835446119,
          5.052147050446926,
          6.2447799793122005,
          9.619231097651259,
          10.602655076789587,
          11.639370726253146,
          12.829740093286972,
          20.320109450178204,
          28.58062730932527,
          36.33676488235418,
          46.27472064485314,
          55.92725409965065,
          65.63307922477367,
          75.50277345519756,
          91.67246767548743,
          111.71896624917709,
          131.26108453674053,
          152.98502101377815,
          173.86579938341322,
          194.79986942339795,
          237.57576677325298,
          286.6516641129892,
          332.75872943332774,
          383.0860324805649,
          435.59515371727684,
          482.89195139350403,
          530.2420407400717,
          577.7425561493882,
          631.5430715485793,
          682.3747549283804,
          732.6994469393652,
          785.2059571398287,
          827.2601797524751,
          869.3676940354696,
          911.6256343878302,
          960.1835747300481,
          1005.7726830528941,
          1050.8574110896066,
          1098.1239573158016,
          1140.1781799284477,
          1182.2856942114565,
          1224.5436345638045,
          1273.1015749060243,
          1318.6906832288653,
          1363.7754112655875,
          1411.041957491779,
          1453.0961801044346
         ]
        },
        {
         "fill": "tonexty",
         "fillcolor": "rgba(0, 114, 178, 0.2)",
         "hoverinfo": "skip",
         "line": {
          "width": 0
         },
         "mode": "lines",
         "type": "scatter",
         "x": [
          "2020-01-27T00:00:00",
          "2020-02-14T00:00:00",
          "2020-02-15T00:00:00",
          "2020-02-16T00:00:00",
          "2020-02-17T00:00:00",
          "2020-02-18T00:00:00",
          "2020-02-19T00:00:00",
          "2020-02-20T00:00:00",
          "2020-02-21T00:00:00",
          "2020-02-22T00:00:00",
          "2020-02-23T00:00:00",
          "2020-02-24T00:00:00",
          "2020-02-25T00:00:00",
          "2020-02-26T00:00:00",
          "2020-02-27T00:00:00",
          "2020-02-28T00:00:00",
          "2020-02-29T00:00:00",
          "2020-03-01T00:00:00",
          "2020-03-02T00:00:00",
          "2020-03-03T00:00:00",
          "2020-03-04T00:00:00",
          "2020-03-05T00:00:00",
          "2020-03-06T00:00:00",
          "2020-03-07T00:00:00",
          "2020-03-08T00:00:00",
          "2020-03-09T00:00:00",
          "2020-03-10T00:00:00",
          "2020-03-11T00:00:00",
          "2020-03-12T00:00:00",
          "2020-03-13T00:00:00",
          "2020-03-14T00:00:00",
          "2020-03-15T00:00:00",
          "2020-03-16T00:00:00",
          "2020-03-17T00:00:00",
          "2020-03-18T00:00:00",
          "2020-03-19T00:00:00",
          "2020-03-20T00:00:00",
          "2020-03-21T00:00:00",
          "2020-03-22T00:00:00",
          "2020-03-23T00:00:00",
          "2020-03-24T00:00:00",
          "2020-03-25T00:00:00",
          "2020-03-26T00:00:00",
          "2020-03-27T00:00:00",
          "2020-03-28T00:00:00",
          "2020-03-29T00:00:00",
          "2020-03-30T00:00:00",
          "2020-03-31T00:00:00",
          "2020-04-01T00:00:00",
          "2020-04-02T00:00:00",
          "2020-04-03T00:00:00",
          "2020-04-04T00:00:00",
          "2020-04-05T00:00:00",
          "2020-04-06T00:00:00",
          "2020-04-07T00:00:00",
          "2020-04-08T00:00:00",
          "2020-04-09T00:00:00",
          "2020-04-10T00:00:00",
          "2020-04-11T00:00:00",
          "2020-04-12T00:00:00",
          "2020-04-13T00:00:00",
          "2020-04-14T00:00:00",
          "2020-04-15T00:00:00",
          "2020-04-16T00:00:00",
          "2020-04-17T00:00:00",
          "2020-04-18T00:00:00",
          "2020-04-19T00:00:00",
          "2020-04-20T00:00:00",
          "2020-04-21T00:00:00",
          "2020-04-22T00:00:00",
          "2020-04-23T00:00:00",
          "2020-04-24T00:00:00",
          "2020-04-25T00:00:00",
          "2020-04-26T00:00:00",
          "2020-04-27T00:00:00"
         ],
         "y": [
          4.442960393923722,
          5.656102086362054,
          5.031947043581229,
          8.006268770911548,
          5.403982464895636,
          2.745006038526099,
          0.196179731476597,
          4.348747928614424,
          5.268812943801355,
          5.604922136312434,
          8.131531024554432,
          5.855487532974132,
          3.3452985393223296,
          0.6279343329791716,
          4.473832687458335,
          5.409736413763028,
          6.306861131672527,
          8.35757580669925,
          5.5428495137939455,
          3.116320066032238,
          1.3340238739420593,
          4.72288472550053,
          6.143037281995295,
          5.739843130275063,
          9.061286579121308,
          7.2156164789111195,
          5.340293176377037,
          3.641796132689476,
          7.941227064062927,
          10.166916638640219,
          11.057921640351301,
          14.563696144427055,
          15.423886515756646,
          16.795247354665246,
          17.765866936225773,
          25.06815431009409,
          33.53165680097699,
          41.36928170826182,
          51.18055878798092,
          60.39280400756128,
          70.17592301932417,
          80.37370611716909,
          96.34377766794609,
          116.34166908799489,
          136.391574389558,
          157.98459073154578,
          178.64754784161755,
          199.7068606701634,
          242.45210736326345,
          291.76051498761996,
          337.61596791697116,
          388.21538861121826,
          440.849401924601,
          487.8028721313794,
          535.158174869568,
          582.7004707595501,
          636.5734831451526,
          687.4504494381436,
          737.6885251211329,
          790.0679853542773,
          832.2914787284784,
          874.4742334517946,
          916.4727957610496,
          964.7547543095471,
          1010.4861475538945,
          1055.668041523098,
          1102.8601871434312,
          1144.8942440318856,
          1187.2324312097908,
          1229.1933217010944,
          1277.8640354330705,
          1323.0991829739253,
          1368.3406674317341,
          1415.8421387833773,
          1457.7909161379696
         ]
        }
       ],
       "layout": {
        "annotations": [
         {
          "font": {
           "color": "rgb(37,37,37)",
           "family": "Arial",
           "size": 30
          },
          "showarrow": false,
          "text": "Predictions of Deaths",
          "x": 0,
          "xanchor": "left",
          "xref": "paper",
          "y": 1.05,
          "yanchor": "bottom",
          "yref": "paper"
         }
        ],
        "height": 600,
        "showlegend": false,
        "template": {
         "data": {
          "bar": [
           {
            "error_x": {
             "color": "#2a3f5f"
            },
            "error_y": {
             "color": "#2a3f5f"
            },
            "marker": {
             "line": {
              "color": "#E5ECF6",
              "width": 0.5
             }
            },
            "type": "bar"
           }
          ],
          "barpolar": [
           {
            "marker": {
             "line": {
              "color": "#E5ECF6",
              "width": 0.5
             }
            },
            "type": "barpolar"
           }
          ],
          "carpet": [
           {
            "aaxis": {
             "endlinecolor": "#2a3f5f",
             "gridcolor": "white",
             "linecolor": "white",
             "minorgridcolor": "white",
             "startlinecolor": "#2a3f5f"
            },
            "baxis": {
             "endlinecolor": "#2a3f5f",
             "gridcolor": "white",
             "linecolor": "white",
             "minorgridcolor": "white",
             "startlinecolor": "#2a3f5f"
            },
            "type": "carpet"
           }
          ],
          "choropleth": [
           {
            "colorbar": {
             "outlinewidth": 0,
             "ticks": ""
            },
            "type": "choropleth"
           }
          ],
          "contour": [
           {
            "colorbar": {
             "outlinewidth": 0,
             "ticks": ""
            },
            "colorscale": [
             [
              0,
              "#0d0887"
             ],
             [
              0.1111111111111111,
              "#46039f"
             ],
             [
              0.2222222222222222,
              "#7201a8"
             ],
             [
              0.3333333333333333,
              "#9c179e"
             ],
             [
              0.4444444444444444,
              "#bd3786"
             ],
             [
              0.5555555555555556,
              "#d8576b"
             ],
             [
              0.6666666666666666,
              "#ed7953"
             ],
             [
              0.7777777777777778,
              "#fb9f3a"
             ],
             [
              0.8888888888888888,
              "#fdca26"
             ],
             [
              1,
              "#f0f921"
             ]
            ],
            "type": "contour"
           }
          ],
          "contourcarpet": [
           {
            "colorbar": {
             "outlinewidth": 0,
             "ticks": ""
            },
            "type": "contourcarpet"
           }
          ],
          "heatmap": [
           {
            "colorbar": {
             "outlinewidth": 0,
             "ticks": ""
            },
            "colorscale": [
             [
              0,
              "#0d0887"
             ],
             [
              0.1111111111111111,
              "#46039f"
             ],
             [
              0.2222222222222222,
              "#7201a8"
             ],
             [
              0.3333333333333333,
              "#9c179e"
             ],
             [
              0.4444444444444444,
              "#bd3786"
             ],
             [
              0.5555555555555556,
              "#d8576b"
             ],
             [
              0.6666666666666666,
              "#ed7953"
             ],
             [
              0.7777777777777778,
              "#fb9f3a"
             ],
             [
              0.8888888888888888,
              "#fdca26"
             ],
             [
              1,
              "#f0f921"
             ]
            ],
            "type": "heatmap"
           }
          ],
          "heatmapgl": [
           {
            "colorbar": {
             "outlinewidth": 0,
             "ticks": ""
            },
            "colorscale": [
             [
              0,
              "#0d0887"
             ],
             [
              0.1111111111111111,
              "#46039f"
             ],
             [
              0.2222222222222222,
              "#7201a8"
             ],
             [
              0.3333333333333333,
              "#9c179e"
             ],
             [
              0.4444444444444444,
              "#bd3786"
             ],
             [
              0.5555555555555556,
              "#d8576b"
             ],
             [
              0.6666666666666666,
              "#ed7953"
             ],
             [
              0.7777777777777778,
              "#fb9f3a"
             ],
             [
              0.8888888888888888,
              "#fdca26"
             ],
             [
              1,
              "#f0f921"
             ]
            ],
            "type": "heatmapgl"
           }
          ],
          "histogram": [
           {
            "marker": {
             "colorbar": {
              "outlinewidth": 0,
              "ticks": ""
             }
            },
            "type": "histogram"
           }
          ],
          "histogram2d": [
           {
            "colorbar": {
             "outlinewidth": 0,
             "ticks": ""
            },
            "colorscale": [
             [
              0,
              "#0d0887"
             ],
             [
              0.1111111111111111,
              "#46039f"
             ],
             [
              0.2222222222222222,
              "#7201a8"
             ],
             [
              0.3333333333333333,
              "#9c179e"
             ],
             [
              0.4444444444444444,
              "#bd3786"
             ],
             [
              0.5555555555555556,
              "#d8576b"
             ],
             [
              0.6666666666666666,
              "#ed7953"
             ],
             [
              0.7777777777777778,
              "#fb9f3a"
             ],
             [
              0.8888888888888888,
              "#fdca26"
             ],
             [
              1,
              "#f0f921"
             ]
            ],
            "type": "histogram2d"
           }
          ],
          "histogram2dcontour": [
           {
            "colorbar": {
             "outlinewidth": 0,
             "ticks": ""
            },
            "colorscale": [
             [
              0,
              "#0d0887"
             ],
             [
              0.1111111111111111,
              "#46039f"
             ],
             [
              0.2222222222222222,
              "#7201a8"
             ],
             [
              0.3333333333333333,
              "#9c179e"
             ],
             [
              0.4444444444444444,
              "#bd3786"
             ],
             [
              0.5555555555555556,
              "#d8576b"
             ],
             [
              0.6666666666666666,
              "#ed7953"
             ],
             [
              0.7777777777777778,
              "#fb9f3a"
             ],
             [
              0.8888888888888888,
              "#fdca26"
             ],
             [
              1,
              "#f0f921"
             ]
            ],
            "type": "histogram2dcontour"
           }
          ],
          "mesh3d": [
           {
            "colorbar": {
             "outlinewidth": 0,
             "ticks": ""
            },
            "type": "mesh3d"
           }
          ],
          "parcoords": [
           {
            "line": {
             "colorbar": {
              "outlinewidth": 0,
              "ticks": ""
             }
            },
            "type": "parcoords"
           }
          ],
          "scatter": [
           {
            "marker": {
             "colorbar": {
              "outlinewidth": 0,
              "ticks": ""
             }
            },
            "type": "scatter"
           }
          ],
          "scatter3d": [
           {
            "line": {
             "colorbar": {
              "outlinewidth": 0,
              "ticks": ""
             }
            },
            "marker": {
             "colorbar": {
              "outlinewidth": 0,
              "ticks": ""
             }
            },
            "type": "scatter3d"
           }
          ],
          "scattercarpet": [
           {
            "marker": {
             "colorbar": {
              "outlinewidth": 0,
              "ticks": ""
             }
            },
            "type": "scattercarpet"
           }
          ],
          "scattergeo": [
           {
            "marker": {
             "colorbar": {
              "outlinewidth": 0,
              "ticks": ""
             }
            },
            "type": "scattergeo"
           }
          ],
          "scattergl": [
           {
            "marker": {
             "colorbar": {
              "outlinewidth": 0,
              "ticks": ""
             }
            },
            "type": "scattergl"
           }
          ],
          "scattermapbox": [
           {
            "marker": {
             "colorbar": {
              "outlinewidth": 0,
              "ticks": ""
             }
            },
            "type": "scattermapbox"
           }
          ],
          "scatterpolar": [
           {
            "marker": {
             "colorbar": {
              "outlinewidth": 0,
              "ticks": ""
             }
            },
            "type": "scatterpolar"
           }
          ],
          "scatterpolargl": [
           {
            "marker": {
             "colorbar": {
              "outlinewidth": 0,
              "ticks": ""
             }
            },
            "type": "scatterpolargl"
           }
          ],
          "scatterternary": [
           {
            "marker": {
             "colorbar": {
              "outlinewidth": 0,
              "ticks": ""
             }
            },
            "type": "scatterternary"
           }
          ],
          "surface": [
           {
            "colorbar": {
             "outlinewidth": 0,
             "ticks": ""
            },
            "colorscale": [
             [
              0,
              "#0d0887"
             ],
             [
              0.1111111111111111,
              "#46039f"
             ],
             [
              0.2222222222222222,
              "#7201a8"
             ],
             [
              0.3333333333333333,
              "#9c179e"
             ],
             [
              0.4444444444444444,
              "#bd3786"
             ],
             [
              0.5555555555555556,
              "#d8576b"
             ],
             [
              0.6666666666666666,
              "#ed7953"
             ],
             [
              0.7777777777777778,
              "#fb9f3a"
             ],
             [
              0.8888888888888888,
              "#fdca26"
             ],
             [
              1,
              "#f0f921"
             ]
            ],
            "type": "surface"
           }
          ],
          "table": [
           {
            "cells": {
             "fill": {
              "color": "#EBF0F8"
             },
             "line": {
              "color": "white"
             }
            },
            "header": {
             "fill": {
              "color": "#C8D4E3"
             },
             "line": {
              "color": "white"
             }
            },
            "type": "table"
           }
          ]
         },
         "layout": {
          "annotationdefaults": {
           "arrowcolor": "#2a3f5f",
           "arrowhead": 0,
           "arrowwidth": 1
          },
          "colorscale": {
           "diverging": [
            [
             0,
             "#8e0152"
            ],
            [
             0.1,
             "#c51b7d"
            ],
            [
             0.2,
             "#de77ae"
            ],
            [
             0.3,
             "#f1b6da"
            ],
            [
             0.4,
             "#fde0ef"
            ],
            [
             0.5,
             "#f7f7f7"
            ],
            [
             0.6,
             "#e6f5d0"
            ],
            [
             0.7,
             "#b8e186"
            ],
            [
             0.8,
             "#7fbc41"
            ],
            [
             0.9,
             "#4d9221"
            ],
            [
             1,
             "#276419"
            ]
           ],
           "sequential": [
            [
             0,
             "#0d0887"
            ],
            [
             0.1111111111111111,
             "#46039f"
            ],
            [
             0.2222222222222222,
             "#7201a8"
            ],
            [
             0.3333333333333333,
             "#9c179e"
            ],
            [
             0.4444444444444444,
             "#bd3786"
            ],
            [
             0.5555555555555556,
             "#d8576b"
            ],
            [
             0.6666666666666666,
             "#ed7953"
            ],
            [
             0.7777777777777778,
             "#fb9f3a"
            ],
            [
             0.8888888888888888,
             "#fdca26"
            ],
            [
             1,
             "#f0f921"
            ]
           ],
           "sequentialminus": [
            [
             0,
             "#0d0887"
            ],
            [
             0.1111111111111111,
             "#46039f"
            ],
            [
             0.2222222222222222,
             "#7201a8"
            ],
            [
             0.3333333333333333,
             "#9c179e"
            ],
            [
             0.4444444444444444,
             "#bd3786"
            ],
            [
             0.5555555555555556,
             "#d8576b"
            ],
            [
             0.6666666666666666,
             "#ed7953"
            ],
            [
             0.7777777777777778,
             "#fb9f3a"
            ],
            [
             0.8888888888888888,
             "#fdca26"
            ],
            [
             1,
             "#f0f921"
            ]
           ]
          },
          "colorway": [
           "#636efa",
           "#EF553B",
           "#00cc96",
           "#ab63fa",
           "#FFA15A",
           "#19d3f3",
           "#FF6692",
           "#B6E880",
           "#FF97FF",
           "#FECB52"
          ],
          "font": {
           "color": "#2a3f5f"
          },
          "geo": {
           "bgcolor": "white",
           "lakecolor": "white",
           "landcolor": "#E5ECF6",
           "showlakes": true,
           "showland": true,
           "subunitcolor": "white"
          },
          "hoverlabel": {
           "align": "left"
          },
          "hovermode": "closest",
          "mapbox": {
           "style": "light"
          },
          "paper_bgcolor": "white",
          "plot_bgcolor": "#E5ECF6",
          "polar": {
           "angularaxis": {
            "gridcolor": "white",
            "linecolor": "white",
            "ticks": ""
           },
           "bgcolor": "#E5ECF6",
           "radialaxis": {
            "gridcolor": "white",
            "linecolor": "white",
            "ticks": ""
           }
          },
          "scene": {
           "xaxis": {
            "backgroundcolor": "#E5ECF6",
            "gridcolor": "white",
            "gridwidth": 2,
            "linecolor": "white",
            "showbackground": true,
            "ticks": "",
            "zerolinecolor": "white"
           },
           "yaxis": {
            "backgroundcolor": "#E5ECF6",
            "gridcolor": "white",
            "gridwidth": 2,
            "linecolor": "white",
            "showbackground": true,
            "ticks": "",
            "zerolinecolor": "white"
           },
           "zaxis": {
            "backgroundcolor": "#E5ECF6",
            "gridcolor": "white",
            "gridwidth": 2,
            "linecolor": "white",
            "showbackground": true,
            "ticks": "",
            "zerolinecolor": "white"
           }
          },
          "shapedefaults": {
           "line": {
            "color": "#2a3f5f"
           }
          },
          "ternary": {
           "aaxis": {
            "gridcolor": "white",
            "linecolor": "white",
            "ticks": ""
           },
           "baxis": {
            "gridcolor": "white",
            "linecolor": "white",
            "ticks": ""
           },
           "bgcolor": "#E5ECF6",
           "caxis": {
            "gridcolor": "white",
            "linecolor": "white",
            "ticks": ""
           }
          },
          "title": {
           "x": 0.05
          },
          "xaxis": {
           "automargin": true,
           "gridcolor": "white",
           "linecolor": "white",
           "ticks": "",
           "zerolinecolor": "white",
           "zerolinewidth": 2
          },
          "yaxis": {
           "automargin": true,
           "gridcolor": "white",
           "linecolor": "white",
           "ticks": "",
           "zerolinecolor": "white",
           "zerolinewidth": 2
          }
         }
        },
        "width": 900,
        "xaxis": {
         "rangeselector": {
          "buttons": [
           {
            "count": 7,
            "label": "1w",
            "step": "day",
            "stepmode": "backward"
           },
           {
            "count": 1,
            "label": "1m",
            "step": "month",
            "stepmode": "backward"
           },
           {
            "count": 6,
            "label": "6m",
            "step": "month",
            "stepmode": "backward"
           },
           {
            "count": 1,
            "label": "1y",
            "step": "year",
            "stepmode": "backward"
           },
           {
            "step": "all"
           }
          ]
         },
         "rangeslider": {
          "visible": true
         },
         "title": {
          "text": "ds"
         },
         "type": "date"
        },
        "yaxis": {
         "title": {
          "text": "y"
         }
        }
       }
      }
     },
     "metadata": {}
    }
   ],
   "source": [
    "fig = plot_plotly(death_prophet, deaths_forecast)  \n",
    "annotations = []\n",
    "annotations.append(dict(xref='paper', yref='paper', x=0.0, y=1.05,\n",
    "                              xanchor='left', yanchor='bottom',\n",
    "                              text='Predictions of Deaths',\n",
    "                              font=dict(family='Arial',\n",
    "                                        size=30,\n",
    "                                        color='rgb(37,37,37)'),\n",
    "                              showarrow=False))\n",
    "fig.update_layout(annotations=annotations)\n",
    "fig.show()"
   ]
  },
  {
   "cell_type": "code",
   "execution_count": 29,
   "metadata": {},
   "outputs": [
    {
     "output_type": "display_data",
     "data": {
      "application/vnd.plotly.v1+json": {
       "config": {
        "plotlyServerURL": "https://plot.ly"
       },
       "data": [
        {
         "name": "Predicted",
         "type": "bar",
         "x": [
          "April 2",
          "April 4"
         ],
         "y": [
          6928,
          8306
         ]
        },
        {
         "name": "Actual",
         "type": "bar",
         "x": [
          "April 2",
          "April 4"
         ],
         "y": [
          6838,
          8347
         ]
        }
       ],
       "layout": {
        "barmode": "group",
        "template": {
         "data": {
          "bar": [
           {
            "error_x": {
             "color": "#2a3f5f"
            },
            "error_y": {
             "color": "#2a3f5f"
            },
            "marker": {
             "line": {
              "color": "#E5ECF6",
              "width": 0.5
             }
            },
            "type": "bar"
           }
          ],
          "barpolar": [
           {
            "marker": {
             "line": {
              "color": "#E5ECF6",
              "width": 0.5
             }
            },
            "type": "barpolar"
           }
          ],
          "carpet": [
           {
            "aaxis": {
             "endlinecolor": "#2a3f5f",
             "gridcolor": "white",
             "linecolor": "white",
             "minorgridcolor": "white",
             "startlinecolor": "#2a3f5f"
            },
            "baxis": {
             "endlinecolor": "#2a3f5f",
             "gridcolor": "white",
             "linecolor": "white",
             "minorgridcolor": "white",
             "startlinecolor": "#2a3f5f"
            },
            "type": "carpet"
           }
          ],
          "choropleth": [
           {
            "colorbar": {
             "outlinewidth": 0,
             "ticks": ""
            },
            "type": "choropleth"
           }
          ],
          "contour": [
           {
            "colorbar": {
             "outlinewidth": 0,
             "ticks": ""
            },
            "colorscale": [
             [
              0,
              "#0d0887"
             ],
             [
              0.1111111111111111,
              "#46039f"
             ],
             [
              0.2222222222222222,
              "#7201a8"
             ],
             [
              0.3333333333333333,
              "#9c179e"
             ],
             [
              0.4444444444444444,
              "#bd3786"
             ],
             [
              0.5555555555555556,
              "#d8576b"
             ],
             [
              0.6666666666666666,
              "#ed7953"
             ],
             [
              0.7777777777777778,
              "#fb9f3a"
             ],
             [
              0.8888888888888888,
              "#fdca26"
             ],
             [
              1,
              "#f0f921"
             ]
            ],
            "type": "contour"
           }
          ],
          "contourcarpet": [
           {
            "colorbar": {
             "outlinewidth": 0,
             "ticks": ""
            },
            "type": "contourcarpet"
           }
          ],
          "heatmap": [
           {
            "colorbar": {
             "outlinewidth": 0,
             "ticks": ""
            },
            "colorscale": [
             [
              0,
              "#0d0887"
             ],
             [
              0.1111111111111111,
              "#46039f"
             ],
             [
              0.2222222222222222,
              "#7201a8"
             ],
             [
              0.3333333333333333,
              "#9c179e"
             ],
             [
              0.4444444444444444,
              "#bd3786"
             ],
             [
              0.5555555555555556,
              "#d8576b"
             ],
             [
              0.6666666666666666,
              "#ed7953"
             ],
             [
              0.7777777777777778,
              "#fb9f3a"
             ],
             [
              0.8888888888888888,
              "#fdca26"
             ],
             [
              1,
              "#f0f921"
             ]
            ],
            "type": "heatmap"
           }
          ],
          "heatmapgl": [
           {
            "colorbar": {
             "outlinewidth": 0,
             "ticks": ""
            },
            "colorscale": [
             [
              0,
              "#0d0887"
             ],
             [
              0.1111111111111111,
              "#46039f"
             ],
             [
              0.2222222222222222,
              "#7201a8"
             ],
             [
              0.3333333333333333,
              "#9c179e"
             ],
             [
              0.4444444444444444,
              "#bd3786"
             ],
             [
              0.5555555555555556,
              "#d8576b"
             ],
             [
              0.6666666666666666,
              "#ed7953"
             ],
             [
              0.7777777777777778,
              "#fb9f3a"
             ],
             [
              0.8888888888888888,
              "#fdca26"
             ],
             [
              1,
              "#f0f921"
             ]
            ],
            "type": "heatmapgl"
           }
          ],
          "histogram": [
           {
            "marker": {
             "colorbar": {
              "outlinewidth": 0,
              "ticks": ""
             }
            },
            "type": "histogram"
           }
          ],
          "histogram2d": [
           {
            "colorbar": {
             "outlinewidth": 0,
             "ticks": ""
            },
            "colorscale": [
             [
              0,
              "#0d0887"
             ],
             [
              0.1111111111111111,
              "#46039f"
             ],
             [
              0.2222222222222222,
              "#7201a8"
             ],
             [
              0.3333333333333333,
              "#9c179e"
             ],
             [
              0.4444444444444444,
              "#bd3786"
             ],
             [
              0.5555555555555556,
              "#d8576b"
             ],
             [
              0.6666666666666666,
              "#ed7953"
             ],
             [
              0.7777777777777778,
              "#fb9f3a"
             ],
             [
              0.8888888888888888,
              "#fdca26"
             ],
             [
              1,
              "#f0f921"
             ]
            ],
            "type": "histogram2d"
           }
          ],
          "histogram2dcontour": [
           {
            "colorbar": {
             "outlinewidth": 0,
             "ticks": ""
            },
            "colorscale": [
             [
              0,
              "#0d0887"
             ],
             [
              0.1111111111111111,
              "#46039f"
             ],
             [
              0.2222222222222222,
              "#7201a8"
             ],
             [
              0.3333333333333333,
              "#9c179e"
             ],
             [
              0.4444444444444444,
              "#bd3786"
             ],
             [
              0.5555555555555556,
              "#d8576b"
             ],
             [
              0.6666666666666666,
              "#ed7953"
             ],
             [
              0.7777777777777778,
              "#fb9f3a"
             ],
             [
              0.8888888888888888,
              "#fdca26"
             ],
             [
              1,
              "#f0f921"
             ]
            ],
            "type": "histogram2dcontour"
           }
          ],
          "mesh3d": [
           {
            "colorbar": {
             "outlinewidth": 0,
             "ticks": ""
            },
            "type": "mesh3d"
           }
          ],
          "parcoords": [
           {
            "line": {
             "colorbar": {
              "outlinewidth": 0,
              "ticks": ""
             }
            },
            "type": "parcoords"
           }
          ],
          "scatter": [
           {
            "marker": {
             "colorbar": {
              "outlinewidth": 0,
              "ticks": ""
             }
            },
            "type": "scatter"
           }
          ],
          "scatter3d": [
           {
            "line": {
             "colorbar": {
              "outlinewidth": 0,
              "ticks": ""
             }
            },
            "marker": {
             "colorbar": {
              "outlinewidth": 0,
              "ticks": ""
             }
            },
            "type": "scatter3d"
           }
          ],
          "scattercarpet": [
           {
            "marker": {
             "colorbar": {
              "outlinewidth": 0,
              "ticks": ""
             }
            },
            "type": "scattercarpet"
           }
          ],
          "scattergeo": [
           {
            "marker": {
             "colorbar": {
              "outlinewidth": 0,
              "ticks": ""
             }
            },
            "type": "scattergeo"
           }
          ],
          "scattergl": [
           {
            "marker": {
             "colorbar": {
              "outlinewidth": 0,
              "ticks": ""
             }
            },
            "type": "scattergl"
           }
          ],
          "scattermapbox": [
           {
            "marker": {
             "colorbar": {
              "outlinewidth": 0,
              "ticks": ""
             }
            },
            "type": "scattermapbox"
           }
          ],
          "scatterpolar": [
           {
            "marker": {
             "colorbar": {
              "outlinewidth": 0,
              "ticks": ""
             }
            },
            "type": "scatterpolar"
           }
          ],
          "scatterpolargl": [
           {
            "marker": {
             "colorbar": {
              "outlinewidth": 0,
              "ticks": ""
             }
            },
            "type": "scatterpolargl"
           }
          ],
          "scatterternary": [
           {
            "marker": {
             "colorbar": {
              "outlinewidth": 0,
              "ticks": ""
             }
            },
            "type": "scatterternary"
           }
          ],
          "surface": [
           {
            "colorbar": {
             "outlinewidth": 0,
             "ticks": ""
            },
            "colorscale": [
             [
              0,
              "#0d0887"
             ],
             [
              0.1111111111111111,
              "#46039f"
             ],
             [
              0.2222222222222222,
              "#7201a8"
             ],
             [
              0.3333333333333333,
              "#9c179e"
             ],
             [
              0.4444444444444444,
              "#bd3786"
             ],
             [
              0.5555555555555556,
              "#d8576b"
             ],
             [
              0.6666666666666666,
              "#ed7953"
             ],
             [
              0.7777777777777778,
              "#fb9f3a"
             ],
             [
              0.8888888888888888,
              "#fdca26"
             ],
             [
              1,
              "#f0f921"
             ]
            ],
            "type": "surface"
           }
          ],
          "table": [
           {
            "cells": {
             "fill": {
              "color": "#EBF0F8"
             },
             "line": {
              "color": "white"
             }
            },
            "header": {
             "fill": {
              "color": "#C8D4E3"
             },
             "line": {
              "color": "white"
             }
            },
            "type": "table"
           }
          ]
         },
         "layout": {
          "annotationdefaults": {
           "arrowcolor": "#2a3f5f",
           "arrowhead": 0,
           "arrowwidth": 1
          },
          "colorscale": {
           "diverging": [
            [
             0,
             "#8e0152"
            ],
            [
             0.1,
             "#c51b7d"
            ],
            [
             0.2,
             "#de77ae"
            ],
            [
             0.3,
             "#f1b6da"
            ],
            [
             0.4,
             "#fde0ef"
            ],
            [
             0.5,
             "#f7f7f7"
            ],
            [
             0.6,
             "#e6f5d0"
            ],
            [
             0.7,
             "#b8e186"
            ],
            [
             0.8,
             "#7fbc41"
            ],
            [
             0.9,
             "#4d9221"
            ],
            [
             1,
             "#276419"
            ]
           ],
           "sequential": [
            [
             0,
             "#0d0887"
            ],
            [
             0.1111111111111111,
             "#46039f"
            ],
            [
             0.2222222222222222,
             "#7201a8"
            ],
            [
             0.3333333333333333,
             "#9c179e"
            ],
            [
             0.4444444444444444,
             "#bd3786"
            ],
            [
             0.5555555555555556,
             "#d8576b"
            ],
            [
             0.6666666666666666,
             "#ed7953"
            ],
            [
             0.7777777777777778,
             "#fb9f3a"
            ],
            [
             0.8888888888888888,
             "#fdca26"
            ],
            [
             1,
             "#f0f921"
            ]
           ],
           "sequentialminus": [
            [
             0,
             "#0d0887"
            ],
            [
             0.1111111111111111,
             "#46039f"
            ],
            [
             0.2222222222222222,
             "#7201a8"
            ],
            [
             0.3333333333333333,
             "#9c179e"
            ],
            [
             0.4444444444444444,
             "#bd3786"
            ],
            [
             0.5555555555555556,
             "#d8576b"
            ],
            [
             0.6666666666666666,
             "#ed7953"
            ],
            [
             0.7777777777777778,
             "#fb9f3a"
            ],
            [
             0.8888888888888888,
             "#fdca26"
            ],
            [
             1,
             "#f0f921"
            ]
           ]
          },
          "colorway": [
           "#636efa",
           "#EF553B",
           "#00cc96",
           "#ab63fa",
           "#FFA15A",
           "#19d3f3",
           "#FF6692",
           "#B6E880",
           "#FF97FF",
           "#FECB52"
          ],
          "font": {
           "color": "#2a3f5f"
          },
          "geo": {
           "bgcolor": "white",
           "lakecolor": "white",
           "landcolor": "#E5ECF6",
           "showlakes": true,
           "showland": true,
           "subunitcolor": "white"
          },
          "hoverlabel": {
           "align": "left"
          },
          "hovermode": "closest",
          "mapbox": {
           "style": "light"
          },
          "paper_bgcolor": "white",
          "plot_bgcolor": "#E5ECF6",
          "polar": {
           "angularaxis": {
            "gridcolor": "white",
            "linecolor": "white",
            "ticks": ""
           },
           "bgcolor": "#E5ECF6",
           "radialaxis": {
            "gridcolor": "white",
            "linecolor": "white",
            "ticks": ""
           }
          },
          "scene": {
           "xaxis": {
            "backgroundcolor": "#E5ECF6",
            "gridcolor": "white",
            "gridwidth": 2,
            "linecolor": "white",
            "showbackground": true,
            "ticks": "",
            "zerolinecolor": "white"
           },
           "yaxis": {
            "backgroundcolor": "#E5ECF6",
            "gridcolor": "white",
            "gridwidth": 2,
            "linecolor": "white",
            "showbackground": true,
            "ticks": "",
            "zerolinecolor": "white"
           },
           "zaxis": {
            "backgroundcolor": "#E5ECF6",
            "gridcolor": "white",
            "gridwidth": 2,
            "linecolor": "white",
            "showbackground": true,
            "ticks": "",
            "zerolinecolor": "white"
           }
          },
          "shapedefaults": {
           "line": {
            "color": "#2a3f5f"
           }
          },
          "ternary": {
           "aaxis": {
            "gridcolor": "white",
            "linecolor": "white",
            "ticks": ""
           },
           "baxis": {
            "gridcolor": "white",
            "linecolor": "white",
            "ticks": ""
           },
           "bgcolor": "#E5ECF6",
           "caxis": {
            "gridcolor": "white",
            "linecolor": "white",
            "ticks": ""
           }
          },
          "title": {
           "x": 0.05
          },
          "xaxis": {
           "automargin": true,
           "gridcolor": "white",
           "linecolor": "white",
           "ticks": "",
           "zerolinecolor": "white",
           "zerolinewidth": 2
          },
          "yaxis": {
           "automargin": true,
           "gridcolor": "white",
           "linecolor": "white",
           "ticks": "",
           "zerolinecolor": "white",
           "zerolinewidth": 2
          }
         }
        },
        "title": {
         "text": "Predictions and Actual Data from Apr 2 and 4"
        }
       }
      }
     },
     "metadata": {}
    }
   ],
   "source": [
    "dates=['April 2', 'April 4']\n",
    "\n",
    "fig = go.Figure(data=[\n",
    "    go.Bar(name='Predicted', x=dates, y=[6928, 8306]),\n",
    "    go.Bar(name='Actual', x=dates, y=[6838, 8347])\n",
    "])\n",
    "# Change the bar mode\n",
    "fig.update_layout(barmode='group', title_text='Predictions and Actual Data from Apr 2 and 4')\n",
    "fig.show()"
   ]
  },
  {
   "cell_type": "code",
   "execution_count": 59,
   "metadata": {},
   "outputs": [
    {
     "output_type": "stream",
     "name": "stderr",
     "text": "INFO:fbprophet:Making 7 forecasts with cutoffs between 2020-02-27 00:00:00 and 2020-04-12 00:00:00\nINFO:fbprophet:n_changepoints greater than number of observations. Using 11.\nINFO:fbprophet:n_changepoints greater than number of observations. Using 16.\nINFO:fbprophet:n_changepoints greater than number of observations. Using 23.\n"
    },
    {
     "output_type": "execute_result",
     "data": {
      "text/plain": "          ds      yhat  yhat_lower  yhat_upper   y     cutoff\n0 2020-02-28  1.191813    0.830550    1.568325   3 2020-02-27\n1 2020-02-29  1.191765    0.807543    1.548082   3 2020-02-27\n2 2020-03-01  1.191717    0.807641    1.529567   4 2020-02-27\n3 2020-03-02  1.342130    0.962731    1.719351   8 2020-02-27\n4 2020-03-03  1.692239    1.275769    2.056135  11 2020-02-27",
      "text/html": "<div>\n<style scoped>\n    .dataframe tbody tr th:only-of-type {\n        vertical-align: middle;\n    }\n\n    .dataframe tbody tr th {\n        vertical-align: top;\n    }\n\n    .dataframe thead th {\n        text-align: right;\n    }\n</style>\n<table border=\"1\" class=\"dataframe\">\n  <thead>\n    <tr style=\"text-align: right;\">\n      <th></th>\n      <th>ds</th>\n      <th>yhat</th>\n      <th>yhat_lower</th>\n      <th>yhat_upper</th>\n      <th>y</th>\n      <th>cutoff</th>\n    </tr>\n  </thead>\n  <tbody>\n    <tr>\n      <th>0</th>\n      <td>2020-02-28</td>\n      <td>1.191813</td>\n      <td>0.830550</td>\n      <td>1.568325</td>\n      <td>3</td>\n      <td>2020-02-27</td>\n    </tr>\n    <tr>\n      <th>1</th>\n      <td>2020-02-29</td>\n      <td>1.191765</td>\n      <td>0.807543</td>\n      <td>1.548082</td>\n      <td>3</td>\n      <td>2020-02-27</td>\n    </tr>\n    <tr>\n      <th>2</th>\n      <td>2020-03-01</td>\n      <td>1.191717</td>\n      <td>0.807641</td>\n      <td>1.529567</td>\n      <td>4</td>\n      <td>2020-02-27</td>\n    </tr>\n    <tr>\n      <th>3</th>\n      <td>2020-03-02</td>\n      <td>1.342130</td>\n      <td>0.962731</td>\n      <td>1.719351</td>\n      <td>8</td>\n      <td>2020-02-27</td>\n    </tr>\n    <tr>\n      <th>4</th>\n      <td>2020-03-03</td>\n      <td>1.692239</td>\n      <td>1.275769</td>\n      <td>2.056135</td>\n      <td>11</td>\n      <td>2020-02-27</td>\n    </tr>\n  </tbody>\n</table>\n</div>"
     },
     "metadata": {},
     "execution_count": 59
    }
   ],
   "source": [
    "# Measuring model performance\n",
    "af_cv = cross_validation(prophet,horizon='15 days',initial='30 days')\n",
    "af_cv.head()"
   ]
  },
  {
   "cell_type": "code",
   "execution_count": 60,
   "metadata": {},
   "outputs": [
    {
     "output_type": "execute_result",
     "data": {
      "text/plain": "          horizon           mse         rmse  ...      mape     mdape  coverage\n0 1 days 12:00:00  6.305839e+06  2511.142944  ...  0.618194  0.679648       0.0\n1 2 days 00:00:00  4.439433e+06  2106.996264  ...  0.557880  0.637946       0.0\n2 2 days 12:00:00  7.572671e+06  2751.848591  ...  0.633807  0.678759       0.0\n3 3 days 00:00:00  6.107277e+06  2471.290598  ...  0.591121  0.694691       0.0\n4 3 days 12:00:00  1.006657e+07  3172.786542  ...  0.671266  0.723711       0.0\n\n[5 rows x 7 columns]",
      "text/html": "<div>\n<style scoped>\n    .dataframe tbody tr th:only-of-type {\n        vertical-align: middle;\n    }\n\n    .dataframe tbody tr th {\n        vertical-align: top;\n    }\n\n    .dataframe thead th {\n        text-align: right;\n    }\n</style>\n<table border=\"1\" class=\"dataframe\">\n  <thead>\n    <tr style=\"text-align: right;\">\n      <th></th>\n      <th>horizon</th>\n      <th>mse</th>\n      <th>rmse</th>\n      <th>mae</th>\n      <th>mape</th>\n      <th>mdape</th>\n      <th>coverage</th>\n    </tr>\n  </thead>\n  <tbody>\n    <tr>\n      <th>0</th>\n      <td>1 days 12:00:00</td>\n      <td>6.305839e+06</td>\n      <td>2511.142944</td>\n      <td>1549.182946</td>\n      <td>0.618194</td>\n      <td>0.679648</td>\n      <td>0.0</td>\n    </tr>\n    <tr>\n      <th>1</th>\n      <td>2 days 00:00:00</td>\n      <td>4.439433e+06</td>\n      <td>2106.996264</td>\n      <td>1249.986812</td>\n      <td>0.557880</td>\n      <td>0.637946</td>\n      <td>0.0</td>\n    </tr>\n    <tr>\n      <th>2</th>\n      <td>2 days 12:00:00</td>\n      <td>7.572671e+06</td>\n      <td>2751.848591</td>\n      <td>1745.207031</td>\n      <td>0.633807</td>\n      <td>0.678759</td>\n      <td>0.0</td>\n    </tr>\n    <tr>\n      <th>3</th>\n      <td>3 days 00:00:00</td>\n      <td>6.107277e+06</td>\n      <td>2471.290598</td>\n      <td>1509.685538</td>\n      <td>0.591121</td>\n      <td>0.694691</td>\n      <td>0.0</td>\n    </tr>\n    <tr>\n      <th>4</th>\n      <td>3 days 12:00:00</td>\n      <td>1.006657e+07</td>\n      <td>3172.786542</td>\n      <td>2075.836613</td>\n      <td>0.671266</td>\n      <td>0.723711</td>\n      <td>0.0</td>\n    </tr>\n  </tbody>\n</table>\n</div>"
     },
     "metadata": {},
     "execution_count": 60
    }
   ],
   "source": [
    "df_p = performance_metrics(af_cv)\n",
    "df_p.head()"
   ]
  },
  {
   "cell_type": "code",
   "execution_count": 64,
   "metadata": {},
   "outputs": [
    {
     "output_type": "error",
     "ename": "SyntaxError",
     "evalue": "invalid syntax (<ipython-input-64-f6160e5beb43>, line 1)",
     "traceback": [
      "\u001b[1;36m  File \u001b[1;32m\"<ipython-input-64-f6160e5beb43>\"\u001b[1;36m, line \u001b[1;32m1\u001b[0m\n\u001b[1;33m    fig = plot_cross_validation_metric(af_cv, metric= 'mape')rage')\u001b[0m\n\u001b[1;37m                                                                ^\u001b[0m\n\u001b[1;31mSyntaxError\u001b[0m\u001b[1;31m:\u001b[0m invalid syntax\n"
     ]
    }
   ],
   "source": [
    "fig = plot_cross_validation_metric(af_cv, metric= 'mape')rage')"
   ]
  },
  {
   "cell_type": "code",
   "execution_count": 62,
   "metadata": {},
   "outputs": [
    {
     "output_type": "display_data",
     "data": {
      "application/vnd.plotly.v1+json": {
       "config": {
        "plotlyServerURL": "https://plot.ly"
       },
       "data": [
        {
         "line": {
          "color": "#0072B2",
          "width": 2
         },
         "mode": "lines",
         "name": "trend",
         "type": "scatter",
         "x": [
          "2020-01-27T00:00:00",
          "2020-02-14T00:00:00",
          "2020-02-15T00:00:00",
          "2020-02-16T00:00:00",
          "2020-02-17T00:00:00",
          "2020-02-18T00:00:00",
          "2020-02-19T00:00:00",
          "2020-02-20T00:00:00",
          "2020-02-21T00:00:00",
          "2020-02-22T00:00:00",
          "2020-02-23T00:00:00",
          "2020-02-24T00:00:00",
          "2020-02-25T00:00:00",
          "2020-02-26T00:00:00",
          "2020-02-27T00:00:00",
          "2020-02-28T00:00:00",
          "2020-02-29T00:00:00",
          "2020-03-01T00:00:00",
          "2020-03-02T00:00:00",
          "2020-03-03T00:00:00",
          "2020-03-04T00:00:00",
          "2020-03-05T00:00:00",
          "2020-03-06T00:00:00",
          "2020-03-07T00:00:00",
          "2020-03-08T00:00:00",
          "2020-03-09T00:00:00",
          "2020-03-10T00:00:00",
          "2020-03-11T00:00:00",
          "2020-03-12T00:00:00",
          "2020-03-13T00:00:00",
          "2020-03-14T00:00:00",
          "2020-03-15T00:00:00",
          "2020-03-16T00:00:00",
          "2020-03-17T00:00:00",
          "2020-03-18T00:00:00",
          "2020-03-19T00:00:00",
          "2020-03-20T00:00:00",
          "2020-03-21T00:00:00",
          "2020-03-22T00:00:00",
          "2020-03-23T00:00:00",
          "2020-03-24T00:00:00",
          "2020-03-25T00:00:00",
          "2020-03-26T00:00:00",
          "2020-03-27T00:00:00",
          "2020-03-28T00:00:00",
          "2020-03-29T00:00:00",
          "2020-03-30T00:00:00",
          "2020-03-31T00:00:00",
          "2020-04-01T00:00:00",
          "2020-04-02T00:00:00",
          "2020-04-03T00:00:00",
          "2020-04-04T00:00:00",
          "2020-04-05T00:00:00",
          "2020-04-06T00:00:00",
          "2020-04-07T00:00:00",
          "2020-04-08T00:00:00",
          "2020-04-09T00:00:00",
          "2020-04-10T00:00:00",
          "2020-04-11T00:00:00",
          "2020-04-12T00:00:00",
          "2020-04-13T00:00:00",
          "2020-04-14T00:00:00",
          "2020-04-15T00:00:00",
          "2020-04-16T00:00:00",
          "2020-04-17T00:00:00",
          "2020-04-18T00:00:00",
          "2020-04-19T00:00:00",
          "2020-04-20T00:00:00",
          "2020-04-21T00:00:00",
          "2020-04-22T00:00:00",
          "2020-04-23T00:00:00",
          "2020-04-24T00:00:00",
          "2020-04-25T00:00:00",
          "2020-04-26T00:00:00",
          "2020-04-27T00:00:00",
          "2020-04-28T00:00:00",
          "2020-04-29T00:00:00",
          "2020-04-30T00:00:00",
          "2020-05-01T00:00:00",
          "2020-05-02T00:00:00",
          "2020-05-03T00:00:00",
          "2020-05-04T00:00:00",
          "2020-05-05T00:00:00",
          "2020-05-06T00:00:00",
          "2020-05-07T00:00:00",
          "2020-05-08T00:00:00",
          "2020-05-09T00:00:00",
          "2020-05-10T00:00:00",
          "2020-05-11T00:00:00",
          "2020-05-12T00:00:00",
          "2020-05-13T00:00:00",
          "2020-05-14T00:00:00",
          "2020-05-15T00:00:00",
          "2020-05-16T00:00:00",
          "2020-05-17T00:00:00",
          "2020-05-18T00:00:00",
          "2020-05-19T00:00:00",
          "2020-05-20T00:00:00",
          "2020-05-21T00:00:00",
          "2020-05-22T00:00:00",
          "2020-05-23T00:00:00",
          "2020-05-24T00:00:00",
          "2020-05-25T00:00:00",
          "2020-05-26T00:00:00",
          "2020-05-27T00:00:00",
          "2020-05-28T00:00:00",
          "2020-05-29T00:00:00",
          "2020-05-30T00:00:00",
          "2020-05-31T00:00:00",
          "2020-06-01T00:00:00",
          "2020-06-02T00:00:00",
          "2020-06-03T00:00:00",
          "2020-06-04T00:00:00",
          "2020-06-05T00:00:00",
          "2020-06-06T00:00:00",
          "2020-06-07T00:00:00",
          "2020-06-08T00:00:00",
          "2020-06-09T00:00:00",
          "2020-06-10T00:00:00",
          "2020-06-11T00:00:00",
          "2020-06-12T00:00:00",
          "2020-06-13T00:00:00",
          "2020-06-14T00:00:00",
          "2020-06-15T00:00:00",
          "2020-06-16T00:00:00",
          "2020-06-17T00:00:00",
          "2020-06-18T00:00:00",
          "2020-06-19T00:00:00",
          "2020-06-20T00:00:00",
          "2020-06-21T00:00:00",
          "2020-06-22T00:00:00",
          "2020-06-23T00:00:00",
          "2020-06-24T00:00:00",
          "2020-06-25T00:00:00",
          "2020-06-26T00:00:00",
          "2020-06-27T00:00:00",
          "2020-06-28T00:00:00",
          "2020-06-29T00:00:00",
          "2020-06-30T00:00:00",
          "2020-07-01T00:00:00",
          "2020-07-02T00:00:00",
          "2020-07-03T00:00:00",
          "2020-07-04T00:00:00",
          "2020-07-05T00:00:00",
          "2020-07-06T00:00:00",
          "2020-07-07T00:00:00",
          "2020-07-08T00:00:00",
          "2020-07-09T00:00:00",
          "2020-07-10T00:00:00",
          "2020-07-11T00:00:00",
          "2020-07-12T00:00:00",
          "2020-07-13T00:00:00",
          "2020-07-14T00:00:00",
          "2020-07-15T00:00:00",
          "2020-07-16T00:00:00",
          "2020-07-17T00:00:00",
          "2020-07-18T00:00:00",
          "2020-07-19T00:00:00",
          "2020-07-20T00:00:00",
          "2020-07-21T00:00:00",
          "2020-07-22T00:00:00",
          "2020-07-23T00:00:00",
          "2020-07-24T00:00:00",
          "2020-07-25T00:00:00",
          "2020-07-26T00:00:00"
         ],
         "y": [
          -92.21502815732794,
          -31.203122840603758,
          -27.813572545230183,
          -24.424021869941413,
          -21.034471194652628,
          -17.644920519363858,
          -14.25536715855789,
          -10.865813797751922,
          -7.476258937237469,
          -4.086704076723043,
          -0.6969790397879972,
          2.6927459971470626,
          6.082471034082081,
          9.472569812872646,
          12.862668591663208,
          16.359678849652912,
          19.856689107642605,
          23.35369936563231,
          27.202116209605094,
          31.050533053577855,
          35.1613741869122,
          39.27221532024656,
          43.684639197651606,
          48.097063075056674,
          52.50948695246158,
          77.9783671642727,
          103.4472473760837,
          129.04948597550376,
          154.65172457492406,
          180.27133714428174,
          205.89094971363988,
          231.51056228299745,
          381.61251250152105,
          531.7144627200464,
          682.0069292697676,
          832.2993958194897,
          982.6871055587319,
          1133.0748152979731,
          1283.46252503721,
          1761.4727600152432,
          2239.482994993269,
          2717.598335451489,
          3195.713675909716,
          3695.4301440275076,
          4195.1466121452995,
          4694.863080263101,
          5194.88222493406,
          5694.901369605026,
          6337.854543835002,
          6980.807718064985,
          7623.760892294961,
          8266.714077017197,
          8909.667261739427,
          9552.620445460665,
          10195.573629181887,
          10838.52681212716,
          11481.47999507244,
          12124.433178017713,
          12767.386360568298,
          13410.339543118871,
          14602.56005142054,
          15794.780559722194,
          16987.001068023863,
          18179.22157632552,
          19371.442084627175,
          20563.662592928842,
          21755.883101230513,
          22948.103609532183,
          24140.324117833836,
          25332.544626135492,
          26524.765134437162,
          27716.985642738815,
          28909.206151040486,
          30101.426659342156,
          31293.64716764381,
          32485.867675945465,
          33678.08818424712,
          34870.3086925488,
          36062.52920085047,
          37254.74970915213,
          38446.97021745378,
          39639.190725755434,
          40831.411234057094,
          42023.631742358775,
          43215.85225066044,
          44408.0727589621,
          45600.293267263754,
          46792.51377556541,
          47984.73428386707,
          49176.95479216875,
          50369.175300470415,
          51561.395808772075,
          52753.61631707374,
          53945.83682537538,
          55138.05733367708,
          56330.27784197872,
          57522.49835028039,
          58714.71885858203,
          59906.9393668837,
          61099.15987518537,
          62291.38038348704,
          63483.60089178871,
          64675.821400090346,
          65868.04190839201,
          67060.26241669369,
          68252.48292499533,
          69444.70343329702,
          70636.92394159867,
          71829.14444990034,
          73021.36495820197,
          74213.58546650365,
          75405.80597480532,
          76598.02648310698,
          77790.24699140865,
          78982.4674997103,
          80174.68800801196,
          81366.90851631363,
          82559.12902461531,
          83751.34953291697,
          84943.57004121861,
          86135.79054952029,
          87328.01105782192,
          88520.23156612359,
          89712.45207442527,
          90904.67258272693,
          92096.8930910286,
          93289.11359933025,
          94481.3341076319,
          95673.55461593358,
          96865.77512423525,
          98057.99563253691,
          99250.21614083856,
          100442.43664914023,
          101634.65715744186,
          102826.87766574357,
          104019.09817404521,
          105211.31868234687,
          106403.53919064855,
          107595.75969895019,
          108787.98020725185,
          109980.20071555352,
          111172.42122385518,
          112364.64173215686,
          113556.8622404585,
          114749.08274876016,
          115941.30325706181,
          117133.52376536351,
          118325.74427366514,
          119517.96478196682,
          120710.18529026849,
          121902.40579857012,
          123094.62630687183,
          124286.84681517347,
          125479.06732347513,
          126671.2878317768,
          127863.50834007845,
          129055.72884838011,
          130247.94935668178,
          131440.16986498344,
          132632.3903732851,
          133824.61088158676,
          135016.83138988842,
          136209.05189819008,
          137401.27240649177,
          138593.4929147934
         ]
        },
        {
         "line": {
          "color": "rgba(0, 114, 178, 0.2)",
          "width": 0
         },
         "mode": "lines",
         "name": "trend_upper",
         "type": "scatter",
         "x": [
          "2020-01-27T00:00:00",
          "2020-02-14T00:00:00",
          "2020-02-15T00:00:00",
          "2020-02-16T00:00:00",
          "2020-02-17T00:00:00",
          "2020-02-18T00:00:00",
          "2020-02-19T00:00:00",
          "2020-02-20T00:00:00",
          "2020-02-21T00:00:00",
          "2020-02-22T00:00:00",
          "2020-02-23T00:00:00",
          "2020-02-24T00:00:00",
          "2020-02-25T00:00:00",
          "2020-02-26T00:00:00",
          "2020-02-27T00:00:00",
          "2020-02-28T00:00:00",
          "2020-02-29T00:00:00",
          "2020-03-01T00:00:00",
          "2020-03-02T00:00:00",
          "2020-03-03T00:00:00",
          "2020-03-04T00:00:00",
          "2020-03-05T00:00:00",
          "2020-03-06T00:00:00",
          "2020-03-07T00:00:00",
          "2020-03-08T00:00:00",
          "2020-03-09T00:00:00",
          "2020-03-10T00:00:00",
          "2020-03-11T00:00:00",
          "2020-03-12T00:00:00",
          "2020-03-13T00:00:00",
          "2020-03-14T00:00:00",
          "2020-03-15T00:00:00",
          "2020-03-16T00:00:00",
          "2020-03-17T00:00:00",
          "2020-03-18T00:00:00",
          "2020-03-19T00:00:00",
          "2020-03-20T00:00:00",
          "2020-03-21T00:00:00",
          "2020-03-22T00:00:00",
          "2020-03-23T00:00:00",
          "2020-03-24T00:00:00",
          "2020-03-25T00:00:00",
          "2020-03-26T00:00:00",
          "2020-03-27T00:00:00",
          "2020-03-28T00:00:00",
          "2020-03-29T00:00:00",
          "2020-03-30T00:00:00",
          "2020-03-31T00:00:00",
          "2020-04-01T00:00:00",
          "2020-04-02T00:00:00",
          "2020-04-03T00:00:00",
          "2020-04-04T00:00:00",
          "2020-04-05T00:00:00",
          "2020-04-06T00:00:00",
          "2020-04-07T00:00:00",
          "2020-04-08T00:00:00",
          "2020-04-09T00:00:00",
          "2020-04-10T00:00:00",
          "2020-04-11T00:00:00",
          "2020-04-12T00:00:00",
          "2020-04-13T00:00:00",
          "2020-04-14T00:00:00",
          "2020-04-15T00:00:00",
          "2020-04-16T00:00:00",
          "2020-04-17T00:00:00",
          "2020-04-18T00:00:00",
          "2020-04-19T00:00:00",
          "2020-04-20T00:00:00",
          "2020-04-21T00:00:00",
          "2020-04-22T00:00:00",
          "2020-04-23T00:00:00",
          "2020-04-24T00:00:00",
          "2020-04-25T00:00:00",
          "2020-04-26T00:00:00",
          "2020-04-27T00:00:00",
          "2020-04-28T00:00:00",
          "2020-04-29T00:00:00",
          "2020-04-30T00:00:00",
          "2020-05-01T00:00:00",
          "2020-05-02T00:00:00",
          "2020-05-03T00:00:00",
          "2020-05-04T00:00:00",
          "2020-05-05T00:00:00",
          "2020-05-06T00:00:00",
          "2020-05-07T00:00:00",
          "2020-05-08T00:00:00",
          "2020-05-09T00:00:00",
          "2020-05-10T00:00:00",
          "2020-05-11T00:00:00",
          "2020-05-12T00:00:00",
          "2020-05-13T00:00:00",
          "2020-05-14T00:00:00",
          "2020-05-15T00:00:00",
          "2020-05-16T00:00:00",
          "2020-05-17T00:00:00",
          "2020-05-18T00:00:00",
          "2020-05-19T00:00:00",
          "2020-05-20T00:00:00",
          "2020-05-21T00:00:00",
          "2020-05-22T00:00:00",
          "2020-05-23T00:00:00",
          "2020-05-24T00:00:00",
          "2020-05-25T00:00:00",
          "2020-05-26T00:00:00",
          "2020-05-27T00:00:00",
          "2020-05-28T00:00:00",
          "2020-05-29T00:00:00",
          "2020-05-30T00:00:00",
          "2020-05-31T00:00:00",
          "2020-06-01T00:00:00",
          "2020-06-02T00:00:00",
          "2020-06-03T00:00:00",
          "2020-06-04T00:00:00",
          "2020-06-05T00:00:00",
          "2020-06-06T00:00:00",
          "2020-06-07T00:00:00",
          "2020-06-08T00:00:00",
          "2020-06-09T00:00:00",
          "2020-06-10T00:00:00",
          "2020-06-11T00:00:00",
          "2020-06-12T00:00:00",
          "2020-06-13T00:00:00",
          "2020-06-14T00:00:00",
          "2020-06-15T00:00:00",
          "2020-06-16T00:00:00",
          "2020-06-17T00:00:00",
          "2020-06-18T00:00:00",
          "2020-06-19T00:00:00",
          "2020-06-20T00:00:00",
          "2020-06-21T00:00:00",
          "2020-06-22T00:00:00",
          "2020-06-23T00:00:00",
          "2020-06-24T00:00:00",
          "2020-06-25T00:00:00",
          "2020-06-26T00:00:00",
          "2020-06-27T00:00:00",
          "2020-06-28T00:00:00",
          "2020-06-29T00:00:00",
          "2020-06-30T00:00:00",
          "2020-07-01T00:00:00",
          "2020-07-02T00:00:00",
          "2020-07-03T00:00:00",
          "2020-07-04T00:00:00",
          "2020-07-05T00:00:00",
          "2020-07-06T00:00:00",
          "2020-07-07T00:00:00",
          "2020-07-08T00:00:00",
          "2020-07-09T00:00:00",
          "2020-07-10T00:00:00",
          "2020-07-11T00:00:00",
          "2020-07-12T00:00:00",
          "2020-07-13T00:00:00",
          "2020-07-14T00:00:00",
          "2020-07-15T00:00:00",
          "2020-07-16T00:00:00",
          "2020-07-17T00:00:00",
          "2020-07-18T00:00:00",
          "2020-07-19T00:00:00",
          "2020-07-20T00:00:00",
          "2020-07-21T00:00:00",
          "2020-07-22T00:00:00",
          "2020-07-23T00:00:00",
          "2020-07-24T00:00:00",
          "2020-07-25T00:00:00",
          "2020-07-26T00:00:00"
         ],
         "y": [
          -92.21502815732794,
          -31.203122840603758,
          -27.813572545230183,
          -24.424021869941413,
          -21.034471194652628,
          -17.644920519363858,
          -14.25536715855789,
          -10.865813797751922,
          -7.4762589372374695,
          -4.086704076723043,
          -0.6969790397879972,
          2.6927459971470626,
          6.082471034082081,
          9.472569812872646,
          12.862668591663208,
          16.359678849652912,
          19.856689107642605,
          23.35369936563231,
          27.202116209605094,
          31.050533053577855,
          35.1613741869122,
          39.27221532024656,
          43.684639197651606,
          48.097063075056674,
          52.50948695246158,
          77.9783671642727,
          103.4472473760837,
          129.04948597550376,
          154.65172457492406,
          180.27133714428174,
          205.89094971363988,
          231.51056228299745,
          381.61251250152105,
          531.7144627200464,
          682.0069292697676,
          832.2993958194897,
          982.6871055587319,
          1133.0748152979731,
          1283.46252503721,
          1761.4727600152432,
          2239.482994993269,
          2717.598335451489,
          3195.713675909716,
          3695.4301440275076,
          4195.1466121452995,
          4694.863080263101,
          5194.88222493406,
          5694.901369605026,
          6337.854543835001,
          6980.807718064985,
          7623.760892294961,
          8266.714077017197,
          8909.667261739427,
          9552.620445460665,
          10195.573629181887,
          10838.52681212716,
          11481.47999507244,
          12124.433178017713,
          12767.386360568298,
          13410.339543118871,
          14602.56005142054,
          15794.780559722194,
          16987.001068023863,
          18179.22157632552,
          19371.442084627175,
          20563.662592928842,
          21755.883101230513,
          22948.103609532183,
          24140.324117833836,
          25332.544626135492,
          26524.765134437162,
          27716.985642738815,
          28909.206151040486,
          30101.426659342156,
          31293.64716764381,
          32488.84346688529,
          33709.31803541049,
          34948.78286544451,
          36197.93866614142,
          37461.714023033164,
          38740.8944860217,
          40030.15754933924,
          41316.338526023916,
          42626.38373161887,
          43950.27260479851,
          45215.25195214916,
          46547.513438329595,
          47878.70188984465,
          49218.515702400866,
          50590.21548233123,
          51932.94377088484,
          53294.92108277309,
          54668.0698486081,
          56063.16336696188,
          57419.17838483662,
          58784.90099455419,
          60130.60733579666,
          61525.091109492656,
          62892.97836808114,
          64289.67960324584,
          65642.16096770846,
          67006.6584654155,
          68372.1973424832,
          69819.1375928569,
          71235.07058180044,
          72699.79537282324,
          74163.58121814173,
          75635.14289327333,
          77051.2186565487,
          78465.14352621898,
          79871.9336555174,
          81324.779449265,
          82795.27527972573,
          84287.59863079665,
          85692.3302513176,
          87113.41347080677,
          88603.89673835265,
          90080.51613182665,
          91471.03228308223,
          92891.47229801246,
          94232.62649679682,
          95624.16092778729,
          97048.40491434885,
          98440.43022774154,
          99934.95649825191,
          101379.1030094935,
          102872.30592046797,
          104344.18373643658,
          105819.53211477946,
          107292.37775098246,
          108959.0920234643,
          110608.3642392022,
          112197.44369866053,
          113523.67233439583,
          114996.44740618233,
          116539.38391498987,
          117981.22294910904,
          119467.89544383349,
          120897.55966518685,
          122402.73558485904,
          123885.1409097304,
          125326.78369032119,
          126912.34727708514,
          128458.01711011375,
          129948.06813115356,
          131500.92233235328,
          133095.05799529023,
          134668.20118108293,
          136138.32552749518,
          137601.9413794102,
          139156.27857185865,
          140717.9159558954,
          142117.13718597635,
          143686.47138789587,
          145227.78236062446,
          146772.86814253955,
          148216.42965243314,
          149808.50450145183,
          151385.4748405776,
          152971.96467326634,
          154488.34041326132,
          156020.0356054766,
          157556.25908626535,
          158984.42491748632,
          160518.0998780584
         ]
        },
        {
         "fill": "tonexty",
         "fillcolor": "rgba(0, 114, 178, 0.2)",
         "line": {
          "color": "rgba(0, 114, 178, 0.2)",
          "width": 0
         },
         "mode": "lines",
         "name": "trend_lower",
         "type": "scatter",
         "x": [
          "2020-01-27T00:00:00",
          "2020-02-14T00:00:00",
          "2020-02-15T00:00:00",
          "2020-02-16T00:00:00",
          "2020-02-17T00:00:00",
          "2020-02-18T00:00:00",
          "2020-02-19T00:00:00",
          "2020-02-20T00:00:00",
          "2020-02-21T00:00:00",
          "2020-02-22T00:00:00",
          "2020-02-23T00:00:00",
          "2020-02-24T00:00:00",
          "2020-02-25T00:00:00",
          "2020-02-26T00:00:00",
          "2020-02-27T00:00:00",
          "2020-02-28T00:00:00",
          "2020-02-29T00:00:00",
          "2020-03-01T00:00:00",
          "2020-03-02T00:00:00",
          "2020-03-03T00:00:00",
          "2020-03-04T00:00:00",
          "2020-03-05T00:00:00",
          "2020-03-06T00:00:00",
          "2020-03-07T00:00:00",
          "2020-03-08T00:00:00",
          "2020-03-09T00:00:00",
          "2020-03-10T00:00:00",
          "2020-03-11T00:00:00",
          "2020-03-12T00:00:00",
          "2020-03-13T00:00:00",
          "2020-03-14T00:00:00",
          "2020-03-15T00:00:00",
          "2020-03-16T00:00:00",
          "2020-03-17T00:00:00",
          "2020-03-18T00:00:00",
          "2020-03-19T00:00:00",
          "2020-03-20T00:00:00",
          "2020-03-21T00:00:00",
          "2020-03-22T00:00:00",
          "2020-03-23T00:00:00",
          "2020-03-24T00:00:00",
          "2020-03-25T00:00:00",
          "2020-03-26T00:00:00",
          "2020-03-27T00:00:00",
          "2020-03-28T00:00:00",
          "2020-03-29T00:00:00",
          "2020-03-30T00:00:00",
          "2020-03-31T00:00:00",
          "2020-04-01T00:00:00",
          "2020-04-02T00:00:00",
          "2020-04-03T00:00:00",
          "2020-04-04T00:00:00",
          "2020-04-05T00:00:00",
          "2020-04-06T00:00:00",
          "2020-04-07T00:00:00",
          "2020-04-08T00:00:00",
          "2020-04-09T00:00:00",
          "2020-04-10T00:00:00",
          "2020-04-11T00:00:00",
          "2020-04-12T00:00:00",
          "2020-04-13T00:00:00",
          "2020-04-14T00:00:00",
          "2020-04-15T00:00:00",
          "2020-04-16T00:00:00",
          "2020-04-17T00:00:00",
          "2020-04-18T00:00:00",
          "2020-04-19T00:00:00",
          "2020-04-20T00:00:00",
          "2020-04-21T00:00:00",
          "2020-04-22T00:00:00",
          "2020-04-23T00:00:00",
          "2020-04-24T00:00:00",
          "2020-04-25T00:00:00",
          "2020-04-26T00:00:00",
          "2020-04-27T00:00:00",
          "2020-04-28T00:00:00",
          "2020-04-29T00:00:00",
          "2020-04-30T00:00:00",
          "2020-05-01T00:00:00",
          "2020-05-02T00:00:00",
          "2020-05-03T00:00:00",
          "2020-05-04T00:00:00",
          "2020-05-05T00:00:00",
          "2020-05-06T00:00:00",
          "2020-05-07T00:00:00",
          "2020-05-08T00:00:00",
          "2020-05-09T00:00:00",
          "2020-05-10T00:00:00",
          "2020-05-11T00:00:00",
          "2020-05-12T00:00:00",
          "2020-05-13T00:00:00",
          "2020-05-14T00:00:00",
          "2020-05-15T00:00:00",
          "2020-05-16T00:00:00",
          "2020-05-17T00:00:00",
          "2020-05-18T00:00:00",
          "2020-05-19T00:00:00",
          "2020-05-20T00:00:00",
          "2020-05-21T00:00:00",
          "2020-05-22T00:00:00",
          "2020-05-23T00:00:00",
          "2020-05-24T00:00:00",
          "2020-05-25T00:00:00",
          "2020-05-26T00:00:00",
          "2020-05-27T00:00:00",
          "2020-05-28T00:00:00",
          "2020-05-29T00:00:00",
          "2020-05-30T00:00:00",
          "2020-05-31T00:00:00",
          "2020-06-01T00:00:00",
          "2020-06-02T00:00:00",
          "2020-06-03T00:00:00",
          "2020-06-04T00:00:00",
          "2020-06-05T00:00:00",
          "2020-06-06T00:00:00",
          "2020-06-07T00:00:00",
          "2020-06-08T00:00:00",
          "2020-06-09T00:00:00",
          "2020-06-10T00:00:00",
          "2020-06-11T00:00:00",
          "2020-06-12T00:00:00",
          "2020-06-13T00:00:00",
          "2020-06-14T00:00:00",
          "2020-06-15T00:00:00",
          "2020-06-16T00:00:00",
          "2020-06-17T00:00:00",
          "2020-06-18T00:00:00",
          "2020-06-19T00:00:00",
          "2020-06-20T00:00:00",
          "2020-06-21T00:00:00",
          "2020-06-22T00:00:00",
          "2020-06-23T00:00:00",
          "2020-06-24T00:00:00",
          "2020-06-25T00:00:00",
          "2020-06-26T00:00:00",
          "2020-06-27T00:00:00",
          "2020-06-28T00:00:00",
          "2020-06-29T00:00:00",
          "2020-06-30T00:00:00",
          "2020-07-01T00:00:00",
          "2020-07-02T00:00:00",
          "2020-07-03T00:00:00",
          "2020-07-04T00:00:00",
          "2020-07-05T00:00:00",
          "2020-07-06T00:00:00",
          "2020-07-07T00:00:00",
          "2020-07-08T00:00:00",
          "2020-07-09T00:00:00",
          "2020-07-10T00:00:00",
          "2020-07-11T00:00:00",
          "2020-07-12T00:00:00",
          "2020-07-13T00:00:00",
          "2020-07-14T00:00:00",
          "2020-07-15T00:00:00",
          "2020-07-16T00:00:00",
          "2020-07-17T00:00:00",
          "2020-07-18T00:00:00",
          "2020-07-19T00:00:00",
          "2020-07-20T00:00:00",
          "2020-07-21T00:00:00",
          "2020-07-22T00:00:00",
          "2020-07-23T00:00:00",
          "2020-07-24T00:00:00",
          "2020-07-25T00:00:00",
          "2020-07-26T00:00:00"
         ],
         "y": [
          -92.21502815732794,
          -31.203122840603758,
          -27.813572545230183,
          -24.424021869941413,
          -21.034471194652628,
          -17.644920519363858,
          -14.25536715855789,
          -10.865813797751922,
          -7.4762589372374695,
          -4.086704076723043,
          -0.6969790397879972,
          2.6927459971470626,
          6.082471034082081,
          9.472569812872646,
          12.862668591663208,
          16.359678849652912,
          19.856689107642605,
          23.35369936563231,
          27.202116209605094,
          31.050533053577855,
          35.1613741869122,
          39.27221532024656,
          43.684639197651606,
          48.097063075056674,
          52.50948695246158,
          77.9783671642727,
          103.4472473760837,
          129.04948597550376,
          154.65172457492406,
          180.27133714428174,
          205.89094971363988,
          231.51056228299745,
          381.61251250152105,
          531.7144627200464,
          682.0069292697676,
          832.2993958194897,
          982.6871055587319,
          1133.0748152979731,
          1283.46252503721,
          1761.4727600152432,
          2239.482994993269,
          2717.598335451489,
          3195.713675909716,
          3695.4301440275076,
          4195.1466121452995,
          4694.863080263101,
          5194.88222493406,
          5694.901369605026,
          6337.854543835001,
          6980.807718064985,
          7623.760892294961,
          8266.714077017197,
          8909.667261739427,
          9552.620445460665,
          10195.573629181887,
          10838.52681212716,
          11481.47999507244,
          12124.433178017713,
          12767.386360568298,
          13410.339543118871,
          14602.56005142054,
          15794.780559722194,
          16987.001068023863,
          18179.22157632552,
          19371.442084627175,
          20563.662592928842,
          21755.883101230513,
          22948.103609532183,
          24140.324117833836,
          25332.544626135492,
          26524.765134437162,
          27716.985642738815,
          28909.206151040486,
          30101.426659342156,
          31293.64716764381,
          32482.48219877204,
          33641.91436898345,
          34780.327298903554,
          35910.290750949534,
          37028.4575273027,
          38118.61371540156,
          39238.02560397859,
          40331.56298702044,
          41412.418920795884,
          42490.92068973383,
          43583.027049391974,
          44653.70590937711,
          45710.42855638469,
          46779.26592931259,
          47807.9021615647,
          48867.460030766444,
          49937.635457806646,
          50965.43756220791,
          51973.001645833385,
          53001.19263141766,
          54046.59811679998,
          55047.245779053716,
          56053.71494603046,
          57083.08275912497,
          58110.162467150454,
          59078.636085287406,
          60074.57030786408,
          61067.327359689414,
          62058.52280018607,
          63063.75074224152,
          64035.85938986585,
          65047.421903040144,
          65959.68120218856,
          66869.62806725685,
          67853.23456762222,
          68866.60055198189,
          69745.94568904047,
          70645.4351849479,
          71586.21936439919,
          72530.89073754489,
          73464.90888963106,
          74414.39410537248,
          75380.08213145938,
          76335.68698913215,
          77269.41988765023,
          78126.05636921407,
          78995.15875584698,
          79918.78113613525,
          80827.230766516,
          81691.56386444511,
          82621.01596290946,
          83653.39521286474,
          84551.11065051127,
          85393.40493847603,
          86237.01039784783,
          87100.10184616997,
          87954.36857030643,
          88901.32549499092,
          89835.08849736417,
          90654.03915078987,
          91411.75904123606,
          92261.06602154337,
          93092.54037495714,
          93916.80125664572,
          94788.57483802046,
          95691.38319969732,
          96627.55315865303,
          97360.79846834895,
          98267.25059948454,
          99048.3435866993,
          99908.57579095208,
          100799.29671711319,
          101789.34625289963,
          102541.28193175234,
          103417.0053502094,
          104265.97900955014,
          105142.17445659978,
          105999.25981085096,
          106921.11366613665,
          107692.96688918251,
          108522.34444991048,
          109408.33166711373,
          110216.38330256206,
          111027.23782544327,
          111838.91355825501,
          112657.84346020236,
          113597.5729318876,
          114525.63988487847,
          115346.62099586782,
          116167.1940133808
         ]
        }
       ],
       "layout": {
        "height": 300,
        "showlegend": false,
        "template": {
         "data": {
          "bar": [
           {
            "error_x": {
             "color": "#2a3f5f"
            },
            "error_y": {
             "color": "#2a3f5f"
            },
            "marker": {
             "line": {
              "color": "#E5ECF6",
              "width": 0.5
             }
            },
            "type": "bar"
           }
          ],
          "barpolar": [
           {
            "marker": {
             "line": {
              "color": "#E5ECF6",
              "width": 0.5
             }
            },
            "type": "barpolar"
           }
          ],
          "carpet": [
           {
            "aaxis": {
             "endlinecolor": "#2a3f5f",
             "gridcolor": "white",
             "linecolor": "white",
             "minorgridcolor": "white",
             "startlinecolor": "#2a3f5f"
            },
            "baxis": {
             "endlinecolor": "#2a3f5f",
             "gridcolor": "white",
             "linecolor": "white",
             "minorgridcolor": "white",
             "startlinecolor": "#2a3f5f"
            },
            "type": "carpet"
           }
          ],
          "choropleth": [
           {
            "colorbar": {
             "outlinewidth": 0,
             "ticks": ""
            },
            "type": "choropleth"
           }
          ],
          "contour": [
           {
            "colorbar": {
             "outlinewidth": 0,
             "ticks": ""
            },
            "colorscale": [
             [
              0,
              "#0d0887"
             ],
             [
              0.1111111111111111,
              "#46039f"
             ],
             [
              0.2222222222222222,
              "#7201a8"
             ],
             [
              0.3333333333333333,
              "#9c179e"
             ],
             [
              0.4444444444444444,
              "#bd3786"
             ],
             [
              0.5555555555555556,
              "#d8576b"
             ],
             [
              0.6666666666666666,
              "#ed7953"
             ],
             [
              0.7777777777777778,
              "#fb9f3a"
             ],
             [
              0.8888888888888888,
              "#fdca26"
             ],
             [
              1,
              "#f0f921"
             ]
            ],
            "type": "contour"
           }
          ],
          "contourcarpet": [
           {
            "colorbar": {
             "outlinewidth": 0,
             "ticks": ""
            },
            "type": "contourcarpet"
           }
          ],
          "heatmap": [
           {
            "colorbar": {
             "outlinewidth": 0,
             "ticks": ""
            },
            "colorscale": [
             [
              0,
              "#0d0887"
             ],
             [
              0.1111111111111111,
              "#46039f"
             ],
             [
              0.2222222222222222,
              "#7201a8"
             ],
             [
              0.3333333333333333,
              "#9c179e"
             ],
             [
              0.4444444444444444,
              "#bd3786"
             ],
             [
              0.5555555555555556,
              "#d8576b"
             ],
             [
              0.6666666666666666,
              "#ed7953"
             ],
             [
              0.7777777777777778,
              "#fb9f3a"
             ],
             [
              0.8888888888888888,
              "#fdca26"
             ],
             [
              1,
              "#f0f921"
             ]
            ],
            "type": "heatmap"
           }
          ],
          "heatmapgl": [
           {
            "colorbar": {
             "outlinewidth": 0,
             "ticks": ""
            },
            "colorscale": [
             [
              0,
              "#0d0887"
             ],
             [
              0.1111111111111111,
              "#46039f"
             ],
             [
              0.2222222222222222,
              "#7201a8"
             ],
             [
              0.3333333333333333,
              "#9c179e"
             ],
             [
              0.4444444444444444,
              "#bd3786"
             ],
             [
              0.5555555555555556,
              "#d8576b"
             ],
             [
              0.6666666666666666,
              "#ed7953"
             ],
             [
              0.7777777777777778,
              "#fb9f3a"
             ],
             [
              0.8888888888888888,
              "#fdca26"
             ],
             [
              1,
              "#f0f921"
             ]
            ],
            "type": "heatmapgl"
           }
          ],
          "histogram": [
           {
            "marker": {
             "colorbar": {
              "outlinewidth": 0,
              "ticks": ""
             }
            },
            "type": "histogram"
           }
          ],
          "histogram2d": [
           {
            "colorbar": {
             "outlinewidth": 0,
             "ticks": ""
            },
            "colorscale": [
             [
              0,
              "#0d0887"
             ],
             [
              0.1111111111111111,
              "#46039f"
             ],
             [
              0.2222222222222222,
              "#7201a8"
             ],
             [
              0.3333333333333333,
              "#9c179e"
             ],
             [
              0.4444444444444444,
              "#bd3786"
             ],
             [
              0.5555555555555556,
              "#d8576b"
             ],
             [
              0.6666666666666666,
              "#ed7953"
             ],
             [
              0.7777777777777778,
              "#fb9f3a"
             ],
             [
              0.8888888888888888,
              "#fdca26"
             ],
             [
              1,
              "#f0f921"
             ]
            ],
            "type": "histogram2d"
           }
          ],
          "histogram2dcontour": [
           {
            "colorbar": {
             "outlinewidth": 0,
             "ticks": ""
            },
            "colorscale": [
             [
              0,
              "#0d0887"
             ],
             [
              0.1111111111111111,
              "#46039f"
             ],
             [
              0.2222222222222222,
              "#7201a8"
             ],
             [
              0.3333333333333333,
              "#9c179e"
             ],
             [
              0.4444444444444444,
              "#bd3786"
             ],
             [
              0.5555555555555556,
              "#d8576b"
             ],
             [
              0.6666666666666666,
              "#ed7953"
             ],
             [
              0.7777777777777778,
              "#fb9f3a"
             ],
             [
              0.8888888888888888,
              "#fdca26"
             ],
             [
              1,
              "#f0f921"
             ]
            ],
            "type": "histogram2dcontour"
           }
          ],
          "mesh3d": [
           {
            "colorbar": {
             "outlinewidth": 0,
             "ticks": ""
            },
            "type": "mesh3d"
           }
          ],
          "parcoords": [
           {
            "line": {
             "colorbar": {
              "outlinewidth": 0,
              "ticks": ""
             }
            },
            "type": "parcoords"
           }
          ],
          "scatter": [
           {
            "marker": {
             "colorbar": {
              "outlinewidth": 0,
              "ticks": ""
             }
            },
            "type": "scatter"
           }
          ],
          "scatter3d": [
           {
            "line": {
             "colorbar": {
              "outlinewidth": 0,
              "ticks": ""
             }
            },
            "marker": {
             "colorbar": {
              "outlinewidth": 0,
              "ticks": ""
             }
            },
            "type": "scatter3d"
           }
          ],
          "scattercarpet": [
           {
            "marker": {
             "colorbar": {
              "outlinewidth": 0,
              "ticks": ""
             }
            },
            "type": "scattercarpet"
           }
          ],
          "scattergeo": [
           {
            "marker": {
             "colorbar": {
              "outlinewidth": 0,
              "ticks": ""
             }
            },
            "type": "scattergeo"
           }
          ],
          "scattergl": [
           {
            "marker": {
             "colorbar": {
              "outlinewidth": 0,
              "ticks": ""
             }
            },
            "type": "scattergl"
           }
          ],
          "scattermapbox": [
           {
            "marker": {
             "colorbar": {
              "outlinewidth": 0,
              "ticks": ""
             }
            },
            "type": "scattermapbox"
           }
          ],
          "scatterpolar": [
           {
            "marker": {
             "colorbar": {
              "outlinewidth": 0,
              "ticks": ""
             }
            },
            "type": "scatterpolar"
           }
          ],
          "scatterpolargl": [
           {
            "marker": {
             "colorbar": {
              "outlinewidth": 0,
              "ticks": ""
             }
            },
            "type": "scatterpolargl"
           }
          ],
          "scatterternary": [
           {
            "marker": {
             "colorbar": {
              "outlinewidth": 0,
              "ticks": ""
             }
            },
            "type": "scatterternary"
           }
          ],
          "surface": [
           {
            "colorbar": {
             "outlinewidth": 0,
             "ticks": ""
            },
            "colorscale": [
             [
              0,
              "#0d0887"
             ],
             [
              0.1111111111111111,
              "#46039f"
             ],
             [
              0.2222222222222222,
              "#7201a8"
             ],
             [
              0.3333333333333333,
              "#9c179e"
             ],
             [
              0.4444444444444444,
              "#bd3786"
             ],
             [
              0.5555555555555556,
              "#d8576b"
             ],
             [
              0.6666666666666666,
              "#ed7953"
             ],
             [
              0.7777777777777778,
              "#fb9f3a"
             ],
             [
              0.8888888888888888,
              "#fdca26"
             ],
             [
              1,
              "#f0f921"
             ]
            ],
            "type": "surface"
           }
          ],
          "table": [
           {
            "cells": {
             "fill": {
              "color": "#EBF0F8"
             },
             "line": {
              "color": "white"
             }
            },
            "header": {
             "fill": {
              "color": "#C8D4E3"
             },
             "line": {
              "color": "white"
             }
            },
            "type": "table"
           }
          ]
         },
         "layout": {
          "annotationdefaults": {
           "arrowcolor": "#2a3f5f",
           "arrowhead": 0,
           "arrowwidth": 1
          },
          "colorscale": {
           "diverging": [
            [
             0,
             "#8e0152"
            ],
            [
             0.1,
             "#c51b7d"
            ],
            [
             0.2,
             "#de77ae"
            ],
            [
             0.3,
             "#f1b6da"
            ],
            [
             0.4,
             "#fde0ef"
            ],
            [
             0.5,
             "#f7f7f7"
            ],
            [
             0.6,
             "#e6f5d0"
            ],
            [
             0.7,
             "#b8e186"
            ],
            [
             0.8,
             "#7fbc41"
            ],
            [
             0.9,
             "#4d9221"
            ],
            [
             1,
             "#276419"
            ]
           ],
           "sequential": [
            [
             0,
             "#0d0887"
            ],
            [
             0.1111111111111111,
             "#46039f"
            ],
            [
             0.2222222222222222,
             "#7201a8"
            ],
            [
             0.3333333333333333,
             "#9c179e"
            ],
            [
             0.4444444444444444,
             "#bd3786"
            ],
            [
             0.5555555555555556,
             "#d8576b"
            ],
            [
             0.6666666666666666,
             "#ed7953"
            ],
            [
             0.7777777777777778,
             "#fb9f3a"
            ],
            [
             0.8888888888888888,
             "#fdca26"
            ],
            [
             1,
             "#f0f921"
            ]
           ],
           "sequentialminus": [
            [
             0,
             "#0d0887"
            ],
            [
             0.1111111111111111,
             "#46039f"
            ],
            [
             0.2222222222222222,
             "#7201a8"
            ],
            [
             0.3333333333333333,
             "#9c179e"
            ],
            [
             0.4444444444444444,
             "#bd3786"
            ],
            [
             0.5555555555555556,
             "#d8576b"
            ],
            [
             0.6666666666666666,
             "#ed7953"
            ],
            [
             0.7777777777777778,
             "#fb9f3a"
            ],
            [
             0.8888888888888888,
             "#fdca26"
            ],
            [
             1,
             "#f0f921"
            ]
           ]
          },
          "colorway": [
           "#636efa",
           "#EF553B",
           "#00cc96",
           "#ab63fa",
           "#FFA15A",
           "#19d3f3",
           "#FF6692",
           "#B6E880",
           "#FF97FF",
           "#FECB52"
          ],
          "font": {
           "color": "#2a3f5f"
          },
          "geo": {
           "bgcolor": "white",
           "lakecolor": "white",
           "landcolor": "#E5ECF6",
           "showlakes": true,
           "showland": true,
           "subunitcolor": "white"
          },
          "hoverlabel": {
           "align": "left"
          },
          "hovermode": "closest",
          "mapbox": {
           "style": "light"
          },
          "paper_bgcolor": "white",
          "plot_bgcolor": "#E5ECF6",
          "polar": {
           "angularaxis": {
            "gridcolor": "white",
            "linecolor": "white",
            "ticks": ""
           },
           "bgcolor": "#E5ECF6",
           "radialaxis": {
            "gridcolor": "white",
            "linecolor": "white",
            "ticks": ""
           }
          },
          "scene": {
           "xaxis": {
            "backgroundcolor": "#E5ECF6",
            "gridcolor": "white",
            "gridwidth": 2,
            "linecolor": "white",
            "showbackground": true,
            "ticks": "",
            "zerolinecolor": "white"
           },
           "yaxis": {
            "backgroundcolor": "#E5ECF6",
            "gridcolor": "white",
            "gridwidth": 2,
            "linecolor": "white",
            "showbackground": true,
            "ticks": "",
            "zerolinecolor": "white"
           },
           "zaxis": {
            "backgroundcolor": "#E5ECF6",
            "gridcolor": "white",
            "gridwidth": 2,
            "linecolor": "white",
            "showbackground": true,
            "ticks": "",
            "zerolinecolor": "white"
           }
          },
          "shapedefaults": {
           "line": {
            "color": "#2a3f5f"
           }
          },
          "ternary": {
           "aaxis": {
            "gridcolor": "white",
            "linecolor": "white",
            "ticks": ""
           },
           "baxis": {
            "gridcolor": "white",
            "linecolor": "white",
            "ticks": ""
           },
           "bgcolor": "#E5ECF6",
           "caxis": {
            "gridcolor": "white",
            "linecolor": "white",
            "ticks": ""
           }
          },
          "title": {
           "x": 0.05
          },
          "xaxis": {
           "automargin": true,
           "gridcolor": "white",
           "linecolor": "white",
           "ticks": "",
           "zerolinecolor": "white",
           "zerolinewidth": 2
          },
          "yaxis": {
           "automargin": true,
           "gridcolor": "white",
           "linecolor": "white",
           "ticks": "",
           "zerolinecolor": "white",
           "zerolinewidth": 2
          }
         }
        },
        "width": 900,
        "xaxis": {
         "range": [
          "2020-01-17T22:48:00",
          "2020-08-04T01:12:00"
         ],
         "type": "date"
        },
        "yaxis": {
         "rangemode": "normal",
         "title": {
          "text": "trend"
         },
         "zerolinecolor": "#AAA"
        }
       }
      }
     },
     "metadata": {}
    }
   ],
   "source": [
    "plot_forecast_component_plotly(prophet, confirmed_forecast,'trend')"
   ]
  },
  {
   "cell_type": "code",
   "execution_count": 65,
   "metadata": {},
   "outputs": [],
   "source": [
    "def mape(y_true,y_pred):\n",
    "    y_true,y_pred = np.array(y_true),np.array(y_pred)\n",
    "    return np.mean(np.abs((y_true-y_pred)/y_true))*100"
   ]
  },
  {
   "cell_type": "code",
   "execution_count": 66,
   "metadata": {},
   "outputs": [
    {
     "output_type": "stream",
     "name": "stdout",
     "text": "72.3690960337705\n"
    }
   ],
   "source": [
    "mape_baseline = mape(af_cv.y,af_cv.yhat)\n",
    "print(mape_baseline)"
   ]
  },
  {
   "cell_type": "markdown",
   "metadata": {},
   "source": [
    "## Epidermology Models"
   ]
  },
  {
   "cell_type": "code",
   "execution_count": 68,
   "metadata": {},
   "outputs": [],
   "source": [
    "# Total population, N.\n",
    "N = 41265585\n",
    "# Initial number of infected and recovered individuals, I0 and R0.\n",
    "I0, R0 = 1, 0\n",
    "# Everyone else, S0, is susceptible to infection initially.\n",
    "S0 = N - I0 - R0\n",
    "# Contact rate, beta, and mean recovery rate, gamma, (in 1/days).\n",
    "beta, gamma = 0.2, 1./10 \n",
    "# A grid of time points (in days)\n",
    "t = np.linspace(0, 160, 160)"
   ]
  },
  {
   "cell_type": "code",
   "execution_count": 69,
   "metadata": {},
   "outputs": [],
   "source": [
    "# The SIR model differential equations.\n",
    "def deriv(y, t, N, beta, gamma):\n",
    "    S, I, R = y\n",
    "    dSdt = -beta * S * I / N\n",
    "    dIdt = beta * S * I / N - gamma * I\n",
    "    dRdt = gamma * I\n",
    "    return dSdt, dIdt, dRdt"
   ]
  },
  {
   "cell_type": "code",
   "execution_count": 70,
   "metadata": {},
   "outputs": [],
   "source": [
    "# Initial conditions vector\n",
    "y0 = S0, I0, R0\n",
    "# Integrate the SIR equations over the time grid, t.\n",
    "ret = odeint(deriv, y0, t, args=(N, beta, gamma))\n",
    "S, I, R = ret.T"
   ]
  },
  {
   "cell_type": "code",
   "execution_count": 72,
   "metadata": {},
   "outputs": [
    {
     "output_type": "display_data",
     "data": {
      "text/plain": "<Figure size 432x288 with 1 Axes>",
      "image/svg+xml": "<?xml version=\"1.0\" encoding=\"utf-8\" standalone=\"no\"?>\r\n<!DOCTYPE svg PUBLIC \"-//W3C//DTD SVG 1.1//EN\"\r\n  \"http://www.w3.org/Graphics/SVG/1.1/DTD/svg11.dtd\">\r\n<!-- Created with matplotlib (https://matplotlib.org/) -->\r\n<svg height=\"262.495469pt\" version=\"1.1\" viewBox=\"0 0 382.28125 262.495469\" width=\"382.28125pt\" xmlns=\"http://www.w3.org/2000/svg\" xmlns:xlink=\"http://www.w3.org/1999/xlink\">\r\n <defs>\r\n  <style type=\"text/css\">\r\n*{stroke-linecap:butt;stroke-linejoin:round;}\r\n  </style>\r\n </defs>\r\n <g id=\"figure_1\">\r\n  <g id=\"patch_1\">\r\n   <path d=\"M 0 262.495469 \r\nL 382.28125 262.495469 \r\nL 382.28125 0 \r\nL 0 0 \r\nz\r\n\" style=\"fill:#ffffff;\"/>\r\n  </g>\r\n  <g id=\"axes_1\">\r\n   <g id=\"patch_2\">\r\n    <path d=\"M 40.28125 228.439219 \r\nL 375.08125 228.439219 \r\nL 375.08125 10.999219 \r\nL 40.28125 10.999219 \r\nz\r\n\" style=\"fill:#ffffff;\"/>\r\n   </g>\r\n   <g id=\"matplotlib.axis_1\">\r\n    <g id=\"xtick_1\">\r\n     <g id=\"line2d_1\">\r\n      <path clip-path=\"url(#p4fbd96938b)\" d=\"M 55.499432 228.439219 \r\nL 55.499432 10.999219 \r\n\" style=\"fill:none;stroke:#ffffff;stroke-linecap:square;stroke-width:2;\"/>\r\n     </g>\r\n     <g id=\"line2d_2\"/>\r\n     <g id=\"text_1\">\r\n      <!-- 0 -->\r\n      <defs>\r\n       <path d=\"M 31.78125 66.40625 \r\nQ 24.171875 66.40625 20.328125 58.90625 \r\nQ 16.5 51.421875 16.5 36.375 \r\nQ 16.5 21.390625 20.328125 13.890625 \r\nQ 24.171875 6.390625 31.78125 6.390625 \r\nQ 39.453125 6.390625 43.28125 13.890625 \r\nQ 47.125 21.390625 47.125 36.375 \r\nQ 47.125 51.421875 43.28125 58.90625 \r\nQ 39.453125 66.40625 31.78125 66.40625 \r\nz\r\nM 31.78125 74.21875 \r\nQ 44.046875 74.21875 50.515625 64.515625 \r\nQ 56.984375 54.828125 56.984375 36.375 \r\nQ 56.984375 17.96875 50.515625 8.265625 \r\nQ 44.046875 -1.421875 31.78125 -1.421875 \r\nQ 19.53125 -1.421875 13.0625 8.265625 \r\nQ 6.59375 17.96875 6.59375 36.375 \r\nQ 6.59375 54.828125 13.0625 64.515625 \r\nQ 19.53125 74.21875 31.78125 74.21875 \r\nz\r\n\" id=\"DejaVuSans-48\"/>\r\n      </defs>\r\n      <g transform=\"translate(52.318182 239.537656)scale(0.1 -0.1)\">\r\n       <use xlink:href=\"#DejaVuSans-48\"/>\r\n      </g>\r\n     </g>\r\n    </g>\r\n    <g id=\"xtick_2\">\r\n     <g id=\"line2d_3\">\r\n      <path clip-path=\"url(#p4fbd96938b)\" d=\"M 93.544886 228.439219 \r\nL 93.544886 10.999219 \r\n\" style=\"fill:none;stroke:#ffffff;stroke-linecap:square;stroke-width:2;\"/>\r\n     </g>\r\n     <g id=\"line2d_4\"/>\r\n     <g id=\"text_2\">\r\n      <!-- 20 -->\r\n      <defs>\r\n       <path d=\"M 19.1875 8.296875 \r\nL 53.609375 8.296875 \r\nL 53.609375 0 \r\nL 7.328125 0 \r\nL 7.328125 8.296875 \r\nQ 12.9375 14.109375 22.625 23.890625 \r\nQ 32.328125 33.6875 34.8125 36.53125 \r\nQ 39.546875 41.84375 41.421875 45.53125 \r\nQ 43.3125 49.21875 43.3125 52.78125 \r\nQ 43.3125 58.59375 39.234375 62.25 \r\nQ 35.15625 65.921875 28.609375 65.921875 \r\nQ 23.96875 65.921875 18.8125 64.3125 \r\nQ 13.671875 62.703125 7.8125 59.421875 \r\nL 7.8125 69.390625 \r\nQ 13.765625 71.78125 18.9375 73 \r\nQ 24.125 74.21875 28.421875 74.21875 \r\nQ 39.75 74.21875 46.484375 68.546875 \r\nQ 53.21875 62.890625 53.21875 53.421875 \r\nQ 53.21875 48.921875 51.53125 44.890625 \r\nQ 49.859375 40.875 45.40625 35.40625 \r\nQ 44.1875 33.984375 37.640625 27.21875 \r\nQ 31.109375 20.453125 19.1875 8.296875 \r\nz\r\n\" id=\"DejaVuSans-50\"/>\r\n      </defs>\r\n      <g transform=\"translate(87.182386 239.537656)scale(0.1 -0.1)\">\r\n       <use xlink:href=\"#DejaVuSans-50\"/>\r\n       <use x=\"63.623047\" xlink:href=\"#DejaVuSans-48\"/>\r\n      </g>\r\n     </g>\r\n    </g>\r\n    <g id=\"xtick_3\">\r\n     <g id=\"line2d_5\">\r\n      <path clip-path=\"url(#p4fbd96938b)\" d=\"M 131.590341 228.439219 \r\nL 131.590341 10.999219 \r\n\" style=\"fill:none;stroke:#ffffff;stroke-linecap:square;stroke-width:2;\"/>\r\n     </g>\r\n     <g id=\"line2d_6\"/>\r\n     <g id=\"text_3\">\r\n      <!-- 40 -->\r\n      <defs>\r\n       <path d=\"M 37.796875 64.3125 \r\nL 12.890625 25.390625 \r\nL 37.796875 25.390625 \r\nz\r\nM 35.203125 72.90625 \r\nL 47.609375 72.90625 \r\nL 47.609375 25.390625 \r\nL 58.015625 25.390625 \r\nL 58.015625 17.1875 \r\nL 47.609375 17.1875 \r\nL 47.609375 0 \r\nL 37.796875 0 \r\nL 37.796875 17.1875 \r\nL 4.890625 17.1875 \r\nL 4.890625 26.703125 \r\nz\r\n\" id=\"DejaVuSans-52\"/>\r\n      </defs>\r\n      <g transform=\"translate(125.227841 239.537656)scale(0.1 -0.1)\">\r\n       <use xlink:href=\"#DejaVuSans-52\"/>\r\n       <use x=\"63.623047\" xlink:href=\"#DejaVuSans-48\"/>\r\n      </g>\r\n     </g>\r\n    </g>\r\n    <g id=\"xtick_4\">\r\n     <g id=\"line2d_7\">\r\n      <path clip-path=\"url(#p4fbd96938b)\" d=\"M 169.635795 228.439219 \r\nL 169.635795 10.999219 \r\n\" style=\"fill:none;stroke:#ffffff;stroke-linecap:square;stroke-width:2;\"/>\r\n     </g>\r\n     <g id=\"line2d_8\"/>\r\n     <g id=\"text_4\">\r\n      <!-- 60 -->\r\n      <defs>\r\n       <path d=\"M 33.015625 40.375 \r\nQ 26.375 40.375 22.484375 35.828125 \r\nQ 18.609375 31.296875 18.609375 23.390625 \r\nQ 18.609375 15.53125 22.484375 10.953125 \r\nQ 26.375 6.390625 33.015625 6.390625 \r\nQ 39.65625 6.390625 43.53125 10.953125 \r\nQ 47.40625 15.53125 47.40625 23.390625 \r\nQ 47.40625 31.296875 43.53125 35.828125 \r\nQ 39.65625 40.375 33.015625 40.375 \r\nz\r\nM 52.59375 71.296875 \r\nL 52.59375 62.3125 \r\nQ 48.875 64.0625 45.09375 64.984375 \r\nQ 41.3125 65.921875 37.59375 65.921875 \r\nQ 27.828125 65.921875 22.671875 59.328125 \r\nQ 17.53125 52.734375 16.796875 39.40625 \r\nQ 19.671875 43.65625 24.015625 45.921875 \r\nQ 28.375 48.1875 33.59375 48.1875 \r\nQ 44.578125 48.1875 50.953125 41.515625 \r\nQ 57.328125 34.859375 57.328125 23.390625 \r\nQ 57.328125 12.15625 50.6875 5.359375 \r\nQ 44.046875 -1.421875 33.015625 -1.421875 \r\nQ 20.359375 -1.421875 13.671875 8.265625 \r\nQ 6.984375 17.96875 6.984375 36.375 \r\nQ 6.984375 53.65625 15.1875 63.9375 \r\nQ 23.390625 74.21875 37.203125 74.21875 \r\nQ 40.921875 74.21875 44.703125 73.484375 \r\nQ 48.484375 72.75 52.59375 71.296875 \r\nz\r\n\" id=\"DejaVuSans-54\"/>\r\n      </defs>\r\n      <g transform=\"translate(163.273295 239.537656)scale(0.1 -0.1)\">\r\n       <use xlink:href=\"#DejaVuSans-54\"/>\r\n       <use x=\"63.623047\" xlink:href=\"#DejaVuSans-48\"/>\r\n      </g>\r\n     </g>\r\n    </g>\r\n    <g id=\"xtick_5\">\r\n     <g id=\"line2d_9\">\r\n      <path clip-path=\"url(#p4fbd96938b)\" d=\"M 207.68125 228.439219 \r\nL 207.68125 10.999219 \r\n\" style=\"fill:none;stroke:#ffffff;stroke-linecap:square;stroke-width:2;\"/>\r\n     </g>\r\n     <g id=\"line2d_10\"/>\r\n     <g id=\"text_5\">\r\n      <!-- 80 -->\r\n      <defs>\r\n       <path d=\"M 31.78125 34.625 \r\nQ 24.75 34.625 20.71875 30.859375 \r\nQ 16.703125 27.09375 16.703125 20.515625 \r\nQ 16.703125 13.921875 20.71875 10.15625 \r\nQ 24.75 6.390625 31.78125 6.390625 \r\nQ 38.8125 6.390625 42.859375 10.171875 \r\nQ 46.921875 13.96875 46.921875 20.515625 \r\nQ 46.921875 27.09375 42.890625 30.859375 \r\nQ 38.875 34.625 31.78125 34.625 \r\nz\r\nM 21.921875 38.8125 \r\nQ 15.578125 40.375 12.03125 44.71875 \r\nQ 8.5 49.078125 8.5 55.328125 \r\nQ 8.5 64.0625 14.71875 69.140625 \r\nQ 20.953125 74.21875 31.78125 74.21875 \r\nQ 42.671875 74.21875 48.875 69.140625 \r\nQ 55.078125 64.0625 55.078125 55.328125 \r\nQ 55.078125 49.078125 51.53125 44.71875 \r\nQ 48 40.375 41.703125 38.8125 \r\nQ 48.828125 37.15625 52.796875 32.3125 \r\nQ 56.78125 27.484375 56.78125 20.515625 \r\nQ 56.78125 9.90625 50.3125 4.234375 \r\nQ 43.84375 -1.421875 31.78125 -1.421875 \r\nQ 19.734375 -1.421875 13.25 4.234375 \r\nQ 6.78125 9.90625 6.78125 20.515625 \r\nQ 6.78125 27.484375 10.78125 32.3125 \r\nQ 14.796875 37.15625 21.921875 38.8125 \r\nz\r\nM 18.3125 54.390625 \r\nQ 18.3125 48.734375 21.84375 45.5625 \r\nQ 25.390625 42.390625 31.78125 42.390625 \r\nQ 38.140625 42.390625 41.71875 45.5625 \r\nQ 45.3125 48.734375 45.3125 54.390625 \r\nQ 45.3125 60.0625 41.71875 63.234375 \r\nQ 38.140625 66.40625 31.78125 66.40625 \r\nQ 25.390625 66.40625 21.84375 63.234375 \r\nQ 18.3125 60.0625 18.3125 54.390625 \r\nz\r\n\" id=\"DejaVuSans-56\"/>\r\n      </defs>\r\n      <g transform=\"translate(201.31875 239.537656)scale(0.1 -0.1)\">\r\n       <use xlink:href=\"#DejaVuSans-56\"/>\r\n       <use x=\"63.623047\" xlink:href=\"#DejaVuSans-48\"/>\r\n      </g>\r\n     </g>\r\n    </g>\r\n    <g id=\"xtick_6\">\r\n     <g id=\"line2d_11\">\r\n      <path clip-path=\"url(#p4fbd96938b)\" d=\"M 245.726705 228.439219 \r\nL 245.726705 10.999219 \r\n\" style=\"fill:none;stroke:#ffffff;stroke-linecap:square;stroke-width:2;\"/>\r\n     </g>\r\n     <g id=\"line2d_12\"/>\r\n     <g id=\"text_6\">\r\n      <!-- 100 -->\r\n      <defs>\r\n       <path d=\"M 12.40625 8.296875 \r\nL 28.515625 8.296875 \r\nL 28.515625 63.921875 \r\nL 10.984375 60.40625 \r\nL 10.984375 69.390625 \r\nL 28.421875 72.90625 \r\nL 38.28125 72.90625 \r\nL 38.28125 8.296875 \r\nL 54.390625 8.296875 \r\nL 54.390625 0 \r\nL 12.40625 0 \r\nz\r\n\" id=\"DejaVuSans-49\"/>\r\n      </defs>\r\n      <g transform=\"translate(236.182955 239.537656)scale(0.1 -0.1)\">\r\n       <use xlink:href=\"#DejaVuSans-49\"/>\r\n       <use x=\"63.623047\" xlink:href=\"#DejaVuSans-48\"/>\r\n       <use x=\"127.246094\" xlink:href=\"#DejaVuSans-48\"/>\r\n      </g>\r\n     </g>\r\n    </g>\r\n    <g id=\"xtick_7\">\r\n     <g id=\"line2d_13\">\r\n      <path clip-path=\"url(#p4fbd96938b)\" d=\"M 283.772159 228.439219 \r\nL 283.772159 10.999219 \r\n\" style=\"fill:none;stroke:#ffffff;stroke-linecap:square;stroke-width:2;\"/>\r\n     </g>\r\n     <g id=\"line2d_14\"/>\r\n     <g id=\"text_7\">\r\n      <!-- 120 -->\r\n      <g transform=\"translate(274.228409 239.537656)scale(0.1 -0.1)\">\r\n       <use xlink:href=\"#DejaVuSans-49\"/>\r\n       <use x=\"63.623047\" xlink:href=\"#DejaVuSans-50\"/>\r\n       <use x=\"127.246094\" xlink:href=\"#DejaVuSans-48\"/>\r\n      </g>\r\n     </g>\r\n    </g>\r\n    <g id=\"xtick_8\">\r\n     <g id=\"line2d_15\">\r\n      <path clip-path=\"url(#p4fbd96938b)\" d=\"M 321.817614 228.439219 \r\nL 321.817614 10.999219 \r\n\" style=\"fill:none;stroke:#ffffff;stroke-linecap:square;stroke-width:2;\"/>\r\n     </g>\r\n     <g id=\"line2d_16\"/>\r\n     <g id=\"text_8\">\r\n      <!-- 140 -->\r\n      <g transform=\"translate(312.273864 239.537656)scale(0.1 -0.1)\">\r\n       <use xlink:href=\"#DejaVuSans-49\"/>\r\n       <use x=\"63.623047\" xlink:href=\"#DejaVuSans-52\"/>\r\n       <use x=\"127.246094\" xlink:href=\"#DejaVuSans-48\"/>\r\n      </g>\r\n     </g>\r\n    </g>\r\n    <g id=\"xtick_9\">\r\n     <g id=\"line2d_17\">\r\n      <path clip-path=\"url(#p4fbd96938b)\" d=\"M 359.863068 228.439219 \r\nL 359.863068 10.999219 \r\n\" style=\"fill:none;stroke:#ffffff;stroke-linecap:square;stroke-width:2;\"/>\r\n     </g>\r\n     <g id=\"line2d_18\"/>\r\n     <g id=\"text_9\">\r\n      <!-- 160 -->\r\n      <g transform=\"translate(350.319318 239.537656)scale(0.1 -0.1)\">\r\n       <use xlink:href=\"#DejaVuSans-49\"/>\r\n       <use x=\"63.623047\" xlink:href=\"#DejaVuSans-54\"/>\r\n       <use x=\"127.246094\" xlink:href=\"#DejaVuSans-48\"/>\r\n      </g>\r\n     </g>\r\n    </g>\r\n    <g id=\"text_10\">\r\n     <!-- Time /days -->\r\n     <defs>\r\n      <path d=\"M -0.296875 72.90625 \r\nL 61.375 72.90625 \r\nL 61.375 64.59375 \r\nL 35.5 64.59375 \r\nL 35.5 0 \r\nL 25.59375 0 \r\nL 25.59375 64.59375 \r\nL -0.296875 64.59375 \r\nz\r\n\" id=\"DejaVuSans-84\"/>\r\n      <path d=\"M 9.421875 54.6875 \r\nL 18.40625 54.6875 \r\nL 18.40625 0 \r\nL 9.421875 0 \r\nz\r\nM 9.421875 75.984375 \r\nL 18.40625 75.984375 \r\nL 18.40625 64.59375 \r\nL 9.421875 64.59375 \r\nz\r\n\" id=\"DejaVuSans-105\"/>\r\n      <path d=\"M 52 44.1875 \r\nQ 55.375 50.25 60.0625 53.125 \r\nQ 64.75 56 71.09375 56 \r\nQ 79.640625 56 84.28125 50.015625 \r\nQ 88.921875 44.046875 88.921875 33.015625 \r\nL 88.921875 0 \r\nL 79.890625 0 \r\nL 79.890625 32.71875 \r\nQ 79.890625 40.578125 77.09375 44.375 \r\nQ 74.3125 48.1875 68.609375 48.1875 \r\nQ 61.625 48.1875 57.5625 43.546875 \r\nQ 53.515625 38.921875 53.515625 30.90625 \r\nL 53.515625 0 \r\nL 44.484375 0 \r\nL 44.484375 32.71875 \r\nQ 44.484375 40.625 41.703125 44.40625 \r\nQ 38.921875 48.1875 33.109375 48.1875 \r\nQ 26.21875 48.1875 22.15625 43.53125 \r\nQ 18.109375 38.875 18.109375 30.90625 \r\nL 18.109375 0 \r\nL 9.078125 0 \r\nL 9.078125 54.6875 \r\nL 18.109375 54.6875 \r\nL 18.109375 46.1875 \r\nQ 21.1875 51.21875 25.484375 53.609375 \r\nQ 29.78125 56 35.6875 56 \r\nQ 41.65625 56 45.828125 52.96875 \r\nQ 50 49.953125 52 44.1875 \r\nz\r\n\" id=\"DejaVuSans-109\"/>\r\n      <path d=\"M 56.203125 29.59375 \r\nL 56.203125 25.203125 \r\nL 14.890625 25.203125 \r\nQ 15.484375 15.921875 20.484375 11.0625 \r\nQ 25.484375 6.203125 34.421875 6.203125 \r\nQ 39.59375 6.203125 44.453125 7.46875 \r\nQ 49.3125 8.734375 54.109375 11.28125 \r\nL 54.109375 2.78125 \r\nQ 49.265625 0.734375 44.1875 -0.34375 \r\nQ 39.109375 -1.421875 33.890625 -1.421875 \r\nQ 20.796875 -1.421875 13.15625 6.1875 \r\nQ 5.515625 13.8125 5.515625 26.8125 \r\nQ 5.515625 40.234375 12.765625 48.109375 \r\nQ 20.015625 56 32.328125 56 \r\nQ 43.359375 56 49.78125 48.890625 \r\nQ 56.203125 41.796875 56.203125 29.59375 \r\nz\r\nM 47.21875 32.234375 \r\nQ 47.125 39.59375 43.09375 43.984375 \r\nQ 39.0625 48.390625 32.421875 48.390625 \r\nQ 24.90625 48.390625 20.390625 44.140625 \r\nQ 15.875 39.890625 15.1875 32.171875 \r\nz\r\n\" id=\"DejaVuSans-101\"/>\r\n      <path id=\"DejaVuSans-32\"/>\r\n      <path d=\"M 25.390625 72.90625 \r\nL 33.6875 72.90625 \r\nL 8.296875 -9.28125 \r\nL 0 -9.28125 \r\nz\r\n\" id=\"DejaVuSans-47\"/>\r\n      <path d=\"M 45.40625 46.390625 \r\nL 45.40625 75.984375 \r\nL 54.390625 75.984375 \r\nL 54.390625 0 \r\nL 45.40625 0 \r\nL 45.40625 8.203125 \r\nQ 42.578125 3.328125 38.25 0.953125 \r\nQ 33.9375 -1.421875 27.875 -1.421875 \r\nQ 17.96875 -1.421875 11.734375 6.484375 \r\nQ 5.515625 14.40625 5.515625 27.296875 \r\nQ 5.515625 40.1875 11.734375 48.09375 \r\nQ 17.96875 56 27.875 56 \r\nQ 33.9375 56 38.25 53.625 \r\nQ 42.578125 51.265625 45.40625 46.390625 \r\nz\r\nM 14.796875 27.296875 \r\nQ 14.796875 17.390625 18.875 11.75 \r\nQ 22.953125 6.109375 30.078125 6.109375 \r\nQ 37.203125 6.109375 41.296875 11.75 \r\nQ 45.40625 17.390625 45.40625 27.296875 \r\nQ 45.40625 37.203125 41.296875 42.84375 \r\nQ 37.203125 48.484375 30.078125 48.484375 \r\nQ 22.953125 48.484375 18.875 42.84375 \r\nQ 14.796875 37.203125 14.796875 27.296875 \r\nz\r\n\" id=\"DejaVuSans-100\"/>\r\n      <path d=\"M 34.28125 27.484375 \r\nQ 23.390625 27.484375 19.1875 25 \r\nQ 14.984375 22.515625 14.984375 16.5 \r\nQ 14.984375 11.71875 18.140625 8.90625 \r\nQ 21.296875 6.109375 26.703125 6.109375 \r\nQ 34.1875 6.109375 38.703125 11.40625 \r\nQ 43.21875 16.703125 43.21875 25.484375 \r\nL 43.21875 27.484375 \r\nz\r\nM 52.203125 31.203125 \r\nL 52.203125 0 \r\nL 43.21875 0 \r\nL 43.21875 8.296875 \r\nQ 40.140625 3.328125 35.546875 0.953125 \r\nQ 30.953125 -1.421875 24.3125 -1.421875 \r\nQ 15.921875 -1.421875 10.953125 3.296875 \r\nQ 6 8.015625 6 15.921875 \r\nQ 6 25.140625 12.171875 29.828125 \r\nQ 18.359375 34.515625 30.609375 34.515625 \r\nL 43.21875 34.515625 \r\nL 43.21875 35.40625 \r\nQ 43.21875 41.609375 39.140625 45 \r\nQ 35.0625 48.390625 27.6875 48.390625 \r\nQ 23 48.390625 18.546875 47.265625 \r\nQ 14.109375 46.140625 10.015625 43.890625 \r\nL 10.015625 52.203125 \r\nQ 14.9375 54.109375 19.578125 55.046875 \r\nQ 24.21875 56 28.609375 56 \r\nQ 40.484375 56 46.34375 49.84375 \r\nQ 52.203125 43.703125 52.203125 31.203125 \r\nz\r\n\" id=\"DejaVuSans-97\"/>\r\n      <path d=\"M 32.171875 -5.078125 \r\nQ 28.375 -14.84375 24.75 -17.8125 \r\nQ 21.140625 -20.796875 15.09375 -20.796875 \r\nL 7.90625 -20.796875 \r\nL 7.90625 -13.28125 \r\nL 13.1875 -13.28125 \r\nQ 16.890625 -13.28125 18.9375 -11.515625 \r\nQ 21 -9.765625 23.484375 -3.21875 \r\nL 25.09375 0.875 \r\nL 2.984375 54.6875 \r\nL 12.5 54.6875 \r\nL 29.59375 11.921875 \r\nL 46.6875 54.6875 \r\nL 56.203125 54.6875 \r\nz\r\n\" id=\"DejaVuSans-121\"/>\r\n      <path d=\"M 44.28125 53.078125 \r\nL 44.28125 44.578125 \r\nQ 40.484375 46.53125 36.375 47.5 \r\nQ 32.28125 48.484375 27.875 48.484375 \r\nQ 21.1875 48.484375 17.84375 46.4375 \r\nQ 14.5 44.390625 14.5 40.28125 \r\nQ 14.5 37.15625 16.890625 35.375 \r\nQ 19.28125 33.59375 26.515625 31.984375 \r\nL 29.59375 31.296875 \r\nQ 39.15625 29.25 43.1875 25.515625 \r\nQ 47.21875 21.78125 47.21875 15.09375 \r\nQ 47.21875 7.46875 41.1875 3.015625 \r\nQ 35.15625 -1.421875 24.609375 -1.421875 \r\nQ 20.21875 -1.421875 15.453125 -0.5625 \r\nQ 10.6875 0.296875 5.421875 2 \r\nL 5.421875 11.28125 \r\nQ 10.40625 8.6875 15.234375 7.390625 \r\nQ 20.0625 6.109375 24.8125 6.109375 \r\nQ 31.15625 6.109375 34.5625 8.28125 \r\nQ 37.984375 10.453125 37.984375 14.40625 \r\nQ 37.984375 18.0625 35.515625 20.015625 \r\nQ 33.0625 21.96875 24.703125 23.78125 \r\nL 21.578125 24.515625 \r\nQ 13.234375 26.265625 9.515625 29.90625 \r\nQ 5.8125 33.546875 5.8125 39.890625 \r\nQ 5.8125 47.609375 11.28125 51.796875 \r\nQ 16.75 56 26.8125 56 \r\nQ 31.78125 56 36.171875 55.265625 \r\nQ 40.578125 54.546875 44.28125 53.078125 \r\nz\r\n\" id=\"DejaVuSans-115\"/>\r\n     </defs>\r\n     <g transform=\"translate(180.217969 253.215781)scale(0.1 -0.1)\">\r\n      <use xlink:href=\"#DejaVuSans-84\"/>\r\n      <use x=\"61.037109\" xlink:href=\"#DejaVuSans-105\"/>\r\n      <use x=\"88.820312\" xlink:href=\"#DejaVuSans-109\"/>\r\n      <use x=\"186.232422\" xlink:href=\"#DejaVuSans-101\"/>\r\n      <use x=\"247.755859\" xlink:href=\"#DejaVuSans-32\"/>\r\n      <use x=\"279.542969\" xlink:href=\"#DejaVuSans-47\"/>\r\n      <use x=\"313.234375\" xlink:href=\"#DejaVuSans-100\"/>\r\n      <use x=\"376.710938\" xlink:href=\"#DejaVuSans-97\"/>\r\n      <use x=\"437.990234\" xlink:href=\"#DejaVuSans-121\"/>\r\n      <use x=\"497.169922\" xlink:href=\"#DejaVuSans-115\"/>\r\n     </g>\r\n    </g>\r\n   </g>\r\n   <g id=\"matplotlib.axis_2\">\r\n    <g id=\"ytick_1\">\r\n     <g id=\"line2d_19\">\r\n      <path clip-path=\"url(#p4fbd96938b)\" d=\"M 40.28125 228.439219 \r\nL 375.08125 228.439219 \r\n\" style=\"fill:none;stroke:#ffffff;stroke-linecap:square;stroke-width:2;\"/>\r\n     </g>\r\n     <g id=\"line2d_20\"/>\r\n     <g id=\"text_11\">\r\n      <!-- 0.0 -->\r\n      <defs>\r\n       <path d=\"M 10.6875 12.40625 \r\nL 21 12.40625 \r\nL 21 0 \r\nL 10.6875 0 \r\nz\r\n\" id=\"DejaVuSans-46\"/>\r\n      </defs>\r\n      <g transform=\"translate(20.878125 232.238438)scale(0.1 -0.1)\">\r\n       <use xlink:href=\"#DejaVuSans-48\"/>\r\n       <use x=\"63.623047\" xlink:href=\"#DejaVuSans-46\"/>\r\n       <use x=\"95.410156\" xlink:href=\"#DejaVuSans-48\"/>\r\n      </g>\r\n     </g>\r\n    </g>\r\n    <g id=\"ytick_2\">\r\n     <g id=\"line2d_21\">\r\n      <path clip-path=\"url(#p4fbd96938b)\" d=\"M 40.28125 192.199219 \r\nL 375.08125 192.199219 \r\n\" style=\"fill:none;stroke:#ffffff;stroke-linecap:square;stroke-width:2;\"/>\r\n     </g>\r\n     <g id=\"line2d_22\"/>\r\n     <g id=\"text_12\">\r\n      <!-- 0.2 -->\r\n      <g transform=\"translate(20.878125 195.998438)scale(0.1 -0.1)\">\r\n       <use xlink:href=\"#DejaVuSans-48\"/>\r\n       <use x=\"63.623047\" xlink:href=\"#DejaVuSans-46\"/>\r\n       <use x=\"95.410156\" xlink:href=\"#DejaVuSans-50\"/>\r\n      </g>\r\n     </g>\r\n    </g>\r\n    <g id=\"ytick_3\">\r\n     <g id=\"line2d_23\">\r\n      <path clip-path=\"url(#p4fbd96938b)\" d=\"M 40.28125 155.959219 \r\nL 375.08125 155.959219 \r\n\" style=\"fill:none;stroke:#ffffff;stroke-linecap:square;stroke-width:2;\"/>\r\n     </g>\r\n     <g id=\"line2d_24\"/>\r\n     <g id=\"text_13\">\r\n      <!-- 0.4 -->\r\n      <g transform=\"translate(20.878125 159.758438)scale(0.1 -0.1)\">\r\n       <use xlink:href=\"#DejaVuSans-48\"/>\r\n       <use x=\"63.623047\" xlink:href=\"#DejaVuSans-46\"/>\r\n       <use x=\"95.410156\" xlink:href=\"#DejaVuSans-52\"/>\r\n      </g>\r\n     </g>\r\n    </g>\r\n    <g id=\"ytick_4\">\r\n     <g id=\"line2d_25\">\r\n      <path clip-path=\"url(#p4fbd96938b)\" d=\"M 40.28125 119.719219 \r\nL 375.08125 119.719219 \r\n\" style=\"fill:none;stroke:#ffffff;stroke-linecap:square;stroke-width:2;\"/>\r\n     </g>\r\n     <g id=\"line2d_26\"/>\r\n     <g id=\"text_14\">\r\n      <!-- 0.6 -->\r\n      <g transform=\"translate(20.878125 123.518438)scale(0.1 -0.1)\">\r\n       <use xlink:href=\"#DejaVuSans-48\"/>\r\n       <use x=\"63.623047\" xlink:href=\"#DejaVuSans-46\"/>\r\n       <use x=\"95.410156\" xlink:href=\"#DejaVuSans-54\"/>\r\n      </g>\r\n     </g>\r\n    </g>\r\n    <g id=\"ytick_5\">\r\n     <g id=\"line2d_27\">\r\n      <path clip-path=\"url(#p4fbd96938b)\" d=\"M 40.28125 83.479219 \r\nL 375.08125 83.479219 \r\n\" style=\"fill:none;stroke:#ffffff;stroke-linecap:square;stroke-width:2;\"/>\r\n     </g>\r\n     <g id=\"line2d_28\"/>\r\n     <g id=\"text_15\">\r\n      <!-- 0.8 -->\r\n      <g transform=\"translate(20.878125 87.278438)scale(0.1 -0.1)\">\r\n       <use xlink:href=\"#DejaVuSans-48\"/>\r\n       <use x=\"63.623047\" xlink:href=\"#DejaVuSans-46\"/>\r\n       <use x=\"95.410156\" xlink:href=\"#DejaVuSans-56\"/>\r\n      </g>\r\n     </g>\r\n    </g>\r\n    <g id=\"ytick_6\">\r\n     <g id=\"line2d_29\">\r\n      <path clip-path=\"url(#p4fbd96938b)\" d=\"M 40.28125 47.239219 \r\nL 375.08125 47.239219 \r\n\" style=\"fill:none;stroke:#ffffff;stroke-linecap:square;stroke-width:2;\"/>\r\n     </g>\r\n     <g id=\"line2d_30\"/>\r\n     <g id=\"text_16\">\r\n      <!-- 1.0 -->\r\n      <g transform=\"translate(20.878125 51.038438)scale(0.1 -0.1)\">\r\n       <use xlink:href=\"#DejaVuSans-49\"/>\r\n       <use x=\"63.623047\" xlink:href=\"#DejaVuSans-46\"/>\r\n       <use x=\"95.410156\" xlink:href=\"#DejaVuSans-48\"/>\r\n      </g>\r\n     </g>\r\n    </g>\r\n    <g id=\"ytick_7\">\r\n     <g id=\"line2d_31\">\r\n      <path clip-path=\"url(#p4fbd96938b)\" d=\"M 40.28125 10.999219 \r\nL 375.08125 10.999219 \r\n\" style=\"fill:none;stroke:#ffffff;stroke-linecap:square;stroke-width:2;\"/>\r\n     </g>\r\n     <g id=\"line2d_32\"/>\r\n     <g id=\"text_17\">\r\n      <!-- 1.2 -->\r\n      <g transform=\"translate(20.878125 14.798437)scale(0.1 -0.1)\">\r\n       <use xlink:href=\"#DejaVuSans-49\"/>\r\n       <use x=\"63.623047\" xlink:href=\"#DejaVuSans-46\"/>\r\n       <use x=\"95.410156\" xlink:href=\"#DejaVuSans-50\"/>\r\n      </g>\r\n     </g>\r\n    </g>\r\n    <g id=\"text_18\">\r\n     <!-- Number (1000s) -->\r\n     <defs>\r\n      <path d=\"M 9.8125 72.90625 \r\nL 23.09375 72.90625 \r\nL 55.421875 11.921875 \r\nL 55.421875 72.90625 \r\nL 64.984375 72.90625 \r\nL 64.984375 0 \r\nL 51.703125 0 \r\nL 19.390625 60.984375 \r\nL 19.390625 0 \r\nL 9.8125 0 \r\nz\r\n\" id=\"DejaVuSans-78\"/>\r\n      <path d=\"M 8.5 21.578125 \r\nL 8.5 54.6875 \r\nL 17.484375 54.6875 \r\nL 17.484375 21.921875 \r\nQ 17.484375 14.15625 20.5 10.265625 \r\nQ 23.53125 6.390625 29.59375 6.390625 \r\nQ 36.859375 6.390625 41.078125 11.03125 \r\nQ 45.3125 15.671875 45.3125 23.6875 \r\nL 45.3125 54.6875 \r\nL 54.296875 54.6875 \r\nL 54.296875 0 \r\nL 45.3125 0 \r\nL 45.3125 8.40625 \r\nQ 42.046875 3.421875 37.71875 1 \r\nQ 33.40625 -1.421875 27.6875 -1.421875 \r\nQ 18.265625 -1.421875 13.375 4.4375 \r\nQ 8.5 10.296875 8.5 21.578125 \r\nz\r\nM 31.109375 56 \r\nz\r\n\" id=\"DejaVuSans-117\"/>\r\n      <path d=\"M 48.6875 27.296875 \r\nQ 48.6875 37.203125 44.609375 42.84375 \r\nQ 40.53125 48.484375 33.40625 48.484375 \r\nQ 26.265625 48.484375 22.1875 42.84375 \r\nQ 18.109375 37.203125 18.109375 27.296875 \r\nQ 18.109375 17.390625 22.1875 11.75 \r\nQ 26.265625 6.109375 33.40625 6.109375 \r\nQ 40.53125 6.109375 44.609375 11.75 \r\nQ 48.6875 17.390625 48.6875 27.296875 \r\nz\r\nM 18.109375 46.390625 \r\nQ 20.953125 51.265625 25.265625 53.625 \r\nQ 29.59375 56 35.59375 56 \r\nQ 45.5625 56 51.78125 48.09375 \r\nQ 58.015625 40.1875 58.015625 27.296875 \r\nQ 58.015625 14.40625 51.78125 6.484375 \r\nQ 45.5625 -1.421875 35.59375 -1.421875 \r\nQ 29.59375 -1.421875 25.265625 0.953125 \r\nQ 20.953125 3.328125 18.109375 8.203125 \r\nL 18.109375 0 \r\nL 9.078125 0 \r\nL 9.078125 75.984375 \r\nL 18.109375 75.984375 \r\nz\r\n\" id=\"DejaVuSans-98\"/>\r\n      <path d=\"M 41.109375 46.296875 \r\nQ 39.59375 47.171875 37.8125 47.578125 \r\nQ 36.03125 48 33.890625 48 \r\nQ 26.265625 48 22.1875 43.046875 \r\nQ 18.109375 38.09375 18.109375 28.8125 \r\nL 18.109375 0 \r\nL 9.078125 0 \r\nL 9.078125 54.6875 \r\nL 18.109375 54.6875 \r\nL 18.109375 46.1875 \r\nQ 20.953125 51.171875 25.484375 53.578125 \r\nQ 30.03125 56 36.53125 56 \r\nQ 37.453125 56 38.578125 55.875 \r\nQ 39.703125 55.765625 41.0625 55.515625 \r\nz\r\n\" id=\"DejaVuSans-114\"/>\r\n      <path d=\"M 31 75.875 \r\nQ 24.46875 64.65625 21.28125 53.65625 \r\nQ 18.109375 42.671875 18.109375 31.390625 \r\nQ 18.109375 20.125 21.3125 9.0625 \r\nQ 24.515625 -2 31 -13.1875 \r\nL 23.1875 -13.1875 \r\nQ 15.875 -1.703125 12.234375 9.375 \r\nQ 8.59375 20.453125 8.59375 31.390625 \r\nQ 8.59375 42.28125 12.203125 53.3125 \r\nQ 15.828125 64.359375 23.1875 75.875 \r\nz\r\n\" id=\"DejaVuSans-40\"/>\r\n      <path d=\"M 8.015625 75.875 \r\nL 15.828125 75.875 \r\nQ 23.140625 64.359375 26.78125 53.3125 \r\nQ 30.421875 42.28125 30.421875 31.390625 \r\nQ 30.421875 20.453125 26.78125 9.375 \r\nQ 23.140625 -1.703125 15.828125 -13.1875 \r\nL 8.015625 -13.1875 \r\nQ 14.5 -2 17.703125 9.0625 \r\nQ 20.90625 20.125 20.90625 31.390625 \r\nQ 20.90625 42.671875 17.703125 53.65625 \r\nQ 14.5 64.65625 8.015625 75.875 \r\nz\r\n\" id=\"DejaVuSans-41\"/>\r\n     </defs>\r\n     <g transform=\"translate(14.798438 160.625469)rotate(-90)scale(0.1 -0.1)\">\r\n      <use xlink:href=\"#DejaVuSans-78\"/>\r\n      <use x=\"74.804688\" xlink:href=\"#DejaVuSans-117\"/>\r\n      <use x=\"138.183594\" xlink:href=\"#DejaVuSans-109\"/>\r\n      <use x=\"235.595703\" xlink:href=\"#DejaVuSans-98\"/>\r\n      <use x=\"299.072266\" xlink:href=\"#DejaVuSans-101\"/>\r\n      <use x=\"360.595703\" xlink:href=\"#DejaVuSans-114\"/>\r\n      <use x=\"401.708984\" xlink:href=\"#DejaVuSans-32\"/>\r\n      <use x=\"433.496094\" xlink:href=\"#DejaVuSans-40\"/>\r\n      <use x=\"472.509766\" xlink:href=\"#DejaVuSans-49\"/>\r\n      <use x=\"536.132812\" xlink:href=\"#DejaVuSans-48\"/>\r\n      <use x=\"599.755859\" xlink:href=\"#DejaVuSans-48\"/>\r\n      <use x=\"663.378906\" xlink:href=\"#DejaVuSans-48\"/>\r\n      <use x=\"727.001953\" xlink:href=\"#DejaVuSans-115\"/>\r\n      <use x=\"779.101562\" xlink:href=\"#DejaVuSans-41\"/>\r\n     </g>\r\n    </g>\r\n   </g>\r\n   <g id=\"line2d_33\">\r\n    <path clip-path=\"url(#p4fbd96938b)\" d=\"M 0 0 \r\n\" style=\"fill:none;stroke:#0000ff;stroke-linecap:square;stroke-opacity:0.5;stroke-width:2;\"/>\r\n   </g>\r\n   <g id=\"line2d_34\">\r\n    <path clip-path=\"url(#p4fbd96938b)\" d=\"M 55.499432 228.258019 \r\nL 72.727562 227.991009 \r\nL 84.212982 227.619439 \r\nL 93.784166 227.083375 \r\nL 101.441113 226.411443 \r\nL 107.183823 225.696839 \r\nL 112.926533 224.730404 \r\nL 116.755006 223.903563 \r\nL 120.58348 222.892386 \r\nL 124.411953 221.655779 \r\nL 128.240427 220.143485 \r\nL 132.0689 218.294043 \r\nL 135.897373 216.032292 \r\nL 137.81161 214.718827 \r\nL 139.725847 213.266313 \r\nL 141.640084 211.660029 \r\nL 143.55432 209.883697 \r\nL 145.468557 207.919316 \r\nL 147.382794 205.746978 \r\nL 149.29703 203.344668 \r\nL 151.211267 200.688043 \r\nL 153.125504 197.750179 \r\nL 155.039741 194.501305 \r\nL 156.953977 190.908499 \r\nL 158.868214 186.935351 \r\nL 160.782451 182.541602 \r\nL 162.696687 177.682726 \r\nL 164.610924 172.30949 \r\nL 166.525161 166.367445 \r\nL 168.439398 159.796382 \r\nL 170.353634 152.529719 \r\nL 172.267871 144.493828 \r\nL 174.182108 135.607289 \r\nL 176.096344 125.780063 \r\nL 178.010581 114.912586 \r\nL 179.924818 102.894758 \r\nL 181.839054 89.604827 \r\nL 183.753291 74.908162 \r\nL 185.667528 58.655886 \r\nL 187.581765 40.683372 \r\nL 189.496001 20.808578 \r\nL 191.39545 -1 \r\nL 191.39545 -1 \r\n\" style=\"fill:none;stroke:#ff0000;stroke-linecap:square;stroke-opacity:0.5;stroke-width:2;\"/>\r\n   </g>\r\n   <g id=\"line2d_35\">\r\n    <path clip-path=\"url(#p4fbd96938b)\" d=\"M 55.499432 228.439219 \r\nL 72.727562 228.172209 \r\nL 84.212982 227.800639 \r\nL 93.784166 227.264574 \r\nL 101.441113 226.592642 \r\nL 107.183823 225.878037 \r\nL 112.926533 224.911601 \r\nL 116.755006 224.084757 \r\nL 120.58348 223.073578 \r\nL 124.411953 221.836967 \r\nL 128.240427 220.324667 \r\nL 132.0689 218.475216 \r\nL 135.897373 216.213451 \r\nL 137.81161 214.899977 \r\nL 139.725847 213.447452 \r\nL 141.640084 211.841155 \r\nL 143.55432 210.064806 \r\nL 145.468557 208.100404 \r\nL 147.382794 205.928041 \r\nL 149.29703 203.525701 \r\nL 151.211267 200.869038 \r\nL 153.125504 197.931128 \r\nL 155.039741 194.682199 \r\nL 156.953977 191.089324 \r\nL 158.868214 187.116093 \r\nL 160.782451 182.72224 \r\nL 162.696687 177.86324 \r\nL 164.610924 172.48985 \r\nL 166.525161 166.547617 \r\nL 168.439398 159.976325 \r\nL 170.353634 152.709382 \r\nL 172.267871 144.673148 \r\nL 174.182108 135.786188 \r\nL 176.096344 125.958449 \r\nL 178.010581 115.090344 \r\nL 179.924818 103.071748 \r\nL 181.839054 89.780878 \r\nL 183.753291 75.083064 \r\nL 185.667528 58.829383 \r\nL 187.581765 40.855151 \r\nL 189.496001 20.978256 \r\nL 191.410004 -1 \r\nL 191.410004 -1 \r\n\" style=\"fill:none;stroke:#008000;stroke-linecap:square;stroke-opacity:0.5;stroke-width:2;\"/>\r\n   </g>\r\n   <g id=\"legend_1\">\r\n    <g id=\"patch_3\">\r\n     <path d=\"M 207.565625 63.033594 \r\nL 368.08125 63.033594 \r\nQ 370.08125 63.033594 370.08125 61.033594 \r\nL 370.08125 17.999219 \r\nQ 370.08125 15.999219 368.08125 15.999219 \r\nL 207.565625 15.999219 \r\nQ 205.565625 15.999219 205.565625 17.999219 \r\nL 205.565625 61.033594 \r\nQ 205.565625 63.033594 207.565625 63.033594 \r\nz\r\n\" style=\"fill:#ffffff;opacity:0.5;stroke:#cccccc;stroke-linejoin:miter;\"/>\r\n    </g>\r\n    <g id=\"line2d_36\">\r\n     <path d=\"M 209.565625 24.097656 \r\nL 229.565625 24.097656 \r\n\" style=\"fill:none;stroke:#0000ff;stroke-linecap:square;stroke-opacity:0.5;stroke-width:2;\"/>\r\n    </g>\r\n    <g id=\"line2d_37\"/>\r\n    <g id=\"text_19\">\r\n     <!-- Susceptible -->\r\n     <defs>\r\n      <path d=\"M 53.515625 70.515625 \r\nL 53.515625 60.890625 \r\nQ 47.90625 63.578125 42.921875 64.890625 \r\nQ 37.9375 66.21875 33.296875 66.21875 \r\nQ 25.25 66.21875 20.875 63.09375 \r\nQ 16.5 59.96875 16.5 54.203125 \r\nQ 16.5 49.359375 19.40625 46.890625 \r\nQ 22.3125 44.4375 30.421875 42.921875 \r\nL 36.375 41.703125 \r\nQ 47.40625 39.59375 52.65625 34.296875 \r\nQ 57.90625 29 57.90625 20.125 \r\nQ 57.90625 9.515625 50.796875 4.046875 \r\nQ 43.703125 -1.421875 29.984375 -1.421875 \r\nQ 24.8125 -1.421875 18.96875 -0.25 \r\nQ 13.140625 0.921875 6.890625 3.21875 \r\nL 6.890625 13.375 \r\nQ 12.890625 10.015625 18.65625 8.296875 \r\nQ 24.421875 6.59375 29.984375 6.59375 \r\nQ 38.421875 6.59375 43.015625 9.90625 \r\nQ 47.609375 13.234375 47.609375 19.390625 \r\nQ 47.609375 24.75 44.3125 27.78125 \r\nQ 41.015625 30.8125 33.5 32.328125 \r\nL 27.484375 33.5 \r\nQ 16.453125 35.6875 11.515625 40.375 \r\nQ 6.59375 45.0625 6.59375 53.421875 \r\nQ 6.59375 63.09375 13.40625 68.65625 \r\nQ 20.21875 74.21875 32.171875 74.21875 \r\nQ 37.3125 74.21875 42.625 73.28125 \r\nQ 47.953125 72.359375 53.515625 70.515625 \r\nz\r\n\" id=\"DejaVuSans-83\"/>\r\n      <path d=\"M 48.78125 52.59375 \r\nL 48.78125 44.1875 \r\nQ 44.96875 46.296875 41.140625 47.34375 \r\nQ 37.3125 48.390625 33.40625 48.390625 \r\nQ 24.65625 48.390625 19.8125 42.84375 \r\nQ 14.984375 37.3125 14.984375 27.296875 \r\nQ 14.984375 17.28125 19.8125 11.734375 \r\nQ 24.65625 6.203125 33.40625 6.203125 \r\nQ 37.3125 6.203125 41.140625 7.25 \r\nQ 44.96875 8.296875 48.78125 10.40625 \r\nL 48.78125 2.09375 \r\nQ 45.015625 0.34375 40.984375 -0.53125 \r\nQ 36.96875 -1.421875 32.421875 -1.421875 \r\nQ 20.0625 -1.421875 12.78125 6.34375 \r\nQ 5.515625 14.109375 5.515625 27.296875 \r\nQ 5.515625 40.671875 12.859375 48.328125 \r\nQ 20.21875 56 33.015625 56 \r\nQ 37.15625 56 41.109375 55.140625 \r\nQ 45.0625 54.296875 48.78125 52.59375 \r\nz\r\n\" id=\"DejaVuSans-99\"/>\r\n      <path d=\"M 18.109375 8.203125 \r\nL 18.109375 -20.796875 \r\nL 9.078125 -20.796875 \r\nL 9.078125 54.6875 \r\nL 18.109375 54.6875 \r\nL 18.109375 46.390625 \r\nQ 20.953125 51.265625 25.265625 53.625 \r\nQ 29.59375 56 35.59375 56 \r\nQ 45.5625 56 51.78125 48.09375 \r\nQ 58.015625 40.1875 58.015625 27.296875 \r\nQ 58.015625 14.40625 51.78125 6.484375 \r\nQ 45.5625 -1.421875 35.59375 -1.421875 \r\nQ 29.59375 -1.421875 25.265625 0.953125 \r\nQ 20.953125 3.328125 18.109375 8.203125 \r\nz\r\nM 48.6875 27.296875 \r\nQ 48.6875 37.203125 44.609375 42.84375 \r\nQ 40.53125 48.484375 33.40625 48.484375 \r\nQ 26.265625 48.484375 22.1875 42.84375 \r\nQ 18.109375 37.203125 18.109375 27.296875 \r\nQ 18.109375 17.390625 22.1875 11.75 \r\nQ 26.265625 6.109375 33.40625 6.109375 \r\nQ 40.53125 6.109375 44.609375 11.75 \r\nQ 48.6875 17.390625 48.6875 27.296875 \r\nz\r\n\" id=\"DejaVuSans-112\"/>\r\n      <path d=\"M 18.3125 70.21875 \r\nL 18.3125 54.6875 \r\nL 36.8125 54.6875 \r\nL 36.8125 47.703125 \r\nL 18.3125 47.703125 \r\nL 18.3125 18.015625 \r\nQ 18.3125 11.328125 20.140625 9.421875 \r\nQ 21.96875 7.515625 27.59375 7.515625 \r\nL 36.8125 7.515625 \r\nL 36.8125 0 \r\nL 27.59375 0 \r\nQ 17.1875 0 13.234375 3.875 \r\nQ 9.28125 7.765625 9.28125 18.015625 \r\nL 9.28125 47.703125 \r\nL 2.6875 47.703125 \r\nL 2.6875 54.6875 \r\nL 9.28125 54.6875 \r\nL 9.28125 70.21875 \r\nz\r\n\" id=\"DejaVuSans-116\"/>\r\n      <path d=\"M 9.421875 75.984375 \r\nL 18.40625 75.984375 \r\nL 18.40625 0 \r\nL 9.421875 0 \r\nz\r\n\" id=\"DejaVuSans-108\"/>\r\n     </defs>\r\n     <g transform=\"translate(237.565625 27.597656)scale(0.1 -0.1)\">\r\n      <use xlink:href=\"#DejaVuSans-83\"/>\r\n      <use x=\"63.476562\" xlink:href=\"#DejaVuSans-117\"/>\r\n      <use x=\"126.855469\" xlink:href=\"#DejaVuSans-115\"/>\r\n      <use x=\"178.955078\" xlink:href=\"#DejaVuSans-99\"/>\r\n      <use x=\"233.935547\" xlink:href=\"#DejaVuSans-101\"/>\r\n      <use x=\"295.458984\" xlink:href=\"#DejaVuSans-112\"/>\r\n      <use x=\"358.935547\" xlink:href=\"#DejaVuSans-116\"/>\r\n      <use x=\"398.144531\" xlink:href=\"#DejaVuSans-105\"/>\r\n      <use x=\"425.927734\" xlink:href=\"#DejaVuSans-98\"/>\r\n      <use x=\"489.404297\" xlink:href=\"#DejaVuSans-108\"/>\r\n      <use x=\"517.1875\" xlink:href=\"#DejaVuSans-101\"/>\r\n     </g>\r\n    </g>\r\n    <g id=\"line2d_38\">\r\n     <path d=\"M 209.565625 38.775781 \r\nL 229.565625 38.775781 \r\n\" style=\"fill:none;stroke:#ff0000;stroke-linecap:square;stroke-opacity:0.5;stroke-width:2;\"/>\r\n    </g>\r\n    <g id=\"line2d_39\"/>\r\n    <g id=\"text_20\">\r\n     <!-- Infected -->\r\n     <defs>\r\n      <path d=\"M 9.8125 72.90625 \r\nL 19.671875 72.90625 \r\nL 19.671875 0 \r\nL 9.8125 0 \r\nz\r\n\" id=\"DejaVuSans-73\"/>\r\n      <path d=\"M 54.890625 33.015625 \r\nL 54.890625 0 \r\nL 45.90625 0 \r\nL 45.90625 32.71875 \r\nQ 45.90625 40.484375 42.875 44.328125 \r\nQ 39.84375 48.1875 33.796875 48.1875 \r\nQ 26.515625 48.1875 22.3125 43.546875 \r\nQ 18.109375 38.921875 18.109375 30.90625 \r\nL 18.109375 0 \r\nL 9.078125 0 \r\nL 9.078125 54.6875 \r\nL 18.109375 54.6875 \r\nL 18.109375 46.1875 \r\nQ 21.34375 51.125 25.703125 53.5625 \r\nQ 30.078125 56 35.796875 56 \r\nQ 45.21875 56 50.046875 50.171875 \r\nQ 54.890625 44.34375 54.890625 33.015625 \r\nz\r\n\" id=\"DejaVuSans-110\"/>\r\n      <path d=\"M 37.109375 75.984375 \r\nL 37.109375 68.5 \r\nL 28.515625 68.5 \r\nQ 23.6875 68.5 21.796875 66.546875 \r\nQ 19.921875 64.59375 19.921875 59.515625 \r\nL 19.921875 54.6875 \r\nL 34.71875 54.6875 \r\nL 34.71875 47.703125 \r\nL 19.921875 47.703125 \r\nL 19.921875 0 \r\nL 10.890625 0 \r\nL 10.890625 47.703125 \r\nL 2.296875 47.703125 \r\nL 2.296875 54.6875 \r\nL 10.890625 54.6875 \r\nL 10.890625 58.5 \r\nQ 10.890625 67.625 15.140625 71.796875 \r\nQ 19.390625 75.984375 28.609375 75.984375 \r\nz\r\n\" id=\"DejaVuSans-102\"/>\r\n     </defs>\r\n     <g transform=\"translate(237.565625 42.275781)scale(0.1 -0.1)\">\r\n      <use xlink:href=\"#DejaVuSans-73\"/>\r\n      <use x=\"29.492188\" xlink:href=\"#DejaVuSans-110\"/>\r\n      <use x=\"92.871094\" xlink:href=\"#DejaVuSans-102\"/>\r\n      <use x=\"128.076172\" xlink:href=\"#DejaVuSans-101\"/>\r\n      <use x=\"189.599609\" xlink:href=\"#DejaVuSans-99\"/>\r\n      <use x=\"244.580078\" xlink:href=\"#DejaVuSans-116\"/>\r\n      <use x=\"283.789062\" xlink:href=\"#DejaVuSans-101\"/>\r\n      <use x=\"345.3125\" xlink:href=\"#DejaVuSans-100\"/>\r\n     </g>\r\n    </g>\r\n    <g id=\"line2d_40\">\r\n     <path d=\"M 209.565625 53.453906 \r\nL 229.565625 53.453906 \r\n\" style=\"fill:none;stroke:#008000;stroke-linecap:square;stroke-opacity:0.5;stroke-width:2;\"/>\r\n    </g>\r\n    <g id=\"line2d_41\"/>\r\n    <g id=\"text_21\">\r\n     <!-- Recovered with immunity -->\r\n     <defs>\r\n      <path d=\"M 44.390625 34.1875 \r\nQ 47.5625 33.109375 50.5625 29.59375 \r\nQ 53.5625 26.078125 56.59375 19.921875 \r\nL 66.609375 0 \r\nL 56 0 \r\nL 46.6875 18.703125 \r\nQ 43.0625 26.03125 39.671875 28.421875 \r\nQ 36.28125 30.8125 30.421875 30.8125 \r\nL 19.671875 30.8125 \r\nL 19.671875 0 \r\nL 9.8125 0 \r\nL 9.8125 72.90625 \r\nL 32.078125 72.90625 \r\nQ 44.578125 72.90625 50.734375 67.671875 \r\nQ 56.890625 62.453125 56.890625 51.90625 \r\nQ 56.890625 45.015625 53.6875 40.46875 \r\nQ 50.484375 35.9375 44.390625 34.1875 \r\nz\r\nM 19.671875 64.796875 \r\nL 19.671875 38.921875 \r\nL 32.078125 38.921875 \r\nQ 39.203125 38.921875 42.84375 42.21875 \r\nQ 46.484375 45.515625 46.484375 51.90625 \r\nQ 46.484375 58.296875 42.84375 61.546875 \r\nQ 39.203125 64.796875 32.078125 64.796875 \r\nz\r\n\" id=\"DejaVuSans-82\"/>\r\n      <path d=\"M 30.609375 48.390625 \r\nQ 23.390625 48.390625 19.1875 42.75 \r\nQ 14.984375 37.109375 14.984375 27.296875 \r\nQ 14.984375 17.484375 19.15625 11.84375 \r\nQ 23.34375 6.203125 30.609375 6.203125 \r\nQ 37.796875 6.203125 41.984375 11.859375 \r\nQ 46.1875 17.53125 46.1875 27.296875 \r\nQ 46.1875 37.015625 41.984375 42.703125 \r\nQ 37.796875 48.390625 30.609375 48.390625 \r\nz\r\nM 30.609375 56 \r\nQ 42.328125 56 49.015625 48.375 \r\nQ 55.71875 40.765625 55.71875 27.296875 \r\nQ 55.71875 13.875 49.015625 6.21875 \r\nQ 42.328125 -1.421875 30.609375 -1.421875 \r\nQ 18.84375 -1.421875 12.171875 6.21875 \r\nQ 5.515625 13.875 5.515625 27.296875 \r\nQ 5.515625 40.765625 12.171875 48.375 \r\nQ 18.84375 56 30.609375 56 \r\nz\r\n\" id=\"DejaVuSans-111\"/>\r\n      <path d=\"M 2.984375 54.6875 \r\nL 12.5 54.6875 \r\nL 29.59375 8.796875 \r\nL 46.6875 54.6875 \r\nL 56.203125 54.6875 \r\nL 35.6875 0 \r\nL 23.484375 0 \r\nz\r\n\" id=\"DejaVuSans-118\"/>\r\n      <path d=\"M 4.203125 54.6875 \r\nL 13.1875 54.6875 \r\nL 24.421875 12.015625 \r\nL 35.59375 54.6875 \r\nL 46.1875 54.6875 \r\nL 57.421875 12.015625 \r\nL 68.609375 54.6875 \r\nL 77.59375 54.6875 \r\nL 63.28125 0 \r\nL 52.6875 0 \r\nL 40.921875 44.828125 \r\nL 29.109375 0 \r\nL 18.5 0 \r\nz\r\n\" id=\"DejaVuSans-119\"/>\r\n      <path d=\"M 54.890625 33.015625 \r\nL 54.890625 0 \r\nL 45.90625 0 \r\nL 45.90625 32.71875 \r\nQ 45.90625 40.484375 42.875 44.328125 \r\nQ 39.84375 48.1875 33.796875 48.1875 \r\nQ 26.515625 48.1875 22.3125 43.546875 \r\nQ 18.109375 38.921875 18.109375 30.90625 \r\nL 18.109375 0 \r\nL 9.078125 0 \r\nL 9.078125 75.984375 \r\nL 18.109375 75.984375 \r\nL 18.109375 46.1875 \r\nQ 21.34375 51.125 25.703125 53.5625 \r\nQ 30.078125 56 35.796875 56 \r\nQ 45.21875 56 50.046875 50.171875 \r\nQ 54.890625 44.34375 54.890625 33.015625 \r\nz\r\n\" id=\"DejaVuSans-104\"/>\r\n     </defs>\r\n     <g transform=\"translate(237.565625 56.953906)scale(0.1 -0.1)\">\r\n      <use xlink:href=\"#DejaVuSans-82\"/>\r\n      <use x=\"69.419922\" xlink:href=\"#DejaVuSans-101\"/>\r\n      <use x=\"130.943359\" xlink:href=\"#DejaVuSans-99\"/>\r\n      <use x=\"185.923828\" xlink:href=\"#DejaVuSans-111\"/>\r\n      <use x=\"247.105469\" xlink:href=\"#DejaVuSans-118\"/>\r\n      <use x=\"306.285156\" xlink:href=\"#DejaVuSans-101\"/>\r\n      <use x=\"367.808594\" xlink:href=\"#DejaVuSans-114\"/>\r\n      <use x=\"408.890625\" xlink:href=\"#DejaVuSans-101\"/>\r\n      <use x=\"470.414062\" xlink:href=\"#DejaVuSans-100\"/>\r\n      <use x=\"533.890625\" xlink:href=\"#DejaVuSans-32\"/>\r\n      <use x=\"565.677734\" xlink:href=\"#DejaVuSans-119\"/>\r\n      <use x=\"647.464844\" xlink:href=\"#DejaVuSans-105\"/>\r\n      <use x=\"675.248047\" xlink:href=\"#DejaVuSans-116\"/>\r\n      <use x=\"714.457031\" xlink:href=\"#DejaVuSans-104\"/>\r\n      <use x=\"777.835938\" xlink:href=\"#DejaVuSans-32\"/>\r\n      <use x=\"809.623047\" xlink:href=\"#DejaVuSans-105\"/>\r\n      <use x=\"837.40625\" xlink:href=\"#DejaVuSans-109\"/>\r\n      <use x=\"934.818359\" xlink:href=\"#DejaVuSans-109\"/>\r\n      <use x=\"1032.230469\" xlink:href=\"#DejaVuSans-117\"/>\r\n      <use x=\"1095.609375\" xlink:href=\"#DejaVuSans-110\"/>\r\n      <use x=\"1158.988281\" xlink:href=\"#DejaVuSans-105\"/>\r\n      <use x=\"1186.771484\" xlink:href=\"#DejaVuSans-116\"/>\r\n      <use x=\"1225.980469\" xlink:href=\"#DejaVuSans-121\"/>\r\n     </g>\r\n    </g>\r\n   </g>\r\n  </g>\r\n </g>\r\n <defs>\r\n  <clipPath id=\"p4fbd96938b\">\r\n   <rect height=\"217.44\" width=\"334.8\" x=\"40.28125\" y=\"10.999219\"/>\r\n  </clipPath>\r\n </defs>\r\n</svg>\r\n",
      "image/png": "[encoded data removed]"
     },
     "metadata": {}
    }
   ],
   "source": [
    "# Plot the data on three separate curves for S(t), I(t) and R(t)\n",
    "fig = plt.figure(facecolor='w')\n",
    "ax = fig.add_subplot(111,  axisbelow=True)\n",
    "ax.plot(t, S/1000, 'b', alpha=0.5, lw=2, label='Susceptible')\n",
    "ax.plot(t, I/1000, 'r', alpha=0.5, lw=2, label='Infected')\n",
    "ax.plot(t, R/1000, 'g', alpha=0.5, lw=2, label='Recovered with immunity')\n",
    "ax.set_xlabel('Time /days')\n",
    "ax.set_ylabel('Number (1000s)')\n",
    "ax.set_ylim(0,1.2)\n",
    "ax.yaxis.set_tick_params(length=0)\n",
    "ax.xaxis.set_tick_params(length=0)\n",
    "ax.grid(b=True, which='major', c='w', lw=2, ls='-')\n",
    "legend = ax.legend()\n",
    "legend.get_frame().set_alpha(0.5)\n",
    "for spine in ('top', 'right', 'bottom', 'left'):\n",
    "    ax.spines[spine].set_visible(False)\n",
    "plt.show()"
   ]
  },
  {
   "cell_type": "code",
   "execution_count": null,
   "metadata": {},
   "outputs": [],
   "source": []
  }
 ]
}