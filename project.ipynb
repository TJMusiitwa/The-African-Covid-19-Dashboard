{
 "nbformat": 4,
 "nbformat_minor": 2,
 "metadata": {
  "language_info": {
   "name": "python",
   "codemirror_mode": {
    "name": "ipython",
    "version": 3
   },
   "version": "3.7.3-final"
  },
  "orig_nbformat": 2,
  "file_extension": ".py",
  "mimetype": "text/x-python",
  "name": "python",
  "npconvert_exporter": "python",
  "pygments_lexer": "ipython3",
  "version": 3,
  "kernelspec": {
   "name": "python37364bitgloriavirtualenva74d9bd000af41f6b62be7a6f2a88412",
   "display_name": "Python 3.7.3 64-bit ('Gloria': virtualenv)"
  }
 },
 "cells": [
  {
   "cell_type": "code",
   "execution_count": 27,
   "metadata": {},
   "outputs": [],
   "source": [
    "import COVID19Py\n",
    "import pandas as pd\n",
    "from pandas.io.json import json_normalize"
   ]
  },
  {
   "cell_type": "code",
   "execution_count": 2,
   "metadata": {},
   "outputs": [],
   "source": [
    "covid = COVID19Py.COVID19()"
   ]
  },
  {
   "cell_type": "code",
   "execution_count": 2,
   "metadata": {},
   "outputs": [],
   "source": [
    "latest = covid.getLatest()"
   ]
  },
  {
   "cell_type": "code",
   "execution_count": 100,
   "metadata": {},
   "outputs": [],
   "source": [
    "ug_location = covid.getLocationByCountryCode(\"UG\")"
   ]
  },
  {
   "cell_type": "code",
   "execution_count": 101,
   "metadata": {},
   "outputs": [
    {
     "output_type": "execute_result",
     "data": {
      "text/plain": "[{'id': 214,\n  'country': 'Uganda',\n  'country_code': 'UG',\n  'country_population': 33398682,\n  'province': '',\n  'last_updated': '2020-04-06T16:25:48.571781Z',\n  'coordinates': {'latitude': '1.0', 'longitude': '32.0'},\n  'latest': {'confirmed': 52, 'deaths': 0, 'recovered': 0}}]"
     },
     "metadata": {},
     "execution_count": 101
    }
   ],
   "source": [
    "ug_location"
   ]
  },
  {
   "cell_type": "code",
   "execution_count": 83,
   "metadata": {},
   "outputs": [],
   "source": [
    "ug_frame = pd.DataFrame.from_dict(ug_location)"
   ]
  },
  {
   "cell_type": "code",
   "execution_count": 84,
   "metadata": {},
   "outputs": [
    {
     "output_type": "execute_result",
     "data": {
      "text/plain": "                                coordinates country country_code  \\\n0  {'latitude': '1.0', 'longitude': '32.0'}  Uganda           UG   \n\n   country_population   id                 last_updated  \\\n0            33398682  214  2020-04-06T15:25:42.468263Z   \n\n                                           latest province  \\\n0  {'confirmed': 52, 'deaths': 0, 'recovered': 0}            \n\n                                           timelines  \n0  {'confirmed': {'latest': 52, 'timeline': {'202...  ",
      "text/html": "<div>\n<style scoped>\n    .dataframe tbody tr th:only-of-type {\n        vertical-align: middle;\n    }\n\n    .dataframe tbody tr th {\n        vertical-align: top;\n    }\n\n    .dataframe thead th {\n        text-align: right;\n    }\n</style>\n<table border=\"1\" class=\"dataframe\">\n  <thead>\n    <tr style=\"text-align: right;\">\n      <th></th>\n      <th>coordinates</th>\n      <th>country</th>\n      <th>country_code</th>\n      <th>country_population</th>\n      <th>id</th>\n      <th>last_updated</th>\n      <th>latest</th>\n      <th>province</th>\n      <th>timelines</th>\n    </tr>\n  </thead>\n  <tbody>\n    <tr>\n      <th>0</th>\n      <td>{'latitude': '1.0', 'longitude': '32.0'}</td>\n      <td>Uganda</td>\n      <td>UG</td>\n      <td>33398682</td>\n      <td>214</td>\n      <td>2020-04-06T15:25:42.468263Z</td>\n      <td>{'confirmed': 52, 'deaths': 0, 'recovered': 0}</td>\n      <td></td>\n      <td>{'confirmed': {'latest': 52, 'timeline': {'202...</td>\n    </tr>\n  </tbody>\n</table>\n</div>"
     },
     "metadata": {},
     "execution_count": 84
    }
   ],
   "source": [
    "ug_frame.head()"
   ]
  },
  {
   "cell_type": "code",
   "execution_count": 85,
   "metadata": {},
   "outputs": [
    {
     "output_type": "execute_result",
     "data": {
      "text/plain": "  latitude longitude\n0      1.0      32.0",
      "text/html": "<div>\n<style scoped>\n    .dataframe tbody tr th:only-of-type {\n        vertical-align: middle;\n    }\n\n    .dataframe tbody tr th {\n        vertical-align: top;\n    }\n\n    .dataframe thead th {\n        text-align: right;\n    }\n</style>\n<table border=\"1\" class=\"dataframe\">\n  <thead>\n    <tr style=\"text-align: right;\">\n      <th></th>\n      <th>latitude</th>\n      <th>longitude</th>\n    </tr>\n  </thead>\n  <tbody>\n    <tr>\n      <th>0</th>\n      <td>1.0</td>\n      <td>32.0</td>\n    </tr>\n  </tbody>\n</table>\n</div>"
     },
     "metadata": {},
     "execution_count": 85
    }
   ],
   "source": [
    "ug_frame['coordinates'].apply(pd.Series)"
   ]
  },
  {
   "cell_type": "code",
   "execution_count": 86,
   "metadata": {},
   "outputs": [
    {
     "output_type": "execute_result",
     "data": {
      "text/plain": "   confirmed  deaths  recovered\n0         52       0          0",
      "text/html": "<div>\n<style scoped>\n    .dataframe tbody tr th:only-of-type {\n        vertical-align: middle;\n    }\n\n    .dataframe tbody tr th {\n        vertical-align: top;\n    }\n\n    .dataframe thead th {\n        text-align: right;\n    }\n</style>\n<table border=\"1\" class=\"dataframe\">\n  <thead>\n    <tr style=\"text-align: right;\">\n      <th></th>\n      <th>confirmed</th>\n      <th>deaths</th>\n      <th>recovered</th>\n    </tr>\n  </thead>\n  <tbody>\n    <tr>\n      <th>0</th>\n      <td>52</td>\n      <td>0</td>\n      <td>0</td>\n    </tr>\n  </tbody>\n</table>\n</div>"
     },
     "metadata": {},
     "execution_count": 86
    }
   ],
   "source": [
    "ug_frame['latest'].apply(pd.Series)"
   ]
  },
  {
   "cell_type": "code",
   "execution_count": 93,
   "metadata": {},
   "outputs": [
    {
     "output_type": "execute_result",
     "data": {
      "text/plain": "                                           confirmed  \\\n0  {'latest': 52, 'timeline': {'2020-01-22T00:00:...   \n\n                                              deaths  \\\n0  {'latest': 0, 'timeline': {'2020-01-22T00:00:0...   \n\n                       recovered  \n0  {'latest': 0, 'timeline': {}}  ",
      "text/html": "<div>\n<style scoped>\n    .dataframe tbody tr th:only-of-type {\n        vertical-align: middle;\n    }\n\n    .dataframe tbody tr th {\n        vertical-align: top;\n    }\n\n    .dataframe thead th {\n        text-align: right;\n    }\n</style>\n<table border=\"1\" class=\"dataframe\">\n  <thead>\n    <tr style=\"text-align: right;\">\n      <th></th>\n      <th>confirmed</th>\n      <th>deaths</th>\n      <th>recovered</th>\n    </tr>\n  </thead>\n  <tbody>\n    <tr>\n      <th>0</th>\n      <td>{'latest': 52, 'timeline': {'2020-01-22T00:00:...</td>\n      <td>{'latest': 0, 'timeline': {'2020-01-22T00:00:0...</td>\n      <td>{'latest': 0, 'timeline': {}}</td>\n    </tr>\n  </tbody>\n</table>\n</div>"
     },
     "metadata": {},
     "execution_count": 93
    }
   ],
   "source": [
    "ug_frame['timelines'].apply(pd.Series)"
   ]
  },
  {
   "cell_type": "code",
   "execution_count": 57,
   "metadata": {},
   "outputs": [],
   "source": [
    "ug_frame = pd.concat([ug_frame.drop(['coordinates'], axis=1), ug_frame['coordinates'].apply(pd.Series)], axis=1)\n",
    ""
   ]
  },
  {
   "cell_type": "code",
   "execution_count": 58,
   "metadata": {},
   "outputs": [],
   "source": [
    "ug_frame=pd.concat([ug_frame.drop(['latest'], axis=1), ug_frame['latest'].apply(pd.Series)], axis=1)"
   ]
  },
  {
   "cell_type": "code",
   "execution_count": 59,
   "metadata": {},
   "outputs": [
    {
     "output_type": "execute_result",
     "data": {
      "text/plain": "  country country_code  country_population   id                 last_updated  \\\n0  Uganda           UG            33398682  214  2020-04-06T15:25:42.468263Z   \n\n  province latitude longitude  confirmed  deaths  recovered  \n0               1.0      32.0         52       0          0  ",
      "text/html": "<div>\n<style scoped>\n    .dataframe tbody tr th:only-of-type {\n        vertical-align: middle;\n    }\n\n    .dataframe tbody tr th {\n        vertical-align: top;\n    }\n\n    .dataframe thead th {\n        text-align: right;\n    }\n</style>\n<table border=\"1\" class=\"dataframe\">\n  <thead>\n    <tr style=\"text-align: right;\">\n      <th></th>\n      <th>country</th>\n      <th>country_code</th>\n      <th>country_population</th>\n      <th>id</th>\n      <th>last_updated</th>\n      <th>province</th>\n      <th>latitude</th>\n      <th>longitude</th>\n      <th>confirmed</th>\n      <th>deaths</th>\n      <th>recovered</th>\n    </tr>\n  </thead>\n  <tbody>\n    <tr>\n      <th>0</th>\n      <td>Uganda</td>\n      <td>UG</td>\n      <td>33398682</td>\n      <td>214</td>\n      <td>2020-04-06T15:25:42.468263Z</td>\n      <td></td>\n      <td>1.0</td>\n      <td>32.0</td>\n      <td>52</td>\n      <td>0</td>\n      <td>0</td>\n    </tr>\n  </tbody>\n</table>\n</div>"
     },
     "metadata": {},
     "execution_count": 59
    }
   ],
   "source": [
    "ug_frame.head()"
   ]
  },
  {
   "cell_type": "code",
   "execution_count": 102,
   "metadata": {},
   "outputs": [],
   "source": [
    "african_codes = ['DZ',\n",
    "'AO',\n",
    "'BJ',\n",
    "'BW',\n",
    "'BF',\n",
    "'BI',\n",
    "'CM',\n",
    "'CV',\n",
    "'CF',\n",
    "'TD',\n",
    "'CG',\n",
    "'CD',\n",
    "'DJ',\n",
    "'EG',\n",
    "'GQ',\n",
    "'ER',\n",
    "'SZ',\n",
    "'ET',\n",
    "'GA',\n",
    "'GM',\n",
    "'GH',\n",
    "'GN',\n",
    "'GW',\n",
    "'CI',\n",
    "'KE',\n",
    "'LR',\n",
    "'LY',\n",
    "'MG',\n",
    "'MW',\n",
    "'ML',\n",
    "'MR',\n",
    "'MU',\n",
    "'MA',\n",
    "'MZ',\n",
    "'NA',\n",
    "'NE',\n",
    "'NG',\n",
    "'RW',\n",
    "'SN',\n",
    "'SC',\n",
    "'SL',\n",
    "'SO',\n",
    "'ZA',\n",
    "'SD',\n",
    "'TZ',\n",
    "'TG',\n",
    "'TN',\n",
    "'UG',\n",
    "'ZM',\n",
    "'ZW',\n",
    "]"
   ]
  },
  {
   "cell_type": "code",
   "execution_count": 103,
   "metadata": {},
   "outputs": [],
   "source": [
    "african_list = []\n",
    "def get_african(cd):\n",
    "        country = covid.getLocationByCountryCode(cd)\n",
    "        african_list.append(country)\n",
    "        #return pd.DataFrame.from_dict(cd)   "
   ]
  },
  {
   "cell_type": "code",
   "execution_count": 104,
   "metadata": {},
   "outputs": [],
   "source": [
    "for code in african_codes:\n",
    "    df = get_african(code)"
   ]
  },
  {
   "cell_type": "code",
   "execution_count": 114,
   "metadata": {},
   "outputs": [
    {
     "output_type": "execute_result",
     "data": {
      "text/plain": "[{'id': 24,\n  'country': 'Benin',\n  'country_code': 'BJ',\n  'country_population': 9056010,\n  'province': '',\n  'last_updated': '2020-04-06T16:25:47.942297Z',\n  'coordinates': {'latitude': '9.3077', 'longitude': '2.3158'},\n  'latest': {'confirmed': 22, 'deaths': 0, 'recovered': 0}}]"
     },
     "metadata": {},
     "execution_count": 114
    }
   ],
   "source": [
    "african_list[2]"
   ]
  },
  {
   "cell_type": "code",
   "execution_count": 123,
   "metadata": {},
   "outputs": [],
   "source": [
    "df= pd.DataFrame(african_list)"
   ]
  },
  {
   "cell_type": "code",
   "execution_count": 124,
   "metadata": {},
   "outputs": [],
   "source": [
    "df = df[0].apply(pd.Series)"
   ]
  },
  {
   "cell_type": "code",
   "execution_count": 125,
   "metadata": {},
   "outputs": [],
   "source": [
    "df = pd.concat([df.drop(['coordinates'], axis=1), df['coordinates'].apply(pd.Series)], axis=1)"
   ]
  },
  {
   "cell_type": "code",
   "execution_count": 126,
   "metadata": {},
   "outputs": [],
   "source": [
    "df=pd.concat([df.drop(['latest'], axis=1), df['latest'].apply(pd.Series)], axis=1)"
   ]
  },
  {
   "cell_type": "code",
   "execution_count": 127,
   "metadata": {},
   "outputs": [
    {
     "output_type": "execute_result",
     "data": {
      "text/plain": "    id       country country_code  country_population province  \\\n0    2       Algeria           DZ            34586184            \n1    4        Angola           AO            13068161            \n2   24         Benin           BJ             9056010            \n3  253      Botswana           BW             2029307            \n4   31  Burkina Faso           BF            16241811            \n\n                  last_updated  latitude longitude  confirmed  deaths  \\\n0  2020-04-06T16:25:47.875432Z   28.0339    1.6596       1320     152   \n1  2020-04-06T16:25:50.869099Z  -11.2027   17.8739         14       2   \n2  2020-04-06T16:25:47.942297Z    9.3077    2.3158         22       0   \n3  2020-04-06T16:25:48.713391Z  -22.3285   24.6849          6       1   \n4  2020-04-06T16:25:50.963441Z   12.2383   -1.5616        345      17   \n\n   recovered  \n0          0  \n1          0  \n2          0  \n3          0  \n4          0  ",
      "text/html": "<div>\n<style scoped>\n    .dataframe tbody tr th:only-of-type {\n        vertical-align: middle;\n    }\n\n    .dataframe tbody tr th {\n        vertical-align: top;\n    }\n\n    .dataframe thead th {\n        text-align: right;\n    }\n</style>\n<table border=\"1\" class=\"dataframe\">\n  <thead>\n    <tr style=\"text-align: right;\">\n      <th></th>\n      <th>id</th>\n      <th>country</th>\n      <th>country_code</th>\n      <th>country_population</th>\n      <th>province</th>\n      <th>last_updated</th>\n      <th>latitude</th>\n      <th>longitude</th>\n      <th>confirmed</th>\n      <th>deaths</th>\n      <th>recovered</th>\n    </tr>\n  </thead>\n  <tbody>\n    <tr>\n      <th>0</th>\n      <td>2</td>\n      <td>Algeria</td>\n      <td>DZ</td>\n      <td>34586184</td>\n      <td></td>\n      <td>2020-04-06T16:25:47.875432Z</td>\n      <td>28.0339</td>\n      <td>1.6596</td>\n      <td>1320</td>\n      <td>152</td>\n      <td>0</td>\n    </tr>\n    <tr>\n      <th>1</th>\n      <td>4</td>\n      <td>Angola</td>\n      <td>AO</td>\n      <td>13068161</td>\n      <td></td>\n      <td>2020-04-06T16:25:50.869099Z</td>\n      <td>-11.2027</td>\n      <td>17.8739</td>\n      <td>14</td>\n      <td>2</td>\n      <td>0</td>\n    </tr>\n    <tr>\n      <th>2</th>\n      <td>24</td>\n      <td>Benin</td>\n      <td>BJ</td>\n      <td>9056010</td>\n      <td></td>\n      <td>2020-04-06T16:25:47.942297Z</td>\n      <td>9.3077</td>\n      <td>2.3158</td>\n      <td>22</td>\n      <td>0</td>\n      <td>0</td>\n    </tr>\n    <tr>\n      <th>3</th>\n      <td>253</td>\n      <td>Botswana</td>\n      <td>BW</td>\n      <td>2029307</td>\n      <td></td>\n      <td>2020-04-06T16:25:48.713391Z</td>\n      <td>-22.3285</td>\n      <td>24.6849</td>\n      <td>6</td>\n      <td>1</td>\n      <td>0</td>\n    </tr>\n    <tr>\n      <th>4</th>\n      <td>31</td>\n      <td>Burkina Faso</td>\n      <td>BF</td>\n      <td>16241811</td>\n      <td></td>\n      <td>2020-04-06T16:25:50.963441Z</td>\n      <td>12.2383</td>\n      <td>-1.5616</td>\n      <td>345</td>\n      <td>17</td>\n      <td>0</td>\n    </tr>\n  </tbody>\n</table>\n</div>"
     },
     "metadata": {},
     "execution_count": 127
    }
   ],
   "source": [
    "df.head()"
   ]
  },
  {
   "cell_type": "code",
   "execution_count": 130,
   "metadata": {},
   "outputs": [],
   "source": [
    "df['last_updated'] = pd.to_datetime(df['last_updated'])"
   ]
  },
  {
   "cell_type": "code",
   "execution_count": 131,
   "metadata": {},
   "outputs": [
    {
     "output_type": "stream",
     "name": "stdout",
     "text": "<class 'pandas.core.frame.DataFrame'>\nRangeIndex: 50 entries, 0 to 49\nData columns (total 11 columns):\nid                    50 non-null int64\ncountry               50 non-null object\ncountry_code          50 non-null object\ncountry_population    50 non-null int64\nprovince              50 non-null object\nlast_updated          50 non-null datetime64[ns, UTC]\nlatitude              50 non-null object\nlongitude             50 non-null object\nconfirmed             50 non-null int64\ndeaths                50 non-null int64\nrecovered             50 non-null int64\ndtypes: datetime64[ns, UTC](1), int64(5), object(5)\nmemory usage: 4.4+ KB\n"
    }
   ],
   "source": [
    "df.info()"
   ]
  },
  {
   "cell_type": "code",
   "execution_count": 132,
   "metadata": {},
   "outputs": [
    {
     "output_type": "execute_result",
     "data": {
      "text/plain": "    id       country country_code  country_population province  \\\n0    2       Algeria           DZ            34586184            \n1    4        Angola           AO            13068161            \n2   24         Benin           BJ             9056010            \n3  253      Botswana           BW             2029307            \n4   31  Burkina Faso           BF            16241811            \n\n                      last_updated  latitude longitude  confirmed  deaths  \\\n0 2020-04-06 16:25:47.875432+00:00   28.0339    1.6596       1320     152   \n1 2020-04-06 16:25:50.869099+00:00  -11.2027   17.8739         14       2   \n2 2020-04-06 16:25:47.942297+00:00    9.3077    2.3158         22       0   \n3 2020-04-06 16:25:48.713391+00:00  -22.3285   24.6849          6       1   \n4 2020-04-06 16:25:50.963441+00:00   12.2383   -1.5616        345      17   \n\n   recovered  \n0          0  \n1          0  \n2          0  \n3          0  \n4          0  ",
      "text/html": "<div>\n<style scoped>\n    .dataframe tbody tr th:only-of-type {\n        vertical-align: middle;\n    }\n\n    .dataframe tbody tr th {\n        vertical-align: top;\n    }\n\n    .dataframe thead th {\n        text-align: right;\n    }\n</style>\n<table border=\"1\" class=\"dataframe\">\n  <thead>\n    <tr style=\"text-align: right;\">\n      <th></th>\n      <th>id</th>\n      <th>country</th>\n      <th>country_code</th>\n      <th>country_population</th>\n      <th>province</th>\n      <th>last_updated</th>\n      <th>latitude</th>\n      <th>longitude</th>\n      <th>confirmed</th>\n      <th>deaths</th>\n      <th>recovered</th>\n    </tr>\n  </thead>\n  <tbody>\n    <tr>\n      <th>0</th>\n      <td>2</td>\n      <td>Algeria</td>\n      <td>DZ</td>\n      <td>34586184</td>\n      <td></td>\n      <td>2020-04-06 16:25:47.875432+00:00</td>\n      <td>28.0339</td>\n      <td>1.6596</td>\n      <td>1320</td>\n      <td>152</td>\n      <td>0</td>\n    </tr>\n    <tr>\n      <th>1</th>\n      <td>4</td>\n      <td>Angola</td>\n      <td>AO</td>\n      <td>13068161</td>\n      <td></td>\n      <td>2020-04-06 16:25:50.869099+00:00</td>\n      <td>-11.2027</td>\n      <td>17.8739</td>\n      <td>14</td>\n      <td>2</td>\n      <td>0</td>\n    </tr>\n    <tr>\n      <th>2</th>\n      <td>24</td>\n      <td>Benin</td>\n      <td>BJ</td>\n      <td>9056010</td>\n      <td></td>\n      <td>2020-04-06 16:25:47.942297+00:00</td>\n      <td>9.3077</td>\n      <td>2.3158</td>\n      <td>22</td>\n      <td>0</td>\n      <td>0</td>\n    </tr>\n    <tr>\n      <th>3</th>\n      <td>253</td>\n      <td>Botswana</td>\n      <td>BW</td>\n      <td>2029307</td>\n      <td></td>\n      <td>2020-04-06 16:25:48.713391+00:00</td>\n      <td>-22.3285</td>\n      <td>24.6849</td>\n      <td>6</td>\n      <td>1</td>\n      <td>0</td>\n    </tr>\n    <tr>\n      <th>4</th>\n      <td>31</td>\n      <td>Burkina Faso</td>\n      <td>BF</td>\n      <td>16241811</td>\n      <td></td>\n      <td>2020-04-06 16:25:50.963441+00:00</td>\n      <td>12.2383</td>\n      <td>-1.5616</td>\n      <td>345</td>\n      <td>17</td>\n      <td>0</td>\n    </tr>\n  </tbody>\n</table>\n</div>"
     },
     "metadata": {},
     "execution_count": 132
    }
   ],
   "source": [
    "df.head()"
   ]
  },
  {
   "cell_type": "code",
   "execution_count": 133,
   "metadata": {},
   "outputs": [
    {
     "output_type": "execute_result",
     "data": {
      "text/plain": "               id  country_population    confirmed      deaths  recovered\ncount   50.000000        5.000000e+01    50.000000   50.000000       50.0\nmean   148.800000        2.017742e+07   185.940000    8.880000        0.0\nstd     74.476678        2.786546e+07   362.509868   25.459564        0.0\nmin      2.000000        8.834000e+04     3.000000    0.000000        0.0\n25%     98.500000        3.325064e+06    10.000000    0.000000        0.0\n50%    156.500000        1.082250e+07    34.000000    1.000000        0.0\n75%    209.500000        2.186655e+07   176.500000    5.000000        0.0\nmax    257.000000        1.540000e+08  1655.000000  152.000000        0.0",
      "text/html": "<div>\n<style scoped>\n    .dataframe tbody tr th:only-of-type {\n        vertical-align: middle;\n    }\n\n    .dataframe tbody tr th {\n        vertical-align: top;\n    }\n\n    .dataframe thead th {\n        text-align: right;\n    }\n</style>\n<table border=\"1\" class=\"dataframe\">\n  <thead>\n    <tr style=\"text-align: right;\">\n      <th></th>\n      <th>id</th>\n      <th>country_population</th>\n      <th>confirmed</th>\n      <th>deaths</th>\n      <th>recovered</th>\n    </tr>\n  </thead>\n  <tbody>\n    <tr>\n      <th>count</th>\n      <td>50.000000</td>\n      <td>5.000000e+01</td>\n      <td>50.000000</td>\n      <td>50.000000</td>\n      <td>50.0</td>\n    </tr>\n    <tr>\n      <th>mean</th>\n      <td>148.800000</td>\n      <td>2.017742e+07</td>\n      <td>185.940000</td>\n      <td>8.880000</td>\n      <td>0.0</td>\n    </tr>\n    <tr>\n      <th>std</th>\n      <td>74.476678</td>\n      <td>2.786546e+07</td>\n      <td>362.509868</td>\n      <td>25.459564</td>\n      <td>0.0</td>\n    </tr>\n    <tr>\n      <th>min</th>\n      <td>2.000000</td>\n      <td>8.834000e+04</td>\n      <td>3.000000</td>\n      <td>0.000000</td>\n      <td>0.0</td>\n    </tr>\n    <tr>\n      <th>25%</th>\n      <td>98.500000</td>\n      <td>3.325064e+06</td>\n      <td>10.000000</td>\n      <td>0.000000</td>\n      <td>0.0</td>\n    </tr>\n    <tr>\n      <th>50%</th>\n      <td>156.500000</td>\n      <td>1.082250e+07</td>\n      <td>34.000000</td>\n      <td>1.000000</td>\n      <td>0.0</td>\n    </tr>\n    <tr>\n      <th>75%</th>\n      <td>209.500000</td>\n      <td>2.186655e+07</td>\n      <td>176.500000</td>\n      <td>5.000000</td>\n      <td>0.0</td>\n    </tr>\n    <tr>\n      <th>max</th>\n      <td>257.000000</td>\n      <td>1.540000e+08</td>\n      <td>1655.000000</td>\n      <td>152.000000</td>\n      <td>0.0</td>\n    </tr>\n  </tbody>\n</table>\n</div>"
     },
     "metadata": {},
     "execution_count": 133
    }
   ],
   "source": [
    "df.describe()"
   ]
  },
  {
   "cell_type": "code",
   "execution_count": 135,
   "metadata": {},
   "outputs": [
    {
     "output_type": "execute_result",
     "data": {
      "text/plain": "'11.11%'"
     },
     "metadata": {},
     "execution_count": 135
    }
   ],
   "source": [
    "# African fatality rate\n",
    "'{:.2f}%'.format(100 *\n",
    "                df[df['last_updated'] == df['last_updated'].iloc[-1]]['deaths'].sum() /\n",
    "                df[df['last_updated'] == df['last_updated'].iloc[-1]]['confirmed'].sum())"
   ]
  },
  {
   "cell_type": "code",
   "execution_count": 136,
   "metadata": {},
   "outputs": [
    {
     "output_type": "execute_result",
     "data": {
      "text/plain": "1"
     },
     "metadata": {},
     "execution_count": 136
    }
   ],
   "source": [
    "# deaths\n",
    "df[df['last_updated'] == df['last_updated'].iloc[-1]]['deaths'].sum()"
   ]
  },
  {
   "cell_type": "code",
   "execution_count": 137,
   "metadata": {},
   "outputs": [
    {
     "output_type": "execute_result",
     "data": {
      "text/plain": "0"
     },
     "metadata": {},
     "execution_count": 137
    }
   ],
   "source": [
    "# recovered\n",
    "df[df['last_updated'] == df['last_updated'].iloc[-1]]['recovered'].sum()"
   ]
  },
  {
   "cell_type": "code",
   "execution_count": 138,
   "metadata": {},
   "outputs": [
    {
     "output_type": "execute_result",
     "data": {
      "text/plain": "9"
     },
     "metadata": {},
     "execution_count": 138
    }
   ],
   "source": [
    "df[df['last_updated'] == df['last_updated'].iloc[-1]]['confirmed'].sum()"
   ]
  },
  {
   "cell_type": "code",
   "execution_count": null,
   "metadata": {},
   "outputs": [],
   "source": []
  }
 ]
}